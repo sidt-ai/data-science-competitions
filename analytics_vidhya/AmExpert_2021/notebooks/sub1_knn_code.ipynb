{
  "nbformat": 4,
  "nbformat_minor": 0,
  "metadata": {
    "colab": {
      "name": "AmExpert2021.ipynb",
      "provenance": []
    },
    "kernelspec": {
      "name": "python3",
      "display_name": "Python 3"
    },
    "language_info": {
      "name": "python"
    }
  },
  "cells": [
    {
      "cell_type": "code",
      "metadata": {
        "id": "vwgtmvR0d_S1"
      },
      "source": [
        "train_url = 'https://github.com/sidt-ai/AV_hackathons/blob/main/AmExpert_2021/train.csv?raw=true'\n",
        "test_url = 'https://raw.githubusercontent.com/sidt-ai/AV_hackathons/main/AmExpert_2021/test.csv'\n",
        "submission_url = 'https://raw.githubusercontent.com/sidt-ai/AV_hackathons/main/AmExpert_2021/sample_submission.csv'"
      ],
      "execution_count": 1,
      "outputs": []
    },
    {
      "cell_type": "code",
      "metadata": {
        "id": "SQaxCrFKsam1"
      },
      "source": [
        "SEED = 2311"
      ],
      "execution_count": 2,
      "outputs": []
    },
    {
      "cell_type": "code",
      "metadata": {
        "id": "VynhfIQRg5iF"
      },
      "source": [
        "import time\n",
        "\n",
        "import pandas as pd\n",
        "import numpy as np\n",
        "\n",
        "from sklearn.model_selection import StratifiedKFold\n",
        "from sklearn.model_selection import train_test_split\n",
        "\n",
        "from sklearn.multioutput import MultiOutputClassifier\n",
        "from sklearn.multioutput import ClassifierChain\n",
        "\n",
        "from sklearn.ensemble import ExtraTreesClassifier\n",
        "from sklearn.neighbors import KNeighborsClassifier\n",
        "# from xgboost import XGBClassifier\n",
        "from lightgbm import LGBMRanker"
      ],
      "execution_count": 61,
      "outputs": []
    },
    {
      "cell_type": "code",
      "metadata": {
        "id": "5YVWOAfrg3kE"
      },
      "source": [
        "train = pd.read_csv(train_url)\n",
        "test = pd.read_csv(test_url)\n",
        "submission = pd.read_csv(submission_url)"
      ],
      "execution_count": 4,
      "outputs": []
    },
    {
      "cell_type": "code",
      "metadata": {
        "id": "6ePd6UNdl9L8"
      },
      "source": [
        "train['Product_Holding_B1'] = train['Product_Holding_B1'].apply(eval)\n",
        "train['Product_Holding_B2'] = train['Product_Holding_B2'].apply(eval)\n",
        "\n",
        "test['Product_Holding_B1'] = test['Product_Holding_B1'].apply(eval)"
      ],
      "execution_count": 7,
      "outputs": []
    },
    {
      "cell_type": "code",
      "metadata": {
        "id": "N5zx4B4FsUjC"
      },
      "source": [
        "s1 = train['Product_Holding_B1'].explode()\n",
        "s1_df = pd.crosstab(s1.index, s1)\n",
        "\n",
        "train['P00'] = s1_df['P00']\n",
        "for i in range(1, 22):\n",
        "  train['P'+str(i)] = s1_df['P'+str(i)]"
      ],
      "execution_count": 9,
      "outputs": []
    },
    {
      "cell_type": "code",
      "metadata": {
        "id": "YOMn2DSXwrWn"
      },
      "source": [
        "s2 = train['Product_Holding_B2'].explode()\n",
        "s2_df = pd.crosstab(s2.index, s2)\n",
        "\n",
        "train['tP00'] = s2_df['P00'] #t -> target variables\n",
        "for i in range(1, 22):\n",
        "  try:\n",
        "    train['tP'+str(i)] = s2_df['P'+str(i)]\n",
        "  except:\n",
        "    train['tP'+str(i)] = 0"
      ],
      "execution_count": 11,
      "outputs": []
    },
    {
      "cell_type": "code",
      "metadata": {
        "id": "4T5ye5cwNkLT"
      },
      "source": [
        "s3 = test['Product_Holding_B1'].explode()\n",
        "s3_df = pd.crosstab(s3.index, s3)\n",
        "\n",
        "test['P00'] = s3_df['P00']\n",
        "for i in range(1, 22):\n",
        "  test['P'+str(i)] = s3_df['P'+str(i)]"
      ],
      "execution_count": 13,
      "outputs": []
    },
    {
      "cell_type": "code",
      "metadata": {
        "id": "cJeYgwaI2TU_"
      },
      "source": [
        "bins = pd.IntervalIndex.from_tuples([(0, 23), (23, 32), (32,43), (43, 52), (52, 60), (60,100)])\n",
        "train['AgeRange'] = pd.cut(train.Age, bins, ordered=True)\n",
        "test['AgeRange'] = pd.cut(test.Age, bins, ordered=True)"
      ],
      "execution_count": 15,
      "outputs": []
    },
    {
      "cell_type": "code",
      "metadata": {
        "id": "fk8SDmpm_AmW"
      },
      "source": [
        "bins = pd.IntervalIndex.from_tuples([(0, 9), (9, 14), (14,20), (20, 25), (25, 40), (40,100)])\n",
        "train['VintageRange'] = pd.cut(train.Vintage, bins, ordered=True)\n",
        "test['VintageRange'] = pd.cut(test.Vintage, bins, ordered=True)"
      ],
      "execution_count": 16,
      "outputs": []
    },
    {
      "cell_type": "code",
      "metadata": {
        "id": "G4YrPAHNaPWj"
      },
      "source": [
        "train['Num_Current_Holdings'] = train['Product_Holding_B1'].apply(lambda x: len(x))\n",
        "test['Num_Current_Holdings'] = test['Product_Holding_B1'].apply(lambda x: len(x))"
      ],
      "execution_count": 17,
      "outputs": []
    },
    {
      "cell_type": "code",
      "metadata": {
        "id": "tUEt8qKELowz"
      },
      "source": [
        "train.Gender = train.Gender.astype('category').cat.codes\n",
        "train.AgeRange = train.AgeRange.astype('category').cat.codes\n",
        "train.VintageRange = train.VintageRange.astype('category').cat.codes\n",
        "train.Is_Active = train.Is_Active.astype('category').cat.codes\n",
        "train.City_Category = train.City_Category.astype('category').cat.codes\n",
        "train.Customer_Category = train.Customer_Category.astype('category').cat.codes\n",
        "\n",
        "test.Gender = test.Gender.astype('category').cat.codes\n",
        "test.AgeRange = test.AgeRange.astype('category').cat.codes\n",
        "test.VintageRange = test.VintageRange.astype('category').cat.codes\n",
        "test.Is_Active = test.Is_Active.astype('category').cat.codes\n",
        "test.City_Category = test.City_Category.astype('category').cat.codes\n",
        "test.Customer_Category = test.Customer_Category.astype('category').cat.codes"
      ],
      "execution_count": 18,
      "outputs": []
    },
    {
      "cell_type": "code",
      "metadata": {
        "id": "rzyruSIbFH1c"
      },
      "source": [
        "# train['fold'] = -1\n",
        "\n",
        "# skf = StratifiedKFold(n_splits=5, shuffle=True, random_state=SEED)\n",
        "\n",
        "# #stratifying based on AgeRange\n",
        "# for fold, (train_idx, val_idx) in enumerate(skf.split(X=train, y=train.AgeRange)):\n",
        "#     train.loc[val_idx, 'fold'] = fold"
      ],
      "execution_count": 20,
      "outputs": []
    },
    {
      "cell_type": "code",
      "metadata": {
        "id": "KuW3WEcNGH2X"
      },
      "source": [
        "targets = [f for f in train.columns if f[0] == 't']\n",
        "features = [f for f in train.columns if f not in ('Customer_ID', 'fold', 'Product_Holding_B1', 'Product_Holding_B2') and f not in targets]\n",
        "cat_features = [f for f in features if f not in ('Age', 'Vintage', 'Num_Current_Holdings')]"
      ],
      "execution_count": 21,
      "outputs": []
    },
    {
      "cell_type": "code",
      "metadata": {
        "colab": {
          "base_uri": "https://localhost:8080/"
        },
        "id": "4KeobE3tqXWj",
        "outputId": "24e97bd5-c32f-42e8-f3e2-4dfac6c23423"
      },
      "source": [
        "print(f'Features: {features}\\n')\n",
        "print(f'Categorical features: {cat_features}\\n')\n",
        "print(f'Targets: {targets}')"
      ],
      "execution_count": 22,
      "outputs": [
        {
          "output_type": "stream",
          "name": "stdout",
          "text": [
            "Features: ['Gender', 'Age', 'Vintage', 'Is_Active', 'City_Category', 'Customer_Category', 'P00', 'P1', 'P2', 'P3', 'P4', 'P5', 'P6', 'P7', 'P8', 'P9', 'P10', 'P11', 'P12', 'P13', 'P14', 'P15', 'P16', 'P17', 'P18', 'P19', 'P20', 'P21', 'AgeRange', 'VintageRange', 'Num_Current_Holdings']\n",
            "\n",
            "Categorical features: ['Gender', 'Is_Active', 'City_Category', 'Customer_Category', 'P00', 'P1', 'P2', 'P3', 'P4', 'P5', 'P6', 'P7', 'P8', 'P9', 'P10', 'P11', 'P12', 'P13', 'P14', 'P15', 'P16', 'P17', 'P18', 'P19', 'P20', 'P21', 'AgeRange', 'VintageRange']\n",
            "\n",
            "Targets: ['tP00', 'tP1', 'tP2', 'tP3', 'tP4', 'tP5', 'tP6', 'tP7', 'tP8', 'tP9', 'tP10', 'tP11', 'tP12', 'tP13', 'tP14', 'tP15', 'tP16', 'tP17', 'tP18', 'tP19', 'tP20', 'tP21']\n"
          ]
        }
      ]
    },
    {
      "cell_type": "code",
      "metadata": {
        "id": "NMSoKjgIeNHp"
      },
      "source": [
        "xtrain, xval, ytrain, yval = train_test_split(train[cat_features], train[targets], test_size=0.2, shuffle=True, random_state=SEED)\n",
        "\n",
        "xtest = test[cat_features]"
      ],
      "execution_count": 23,
      "outputs": []
    },
    {
      "cell_type": "code",
      "metadata": {
        "id": "2VYUKtlaZHqX"
      },
      "source": [
        "estimator1 = KNeighborsClassifier(n_neighbors=5, weights='distance', n_jobs=-1)"
      ],
      "execution_count": 27,
      "outputs": []
    },
    {
      "cell_type": "code",
      "metadata": {
        "id": "wpvBKD4P3Tia"
      },
      "source": [
        "moc1 = MultiOutputClassifier(estimator1, n_jobs=-1)"
      ],
      "execution_count": 28,
      "outputs": []
    },
    {
      "cell_type": "code",
      "metadata": {
        "colab": {
          "base_uri": "https://localhost:8080/"
        },
        "id": "vtzmFioO4PEr",
        "outputId": "ee0f2e4d-dba8-453e-99ae-5e942edca431"
      },
      "source": [
        "%%time\n",
        "moc1.fit(xtrain, ytrain)"
      ],
      "execution_count": 29,
      "outputs": [
        {
          "output_type": "execute_result",
          "data": {
            "text/plain": [
              "MultiOutputClassifier(estimator=KNeighborsClassifier(algorithm='auto',\n",
              "                                                     leaf_size=30,\n",
              "                                                     metric='minkowski',\n",
              "                                                     metric_params=None,\n",
              "                                                     n_jobs=-1, n_neighbors=5,\n",
              "                                                     p=2, weights='distance'),\n",
              "                      n_jobs=-1)"
            ]
          },
          "metadata": {},
          "execution_count": 29
        }
      ]
    },
    {
      "cell_type": "code",
      "metadata": {
        "colab": {
          "base_uri": "https://localhost:8080/"
        },
        "id": "fMPeRWZl9wyE",
        "outputId": "8291bb64-4673-4756-85ea-0ad6ef1d45f7"
      },
      "source": [
        "%%time\n",
        "moc1_preds = moc1.predict(xtest)\n",
        "moc1_probs = moc1.predict_proba(xtest)"
      ],
      "execution_count": 83,
      "outputs": [
        {
          "output_type": "stream",
          "name": "stdout",
          "text": [
            "CPU times: user 5min 10s, sys: 750 ms, total: 5min 11s\n",
            "Wall time: 5min 48s\n"
          ]
        }
      ]
    },
    {
      "cell_type": "code",
      "metadata": {
        "id": "u58zyAR2QeR-"
      },
      "source": [
        "preds_df = pd.DataFrame(moc1_preds, columns=targets)"
      ],
      "execution_count": 88,
      "outputs": []
    },
    {
      "cell_type": "code",
      "metadata": {
        "id": "TVrTfKxMRLz-"
      },
      "source": [
        "probs_df = []\n",
        "for i in range(22):\n",
        "  probs_df.append(moc1_probs[i][:,0])\n",
        "\n",
        "probs_df = pd.DataFrame(np.asarray(probs_df).T, columns=targets)"
      ],
      "execution_count": 99,
      "outputs": []
    },
    {
      "cell_type": "code",
      "metadata": {
        "id": "ZeiG5KreS3Vj"
      },
      "source": [
        "subs_df = probs_df.copy()\n",
        "final_preds = []\n",
        "for i in range(test.shape[0]):\n",
        "  pred = []\n",
        "  for _ in range(22):\n",
        "    minlabel = subs_df.idxmin(axis=1)[i]\n",
        "    if subs_df.loc[i, minlabel] > 0.5 and len(pred):\n",
        "      break\n",
        "    pred.append(str(minlabel)[1:])\n",
        "    subs_df.loc[i, minlabel] = 1.0\n",
        "  final_preds.append(pred)"
      ],
      "execution_count": 106,
      "outputs": []
    },
    {
      "cell_type": "code",
      "metadata": {
        "id": "Lvnr8CbwXxGx"
      },
      "source": [
        "submission['Product_Holding_B2'] = final_preds"
      ],
      "execution_count": 108,
      "outputs": []
    },
    {
      "cell_type": "code",
      "metadata": {
        "id": "WDuYkqIScwjw"
      },
      "source": [
        "submission.to_csv('sub1_knn.csv', index=False)"
      ],
      "execution_count": 109,
      "outputs": []
    },
    {
      "cell_type": "code",
      "metadata": {
        "colab": {
          "base_uri": "https://localhost:8080/"
        },
        "id": "SOhqCrOnc37L",
        "outputId": "54291812-c50c-49d7-a655-2f30bc50d810"
      },
      "source": [
        "!head sub1_knn.csv"
      ],
      "execution_count": 110,
      "outputs": [
        {
          "output_type": "stream",
          "name": "stdout",
          "text": [
            "Customer_ID,Product_Holding_B2\n",
            "CC372708,['P1']\n",
            "CC216072,['P8']\n",
            "CC387629,['P16']\n",
            "CC389228,\"['P8', 'P9', 'P12']\"\n",
            "CC394445,['P00']\n",
            "CC241088,['P8']\n",
            "CC381551,['P16']\n",
            "CC238627,['P6']\n",
            "CC287515,['P8']\n"
          ]
        }
      ]
    }
  ]
}