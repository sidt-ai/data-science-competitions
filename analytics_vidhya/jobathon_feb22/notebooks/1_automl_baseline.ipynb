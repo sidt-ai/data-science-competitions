{
  "nbformat": 4,
  "nbformat_minor": 0,
  "metadata": {
    "colab": {
      "name": "1-automl-baseline",
      "provenance": []
    },
    "kernelspec": {
      "name": "python3",
      "display_name": "Python 3"
    },
    "language_info": {
      "name": "python"
    }
  },
  "cells": [
    {
      "cell_type": "code",
      "execution_count": 1,
      "metadata": {
        "id": "5kv_k26IfUTO"
      },
      "outputs": [],
      "source": [
        "import gc\n",
        "gc.enable()\n",
        "\n",
        "import warnings\n",
        "warnings.filterwarnings('ignore')\n",
        "\n",
        "import numpy as np\n",
        "import pandas as pd\n",
        "pd.set_option('precision', 4)\n",
        "\n",
        "SEED = 2311"
      ]
    },
    {
      "cell_type": "markdown",
      "source": [
        "# Data"
      ],
      "metadata": {
        "id": "ENRbV8v9f4at"
      }
    },
    {
      "cell_type": "code",
      "source": [
        "train_url = 'https://raw.githubusercontent.com/sidt-ai/data-science-competitions/main/analytics_vidhya/jobathon_feb22/data/raw/train.csv'\n",
        "test_url = 'https://raw.githubusercontent.com/sidt-ai/data-science-competitions/main/analytics_vidhya/jobathon_feb22/data/raw/test.csv'"
      ],
      "metadata": {
        "id": "lWmi8NNRfv0p"
      },
      "execution_count": 2,
      "outputs": []
    },
    {
      "cell_type": "code",
      "source": [
        "train = pd.read_csv(train_url)\n",
        "test = pd.read_csv(test_url)"
      ],
      "metadata": {
        "id": "u0rENQ_8gNvU"
      },
      "execution_count": 3,
      "outputs": []
    },
    {
      "cell_type": "code",
      "source": [
        "train.info()"
      ],
      "metadata": {
        "colab": {
          "base_uri": "https://localhost:8080/"
        },
        "id": "zRQ2F2aHggB5",
        "outputId": "7e44f800-9f70-4e13-a129-f286c85dd72c"
      },
      "execution_count": 4,
      "outputs": [
        {
          "output_type": "stream",
          "name": "stdout",
          "text": [
            "<class 'pandas.core.frame.DataFrame'>\n",
            "RangeIndex: 89197 entries, 0 to 89196\n",
            "Data columns (total 10 columns):\n",
            " #   Column            Non-Null Count  Dtype  \n",
            "---  ------            --------------  -----  \n",
            " 0   row_id            89197 non-null  int64  \n",
            " 1   user_id           89197 non-null  int64  \n",
            " 2   category_id       89197 non-null  int64  \n",
            " 3   video_id          89197 non-null  int64  \n",
            " 4   age               89197 non-null  int64  \n",
            " 5   gender            89197 non-null  object \n",
            " 6   profession        89197 non-null  object \n",
            " 7   followers         89197 non-null  int64  \n",
            " 8   views             89197 non-null  int64  \n",
            " 9   engagement_score  89197 non-null  float64\n",
            "dtypes: float64(1), int64(7), object(2)\n",
            "memory usage: 6.8+ MB\n"
          ]
        }
      ]
    },
    {
      "cell_type": "code",
      "source": [
        "test.info()"
      ],
      "metadata": {
        "colab": {
          "base_uri": "https://localhost:8080/"
        },
        "id": "aM9IpX6rgiZ5",
        "outputId": "a6e47193-6f36-40c8-bcfe-812caa1ca28a"
      },
      "execution_count": 5,
      "outputs": [
        {
          "output_type": "stream",
          "name": "stdout",
          "text": [
            "<class 'pandas.core.frame.DataFrame'>\n",
            "RangeIndex: 11121 entries, 0 to 11120\n",
            "Data columns (total 9 columns):\n",
            " #   Column       Non-Null Count  Dtype \n",
            "---  ------       --------------  ----- \n",
            " 0   row_id       11121 non-null  int64 \n",
            " 1   user_id      11121 non-null  int64 \n",
            " 2   category_id  11121 non-null  int64 \n",
            " 3   video_id     11121 non-null  int64 \n",
            " 4   age          11121 non-null  int64 \n",
            " 5   gender       11121 non-null  object\n",
            " 6   profession   11121 non-null  object\n",
            " 7   followers    11121 non-null  int64 \n",
            " 8   views        11121 non-null  int64 \n",
            "dtypes: int64(7), object(2)\n",
            "memory usage: 782.1+ KB\n"
          ]
        }
      ]
    },
    {
      "cell_type": "markdown",
      "source": [
        "# H2O AutoML"
      ],
      "metadata": {
        "id": "NnNYyA7agZns"
      }
    },
    {
      "cell_type": "code",
      "source": [
        "%%capture\n",
        "!pip install --upgrade h2o"
      ],
      "metadata": {
        "id": "DLFwtnvOiFzv"
      },
      "execution_count": 6,
      "outputs": []
    },
    {
      "cell_type": "code",
      "source": [
        "import h2o\n",
        "from h2o.automl import H2OAutoML"
      ],
      "metadata": {
        "id": "mCtnfBqFiMc8"
      },
      "execution_count": 7,
      "outputs": []
    },
    {
      "cell_type": "code",
      "source": [
        "h2o.init()"
      ],
      "metadata": {
        "colab": {
          "base_uri": "https://localhost:8080/",
          "height": 572
        },
        "id": "38k47r5_iNMv",
        "outputId": "4cceaef4-1cd1-4e6d-cb51-cdfff32d0841"
      },
      "execution_count": 8,
      "outputs": [
        {
          "output_type": "stream",
          "name": "stdout",
          "text": [
            "Checking whether there is an H2O instance running at http://localhost:54321 ..... not found.\n",
            "Attempting to start a local H2O server...\n",
            "  Java Version: openjdk version \"11.0.13\" 2021-10-19; OpenJDK Runtime Environment (build 11.0.13+8-Ubuntu-0ubuntu1.18.04); OpenJDK 64-Bit Server VM (build 11.0.13+8-Ubuntu-0ubuntu1.18.04, mixed mode, sharing)\n",
            "  Starting server from /usr/local/lib/python3.7/dist-packages/h2o/backend/bin/h2o.jar\n",
            "  Ice root: /tmp/tmpcqhnsiof\n",
            "  JVM stdout: /tmp/tmpcqhnsiof/h2o_unknownUser_started_from_python.out\n",
            "  JVM stderr: /tmp/tmpcqhnsiof/h2o_unknownUser_started_from_python.err\n",
            "  Server is running at http://127.0.0.1:54321\n",
            "Connecting to H2O server at http://127.0.0.1:54321 ... successful.\n"
          ]
        },
        {
          "output_type": "display_data",
          "data": {
            "text/html": [
              "<div style=\"overflow:auto\"><table style=\"width:50%\"><tr><td>H2O_cluster_uptime:</td>\n",
              "<td>04 secs</td></tr>\n",
              "<tr><td>H2O_cluster_timezone:</td>\n",
              "<td>Etc/UTC</td></tr>\n",
              "<tr><td>H2O_data_parsing_timezone:</td>\n",
              "<td>UTC</td></tr>\n",
              "<tr><td>H2O_cluster_version:</td>\n",
              "<td>3.36.0.2</td></tr>\n",
              "<tr><td>H2O_cluster_version_age:</td>\n",
              "<td>18 days </td></tr>\n",
              "<tr><td>H2O_cluster_name:</td>\n",
              "<td>H2O_from_python_unknownUser_bw9k52</td></tr>\n",
              "<tr><td>H2O_cluster_total_nodes:</td>\n",
              "<td>1</td></tr>\n",
              "<tr><td>H2O_cluster_free_memory:</td>\n",
              "<td>3.172 Gb</td></tr>\n",
              "<tr><td>H2O_cluster_total_cores:</td>\n",
              "<td>2</td></tr>\n",
              "<tr><td>H2O_cluster_allowed_cores:</td>\n",
              "<td>2</td></tr>\n",
              "<tr><td>H2O_cluster_status:</td>\n",
              "<td>locked, healthy</td></tr>\n",
              "<tr><td>H2O_connection_url:</td>\n",
              "<td>http://127.0.0.1:54321</td></tr>\n",
              "<tr><td>H2O_connection_proxy:</td>\n",
              "<td>{\"http\": null, \"https\": null}</td></tr>\n",
              "<tr><td>H2O_internal_security:</td>\n",
              "<td>False</td></tr>\n",
              "<tr><td>H2O_API_Extensions:</td>\n",
              "<td>Amazon S3, XGBoost, Algos, Infogram, AutoML, Core V3, TargetEncoder, Core V4</td></tr>\n",
              "<tr><td>Python_version:</td>\n",
              "<td>3.7.12 final</td></tr></table></div>"
            ],
            "text/plain": [
              "--------------------------  ----------------------------------------------------------------------------\n",
              "H2O_cluster_uptime:         04 secs\n",
              "H2O_cluster_timezone:       Etc/UTC\n",
              "H2O_data_parsing_timezone:  UTC\n",
              "H2O_cluster_version:        3.36.0.2\n",
              "H2O_cluster_version_age:    18 days\n",
              "H2O_cluster_name:           H2O_from_python_unknownUser_bw9k52\n",
              "H2O_cluster_total_nodes:    1\n",
              "H2O_cluster_free_memory:    3.172 Gb\n",
              "H2O_cluster_total_cores:    2\n",
              "H2O_cluster_allowed_cores:  2\n",
              "H2O_cluster_status:         locked, healthy\n",
              "H2O_connection_url:         http://127.0.0.1:54321\n",
              "H2O_connection_proxy:       {\"http\": null, \"https\": null}\n",
              "H2O_internal_security:      False\n",
              "H2O_API_Extensions:         Amazon S3, XGBoost, Algos, Infogram, AutoML, Core V3, TargetEncoder, Core V4\n",
              "Python_version:             3.7.12 final\n",
              "--------------------------  ----------------------------------------------------------------------------"
            ]
          },
          "metadata": {}
        }
      ]
    },
    {
      "cell_type": "code",
      "source": [
        "h2o_train = h2o.H2OFrame(train)\n",
        "h2o_test = h2o.H2OFrame(test)"
      ],
      "metadata": {
        "colab": {
          "base_uri": "https://localhost:8080/"
        },
        "id": "p-Y5vEeDiPHJ",
        "outputId": "e7bb02b0-7618-4455-948c-e9d4a7f6d46d"
      },
      "execution_count": 9,
      "outputs": [
        {
          "output_type": "stream",
          "name": "stdout",
          "text": [
            "Parse progress: |████████████████████████████████████████████████████████████████| (done) 100%\n",
            "Parse progress: |████████████████████████████████████████████████████████████████| (done) 100%\n"
          ]
        }
      ]
    },
    {
      "cell_type": "code",
      "source": [
        "features = [f for f in train.columns if f not in ('row_id', 'engagement_score')]"
      ],
      "metadata": {
        "id": "4plh6vHViS7_"
      },
      "execution_count": 10,
      "outputs": []
    },
    {
      "cell_type": "code",
      "source": [
        "model = H2OAutoML(stopping_metric='AUTO', max_runtime_secs=1800, seed=SEED)\n",
        "model.train(x=features, y='engagement_score', training_frame=h2o_train)"
      ],
      "metadata": {
        "colab": {
          "base_uri": "https://localhost:8080/"
        },
        "id": "CuwBJaNDilfg",
        "outputId": "11ed2788-faa9-43ee-d410-b83d2ced0fbc"
      },
      "execution_count": 11,
      "outputs": [
        {
          "output_type": "stream",
          "name": "stdout",
          "text": [
            "AutoML progress: |███████████████████████████████████████████████████████████████| (done) 100%\n",
            "Model Details\n",
            "=============\n",
            "H2OStackedEnsembleEstimator :  Stacked Ensemble\n",
            "Model Key:  StackedEnsemble_AllModels_3_AutoML_1_20220213_162247\n",
            "\n",
            "No model summary for this model\n",
            "\n",
            "ModelMetricsRegressionGLM: stackedensemble\n",
            "** Reported on train data. **\n",
            "\n",
            "MSE: 0.3374821394085636\n",
            "RMSE: 0.5809321297781382\n",
            "MAE: 0.43406638391143265\n",
            "RMSLE: 0.16131258518812094\n",
            "R^2: 0.5423241097341807\n",
            "Mean Residual Deviance: 0.3374821394085636\n",
            "Null degrees of freedom: 9965\n",
            "Residual degrees of freedom: 9959\n",
            "Null deviance: 7348.786101862985\n",
            "Residual deviance: 3363.3470013457445\n",
            "AIC: 17472.7881918991\n",
            "\n",
            "ModelMetricsRegressionGLM: stackedensemble\n",
            "** Reported on cross-validation data. **\n",
            "\n",
            "MSE: 0.45786358723096243\n",
            "RMSE: 0.6766561809596972\n",
            "MAE: 0.506747936688585\n",
            "RMSLE: 0.1850213286076423\n",
            "R^2: 0.3859294578945449\n",
            "Mean Residual Deviance: 0.45786358723096243\n",
            "Null degrees of freedom: 89196\n",
            "Residual degrees of freedom: 89190\n",
            "Null deviance: 66509.98588609349\n",
            "Residual deviance: 40840.058390240156\n",
            "AIC: 183466.85289786282\n"
          ]
        },
        {
          "output_type": "execute_result",
          "data": {
            "text/plain": [
              ""
            ]
          },
          "metadata": {},
          "execution_count": 11
        }
      ]
    },
    {
      "cell_type": "code",
      "source": [
        "model.leaderboard"
      ],
      "metadata": {
        "colab": {
          "base_uri": "https://localhost:8080/",
          "height": 254
        },
        "id": "1Xzt_E3KjQcz",
        "outputId": "ff686ae3-4b37-4105-bcce-638f41edcbb6"
      },
      "execution_count": 12,
      "outputs": [
        {
          "output_type": "display_data",
          "data": {
            "text/html": [
              "<table>\n",
              "<thead>\n",
              "<tr><th>model_id                                               </th><th style=\"text-align: right;\">  mean_residual_deviance</th><th style=\"text-align: right;\">    rmse</th><th style=\"text-align: right;\">     mse</th><th style=\"text-align: right;\">     mae</th><th style=\"text-align: right;\">   rmsle</th></tr>\n",
              "</thead>\n",
              "<tbody>\n",
              "<tr><td>StackedEnsemble_AllModels_3_AutoML_1_20220213_162247   </td><td style=\"text-align: right;\">                0.457864</td><td style=\"text-align: right;\">0.676656</td><td style=\"text-align: right;\">0.457864</td><td style=\"text-align: right;\">0.506748</td><td style=\"text-align: right;\">0.185021</td></tr>\n",
              "<tr><td>StackedEnsemble_AllModels_1_AutoML_1_20220213_162247   </td><td style=\"text-align: right;\">                0.461427</td><td style=\"text-align: right;\">0.679284</td><td style=\"text-align: right;\">0.461427</td><td style=\"text-align: right;\">0.509394</td><td style=\"text-align: right;\">0.185736</td></tr>\n",
              "<tr><td>StackedEnsemble_AllModels_2_AutoML_1_20220213_162247   </td><td style=\"text-align: right;\">                0.461481</td><td style=\"text-align: right;\">0.679324</td><td style=\"text-align: right;\">0.461481</td><td style=\"text-align: right;\">0.509433</td><td style=\"text-align: right;\">0.185744</td></tr>\n",
              "<tr><td>StackedEnsemble_BestOfFamily_1_AutoML_1_20220213_162247</td><td style=\"text-align: right;\">                0.463509</td><td style=\"text-align: right;\">0.680815</td><td style=\"text-align: right;\">0.463509</td><td style=\"text-align: right;\">0.511199</td><td style=\"text-align: right;\">0.1862  </td></tr>\n",
              "<tr><td>StackedEnsemble_BestOfFamily_2_AutoML_1_20220213_162247</td><td style=\"text-align: right;\">                0.46459 </td><td style=\"text-align: right;\">0.681608</td><td style=\"text-align: right;\">0.46459 </td><td style=\"text-align: right;\">0.511408</td><td style=\"text-align: right;\">0.186302</td></tr>\n",
              "<tr><td>StackedEnsemble_BestOfFamily_4_AutoML_1_20220213_162247</td><td style=\"text-align: right;\">                0.464624</td><td style=\"text-align: right;\">0.681633</td><td style=\"text-align: right;\">0.464624</td><td style=\"text-align: right;\">0.511219</td><td style=\"text-align: right;\">0.186344</td></tr>\n",
              "<tr><td>StackedEnsemble_BestOfFamily_3_AutoML_1_20220213_162247</td><td style=\"text-align: right;\">                0.465738</td><td style=\"text-align: right;\">0.68245 </td><td style=\"text-align: right;\">0.465738</td><td style=\"text-align: right;\">0.512231</td><td style=\"text-align: right;\">0.186525</td></tr>\n",
              "<tr><td>GBM_4_AutoML_1_20220213_162247                         </td><td style=\"text-align: right;\">                0.467548</td><td style=\"text-align: right;\">0.683774</td><td style=\"text-align: right;\">0.467548</td><td style=\"text-align: right;\">0.513677</td><td style=\"text-align: right;\">0.186923</td></tr>\n",
              "<tr><td>XGBoost_grid_1_AutoML_1_20220213_162247_model_6        </td><td style=\"text-align: right;\">                0.468437</td><td style=\"text-align: right;\">0.684425</td><td style=\"text-align: right;\">0.468437</td><td style=\"text-align: right;\">0.513576</td><td style=\"text-align: right;\">0.187002</td></tr>\n",
              "<tr><td>XGBoost_grid_1_AutoML_1_20220213_162247_model_5        </td><td style=\"text-align: right;\">                0.469257</td><td style=\"text-align: right;\">0.685023</td><td style=\"text-align: right;\">0.469257</td><td style=\"text-align: right;\">0.513332</td><td style=\"text-align: right;\">0.186735</td></tr>\n",
              "</tbody>\n",
              "</table>"
            ]
          },
          "metadata": {}
        },
        {
          "output_type": "execute_result",
          "data": {
            "text/plain": [
              ""
            ]
          },
          "metadata": {},
          "execution_count": 12
        }
      ]
    },
    {
      "cell_type": "code",
      "source": [
        "preds = model.leader.predict(h2o_test).as_data_frame()['predict']"
      ],
      "metadata": {
        "colab": {
          "base_uri": "https://localhost:8080/"
        },
        "id": "Ft6_N2mejRwu",
        "outputId": "9a27df33-1103-488a-d8bd-a98904129130"
      },
      "execution_count": 21,
      "outputs": [
        {
          "output_type": "stream",
          "name": "stdout",
          "text": [
            "stackedensemble prediction progress: |███████████████████████████████████████████| (done) 100%\n"
          ]
        }
      ]
    },
    {
      "cell_type": "code",
      "source": [
        "sub1 = pd.DataFrame({'row_id': test.row_id, 'engagement_score': preds})\n",
        "sub1.to_csv('sub1.csv', index=False)"
      ],
      "metadata": {
        "id": "4ReWLugEsF6F"
      },
      "execution_count": 23,
      "outputs": []
    },
    {
      "cell_type": "code",
      "source": [
        "!head sub1.csv"
      ],
      "metadata": {
        "colab": {
          "base_uri": "https://localhost:8080/"
        },
        "id": "FpBuEw6xstZe",
        "outputId": "db75f4e7-c64e-4414-c591-0d7471dcd70c"
      },
      "execution_count": 24,
      "outputs": [
        {
          "output_type": "stream",
          "name": "stdout",
          "text": [
            "row_id,engagement_score\n",
            "89198,4.163207503286123\n",
            "89199,3.623942329665717\n",
            "89200,2.7387019959561285\n",
            "89201,3.8980790227755766\n",
            "89202,1.968328387143284\n",
            "89203,3.737067592684384\n",
            "89204,3.917459300815463\n",
            "89205,3.8146229809021\n",
            "89206,2.6807972723468616\n"
          ]
        }
      ]
    }
  ]
}