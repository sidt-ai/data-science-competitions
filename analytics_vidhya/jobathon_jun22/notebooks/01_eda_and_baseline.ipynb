{
  "nbformat": 4,
  "nbformat_minor": 0,
  "metadata": {
    "colab": {
      "name": "01-eda-and-baseline.ipynb",
      "provenance": [],
      "authorship_tag": "ABX9TyNu8lVQJS5VtbF83tXFCNJh",
      "include_colab_link": true
    },
    "kernelspec": {
      "name": "python3",
      "display_name": "Python 3"
    },
    "language_info": {
      "name": "python"
    },
    "accelerator": "GPU"
  },
  "cells": [
    {
      "cell_type": "markdown",
      "metadata": {
        "id": "view-in-github",
        "colab_type": "text"
      },
      "source": [
        "<a href=\"https://colab.research.google.com/github/sidt-ai/data-science-competitions/blob/main/analytics_vidhya/jobathon_jun22/notebooks/01_eda_and_baseline.ipynb\" target=\"_parent\"><img src=\"https://colab.research.google.com/assets/colab-badge.svg\" alt=\"Open In Colab\"/></a>"
      ]
    },
    {
      "cell_type": "markdown",
      "source": [
        "# Setup"
      ],
      "metadata": {
        "id": "hJTBGzb141Lx"
      }
    },
    {
      "cell_type": "code",
      "source": [
        "%%capture\n",
        "!pip install xgboost==1.6.1"
      ],
      "metadata": {
        "id": "2Io9S7HUOHkY"
      },
      "execution_count": 1,
      "outputs": []
    },
    {
      "cell_type": "code",
      "source": [
        "import os\n",
        "import gc\n",
        "import warnings\n",
        "\n",
        "gc.enable()\n",
        "warnings.filterwarnings('ignore')\n",
        "\n",
        "%pprint"
      ],
      "metadata": {
        "id": "XXcLtHk-PTAC"
      },
      "execution_count": null,
      "outputs": []
    },
    {
      "cell_type": "code",
      "source": [
        "import numpy as np\n",
        "import pandas as pd\n",
        "pd.set_option('precision', 4)\n",
        "pd.set_option('display.max_columns', None)\n",
        "\n",
        "import matplotlib.pyplot as plt\n",
        "%matplotlib inline\n",
        "import seaborn as sns\n",
        "\n",
        "from sklearn.feature_selection import chi2, f_classif, mutual_info_classif\n",
        "from sklearn.model_selection import train_test_split\n",
        "from sklearn.metrics import f1_score, roc_auc_score\n",
        "\n",
        "from xgboost import XGBClassifier"
      ],
      "metadata": {
        "id": "6w0xFo6S406H"
      },
      "execution_count": 53,
      "outputs": []
    },
    {
      "cell_type": "code",
      "source": [
        "SEED = 2311\n",
        "\n",
        "os.environ['PYTHONHASHSEED'] = str(SEED)\n",
        "np.random.seed(SEED)"
      ],
      "metadata": {
        "id": "l2wDkvzPPX72"
      },
      "execution_count": null,
      "outputs": []
    },
    {
      "cell_type": "code",
      "execution_count": 3,
      "metadata": {
        "id": "o02SpFPF4S1Z"
      },
      "outputs": [],
      "source": [
        "train_url = 'https://raw.githubusercontent.com/sidt-ai/data-science-competitions/main/analytics_vidhya/jobathon_jun22/data/raw/train.csv'\n",
        "test_url = 'https://raw.githubusercontent.com/sidt-ai/data-science-competitions/main/analytics_vidhya/jobathon_jun22/data/raw/test.csv'\n",
        "sub_url = 'https://raw.githubusercontent.com/sidt-ai/data-science-competitions/main/analytics_vidhya/jobathon_jun22/data/raw/sample_submission.csv'"
      ]
    },
    {
      "cell_type": "code",
      "source": [
        "train = pd.read_csv(train_url)\n",
        "test = pd.read_csv(test_url)"
      ],
      "metadata": {
        "id": "njwYUQsV5ifr"
      },
      "execution_count": 4,
      "outputs": []
    },
    {
      "cell_type": "markdown",
      "source": [
        "# EDA"
      ],
      "metadata": {
        "id": "xsQeKT9n5y4D"
      }
    },
    {
      "cell_type": "markdown",
      "source": [
        "## Overview"
      ],
      "metadata": {
        "id": "V8R3X4QEFefR"
      }
    },
    {
      "cell_type": "code",
      "source": [
        "train.head()"
      ],
      "metadata": {
        "colab": {
          "base_uri": "https://localhost:8080/",
          "height": 0
        },
        "id": "DFNXQK905q0i",
        "outputId": "19ed91e4-3b20-4f5a-dfa5-fe24d2d79e14"
      },
      "execution_count": 5,
      "outputs": [
        {
          "output_type": "execute_result",
          "data": {
            "text/plain": [
              "   id  created_at  campaign_var_1  campaign_var_2  products_purchased  \\\n",
              "0   1  2021-01-01               1               2                 2.0   \n",
              "1   2  2021-01-01               2               1                 2.0   \n",
              "2   3  2021-01-01               9               3                 3.0   \n",
              "3   4  2021-01-01               6               7                 2.0   \n",
              "4   5  2021-01-01               4               6                 NaN   \n",
              "\n",
              "  signup_date  user_activity_var_1  user_activity_var_2  user_activity_var_3  \\\n",
              "0  2020-09-24                    0                    0                    0   \n",
              "1  2020-09-19                    1                    0                    1   \n",
              "2  2021-08-11                    1                    0                    0   \n",
              "3  2017-10-04                    0                    0                    0   \n",
              "4  2020-06-08                    0                    0                    0   \n",
              "\n",
              "   user_activity_var_4  user_activity_var_5  user_activity_var_6  \\\n",
              "0                    0                    0                    0   \n",
              "1                    0                    0                    0   \n",
              "2                    0                    0                    0   \n",
              "3                    0                    0                    0   \n",
              "4                    0                    0                    0   \n",
              "\n",
              "   user_activity_var_7  user_activity_var_8  user_activity_var_9  \\\n",
              "0                    1                    1                    0   \n",
              "1                    1                    0                    0   \n",
              "2                    0                    0                    0   \n",
              "3                    0                    0                    0   \n",
              "4                    1                    0                    0   \n",
              "\n",
              "   user_activity_var_10  user_activity_var_11  user_activity_var_12  buy  \n",
              "0                     0                     0                     0    0  \n",
              "1                     0                     0                     0    0  \n",
              "2                     0                     0                     0    0  \n",
              "3                     0                     0                     0    0  \n",
              "4                     0                     1                     0    0  "
            ],
            "text/html": [
              "\n",
              "  <div id=\"df-2a45d715-f1b4-4fcc-806b-d226629366c2\">\n",
              "    <div class=\"colab-df-container\">\n",
              "      <div>\n",
              "<style scoped>\n",
              "    .dataframe tbody tr th:only-of-type {\n",
              "        vertical-align: middle;\n",
              "    }\n",
              "\n",
              "    .dataframe tbody tr th {\n",
              "        vertical-align: top;\n",
              "    }\n",
              "\n",
              "    .dataframe thead th {\n",
              "        text-align: right;\n",
              "    }\n",
              "</style>\n",
              "<table border=\"1\" class=\"dataframe\">\n",
              "  <thead>\n",
              "    <tr style=\"text-align: right;\">\n",
              "      <th></th>\n",
              "      <th>id</th>\n",
              "      <th>created_at</th>\n",
              "      <th>campaign_var_1</th>\n",
              "      <th>campaign_var_2</th>\n",
              "      <th>products_purchased</th>\n",
              "      <th>signup_date</th>\n",
              "      <th>user_activity_var_1</th>\n",
              "      <th>user_activity_var_2</th>\n",
              "      <th>user_activity_var_3</th>\n",
              "      <th>user_activity_var_4</th>\n",
              "      <th>user_activity_var_5</th>\n",
              "      <th>user_activity_var_6</th>\n",
              "      <th>user_activity_var_7</th>\n",
              "      <th>user_activity_var_8</th>\n",
              "      <th>user_activity_var_9</th>\n",
              "      <th>user_activity_var_10</th>\n",
              "      <th>user_activity_var_11</th>\n",
              "      <th>user_activity_var_12</th>\n",
              "      <th>buy</th>\n",
              "    </tr>\n",
              "  </thead>\n",
              "  <tbody>\n",
              "    <tr>\n",
              "      <th>0</th>\n",
              "      <td>1</td>\n",
              "      <td>2021-01-01</td>\n",
              "      <td>1</td>\n",
              "      <td>2</td>\n",
              "      <td>2.0</td>\n",
              "      <td>2020-09-24</td>\n",
              "      <td>0</td>\n",
              "      <td>0</td>\n",
              "      <td>0</td>\n",
              "      <td>0</td>\n",
              "      <td>0</td>\n",
              "      <td>0</td>\n",
              "      <td>1</td>\n",
              "      <td>1</td>\n",
              "      <td>0</td>\n",
              "      <td>0</td>\n",
              "      <td>0</td>\n",
              "      <td>0</td>\n",
              "      <td>0</td>\n",
              "    </tr>\n",
              "    <tr>\n",
              "      <th>1</th>\n",
              "      <td>2</td>\n",
              "      <td>2021-01-01</td>\n",
              "      <td>2</td>\n",
              "      <td>1</td>\n",
              "      <td>2.0</td>\n",
              "      <td>2020-09-19</td>\n",
              "      <td>1</td>\n",
              "      <td>0</td>\n",
              "      <td>1</td>\n",
              "      <td>0</td>\n",
              "      <td>0</td>\n",
              "      <td>0</td>\n",
              "      <td>1</td>\n",
              "      <td>0</td>\n",
              "      <td>0</td>\n",
              "      <td>0</td>\n",
              "      <td>0</td>\n",
              "      <td>0</td>\n",
              "      <td>0</td>\n",
              "    </tr>\n",
              "    <tr>\n",
              "      <th>2</th>\n",
              "      <td>3</td>\n",
              "      <td>2021-01-01</td>\n",
              "      <td>9</td>\n",
              "      <td>3</td>\n",
              "      <td>3.0</td>\n",
              "      <td>2021-08-11</td>\n",
              "      <td>1</td>\n",
              "      <td>0</td>\n",
              "      <td>0</td>\n",
              "      <td>0</td>\n",
              "      <td>0</td>\n",
              "      <td>0</td>\n",
              "      <td>0</td>\n",
              "      <td>0</td>\n",
              "      <td>0</td>\n",
              "      <td>0</td>\n",
              "      <td>0</td>\n",
              "      <td>0</td>\n",
              "      <td>0</td>\n",
              "    </tr>\n",
              "    <tr>\n",
              "      <th>3</th>\n",
              "      <td>4</td>\n",
              "      <td>2021-01-01</td>\n",
              "      <td>6</td>\n",
              "      <td>7</td>\n",
              "      <td>2.0</td>\n",
              "      <td>2017-10-04</td>\n",
              "      <td>0</td>\n",
              "      <td>0</td>\n",
              "      <td>0</td>\n",
              "      <td>0</td>\n",
              "      <td>0</td>\n",
              "      <td>0</td>\n",
              "      <td>0</td>\n",
              "      <td>0</td>\n",
              "      <td>0</td>\n",
              "      <td>0</td>\n",
              "      <td>0</td>\n",
              "      <td>0</td>\n",
              "      <td>0</td>\n",
              "    </tr>\n",
              "    <tr>\n",
              "      <th>4</th>\n",
              "      <td>5</td>\n",
              "      <td>2021-01-01</td>\n",
              "      <td>4</td>\n",
              "      <td>6</td>\n",
              "      <td>NaN</td>\n",
              "      <td>2020-06-08</td>\n",
              "      <td>0</td>\n",
              "      <td>0</td>\n",
              "      <td>0</td>\n",
              "      <td>0</td>\n",
              "      <td>0</td>\n",
              "      <td>0</td>\n",
              "      <td>1</td>\n",
              "      <td>0</td>\n",
              "      <td>0</td>\n",
              "      <td>0</td>\n",
              "      <td>1</td>\n",
              "      <td>0</td>\n",
              "      <td>0</td>\n",
              "    </tr>\n",
              "  </tbody>\n",
              "</table>\n",
              "</div>\n",
              "      <button class=\"colab-df-convert\" onclick=\"convertToInteractive('df-2a45d715-f1b4-4fcc-806b-d226629366c2')\"\n",
              "              title=\"Convert this dataframe to an interactive table.\"\n",
              "              style=\"display:none;\">\n",
              "        \n",
              "  <svg xmlns=\"http://www.w3.org/2000/svg\" height=\"24px\"viewBox=\"0 0 24 24\"\n",
              "       width=\"24px\">\n",
              "    <path d=\"M0 0h24v24H0V0z\" fill=\"none\"/>\n",
              "    <path d=\"M18.56 5.44l.94 2.06.94-2.06 2.06-.94-2.06-.94-.94-2.06-.94 2.06-2.06.94zm-11 1L8.5 8.5l.94-2.06 2.06-.94-2.06-.94L8.5 2.5l-.94 2.06-2.06.94zm10 10l.94 2.06.94-2.06 2.06-.94-2.06-.94-.94-2.06-.94 2.06-2.06.94z\"/><path d=\"M17.41 7.96l-1.37-1.37c-.4-.4-.92-.59-1.43-.59-.52 0-1.04.2-1.43.59L10.3 9.45l-7.72 7.72c-.78.78-.78 2.05 0 2.83L4 21.41c.39.39.9.59 1.41.59.51 0 1.02-.2 1.41-.59l7.78-7.78 2.81-2.81c.8-.78.8-2.07 0-2.86zM5.41 20L4 18.59l7.72-7.72 1.47 1.35L5.41 20z\"/>\n",
              "  </svg>\n",
              "      </button>\n",
              "      \n",
              "  <style>\n",
              "    .colab-df-container {\n",
              "      display:flex;\n",
              "      flex-wrap:wrap;\n",
              "      gap: 12px;\n",
              "    }\n",
              "\n",
              "    .colab-df-convert {\n",
              "      background-color: #E8F0FE;\n",
              "      border: none;\n",
              "      border-radius: 50%;\n",
              "      cursor: pointer;\n",
              "      display: none;\n",
              "      fill: #1967D2;\n",
              "      height: 32px;\n",
              "      padding: 0 0 0 0;\n",
              "      width: 32px;\n",
              "    }\n",
              "\n",
              "    .colab-df-convert:hover {\n",
              "      background-color: #E2EBFA;\n",
              "      box-shadow: 0px 1px 2px rgba(60, 64, 67, 0.3), 0px 1px 3px 1px rgba(60, 64, 67, 0.15);\n",
              "      fill: #174EA6;\n",
              "    }\n",
              "\n",
              "    [theme=dark] .colab-df-convert {\n",
              "      background-color: #3B4455;\n",
              "      fill: #D2E3FC;\n",
              "    }\n",
              "\n",
              "    [theme=dark] .colab-df-convert:hover {\n",
              "      background-color: #434B5C;\n",
              "      box-shadow: 0px 1px 3px 1px rgba(0, 0, 0, 0.15);\n",
              "      filter: drop-shadow(0px 1px 2px rgba(0, 0, 0, 0.3));\n",
              "      fill: #FFFFFF;\n",
              "    }\n",
              "  </style>\n",
              "\n",
              "      <script>\n",
              "        const buttonEl =\n",
              "          document.querySelector('#df-2a45d715-f1b4-4fcc-806b-d226629366c2 button.colab-df-convert');\n",
              "        buttonEl.style.display =\n",
              "          google.colab.kernel.accessAllowed ? 'block' : 'none';\n",
              "\n",
              "        async function convertToInteractive(key) {\n",
              "          const element = document.querySelector('#df-2a45d715-f1b4-4fcc-806b-d226629366c2');\n",
              "          const dataTable =\n",
              "            await google.colab.kernel.invokeFunction('convertToInteractive',\n",
              "                                                     [key], {});\n",
              "          if (!dataTable) return;\n",
              "\n",
              "          const docLinkHtml = 'Like what you see? Visit the ' +\n",
              "            '<a target=\"_blank\" href=https://colab.research.google.com/notebooks/data_table.ipynb>data table notebook</a>'\n",
              "            + ' to learn more about interactive tables.';\n",
              "          element.innerHTML = '';\n",
              "          dataTable['output_type'] = 'display_data';\n",
              "          await google.colab.output.renderOutput(dataTable, element);\n",
              "          const docLink = document.createElement('div');\n",
              "          docLink.innerHTML = docLinkHtml;\n",
              "          element.appendChild(docLink);\n",
              "        }\n",
              "      </script>\n",
              "    </div>\n",
              "  </div>\n",
              "  "
            ]
          },
          "metadata": {},
          "execution_count": 5
        }
      ]
    },
    {
      "cell_type": "code",
      "source": [
        "train.info()"
      ],
      "metadata": {
        "colab": {
          "base_uri": "https://localhost:8080/"
        },
        "id": "6VzVcFKq5r7G",
        "outputId": "a748a9a3-c66f-4d99-e351-3c511a76f514"
      },
      "execution_count": 6,
      "outputs": [
        {
          "output_type": "stream",
          "name": "stdout",
          "text": [
            "<class 'pandas.core.frame.DataFrame'>\n",
            "RangeIndex: 39161 entries, 0 to 39160\n",
            "Data columns (total 19 columns):\n",
            " #   Column                Non-Null Count  Dtype  \n",
            "---  ------                --------------  -----  \n",
            " 0   id                    39161 non-null  int64  \n",
            " 1   created_at            39161 non-null  object \n",
            " 2   campaign_var_1        39161 non-null  int64  \n",
            " 3   campaign_var_2        39161 non-null  int64  \n",
            " 4   products_purchased    18250 non-null  float64\n",
            " 5   signup_date           24048 non-null  object \n",
            " 6   user_activity_var_1   39161 non-null  int64  \n",
            " 7   user_activity_var_2   39161 non-null  int64  \n",
            " 8   user_activity_var_3   39161 non-null  int64  \n",
            " 9   user_activity_var_4   39161 non-null  int64  \n",
            " 10  user_activity_var_5   39161 non-null  int64  \n",
            " 11  user_activity_var_6   39161 non-null  int64  \n",
            " 12  user_activity_var_7   39161 non-null  int64  \n",
            " 13  user_activity_var_8   39161 non-null  int64  \n",
            " 14  user_activity_var_9   39161 non-null  int64  \n",
            " 15  user_activity_var_10  39161 non-null  int64  \n",
            " 16  user_activity_var_11  39161 non-null  int64  \n",
            " 17  user_activity_var_12  39161 non-null  int64  \n",
            " 18  buy                   39161 non-null  int64  \n",
            "dtypes: float64(1), int64(16), object(2)\n",
            "memory usage: 5.7+ MB\n"
          ]
        }
      ]
    },
    {
      "cell_type": "code",
      "source": [
        "test.info()"
      ],
      "metadata": {
        "colab": {
          "base_uri": "https://localhost:8080/"
        },
        "id": "zdp4YJBC5ySa",
        "outputId": "6484e089-6c4d-42c7-b4e3-22405fc2fab3"
      },
      "execution_count": 7,
      "outputs": [
        {
          "output_type": "stream",
          "name": "stdout",
          "text": [
            "<class 'pandas.core.frame.DataFrame'>\n",
            "RangeIndex: 13184 entries, 0 to 13183\n",
            "Data columns (total 18 columns):\n",
            " #   Column                Non-Null Count  Dtype  \n",
            "---  ------                --------------  -----  \n",
            " 0   id                    13184 non-null  int64  \n",
            " 1   created_at            13184 non-null  object \n",
            " 2   campaign_var_1        13184 non-null  int64  \n",
            " 3   campaign_var_2        13184 non-null  int64  \n",
            " 4   products_purchased    5048 non-null   float64\n",
            " 5   signup_date           6535 non-null   object \n",
            " 6   user_activity_var_1   13184 non-null  int64  \n",
            " 7   user_activity_var_2   13184 non-null  int64  \n",
            " 8   user_activity_var_3   13184 non-null  int64  \n",
            " 9   user_activity_var_4   13184 non-null  int64  \n",
            " 10  user_activity_var_5   13184 non-null  int64  \n",
            " 11  user_activity_var_6   13184 non-null  int64  \n",
            " 12  user_activity_var_7   13184 non-null  int64  \n",
            " 13  user_activity_var_8   13184 non-null  int64  \n",
            " 14  user_activity_var_9   13184 non-null  int64  \n",
            " 15  user_activity_var_10  13184 non-null  int64  \n",
            " 16  user_activity_var_11  13184 non-null  int64  \n",
            " 17  user_activity_var_12  13184 non-null  int64  \n",
            "dtypes: float64(1), int64(15), object(2)\n",
            "memory usage: 1.8+ MB\n"
          ]
        }
      ]
    },
    {
      "cell_type": "markdown",
      "source": [
        "## Dependent variable"
      ],
      "metadata": {
        "id": "W-ty0ABd9Tv1"
      }
    },
    {
      "cell_type": "code",
      "source": [
        "train.buy.nunique(), train.buy.unique()"
      ],
      "metadata": {
        "colab": {
          "base_uri": "https://localhost:8080/"
        },
        "id": "Kb6c2jZ19WTx",
        "outputId": "3f6a0c60-06f5-4b9b-feb0-2b01dbbef913"
      },
      "execution_count": 8,
      "outputs": [
        {
          "output_type": "execute_result",
          "data": {
            "text/plain": [
              "(2, array([0, 1]))"
            ]
          },
          "metadata": {},
          "execution_count": 8
        }
      ]
    },
    {
      "cell_type": "markdown",
      "source": [
        "Binary categorical target."
      ],
      "metadata": {
        "id": "xM0NjQFlF5zY"
      }
    },
    {
      "cell_type": "code",
      "source": [
        "train.buy.value_counts(normalize=True)"
      ],
      "metadata": {
        "colab": {
          "base_uri": "https://localhost:8080/"
        },
        "id": "DbmBFIV29gV8",
        "outputId": "deeae3ba-ddf0-49af-e6cd-b975a9bb8e19"
      },
      "execution_count": 9,
      "outputs": [
        {
          "output_type": "execute_result",
          "data": {
            "text/plain": [
              "0    0.949\n",
              "1    0.051\n",
              "Name: buy, dtype: float64"
            ]
          },
          "metadata": {},
          "execution_count": 9
        }
      ]
    },
    {
      "cell_type": "markdown",
      "source": [
        "Heavily imbalanced. Will require resampling techniques or anomaly detection approach."
      ],
      "metadata": {
        "id": "IevVKALT9lD1"
      }
    },
    {
      "cell_type": "markdown",
      "source": [
        "## Independent variables"
      ],
      "metadata": {
        "id": "eDHwSn9U9Oqm"
      }
    },
    {
      "cell_type": "markdown",
      "source": [
        "### id"
      ],
      "metadata": {
        "id": "7m4IGl8U8rA9"
      }
    },
    {
      "cell_type": "code",
      "source": [
        "len(set(train.id.unique()) - set(test.id.unique())), len(set(test.id.unique()) - set(train.id.unique()))"
      ],
      "metadata": {
        "colab": {
          "base_uri": "https://localhost:8080/"
        },
        "id": "Mz1Dl8ze8pP4",
        "outputId": "91bab875-ff63-4d71-b675-c4e254771a90"
      },
      "execution_count": 10,
      "outputs": [
        {
          "output_type": "execute_result",
          "data": {
            "text/plain": [
              "(39161, 13184)"
            ]
          },
          "metadata": {},
          "execution_count": 10
        }
      ]
    },
    {
      "cell_type": "markdown",
      "source": [
        "No common $id$s."
      ],
      "metadata": {
        "id": "hdcPMdZO9BZa"
      }
    },
    {
      "cell_type": "code",
      "source": [
        "train.id.nunique(), test.id.nunique()"
      ],
      "metadata": {
        "colab": {
          "base_uri": "https://localhost:8080/"
        },
        "id": "dynmWgCm6-zS",
        "outputId": "7d416be3-3b66-487f-a306-64e5cdb1f229"
      },
      "execution_count": 11,
      "outputs": [
        {
          "output_type": "execute_result",
          "data": {
            "text/plain": [
              "(39161, 13184)"
            ]
          },
          "metadata": {},
          "execution_count": 11
        }
      ]
    },
    {
      "cell_type": "markdown",
      "source": [
        "All unique. Will be dropping $id$ from the features."
      ],
      "metadata": {
        "id": "15U_Yqvy8uas"
      }
    },
    {
      "cell_type": "markdown",
      "source": [
        "### created_at, signup_date"
      ],
      "metadata": {
        "id": "Q2lAA7Yy9Gv6"
      }
    },
    {
      "cell_type": "code",
      "source": [
        "train['created_at'] = pd.to_datetime(train['created_at'])\n",
        "test['created_at'] = pd.to_datetime(test['created_at'])"
      ],
      "metadata": {
        "id": "m2Xh-75y87FN"
      },
      "execution_count": 12,
      "outputs": []
    },
    {
      "cell_type": "code",
      "source": [
        "train['created_at'].isna().any().any(), test['created_at'].isna().any().any()"
      ],
      "metadata": {
        "colab": {
          "base_uri": "https://localhost:8080/"
        },
        "id": "LtRH8sijIKf7",
        "outputId": "12cbbcfc-9165-4916-d031-cb49ffe880ea"
      },
      "execution_count": 13,
      "outputs": [
        {
          "output_type": "execute_result",
          "data": {
            "text/plain": [
              "(False, False)"
            ]
          },
          "metadata": {},
          "execution_count": 13
        }
      ]
    },
    {
      "cell_type": "code",
      "source": [
        "train['signup_date'] = pd.to_datetime(train['signup_date'])\n",
        "test['signup_date'] = pd.to_datetime(test['signup_date'])"
      ],
      "metadata": {
        "id": "SXp-408H-ne3"
      },
      "execution_count": 14,
      "outputs": []
    },
    {
      "cell_type": "code",
      "source": [
        "train['signup_date'].isna().any().any(), test['signup_date'].isna().any().any()"
      ],
      "metadata": {
        "id": "Tvt-5YrtASCS",
        "colab": {
          "base_uri": "https://localhost:8080/"
        },
        "outputId": "049d7041-7a34-4917-b401-df80c8230661"
      },
      "execution_count": 15,
      "outputs": [
        {
          "output_type": "execute_result",
          "data": {
            "text/plain": [
              "(True, True)"
            ]
          },
          "metadata": {},
          "execution_count": 15
        }
      ]
    },
    {
      "cell_type": "code",
      "source": [
        "train['signup_date'].isna().sum().sum(), test['signup_date'].isna().sum().sum()"
      ],
      "metadata": {
        "colab": {
          "base_uri": "https://localhost:8080/"
        },
        "id": "ccnekL5QMGoZ",
        "outputId": "02df49a2-f533-4376-ae78-f3392f0c7d33"
      },
      "execution_count": 16,
      "outputs": [
        {
          "output_type": "execute_result",
          "data": {
            "text/plain": [
              "(15113, 6649)"
            ]
          },
          "metadata": {},
          "execution_count": 16
        }
      ]
    },
    {
      "cell_type": "code",
      "source": [
        "train['signup_date'].fillna(train['created_at'], inplace=True)\n",
        "test['signup_date'].fillna(test['created_at'], inplace=True)"
      ],
      "metadata": {
        "id": "VpMwN-wIQ9JY"
      },
      "execution_count": 17,
      "outputs": []
    },
    {
      "cell_type": "code",
      "source": [
        "train['date_gap_months'] = (train['created_at'] - train['signup_date']) / np.timedelta64(1, 'M')\n",
        "test['date_gap_months'] = (test['created_at'] - test['signup_date']) / np.timedelta64(1, 'M')"
      ],
      "metadata": {
        "id": "OG8ZxbYGTLpk"
      },
      "execution_count": 18,
      "outputs": []
    },
    {
      "cell_type": "code",
      "source": [
        "train[['created_at', 'signup_date', 'date_gap_months']].head()"
      ],
      "metadata": {
        "colab": {
          "base_uri": "https://localhost:8080/",
          "height": 0
        },
        "id": "W1Uj1OUySF2w",
        "outputId": "19690df4-d4e6-4940-f832-9025a1cee9d7"
      },
      "execution_count": 19,
      "outputs": [
        {
          "output_type": "execute_result",
          "data": {
            "text/plain": [
              "  created_at signup_date  date_gap_months\n",
              "0 2021-01-01  2020-09-24           3.2526\n",
              "1 2021-01-01  2020-09-19           3.4169\n",
              "2 2021-01-01  2021-08-11          -7.2938\n",
              "3 2021-01-01  2017-10-04          38.9330\n",
              "4 2021-01-01  2020-06-08           6.8010"
            ],
            "text/html": [
              "\n",
              "  <div id=\"df-92bec2bc-a960-4fd7-95ed-cbb2552acb21\">\n",
              "    <div class=\"colab-df-container\">\n",
              "      <div>\n",
              "<style scoped>\n",
              "    .dataframe tbody tr th:only-of-type {\n",
              "        vertical-align: middle;\n",
              "    }\n",
              "\n",
              "    .dataframe tbody tr th {\n",
              "        vertical-align: top;\n",
              "    }\n",
              "\n",
              "    .dataframe thead th {\n",
              "        text-align: right;\n",
              "    }\n",
              "</style>\n",
              "<table border=\"1\" class=\"dataframe\">\n",
              "  <thead>\n",
              "    <tr style=\"text-align: right;\">\n",
              "      <th></th>\n",
              "      <th>created_at</th>\n",
              "      <th>signup_date</th>\n",
              "      <th>date_gap_months</th>\n",
              "    </tr>\n",
              "  </thead>\n",
              "  <tbody>\n",
              "    <tr>\n",
              "      <th>0</th>\n",
              "      <td>2021-01-01</td>\n",
              "      <td>2020-09-24</td>\n",
              "      <td>3.2526</td>\n",
              "    </tr>\n",
              "    <tr>\n",
              "      <th>1</th>\n",
              "      <td>2021-01-01</td>\n",
              "      <td>2020-09-19</td>\n",
              "      <td>3.4169</td>\n",
              "    </tr>\n",
              "    <tr>\n",
              "      <th>2</th>\n",
              "      <td>2021-01-01</td>\n",
              "      <td>2021-08-11</td>\n",
              "      <td>-7.2938</td>\n",
              "    </tr>\n",
              "    <tr>\n",
              "      <th>3</th>\n",
              "      <td>2021-01-01</td>\n",
              "      <td>2017-10-04</td>\n",
              "      <td>38.9330</td>\n",
              "    </tr>\n",
              "    <tr>\n",
              "      <th>4</th>\n",
              "      <td>2021-01-01</td>\n",
              "      <td>2020-06-08</td>\n",
              "      <td>6.8010</td>\n",
              "    </tr>\n",
              "  </tbody>\n",
              "</table>\n",
              "</div>\n",
              "      <button class=\"colab-df-convert\" onclick=\"convertToInteractive('df-92bec2bc-a960-4fd7-95ed-cbb2552acb21')\"\n",
              "              title=\"Convert this dataframe to an interactive table.\"\n",
              "              style=\"display:none;\">\n",
              "        \n",
              "  <svg xmlns=\"http://www.w3.org/2000/svg\" height=\"24px\"viewBox=\"0 0 24 24\"\n",
              "       width=\"24px\">\n",
              "    <path d=\"M0 0h24v24H0V0z\" fill=\"none\"/>\n",
              "    <path d=\"M18.56 5.44l.94 2.06.94-2.06 2.06-.94-2.06-.94-.94-2.06-.94 2.06-2.06.94zm-11 1L8.5 8.5l.94-2.06 2.06-.94-2.06-.94L8.5 2.5l-.94 2.06-2.06.94zm10 10l.94 2.06.94-2.06 2.06-.94-2.06-.94-.94-2.06-.94 2.06-2.06.94z\"/><path d=\"M17.41 7.96l-1.37-1.37c-.4-.4-.92-.59-1.43-.59-.52 0-1.04.2-1.43.59L10.3 9.45l-7.72 7.72c-.78.78-.78 2.05 0 2.83L4 21.41c.39.39.9.59 1.41.59.51 0 1.02-.2 1.41-.59l7.78-7.78 2.81-2.81c.8-.78.8-2.07 0-2.86zM5.41 20L4 18.59l7.72-7.72 1.47 1.35L5.41 20z\"/>\n",
              "  </svg>\n",
              "      </button>\n",
              "      \n",
              "  <style>\n",
              "    .colab-df-container {\n",
              "      display:flex;\n",
              "      flex-wrap:wrap;\n",
              "      gap: 12px;\n",
              "    }\n",
              "\n",
              "    .colab-df-convert {\n",
              "      background-color: #E8F0FE;\n",
              "      border: none;\n",
              "      border-radius: 50%;\n",
              "      cursor: pointer;\n",
              "      display: none;\n",
              "      fill: #1967D2;\n",
              "      height: 32px;\n",
              "      padding: 0 0 0 0;\n",
              "      width: 32px;\n",
              "    }\n",
              "\n",
              "    .colab-df-convert:hover {\n",
              "      background-color: #E2EBFA;\n",
              "      box-shadow: 0px 1px 2px rgba(60, 64, 67, 0.3), 0px 1px 3px 1px rgba(60, 64, 67, 0.15);\n",
              "      fill: #174EA6;\n",
              "    }\n",
              "\n",
              "    [theme=dark] .colab-df-convert {\n",
              "      background-color: #3B4455;\n",
              "      fill: #D2E3FC;\n",
              "    }\n",
              "\n",
              "    [theme=dark] .colab-df-convert:hover {\n",
              "      background-color: #434B5C;\n",
              "      box-shadow: 0px 1px 3px 1px rgba(0, 0, 0, 0.15);\n",
              "      filter: drop-shadow(0px 1px 2px rgba(0, 0, 0, 0.3));\n",
              "      fill: #FFFFFF;\n",
              "    }\n",
              "  </style>\n",
              "\n",
              "      <script>\n",
              "        const buttonEl =\n",
              "          document.querySelector('#df-92bec2bc-a960-4fd7-95ed-cbb2552acb21 button.colab-df-convert');\n",
              "        buttonEl.style.display =\n",
              "          google.colab.kernel.accessAllowed ? 'block' : 'none';\n",
              "\n",
              "        async function convertToInteractive(key) {\n",
              "          const element = document.querySelector('#df-92bec2bc-a960-4fd7-95ed-cbb2552acb21');\n",
              "          const dataTable =\n",
              "            await google.colab.kernel.invokeFunction('convertToInteractive',\n",
              "                                                     [key], {});\n",
              "          if (!dataTable) return;\n",
              "\n",
              "          const docLinkHtml = 'Like what you see? Visit the ' +\n",
              "            '<a target=\"_blank\" href=https://colab.research.google.com/notebooks/data_table.ipynb>data table notebook</a>'\n",
              "            + ' to learn more about interactive tables.';\n",
              "          element.innerHTML = '';\n",
              "          dataTable['output_type'] = 'display_data';\n",
              "          await google.colab.output.renderOutput(dataTable, element);\n",
              "          const docLink = document.createElement('div');\n",
              "          docLink.innerHTML = docLinkHtml;\n",
              "          element.appendChild(docLink);\n",
              "        }\n",
              "      </script>\n",
              "    </div>\n",
              "  </div>\n",
              "  "
            ]
          },
          "metadata": {},
          "execution_count": 19
        }
      ]
    },
    {
      "cell_type": "code",
      "source": [
        "def create_date_features(df):\n",
        "    df['created_at_quarter'] = df['created_at'].dt.quarter\n",
        "    df['created_at_month'] = df['created_at'].dt.month\n",
        "    df['created_at_day'] = df['created_at'].dt.day\n",
        "    df['created_at_dayofweek'] = df['created_at'].dt.day_of_week\n",
        "\n",
        "    return df"
      ],
      "metadata": {
        "id": "_kZBG0LAScyK"
      },
      "execution_count": 20,
      "outputs": []
    },
    {
      "cell_type": "code",
      "source": [
        "train = create_date_features(train)\n",
        "test = create_date_features(test)"
      ],
      "metadata": {
        "id": "nPDPLqUElO5-"
      },
      "execution_count": 21,
      "outputs": []
    },
    {
      "cell_type": "markdown",
      "source": [
        "### campaign_var_*"
      ],
      "metadata": {
        "id": "fMREZdoNlifj"
      }
    },
    {
      "cell_type": "code",
      "source": [
        "sorted(train['campaign_var_1'].unique()), sorted(test['campaign_var_1'].unique())"
      ],
      "metadata": {
        "colab": {
          "base_uri": "https://localhost:8080/"
        },
        "id": "e4rPtYHhlXqi",
        "outputId": "a1f75c16-cdfe-40c8-c1f7-9a504c8d2f9d"
      },
      "execution_count": 22,
      "outputs": [
        {
          "output_type": "execute_result",
          "data": {
            "text/plain": [
              "([1, 2, 3, 4, 5, 6, 7, 8, 9, 10, 11, 12, 13, 14, 15, 16],\n",
              " [1, 2, 3, 4, 5, 6, 7, 8, 9, 10, 11, 12, 13, 14, 15, 16])"
            ]
          },
          "metadata": {},
          "execution_count": 22
        }
      ]
    },
    {
      "cell_type": "code",
      "source": [
        "plt.figure(figsize=(20, 6))\n",
        "sns.countplot(y='campaign_var_1', data=train, hue='buy')\n",
        "plt.show()"
      ],
      "metadata": {
        "colab": {
          "base_uri": "https://localhost:8080/",
          "height": 388
        },
        "id": "ZH8SjLFZm4Y7",
        "outputId": "b68c1ae6-707a-4115-c9ac-651b25eb3ec8"
      },
      "execution_count": 23,
      "outputs": [
        {
          "output_type": "display_data",
          "data": {
            "text/plain": [
              "<Figure size 1440x432 with 1 Axes>"
            ],
            "image/png": "[encoded data removed]"
          },
          "metadata": {
            "needs_background": "light"
          }
        }
      ]
    },
    {
      "cell_type": "code",
      "source": [
        "sorted(train['campaign_var_2'].unique()), sorted(test['campaign_var_2'].unique())"
      ],
      "metadata": {
        "colab": {
          "base_uri": "https://localhost:8080/"
        },
        "id": "XmXlmOoXqBy8",
        "outputId": "cd165aec-5a92-4ee3-84c9-b28cabd06f9a"
      },
      "execution_count": 24,
      "outputs": [
        {
          "output_type": "execute_result",
          "data": {
            "text/plain": [
              "([1, 2, 3, 4, 5, 6, 7, 8, 9, 10, 11, 12, 13, 14, 15],\n",
              " [1, 2, 3, 4, 5, 6, 7, 8, 9, 10, 11, 12, 13, 14, 15])"
            ]
          },
          "metadata": {},
          "execution_count": 24
        }
      ]
    },
    {
      "cell_type": "code",
      "source": [
        "plt.figure(figsize=(20, 6))\n",
        "sns.countplot(y='campaign_var_2', data=train, hue='buy')\n",
        "plt.show()"
      ],
      "metadata": {
        "colab": {
          "base_uri": "https://localhost:8080/",
          "height": 388
        },
        "id": "e3g5TFB3pahv",
        "outputId": "907eeaa6-3625-4219-cca6-a796d81313eb"
      },
      "execution_count": 25,
      "outputs": [
        {
          "output_type": "display_data",
          "data": {
            "text/plain": [
              "<Figure size 1440x432 with 1 Axes>"
            ],
            "image/png": "[encoded data removed]"
          },
          "metadata": {
            "needs_background": "light"
          }
        }
      ]
    },
    {
      "cell_type": "markdown",
      "source": [
        "### products_purchased"
      ],
      "metadata": {
        "id": "q9SRPlZ7qTkb"
      }
    },
    {
      "cell_type": "code",
      "source": [
        "print(f'Train missing: {train.products_purchased.isna().sum().sum() / len(train) * 100:.2f} %')\n",
        "print(f'Test missing: {test.products_purchased.isna().sum().sum() / len(test) * 100:.2f} %')"
      ],
      "metadata": {
        "colab": {
          "base_uri": "https://localhost:8080/"
        },
        "id": "Lc9P6feuqjQ4",
        "outputId": "e9a07eff-f10a-4041-fb0a-bb87d08df0aa"
      },
      "execution_count": 26,
      "outputs": [
        {
          "output_type": "stream",
          "name": "stdout",
          "text": [
            "Train missing: 53.40 %\n",
            "Test missing: 61.71 %\n"
          ]
        }
      ]
    },
    {
      "cell_type": "code",
      "source": [
        "train['products_purchased'].min(), train['products_purchased'].max()"
      ],
      "metadata": {
        "colab": {
          "base_uri": "https://localhost:8080/"
        },
        "id": "lhjlww-eq3fF",
        "outputId": "71451552-7e84-4d49-e5aa-8068f7a92c10"
      },
      "execution_count": 27,
      "outputs": [
        {
          "output_type": "execute_result",
          "data": {
            "text/plain": [
              "(1.0, 4.0)"
            ]
          },
          "metadata": {},
          "execution_count": 27
        }
      ]
    },
    {
      "cell_type": "code",
      "source": [
        "test['products_purchased'].min(), test['products_purchased'].max()"
      ],
      "metadata": {
        "colab": {
          "base_uri": "https://localhost:8080/"
        },
        "id": "m-sixPCUri8F",
        "outputId": "457b38b7-c05a-427b-8b8a-6f40480fc683"
      },
      "execution_count": 28,
      "outputs": [
        {
          "output_type": "execute_result",
          "data": {
            "text/plain": [
              "(1.0, 4.0)"
            ]
          },
          "metadata": {},
          "execution_count": 28
        }
      ]
    },
    {
      "cell_type": "code",
      "source": [
        "train['products_purchased'].value_counts(normalize=True)"
      ],
      "metadata": {
        "colab": {
          "base_uri": "https://localhost:8080/"
        },
        "id": "T-Xmo4jkruvw",
        "outputId": "d51586e0-9024-4538-f596-9f1260074ae1"
      },
      "execution_count": 29,
      "outputs": [
        {
          "output_type": "execute_result",
          "data": {
            "text/plain": [
              "2.0    0.4859\n",
              "3.0    0.2753\n",
              "1.0    0.1996\n",
              "4.0    0.0392\n",
              "Name: products_purchased, dtype: float64"
            ]
          },
          "metadata": {},
          "execution_count": 29
        }
      ]
    },
    {
      "cell_type": "markdown",
      "source": [
        "We can fill the missing values with $0$ for number of products purchased."
      ],
      "metadata": {
        "id": "W3IbQFEJrq5M"
      }
    },
    {
      "cell_type": "code",
      "source": [
        "train['products_purchased'].fillna(0, inplace=True)\n",
        "test['products_purchased'].fillna(0, inplace=True)"
      ],
      "metadata": {
        "id": "lz-VIPtwrnV_"
      },
      "execution_count": 30,
      "outputs": []
    },
    {
      "cell_type": "code",
      "source": [
        "train['products_purchased'] = train['products_purchased'].astype('int')\n",
        "test['products_purchased'] = test['products_purchased'].astype('int')"
      ],
      "metadata": {
        "id": "GKrG6SlUsd2C"
      },
      "execution_count": 31,
      "outputs": []
    },
    {
      "cell_type": "code",
      "source": [
        "plt.figure(figsize=(20, 3))\n",
        "sns.countplot(y='products_purchased', data=train, hue='buy')\n",
        "plt.show()"
      ],
      "metadata": {
        "colab": {
          "base_uri": "https://localhost:8080/",
          "height": 0
        },
        "id": "aJuO7u84st-S",
        "outputId": "c8ec1019-7661-413b-ad67-d755490ee051"
      },
      "execution_count": 32,
      "outputs": [
        {
          "output_type": "display_data",
          "data": {
            "text/plain": [
              "<Figure size 1440x216 with 1 Axes>"
            ],
            "image/png": "[encoded data removed]"
          },
          "metadata": {
            "needs_background": "light"
          }
        }
      ]
    },
    {
      "cell_type": "markdown",
      "source": [
        "### user_activity_var_*"
      ],
      "metadata": {
        "id": "tcnrKcWetWY0"
      }
    },
    {
      "cell_type": "code",
      "source": [
        "user_vars = ['user_activity_var_' + str(i) for i in range(1, 13)]"
      ],
      "metadata": {
        "id": "120eg3c5s7SD"
      },
      "execution_count": 33,
      "outputs": []
    },
    {
      "cell_type": "code",
      "source": [
        "train[user_vars].nunique()"
      ],
      "metadata": {
        "colab": {
          "base_uri": "https://localhost:8080/"
        },
        "id": "wVKs7AI9uX3T",
        "outputId": "5b27a9db-df49-4ba2-9476-beded85ef0b8"
      },
      "execution_count": 34,
      "outputs": [
        {
          "output_type": "execute_result",
          "data": {
            "text/plain": [
              "user_activity_var_1     4\n",
              "user_activity_var_2     2\n",
              "user_activity_var_3     2\n",
              "user_activity_var_4     2\n",
              "user_activity_var_5     3\n",
              "user_activity_var_6     4\n",
              "user_activity_var_7     3\n",
              "user_activity_var_8     3\n",
              "user_activity_var_9     2\n",
              "user_activity_var_10    2\n",
              "user_activity_var_11    5\n",
              "user_activity_var_12    2\n",
              "dtype: int64"
            ]
          },
          "metadata": {},
          "execution_count": 34
        }
      ]
    },
    {
      "cell_type": "code",
      "source": [
        "for var in user_vars:\n",
        "    plt.figure(figsize=(20, 3))\n",
        "    sns.countplot(y=var, data=train, hue='buy')\n",
        "    plt.show()"
      ],
      "metadata": {
        "colab": {
          "base_uri": "https://localhost:8080/",
          "height": 1000
        },
        "id": "im_oATSVuiSa",
        "outputId": "2dc1856a-795a-4547-a3e3-7db919df2f3d"
      },
      "execution_count": 35,
      "outputs": [
        {
          "output_type": "display_data",
          "data": {
            "text/plain": [
              "<Figure size 1440x216 with 1 Axes>"
            ],
            "image/png": "[encoded data removed]"
          },
          "metadata": {
            "needs_background": "light"
          }
        },
        {
          "output_type": "display_data",
          "data": {
            "text/plain": [
              "<Figure size 1440x216 with 1 Axes>"
            ],
            "image/png": "[encoded data removed]"
          },
          "metadata": {
            "needs_background": "light"
          }
        },
        {
          "output_type": "display_data",
          "data": {
            "text/plain": [
              "<Figure size 1440x216 with 1 Axes>"
            ],
            "image/png": "[encoded data removed]"
          },
          "metadata": {
            "needs_background": "light"
          }
        },
        {
          "output_type": "display_data",
          "data": {
            "text/plain": [
              "<Figure size 1440x216 with 1 Axes>"
            ],
            "image/png": "[encoded data removed]"
          },
          "metadata": {
            "needs_background": "light"
          }
        },
        {
          "output_type": "display_data",
          "data": {
            "text/plain": [
              "<Figure size 1440x216 with 1 Axes>"
            ],
            "image/png": "[encoded data removed]"
          },
          "metadata": {
            "needs_background": "light"
          }
        },
        {
          "output_type": "display_data",
          "data": {
            "text/plain": [
              "<Figure size 1440x216 with 1 Axes>"
            ],
            "image/png": "[encoded data removed]"
          },
          "metadata": {
            "needs_background": "light"
          }
        },
        {
          "output_type": "display_data",
          "data": {
            "text/plain": [
              "<Figure size 1440x216 with 1 Axes>"
            ],
            "image/png": "[encoded data removed]"
          },
          "metadata": {
            "needs_background": "light"
          }
        },
        {
          "output_type": "display_data",
          "data": {
            "text/plain": [
              "<Figure size 1440x216 with 1 Axes>"
            ],
            "image/png": "[encoded data removed]"
          },
          "metadata": {
            "needs_background": "light"
          }
        },
        {
          "output_type": "display_data",
          "data": {
            "text/plain": [
              "<Figure size 1440x216 with 1 Axes>"
            ],
            "image/png": "[encoded data removed]"
          },
          "metadata": {
            "needs_background": "light"
          }
        },
        {
          "output_type": "display_data",
          "data": {
            "text/plain": [
              "<Figure size 1440x216 with 1 Axes>"
            ],
            "image/png": "[encoded data removed]"
          },
          "metadata": {
            "needs_background": "light"
          }
        },
        {
          "output_type": "display_data",
          "data": {
            "text/plain": [
              "<Figure size 1440x216 with 1 Axes>"
            ],
            "image/png": "[encoded data removed]"
          },
          "metadata": {
            "needs_background": "light"
          }
        },
        {
          "output_type": "display_data",
          "data": {
            "text/plain": [
              "<Figure size 1440x216 with 1 Axes>"
            ],
            "image/png": "[encoded data removed]"
          },
          "metadata": {
            "needs_background": "light"
          }
        }
      ]
    },
    {
      "cell_type": "markdown",
      "source": [
        "user_activity_var_{2, 4, 8, 9, 11} show significant splits for predicting the target.  \n",
        "user_activity_var_{10, 12} show extremely low variance."
      ],
      "metadata": {
        "id": "rP-f9lOtvI22"
      }
    },
    {
      "cell_type": "code",
      "source": [
        "train['user_activity_var_10'].value_counts()"
      ],
      "metadata": {
        "colab": {
          "base_uri": "https://localhost:8080/"
        },
        "id": "ak0l4--gunSo",
        "outputId": "ccf89953-f257-458c-a33b-22adb798be81"
      },
      "execution_count": 36,
      "outputs": [
        {
          "output_type": "execute_result",
          "data": {
            "text/plain": [
              "0    39146\n",
              "1       15\n",
              "Name: user_activity_var_10, dtype: int64"
            ]
          },
          "metadata": {},
          "execution_count": 36
        }
      ]
    },
    {
      "cell_type": "code",
      "source": [
        "train.loc[train['user_activity_var_10'] == 1].buy.value_counts()"
      ],
      "metadata": {
        "colab": {
          "base_uri": "https://localhost:8080/"
        },
        "id": "1nLYUe6YwpXI",
        "outputId": "a46503b6-37e7-4f35-8d2f-1a56eddc8a69"
      },
      "execution_count": 37,
      "outputs": [
        {
          "output_type": "execute_result",
          "data": {
            "text/plain": [
              "1    15\n",
              "Name: buy, dtype: int64"
            ]
          },
          "metadata": {},
          "execution_count": 37
        }
      ]
    },
    {
      "cell_type": "markdown",
      "source": [
        "user_activity_var_10 has only 15 instances of value = 1, but in all those instances the customer ended up making a purchase, so it can be a significant part in predicting the target."
      ],
      "metadata": {
        "id": "6lsHlA-0w3lC"
      }
    },
    {
      "cell_type": "code",
      "source": [
        "train['user_activity_var_12'].value_counts()"
      ],
      "metadata": {
        "colab": {
          "base_uri": "https://localhost:8080/"
        },
        "id": "Ar0WgF75wT_D",
        "outputId": "f5324111-95cd-46c3-def4-8cecb9574b44"
      },
      "execution_count": 38,
      "outputs": [
        {
          "output_type": "execute_result",
          "data": {
            "text/plain": [
              "0    39139\n",
              "1       22\n",
              "Name: user_activity_var_12, dtype: int64"
            ]
          },
          "metadata": {},
          "execution_count": 38
        }
      ]
    },
    {
      "cell_type": "code",
      "source": [
        "train.loc[train['user_activity_var_12'] == 1].buy.value_counts()"
      ],
      "metadata": {
        "colab": {
          "base_uri": "https://localhost:8080/"
        },
        "id": "CwbDwIjhwbIk",
        "outputId": "71e92113-b9a2-4219-8ff1-0fe1d5fb0ec6"
      },
      "execution_count": 39,
      "outputs": [
        {
          "output_type": "execute_result",
          "data": {
            "text/plain": [
              "1    15\n",
              "0     7\n",
              "Name: buy, dtype: int64"
            ]
          },
          "metadata": {},
          "execution_count": 39
        }
      ]
    },
    {
      "cell_type": "markdown",
      "source": [
        "user_activity_var_12 has only 22 instances of value = 1. The target variable is split among these instances unlike the previous case."
      ],
      "metadata": {
        "id": "Vp0vwipuxQBG"
      }
    },
    {
      "cell_type": "markdown",
      "source": [
        "## Feature selection"
      ],
      "metadata": {
        "id": "Z_mPRaUh59C9"
      }
    },
    {
      "cell_type": "code",
      "source": [
        "features = [f for f in test.columns if f not in ('id', 'buy', 'created_at', 'signup_date')]"
      ],
      "metadata": {
        "id": "VBbkee4exMAn"
      },
      "execution_count": 40,
      "outputs": []
    },
    {
      "cell_type": "code",
      "source": [
        "cat_features = ['campaign_var_1', 'campaign_var_2'] + user_vars\n",
        "num_features = [f for f in features if f not in cat_features]"
      ],
      "metadata": {
        "id": "8Xz3PisygEhN"
      },
      "execution_count": 41,
      "outputs": []
    },
    {
      "cell_type": "markdown",
      "source": [
        "### Chi-square test of independence: categorical feature and categorical target"
      ],
      "metadata": {
        "id": "yOYKnVVrI3sV"
      }
    },
    {
      "cell_type": "code",
      "source": [
        "chi2_test = chi2(train[cat_features], train['buy'])\n",
        "display(pd.DataFrame(data={'chi2': chi2_test[0], \n",
        "                           'p-value': chi2_test[1]}, \n",
        "                     index=cat_features))"
      ],
      "metadata": {
        "colab": {
          "base_uri": "https://localhost:8080/",
          "height": 0
        },
        "id": "UkWjLdWzu-mk",
        "outputId": "506492ee-5e24-4bcc-d1a5-35e90b97c2c6"
      },
      "execution_count": 42,
      "outputs": [
        {
          "output_type": "display_data",
          "data": {
            "text/plain": [
              "                           chi2      p-value\n",
              "campaign_var_1         550.5365  9.6225e-122\n",
              "campaign_var_2         265.8748   8.9949e-60\n",
              "user_activity_var_1     50.9597   9.4282e-13\n",
              "user_activity_var_2   4891.8263   0.0000e+00\n",
              "user_activity_var_3      0.9405   3.3214e-01\n",
              "user_activity_var_4   6031.0469   0.0000e+00\n",
              "user_activity_var_5    910.0688  6.3533e-200\n",
              "user_activity_var_6      2.9270   8.7110e-02\n",
              "user_activity_var_7     22.9389   1.6724e-06\n",
              "user_activity_var_8    306.7515   1.1140e-68\n",
              "user_activity_var_9   8332.8448   0.0000e+00\n",
              "user_activity_var_10   279.0015   1.2393e-62\n",
              "user_activity_var_11  2392.3176   0.0000e+00\n",
              "user_activity_var_12   180.8026   3.2373e-41"
            ],
            "text/html": [
              "\n",
              "  <div id=\"df-301885d8-b7f7-4106-a45e-cec4d299a4a5\">\n",
              "    <div class=\"colab-df-container\">\n",
              "      <div>\n",
              "<style scoped>\n",
              "    .dataframe tbody tr th:only-of-type {\n",
              "        vertical-align: middle;\n",
              "    }\n",
              "\n",
              "    .dataframe tbody tr th {\n",
              "        vertical-align: top;\n",
              "    }\n",
              "\n",
              "    .dataframe thead th {\n",
              "        text-align: right;\n",
              "    }\n",
              "</style>\n",
              "<table border=\"1\" class=\"dataframe\">\n",
              "  <thead>\n",
              "    <tr style=\"text-align: right;\">\n",
              "      <th></th>\n",
              "      <th>chi2</th>\n",
              "      <th>p-value</th>\n",
              "    </tr>\n",
              "  </thead>\n",
              "  <tbody>\n",
              "    <tr>\n",
              "      <th>campaign_var_1</th>\n",
              "      <td>550.5365</td>\n",
              "      <td>9.6225e-122</td>\n",
              "    </tr>\n",
              "    <tr>\n",
              "      <th>campaign_var_2</th>\n",
              "      <td>265.8748</td>\n",
              "      <td>8.9949e-60</td>\n",
              "    </tr>\n",
              "    <tr>\n",
              "      <th>user_activity_var_1</th>\n",
              "      <td>50.9597</td>\n",
              "      <td>9.4282e-13</td>\n",
              "    </tr>\n",
              "    <tr>\n",
              "      <th>user_activity_var_2</th>\n",
              "      <td>4891.8263</td>\n",
              "      <td>0.0000e+00</td>\n",
              "    </tr>\n",
              "    <tr>\n",
              "      <th>user_activity_var_3</th>\n",
              "      <td>0.9405</td>\n",
              "      <td>3.3214e-01</td>\n",
              "    </tr>\n",
              "    <tr>\n",
              "      <th>user_activity_var_4</th>\n",
              "      <td>6031.0469</td>\n",
              "      <td>0.0000e+00</td>\n",
              "    </tr>\n",
              "    <tr>\n",
              "      <th>user_activity_var_5</th>\n",
              "      <td>910.0688</td>\n",
              "      <td>6.3533e-200</td>\n",
              "    </tr>\n",
              "    <tr>\n",
              "      <th>user_activity_var_6</th>\n",
              "      <td>2.9270</td>\n",
              "      <td>8.7110e-02</td>\n",
              "    </tr>\n",
              "    <tr>\n",
              "      <th>user_activity_var_7</th>\n",
              "      <td>22.9389</td>\n",
              "      <td>1.6724e-06</td>\n",
              "    </tr>\n",
              "    <tr>\n",
              "      <th>user_activity_var_8</th>\n",
              "      <td>306.7515</td>\n",
              "      <td>1.1140e-68</td>\n",
              "    </tr>\n",
              "    <tr>\n",
              "      <th>user_activity_var_9</th>\n",
              "      <td>8332.8448</td>\n",
              "      <td>0.0000e+00</td>\n",
              "    </tr>\n",
              "    <tr>\n",
              "      <th>user_activity_var_10</th>\n",
              "      <td>279.0015</td>\n",
              "      <td>1.2393e-62</td>\n",
              "    </tr>\n",
              "    <tr>\n",
              "      <th>user_activity_var_11</th>\n",
              "      <td>2392.3176</td>\n",
              "      <td>0.0000e+00</td>\n",
              "    </tr>\n",
              "    <tr>\n",
              "      <th>user_activity_var_12</th>\n",
              "      <td>180.8026</td>\n",
              "      <td>3.2373e-41</td>\n",
              "    </tr>\n",
              "  </tbody>\n",
              "</table>\n",
              "</div>\n",
              "      <button class=\"colab-df-convert\" onclick=\"convertToInteractive('df-301885d8-b7f7-4106-a45e-cec4d299a4a5')\"\n",
              "              title=\"Convert this dataframe to an interactive table.\"\n",
              "              style=\"display:none;\">\n",
              "        \n",
              "  <svg xmlns=\"http://www.w3.org/2000/svg\" height=\"24px\"viewBox=\"0 0 24 24\"\n",
              "       width=\"24px\">\n",
              "    <path d=\"M0 0h24v24H0V0z\" fill=\"none\"/>\n",
              "    <path d=\"M18.56 5.44l.94 2.06.94-2.06 2.06-.94-2.06-.94-.94-2.06-.94 2.06-2.06.94zm-11 1L8.5 8.5l.94-2.06 2.06-.94-2.06-.94L8.5 2.5l-.94 2.06-2.06.94zm10 10l.94 2.06.94-2.06 2.06-.94-2.06-.94-.94-2.06-.94 2.06-2.06.94z\"/><path d=\"M17.41 7.96l-1.37-1.37c-.4-.4-.92-.59-1.43-.59-.52 0-1.04.2-1.43.59L10.3 9.45l-7.72 7.72c-.78.78-.78 2.05 0 2.83L4 21.41c.39.39.9.59 1.41.59.51 0 1.02-.2 1.41-.59l7.78-7.78 2.81-2.81c.8-.78.8-2.07 0-2.86zM5.41 20L4 18.59l7.72-7.72 1.47 1.35L5.41 20z\"/>\n",
              "  </svg>\n",
              "      </button>\n",
              "      \n",
              "  <style>\n",
              "    .colab-df-container {\n",
              "      display:flex;\n",
              "      flex-wrap:wrap;\n",
              "      gap: 12px;\n",
              "    }\n",
              "\n",
              "    .colab-df-convert {\n",
              "      background-color: #E8F0FE;\n",
              "      border: none;\n",
              "      border-radius: 50%;\n",
              "      cursor: pointer;\n",
              "      display: none;\n",
              "      fill: #1967D2;\n",
              "      height: 32px;\n",
              "      padding: 0 0 0 0;\n",
              "      width: 32px;\n",
              "    }\n",
              "\n",
              "    .colab-df-convert:hover {\n",
              "      background-color: #E2EBFA;\n",
              "      box-shadow: 0px 1px 2px rgba(60, 64, 67, 0.3), 0px 1px 3px 1px rgba(60, 64, 67, 0.15);\n",
              "      fill: #174EA6;\n",
              "    }\n",
              "\n",
              "    [theme=dark] .colab-df-convert {\n",
              "      background-color: #3B4455;\n",
              "      fill: #D2E3FC;\n",
              "    }\n",
              "\n",
              "    [theme=dark] .colab-df-convert:hover {\n",
              "      background-color: #434B5C;\n",
              "      box-shadow: 0px 1px 3px 1px rgba(0, 0, 0, 0.15);\n",
              "      filter: drop-shadow(0px 1px 2px rgba(0, 0, 0, 0.3));\n",
              "      fill: #FFFFFF;\n",
              "    }\n",
              "  </style>\n",
              "\n",
              "      <script>\n",
              "        const buttonEl =\n",
              "          document.querySelector('#df-301885d8-b7f7-4106-a45e-cec4d299a4a5 button.colab-df-convert');\n",
              "        buttonEl.style.display =\n",
              "          google.colab.kernel.accessAllowed ? 'block' : 'none';\n",
              "\n",
              "        async function convertToInteractive(key) {\n",
              "          const element = document.querySelector('#df-301885d8-b7f7-4106-a45e-cec4d299a4a5');\n",
              "          const dataTable =\n",
              "            await google.colab.kernel.invokeFunction('convertToInteractive',\n",
              "                                                     [key], {});\n",
              "          if (!dataTable) return;\n",
              "\n",
              "          const docLinkHtml = 'Like what you see? Visit the ' +\n",
              "            '<a target=\"_blank\" href=https://colab.research.google.com/notebooks/data_table.ipynb>data table notebook</a>'\n",
              "            + ' to learn more about interactive tables.';\n",
              "          element.innerHTML = '';\n",
              "          dataTable['output_type'] = 'display_data';\n",
              "          await google.colab.output.renderOutput(dataTable, element);\n",
              "          const docLink = document.createElement('div');\n",
              "          docLink.innerHTML = docLinkHtml;\n",
              "          element.appendChild(docLink);\n",
              "        }\n",
              "      </script>\n",
              "    </div>\n",
              "  </div>\n",
              "  "
            ]
          },
          "metadata": {}
        }
      ]
    },
    {
      "cell_type": "markdown",
      "source": [
        "For a significance level of 0.05, user_activity_var_{3, 6} are independent of the target variable."
      ],
      "metadata": {
        "id": "7IY6D2l7xMaI"
      }
    },
    {
      "cell_type": "markdown",
      "source": [
        "### Anova F-test: continuous feature and categorical target"
      ],
      "metadata": {
        "id": "sMs5bLbUJF6u"
      }
    },
    {
      "cell_type": "code",
      "source": [
        "anova_test = f_classif(train[num_features], train['buy'])\n",
        "display(pd.DataFrame(data={'f-statistic': anova_test[0], \n",
        "                           'p-value': anova_test[1]}, \n",
        "                     index=num_features))"
      ],
      "metadata": {
        "colab": {
          "base_uri": "https://localhost:8080/",
          "height": 0
        },
        "id": "awG-mTB0v40_",
        "outputId": "66de3a94-242b-4103-d33d-ca84c922e8ec"
      },
      "execution_count": 43,
      "outputs": [
        {
          "output_type": "display_data",
          "data": {
            "text/plain": [
              "                      f-statistic      p-value\n",
              "products_purchased         1.3310   2.4863e-01\n",
              "date_gap_months         1093.4472  1.5983e-236\n",
              "created_at_quarter        13.8001   2.0361e-04\n",
              "created_at_month          13.7576   2.0826e-04\n",
              "created_at_day             1.2197   2.6943e-01\n",
              "created_at_dayofweek       0.0948   7.5811e-01"
            ],
            "text/html": [
              "\n",
              "  <div id=\"df-d69dfadb-feec-454a-bf62-68539a2fe7de\">\n",
              "    <div class=\"colab-df-container\">\n",
              "      <div>\n",
              "<style scoped>\n",
              "    .dataframe tbody tr th:only-of-type {\n",
              "        vertical-align: middle;\n",
              "    }\n",
              "\n",
              "    .dataframe tbody tr th {\n",
              "        vertical-align: top;\n",
              "    }\n",
              "\n",
              "    .dataframe thead th {\n",
              "        text-align: right;\n",
              "    }\n",
              "</style>\n",
              "<table border=\"1\" class=\"dataframe\">\n",
              "  <thead>\n",
              "    <tr style=\"text-align: right;\">\n",
              "      <th></th>\n",
              "      <th>f-statistic</th>\n",
              "      <th>p-value</th>\n",
              "    </tr>\n",
              "  </thead>\n",
              "  <tbody>\n",
              "    <tr>\n",
              "      <th>products_purchased</th>\n",
              "      <td>1.3310</td>\n",
              "      <td>2.4863e-01</td>\n",
              "    </tr>\n",
              "    <tr>\n",
              "      <th>date_gap_months</th>\n",
              "      <td>1093.4472</td>\n",
              "      <td>1.5983e-236</td>\n",
              "    </tr>\n",
              "    <tr>\n",
              "      <th>created_at_quarter</th>\n",
              "      <td>13.8001</td>\n",
              "      <td>2.0361e-04</td>\n",
              "    </tr>\n",
              "    <tr>\n",
              "      <th>created_at_month</th>\n",
              "      <td>13.7576</td>\n",
              "      <td>2.0826e-04</td>\n",
              "    </tr>\n",
              "    <tr>\n",
              "      <th>created_at_day</th>\n",
              "      <td>1.2197</td>\n",
              "      <td>2.6943e-01</td>\n",
              "    </tr>\n",
              "    <tr>\n",
              "      <th>created_at_dayofweek</th>\n",
              "      <td>0.0948</td>\n",
              "      <td>7.5811e-01</td>\n",
              "    </tr>\n",
              "  </tbody>\n",
              "</table>\n",
              "</div>\n",
              "      <button class=\"colab-df-convert\" onclick=\"convertToInteractive('df-d69dfadb-feec-454a-bf62-68539a2fe7de')\"\n",
              "              title=\"Convert this dataframe to an interactive table.\"\n",
              "              style=\"display:none;\">\n",
              "        \n",
              "  <svg xmlns=\"http://www.w3.org/2000/svg\" height=\"24px\"viewBox=\"0 0 24 24\"\n",
              "       width=\"24px\">\n",
              "    <path d=\"M0 0h24v24H0V0z\" fill=\"none\"/>\n",
              "    <path d=\"M18.56 5.44l.94 2.06.94-2.06 2.06-.94-2.06-.94-.94-2.06-.94 2.06-2.06.94zm-11 1L8.5 8.5l.94-2.06 2.06-.94-2.06-.94L8.5 2.5l-.94 2.06-2.06.94zm10 10l.94 2.06.94-2.06 2.06-.94-2.06-.94-.94-2.06-.94 2.06-2.06.94z\"/><path d=\"M17.41 7.96l-1.37-1.37c-.4-.4-.92-.59-1.43-.59-.52 0-1.04.2-1.43.59L10.3 9.45l-7.72 7.72c-.78.78-.78 2.05 0 2.83L4 21.41c.39.39.9.59 1.41.59.51 0 1.02-.2 1.41-.59l7.78-7.78 2.81-2.81c.8-.78.8-2.07 0-2.86zM5.41 20L4 18.59l7.72-7.72 1.47 1.35L5.41 20z\"/>\n",
              "  </svg>\n",
              "      </button>\n",
              "      \n",
              "  <style>\n",
              "    .colab-df-container {\n",
              "      display:flex;\n",
              "      flex-wrap:wrap;\n",
              "      gap: 12px;\n",
              "    }\n",
              "\n",
              "    .colab-df-convert {\n",
              "      background-color: #E8F0FE;\n",
              "      border: none;\n",
              "      border-radius: 50%;\n",
              "      cursor: pointer;\n",
              "      display: none;\n",
              "      fill: #1967D2;\n",
              "      height: 32px;\n",
              "      padding: 0 0 0 0;\n",
              "      width: 32px;\n",
              "    }\n",
              "\n",
              "    .colab-df-convert:hover {\n",
              "      background-color: #E2EBFA;\n",
              "      box-shadow: 0px 1px 2px rgba(60, 64, 67, 0.3), 0px 1px 3px 1px rgba(60, 64, 67, 0.15);\n",
              "      fill: #174EA6;\n",
              "    }\n",
              "\n",
              "    [theme=dark] .colab-df-convert {\n",
              "      background-color: #3B4455;\n",
              "      fill: #D2E3FC;\n",
              "    }\n",
              "\n",
              "    [theme=dark] .colab-df-convert:hover {\n",
              "      background-color: #434B5C;\n",
              "      box-shadow: 0px 1px 3px 1px rgba(0, 0, 0, 0.15);\n",
              "      filter: drop-shadow(0px 1px 2px rgba(0, 0, 0, 0.3));\n",
              "      fill: #FFFFFF;\n",
              "    }\n",
              "  </style>\n",
              "\n",
              "      <script>\n",
              "        const buttonEl =\n",
              "          document.querySelector('#df-d69dfadb-feec-454a-bf62-68539a2fe7de button.colab-df-convert');\n",
              "        buttonEl.style.display =\n",
              "          google.colab.kernel.accessAllowed ? 'block' : 'none';\n",
              "\n",
              "        async function convertToInteractive(key) {\n",
              "          const element = document.querySelector('#df-d69dfadb-feec-454a-bf62-68539a2fe7de');\n",
              "          const dataTable =\n",
              "            await google.colab.kernel.invokeFunction('convertToInteractive',\n",
              "                                                     [key], {});\n",
              "          if (!dataTable) return;\n",
              "\n",
              "          const docLinkHtml = 'Like what you see? Visit the ' +\n",
              "            '<a target=\"_blank\" href=https://colab.research.google.com/notebooks/data_table.ipynb>data table notebook</a>'\n",
              "            + ' to learn more about interactive tables.';\n",
              "          element.innerHTML = '';\n",
              "          dataTable['output_type'] = 'display_data';\n",
              "          await google.colab.output.renderOutput(dataTable, element);\n",
              "          const docLink = document.createElement('div');\n",
              "          docLink.innerHTML = docLinkHtml;\n",
              "          element.appendChild(docLink);\n",
              "        }\n",
              "      </script>\n",
              "    </div>\n",
              "  </div>\n",
              "  "
            ]
          },
          "metadata": {}
        }
      ]
    },
    {
      "cell_type": "markdown",
      "source": [
        "From the date features we created, date_gap_months is very predictive of the target.  \n",
        "Month and Quarter of the lead creation capture almost the same information hence the similar score. We will pick only the month among them.  \n",
        "The other features are not predictive of the target."
      ],
      "metadata": {
        "id": "-fV9Mmg7JxA-"
      }
    },
    {
      "cell_type": "markdown",
      "source": [
        "### Mutual Information score"
      ],
      "metadata": {
        "id": "ioVkv1f-JUjP"
      }
    },
    {
      "cell_type": "code",
      "source": [
        "cat_mask = [f in cat_features for f in features] #boolean mask for discrete features\n",
        "mi_scores = mutual_info_classif(train[features], train['buy'], \n",
        "                                discrete_features=cat_mask, \n",
        "                                random_state=SEED)\n",
        "\n",
        "mi_scores_percent = mi_scores / sum(mi_scores) * 100\n",
        "\n",
        "display(pd.DataFrame(data={'mi_score': mi_scores, \n",
        "                           'mi_score_percent': mi_scores_percent}, \n",
        "                     index=features))"
      ],
      "metadata": {
        "colab": {
          "base_uri": "https://localhost:8080/",
          "height": 0
        },
        "id": "fFGJlHA6IYsD",
        "outputId": "43267d27-eeb8-4991-c867-0bdd26690910"
      },
      "execution_count": 44,
      "outputs": [
        {
          "output_type": "display_data",
          "data": {
            "text/plain": [
              "                        mi_score  mi_score_percent\n",
              "campaign_var_1        5.0906e-03            2.8991\n",
              "campaign_var_2        5.9971e-03            3.4153\n",
              "products_purchased    3.5895e-05            0.0204\n",
              "user_activity_var_1   1.1801e-03            0.6721\n",
              "user_activity_var_2   2.0423e-02           11.6310\n",
              "user_activity_var_3   1.3147e-05            0.0075\n",
              "user_activity_var_4   2.5593e-02           14.5750\n",
              "user_activity_var_5   1.0703e-02            6.0954\n",
              "user_activity_var_6   8.5754e-05            0.0488\n",
              "user_activity_var_7   4.7327e-04            0.2695\n",
              "user_activity_var_8   7.2288e-03            4.1167\n",
              "user_activity_var_9   3.5365e-02           20.1401\n",
              "user_activity_var_10  1.1411e-03            0.6498\n",
              "user_activity_var_11  3.0165e-02           17.1787\n",
              "user_activity_var_12  7.9900e-04            0.4550\n",
              "date_gap_months       2.5993e-02           14.8027\n",
              "created_at_quarter    3.9752e-03            2.2638\n",
              "created_at_month      7.8558e-04            0.4474\n",
              "created_at_day        5.4728e-04            0.3117\n",
              "created_at_dayofweek  0.0000e+00            0.0000"
            ],
            "text/html": [
              "\n",
              "  <div id=\"df-a8ff2fb3-0a34-41f1-8d9c-b85219ef85e5\">\n",
              "    <div class=\"colab-df-container\">\n",
              "      <div>\n",
              "<style scoped>\n",
              "    .dataframe tbody tr th:only-of-type {\n",
              "        vertical-align: middle;\n",
              "    }\n",
              "\n",
              "    .dataframe tbody tr th {\n",
              "        vertical-align: top;\n",
              "    }\n",
              "\n",
              "    .dataframe thead th {\n",
              "        text-align: right;\n",
              "    }\n",
              "</style>\n",
              "<table border=\"1\" class=\"dataframe\">\n",
              "  <thead>\n",
              "    <tr style=\"text-align: right;\">\n",
              "      <th></th>\n",
              "      <th>mi_score</th>\n",
              "      <th>mi_score_percent</th>\n",
              "    </tr>\n",
              "  </thead>\n",
              "  <tbody>\n",
              "    <tr>\n",
              "      <th>campaign_var_1</th>\n",
              "      <td>5.0906e-03</td>\n",
              "      <td>2.8991</td>\n",
              "    </tr>\n",
              "    <tr>\n",
              "      <th>campaign_var_2</th>\n",
              "      <td>5.9971e-03</td>\n",
              "      <td>3.4153</td>\n",
              "    </tr>\n",
              "    <tr>\n",
              "      <th>products_purchased</th>\n",
              "      <td>3.5895e-05</td>\n",
              "      <td>0.0204</td>\n",
              "    </tr>\n",
              "    <tr>\n",
              "      <th>user_activity_var_1</th>\n",
              "      <td>1.1801e-03</td>\n",
              "      <td>0.6721</td>\n",
              "    </tr>\n",
              "    <tr>\n",
              "      <th>user_activity_var_2</th>\n",
              "      <td>2.0423e-02</td>\n",
              "      <td>11.6310</td>\n",
              "    </tr>\n",
              "    <tr>\n",
              "      <th>user_activity_var_3</th>\n",
              "      <td>1.3147e-05</td>\n",
              "      <td>0.0075</td>\n",
              "    </tr>\n",
              "    <tr>\n",
              "      <th>user_activity_var_4</th>\n",
              "      <td>2.5593e-02</td>\n",
              "      <td>14.5750</td>\n",
              "    </tr>\n",
              "    <tr>\n",
              "      <th>user_activity_var_5</th>\n",
              "      <td>1.0703e-02</td>\n",
              "      <td>6.0954</td>\n",
              "    </tr>\n",
              "    <tr>\n",
              "      <th>user_activity_var_6</th>\n",
              "      <td>8.5754e-05</td>\n",
              "      <td>0.0488</td>\n",
              "    </tr>\n",
              "    <tr>\n",
              "      <th>user_activity_var_7</th>\n",
              "      <td>4.7327e-04</td>\n",
              "      <td>0.2695</td>\n",
              "    </tr>\n",
              "    <tr>\n",
              "      <th>user_activity_var_8</th>\n",
              "      <td>7.2288e-03</td>\n",
              "      <td>4.1167</td>\n",
              "    </tr>\n",
              "    <tr>\n",
              "      <th>user_activity_var_9</th>\n",
              "      <td>3.5365e-02</td>\n",
              "      <td>20.1401</td>\n",
              "    </tr>\n",
              "    <tr>\n",
              "      <th>user_activity_var_10</th>\n",
              "      <td>1.1411e-03</td>\n",
              "      <td>0.6498</td>\n",
              "    </tr>\n",
              "    <tr>\n",
              "      <th>user_activity_var_11</th>\n",
              "      <td>3.0165e-02</td>\n",
              "      <td>17.1787</td>\n",
              "    </tr>\n",
              "    <tr>\n",
              "      <th>user_activity_var_12</th>\n",
              "      <td>7.9900e-04</td>\n",
              "      <td>0.4550</td>\n",
              "    </tr>\n",
              "    <tr>\n",
              "      <th>date_gap_months</th>\n",
              "      <td>2.5993e-02</td>\n",
              "      <td>14.8027</td>\n",
              "    </tr>\n",
              "    <tr>\n",
              "      <th>created_at_quarter</th>\n",
              "      <td>3.9752e-03</td>\n",
              "      <td>2.2638</td>\n",
              "    </tr>\n",
              "    <tr>\n",
              "      <th>created_at_month</th>\n",
              "      <td>7.8558e-04</td>\n",
              "      <td>0.4474</td>\n",
              "    </tr>\n",
              "    <tr>\n",
              "      <th>created_at_day</th>\n",
              "      <td>5.4728e-04</td>\n",
              "      <td>0.3117</td>\n",
              "    </tr>\n",
              "    <tr>\n",
              "      <th>created_at_dayofweek</th>\n",
              "      <td>0.0000e+00</td>\n",
              "      <td>0.0000</td>\n",
              "    </tr>\n",
              "  </tbody>\n",
              "</table>\n",
              "</div>\n",
              "      <button class=\"colab-df-convert\" onclick=\"convertToInteractive('df-a8ff2fb3-0a34-41f1-8d9c-b85219ef85e5')\"\n",
              "              title=\"Convert this dataframe to an interactive table.\"\n",
              "              style=\"display:none;\">\n",
              "        \n",
              "  <svg xmlns=\"http://www.w3.org/2000/svg\" height=\"24px\"viewBox=\"0 0 24 24\"\n",
              "       width=\"24px\">\n",
              "    <path d=\"M0 0h24v24H0V0z\" fill=\"none\"/>\n",
              "    <path d=\"M18.56 5.44l.94 2.06.94-2.06 2.06-.94-2.06-.94-.94-2.06-.94 2.06-2.06.94zm-11 1L8.5 8.5l.94-2.06 2.06-.94-2.06-.94L8.5 2.5l-.94 2.06-2.06.94zm10 10l.94 2.06.94-2.06 2.06-.94-2.06-.94-.94-2.06-.94 2.06-2.06.94z\"/><path d=\"M17.41 7.96l-1.37-1.37c-.4-.4-.92-.59-1.43-.59-.52 0-1.04.2-1.43.59L10.3 9.45l-7.72 7.72c-.78.78-.78 2.05 0 2.83L4 21.41c.39.39.9.59 1.41.59.51 0 1.02-.2 1.41-.59l7.78-7.78 2.81-2.81c.8-.78.8-2.07 0-2.86zM5.41 20L4 18.59l7.72-7.72 1.47 1.35L5.41 20z\"/>\n",
              "  </svg>\n",
              "      </button>\n",
              "      \n",
              "  <style>\n",
              "    .colab-df-container {\n",
              "      display:flex;\n",
              "      flex-wrap:wrap;\n",
              "      gap: 12px;\n",
              "    }\n",
              "\n",
              "    .colab-df-convert {\n",
              "      background-color: #E8F0FE;\n",
              "      border: none;\n",
              "      border-radius: 50%;\n",
              "      cursor: pointer;\n",
              "      display: none;\n",
              "      fill: #1967D2;\n",
              "      height: 32px;\n",
              "      padding: 0 0 0 0;\n",
              "      width: 32px;\n",
              "    }\n",
              "\n",
              "    .colab-df-convert:hover {\n",
              "      background-color: #E2EBFA;\n",
              "      box-shadow: 0px 1px 2px rgba(60, 64, 67, 0.3), 0px 1px 3px 1px rgba(60, 64, 67, 0.15);\n",
              "      fill: #174EA6;\n",
              "    }\n",
              "\n",
              "    [theme=dark] .colab-df-convert {\n",
              "      background-color: #3B4455;\n",
              "      fill: #D2E3FC;\n",
              "    }\n",
              "\n",
              "    [theme=dark] .colab-df-convert:hover {\n",
              "      background-color: #434B5C;\n",
              "      box-shadow: 0px 1px 3px 1px rgba(0, 0, 0, 0.15);\n",
              "      filter: drop-shadow(0px 1px 2px rgba(0, 0, 0, 0.3));\n",
              "      fill: #FFFFFF;\n",
              "    }\n",
              "  </style>\n",
              "\n",
              "      <script>\n",
              "        const buttonEl =\n",
              "          document.querySelector('#df-a8ff2fb3-0a34-41f1-8d9c-b85219ef85e5 button.colab-df-convert');\n",
              "        buttonEl.style.display =\n",
              "          google.colab.kernel.accessAllowed ? 'block' : 'none';\n",
              "\n",
              "        async function convertToInteractive(key) {\n",
              "          const element = document.querySelector('#df-a8ff2fb3-0a34-41f1-8d9c-b85219ef85e5');\n",
              "          const dataTable =\n",
              "            await google.colab.kernel.invokeFunction('convertToInteractive',\n",
              "                                                     [key], {});\n",
              "          if (!dataTable) return;\n",
              "\n",
              "          const docLinkHtml = 'Like what you see? Visit the ' +\n",
              "            '<a target=\"_blank\" href=https://colab.research.google.com/notebooks/data_table.ipynb>data table notebook</a>'\n",
              "            + ' to learn more about interactive tables.';\n",
              "          element.innerHTML = '';\n",
              "          dataTable['output_type'] = 'display_data';\n",
              "          await google.colab.output.renderOutput(dataTable, element);\n",
              "          const docLink = document.createElement('div');\n",
              "          docLink.innerHTML = docLinkHtml;\n",
              "          element.appendChild(docLink);\n",
              "        }\n",
              "      </script>\n",
              "    </div>\n",
              "  </div>\n",
              "  "
            ]
          },
          "metadata": {}
        }
      ]
    },
    {
      "cell_type": "markdown",
      "source": [
        "The features we rejected based on our previous tests also have poor MI scores.  \n",
        "Some features have very high MI scores so we can create a reduced feature set using them."
      ],
      "metadata": {
        "id": "HR95UTYLLcIz"
      }
    },
    {
      "cell_type": "markdown",
      "source": [
        "## Feature sets"
      ],
      "metadata": {
        "id": "LVv6IS_FNooV"
      }
    },
    {
      "cell_type": "code",
      "source": [
        "top_features = ['campaign_var_1', 'campaign_var_2', 'user_activity_var_2', \n",
        "                'user_activity_var_4', 'user_activity_var_5', 'user_activity_var_8',\n",
        "                'user_activity_var_9', 'user_activity_var_11', 'date_gap_months',\n",
        "                'created_at_quarter']\n",
        "\n",
        "rejected_features = ['products_purchased', 'user_activity_var_3', 'user_activity_var_6',\n",
        "                     'created_at_month', 'created_at_dayofweek']\n",
        "\n",
        "selected_features = [f for f in features if f not in rejected_features]"
      ],
      "metadata": {
        "id": "4p4cFCH3LFku"
      },
      "execution_count": 45,
      "outputs": []
    },
    {
      "cell_type": "markdown",
      "source": [
        "# Modeling (baseline)"
      ],
      "metadata": {
        "id": "lO41YOEwNjV4"
      }
    },
    {
      "cell_type": "code",
      "source": [
        "xtrain, xval, ytrain, yval = train_test_split(train, train['buy'],\n",
        "                                              test_size=0.2,\n",
        "                                              stratify=train['buy'],\n",
        "                                              shuffle=True,\n",
        "                                              random_state=SEED)"
      ],
      "metadata": {
        "id": "j4RjrTnnOea8"
      },
      "execution_count": 51,
      "outputs": []
    },
    {
      "cell_type": "code",
      "source": [
        "baseline = XGBClassifier(\n",
        "    n_estimators=2000,\n",
        "    tree_method='gpu_hist',\n",
        "    enable_categorical=True,\n",
        "    max_cat_to_onehot=5,\n",
        "    objective='binary:logistic',\n",
        "    eval_metric='error',\n",
        "    scale_pos_weight=19, # negative samples / positive samples\n",
        "    random_state=SEED)"
      ],
      "metadata": {
        "id": "qsQ3HPitNihM"
      },
      "execution_count": 57,
      "outputs": []
    },
    {
      "cell_type": "markdown",
      "source": [
        "### Expmt 1: All features"
      ],
      "metadata": {
        "id": "rGYvACmeRIKb"
      }
    },
    {
      "cell_type": "code",
      "source": [
        "baseline.fit(\n",
        "    xtrain[features], ytrain,\n",
        "    verbose=0)\n",
        "\n",
        "exp1_auc = roc_auc_score(yval, baseline.predict_proba(xval[features])[:, 1])\n",
        "exp1_f1 = f1_score(yval, baseline.predict(xval[features]))\n",
        "print(f'Expmt-1: f1_score = {exp1_f1:.5f}, AUC = {exp1_auc:.5f}')"
      ],
      "metadata": {
        "colab": {
          "base_uri": "https://localhost:8080/"
        },
        "id": "d4nCsuf_RHCI",
        "outputId": "6d513a35-63cc-4c7f-a9e7-b60652d2824d"
      },
      "execution_count": 58,
      "outputs": [
        {
          "output_type": "stream",
          "name": "stdout",
          "text": [
            "Expmt-1: f1_score = 0.64141, AUC = 0.93071\n"
          ]
        }
      ]
    },
    {
      "cell_type": "markdown",
      "source": [
        "### Expmt 2: Selected features"
      ],
      "metadata": {
        "id": "LJqIgVYHSINl"
      }
    },
    {
      "cell_type": "code",
      "source": [
        "baseline.fit(\n",
        "    xtrain[selected_features], ytrain,\n",
        "    verbose=0)\n",
        "\n",
        "exp2_auc = roc_auc_score(yval, baseline.predict_proba(xval[selected_features])[:, 1])\n",
        "exp2_f1 = f1_score(yval, baseline.predict(xval[selected_features]))\n",
        "print(f'Expmt-2: f1_score = {exp2_f1:.5f}, AUC = {exp2_auc:.5f}')"
      ],
      "metadata": {
        "colab": {
          "base_uri": "https://localhost:8080/"
        },
        "id": "eVYBq8sYSHF1",
        "outputId": "cab9b5d0-2289-4819-8565-19860598350c"
      },
      "execution_count": 59,
      "outputs": [
        {
          "output_type": "stream",
          "name": "stdout",
          "text": [
            "Expmt-2: f1_score = 0.61252, AUC = 0.91933\n"
          ]
        }
      ]
    },
    {
      "cell_type": "markdown",
      "source": [
        "### Expmt 3: Top features"
      ],
      "metadata": {
        "id": "wHJXsZTxSYh8"
      }
    },
    {
      "cell_type": "code",
      "source": [
        "baseline.fit(\n",
        "    xtrain[top_features], ytrain,\n",
        "    verbose=0)\n",
        "\n",
        "exp3_auc = roc_auc_score(yval, baseline.predict_proba(xval[top_features])[:, 1])\n",
        "exp3_f1 = f1_score(yval, baseline.predict(xval[top_features]))\n",
        "print(f'Expmt-3: f1_score = {exp3_f1:.5f}, AUC = {exp3_auc:.5f}')"
      ],
      "metadata": {
        "colab": {
          "base_uri": "https://localhost:8080/"
        },
        "id": "7DfphDlhSVPa",
        "outputId": "53026cc6-d8ef-4d2f-a9d7-d108739b116e"
      },
      "execution_count": 60,
      "outputs": [
        {
          "output_type": "stream",
          "name": "stdout",
          "text": [
            "Expmt-3: f1_score = 0.56835, AUC = 0.90575\n"
          ]
        }
      ]
    }
  ]
}