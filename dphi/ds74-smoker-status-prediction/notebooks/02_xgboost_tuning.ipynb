{
  "nbformat": 4,
  "nbformat_minor": 0,
  "metadata": {
    "colab": {
      "name": "02-xgboost-tuning",
      "provenance": [],
      "collapsed_sections": [],
      "authorship_tag": "ABX9TyNQzLMfiU98Z78qR7SPOfXx",
      "include_colab_link": true
    },
    "kernelspec": {
      "name": "python3",
      "display_name": "Python 3"
    },
    "language_info": {
      "name": "python"
    },
    "accelerator": "GPU"
  },
  "cells": [
    {
      "cell_type": "markdown",
      "metadata": {
        "id": "view-in-github",
        "colab_type": "text"
      },
      "source": [
        "<a href=\"https://colab.research.google.com/github/sidt-ai/data-science-competitions/blob/main/dphi/ds74-smoker-status-prediction/notebooks/02_xgboost_tuning.ipynb\" target=\"_parent\"><img src=\"https://colab.research.google.com/assets/colab-badge.svg\" alt=\"Open In Colab\"/></a>"
      ]
    },
    {
      "cell_type": "markdown",
      "source": [
        "# Setup"
      ],
      "metadata": {
        "id": "67Fr1pCIVDn1"
      }
    },
    {
      "cell_type": "code",
      "source": [
        "import os\n",
        "import gc\n",
        "import time\n",
        "import warnings\n",
        "import subprocess\n",
        "\n",
        "gc.enable()\n",
        "warnings.filterwarnings('ignore')"
      ],
      "metadata": {
        "id": "Os-JDvBG7FzE"
      },
      "execution_count": null,
      "outputs": []
    },
    {
      "cell_type": "code",
      "source": [
        "%%capture\n",
        "!pip install xgboost==1.5.0\n",
        "!pip install optuna==2.10.0"
      ],
      "metadata": {
        "id": "0CNc-yJxG4JD"
      },
      "execution_count": null,
      "outputs": []
    },
    {
      "cell_type": "code",
      "source": [
        "import numpy as np\n",
        "from scipy.stats import mode, ttest_ind\n",
        "import pandas as pd\n",
        "pd.set_option('precision', 4)\n",
        "pd.set_option('display.max_columns', None)\n",
        "\n",
        "import xgboost as xgb\n",
        "import optuna\n",
        "from optuna.samplers import TPESampler\n",
        "from optuna.integration import XGBoostPruningCallback\n",
        "\n",
        "from sklearn.feature_selection import chi2, f_classif, mutual_info_classif\n",
        "from sklearn.model_selection import StratifiedKFold, train_test_split\n",
        "from sklearn.metrics import roc_auc_score, f1_score"
      ],
      "metadata": {
        "id": "enPrQ39j8tNc"
      },
      "execution_count": null,
      "outputs": []
    },
    {
      "cell_type": "code",
      "source": [
        "xgb.__version__, optuna.__version__"
      ],
      "metadata": {
        "colab": {
          "base_uri": "https://localhost:8080/"
        },
        "id": "jeluYwSLUyKW",
        "outputId": "85c2b830-6a10-424a-c93d-268cd483a8eb"
      },
      "execution_count": null,
      "outputs": [
        {
          "output_type": "execute_result",
          "data": {
            "text/plain": [
              "('1.5.0', '2.10.0')"
            ]
          },
          "metadata": {},
          "execution_count": 4
        }
      ]
    },
    {
      "cell_type": "code",
      "source": [
        "SEED = 2311\n",
        "\n",
        "os.environ['PYTHONHASHSEED'] = str(SEED)\n",
        "np.random.seed(SEED)"
      ],
      "metadata": {
        "id": "dpeuuz1_UzJL"
      },
      "execution_count": null,
      "outputs": []
    },
    {
      "cell_type": "code",
      "source": [
        "#Check GPU availability\n",
        "try:\n",
        "    subprocess.check_output('nvidia-smi')\n",
        "    GPU = True\n",
        "except Exception:\n",
        "    GPU = False\n",
        "\n",
        "print(f'GPU available: {GPU}')"
      ],
      "metadata": {
        "colab": {
          "base_uri": "https://localhost:8080/"
        },
        "id": "Kvtb-1FvU1xE",
        "outputId": "e550f73c-de58-4fd0-cb97-7545553d8f63"
      },
      "execution_count": null,
      "outputs": [
        {
          "output_type": "stream",
          "name": "stdout",
          "text": [
            "GPU available: True\n"
          ]
        }
      ]
    },
    {
      "cell_type": "markdown",
      "source": [
        "# Data preprocessing"
      ],
      "metadata": {
        "id": "ZAoBaQdPU-hL"
      }
    },
    {
      "cell_type": "code",
      "execution_count": null,
      "metadata": {
        "id": "_UQyg14oIYa8"
      },
      "outputs": [],
      "source": [
        "train_url = 'https://raw.githubusercontent.com/sidt-ai/data-science-competitions/main/dphi/ds74-smoker-status-prediction/data/raw/train_dataset.csv'\n",
        "test_url = 'https://raw.githubusercontent.com/sidt-ai/data-science-competitions/main/dphi/ds74-smoker-status-prediction/data/raw/test_dataset.csv'"
      ]
    },
    {
      "cell_type": "code",
      "source": [
        "train = pd.read_csv(train_url)\n",
        "test = pd.read_csv(test_url)"
      ],
      "metadata": {
        "id": "GI-tIhM59diG"
      },
      "execution_count": null,
      "outputs": []
    },
    {
      "cell_type": "code",
      "source": [
        "features = test.columns.to_list()\n",
        "TARGET = 'smoking'"
      ],
      "metadata": {
        "id": "nTmBC1bpVXGY"
      },
      "execution_count": null,
      "outputs": []
    },
    {
      "cell_type": "markdown",
      "source": [
        "[EDA notebook](https://github.com/sidt-ai/data-science-competitions/blob/main/dphi/ds74-smoker-status-prediction/notebooks/01_eda_and_baseline.ipynb)"
      ],
      "metadata": {
        "id": "AYm6xLcaVou-"
      }
    },
    {
      "cell_type": "code",
      "source": [
        "cat_features = ['hearing(left)', 'hearing(right)', 'dental caries']\n",
        "reduced_features = [f for f in features if f not in ('hearing(left)', 'hearing(right)', 'Cholesterol', 'Urine protein')]"
      ],
      "metadata": {
        "id": "_xm0cjO9VKln"
      },
      "execution_count": null,
      "outputs": []
    },
    {
      "cell_type": "code",
      "source": [
        "train[cat_features] = train[cat_features].astype('category')\n",
        "test[cat_features] = test[cat_features].astype('category')"
      ],
      "metadata": {
        "id": "GVYYBveFYKLQ"
      },
      "execution_count": null,
      "outputs": []
    },
    {
      "cell_type": "markdown",
      "source": [
        "### Creating folds"
      ],
      "metadata": {
        "id": "2aMSNDaeaHbF"
      }
    },
    {
      "cell_type": "code",
      "source": [
        "N_SPLITS = 5\n",
        "\n",
        "skf = StratifiedKFold(n_splits=N_SPLITS, shuffle=True, random_state=SEED)\n",
        "train['fold'] = -1\n",
        "\n",
        "for fold, (_, idx) in enumerate(skf.split(X=train, y=train[TARGET])):\n",
        "    train.loc[idx, 'fold'] = fold"
      ],
      "metadata": {
        "id": "49nn0VC6aJ_N"
      },
      "execution_count": null,
      "outputs": []
    },
    {
      "cell_type": "markdown",
      "source": [
        "# Hyperparameter tuning"
      ],
      "metadata": {
        "id": "QXrtLntLYPyn"
      }
    },
    {
      "cell_type": "code",
      "source": [
        "N_ESTIMATORS = 10000\n",
        "EARLY_STOPPING_ROUNDS = 200\n",
        "TREE_METHOD = 'gpu_hist' if GPU else 'hist'\n",
        "OBJECTIVE = 'binary:logistic'\n",
        "EVAL_METRIC = 'error'"
      ],
      "metadata": {
        "id": "6TOh1HK_YTAm"
      },
      "execution_count": null,
      "outputs": []
    },
    {
      "cell_type": "code",
      "source": [
        "base_params = {\n",
        "    'n_estimators': N_ESTIMATORS,\n",
        "    'early_stopping_rounds': EARLY_STOPPING_ROUNDS,\n",
        "    'tree_method': TREE_METHOD,\n",
        "    'enable_categorical': GPU, #only available for gpu_hist\n",
        "    'max_cat_to_onehot': 5,\n",
        "    'eval_metric': EVAL_METRIC,\n",
        "    'random_state': SEED,\n",
        "    'verbosity': 0\n",
        "}"
      ],
      "metadata": {
        "id": "_o1o9R1_YZeR"
      },
      "execution_count": null,
      "outputs": []
    },
    {
      "cell_type": "code",
      "source": [
        "def objective(trial, base_params, data):\n",
        "    #Defining hyperparameter search space\n",
        "    param_grid = {\n",
        "        'max_depth': trial.suggest_int('max_depth', 3, 15),\n",
        "        \n",
        "        # 'max_bin': trial.suggest_int('max_bin', 4, 512),\n",
        "        \n",
        "        'learning_rate': trial.suggest_float(\n",
        "            'learning_rate', 0.05, 0.3, step=0.025),\n",
        "        \n",
        "        # 'booster': trial.suggest_categorical('booster', ['gbtree', 'dart']),\n",
        "        \n",
        "        'gamma': trial.suggest_float('gamma', 0.1, 20.0, step=0.1),\n",
        "        \n",
        "        'min_child_weight': trial.suggest_int('min_child_weight', 2, 100),\n",
        "        \n",
        "        'max_delta_step': trial.suggest_float('max_delta_step', 1, 10, step=0.5),\n",
        "        \n",
        "        'subsample': trial.suggest_float('subsample', 0.5, 0.95, step=0.05),\n",
        "        \n",
        "        'colsample_bytree': trial.suggest_float(\n",
        "            'colsample_bytree', 0.5, 0.95, step=0.05),\n",
        "        \n",
        "        'colsample_bylevel': trial.suggest_float(\n",
        "            'colsample_bylevel', 0.5, 0.95, step=0.05),\n",
        "        \n",
        "        'colsample_bynode': trial.suggest_float(\n",
        "            'colsample_bynode', 0.5, 0.95, step=0.05),\n",
        "        \n",
        "        'reg_alpha': trial.suggest_float('reg_alpha', 1e-5, 1e3, log=True),\n",
        "        \n",
        "        'reg_lambda': trial.suggest_float('reg_lambda', 1e-5, 1e3, log=True)\n",
        "    }\n",
        "\n",
        "    # if param_grid['booster'] == 'dart':\n",
        "    #     param_grid['sample_type'] = 'weighted'\n",
        "    #     param_grid['normalize_type'] = trial.suggest_categorical(\n",
        "    #         'normalize_type', ['tree', 'forest'])\n",
        "    #     param_grid['rate_drop'] = trial.suggest_float(\n",
        "    #         'rate_drop', 0.1, 0.3)\n",
        "    #     param_grid['skip_drop'] = trial.suggest_float(\n",
        "    #         'skip_drop', 0.33, 0.67)\n",
        "\n",
        "    model = xgb.XGBClassifier(\n",
        "        **base_params, \n",
        "        **param_grid, \n",
        "        callbacks = [XGBoostPruningCallback(trial, 'validation_0-auc')])\n",
        "    \n",
        "    xtrain, xval, ytrain, yval = data\n",
        "    \n",
        "    model.fit(\n",
        "        xtrain, ytrain,\n",
        "        eval_set=[(xval, yval)],\n",
        "        verbose=False)\n",
        "\n",
        "    predictions = model.predict(xval)\n",
        "    return f1_score(yval, predictions)"
      ],
      "metadata": {
        "id": "FQfi5phWY4a8"
      },
      "execution_count": null,
      "outputs": []
    },
    {
      "cell_type": "code",
      "source": [
        "def tune_hyperparameters(\n",
        "        base_params,\n",
        "        data,\n",
        "        direction='maximize', \n",
        "        n_trials=5):\n",
        "    \n",
        "    study = optuna.create_study(\n",
        "        sampler=TPESampler(seed=SEED),\n",
        "        direction=direction)\n",
        "    \n",
        "    study.optimize(\n",
        "        func=lambda trial: objective(trial, base_params, data),\n",
        "        n_trials=n_trials,\n",
        "        gc_after_trial=True)\n",
        "    \n",
        "    return study.best_params, study.best_value"
      ],
      "metadata": {
        "id": "W28n6Z_7ZJnT"
      },
      "execution_count": null,
      "outputs": []
    },
    {
      "cell_type": "markdown",
      "source": [
        "### All features"
      ],
      "metadata": {
        "id": "zejChj2kdNOQ"
      }
    },
    {
      "cell_type": "code",
      "source": [
        "xtrain, xval, ytrain, yval = train_test_split(train[features], \n",
        "                                              train[TARGET],\n",
        "                                              test_size=0.2,\n",
        "                                              stratify=train[TARGET],\n",
        "                                              shuffle=True,\n",
        "                                              random_state=SEED)"
      ],
      "metadata": {
        "id": "fv5jJvUcdJ4Q"
      },
      "execution_count": null,
      "outputs": []
    },
    {
      "cell_type": "code",
      "source": [
        "%%capture\n",
        "best_params, best_value = tune_hyperparameters(base_params=base_params,\n",
        "                                               data=(xtrain, xval, ytrain, yval),\n",
        "                                               direction='maximize',\n",
        "                                               n_trials=50)"
      ],
      "metadata": {
        "id": "AfRwSQqSZPu6"
      },
      "execution_count": null,
      "outputs": []
    },
    {
      "cell_type": "code",
      "source": [
        "print(f'Best f1_score: {best_value:.5f}')\n",
        "print('Best params:')\n",
        "for key, value in best_params.items():\n",
        "    print(f'\\t{key}: {value}')"
      ],
      "metadata": {
        "colab": {
          "base_uri": "https://localhost:8080/"
        },
        "id": "GApWCuNxZbpL",
        "outputId": "9ba25674-d9f8-4cac-afd4-b131b7360585"
      },
      "execution_count": null,
      "outputs": [
        {
          "output_type": "stream",
          "name": "stdout",
          "text": [
            "Best f1_score: 0.71119\n",
            "Best params:\n",
            "\tmax_depth: 10\n",
            "\tlearning_rate: 0.22500000000000003\n",
            "\tgamma: 0.1\n",
            "\tmin_child_weight: 60\n",
            "\tmax_delta_step: 10.0\n",
            "\tsubsample: 0.75\n",
            "\tcolsample_bytree: 0.8\n",
            "\tcolsample_bylevel: 0.9\n",
            "\tcolsample_bynode: 0.65\n",
            "\treg_alpha: 1.2406159227159882e-05\n",
            "\treg_lambda: 0.002124631422420931\n"
          ]
        }
      ]
    },
    {
      "cell_type": "code",
      "source": [
        "model_params_all = dict(base_params, **best_params)"
      ],
      "metadata": {
        "id": "xvQx2J3NZgJe"
      },
      "execution_count": null,
      "outputs": []
    },
    {
      "cell_type": "markdown",
      "source": [
        "### Reduced features"
      ],
      "metadata": {
        "id": "9LRzjrmodQGH"
      }
    },
    {
      "cell_type": "code",
      "source": [
        "xtrain, xval, ytrain, yval = train_test_split(train[reduced_features], \n",
        "                                              train[TARGET],\n",
        "                                              test_size=0.2,\n",
        "                                              stratify=train[TARGET],\n",
        "                                              shuffle=True,\n",
        "                                              random_state=SEED)"
      ],
      "metadata": {
        "id": "Z_98x22ZdSSy"
      },
      "execution_count": null,
      "outputs": []
    },
    {
      "cell_type": "code",
      "source": [
        "%%capture\n",
        "best_params, best_value = tune_hyperparameters(base_params=base_params,\n",
        "                                               data=(xtrain, xval, ytrain, yval),\n",
        "                                               direction='maximize',\n",
        "                                               n_trials=50)"
      ],
      "metadata": {
        "id": "HKlBByUidapx"
      },
      "execution_count": null,
      "outputs": []
    },
    {
      "cell_type": "code",
      "source": [
        "print(f'Best f1_score: {best_value:.5f}')\n",
        "print('Best params:')\n",
        "for key, value in best_params.items():\n",
        "    print(f'\\t{key}: {value}')"
      ],
      "metadata": {
        "colab": {
          "base_uri": "https://localhost:8080/"
        },
        "id": "zsRX6rmEdddx",
        "outputId": "eb200e88-fb6b-4e5a-e1e5-12bddd57d504"
      },
      "execution_count": null,
      "outputs": [
        {
          "output_type": "stream",
          "name": "stdout",
          "text": [
            "Best f1_score: 0.72046\n",
            "Best params:\n",
            "\tmax_depth: 14\n",
            "\tlearning_rate: 0.3\n",
            "\tgamma: 0.2\n",
            "\tmin_child_weight: 6\n",
            "\tmax_delta_step: 9.5\n",
            "\tsubsample: 0.6\n",
            "\tcolsample_bytree: 0.8\n",
            "\tcolsample_bylevel: 0.7\n",
            "\tcolsample_bynode: 0.8\n",
            "\treg_alpha: 1.3735876672882066\n",
            "\treg_lambda: 1.8462370428126593\n"
          ]
        }
      ]
    },
    {
      "cell_type": "code",
      "source": [
        "model_params_red = dict(base_params, **best_params)"
      ],
      "metadata": {
        "id": "jqAh5s5BdeMZ"
      },
      "execution_count": null,
      "outputs": []
    },
    {
      "cell_type": "markdown",
      "source": [
        "# Cross-validation"
      ],
      "metadata": {
        "id": "yPLZ3VlAZj7d"
      }
    },
    {
      "cell_type": "code",
      "source": [
        "def evaluate_model(train, test, features, model_params, n_splits=5):\n",
        "    \n",
        "    #out-of-fold predictions\n",
        "    oof_proba = {} #probability\n",
        "    oof_pred = {} #class\n",
        "\n",
        "    test_proba = []\n",
        "    test_pred = []\n",
        "    cv_scores = []\n",
        "    \n",
        "    cv_start = time.time()\n",
        "    for fold in range(n_splits):\n",
        "        xtrain = train[train['fold'] != fold].reset_index(drop=True)\n",
        "        ytrain = xtrain[TARGET]\n",
        "\n",
        "        xval = train[train['fold'] == fold].reset_index(drop=True)\n",
        "        yval = xval[TARGET]\n",
        "        val_idx = xval.index.to_list()\n",
        "\n",
        "        fold_start = time.time()\n",
        "\n",
        "        model = xgb.XGBClassifier(**model_params)\n",
        "        \n",
        "        model.fit(\n",
        "            xtrain[features], ytrain,\n",
        "            eval_set=[(xval[features], yval)], \n",
        "            verbose=False)\n",
        "\n",
        "        val_pred = model.predict(xval[features])\n",
        "        oof_pred.update(dict(zip(val_idx, val_pred)))\n",
        "        val_proba = model.predict_proba(xval[features])[:, 1]\n",
        "        oof_proba.update(dict(zip(val_idx, val_proba)))        \n",
        "\n",
        "        score = f1_score(yval, val_pred)\n",
        "        cv_scores.append(score)\n",
        "\n",
        "        fold_end = time.time()\n",
        "\n",
        "        print(f'Fold #{fold}: f1_score = {score:.5f} \\\n",
        "        [Time: {fold_end - fold_start:.2f}s]')\n",
        "        \n",
        "        test_pred.append(model.predict(test[features]))\n",
        "        test_proba.append(model.predict_proba(test[features])[:, 1])\n",
        "        \n",
        "    cv_end = time.time()\n",
        "\n",
        "    print(f'Average f1-score = {np.mean(cv_scores):.5f} \\\n",
        "    with std. dev. = {np.std(cv_scores):.5f}')\n",
        "    print(f'[Total time: {cv_end - cv_start:.2f}s]')\n",
        "\n",
        "    oof_pred = pd.DataFrame.from_dict(oof_pred, orient='index').reset_index()\n",
        "    oof_proba = pd.DataFrame.from_dict(oof_proba, orient='index').reset_index()\n",
        "    \n",
        "    test_pred = mode(np.column_stack(test_pred), axis=1).mode\n",
        "    test_proba = np.mean(np.column_stack(test_proba), axis=1)\n",
        "    \n",
        "    return oof_pred, oof_proba, test_pred, test_proba"
      ],
      "metadata": {
        "id": "1PZxtE-uZmXL"
      },
      "execution_count": null,
      "outputs": []
    },
    {
      "cell_type": "markdown",
      "source": [
        "### All features"
      ],
      "metadata": {
        "id": "Th1zOFVla913"
      }
    },
    {
      "cell_type": "code",
      "source": [
        "oof_pred, oof_proba, test_pred, test_proba = evaluate_model(train, test, \n",
        "                                                            features, \n",
        "                                                            model_params_all)"
      ],
      "metadata": {
        "colab": {
          "base_uri": "https://localhost:8080/"
        },
        "id": "OWUoA-0na7Y8",
        "outputId": "7260f81c-96b7-441b-eb6d-69e231bc10b6"
      },
      "execution_count": null,
      "outputs": [
        {
          "output_type": "stream",
          "name": "stdout",
          "text": [
            "Fold #0: f1_score = 0.70584         [Time: 27.71s]\n",
            "Fold #1: f1_score = 0.70384         [Time: 27.66s]\n",
            "Fold #2: f1_score = 0.70060         [Time: 27.85s]\n",
            "Fold #3: f1_score = 0.71007         [Time: 27.88s]\n",
            "Fold #4: f1_score = 0.71027         [Time: 27.81s]\n",
            "Average f1-score = 0.70613     with std. dev. = 0.00370\n",
            "[Total time: 177.26s]\n"
          ]
        }
      ]
    },
    {
      "cell_type": "code",
      "source": [
        "sub1 = pd.DataFrame({'smoking': test_pred.ravel()})\n",
        "sub1.to_csv('sub-02-full-features.csv', index=False)"
      ],
      "metadata": {
        "id": "RFxcbFPWbYKb"
      },
      "execution_count": null,
      "outputs": []
    },
    {
      "cell_type": "code",
      "source": [
        "!head sub-02-full-features.csv"
      ],
      "metadata": {
        "colab": {
          "base_uri": "https://localhost:8080/"
        },
        "id": "VBQyxSNMbuHk",
        "outputId": "c179a936-3e9a-4daf-b7e9-f056eeda9514"
      },
      "execution_count": null,
      "outputs": [
        {
          "output_type": "stream",
          "name": "stdout",
          "text": [
            "smoking\n",
            "1\n",
            "1\n",
            "0\n",
            "0\n",
            "0\n",
            "1\n",
            "0\n",
            "1\n",
            "0\n"
          ]
        }
      ]
    },
    {
      "cell_type": "markdown",
      "source": [
        "### Reduced features"
      ],
      "metadata": {
        "id": "5L83SxXLbBZ4"
      }
    },
    {
      "cell_type": "code",
      "source": [
        "oof_pred, oof_proba, test_pred, test_proba = evaluate_model(train, test, \n",
        "                                                            reduced_features, \n",
        "                                                            model_params_red)"
      ],
      "metadata": {
        "colab": {
          "base_uri": "https://localhost:8080/"
        },
        "id": "nAqyvf3HbDF7",
        "outputId": "558e2dfc-0c98-4fde-8405-4b352441658f"
      },
      "execution_count": null,
      "outputs": [
        {
          "output_type": "stream",
          "name": "stdout",
          "text": [
            "Fold #0: f1_score = 0.71599         [Time: 20.85s]\n",
            "Fold #1: f1_score = 0.70681         [Time: 20.03s]\n",
            "Fold #2: f1_score = 0.70406         [Time: 20.60s]\n",
            "Fold #3: f1_score = 0.71424         [Time: 20.58s]\n",
            "Fold #4: f1_score = 0.71406         [Time: 20.51s]\n",
            "Average f1-score = 0.71103     with std. dev. = 0.00470\n",
            "[Total time: 118.35s]\n"
          ]
        }
      ]
    },
    {
      "cell_type": "code",
      "source": [
        "sub2 = pd.DataFrame({'smoking': test_pred.ravel()})\n",
        "sub2.to_csv('sub-02-reduced-features.csv', index=False)"
      ],
      "metadata": {
        "id": "V_56QuVAbpCU"
      },
      "execution_count": null,
      "outputs": []
    },
    {
      "cell_type": "code",
      "source": [
        "!head sub-02-reduced-features.csv"
      ],
      "metadata": {
        "colab": {
          "base_uri": "https://localhost:8080/"
        },
        "id": "t825-o55bz7k",
        "outputId": "e11e8f2a-f576-4082-9a05-1b9ebb159dd3"
      },
      "execution_count": null,
      "outputs": [
        {
          "output_type": "stream",
          "name": "stdout",
          "text": [
            "smoking\n",
            "1\n",
            "1\n",
            "0\n",
            "0\n",
            "0\n",
            "1\n",
            "0\n",
            "1\n",
            "0\n"
          ]
        }
      ]
    }
  ]
}