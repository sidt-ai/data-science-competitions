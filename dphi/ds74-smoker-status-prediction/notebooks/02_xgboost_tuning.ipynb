{
  "nbformat": 4,
  "nbformat_minor": 0,
  "metadata": {
    "colab": {
      "name": "02-xgboost-tuning",
      "provenance": [],
      "mount_file_id": "19RLOB3LmtoJj_KVQDIhGXWKM1LRIc4y_",
      "authorship_tag": "ABX9TyN8sTkocy5pNhy9NOXBZYDu",
      "include_colab_link": true
    },
    "kernelspec": {
      "name": "python3",
      "display_name": "Python 3"
    },
    "language_info": {
      "name": "python"
    },
    "accelerator": "GPU"
  },
  "cells": [
    {
      "cell_type": "markdown",
      "metadata": {
        "id": "view-in-github",
        "colab_type": "text"
      },
      "source": [
        "<a href=\"https://colab.research.google.com/github/sidt-ai/data-science-competitions/blob/main/dphi/ds74-smoker-status-prediction/notebooks/02_xgboost_tuning.ipynb\" target=\"_parent\"><img src=\"https://colab.research.google.com/assets/colab-badge.svg\" alt=\"Open In Colab\"/></a>"
      ]
    },
    {
      "cell_type": "markdown",
      "source": [
        "# Setup"
      ],
      "metadata": {
        "id": "67Fr1pCIVDn1"
      }
    },
    {
      "cell_type": "code",
      "source": [
        "import os\n",
        "import gc\n",
        "import time\n",
        "import warnings\n",
        "import subprocess\n",
        "\n",
        "gc.enable()\n",
        "warnings.filterwarnings('ignore')"
      ],
      "metadata": {
        "id": "Os-JDvBG7FzE"
      },
      "execution_count": 1,
      "outputs": []
    },
    {
      "cell_type": "code",
      "source": [
        "%%capture\n",
        "!pip install xgboost==1.5.0\n",
        "!pip install optuna==2.10.0"
      ],
      "metadata": {
        "id": "0CNc-yJxG4JD"
      },
      "execution_count": 2,
      "outputs": []
    },
    {
      "cell_type": "code",
      "source": [
        "import numpy as np\n",
        "from scipy.stats import mode, ttest_ind\n",
        "import pandas as pd\n",
        "pd.set_option('precision', 4)\n",
        "pd.set_option('display.max_columns', None)\n",
        "\n",
        "import xgboost as xgb\n",
        "import optuna\n",
        "from optuna.samplers import TPESampler\n",
        "from optuna.integration import XGBoostPruningCallback\n",
        "\n",
        "from sklearn.feature_selection import chi2, f_classif, mutual_info_classif\n",
        "from sklearn.model_selection import StratifiedKFold, train_test_split\n",
        "from sklearn.metrics import roc_auc_score, f1_score"
      ],
      "metadata": {
        "id": "enPrQ39j8tNc"
      },
      "execution_count": 3,
      "outputs": []
    },
    {
      "cell_type": "code",
      "source": [
        "xgb.__version__, optuna.__version__"
      ],
      "metadata": {
        "colab": {
          "base_uri": "https://localhost:8080/"
        },
        "id": "jeluYwSLUyKW",
        "outputId": "85c2b830-6a10-424a-c93d-268cd483a8eb"
      },
      "execution_count": 4,
      "outputs": [
        {
          "output_type": "execute_result",
          "data": {
            "text/plain": [
              "('1.5.0', '2.10.0')"
            ]
          },
          "metadata": {},
          "execution_count": 4
        }
      ]
    },
    {
      "cell_type": "code",
      "source": [
        "SEED = 2311\n",
        "\n",
        "os.environ['PYTHONHASHSEED'] = str(SEED)\n",
        "np.random.seed(SEED)"
      ],
      "metadata": {
        "id": "dpeuuz1_UzJL"
      },
      "execution_count": 5,
      "outputs": []
    },
    {
      "cell_type": "code",
      "source": [
        "#Check GPU availability\n",
        "try:\n",
        "    subprocess.check_output('nvidia-smi')\n",
        "    GPU = True\n",
        "except Exception:\n",
        "    GPU = False\n",
        "\n",
        "print(f'GPU available: {GPU}')"
      ],
      "metadata": {
        "colab": {
          "base_uri": "https://localhost:8080/"
        },
        "id": "Kvtb-1FvU1xE",
        "outputId": "e550f73c-de58-4fd0-cb97-7545553d8f63"
      },
      "execution_count": 6,
      "outputs": [
        {
          "output_type": "stream",
          "name": "stdout",
          "text": [
            "GPU available: True\n"
          ]
        }
      ]
    },
    {
      "cell_type": "markdown",
      "source": [
        "# Data preprocessing"
      ],
      "metadata": {
        "id": "ZAoBaQdPU-hL"
      }
    },
    {
      "cell_type": "code",
      "execution_count": 7,
      "metadata": {
        "id": "_UQyg14oIYa8"
      },
      "outputs": [],
      "source": [
        "train_url = 'https://raw.githubusercontent.com/sidt-ai/data-science-competitions/main/dphi/ds74-smoker-status-prediction/data/raw/train_dataset.csv'\n",
        "test_url = 'https://raw.githubusercontent.com/sidt-ai/data-science-competitions/main/dphi/ds74-smoker-status-prediction/data/raw/test_dataset.csv'"
      ]
    },
    {
      "cell_type": "code",
      "source": [
        "train = pd.read_csv(train_url)\n",
        "test = pd.read_csv(test_url)"
      ],
      "metadata": {
        "id": "GI-tIhM59diG"
      },
      "execution_count": 8,
      "outputs": []
    },
    {
      "cell_type": "code",
      "source": [
        "features = test.columns.to_list()\n",
        "TARGET = 'smoking'"
      ],
      "metadata": {
        "id": "nTmBC1bpVXGY"
      },
      "execution_count": 9,
      "outputs": []
    },
    {
      "cell_type": "markdown",
      "source": [
        "[EDA notebook](https://github.com/sidt-ai/data-science-competitions/blob/main/dphi/ds74-smoker-status-prediction/notebooks/01_eda_and_baseline.ipynb)"
      ],
      "metadata": {
        "id": "AYm6xLcaVou-"
      }
    },
    {
      "cell_type": "code",
      "source": [
        "cat_features = ['hearing(left)', 'hearing(right)', 'dental caries']\n",
        "reduced_features = [f for f in features if f not in ('hearing(left)', 'hearing(right)', 'Cholesterol', 'Urine protein')]"
      ],
      "metadata": {
        "id": "_xm0cjO9VKln"
      },
      "execution_count": 10,
      "outputs": []
    },
    {
      "cell_type": "code",
      "source": [
        "train[cat_features] = train[cat_features].astype('category')\n",
        "test[cat_features] = test[cat_features].astype('category')"
      ],
      "metadata": {
        "id": "GVYYBveFYKLQ"
      },
      "execution_count": 11,
      "outputs": []
    },
    {
      "cell_type": "markdown",
      "source": [
        "### Creating folds"
      ],
      "metadata": {
        "id": "2aMSNDaeaHbF"
      }
    },
    {
      "cell_type": "code",
      "source": [
        "N_SPLITS = 5\n",
        "\n",
        "skf = StratifiedKFold(n_splits=N_SPLITS, shuffle=True, random_state=SEED)\n",
        "train['fold'] = -1\n",
        "\n",
        "for fold, (_, idx) in enumerate(skf.split(X=train, y=train[TARGET])):\n",
        "    train.loc[idx, 'fold'] = fold"
      ],
      "metadata": {
        "id": "49nn0VC6aJ_N"
      },
      "execution_count": 12,
      "outputs": []
    },
    {
      "cell_type": "markdown",
      "source": [
        "# Hyperparameter tuning"
      ],
      "metadata": {
        "id": "QXrtLntLYPyn"
      }
    },
    {
      "cell_type": "code",
      "source": [
        "N_ESTIMATORS = 10000\n",
        "EARLY_STOPPING_ROUNDS = 200\n",
        "TREE_METHOD = 'gpu_hist' if GPU else 'hist'\n",
        "OBJECTIVE = 'binary:logistic'\n",
        "EVAL_METRIC = 'error'"
      ],
      "metadata": {
        "id": "6TOh1HK_YTAm"
      },
      "execution_count": 13,
      "outputs": []
    },
    {
      "cell_type": "code",
      "source": [
        "base_params = {\n",
        "    'n_estimators': N_ESTIMATORS,\n",
        "    'early_stopping_rounds': EARLY_STOPPING_ROUNDS,\n",
        "    'tree_method': TREE_METHOD,\n",
        "    'enable_categorical': GPU, #only available for gpu_hist\n",
        "    'max_cat_to_onehot': 5,\n",
        "    'eval_metric': EVAL_METRIC,\n",
        "    'random_state': SEED,\n",
        "    'verbosity': 0\n",
        "}"
      ],
      "metadata": {
        "id": "_o1o9R1_YZeR"
      },
      "execution_count": 14,
      "outputs": []
    },
    {
      "cell_type": "code",
      "source": [
        "def objective(trial, base_params, data):\n",
        "    #Defining hyperparameter search space\n",
        "    param_grid = {\n",
        "        'max_depth': trial.suggest_int('max_depth', 3, 15),\n",
        "        \n",
        "        # 'max_bin': trial.suggest_int('max_bin', 4, 512),\n",
        "        \n",
        "        'learning_rate': trial.suggest_float(\n",
        "            'learning_rate', 0.05, 0.3, step=0.025),\n",
        "        \n",
        "        # 'booster': trial.suggest_categorical('booster', ['gbtree', 'dart']),\n",
        "        \n",
        "        'gamma': trial.suggest_float('gamma', 0.1, 20.0, step=0.1),\n",
        "        \n",
        "        'min_child_weight': trial.suggest_int('min_child_weight', 2, 100),\n",
        "        \n",
        "        'max_delta_step': trial.suggest_float('max_delta_step', 1, 10, step=0.5),\n",
        "        \n",
        "        'subsample': trial.suggest_float('subsample', 0.5, 0.95, step=0.05),\n",
        "        \n",
        "        'colsample_bytree': trial.suggest_float(\n",
        "            'colsample_bytree', 0.5, 0.95, step=0.05),\n",
        "        \n",
        "        'colsample_bylevel': trial.suggest_float(\n",
        "            'colsample_bylevel', 0.5, 0.95, step=0.05),\n",
        "        \n",
        "        'colsample_bynode': trial.suggest_float(\n",
        "            'colsample_bynode', 0.5, 0.95, step=0.05),\n",
        "        \n",
        "        'reg_alpha': trial.suggest_float('reg_alpha', 1e-5, 1e3, log=True),\n",
        "        \n",
        "        'reg_lambda': trial.suggest_float('reg_lambda', 1e-5, 1e3, log=True)\n",
        "    }\n",
        "\n",
        "    # if param_grid['booster'] == 'dart':\n",
        "    #     param_grid['sample_type'] = 'weighted'\n",
        "    #     param_grid['normalize_type'] = trial.suggest_categorical(\n",
        "    #         'normalize_type', ['tree', 'forest'])\n",
        "    #     param_grid['rate_drop'] = trial.suggest_float(\n",
        "    #         'rate_drop', 0.1, 0.3)\n",
        "    #     param_grid['skip_drop'] = trial.suggest_float(\n",
        "    #         'skip_drop', 0.33, 0.67)\n",
        "\n",
        "    model = xgb.XGBClassifier(\n",
        "        **base_params, \n",
        "        **param_grid, \n",
        "        callbacks = [XGBoostPruningCallback(trial, 'validation_0-auc')])\n",
        "    \n",
        "    xtrain, xval, ytrain, yval = data\n",
        "    \n",
        "    model.fit(\n",
        "        xtrain, ytrain,\n",
        "        eval_set=[(xval, yval)],\n",
        "        verbose=False)\n",
        "\n",
        "    predictions = model.predict(xval)\n",
        "    return f1_score(yval, predictions)"
      ],
      "metadata": {
        "id": "FQfi5phWY4a8"
      },
      "execution_count": 15,
      "outputs": []
    },
    {
      "cell_type": "code",
      "source": [
        "def tune_hyperparameters(\n",
        "        base_params,\n",
        "        data,\n",
        "        direction='maximize', \n",
        "        n_trials=5):\n",
        "    \n",
        "    study = optuna.create_study(\n",
        "        sampler=TPESampler(seed=SEED),\n",
        "        direction=direction)\n",
        "    \n",
        "    study.optimize(\n",
        "        func=lambda trial: objective(trial, base_params, data),\n",
        "        n_trials=n_trials,\n",
        "        gc_after_trial=True)\n",
        "    \n",
        "    return study.best_params, study.best_value"
      ],
      "metadata": {
        "id": "W28n6Z_7ZJnT"
      },
      "execution_count": 16,
      "outputs": []
    },
    {
      "cell_type": "markdown",
      "source": [
        "### All features"
      ],
      "metadata": {
        "id": "zejChj2kdNOQ"
      }
    },
    {
      "cell_type": "code",
      "source": [
        "xtrain, xval, ytrain, yval = train_test_split(train[features], \n",
        "                                              train[TARGET],\n",
        "                                              test_size=0.2,\n",
        "                                              stratify=train[TARGET],\n",
        "                                              shuffle=True,\n",
        "                                              random_state=SEED)"
      ],
      "metadata": {
        "id": "fv5jJvUcdJ4Q"
      },
      "execution_count": 17,
      "outputs": []
    },
    {
      "cell_type": "code",
      "source": [
        "best_params, best_value = tune_hyperparameters(base_params=base_params,\n",
        "                                               data=(xtrain, xval, ytrain, yval),\n",
        "                                               direction='maximize',\n",
        "                                               n_trials=50)"
      ],
      "metadata": {
        "colab": {
          "base_uri": "https://localhost:8080/"
        },
        "id": "AfRwSQqSZPu6",
        "outputId": "b0a4d5d7-7055-4191-f3d7-e62afa0c8228"
      },
      "execution_count": 18,
      "outputs": [
        {
          "output_type": "stream",
          "name": "stderr",
          "text": [
            "\u001b[32m[I 2022-05-16 04:34:19,218]\u001b[0m A new study created in memory with name: no-name-86b5055a-5cdf-49e3-9b34-6286b1c6e15a\u001b[0m\n",
            "\u001b[32m[I 2022-05-16 04:34:36,313]\u001b[0m Trial 0 finished with value: 0.6784610099622124 and parameters: {'max_depth': 7, 'learning_rate': 0.275, 'gamma': 4.3999999999999995, 'min_child_weight': 16, 'max_delta_step': 1.0, 'subsample': 0.8500000000000001, 'colsample_bytree': 0.5, 'colsample_bylevel': 0.55, 'colsample_bynode': 0.8500000000000001, 'reg_alpha': 0.29359014095077934, 'reg_lambda': 2.690877647821245e-05}. Best is trial 0 with value: 0.6784610099622124.\u001b[0m\n",
            "\u001b[32m[I 2022-05-16 04:34:51,297]\u001b[0m Trial 1 finished with value: 0.6692028358983227 and parameters: {'max_depth': 4, 'learning_rate': 0.07500000000000001, 'gamma': 16.6, 'min_child_weight': 99, 'max_delta_step': 6.0, 'subsample': 0.55, 'colsample_bytree': 0.8, 'colsample_bylevel': 0.65, 'colsample_bynode': 0.8, 'reg_alpha': 0.24031612272484743, 'reg_lambda': 14.066417986249963}. Best is trial 0 with value: 0.6784610099622124.\u001b[0m\n",
            "\u001b[32m[I 2022-05-16 04:35:01,693]\u001b[0m Trial 2 finished with value: 0.6516264428121721 and parameters: {'max_depth': 9, 'learning_rate': 0.1, 'gamma': 1.4000000000000001, 'min_child_weight': 76, 'max_delta_step': 2.0, 'subsample': 0.7, 'colsample_bytree': 0.8, 'colsample_bylevel': 0.65, 'colsample_bynode': 0.8500000000000001, 'reg_alpha': 212.64208855331046, 'reg_lambda': 0.00848966975753339}. Best is trial 0 with value: 0.6784610099622124.\u001b[0m\n",
            "\u001b[32m[I 2022-05-16 04:35:12,039]\u001b[0m Trial 3 finished with value: 0.6577017114914425 and parameters: {'max_depth': 8, 'learning_rate': 0.3, 'gamma': 14.6, 'min_child_weight': 100, 'max_delta_step': 9.0, 'subsample': 0.7, 'colsample_bytree': 0.9, 'colsample_bylevel': 0.95, 'colsample_bynode': 0.95, 'reg_alpha': 71.81608778603528, 'reg_lambda': 349.5200720224418}. Best is trial 0 with value: 0.6784610099622124.\u001b[0m\n",
            "\u001b[32m[I 2022-05-16 04:35:24,493]\u001b[0m Trial 4 finished with value: 0.694608695652174 and parameters: {'max_depth': 14, 'learning_rate': 0.275, 'gamma': 2.0, 'min_child_weight': 9, 'max_delta_step': 2.0, 'subsample': 0.7, 'colsample_bytree': 0.7, 'colsample_bylevel': 0.6, 'colsample_bynode': 0.7, 'reg_alpha': 2.147589386531042, 'reg_lambda': 0.00014669654479888906}. Best is trial 4 with value: 0.694608695652174.\u001b[0m\n",
            "\u001b[32m[I 2022-05-16 04:35:36,277]\u001b[0m Trial 5 finished with value: 0.6730070897458067 and parameters: {'max_depth': 3, 'learning_rate': 0.3, 'gamma': 0.5, 'min_child_weight': 79, 'max_delta_step': 2.5, 'subsample': 0.65, 'colsample_bytree': 0.75, 'colsample_bylevel': 0.55, 'colsample_bynode': 0.95, 'reg_alpha': 42.08936283593317, 'reg_lambda': 0.0004113423579559536}. Best is trial 4 with value: 0.694608695652174.\u001b[0m\n",
            "\u001b[32m[I 2022-05-16 04:35:46,889]\u001b[0m Trial 6 finished with value: 0.6540267872673509 and parameters: {'max_depth': 12, 'learning_rate': 0.175, 'gamma': 12.9, 'min_child_weight': 3, 'max_delta_step': 5.0, 'subsample': 0.9, 'colsample_bytree': 0.5, 'colsample_bylevel': 0.6, 'colsample_bynode': 0.55, 'reg_alpha': 91.39181708085692, 'reg_lambda': 3.3242609418678333}. Best is trial 4 with value: 0.694608695652174.\u001b[0m\n",
            "\u001b[32m[I 2022-05-16 04:35:57,485]\u001b[0m Trial 7 finished with value: 0.6627177700348432 and parameters: {'max_depth': 9, 'learning_rate': 0.3, 'gamma': 11.700000000000001, 'min_child_weight': 65, 'max_delta_step': 8.5, 'subsample': 0.55, 'colsample_bytree': 0.95, 'colsample_bylevel': 0.95, 'colsample_bynode': 0.7, 'reg_alpha': 2.137219258930208e-05, 'reg_lambda': 20.707160002124137}. Best is trial 4 with value: 0.694608695652174.\u001b[0m\n",
            "\u001b[32m[I 2022-05-16 04:36:07,789]\u001b[0m Trial 8 finished with value: 0.6671263575245647 and parameters: {'max_depth': 3, 'learning_rate': 0.07500000000000001, 'gamma': 11.1, 'min_child_weight': 24, 'max_delta_step': 6.0, 'subsample': 0.9, 'colsample_bytree': 0.5, 'colsample_bylevel': 0.7, 'colsample_bynode': 0.7, 'reg_alpha': 4.5783421617724835, 'reg_lambda': 0.0030226689414593164}. Best is trial 4 with value: 0.694608695652174.\u001b[0m\n",
            "\u001b[32m[I 2022-05-16 04:36:18,972]\u001b[0m Trial 9 finished with value: 0.6022496773003873 and parameters: {'max_depth': 14, 'learning_rate': 0.22500000000000003, 'gamma': 14.700000000000001, 'min_child_weight': 100, 'max_delta_step': 8.5, 'subsample': 0.55, 'colsample_bytree': 0.5, 'colsample_bylevel': 0.55, 'colsample_bynode': 0.6, 'reg_alpha': 258.96023743068054, 'reg_lambda': 0.08052195361033278}. Best is trial 4 with value: 0.694608695652174.\u001b[0m\n",
            "\u001b[32m[I 2022-05-16 04:36:31,811]\u001b[0m Trial 10 finished with value: 0.6764300482425912 and parameters: {'max_depth': 15, 'learning_rate': 0.175, 'gamma': 7.2, 'min_child_weight': 40, 'max_delta_step': 4.0, 'subsample': 0.8, 'colsample_bytree': 0.65, 'colsample_bylevel': 0.8500000000000001, 'colsample_bynode': 0.5, 'reg_alpha': 0.0004731991165570152, 'reg_lambda': 1.7602509652626e-05}. Best is trial 4 with value: 0.694608695652174.\u001b[0m\n",
            "\u001b[32m[I 2022-05-16 04:36:42,264]\u001b[0m Trial 11 finished with value: 0.6708246708246709 and parameters: {'max_depth': 6, 'learning_rate': 0.22500000000000003, 'gamma': 5.9, 'min_child_weight': 3, 'max_delta_step': 1.0, 'subsample': 0.8, 'colsample_bytree': 0.65, 'colsample_bylevel': 0.5, 'colsample_bynode': 0.8, 'reg_alpha': 0.06351205848734164, 'reg_lambda': 1.0097295181390322e-05}. Best is trial 4 with value: 0.694608695652174.\u001b[0m\n",
            "\u001b[32m[I 2022-05-16 04:36:53,072]\u001b[0m Trial 12 finished with value: 0.6714013511172701 and parameters: {'max_depth': 12, 'learning_rate': 0.25, 'gamma': 3.8000000000000003, 'min_child_weight': 24, 'max_delta_step': 1.0, 'subsample': 0.8, 'colsample_bytree': 0.6, 'colsample_bylevel': 0.8, 'colsample_bynode': 0.65, 'reg_alpha': 0.12275183045525839, 'reg_lambda': 0.00020371259974045133}. Best is trial 4 with value: 0.694608695652174.\u001b[0m\n",
            "\u001b[32m[I 2022-05-16 04:37:03,497]\u001b[0m Trial 13 finished with value: 0.6680490755140832 and parameters: {'max_depth': 6, 'learning_rate': 0.25, 'gamma': 7.8, 'min_child_weight': 22, 'max_delta_step': 3.0, 'subsample': 0.95, 'colsample_bytree': 0.6, 'colsample_bylevel': 0.5, 'colsample_bynode': 0.8500000000000001, 'reg_alpha': 1.464451923498768, 'reg_lambda': 0.000197235881843045}. Best is trial 4 with value: 0.694608695652174.\u001b[0m\n",
            "\u001b[32m[I 2022-05-16 04:37:14,408]\u001b[0m Trial 14 finished with value: 0.6813793103448276 and parameters: {'max_depth': 12, 'learning_rate': 0.125, 'gamma': 3.8000000000000003, 'min_child_weight': 35, 'max_delta_step': 4.0, 'subsample': 0.65, 'colsample_bytree': 0.6, 'colsample_bylevel': 0.75, 'colsample_bynode': 0.75, 'reg_alpha': 0.008242584604765738, 'reg_lambda': 0.05306123878356642}. Best is trial 4 with value: 0.694608695652174.\u001b[0m\n",
            "\u001b[32m[I 2022-05-16 04:37:25,212]\u001b[0m Trial 15 finished with value: 0.6665513663092355 and parameters: {'max_depth': 12, 'learning_rate': 0.125, 'gamma': 19.700000000000003, 'min_child_weight': 43, 'max_delta_step': 4.0, 'subsample': 0.65, 'colsample_bytree': 0.7, 'colsample_bylevel': 0.75, 'colsample_bynode': 0.75, 'reg_alpha': 0.0014218977723767432, 'reg_lambda': 0.19649361634754076}. Best is trial 4 with value: 0.694608695652174.\u001b[0m\n",
            "\u001b[32m[I 2022-05-16 04:37:37,268]\u001b[0m Trial 16 finished with value: 0.6827826086956521 and parameters: {'max_depth': 13, 'learning_rate': 0.15000000000000002, 'gamma': 2.7, 'min_child_weight': 39, 'max_delta_step': 7.0, 'subsample': 0.65, 'colsample_bytree': 0.6, 'colsample_bylevel': 0.8500000000000001, 'colsample_bynode': 0.65, 'reg_alpha': 0.004879924390543654, 'reg_lambda': 0.0914073509363772}. Best is trial 4 with value: 0.694608695652174.\u001b[0m\n",
            "\u001b[32m[I 2022-05-16 04:37:49,469]\u001b[0m Trial 17 finished with value: 0.6691073919107392 and parameters: {'max_depth': 15, 'learning_rate': 0.15000000000000002, 'gamma': 8.8, 'min_child_weight': 52, 'max_delta_step': 7.0, 'subsample': 0.5, 'colsample_bytree': 0.7, 'colsample_bylevel': 0.8500000000000001, 'colsample_bynode': 0.6, 'reg_alpha': 0.005521355440169607, 'reg_lambda': 0.6994417277136736}. Best is trial 4 with value: 0.694608695652174.\u001b[0m\n",
            "\u001b[32m[I 2022-05-16 04:38:00,787]\u001b[0m Trial 18 finished with value: 0.6888311688311689 and parameters: {'max_depth': 10, 'learning_rate': 0.2, 'gamma': 2.2, 'min_child_weight': 60, 'max_delta_step': 10.0, 'subsample': 0.75, 'colsample_bytree': 0.8, 'colsample_bylevel': 0.8500000000000001, 'colsample_bynode': 0.65, 'reg_alpha': 7.920821202386594e-05, 'reg_lambda': 0.007326846935644998}. Best is trial 4 with value: 0.694608695652174.\u001b[0m\n",
            "\u001b[32m[I 2022-05-16 04:38:26,921]\u001b[0m Trial 19 finished with value: 0.7111882046834345 and parameters: {'max_depth': 10, 'learning_rate': 0.22500000000000003, 'gamma': 0.1, 'min_child_weight': 60, 'max_delta_step': 10.0, 'subsample': 0.75, 'colsample_bytree': 0.8, 'colsample_bylevel': 0.9, 'colsample_bynode': 0.65, 'reg_alpha': 1.2406159227159882e-05, 'reg_lambda': 0.002124631422420931}. Best is trial 19 with value: 0.7111882046834345.\u001b[0m\n",
            "\u001b[32m[I 2022-05-16 04:38:37,551]\u001b[0m Trial 20 finished with value: 0.672428694900605 and parameters: {'max_depth': 10, 'learning_rate': 0.25, 'gamma': 5.6, 'min_child_weight': 81, 'max_delta_step': 10.0, 'subsample': 0.75, 'colsample_bytree': 0.8500000000000001, 'colsample_bylevel': 0.65, 'colsample_bynode': 0.5, 'reg_alpha': 10.828906364451477, 'reg_lambda': 0.0017663029817973686}. Best is trial 19 with value: 0.7111882046834345.\u001b[0m\n",
            "\u001b[32m[I 2022-05-16 04:38:52,717]\u001b[0m Trial 21 finished with value: 0.7081005586592178 and parameters: {'max_depth': 10, 'learning_rate': 0.2, 'gamma': 0.8, 'min_child_weight': 58, 'max_delta_step': 10.0, 'subsample': 0.75, 'colsample_bytree': 0.8, 'colsample_bylevel': 0.9, 'colsample_bynode': 0.65, 'reg_alpha': 2.388558347806513e-05, 'reg_lambda': 0.013253706064903415}. Best is trial 19 with value: 0.7111882046834345.\u001b[0m\n",
            "\u001b[32m[I 2022-05-16 04:39:16,219]\u001b[0m Trial 22 finished with value: 0.7074403206133474 and parameters: {'max_depth': 10, 'learning_rate': 0.2, 'gamma': 0.2, 'min_child_weight': 62, 'max_delta_step': 7.5, 'subsample': 0.75, 'colsample_bytree': 0.75, 'colsample_bylevel': 0.9, 'colsample_bynode': 0.6, 'reg_alpha': 3.855119890908784e-05, 'reg_lambda': 0.0009010811049277078}. Best is trial 19 with value: 0.7111882046834345.\u001b[0m\n",
            "\u001b[32m[I 2022-05-16 04:39:43,286]\u001b[0m Trial 23 finished with value: 0.7069686411149825 and parameters: {'max_depth': 10, 'learning_rate': 0.2, 'gamma': 0.1, 'min_child_weight': 62, 'max_delta_step': 9.0, 'subsample': 0.75, 'colsample_bytree': 0.8500000000000001, 'colsample_bylevel': 0.9, 'colsample_bynode': 0.6, 'reg_alpha': 1.089619518217207e-05, 'reg_lambda': 0.0011107688975353922}. Best is trial 19 with value: 0.7111882046834345.\u001b[0m\n",
            "\u001b[32m[I 2022-05-16 04:39:57,277]\u001b[0m Trial 24 finished with value: 0.7013487475915222 and parameters: {'max_depth': 11, 'learning_rate': 0.2, 'gamma': 0.7000000000000001, 'min_child_weight': 70, 'max_delta_step': 8.0, 'subsample': 0.8500000000000001, 'colsample_bytree': 0.75, 'colsample_bylevel': 0.9, 'colsample_bynode': 0.55, 'reg_alpha': 9.246416349503423e-05, 'reg_lambda': 0.019751765630353454}. Best is trial 19 with value: 0.7111882046834345.\u001b[0m\n",
            "\u001b[32m[I 2022-05-16 04:40:07,998]\u001b[0m Trial 25 finished with value: 0.6789464623859528 and parameters: {'max_depth': 8, 'learning_rate': 0.22500000000000003, 'gamma': 3.3000000000000003, 'min_child_weight': 54, 'max_delta_step': 7.5, 'subsample': 0.8, 'colsample_bytree': 0.8500000000000001, 'colsample_bylevel': 0.9, 'colsample_bynode': 0.55, 'reg_alpha': 0.0001424115412573966, 'reg_lambda': 0.0008114133261970637}. Best is trial 19 with value: 0.7111882046834345.\u001b[0m\n",
            "\u001b[32m[I 2022-05-16 04:40:33,708]\u001b[0m Trial 26 finished with value: 0.7082824760244115 and parameters: {'max_depth': 11, 'learning_rate': 0.2, 'gamma': 0.1, 'min_child_weight': 85, 'max_delta_step': 9.5, 'subsample': 0.8500000000000001, 'colsample_bytree': 0.9, 'colsample_bylevel': 0.8, 'colsample_bynode': 0.65, 'reg_alpha': 2.6086703691510946e-05, 'reg_lambda': 6.804093794877565e-05}. Best is trial 19 with value: 0.7111882046834345.\u001b[0m\n",
            "\u001b[32m[I 2022-05-16 04:40:44,271]\u001b[0m Trial 27 finished with value: 0.6692041522491349 and parameters: {'max_depth': 11, 'learning_rate': 0.15000000000000002, 'gamma': 5.5, 'min_child_weight': 90, 'max_delta_step': 9.5, 'subsample': 0.8500000000000001, 'colsample_bytree': 0.95, 'colsample_bylevel': 0.8, 'colsample_bynode': 0.65, 'reg_alpha': 0.0003594438656422434, 'reg_lambda': 3.452029326643704e-05}. Best is trial 19 with value: 0.7111882046834345.\u001b[0m\n",
            "\u001b[32m[I 2022-05-16 04:40:54,567]\u001b[0m Trial 28 finished with value: 0.674982674982675 and parameters: {'max_depth': 8, 'learning_rate': 0.175, 'gamma': 2.0, 'min_child_weight': 87, 'max_delta_step': 10.0, 'subsample': 0.95, 'colsample_bytree': 0.9, 'colsample_bylevel': 0.8, 'colsample_bynode': 0.75, 'reg_alpha': 1.0197529907851612e-05, 'reg_lambda': 5.153600670201824e-05}. Best is trial 19 with value: 0.7111882046834345.\u001b[0m\n",
            "\u001b[32m[I 2022-05-16 04:41:05,136]\u001b[0m Trial 29 finished with value: 0.6791544938992955 and parameters: {'max_depth': 7, 'learning_rate': 0.275, 'gamma': 4.6, 'min_child_weight': 73, 'max_delta_step': 9.0, 'subsample': 0.9, 'colsample_bytree': 0.9, 'colsample_bylevel': 0.95, 'colsample_bynode': 0.7, 'reg_alpha': 0.000498697881449728, 'reg_lambda': 0.015465979906563392}. Best is trial 19 with value: 0.7111882046834345.\u001b[0m\n",
            "\u001b[32m[I 2022-05-16 04:41:15,619]\u001b[0m Trial 30 finished with value: 0.6750560248233063 and parameters: {'max_depth': 11, 'learning_rate': 0.22500000000000003, 'gamma': 4.7, 'min_child_weight': 49, 'max_delta_step': 9.5, 'subsample': 0.8500000000000001, 'colsample_bytree': 0.8500000000000001, 'colsample_bylevel': 0.8, 'colsample_bynode': 0.65, 'reg_alpha': 3.204155842552338e-05, 'reg_lambda': 5.3034427210483644e-05}. Best is trial 19 with value: 0.7111882046834345.\u001b[0m\n",
            "\u001b[32m[I 2022-05-16 04:41:36,522]\u001b[0m Trial 31 finished with value: 0.7070742358078602 and parameters: {'max_depth': 10, 'learning_rate': 0.2, 'gamma': 0.30000000000000004, 'min_child_weight': 67, 'max_delta_step': 7.5, 'subsample': 0.75, 'colsample_bytree': 0.75, 'colsample_bylevel': 0.9, 'colsample_bynode': 0.6, 'reg_alpha': 3.437473532145223e-05, 'reg_lambda': 0.0030371228995061308}. Best is trial 19 with value: 0.7111882046834345.\u001b[0m\n",
            "\u001b[32m[I 2022-05-16 04:41:48,283]\u001b[0m Trial 32 finished with value: 0.6885075403016121 and parameters: {'max_depth': 9, 'learning_rate': 0.175, 'gamma': 1.5000000000000002, 'min_child_weight': 58, 'max_delta_step': 8.5, 'subsample': 0.8, 'colsample_bytree': 0.8, 'colsample_bylevel': 0.9, 'colsample_bynode': 0.6, 'reg_alpha': 0.00013988147644401785, 'reg_lambda': 0.0005252226022318948}. Best is trial 19 with value: 0.7111882046834345.\u001b[0m\n",
            "\u001b[32m[I 2022-05-16 04:42:04,675]\u001b[0m Trial 33 finished with value: 0.6936192652487255 and parameters: {'max_depth': 11, 'learning_rate': 0.2, 'gamma': 1.2000000000000002, 'min_child_weight': 87, 'max_delta_step': 9.5, 'subsample': 0.6, 'colsample_bytree': 0.8, 'colsample_bylevel': 0.95, 'colsample_bynode': 0.55, 'reg_alpha': 0.0010414526886188464, 'reg_lambda': 0.004994859367828262}. Best is trial 19 with value: 0.7111882046834345.\u001b[0m\n",
            "\u001b[32m[I 2022-05-16 04:42:15,602]\u001b[0m Trial 34 finished with value: 0.6778476589797344 and parameters: {'max_depth': 9, 'learning_rate': 0.25, 'gamma': 2.9000000000000004, 'min_child_weight': 48, 'max_delta_step': 6.0, 'subsample': 0.7, 'colsample_bytree': 0.75, 'colsample_bylevel': 0.8500000000000001, 'colsample_bynode': 0.65, 'reg_alpha': 4.916905782644224e-05, 'reg_lambda': 0.028768200119724693}. Best is trial 19 with value: 0.7111882046834345.\u001b[0m\n",
            "\u001b[32m[I 2022-05-16 04:42:28,561]\u001b[0m Trial 35 finished with value: 0.6884615384615385 and parameters: {'max_depth': 13, 'learning_rate': 0.22500000000000003, 'gamma': 1.5000000000000002, 'min_child_weight': 55, 'max_delta_step': 8.0, 'subsample': 0.75, 'colsample_bytree': 0.9, 'colsample_bylevel': 0.9, 'colsample_bynode': 0.7, 'reg_alpha': 1.0539642016406164e-05, 'reg_lambda': 0.29519107695080987}. Best is trial 19 with value: 0.7111882046834345.\u001b[0m\n",
            "\u001b[32m[I 2022-05-16 04:42:39,729]\u001b[0m Trial 36 finished with value: 0.678657903839502 and parameters: {'max_depth': 9, 'learning_rate': 0.175, 'gamma': 2.5000000000000004, 'min_child_weight': 74, 'max_delta_step': 10.0, 'subsample': 0.7, 'colsample_bytree': 0.8, 'colsample_bylevel': 0.75, 'colsample_bynode': 0.6, 'reg_alpha': 0.00021963917837400696, 'reg_lambda': 0.00013073730630603622}. Best is trial 19 with value: 0.7111882046834345.\u001b[0m\n",
            "\u001b[32m[I 2022-05-16 04:42:53,864]\u001b[0m Trial 37 finished with value: 0.6975372875476935 and parameters: {'max_depth': 7, 'learning_rate': 0.2, 'gamma': 0.7000000000000001, 'min_child_weight': 82, 'max_delta_step': 9.0, 'subsample': 0.8500000000000001, 'colsample_bytree': 0.8, 'colsample_bylevel': 0.95, 'colsample_bynode': 0.8, 'reg_alpha': 0.0013649724248923766, 'reg_lambda': 0.00046274087838489456}. Best is trial 19 with value: 0.7111882046834345.\u001b[0m\n",
            "\u001b[32m[I 2022-05-16 04:43:17,762]\u001b[0m Trial 38 finished with value: 0.6965034965034964 and parameters: {'max_depth': 10, 'learning_rate': 0.25, 'gamma': 0.1, 'min_child_weight': 93, 'max_delta_step': 7.0, 'subsample': 0.6, 'colsample_bytree': 0.8500000000000001, 'colsample_bylevel': 0.7, 'colsample_bynode': 0.65, 'reg_alpha': 0.019264121867574167, 'reg_lambda': 0.0017294199405198834}. Best is trial 19 with value: 0.7111882046834345.\u001b[0m\n",
            "\u001b[32m[I 2022-05-16 04:43:28,809]\u001b[0m Trial 39 finished with value: 0.661607450845119 and parameters: {'max_depth': 13, 'learning_rate': 0.05, 'gamma': 18.400000000000002, 'min_child_weight': 66, 'max_delta_step': 5.0, 'subsample': 0.7, 'colsample_bytree': 0.95, 'colsample_bylevel': 0.8500000000000001, 'colsample_bynode': 0.55, 'reg_alpha': 2.992960136796689e-05, 'reg_lambda': 68.8224539014631}. Best is trial 19 with value: 0.7111882046834345.\u001b[0m\n",
            "\u001b[32m[I 2022-05-16 04:43:39,356]\u001b[0m Trial 40 finished with value: 0.6703678001387926 and parameters: {'max_depth': 8, 'learning_rate': 0.275, 'gamma': 6.9, 'min_child_weight': 78, 'max_delta_step': 8.0, 'subsample': 0.9, 'colsample_bytree': 0.75, 'colsample_bylevel': 0.95, 'colsample_bynode': 0.7, 'reg_alpha': 6.37166673623398e-05, 'reg_lambda': 1.0152043765404934}. Best is trial 19 with value: 0.7111882046834345.\u001b[0m\n",
            "\u001b[32m[I 2022-05-16 04:43:52,836]\u001b[0m Trial 41 finished with value: 0.7007121764808059 and parameters: {'max_depth': 10, 'learning_rate': 0.2, 'gamma': 1.2000000000000002, 'min_child_weight': 68, 'max_delta_step': 6.5, 'subsample': 0.75, 'colsample_bytree': 0.75, 'colsample_bylevel': 0.9, 'colsample_bynode': 0.6, 'reg_alpha': 3.061280281793131e-05, 'reg_lambda': 0.00502481123651237}. Best is trial 19 with value: 0.7111882046834345.\u001b[0m\n",
            "\u001b[32m[I 2022-05-16 04:44:19,151]\u001b[0m Trial 42 finished with value: 0.7094865100087032 and parameters: {'max_depth': 11, 'learning_rate': 0.22500000000000003, 'gamma': 0.1, 'min_child_weight': 62, 'max_delta_step': 9.5, 'subsample': 0.75, 'colsample_bytree': 0.7, 'colsample_bylevel': 0.9, 'colsample_bynode': 0.6, 'reg_alpha': 2.164983364552695e-05, 'reg_lambda': 0.0028162743564149407}. Best is trial 19 with value: 0.7111882046834345.\u001b[0m\n",
            "\u001b[32m[I 2022-05-16 04:44:30,332]\u001b[0m Trial 43 finished with value: 0.6780131990274401 and parameters: {'max_depth': 11, 'learning_rate': 0.22500000000000003, 'gamma': 1.9000000000000001, 'min_child_weight': 62, 'max_delta_step': 9.5, 'subsample': 0.8, 'colsample_bytree': 0.65, 'colsample_bylevel': 0.8500000000000001, 'colsample_bynode': 0.55, 'reg_alpha': 2.050670686605356e-05, 'reg_lambda': 0.00011574554488329262}. Best is trial 19 with value: 0.7111882046834345.\u001b[0m\n",
            "\u001b[32m[I 2022-05-16 04:44:41,255]\u001b[0m Trial 44 finished with value: 0.6785528821187468 and parameters: {'max_depth': 11, 'learning_rate': 0.22500000000000003, 'gamma': 3.1, 'min_child_weight': 56, 'max_delta_step': 8.5, 'subsample': 0.7, 'colsample_bytree': 0.7, 'colsample_bylevel': 0.95, 'colsample_bynode': 0.65, 'reg_alpha': 0.00020612378360472424, 'reg_lambda': 0.015795713287058616}. Best is trial 19 with value: 0.7111882046834345.\u001b[0m\n",
            "\u001b[32m[I 2022-05-16 04:44:53,946]\u001b[0m Trial 45 finished with value: 0.7017361111111112 and parameters: {'max_depth': 12, 'learning_rate': 0.175, 'gamma': 1.2000000000000002, 'min_child_weight': 33, 'max_delta_step': 9.5, 'subsample': 0.8, 'colsample_bytree': 0.7, 'colsample_bylevel': 0.9, 'colsample_bynode': 0.5, 'reg_alpha': 7.530431481584146e-05, 'reg_lambda': 0.0002839312169520263}. Best is trial 19 with value: 0.7111882046834345.\u001b[0m\n",
            "\u001b[32m[I 2022-05-16 04:45:04,561]\u001b[0m Trial 46 finished with value: 0.6514225868388899 and parameters: {'max_depth': 9, 'learning_rate': 0.22500000000000003, 'gamma': 14.1, 'min_child_weight': 47, 'max_delta_step': 8.5, 'subsample': 0.7, 'colsample_bytree': 0.65, 'colsample_bylevel': 0.8, 'colsample_bynode': 0.6, 'reg_alpha': 1.8086371411443954e-05, 'reg_lambda': 966.8124130843471}. Best is trial 19 with value: 0.7111882046834345.\u001b[0m\n",
            "\u001b[32m[I 2022-05-16 04:45:15,998]\u001b[0m Trial 47 finished with value: 0.6740994854202401 and parameters: {'max_depth': 14, 'learning_rate': 0.175, 'gamma': 4.1, 'min_child_weight': 72, 'max_delta_step': 10.0, 'subsample': 0.75, 'colsample_bytree': 0.9, 'colsample_bylevel': 0.95, 'colsample_bynode': 0.9, 'reg_alpha': 0.0007633065601565343, 'reg_lambda': 0.0018145058109785388}. Best is trial 19 with value: 0.7111882046834345.\u001b[0m\n",
            "\u001b[32m[I 2022-05-16 04:45:26,849]\u001b[0m Trial 48 finished with value: 0.6621504255688727 and parameters: {'max_depth': 12, 'learning_rate': 0.25, 'gamma': 10.700000000000001, 'min_child_weight': 97, 'max_delta_step': 9.0, 'subsample': 0.65, 'colsample_bytree': 0.8, 'colsample_bylevel': 0.8500000000000001, 'colsample_bynode': 0.7, 'reg_alpha': 0.0029545750514370743, 'reg_lambda': 0.03222773325646135}. Best is trial 19 with value: 0.7111882046834345.\u001b[0m\n",
            "\u001b[32m[I 2022-05-16 04:45:46,626]\u001b[0m Trial 49 finished with value: 0.7095304835318851 and parameters: {'max_depth': 10, 'learning_rate': 0.275, 'gamma': 0.2, 'min_child_weight': 62, 'max_delta_step': 9.5, 'subsample': 0.8, 'colsample_bytree': 0.75, 'colsample_bylevel': 0.9, 'colsample_bynode': 0.65, 'reg_alpha': 0.00019322744948983665, 'reg_lambda': 1.0943442104822297e-05}. Best is trial 19 with value: 0.7111882046834345.\u001b[0m\n"
          ]
        }
      ]
    },
    {
      "cell_type": "code",
      "source": [
        "print(f'Best f1_score: {best_value:.5f}')\n",
        "print('Best params:')\n",
        "for key, value in best_params.items():\n",
        "    print(f'\\t{key}: {value}')"
      ],
      "metadata": {
        "colab": {
          "base_uri": "https://localhost:8080/"
        },
        "id": "GApWCuNxZbpL",
        "outputId": "9ba25674-d9f8-4cac-afd4-b131b7360585"
      },
      "execution_count": 19,
      "outputs": [
        {
          "output_type": "stream",
          "name": "stdout",
          "text": [
            "Best f1_score: 0.71119\n",
            "Best params:\n",
            "\tmax_depth: 10\n",
            "\tlearning_rate: 0.22500000000000003\n",
            "\tgamma: 0.1\n",
            "\tmin_child_weight: 60\n",
            "\tmax_delta_step: 10.0\n",
            "\tsubsample: 0.75\n",
            "\tcolsample_bytree: 0.8\n",
            "\tcolsample_bylevel: 0.9\n",
            "\tcolsample_bynode: 0.65\n",
            "\treg_alpha: 1.2406159227159882e-05\n",
            "\treg_lambda: 0.002124631422420931\n"
          ]
        }
      ]
    },
    {
      "cell_type": "code",
      "source": [
        "model_params_all = dict(base_params, **best_params)"
      ],
      "metadata": {
        "id": "xvQx2J3NZgJe"
      },
      "execution_count": 20,
      "outputs": []
    },
    {
      "cell_type": "markdown",
      "source": [
        "### Reduced features"
      ],
      "metadata": {
        "id": "9LRzjrmodQGH"
      }
    },
    {
      "cell_type": "code",
      "source": [
        "xtrain, xval, ytrain, yval = train_test_split(train[reduced_features], \n",
        "                                              train[TARGET],\n",
        "                                              test_size=0.2,\n",
        "                                              stratify=train[TARGET],\n",
        "                                              shuffle=True,\n",
        "                                              random_state=SEED)"
      ],
      "metadata": {
        "id": "Z_98x22ZdSSy"
      },
      "execution_count": 21,
      "outputs": []
    },
    {
      "cell_type": "code",
      "source": [
        "best_params, best_value = tune_hyperparameters(base_params=base_params,\n",
        "                                               data=(xtrain, xval, ytrain, yval),\n",
        "                                               direction='maximize',\n",
        "                                               n_trials=50)"
      ],
      "metadata": {
        "colab": {
          "base_uri": "https://localhost:8080/"
        },
        "id": "HKlBByUidapx",
        "outputId": "0ca2e6df-ba3f-4f47-957e-570cf4914cb8"
      },
      "execution_count": 22,
      "outputs": [
        {
          "output_type": "stream",
          "name": "stderr",
          "text": [
            "\u001b[32m[I 2022-05-16 04:45:46,767]\u001b[0m A new study created in memory with name: no-name-22405cf5-e386-4b0f-994e-e9275d247019\u001b[0m\n",
            "\u001b[32m[I 2022-05-16 04:45:57,145]\u001b[0m Trial 0 finished with value: 0.674354561101549 and parameters: {'max_depth': 7, 'learning_rate': 0.275, 'gamma': 4.3999999999999995, 'min_child_weight': 16, 'max_delta_step': 1.0, 'subsample': 0.8500000000000001, 'colsample_bytree': 0.5, 'colsample_bylevel': 0.55, 'colsample_bynode': 0.8500000000000001, 'reg_alpha': 0.29359014095077934, 'reg_lambda': 2.690877647821245e-05}. Best is trial 0 with value: 0.674354561101549.\u001b[0m\n",
            "\u001b[32m[I 2022-05-16 04:46:07,560]\u001b[0m Trial 1 finished with value: 0.6651693158258466 and parameters: {'max_depth': 4, 'learning_rate': 0.07500000000000001, 'gamma': 16.6, 'min_child_weight': 99, 'max_delta_step': 6.0, 'subsample': 0.55, 'colsample_bytree': 0.8, 'colsample_bylevel': 0.65, 'colsample_bynode': 0.8, 'reg_alpha': 0.24031612272484743, 'reg_lambda': 14.066417986249963}. Best is trial 0 with value: 0.674354561101549.\u001b[0m\n",
            "\u001b[32m[I 2022-05-16 04:46:17,867]\u001b[0m Trial 2 finished with value: 0.6500881834215168 and parameters: {'max_depth': 9, 'learning_rate': 0.1, 'gamma': 1.4000000000000001, 'min_child_weight': 76, 'max_delta_step': 2.0, 'subsample': 0.7, 'colsample_bytree': 0.8, 'colsample_bylevel': 0.65, 'colsample_bynode': 0.8500000000000001, 'reg_alpha': 212.64208855331046, 'reg_lambda': 0.00848966975753339}. Best is trial 0 with value: 0.674354561101549.\u001b[0m\n",
            "\u001b[32m[I 2022-05-16 04:46:28,073]\u001b[0m Trial 3 finished with value: 0.654564496421714 and parameters: {'max_depth': 8, 'learning_rate': 0.3, 'gamma': 14.6, 'min_child_weight': 100, 'max_delta_step': 9.0, 'subsample': 0.7, 'colsample_bytree': 0.9, 'colsample_bylevel': 0.95, 'colsample_bynode': 0.95, 'reg_alpha': 71.81608778603528, 'reg_lambda': 349.5200720224418}. Best is trial 0 with value: 0.674354561101549.\u001b[0m\n",
            "\u001b[32m[I 2022-05-16 04:46:40,170]\u001b[0m Trial 4 finished with value: 0.6898844942247112 and parameters: {'max_depth': 14, 'learning_rate': 0.275, 'gamma': 2.0, 'min_child_weight': 9, 'max_delta_step': 2.0, 'subsample': 0.7, 'colsample_bytree': 0.7, 'colsample_bylevel': 0.6, 'colsample_bynode': 0.7, 'reg_alpha': 2.147589386531042, 'reg_lambda': 0.00014669654479888906}. Best is trial 4 with value: 0.6898844942247112.\u001b[0m\n",
            "\u001b[32m[I 2022-05-16 04:46:51,786]\u001b[0m Trial 5 finished with value: 0.6692160611854685 and parameters: {'max_depth': 3, 'learning_rate': 0.3, 'gamma': 0.5, 'min_child_weight': 79, 'max_delta_step': 2.5, 'subsample': 0.65, 'colsample_bytree': 0.75, 'colsample_bylevel': 0.55, 'colsample_bynode': 0.95, 'reg_alpha': 42.08936283593317, 'reg_lambda': 0.0004113423579559536}. Best is trial 4 with value: 0.6898844942247112.\u001b[0m\n",
            "\u001b[32m[I 2022-05-16 04:47:02,361]\u001b[0m Trial 6 finished with value: 0.653303120097612 and parameters: {'max_depth': 12, 'learning_rate': 0.175, 'gamma': 12.9, 'min_child_weight': 3, 'max_delta_step': 5.0, 'subsample': 0.9, 'colsample_bytree': 0.5, 'colsample_bylevel': 0.6, 'colsample_bynode': 0.55, 'reg_alpha': 91.39181708085692, 'reg_lambda': 3.3242609418678333}. Best is trial 4 with value: 0.6898844942247112.\u001b[0m\n",
            "\u001b[32m[I 2022-05-16 04:47:12,791]\u001b[0m Trial 7 finished with value: 0.6667830336882528 and parameters: {'max_depth': 9, 'learning_rate': 0.3, 'gamma': 11.700000000000001, 'min_child_weight': 65, 'max_delta_step': 8.5, 'subsample': 0.55, 'colsample_bytree': 0.95, 'colsample_bylevel': 0.95, 'colsample_bynode': 0.7, 'reg_alpha': 2.137219258930208e-05, 'reg_lambda': 20.707160002124137}. Best is trial 4 with value: 0.6898844942247112.\u001b[0m\n",
            "\u001b[32m[I 2022-05-16 04:47:23,137]\u001b[0m Trial 8 finished with value: 0.665746333045729 and parameters: {'max_depth': 3, 'learning_rate': 0.07500000000000001, 'gamma': 11.1, 'min_child_weight': 24, 'max_delta_step': 6.0, 'subsample': 0.9, 'colsample_bytree': 0.5, 'colsample_bylevel': 0.7, 'colsample_bynode': 0.7, 'reg_alpha': 4.5783421617724835, 'reg_lambda': 0.0030226689414593164}. Best is trial 4 with value: 0.6898844942247112.\u001b[0m\n",
            "\u001b[32m[I 2022-05-16 04:47:34,183]\u001b[0m Trial 9 finished with value: 0.6204906204906205 and parameters: {'max_depth': 14, 'learning_rate': 0.22500000000000003, 'gamma': 14.700000000000001, 'min_child_weight': 100, 'max_delta_step': 8.5, 'subsample': 0.55, 'colsample_bytree': 0.5, 'colsample_bylevel': 0.55, 'colsample_bynode': 0.6, 'reg_alpha': 258.96023743068054, 'reg_lambda': 0.08052195361033278}. Best is trial 4 with value: 0.6898844942247112.\u001b[0m\n",
            "\u001b[32m[I 2022-05-16 04:47:46,083]\u001b[0m Trial 10 finished with value: 0.6692028358983227 and parameters: {'max_depth': 15, 'learning_rate': 0.175, 'gamma': 7.2, 'min_child_weight': 40, 'max_delta_step': 4.0, 'subsample': 0.8, 'colsample_bytree': 0.65, 'colsample_bylevel': 0.8500000000000001, 'colsample_bynode': 0.5, 'reg_alpha': 0.0004731991165570152, 'reg_lambda': 1.7602509652626e-05}. Best is trial 4 with value: 0.6898844942247112.\u001b[0m\n",
            "\u001b[32m[I 2022-05-16 04:47:56,527]\u001b[0m Trial 11 finished with value: 0.6738675958188154 and parameters: {'max_depth': 6, 'learning_rate': 0.22500000000000003, 'gamma': 5.9, 'min_child_weight': 3, 'max_delta_step': 1.0, 'subsample': 0.8, 'colsample_bytree': 0.65, 'colsample_bylevel': 0.5, 'colsample_bynode': 0.8, 'reg_alpha': 0.06351205848734164, 'reg_lambda': 1.0097295181390322e-05}. Best is trial 4 with value: 0.6898844942247112.\u001b[0m\n",
            "\u001b[32m[I 2022-05-16 04:48:06,949]\u001b[0m Trial 12 finished with value: 0.6789718820079352 and parameters: {'max_depth': 12, 'learning_rate': 0.25, 'gamma': 3.8000000000000003, 'min_child_weight': 24, 'max_delta_step': 1.0, 'subsample': 0.8, 'colsample_bytree': 0.6, 'colsample_bylevel': 0.8, 'colsample_bynode': 0.65, 'reg_alpha': 0.12275183045525839, 'reg_lambda': 0.00020371259974045133}. Best is trial 4 with value: 0.6898844942247112.\u001b[0m\n",
            "\u001b[32m[I 2022-05-16 04:48:17,299]\u001b[0m Trial 13 finished with value: 0.6738115816767503 and parameters: {'max_depth': 11, 'learning_rate': 0.22500000000000003, 'gamma': 3.4000000000000004, 'min_child_weight': 36, 'max_delta_step': 3.0, 'subsample': 0.75, 'colsample_bytree': 0.65, 'colsample_bylevel': 0.8, 'colsample_bynode': 0.65, 'reg_alpha': 0.017225055352132656, 'reg_lambda': 0.0004205957197076047}. Best is trial 4 with value: 0.6898844942247112.\u001b[0m\n",
            "\u001b[32m[I 2022-05-16 04:48:27,914]\u001b[0m Trial 14 finished with value: 0.6698945184160471 and parameters: {'max_depth': 12, 'learning_rate': 0.25, 'gamma': 8.8, 'min_child_weight': 22, 'max_delta_step': 4.0, 'subsample': 0.65, 'colsample_bytree': 0.6, 'colsample_bylevel': 0.8, 'colsample_bynode': 0.6, 'reg_alpha': 1.5135377969743062, 'reg_lambda': 0.0003312627105099967}. Best is trial 4 with value: 0.6898844942247112.\u001b[0m\n",
            "\u001b[32m[I 2022-05-16 04:48:38,855]\u001b[0m Trial 15 finished with value: 0.662389457256806 and parameters: {'max_depth': 13, 'learning_rate': 0.15000000000000002, 'gamma': 19.700000000000003, 'min_child_weight': 48, 'max_delta_step': 1.0, 'subsample': 0.8, 'colsample_bytree': 0.6, 'colsample_bylevel': 0.75, 'colsample_bynode': 0.75, 'reg_alpha': 0.002805101576770546, 'reg_lambda': 0.10400064057534966}. Best is trial 4 with value: 0.6898844942247112.\u001b[0m\n",
            "\u001b[32m[I 2022-05-16 04:48:48,956]\u001b[0m Trial 16 finished with value: 0.6739130434782609 and parameters: {'max_depth': 11, 'learning_rate': 0.25, 'gamma': 2.9000000000000004, 'min_child_weight': 14, 'max_delta_step': 3.5, 'subsample': 0.95, 'colsample_bytree': 0.7, 'colsample_bylevel': 0.8500000000000001, 'colsample_bynode': 0.65, 'reg_alpha': 4.210749977961635, 'reg_lambda': 0.04145159813214158}. Best is trial 4 with value: 0.6898844942247112.\u001b[0m\n",
            "\u001b[32m[I 2022-05-16 04:49:00,765]\u001b[0m Trial 17 finished with value: 0.6710435383552177 and parameters: {'max_depth': 15, 'learning_rate': 0.125, 'gamma': 8.3, 'min_child_weight': 31, 'max_delta_step': 7.0, 'subsample': 0.65, 'colsample_bytree': 0.6, 'colsample_bylevel': 0.7, 'colsample_bynode': 0.65, 'reg_alpha': 0.007578215435121564, 'reg_lambda': 0.002872104088227416}. Best is trial 4 with value: 0.6898844942247112.\u001b[0m\n",
            "\u001b[32m[I 2022-05-16 04:49:11,487]\u001b[0m Trial 18 finished with value: 0.677061677061677 and parameters: {'max_depth': 10, 'learning_rate': 0.2, 'gamma': 5.5, 'min_child_weight': 50, 'max_delta_step': 2.0, 'subsample': 0.75, 'colsample_bytree': 0.75, 'colsample_bylevel': 0.65, 'colsample_bynode': 0.5, 'reg_alpha': 0.000567538994374892, 'reg_lambda': 0.00014321114256172528}. Best is trial 4 with value: 0.6898844942247112.\u001b[0m\n",
            "\u001b[32m[I 2022-05-16 04:49:35,026]\u001b[0m Trial 19 finished with value: 0.7106278498772362 and parameters: {'max_depth': 13, 'learning_rate': 0.275, 'gamma': 0.1, 'min_child_weight': 12, 'max_delta_step': 10.0, 'subsample': 0.6, 'colsample_bytree': 0.55, 'colsample_bylevel': 0.75, 'colsample_bynode': 0.75, 'reg_alpha': 0.725454336657717, 'reg_lambda': 9.628140342865456e-05}. Best is trial 19 with value: 0.7106278498772362.\u001b[0m\n",
            "\u001b[32m[I 2022-05-16 04:49:50,988]\u001b[0m Trial 20 finished with value: 0.691768826619965 and parameters: {'max_depth': 14, 'learning_rate': 0.275, 'gamma': 1.3000000000000003, 'min_child_weight': 13, 'max_delta_step': 10.0, 'subsample': 0.5, 'colsample_bytree': 0.8500000000000001, 'colsample_bylevel': 0.75, 'colsample_bynode': 0.75, 'reg_alpha': 10.828906364451477, 'reg_lambda': 0.8191589260138443}. Best is trial 19 with value: 0.7106278498772362.\u001b[0m\n",
            "\u001b[32m[I 2022-05-16 04:50:05,724]\u001b[0m Trial 21 finished with value: 0.6861415406016345 and parameters: {'max_depth': 14, 'learning_rate': 0.275, 'gamma': 1.7000000000000002, 'min_child_weight': 11, 'max_delta_step': 10.0, 'subsample': 0.5, 'colsample_bytree': 0.8500000000000001, 'colsample_bylevel': 0.75, 'colsample_bynode': 0.75, 'reg_alpha': 9.089261684047303, 'reg_lambda': 0.7226976950327}. Best is trial 19 with value: 0.7106278498772362.\u001b[0m\n",
            "\u001b[32m[I 2022-05-16 04:50:25,074]\u001b[0m Trial 22 finished with value: 0.7136150234741784 and parameters: {'max_depth': 14, 'learning_rate': 0.275, 'gamma': 0.2, 'min_child_weight': 2, 'max_delta_step': 10.0, 'subsample': 0.6, 'colsample_bytree': 0.8500000000000001, 'colsample_bylevel': 0.7, 'colsample_bynode': 0.8, 'reg_alpha': 0.7277251988253651, 'reg_lambda': 0.42817923822343706}. Best is trial 22 with value: 0.7136150234741784.\u001b[0m\n",
            "\u001b[32m[I 2022-05-16 04:50:47,104]\u001b[0m Trial 23 finished with value: 0.70888733379986 and parameters: {'max_depth': 13, 'learning_rate': 0.275, 'gamma': 0.1, 'min_child_weight': 2, 'max_delta_step': 10.0, 'subsample': 0.5, 'colsample_bytree': 0.9, 'colsample_bylevel': 0.75, 'colsample_bynode': 0.8500000000000001, 'reg_alpha': 0.7744803714863667, 'reg_lambda': 0.5470631210250864}. Best is trial 22 with value: 0.7136150234741784.\u001b[0m\n",
            "\u001b[32m[I 2022-05-16 04:51:02,771]\u001b[0m Trial 24 finished with value: 0.717342146460254 and parameters: {'max_depth': 13, 'learning_rate': 0.2, 'gamma': 0.7000000000000001, 'min_child_weight': 7, 'max_delta_step': 9.0, 'subsample': 0.6, 'colsample_bytree': 0.95, 'colsample_bylevel': 0.8500000000000001, 'colsample_bynode': 0.9, 'reg_alpha': 0.6466524752785348, 'reg_lambda': 0.3869575905381202}. Best is trial 24 with value: 0.717342146460254.\u001b[0m\n",
            "\u001b[32m[I 2022-05-16 04:51:13,585]\u001b[0m Trial 25 finished with value: 0.6737576285963384 and parameters: {'max_depth': 13, 'learning_rate': 0.22500000000000003, 'gamma': 5.8, 'min_child_weight': 20, 'max_delta_step': 7.5, 'subsample': 0.6, 'colsample_bytree': 0.95, 'colsample_bylevel': 0.9, 'colsample_bynode': 0.9, 'reg_alpha': 0.046751473305508176, 'reg_lambda': 0.019794154497393013}. Best is trial 24 with value: 0.717342146460254.\u001b[0m\n",
            "\u001b[32m[I 2022-05-16 04:51:47,104]\u001b[0m Trial 26 finished with value: 0.7141612959414735 and parameters: {'max_depth': 11, 'learning_rate': 0.2, 'gamma': 0.1, 'min_child_weight': 30, 'max_delta_step': 9.0, 'subsample': 0.6, 'colsample_bytree': 0.9, 'colsample_bylevel': 0.8500000000000001, 'colsample_bynode': 0.9, 'reg_alpha': 0.39496791096211686, 'reg_lambda': 132.62718823712996}. Best is trial 24 with value: 0.717342146460254.\u001b[0m\n",
            "\u001b[32m[I 2022-05-16 04:51:57,540]\u001b[0m Trial 27 finished with value: 0.670363951473137 and parameters: {'max_depth': 11, 'learning_rate': 0.15000000000000002, 'gamma': 2.7, 'min_child_weight': 32, 'max_delta_step': 9.0, 'subsample': 0.6, 'colsample_bytree': 0.9, 'colsample_bylevel': 0.9, 'colsample_bynode': 0.9, 'reg_alpha': 19.751507842830136, 'reg_lambda': 550.3577146215556}. Best is trial 24 with value: 0.717342146460254.\u001b[0m\n",
            "\u001b[32m[I 2022-05-16 04:52:08,043]\u001b[0m Trial 28 finished with value: 0.6763948497854078 and parameters: {'max_depth': 10, 'learning_rate': 0.2, 'gamma': 4.7, 'min_child_weight': 60, 'max_delta_step': 7.5, 'subsample': 0.6, 'colsample_bytree': 0.95, 'colsample_bylevel': 0.8500000000000001, 'colsample_bynode': 0.9, 'reg_alpha': 0.02033117096838607, 'reg_lambda': 46.93537296076177}. Best is trial 24 with value: 0.717342146460254.\u001b[0m\n",
            "\u001b[32m[I 2022-05-16 04:52:18,445]\u001b[0m Trial 29 finished with value: 0.6750430292598967 and parameters: {'max_depth': 6, 'learning_rate': 0.2, 'gamma': 4.3999999999999995, 'min_child_weight': 31, 'max_delta_step': 9.0, 'subsample': 0.65, 'colsample_bytree': 0.8500000000000001, 'colsample_bylevel': 0.9, 'colsample_bynode': 0.8, 'reg_alpha': 0.6263357401015018, 'reg_lambda': 100.8019905903584}. Best is trial 24 with value: 0.717342146460254.\u001b[0m\n",
            "\u001b[32m[I 2022-05-16 04:52:32,953]\u001b[0m Trial 30 finished with value: 0.6880222841225626 and parameters: {'max_depth': 15, 'learning_rate': 0.15000000000000002, 'gamma': 2.5000000000000004, 'min_child_weight': 42, 'max_delta_step': 8.0, 'subsample': 0.55, 'colsample_bytree': 0.9, 'colsample_bylevel': 0.8, 'colsample_bynode': 0.9, 'reg_alpha': 0.17409566726183567, 'reg_lambda': 3.9816148149731356}. Best is trial 24 with value: 0.717342146460254.\u001b[0m\n",
            "\u001b[32m[I 2022-05-16 04:52:50,363]\u001b[0m Trial 31 finished with value: 0.7154840964697659 and parameters: {'max_depth': 13, 'learning_rate': 0.25, 'gamma': 0.30000000000000004, 'min_child_weight': 9, 'max_delta_step': 9.5, 'subsample': 0.6, 'colsample_bytree': 0.8, 'colsample_bylevel': 0.7, 'colsample_bynode': 0.8500000000000001, 'reg_alpha': 0.4302679715836757, 'reg_lambda': 0.32158057513745336}. Best is trial 24 with value: 0.717342146460254.\u001b[0m\n",
            "\u001b[32m[I 2022-05-16 04:53:05,025]\u001b[0m Trial 32 finished with value: 0.7137883008356546 and parameters: {'max_depth': 12, 'learning_rate': 0.25, 'gamma': 0.7000000000000001, 'min_child_weight': 8, 'max_delta_step': 9.5, 'subsample': 0.6, 'colsample_bytree': 0.8, 'colsample_bylevel': 0.7, 'colsample_bynode': 0.8500000000000001, 'reg_alpha': 0.2482519520231292, 'reg_lambda': 2.9545107185737685}. Best is trial 24 with value: 0.717342146460254.\u001b[0m\n",
            "\u001b[32m[I 2022-05-16 04:53:19,631]\u001b[0m Trial 33 finished with value: 0.704225352112676 and parameters: {'max_depth': 10, 'learning_rate': 0.2, 'gamma': 1.2000000000000002, 'min_child_weight': 19, 'max_delta_step': 9.0, 'subsample': 0.55, 'colsample_bytree': 0.8, 'colsample_bylevel': 0.65, 'colsample_bynode': 0.8500000000000001, 'reg_alpha': 0.2746618228134216, 'reg_lambda': 3.985826969640252}. Best is trial 24 with value: 0.717342146460254.\u001b[0m\n",
            "\u001b[32m[I 2022-05-16 04:53:31,206]\u001b[0m Trial 34 finished with value: 0.6825974025974025 and parameters: {'max_depth': 12, 'learning_rate': 0.175, 'gamma': 2.0, 'min_child_weight': 8, 'max_delta_step': 6.5, 'subsample': 0.65, 'colsample_bytree': 0.8, 'colsample_bylevel': 0.7, 'colsample_bynode': 0.95, 'reg_alpha': 0.04988767948545068, 'reg_lambda': 176.3845929725989}. Best is trial 24 with value: 0.717342146460254.\u001b[0m\n",
            "\u001b[32m[I 2022-05-16 04:53:41,825]\u001b[0m Trial 35 finished with value: 0.6845452982637098 and parameters: {'max_depth': 8, 'learning_rate': 0.25, 'gamma': 3.7, 'min_child_weight': 18, 'max_delta_step': 9.5, 'subsample': 0.7, 'colsample_bytree': 0.75, 'colsample_bylevel': 0.8500000000000001, 'colsample_bynode': 0.9, 'reg_alpha': 0.2204545992109116, 'reg_lambda': 12.684632799373022}. Best is trial 24 with value: 0.717342146460254.\u001b[0m\n",
            "\u001b[32m[I 2022-05-16 04:53:52,023]\u001b[0m Trial 36 finished with value: 0.5823277539898793 and parameters: {'max_depth': 11, 'learning_rate': 0.22500000000000003, 'gamma': 1.1, 'min_child_weight': 26, 'max_delta_step': 8.0, 'subsample': 0.55, 'colsample_bytree': 0.8, 'colsample_bylevel': 0.65, 'colsample_bynode': 0.8500000000000001, 'reg_alpha': 627.8486392556553, 'reg_lambda': 1.6903598010807677}. Best is trial 24 with value: 0.717342146460254.\u001b[0m\n",
            "\u001b[32m[I 2022-05-16 04:54:03,790]\u001b[0m Trial 37 finished with value: 0.6982310093652446 and parameters: {'max_depth': 12, 'learning_rate': 0.2, 'gamma': 2.1, 'min_child_weight': 8, 'max_delta_step': 8.5, 'subsample': 0.7, 'colsample_bytree': 0.9, 'colsample_bylevel': 0.6, 'colsample_bynode': 0.95, 'reg_alpha': 3.160506153104586, 'reg_lambda': 0.15752132051688417}. Best is trial 24 with value: 0.717342146460254.\u001b[0m\n",
            "\u001b[32m[I 2022-05-16 04:54:14,172]\u001b[0m Trial 38 finished with value: 0.6678212677519917 and parameters: {'max_depth': 8, 'learning_rate': 0.175, 'gamma': 6.9, 'min_child_weight': 90, 'max_delta_step': 9.5, 'subsample': 0.6, 'colsample_bytree': 0.95, 'colsample_bylevel': 0.95, 'colsample_bynode': 0.8500000000000001, 'reg_alpha': 0.0033726172148377423, 'reg_lambda': 13.217583460294634}. Best is trial 24 with value: 0.717342146460254.\u001b[0m\n",
            "\u001b[32m[I 2022-05-16 04:54:24,355]\u001b[0m Trial 39 finished with value: 0.6465502029292394 and parameters: {'max_depth': 10, 'learning_rate': 0.05, 'gamma': 18.400000000000002, 'min_child_weight': 16, 'max_delta_step': 5.0, 'subsample': 0.65, 'colsample_bytree': 0.8500000000000001, 'colsample_bylevel': 0.6, 'colsample_bynode': 0.95, 'reg_alpha': 1.8250484673286087, 'reg_lambda': 980.467726476507}. Best is trial 24 with value: 0.717342146460254.\u001b[0m\n",
            "\u001b[32m[I 2022-05-16 04:54:35,158]\u001b[0m Trial 40 finished with value: 0.6677165354330709 and parameters: {'max_depth': 13, 'learning_rate': 0.25, 'gamma': 4.7, 'min_child_weight': 59, 'max_delta_step': 8.0, 'subsample': 0.55, 'colsample_bytree': 0.75, 'colsample_bylevel': 0.8, 'colsample_bynode': 0.9, 'reg_alpha': 37.945560600996195, 'reg_lambda': 38.53065167946032}. Best is trial 24 with value: 0.717342146460254.\u001b[0m\n",
            "\u001b[32m[I 2022-05-16 04:54:48,932]\u001b[0m Trial 41 finished with value: 0.7105308964316797 and parameters: {'max_depth': 14, 'learning_rate': 0.3, 'gamma': 1.2000000000000002, 'min_child_weight': 6, 'max_delta_step': 9.5, 'subsample': 0.6, 'colsample_bytree': 0.8500000000000001, 'colsample_bylevel': 0.7, 'colsample_bynode': 0.8, 'reg_alpha': 0.5052705274351537, 'reg_lambda': 0.2827495828829292}. Best is trial 24 with value: 0.717342146460254.\u001b[0m\n",
            "\u001b[32m[I 2022-05-16 04:55:08,411]\u001b[0m Trial 42 finished with value: 0.7204580947423216 and parameters: {'max_depth': 14, 'learning_rate': 0.3, 'gamma': 0.2, 'min_child_weight': 6, 'max_delta_step': 9.5, 'subsample': 0.6, 'colsample_bytree': 0.8, 'colsample_bylevel': 0.7, 'colsample_bynode': 0.8, 'reg_alpha': 1.3735876672882066, 'reg_lambda': 1.8462370428126593}. Best is trial 42 with value: 0.7204580947423216.\u001b[0m\n",
            "\u001b[32m[I 2022-05-16 04:55:24,403]\u001b[0m Trial 43 finished with value: 0.7035614525139665 and parameters: {'max_depth': 13, 'learning_rate': 0.3, 'gamma': 0.8, 'min_child_weight': 27, 'max_delta_step': 8.5, 'subsample': 0.55, 'colsample_bytree': 0.7, 'colsample_bylevel': 0.7, 'colsample_bynode': 0.8500000000000001, 'reg_alpha': 0.08946635488526948, 'reg_lambda': 1.8070671754881014}. Best is trial 42 with value: 0.7204580947423216.\u001b[0m\n",
            "\u001b[32m[I 2022-05-16 04:55:36,616]\u001b[0m Trial 44 finished with value: 0.6904013961605585 and parameters: {'max_depth': 15, 'learning_rate': 0.3, 'gamma': 3.0000000000000004, 'min_child_weight': 7, 'max_delta_step': 9.0, 'subsample': 0.7, 'colsample_bytree': 0.75, 'colsample_bylevel': 0.65, 'colsample_bynode': 0.8500000000000001, 'reg_alpha': 1.4591605889659758, 'reg_lambda': 0.017288612582528125}. Best is trial 42 with value: 0.7204580947423216.\u001b[0m\n",
            "\u001b[32m[I 2022-05-16 04:55:49,270]\u001b[0m Trial 45 finished with value: 0.6878251821019771 and parameters: {'max_depth': 12, 'learning_rate': 0.22500000000000003, 'gamma': 1.7000000000000002, 'min_child_weight': 15, 'max_delta_step': 9.5, 'subsample': 0.65, 'colsample_bytree': 0.8, 'colsample_bylevel': 0.75, 'colsample_bynode': 0.8, 'reg_alpha': 7.566902848401928, 'reg_lambda': 6.309533913579732}. Best is trial 42 with value: 0.7204580947423216.\u001b[0m\n",
            "\u001b[32m[I 2022-05-16 04:56:09,041]\u001b[0m Trial 46 finished with value: 0.7112113849357862 and parameters: {'max_depth': 11, 'learning_rate': 0.25, 'gamma': 0.1, 'min_child_weight': 6, 'max_delta_step': 7.5, 'subsample': 0.6, 'colsample_bytree': 0.9, 'colsample_bylevel': 0.7, 'colsample_bynode': 0.9, 'reg_alpha': 0.028340422457935846, 'reg_lambda': 0.21674396037920018}. Best is trial 42 with value: 0.7204580947423216.\u001b[0m\n",
            "\u001b[32m[I 2022-05-16 04:56:19,841]\u001b[0m Trial 47 finished with value: 0.66942862074918 and parameters: {'max_depth': 13, 'learning_rate': 0.22500000000000003, 'gamma': 15.0, 'min_child_weight': 11, 'max_delta_step': 9.0, 'subsample': 0.5, 'colsample_bytree': 0.95, 'colsample_bylevel': 0.8500000000000001, 'colsample_bynode': 0.8, 'reg_alpha': 0.3235400355368709, 'reg_lambda': 2.011814616201124}. Best is trial 42 with value: 0.7204580947423216.\u001b[0m\n",
            "\u001b[32m[I 2022-05-16 04:56:30,377]\u001b[0m Trial 48 finished with value: 0.6658570437196392 and parameters: {'max_depth': 12, 'learning_rate': 0.125, 'gamma': 12.8, 'min_child_weight': 75, 'max_delta_step': 9.5, 'subsample': 0.65, 'colsample_bytree': 0.8, 'colsample_bylevel': 0.9, 'colsample_bynode': 0.95, 'reg_alpha': 0.11936246927861173, 'reg_lambda': 0.05477573370389457}. Best is trial 42 with value: 0.7204580947423216.\u001b[0m\n",
            "\u001b[32m[I 2022-05-16 04:56:41,966]\u001b[0m Trial 49 finished with value: 0.6776315789473684 and parameters: {'max_depth': 14, 'learning_rate': 0.175, 'gamma': 3.5000000000000004, 'min_child_weight': 38, 'max_delta_step': 8.0, 'subsample': 0.6, 'colsample_bytree': 0.7, 'colsample_bylevel': 0.65, 'colsample_bynode': 0.8500000000000001, 'reg_alpha': 0.009436206127619199, 'reg_lambda': 7.490180173242121}. Best is trial 42 with value: 0.7204580947423216.\u001b[0m\n"
          ]
        }
      ]
    },
    {
      "cell_type": "code",
      "source": [
        "print(f'Best f1_score: {best_value:.5f}')\n",
        "print('Best params:')\n",
        "for key, value in best_params.items():\n",
        "    print(f'\\t{key}: {value}')"
      ],
      "metadata": {
        "colab": {
          "base_uri": "https://localhost:8080/"
        },
        "id": "zsRX6rmEdddx",
        "outputId": "eb200e88-fb6b-4e5a-e1e5-12bddd57d504"
      },
      "execution_count": 23,
      "outputs": [
        {
          "output_type": "stream",
          "name": "stdout",
          "text": [
            "Best f1_score: 0.72046\n",
            "Best params:\n",
            "\tmax_depth: 14\n",
            "\tlearning_rate: 0.3\n",
            "\tgamma: 0.2\n",
            "\tmin_child_weight: 6\n",
            "\tmax_delta_step: 9.5\n",
            "\tsubsample: 0.6\n",
            "\tcolsample_bytree: 0.8\n",
            "\tcolsample_bylevel: 0.7\n",
            "\tcolsample_bynode: 0.8\n",
            "\treg_alpha: 1.3735876672882066\n",
            "\treg_lambda: 1.8462370428126593\n"
          ]
        }
      ]
    },
    {
      "cell_type": "code",
      "source": [
        "model_params_red = dict(base_params, **best_params)"
      ],
      "metadata": {
        "id": "jqAh5s5BdeMZ"
      },
      "execution_count": 24,
      "outputs": []
    },
    {
      "cell_type": "markdown",
      "source": [
        "# Cross-validation"
      ],
      "metadata": {
        "id": "yPLZ3VlAZj7d"
      }
    },
    {
      "cell_type": "code",
      "source": [
        "def evaluate_model(train, test, features, model_params, n_splits=5):\n",
        "    \n",
        "    #out-of-fold predictions\n",
        "    oof_proba = {} #probability\n",
        "    oof_pred = {} #class\n",
        "\n",
        "    test_proba = []\n",
        "    test_pred = []\n",
        "    cv_scores = []\n",
        "    \n",
        "    cv_start = time.time()\n",
        "    for fold in range(n_splits):\n",
        "        xtrain = train[train['fold'] != fold].reset_index(drop=True)\n",
        "        ytrain = xtrain[TARGET]\n",
        "\n",
        "        xval = train[train['fold'] == fold].reset_index(drop=True)\n",
        "        yval = xval[TARGET]\n",
        "        val_idx = xval.index.to_list()\n",
        "\n",
        "        fold_start = time.time()\n",
        "\n",
        "        model = xgb.XGBClassifier(**model_params)\n",
        "        \n",
        "        model.fit(\n",
        "            xtrain[features], ytrain,\n",
        "            eval_set=[(xval[features], yval)], \n",
        "            verbose=False)\n",
        "\n",
        "        val_pred = model.predict(xval[features])\n",
        "        oof_pred.update(dict(zip(val_idx, val_pred)))\n",
        "        val_proba = model.predict_proba(xval[features])[:, 1]\n",
        "        oof_proba.update(dict(zip(val_idx, val_proba)))        \n",
        "\n",
        "        score = f1_score(yval, val_pred)\n",
        "        cv_scores.append(score)\n",
        "\n",
        "        fold_end = time.time()\n",
        "\n",
        "        print(f'Fold #{fold}: f1_score = {score:.5f} \\\n",
        "        [Time: {fold_end - fold_start:.2f}s]')\n",
        "        \n",
        "        test_pred.append(model.predict(test[features]))\n",
        "        test_proba.append(model.predict_proba(test[features])[:, 1])\n",
        "        \n",
        "    cv_end = time.time()\n",
        "\n",
        "    print(f'Average f1-score = {np.mean(cv_scores):.5f} \\\n",
        "    with std. dev. = {np.std(cv_scores):.5f}')\n",
        "    print(f'[Total time: {cv_end - cv_start:.2f}s]')\n",
        "\n",
        "    oof_pred = pd.DataFrame.from_dict(oof_pred, orient='index').reset_index()\n",
        "    oof_proba = pd.DataFrame.from_dict(oof_proba, orient='index').reset_index()\n",
        "    \n",
        "    test_pred = mode(np.column_stack(test_pred), axis=1).mode\n",
        "    test_proba = np.mean(np.column_stack(test_proba), axis=1)\n",
        "    \n",
        "    return oof_pred, oof_proba, test_pred, test_proba"
      ],
      "metadata": {
        "id": "1PZxtE-uZmXL"
      },
      "execution_count": 25,
      "outputs": []
    },
    {
      "cell_type": "markdown",
      "source": [
        "### All features"
      ],
      "metadata": {
        "id": "Th1zOFVla913"
      }
    },
    {
      "cell_type": "code",
      "source": [
        "oof_pred, oof_proba, test_pred, test_proba = evaluate_model(train, test, \n",
        "                                                            features, \n",
        "                                                            model_params_all)"
      ],
      "metadata": {
        "colab": {
          "base_uri": "https://localhost:8080/"
        },
        "id": "OWUoA-0na7Y8",
        "outputId": "7260f81c-96b7-441b-eb6d-69e231bc10b6"
      },
      "execution_count": 26,
      "outputs": [
        {
          "output_type": "stream",
          "name": "stdout",
          "text": [
            "Fold #0: f1_score = 0.70584         [Time: 27.71s]\n",
            "Fold #1: f1_score = 0.70384         [Time: 27.66s]\n",
            "Fold #2: f1_score = 0.70060         [Time: 27.85s]\n",
            "Fold #3: f1_score = 0.71007         [Time: 27.88s]\n",
            "Fold #4: f1_score = 0.71027         [Time: 27.81s]\n",
            "Average f1-score = 0.70613     with std. dev. = 0.00370\n",
            "[Total time: 177.26s]\n"
          ]
        }
      ]
    },
    {
      "cell_type": "code",
      "source": [
        "sub1 = pd.DataFrame({'smoking': test_pred.ravel()})\n",
        "sub1.to_csv('sub-02-full-features.csv', index=False)"
      ],
      "metadata": {
        "id": "RFxcbFPWbYKb"
      },
      "execution_count": 27,
      "outputs": []
    },
    {
      "cell_type": "code",
      "source": [
        "!head sub-02-full-features.csv"
      ],
      "metadata": {
        "colab": {
          "base_uri": "https://localhost:8080/"
        },
        "id": "VBQyxSNMbuHk",
        "outputId": "c179a936-3e9a-4daf-b7e9-f056eeda9514"
      },
      "execution_count": 28,
      "outputs": [
        {
          "output_type": "stream",
          "name": "stdout",
          "text": [
            "smoking\n",
            "1\n",
            "1\n",
            "0\n",
            "0\n",
            "0\n",
            "1\n",
            "0\n",
            "1\n",
            "0\n"
          ]
        }
      ]
    },
    {
      "cell_type": "markdown",
      "source": [
        "### Reduced features"
      ],
      "metadata": {
        "id": "5L83SxXLbBZ4"
      }
    },
    {
      "cell_type": "code",
      "source": [
        "oof_pred, oof_proba, test_pred, test_proba = evaluate_model(train, test, \n",
        "                                                            reduced_features, \n",
        "                                                            model_params_red)"
      ],
      "metadata": {
        "colab": {
          "base_uri": "https://localhost:8080/"
        },
        "id": "nAqyvf3HbDF7",
        "outputId": "558e2dfc-0c98-4fde-8405-4b352441658f"
      },
      "execution_count": 29,
      "outputs": [
        {
          "output_type": "stream",
          "name": "stdout",
          "text": [
            "Fold #0: f1_score = 0.71599         [Time: 20.85s]\n",
            "Fold #1: f1_score = 0.70681         [Time: 20.03s]\n",
            "Fold #2: f1_score = 0.70406         [Time: 20.60s]\n",
            "Fold #3: f1_score = 0.71424         [Time: 20.58s]\n",
            "Fold #4: f1_score = 0.71406         [Time: 20.51s]\n",
            "Average f1-score = 0.71103     with std. dev. = 0.00470\n",
            "[Total time: 118.35s]\n"
          ]
        }
      ]
    },
    {
      "cell_type": "code",
      "source": [
        "sub2 = pd.DataFrame({'smoking': test_pred.ravel()})\n",
        "sub2.to_csv('sub-02-reduced-features.csv', index=False)"
      ],
      "metadata": {
        "id": "V_56QuVAbpCU"
      },
      "execution_count": 30,
      "outputs": []
    },
    {
      "cell_type": "code",
      "source": [
        "!head sub-02-reduced-features.csv"
      ],
      "metadata": {
        "colab": {
          "base_uri": "https://localhost:8080/"
        },
        "id": "t825-o55bz7k",
        "outputId": "e11e8f2a-f576-4082-9a05-1b9ebb159dd3"
      },
      "execution_count": 31,
      "outputs": [
        {
          "output_type": "stream",
          "name": "stdout",
          "text": [
            "smoking\n",
            "1\n",
            "1\n",
            "0\n",
            "0\n",
            "0\n",
            "1\n",
            "0\n",
            "1\n",
            "0\n"
          ]
        }
      ]
    }
  ]
}