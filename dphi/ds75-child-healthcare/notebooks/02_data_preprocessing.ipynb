{
  "nbformat": 4,
  "nbformat_minor": 0,
  "metadata": {
    "colab": {
      "name": "02-data-preprocessing",
      "provenance": [],
      "mount_file_id": "1bDkbdb9MhOHIzMXTMP-tArw13o_nD7Bt",
      "authorship_tag": "ABX9TyPCGNkag1u7PaknXdj2xucK",
      "include_colab_link": true
    },
    "kernelspec": {
      "name": "python3",
      "display_name": "Python 3"
    },
    "language_info": {
      "name": "python"
    }
  },
  "cells": [
    {
      "cell_type": "markdown",
      "metadata": {
        "id": "view-in-github",
        "colab_type": "text"
      },
      "source": [
        "<a href=\"https://colab.research.google.com/github/sidt-ai/data-science-competitions/blob/main/dphi/ds75-child-healthcare/notebooks/02_data_preprocessing.ipynb\" target=\"_parent\"><img src=\"https://colab.research.google.com/assets/colab-badge.svg\" alt=\"Open In Colab\"/></a>"
      ]
    },
    {
      "cell_type": "markdown",
      "source": [
        "# Setup"
      ],
      "metadata": {
        "id": "aByP5MJIHD9k"
      }
    },
    {
      "cell_type": "code",
      "source": [
        "import os\n",
        "import gc\n",
        "import warnings\n",
        "\n",
        "gc.enable()\n",
        "warnings.filterwarnings('ignore')\n",
        "\n",
        "%pprint"
      ],
      "metadata": {
        "colab": {
          "base_uri": "https://localhost:8080/"
        },
        "id": "SbDCqFtnDkrM",
        "outputId": "74a7a3ef-509c-4818-e9c9-d08267c540b5"
      },
      "execution_count": 1,
      "outputs": [
        {
          "output_type": "stream",
          "name": "stdout",
          "text": [
            "Pretty printing has been turned OFF\n"
          ]
        }
      ]
    },
    {
      "cell_type": "code",
      "execution_count": 2,
      "metadata": {
        "id": "xWXDLEcYetil"
      },
      "outputs": [],
      "source": [
        "import numpy as np\n",
        "import pandas as pd\n",
        "pd.set_option('precision', 4)\n",
        "pd.set_option('display.max_columns', None)"
      ]
    },
    {
      "cell_type": "code",
      "source": [
        "SEED = 2311\n",
        "\n",
        "os.environ['PYTHONHASHSEED'] = str(SEED)\n",
        "np.random.seed(SEED)"
      ],
      "metadata": {
        "id": "BKb9e_koDmA_"
      },
      "execution_count": 3,
      "outputs": []
    },
    {
      "cell_type": "code",
      "source": [
        "train_url = 'https://raw.githubusercontent.com/sidt-ai/data-science-competitions/main/dphi/ds75-child-healthcare/data/train_dataset.csv'\n",
        "test_url = 'https://raw.githubusercontent.com/sidt-ai/data-science-competitions/main/dphi/ds75-child-healthcare/data/test_dataset.csv'"
      ],
      "metadata": {
        "id": "sn8xNdnQDhn0"
      },
      "execution_count": 4,
      "outputs": []
    },
    {
      "cell_type": "code",
      "source": [
        "train = pd.read_csv(train_url)\n",
        "test = pd.read_csv(test_url)"
      ],
      "metadata": {
        "id": "oL8b84oIDxCC"
      },
      "execution_count": 5,
      "outputs": []
    },
    {
      "cell_type": "code",
      "source": [
        "features = test.columns.to_list()"
      ],
      "metadata": {
        "id": "V2Z6cJBMsER_"
      },
      "execution_count": 6,
      "outputs": []
    },
    {
      "cell_type": "markdown",
      "source": [
        "# Preprocessing"
      ],
      "metadata": {
        "id": "IrLUIEk6HBq2"
      }
    },
    {
      "cell_type": "code",
      "source": [
        "train.head()"
      ],
      "metadata": {
        "colab": {
          "base_uri": "https://localhost:8080/",
          "height": 288
        },
        "id": "VBOjmTpqJc0p",
        "outputId": "07f1b189-a9e8-4907-f9ea-24823ebdbebb"
      },
      "execution_count": 7,
      "outputs": [
        {
          "output_type": "execute_result",
          "data": {
            "text/plain": [
              "   baseline value  accelerations  fetal_movement  uterine_contractions  \\\n",
              "0           133.0          0.003           0.000                 0.004   \n",
              "1           130.0          0.001           0.001                 0.012   \n",
              "2           141.0          0.000           0.008                 0.000   \n",
              "3           144.0          0.000           0.002                 0.002   \n",
              "4           106.0          0.001           0.000                 0.011   \n",
              "\n",
              "   light_decelerations  severe_decelerations  prolongued_decelerations  \\\n",
              "0                0.004                   0.0                     0.000   \n",
              "1                0.010                   0.0                     0.001   \n",
              "2                0.000                   0.0                     0.000   \n",
              "3                0.000                   0.0                     0.000   \n",
              "4                0.000                   0.0                     0.000   \n",
              "\n",
              "   abnormal_short_term_variability  mean_value_of_short_term_variability  \\\n",
              "0                             30.0                                   1.5   \n",
              "1                             62.0                                   2.2   \n",
              "2                             75.0                                   0.3   \n",
              "3                             84.0                                   0.3   \n",
              "4                             63.0                                   0.6   \n",
              "\n",
              "   percentage_of_time_with_abnormal_long_term_variability  \\\n",
              "0                                                0.0        \n",
              "1                                                0.0        \n",
              "2                                               49.0        \n",
              "3                                               34.0        \n",
              "4                                                0.0        \n",
              "\n",
              "   mean_value_of_long_term_variability  histogram_width  histogram_min  \\\n",
              "0                                  5.3            102.0           67.0   \n",
              "1                                  0.0            161.0           50.0   \n",
              "2                                  4.6              9.0          136.0   \n",
              "3                                  5.5             38.0          132.0   \n",
              "4                                 11.5             30.0           95.0   \n",
              "\n",
              "   histogram_max  histogram_number_of_peaks  histogram_number_of_zeroes  \\\n",
              "0          169.0                        9.0                         1.0   \n",
              "1          211.0                        9.0                         0.0   \n",
              "2          145.0                        1.0                         0.0   \n",
              "3          170.0                        2.0                         0.0   \n",
              "4          125.0                        1.0                         0.0   \n",
              "\n",
              "   histogram_mode  histogram_mean  histogram_median  histogram_variance  \\\n",
              "0           147.0           137.0             144.0                40.0   \n",
              "1            60.0            89.0             113.0               250.0   \n",
              "2           143.0           141.0             143.0                 0.0   \n",
              "3           144.0           143.0             145.0                 0.0   \n",
              "4           112.0           110.0             112.0                 1.0   \n",
              "\n",
              "   histogram_tendency  fetal_health  \n",
              "0                 1.0           1.0  \n",
              "1                 0.0           3.0  \n",
              "2                 1.0           2.0  \n",
              "3                -1.0           3.0  \n",
              "4                 0.0           1.0  "
            ],
            "text/html": [
              "\n",
              "  <div id=\"df-71daef5e-a083-4d35-97c6-e75cfede4aef\">\n",
              "    <div class=\"colab-df-container\">\n",
              "      <div>\n",
              "<style scoped>\n",
              "    .dataframe tbody tr th:only-of-type {\n",
              "        vertical-align: middle;\n",
              "    }\n",
              "\n",
              "    .dataframe tbody tr th {\n",
              "        vertical-align: top;\n",
              "    }\n",
              "\n",
              "    .dataframe thead th {\n",
              "        text-align: right;\n",
              "    }\n",
              "</style>\n",
              "<table border=\"1\" class=\"dataframe\">\n",
              "  <thead>\n",
              "    <tr style=\"text-align: right;\">\n",
              "      <th></th>\n",
              "      <th>baseline value</th>\n",
              "      <th>accelerations</th>\n",
              "      <th>fetal_movement</th>\n",
              "      <th>uterine_contractions</th>\n",
              "      <th>light_decelerations</th>\n",
              "      <th>severe_decelerations</th>\n",
              "      <th>prolongued_decelerations</th>\n",
              "      <th>abnormal_short_term_variability</th>\n",
              "      <th>mean_value_of_short_term_variability</th>\n",
              "      <th>percentage_of_time_with_abnormal_long_term_variability</th>\n",
              "      <th>mean_value_of_long_term_variability</th>\n",
              "      <th>histogram_width</th>\n",
              "      <th>histogram_min</th>\n",
              "      <th>histogram_max</th>\n",
              "      <th>histogram_number_of_peaks</th>\n",
              "      <th>histogram_number_of_zeroes</th>\n",
              "      <th>histogram_mode</th>\n",
              "      <th>histogram_mean</th>\n",
              "      <th>histogram_median</th>\n",
              "      <th>histogram_variance</th>\n",
              "      <th>histogram_tendency</th>\n",
              "      <th>fetal_health</th>\n",
              "    </tr>\n",
              "  </thead>\n",
              "  <tbody>\n",
              "    <tr>\n",
              "      <th>0</th>\n",
              "      <td>133.0</td>\n",
              "      <td>0.003</td>\n",
              "      <td>0.000</td>\n",
              "      <td>0.004</td>\n",
              "      <td>0.004</td>\n",
              "      <td>0.0</td>\n",
              "      <td>0.000</td>\n",
              "      <td>30.0</td>\n",
              "      <td>1.5</td>\n",
              "      <td>0.0</td>\n",
              "      <td>5.3</td>\n",
              "      <td>102.0</td>\n",
              "      <td>67.0</td>\n",
              "      <td>169.0</td>\n",
              "      <td>9.0</td>\n",
              "      <td>1.0</td>\n",
              "      <td>147.0</td>\n",
              "      <td>137.0</td>\n",
              "      <td>144.0</td>\n",
              "      <td>40.0</td>\n",
              "      <td>1.0</td>\n",
              "      <td>1.0</td>\n",
              "    </tr>\n",
              "    <tr>\n",
              "      <th>1</th>\n",
              "      <td>130.0</td>\n",
              "      <td>0.001</td>\n",
              "      <td>0.001</td>\n",
              "      <td>0.012</td>\n",
              "      <td>0.010</td>\n",
              "      <td>0.0</td>\n",
              "      <td>0.001</td>\n",
              "      <td>62.0</td>\n",
              "      <td>2.2</td>\n",
              "      <td>0.0</td>\n",
              "      <td>0.0</td>\n",
              "      <td>161.0</td>\n",
              "      <td>50.0</td>\n",
              "      <td>211.0</td>\n",
              "      <td>9.0</td>\n",
              "      <td>0.0</td>\n",
              "      <td>60.0</td>\n",
              "      <td>89.0</td>\n",
              "      <td>113.0</td>\n",
              "      <td>250.0</td>\n",
              "      <td>0.0</td>\n",
              "      <td>3.0</td>\n",
              "    </tr>\n",
              "    <tr>\n",
              "      <th>2</th>\n",
              "      <td>141.0</td>\n",
              "      <td>0.000</td>\n",
              "      <td>0.008</td>\n",
              "      <td>0.000</td>\n",
              "      <td>0.000</td>\n",
              "      <td>0.0</td>\n",
              "      <td>0.000</td>\n",
              "      <td>75.0</td>\n",
              "      <td>0.3</td>\n",
              "      <td>49.0</td>\n",
              "      <td>4.6</td>\n",
              "      <td>9.0</td>\n",
              "      <td>136.0</td>\n",
              "      <td>145.0</td>\n",
              "      <td>1.0</td>\n",
              "      <td>0.0</td>\n",
              "      <td>143.0</td>\n",
              "      <td>141.0</td>\n",
              "      <td>143.0</td>\n",
              "      <td>0.0</td>\n",
              "      <td>1.0</td>\n",
              "      <td>2.0</td>\n",
              "    </tr>\n",
              "    <tr>\n",
              "      <th>3</th>\n",
              "      <td>144.0</td>\n",
              "      <td>0.000</td>\n",
              "      <td>0.002</td>\n",
              "      <td>0.002</td>\n",
              "      <td>0.000</td>\n",
              "      <td>0.0</td>\n",
              "      <td>0.000</td>\n",
              "      <td>84.0</td>\n",
              "      <td>0.3</td>\n",
              "      <td>34.0</td>\n",
              "      <td>5.5</td>\n",
              "      <td>38.0</td>\n",
              "      <td>132.0</td>\n",
              "      <td>170.0</td>\n",
              "      <td>2.0</td>\n",
              "      <td>0.0</td>\n",
              "      <td>144.0</td>\n",
              "      <td>143.0</td>\n",
              "      <td>145.0</td>\n",
              "      <td>0.0</td>\n",
              "      <td>-1.0</td>\n",
              "      <td>3.0</td>\n",
              "    </tr>\n",
              "    <tr>\n",
              "      <th>4</th>\n",
              "      <td>106.0</td>\n",
              "      <td>0.001</td>\n",
              "      <td>0.000</td>\n",
              "      <td>0.011</td>\n",
              "      <td>0.000</td>\n",
              "      <td>0.0</td>\n",
              "      <td>0.000</td>\n",
              "      <td>63.0</td>\n",
              "      <td>0.6</td>\n",
              "      <td>0.0</td>\n",
              "      <td>11.5</td>\n",
              "      <td>30.0</td>\n",
              "      <td>95.0</td>\n",
              "      <td>125.0</td>\n",
              "      <td>1.0</td>\n",
              "      <td>0.0</td>\n",
              "      <td>112.0</td>\n",
              "      <td>110.0</td>\n",
              "      <td>112.0</td>\n",
              "      <td>1.0</td>\n",
              "      <td>0.0</td>\n",
              "      <td>1.0</td>\n",
              "    </tr>\n",
              "  </tbody>\n",
              "</table>\n",
              "</div>\n",
              "      <button class=\"colab-df-convert\" onclick=\"convertToInteractive('df-71daef5e-a083-4d35-97c6-e75cfede4aef')\"\n",
              "              title=\"Convert this dataframe to an interactive table.\"\n",
              "              style=\"display:none;\">\n",
              "        \n",
              "  <svg xmlns=\"http://www.w3.org/2000/svg\" height=\"24px\"viewBox=\"0 0 24 24\"\n",
              "       width=\"24px\">\n",
              "    <path d=\"M0 0h24v24H0V0z\" fill=\"none\"/>\n",
              "    <path d=\"M18.56 5.44l.94 2.06.94-2.06 2.06-.94-2.06-.94-.94-2.06-.94 2.06-2.06.94zm-11 1L8.5 8.5l.94-2.06 2.06-.94-2.06-.94L8.5 2.5l-.94 2.06-2.06.94zm10 10l.94 2.06.94-2.06 2.06-.94-2.06-.94-.94-2.06-.94 2.06-2.06.94z\"/><path d=\"M17.41 7.96l-1.37-1.37c-.4-.4-.92-.59-1.43-.59-.52 0-1.04.2-1.43.59L10.3 9.45l-7.72 7.72c-.78.78-.78 2.05 0 2.83L4 21.41c.39.39.9.59 1.41.59.51 0 1.02-.2 1.41-.59l7.78-7.78 2.81-2.81c.8-.78.8-2.07 0-2.86zM5.41 20L4 18.59l7.72-7.72 1.47 1.35L5.41 20z\"/>\n",
              "  </svg>\n",
              "      </button>\n",
              "      \n",
              "  <style>\n",
              "    .colab-df-container {\n",
              "      display:flex;\n",
              "      flex-wrap:wrap;\n",
              "      gap: 12px;\n",
              "    }\n",
              "\n",
              "    .colab-df-convert {\n",
              "      background-color: #E8F0FE;\n",
              "      border: none;\n",
              "      border-radius: 50%;\n",
              "      cursor: pointer;\n",
              "      display: none;\n",
              "      fill: #1967D2;\n",
              "      height: 32px;\n",
              "      padding: 0 0 0 0;\n",
              "      width: 32px;\n",
              "    }\n",
              "\n",
              "    .colab-df-convert:hover {\n",
              "      background-color: #E2EBFA;\n",
              "      box-shadow: 0px 1px 2px rgba(60, 64, 67, 0.3), 0px 1px 3px 1px rgba(60, 64, 67, 0.15);\n",
              "      fill: #174EA6;\n",
              "    }\n",
              "\n",
              "    [theme=dark] .colab-df-convert {\n",
              "      background-color: #3B4455;\n",
              "      fill: #D2E3FC;\n",
              "    }\n",
              "\n",
              "    [theme=dark] .colab-df-convert:hover {\n",
              "      background-color: #434B5C;\n",
              "      box-shadow: 0px 1px 3px 1px rgba(0, 0, 0, 0.15);\n",
              "      filter: drop-shadow(0px 1px 2px rgba(0, 0, 0, 0.3));\n",
              "      fill: #FFFFFF;\n",
              "    }\n",
              "  </style>\n",
              "\n",
              "      <script>\n",
              "        const buttonEl =\n",
              "          document.querySelector('#df-71daef5e-a083-4d35-97c6-e75cfede4aef button.colab-df-convert');\n",
              "        buttonEl.style.display =\n",
              "          google.colab.kernel.accessAllowed ? 'block' : 'none';\n",
              "\n",
              "        async function convertToInteractive(key) {\n",
              "          const element = document.querySelector('#df-71daef5e-a083-4d35-97c6-e75cfede4aef');\n",
              "          const dataTable =\n",
              "            await google.colab.kernel.invokeFunction('convertToInteractive',\n",
              "                                                     [key], {});\n",
              "          if (!dataTable) return;\n",
              "\n",
              "          const docLinkHtml = 'Like what you see? Visit the ' +\n",
              "            '<a target=\"_blank\" href=https://colab.research.google.com/notebooks/data_table.ipynb>data table notebook</a>'\n",
              "            + ' to learn more about interactive tables.';\n",
              "          element.innerHTML = '';\n",
              "          dataTable['output_type'] = 'display_data';\n",
              "          await google.colab.output.renderOutput(dataTable, element);\n",
              "          const docLink = document.createElement('div');\n",
              "          docLink.innerHTML = docLinkHtml;\n",
              "          element.appendChild(docLink);\n",
              "        }\n",
              "      </script>\n",
              "    </div>\n",
              "  </div>\n",
              "  "
            ]
          },
          "metadata": {},
          "execution_count": 7
        }
      ]
    },
    {
      "cell_type": "code",
      "source": [
        "train['fetal_health'] = train['fetal_health'].astype('int8')"
      ],
      "metadata": {
        "id": "nK-9EPHxKADe"
      },
      "execution_count": 8,
      "outputs": []
    },
    {
      "cell_type": "code",
      "source": [
        "def fix_datatypes(df):\n",
        "\n",
        "    df['baseline value'] = df['baseline value'].astype('int16')\n",
        "    df['accelerations'] = df['accelerations'].apply(lambda x: x * 1000).astype('int8')\n",
        "    df['fetal_movement'] = df['fetal_movement'].apply(lambda x: x * 1000).astype('int8')\n",
        "    df['uterine_contractions'] = df['uterine_contractions'].apply(lambda x: x * 1000).astype('int8')\n",
        "    df['light_decelerations'] = df['light_decelerations'].apply(lambda x: x * 1000).astype('int8')\n",
        "    df['severe_decelerations'] = df['severe_decelerations'].apply(lambda x: x * 1000).astype('int8')\n",
        "    df['prolongued_decelerations'] = df['prolongued_decelerations'].apply(lambda x: x * 1000).astype('int8')\n",
        "    df['abnormal_short_term_variability'] = df['abnormal_short_term_variability'].astype('int8')\n",
        "    df['percentage_of_time_with_abnormal_long_term_variability'] = df['percentage_of_time_with_abnormal_long_term_variability'].astype('int8')\n",
        "    df['histogram_width'] = df['histogram_width'].astype('int16')\n",
        "    df['histogram_min'] = df['histogram_min'].astype('int16')\n",
        "    df['histogram_width'] = df['histogram_width'].astype('int16')\n",
        "    df['histogram_max'] = df['histogram_max'].astype('int16')\n",
        "    df['histogram_number_of_peaks'] = df['histogram_number_of_peaks'].astype('int8')\n",
        "    df['histogram_number_of_zeroes'] = df['histogram_number_of_zeroes'].astype('int8')\n",
        "    df['histogram_mode'] = df['histogram_mode'].astype('int16')\n",
        "    df['histogram_mean'] = df['histogram_mean'].astype('int16')\n",
        "    df['histogram_median'] = df['histogram_median'].astype('int16')\n",
        "    df['histogram_variance'] = df['histogram_variance'].astype('int16')\n",
        "    df['histogram_tendency'] = df['histogram_tendency'].astype('int8')\n",
        "\n",
        "    return df"
      ],
      "metadata": {
        "id": "r2t-WrDBG_6p"
      },
      "execution_count": 9,
      "outputs": []
    },
    {
      "cell_type": "code",
      "source": [
        "train = fix_datatypes(train)\n",
        "test = fix_datatypes(test)\n",
        "\n",
        "gc.collect()"
      ],
      "metadata": {
        "colab": {
          "base_uri": "https://localhost:8080/"
        },
        "id": "FXCmMPJVQ8_9",
        "outputId": "6502f514-c5ee-4f06-fc36-5ef8dfc1dc5b"
      },
      "execution_count": 10,
      "outputs": [
        {
          "output_type": "execute_result",
          "data": {
            "text/plain": [
              "50"
            ]
          },
          "metadata": {},
          "execution_count": 10
        }
      ]
    },
    {
      "cell_type": "code",
      "source": [
        "train.head()"
      ],
      "metadata": {
        "colab": {
          "base_uri": "https://localhost:8080/",
          "height": 288
        },
        "id": "DdoJYP9ZmXiY",
        "outputId": "3448be5f-ae03-42ea-fdd8-5b3a7821f055"
      },
      "execution_count": 11,
      "outputs": [
        {
          "output_type": "execute_result",
          "data": {
            "text/plain": [
              "   baseline value  accelerations  fetal_movement  uterine_contractions  \\\n",
              "0             133              3               0                     4   \n",
              "1             130              1               1                    12   \n",
              "2             141              0               8                     0   \n",
              "3             144              0               2                     2   \n",
              "4             106              1               0                    11   \n",
              "\n",
              "   light_decelerations  severe_decelerations  prolongued_decelerations  \\\n",
              "0                    4                     0                         0   \n",
              "1                   10                     0                         1   \n",
              "2                    0                     0                         0   \n",
              "3                    0                     0                         0   \n",
              "4                    0                     0                         0   \n",
              "\n",
              "   abnormal_short_term_variability  mean_value_of_short_term_variability  \\\n",
              "0                               30                                   1.5   \n",
              "1                               62                                   2.2   \n",
              "2                               75                                   0.3   \n",
              "3                               84                                   0.3   \n",
              "4                               63                                   0.6   \n",
              "\n",
              "   percentage_of_time_with_abnormal_long_term_variability  \\\n",
              "0                                                  0        \n",
              "1                                                  0        \n",
              "2                                                 49        \n",
              "3                                                 34        \n",
              "4                                                  0        \n",
              "\n",
              "   mean_value_of_long_term_variability  histogram_width  histogram_min  \\\n",
              "0                                  5.3              102             67   \n",
              "1                                  0.0              161             50   \n",
              "2                                  4.6                9            136   \n",
              "3                                  5.5               38            132   \n",
              "4                                 11.5               30             95   \n",
              "\n",
              "   histogram_max  histogram_number_of_peaks  histogram_number_of_zeroes  \\\n",
              "0            169                          9                           1   \n",
              "1            211                          9                           0   \n",
              "2            145                          1                           0   \n",
              "3            170                          2                           0   \n",
              "4            125                          1                           0   \n",
              "\n",
              "   histogram_mode  histogram_mean  histogram_median  histogram_variance  \\\n",
              "0             147             137               144                  40   \n",
              "1              60              89               113                 250   \n",
              "2             143             141               143                   0   \n",
              "3             144             143               145                   0   \n",
              "4             112             110               112                   1   \n",
              "\n",
              "   histogram_tendency  fetal_health  \n",
              "0                   1             1  \n",
              "1                   0             3  \n",
              "2                   1             2  \n",
              "3                  -1             3  \n",
              "4                   0             1  "
            ],
            "text/html": [
              "\n",
              "  <div id=\"df-9642ffa8-b036-4f52-89b4-cdc093a27b3d\">\n",
              "    <div class=\"colab-df-container\">\n",
              "      <div>\n",
              "<style scoped>\n",
              "    .dataframe tbody tr th:only-of-type {\n",
              "        vertical-align: middle;\n",
              "    }\n",
              "\n",
              "    .dataframe tbody tr th {\n",
              "        vertical-align: top;\n",
              "    }\n",
              "\n",
              "    .dataframe thead th {\n",
              "        text-align: right;\n",
              "    }\n",
              "</style>\n",
              "<table border=\"1\" class=\"dataframe\">\n",
              "  <thead>\n",
              "    <tr style=\"text-align: right;\">\n",
              "      <th></th>\n",
              "      <th>baseline value</th>\n",
              "      <th>accelerations</th>\n",
              "      <th>fetal_movement</th>\n",
              "      <th>uterine_contractions</th>\n",
              "      <th>light_decelerations</th>\n",
              "      <th>severe_decelerations</th>\n",
              "      <th>prolongued_decelerations</th>\n",
              "      <th>abnormal_short_term_variability</th>\n",
              "      <th>mean_value_of_short_term_variability</th>\n",
              "      <th>percentage_of_time_with_abnormal_long_term_variability</th>\n",
              "      <th>mean_value_of_long_term_variability</th>\n",
              "      <th>histogram_width</th>\n",
              "      <th>histogram_min</th>\n",
              "      <th>histogram_max</th>\n",
              "      <th>histogram_number_of_peaks</th>\n",
              "      <th>histogram_number_of_zeroes</th>\n",
              "      <th>histogram_mode</th>\n",
              "      <th>histogram_mean</th>\n",
              "      <th>histogram_median</th>\n",
              "      <th>histogram_variance</th>\n",
              "      <th>histogram_tendency</th>\n",
              "      <th>fetal_health</th>\n",
              "    </tr>\n",
              "  </thead>\n",
              "  <tbody>\n",
              "    <tr>\n",
              "      <th>0</th>\n",
              "      <td>133</td>\n",
              "      <td>3</td>\n",
              "      <td>0</td>\n",
              "      <td>4</td>\n",
              "      <td>4</td>\n",
              "      <td>0</td>\n",
              "      <td>0</td>\n",
              "      <td>30</td>\n",
              "      <td>1.5</td>\n",
              "      <td>0</td>\n",
              "      <td>5.3</td>\n",
              "      <td>102</td>\n",
              "      <td>67</td>\n",
              "      <td>169</td>\n",
              "      <td>9</td>\n",
              "      <td>1</td>\n",
              "      <td>147</td>\n",
              "      <td>137</td>\n",
              "      <td>144</td>\n",
              "      <td>40</td>\n",
              "      <td>1</td>\n",
              "      <td>1</td>\n",
              "    </tr>\n",
              "    <tr>\n",
              "      <th>1</th>\n",
              "      <td>130</td>\n",
              "      <td>1</td>\n",
              "      <td>1</td>\n",
              "      <td>12</td>\n",
              "      <td>10</td>\n",
              "      <td>0</td>\n",
              "      <td>1</td>\n",
              "      <td>62</td>\n",
              "      <td>2.2</td>\n",
              "      <td>0</td>\n",
              "      <td>0.0</td>\n",
              "      <td>161</td>\n",
              "      <td>50</td>\n",
              "      <td>211</td>\n",
              "      <td>9</td>\n",
              "      <td>0</td>\n",
              "      <td>60</td>\n",
              "      <td>89</td>\n",
              "      <td>113</td>\n",
              "      <td>250</td>\n",
              "      <td>0</td>\n",
              "      <td>3</td>\n",
              "    </tr>\n",
              "    <tr>\n",
              "      <th>2</th>\n",
              "      <td>141</td>\n",
              "      <td>0</td>\n",
              "      <td>8</td>\n",
              "      <td>0</td>\n",
              "      <td>0</td>\n",
              "      <td>0</td>\n",
              "      <td>0</td>\n",
              "      <td>75</td>\n",
              "      <td>0.3</td>\n",
              "      <td>49</td>\n",
              "      <td>4.6</td>\n",
              "      <td>9</td>\n",
              "      <td>136</td>\n",
              "      <td>145</td>\n",
              "      <td>1</td>\n",
              "      <td>0</td>\n",
              "      <td>143</td>\n",
              "      <td>141</td>\n",
              "      <td>143</td>\n",
              "      <td>0</td>\n",
              "      <td>1</td>\n",
              "      <td>2</td>\n",
              "    </tr>\n",
              "    <tr>\n",
              "      <th>3</th>\n",
              "      <td>144</td>\n",
              "      <td>0</td>\n",
              "      <td>2</td>\n",
              "      <td>2</td>\n",
              "      <td>0</td>\n",
              "      <td>0</td>\n",
              "      <td>0</td>\n",
              "      <td>84</td>\n",
              "      <td>0.3</td>\n",
              "      <td>34</td>\n",
              "      <td>5.5</td>\n",
              "      <td>38</td>\n",
              "      <td>132</td>\n",
              "      <td>170</td>\n",
              "      <td>2</td>\n",
              "      <td>0</td>\n",
              "      <td>144</td>\n",
              "      <td>143</td>\n",
              "      <td>145</td>\n",
              "      <td>0</td>\n",
              "      <td>-1</td>\n",
              "      <td>3</td>\n",
              "    </tr>\n",
              "    <tr>\n",
              "      <th>4</th>\n",
              "      <td>106</td>\n",
              "      <td>1</td>\n",
              "      <td>0</td>\n",
              "      <td>11</td>\n",
              "      <td>0</td>\n",
              "      <td>0</td>\n",
              "      <td>0</td>\n",
              "      <td>63</td>\n",
              "      <td>0.6</td>\n",
              "      <td>0</td>\n",
              "      <td>11.5</td>\n",
              "      <td>30</td>\n",
              "      <td>95</td>\n",
              "      <td>125</td>\n",
              "      <td>1</td>\n",
              "      <td>0</td>\n",
              "      <td>112</td>\n",
              "      <td>110</td>\n",
              "      <td>112</td>\n",
              "      <td>1</td>\n",
              "      <td>0</td>\n",
              "      <td>1</td>\n",
              "    </tr>\n",
              "  </tbody>\n",
              "</table>\n",
              "</div>\n",
              "      <button class=\"colab-df-convert\" onclick=\"convertToInteractive('df-9642ffa8-b036-4f52-89b4-cdc093a27b3d')\"\n",
              "              title=\"Convert this dataframe to an interactive table.\"\n",
              "              style=\"display:none;\">\n",
              "        \n",
              "  <svg xmlns=\"http://www.w3.org/2000/svg\" height=\"24px\"viewBox=\"0 0 24 24\"\n",
              "       width=\"24px\">\n",
              "    <path d=\"M0 0h24v24H0V0z\" fill=\"none\"/>\n",
              "    <path d=\"M18.56 5.44l.94 2.06.94-2.06 2.06-.94-2.06-.94-.94-2.06-.94 2.06-2.06.94zm-11 1L8.5 8.5l.94-2.06 2.06-.94-2.06-.94L8.5 2.5l-.94 2.06-2.06.94zm10 10l.94 2.06.94-2.06 2.06-.94-2.06-.94-.94-2.06-.94 2.06-2.06.94z\"/><path d=\"M17.41 7.96l-1.37-1.37c-.4-.4-.92-.59-1.43-.59-.52 0-1.04.2-1.43.59L10.3 9.45l-7.72 7.72c-.78.78-.78 2.05 0 2.83L4 21.41c.39.39.9.59 1.41.59.51 0 1.02-.2 1.41-.59l7.78-7.78 2.81-2.81c.8-.78.8-2.07 0-2.86zM5.41 20L4 18.59l7.72-7.72 1.47 1.35L5.41 20z\"/>\n",
              "  </svg>\n",
              "      </button>\n",
              "      \n",
              "  <style>\n",
              "    .colab-df-container {\n",
              "      display:flex;\n",
              "      flex-wrap:wrap;\n",
              "      gap: 12px;\n",
              "    }\n",
              "\n",
              "    .colab-df-convert {\n",
              "      background-color: #E8F0FE;\n",
              "      border: none;\n",
              "      border-radius: 50%;\n",
              "      cursor: pointer;\n",
              "      display: none;\n",
              "      fill: #1967D2;\n",
              "      height: 32px;\n",
              "      padding: 0 0 0 0;\n",
              "      width: 32px;\n",
              "    }\n",
              "\n",
              "    .colab-df-convert:hover {\n",
              "      background-color: #E2EBFA;\n",
              "      box-shadow: 0px 1px 2px rgba(60, 64, 67, 0.3), 0px 1px 3px 1px rgba(60, 64, 67, 0.15);\n",
              "      fill: #174EA6;\n",
              "    }\n",
              "\n",
              "    [theme=dark] .colab-df-convert {\n",
              "      background-color: #3B4455;\n",
              "      fill: #D2E3FC;\n",
              "    }\n",
              "\n",
              "    [theme=dark] .colab-df-convert:hover {\n",
              "      background-color: #434B5C;\n",
              "      box-shadow: 0px 1px 3px 1px rgba(0, 0, 0, 0.15);\n",
              "      filter: drop-shadow(0px 1px 2px rgba(0, 0, 0, 0.3));\n",
              "      fill: #FFFFFF;\n",
              "    }\n",
              "  </style>\n",
              "\n",
              "      <script>\n",
              "        const buttonEl =\n",
              "          document.querySelector('#df-9642ffa8-b036-4f52-89b4-cdc093a27b3d button.colab-df-convert');\n",
              "        buttonEl.style.display =\n",
              "          google.colab.kernel.accessAllowed ? 'block' : 'none';\n",
              "\n",
              "        async function convertToInteractive(key) {\n",
              "          const element = document.querySelector('#df-9642ffa8-b036-4f52-89b4-cdc093a27b3d');\n",
              "          const dataTable =\n",
              "            await google.colab.kernel.invokeFunction('convertToInteractive',\n",
              "                                                     [key], {});\n",
              "          if (!dataTable) return;\n",
              "\n",
              "          const docLinkHtml = 'Like what you see? Visit the ' +\n",
              "            '<a target=\"_blank\" href=https://colab.research.google.com/notebooks/data_table.ipynb>data table notebook</a>'\n",
              "            + ' to learn more about interactive tables.';\n",
              "          element.innerHTML = '';\n",
              "          dataTable['output_type'] = 'display_data';\n",
              "          await google.colab.output.renderOutput(dataTable, element);\n",
              "          const docLink = document.createElement('div');\n",
              "          docLink.innerHTML = docLinkHtml;\n",
              "          element.appendChild(docLink);\n",
              "        }\n",
              "      </script>\n",
              "    </div>\n",
              "  </div>\n",
              "  "
            ]
          },
          "metadata": {},
          "execution_count": 11
        }
      ]
    },
    {
      "cell_type": "markdown",
      "source": [
        "# Feature Engineering"
      ],
      "metadata": {
        "id": "n16cPRxIDyqt"
      }
    },
    {
      "cell_type": "code",
      "source": [
        "def transform_features(df):\n",
        "\n",
        "    df['accelerations_cat'] = df['accelerations'].apply(lambda x: int(x > 5))\n",
        "    df['fetal_movement_cat'] = df['fetal_movement'].apply(lambda x: int(x > 0))\n",
        "    df['uterine_contractions_cat'] = df['uterine_contractions'].apply(lambda x: int(x > 0))\n",
        "    df['decelerations'] = df['light_decelerations'] + df['severe_decelerations'] + df['prolongued_decelerations']\n",
        "    df['abnormal_long_term_variability_cat'] = df['percentage_of_time_with_abnormal_long_term_variability'].apply(lambda x: int(x > 0))\n",
        "\n",
        "    return df\n"
      ],
      "metadata": {
        "id": "_VEU6299GqIh"
      },
      "execution_count": 12,
      "outputs": []
    },
    {
      "cell_type": "code",
      "source": [
        "train_ext = transform_features(train.copy())\n",
        "test_ext = transform_features(test.copy())\n",
        "\n",
        "gc.collect()"
      ],
      "metadata": {
        "colab": {
          "base_uri": "https://localhost:8080/"
        },
        "id": "hMtsZ6Ofr0mh",
        "outputId": "d407b503-3eeb-4332-d382-49b36fb9487c"
      },
      "execution_count": 13,
      "outputs": [
        {
          "output_type": "execute_result",
          "data": {
            "text/plain": [
              "50"
            ]
          },
          "metadata": {},
          "execution_count": 13
        }
      ]
    },
    {
      "cell_type": "markdown",
      "source": [
        "### Feature sets"
      ],
      "metadata": {
        "id": "C_pNTrmOrnyi"
      }
    },
    {
      "cell_type": "code",
      "source": [
        "extended_features = test.columns.to_list()"
      ],
      "metadata": {
        "id": "lxymrhy3rlai"
      },
      "execution_count": 14,
      "outputs": []
    },
    {
      "cell_type": "code",
      "source": [
        "cat_features = ['severe_decelerations', 'accelerations_cat', 'fetal_movement_cat',\n",
        "                'uterine_contractions_cat', 'decelerations', 'abnormal_long_term_variability_cat']"
      ],
      "metadata": {
        "id": "rotvDQrMrxiT"
      },
      "execution_count": 15,
      "outputs": []
    },
    {
      "cell_type": "code",
      "source": [
        "hist_features = ['histogram_width', 'histogram_min', 'histogram_max', \n",
        "                 'histogram_number_of_peaks', 'histogram_number_of_zeroes', \n",
        "                 'histogram_mode', 'histogram_mean', 'histogram_median', \n",
        "                 'histogram_variance', 'histogram_tendency']\n",
        "\n",
        "non_hist_features = [f for f in extended_features if f not in hist_features]"
      ],
      "metadata": {
        "id": "MohwRLxHryYX"
      },
      "execution_count": 16,
      "outputs": []
    },
    {
      "cell_type": "markdown",
      "source": [
        "# Processed datasets"
      ],
      "metadata": {
        "id": "ROI1A_8_LaUz"
      }
    },
    {
      "cell_type": "markdown",
      "source": [
        "Cleaned dataset"
      ],
      "metadata": {
        "id": "J0q2-iQJL3KM"
      }
    },
    {
      "cell_type": "code",
      "source": [
        "train.to_csv('train_proc.csv', index=False)\n",
        "test.to_csv('test_proc.csv', index=False)"
      ],
      "metadata": {
        "id": "qFfe9a1fLgdj"
      },
      "execution_count": 17,
      "outputs": []
    },
    {
      "cell_type": "code",
      "source": [
        "!head train_proc.csv"
      ],
      "metadata": {
        "colab": {
          "base_uri": "https://localhost:8080/"
        },
        "id": "dM0UmJYRMCBU",
        "outputId": "ef2748c1-0776-47a5-a0cc-98ff86e24361"
      },
      "execution_count": 18,
      "outputs": [
        {
          "output_type": "stream",
          "name": "stdout",
          "text": [
            "baseline value,accelerations,fetal_movement,uterine_contractions,light_decelerations,severe_decelerations,prolongued_decelerations,abnormal_short_term_variability,mean_value_of_short_term_variability,percentage_of_time_with_abnormal_long_term_variability,mean_value_of_long_term_variability,histogram_width,histogram_min,histogram_max,histogram_number_of_peaks,histogram_number_of_zeroes,histogram_mode,histogram_mean,histogram_median,histogram_variance,histogram_tendency,fetal_health\n",
            "133,3,0,4,4,0,0,30,1.5,0,5.3,102,67,169,9,1,147,137,144,40,1,1\n",
            "130,1,1,12,10,0,1,62,2.2,0,0.0,161,50,211,9,0,60,89,113,250,0,3\n",
            "141,0,8,0,0,0,0,75,0.3,49,4.6,9,136,145,1,0,143,141,143,0,1,2\n",
            "144,0,2,2,0,0,0,84,0.3,34,5.5,38,132,170,2,0,144,143,145,0,-1,3\n",
            "106,1,0,11,0,0,0,63,0.6,0,11.5,30,95,125,1,0,112,110,112,1,0,1\n",
            "135,6,0,6,5,0,0,27,1.5,0,5.8,96,69,165,5,2,143,139,142,17,1,1\n",
            "127,0,0,7,6,0,0,20,2.2,0,19.3,78,81,159,4,0,131,122,124,23,0,1\n",
            "110,3,0,3,1,0,0,64,1.6,0,6.8,116,62,178,12,1,107,105,108,37,0,1\n",
            "140,0,22,0,0,0,0,78,0.2,86,3.4,8,136,144,1,0,141,140,141,0,0,3\n"
          ]
        }
      ]
    },
    {
      "cell_type": "code",
      "source": [
        "!head test_proc.csv"
      ],
      "metadata": {
        "colab": {
          "base_uri": "https://localhost:8080/"
        },
        "id": "aBafxCptME0f",
        "outputId": "50df21d0-454e-4bcb-8788-42d5cafef5af"
      },
      "execution_count": 19,
      "outputs": [
        {
          "output_type": "stream",
          "name": "stdout",
          "text": [
            "baseline value,accelerations,fetal_movement,uterine_contractions,light_decelerations,severe_decelerations,prolongued_decelerations,abnormal_short_term_variability,mean_value_of_short_term_variability,percentage_of_time_with_abnormal_long_term_variability,mean_value_of_long_term_variability,histogram_width,histogram_min,histogram_max,histogram_number_of_peaks,histogram_number_of_zeroes,histogram_mode,histogram_mean,histogram_median,histogram_variance,histogram_tendency\n",
            "134,0,0,4,7,0,0,37,1.1,22,2.9,93,50,143,5,0,138,129,136,31,1\n",
            "143,0,17,0,0,0,0,70,0.3,50,5.1,13,142,155,1,0,147,146,148,0,0\n",
            "144,10,0,6,0,0,0,33,1.1,0,5.3,54,120,174,1,0,155,154,155,5,0\n",
            "137,0,1,6,3,0,0,59,1.8,0,6.5,102,64,166,5,2,142,134,140,14,1\n",
            "134,0,0,9,6,0,2,64,1.5,0,3.8,70,83,153,5,0,137,119,124,50,1\n",
            "122,2,0,3,0,0,0,21,1.8,0,16.3,44,108,152,1,0,125,127,127,5,0\n",
            "140,6,0,8,0,0,0,38,5.4,0,34.7,149,50,199,8,1,148,148,151,43,1\n",
            "139,10,1,8,4,0,0,50,1.4,0,15.0,102,76,178,10,0,162,144,149,57,1\n",
            "141,1,0,5,0,0,0,25,1.5,0,13.4,103,74,177,10,0,142,143,144,4,1\n"
          ]
        }
      ]
    },
    {
      "cell_type": "markdown",
      "source": [
        "Extended dataset"
      ],
      "metadata": {
        "id": "JFGUTzFqL0ad"
      }
    },
    {
      "cell_type": "code",
      "source": [
        "train_ext.to_csv('train_ext.csv', index=False)\n",
        "test_ext.to_csv('test_ext.csv', index=False)"
      ],
      "metadata": {
        "id": "dwfQ3Zo9L5WM"
      },
      "execution_count": 20,
      "outputs": []
    },
    {
      "cell_type": "code",
      "source": [
        "!head train_ext.csv"
      ],
      "metadata": {
        "colab": {
          "base_uri": "https://localhost:8080/"
        },
        "id": "v-extg_PMG_H",
        "outputId": "106d5f16-a8c2-46c6-af1b-01485d2824f0"
      },
      "execution_count": 21,
      "outputs": [
        {
          "output_type": "stream",
          "name": "stdout",
          "text": [
            "baseline value,accelerations,fetal_movement,uterine_contractions,light_decelerations,severe_decelerations,prolongued_decelerations,abnormal_short_term_variability,mean_value_of_short_term_variability,percentage_of_time_with_abnormal_long_term_variability,mean_value_of_long_term_variability,histogram_width,histogram_min,histogram_max,histogram_number_of_peaks,histogram_number_of_zeroes,histogram_mode,histogram_mean,histogram_median,histogram_variance,histogram_tendency,fetal_health,accelerations_cat,fetal_movement_cat,uterine_contractions_cat,decelerations,abnormal_long_term_variability_cat\n",
            "133,3,0,4,4,0,0,30,1.5,0,5.3,102,67,169,9,1,147,137,144,40,1,1,0,0,1,4,0\n",
            "130,1,1,12,10,0,1,62,2.2,0,0.0,161,50,211,9,0,60,89,113,250,0,3,0,1,1,11,0\n",
            "141,0,8,0,0,0,0,75,0.3,49,4.6,9,136,145,1,0,143,141,143,0,1,2,0,1,0,0,1\n",
            "144,0,2,2,0,0,0,84,0.3,34,5.5,38,132,170,2,0,144,143,145,0,-1,3,0,1,1,0,1\n",
            "106,1,0,11,0,0,0,63,0.6,0,11.5,30,95,125,1,0,112,110,112,1,0,1,0,0,1,0,0\n",
            "135,6,0,6,5,0,0,27,1.5,0,5.8,96,69,165,5,2,143,139,142,17,1,1,1,0,1,5,0\n",
            "127,0,0,7,6,0,0,20,2.2,0,19.3,78,81,159,4,0,131,122,124,23,0,1,0,0,1,6,0\n",
            "110,3,0,3,1,0,0,64,1.6,0,6.8,116,62,178,12,1,107,105,108,37,0,1,0,0,1,1,0\n",
            "140,0,22,0,0,0,0,78,0.2,86,3.4,8,136,144,1,0,141,140,141,0,0,3,0,1,0,0,1\n"
          ]
        }
      ]
    },
    {
      "cell_type": "code",
      "source": [
        "!head test_ext.csv"
      ],
      "metadata": {
        "colab": {
          "base_uri": "https://localhost:8080/"
        },
        "id": "j4B46yvoMJff",
        "outputId": "9b1933eb-f49e-4166-9b53-6a252c4e5420"
      },
      "execution_count": 22,
      "outputs": [
        {
          "output_type": "stream",
          "name": "stdout",
          "text": [
            "baseline value,accelerations,fetal_movement,uterine_contractions,light_decelerations,severe_decelerations,prolongued_decelerations,abnormal_short_term_variability,mean_value_of_short_term_variability,percentage_of_time_with_abnormal_long_term_variability,mean_value_of_long_term_variability,histogram_width,histogram_min,histogram_max,histogram_number_of_peaks,histogram_number_of_zeroes,histogram_mode,histogram_mean,histogram_median,histogram_variance,histogram_tendency,accelerations_cat,fetal_movement_cat,uterine_contractions_cat,decelerations,abnormal_long_term_variability_cat\n",
            "134,0,0,4,7,0,0,37,1.1,22,2.9,93,50,143,5,0,138,129,136,31,1,0,0,1,7,1\n",
            "143,0,17,0,0,0,0,70,0.3,50,5.1,13,142,155,1,0,147,146,148,0,0,0,1,0,0,1\n",
            "144,10,0,6,0,0,0,33,1.1,0,5.3,54,120,174,1,0,155,154,155,5,0,1,0,1,0,0\n",
            "137,0,1,6,3,0,0,59,1.8,0,6.5,102,64,166,5,2,142,134,140,14,1,0,1,1,3,0\n",
            "134,0,0,9,6,0,2,64,1.5,0,3.8,70,83,153,5,0,137,119,124,50,1,0,0,1,8,0\n",
            "122,2,0,3,0,0,0,21,1.8,0,16.3,44,108,152,1,0,125,127,127,5,0,0,0,1,0,0\n",
            "140,6,0,8,0,0,0,38,5.4,0,34.7,149,50,199,8,1,148,148,151,43,1,1,0,1,0,0\n",
            "139,10,1,8,4,0,0,50,1.4,0,15.0,102,76,178,10,0,162,144,149,57,1,1,1,1,4,0\n",
            "141,1,0,5,0,0,0,25,1.5,0,13.4,103,74,177,10,0,142,143,144,4,1,0,0,1,0,0\n"
          ]
        }
      ]
    }
  ]
}