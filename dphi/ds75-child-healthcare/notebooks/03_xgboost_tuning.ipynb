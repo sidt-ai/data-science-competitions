{
  "nbformat": 4,
  "nbformat_minor": 0,
  "metadata": {
    "colab": {
      "name": "03-xgboost-tuning",
      "provenance": [],
      "mount_file_id": "1PYvIgM_vBsKuyBB9EWz2jIgK9tC1QC-D",
      "authorship_tag": "ABX9TyMFjIUnPZq95MNwwr+uW2Qz",
      "include_colab_link": true
    },
    "kernelspec": {
      "name": "python3",
      "display_name": "Python 3"
    },
    "language_info": {
      "name": "python"
    },
    "accelerator": "GPU"
  },
  "cells": [
    {
      "cell_type": "markdown",
      "metadata": {
        "id": "view-in-github",
        "colab_type": "text"
      },
      "source": [
        "<a href=\"https://colab.research.google.com/github/sidt-ai/data-science-competitions/blob/main/dphi/ds75-child-healthcare/notebooks/03_xgboost_tuning.ipynb\" target=\"_parent\"><img src=\"https://colab.research.google.com/assets/colab-badge.svg\" alt=\"Open In Colab\"/></a>"
      ]
    },
    {
      "cell_type": "markdown",
      "source": [
        "# Setup"
      ],
      "metadata": {
        "id": "z0BeyhcY-bzl"
      }
    },
    {
      "cell_type": "code",
      "execution_count": 29,
      "metadata": {
        "id": "gBRQILlTWezt"
      },
      "outputs": [],
      "source": [
        "import os\n",
        "import gc\n",
        "import time\n",
        "import warnings\n",
        "import subprocess\n",
        "\n",
        "gc.enable()\n",
        "warnings.filterwarnings('ignore')"
      ]
    },
    {
      "cell_type": "code",
      "source": [
        "# %%capture\n",
        "# !pip install xgboost==1.6.1\n",
        "# !pip install optuna==2.10.0"
      ],
      "metadata": {
        "id": "GcJasgKjWxXC"
      },
      "execution_count": 30,
      "outputs": []
    },
    {
      "cell_type": "code",
      "source": [
        "import numpy as np\n",
        "from scipy.stats import mode\n",
        "import pandas as pd\n",
        "pd.set_option('precision', 4)\n",
        "pd.set_option('display.max_columns', None)\n",
        "\n",
        "import xgboost as xgb\n",
        "import optuna\n",
        "from optuna.samplers import TPESampler\n",
        "from optuna.integration import XGBoostPruningCallback\n",
        "\n",
        "from sklearn.model_selection import StratifiedKFold, train_test_split\n",
        "from sklearn.metrics import roc_auc_score, f1_score"
      ],
      "metadata": {
        "id": "n49N1LP4W0Dg"
      },
      "execution_count": 31,
      "outputs": []
    },
    {
      "cell_type": "code",
      "source": [
        "xgb.__version__, optuna.__version__"
      ],
      "metadata": {
        "colab": {
          "base_uri": "https://localhost:8080/"
        },
        "id": "jeluYwSLUyKW",
        "outputId": "f43dece9-2871-4081-e39b-2f6db958fcc1"
      },
      "execution_count": 32,
      "outputs": [
        {
          "output_type": "execute_result",
          "data": {
            "text/plain": [
              "('1.6.1', '2.10.0')"
            ]
          },
          "metadata": {},
          "execution_count": 32
        }
      ]
    },
    {
      "cell_type": "code",
      "source": [
        "SEED = 2311\n",
        "\n",
        "os.environ['PYTHONHASHSEED'] = str(SEED)\n",
        "np.random.seed(SEED)"
      ],
      "metadata": {
        "id": "dpeuuz1_UzJL"
      },
      "execution_count": 33,
      "outputs": []
    },
    {
      "cell_type": "code",
      "source": [
        "#Check GPU availability\n",
        "try:\n",
        "    subprocess.check_output('nvidia-smi')\n",
        "    GPU = True\n",
        "except Exception:\n",
        "    GPU = False\n",
        "\n",
        "print(f'GPU available: {GPU}')"
      ],
      "metadata": {
        "colab": {
          "base_uri": "https://localhost:8080/"
        },
        "id": "Kvtb-1FvU1xE",
        "outputId": "6796ad51-c37b-4d65-fd28-9dc410b893ce"
      },
      "execution_count": 34,
      "outputs": [
        {
          "output_type": "stream",
          "name": "stdout",
          "text": [
            "GPU available: True\n"
          ]
        }
      ]
    },
    {
      "cell_type": "markdown",
      "source": [
        "# Data preprocessing"
      ],
      "metadata": {
        "id": "ZAoBaQdPU-hL"
      }
    },
    {
      "cell_type": "code",
      "source": [
        "train_proc_url = 'https://raw.githubusercontent.com/sidt-ai/data-science-competitions/main/dphi/ds75-child-healthcare/data/processed/train_proc.csv'\n",
        "test_proc_url = 'https://raw.githubusercontent.com/sidt-ai/data-science-competitions/main/dphi/ds75-child-healthcare/data/processed/test_proc.csv'\n",
        "\n",
        "train_ext_url = 'https://raw.githubusercontent.com/sidt-ai/data-science-competitions/main/dphi/ds75-child-healthcare/data/processed/train_ext.csv'\n",
        "test_ext_url = 'https://raw.githubusercontent.com/sidt-ai/data-science-competitions/main/dphi/ds75-child-healthcare/data/processed/test_ext.csv'"
      ],
      "metadata": {
        "id": "yCCihhRU5NxZ"
      },
      "execution_count": 35,
      "outputs": []
    },
    {
      "cell_type": "code",
      "source": [
        "# train_proc = pd.read_csv(train_proc_url)\n",
        "test_proc = pd.read_csv(test_proc_url)\n",
        "\n",
        "train = pd.read_csv(train_ext_url)\n",
        "test = pd.read_csv(test_ext_url)"
      ],
      "metadata": {
        "id": "GI-tIhM59diG"
      },
      "execution_count": 36,
      "outputs": []
    },
    {
      "cell_type": "markdown",
      "source": [
        "### Feature sets from previous notebooks:  \n",
        "1. [EDA and baseline](https://github.com/sidt-ai/data-science-competitions/blob/main/dphi/ds75-child-healthcare/notebooks/01_eda_baseline.ipynb)\n",
        "2. [Data preprocessing](https://github.com/sidt-ai/data-science-competitions/blob/main/dphi/ds75-child-healthcare/notebooks/02_data_preprocessing.ipynb)"
      ],
      "metadata": {
        "id": "appQ47TA2hp1"
      }
    },
    {
      "cell_type": "code",
      "source": [
        "TARGET = 'fetal_health'\n",
        "\n",
        "original_features = test_proc.columns.to_list()\n",
        "\n",
        "extended_features = test.columns.to_list()\n",
        "\n",
        "cat_features = ['severe_decelerations', 'accelerations_cat', 'fetal_movement_cat',\n",
        "                'uterine_contractions_cat', 'decelerations', 'abnormal_long_term_variability_cat']\n",
        "\n",
        "hist_features = ['histogram_width', 'histogram_min', 'histogram_max', \n",
        "                 'histogram_number_of_peaks', 'histogram_number_of_zeroes', \n",
        "                 'histogram_mode', 'histogram_mean', 'histogram_median', \n",
        "                 'histogram_variance', 'histogram_tendency']\n",
        "\n",
        "non_hist_features = [f for f in extended_features if f not in hist_features]\n",
        "\n",
        "imbalanced_features = ['fetal_movement', 'light_decelerations', \n",
        "                       'severe_decelerations', 'histogram_variance',\n",
        "                       'prolongued_decelerations', 'histogram_number_of_zeroes',\n",
        "                       'percentage_of_time_with_abnormal_long_term_variability']\n",
        "\n",
        "rejected_features = ['histogram_max', 'histogram_number_of_zeroes']"
      ],
      "metadata": {
        "id": "nTmBC1bpVXGY"
      },
      "execution_count": 37,
      "outputs": []
    },
    {
      "cell_type": "code",
      "source": [
        "train[cat_features] = train[cat_features].astype('category')\n",
        "test[cat_features] = test[cat_features].astype('category')"
      ],
      "metadata": {
        "id": "VJxsuCaIx66W"
      },
      "execution_count": 38,
      "outputs": []
    },
    {
      "cell_type": "code",
      "source": [
        "train[TARGET] = train[TARGET] - 1 #XGBoost expects labels starting from 0, we have (1, 2, 3)"
      ],
      "metadata": {
        "id": "eOH06vNaoTbo"
      },
      "execution_count": 39,
      "outputs": []
    },
    {
      "cell_type": "markdown",
      "source": [
        "### Creating folds"
      ],
      "metadata": {
        "id": "2aMSNDaeaHbF"
      }
    },
    {
      "cell_type": "code",
      "source": [
        "N_SPLITS = 5\n",
        "\n",
        "skf = StratifiedKFold(n_splits=N_SPLITS, shuffle=True, random_state=SEED)\n",
        "# train_proc['fold'] = -1\n",
        "train['fold'] = -1\n",
        "\n",
        "for fold, (_, idx) in enumerate(skf.split(X=train, y=train[TARGET])):\n",
        "    # train_proc.loc[idx, 'fold'] = fold\n",
        "    train.loc[idx, 'fold'] = fold"
      ],
      "metadata": {
        "id": "49nn0VC6aJ_N"
      },
      "execution_count": 40,
      "outputs": []
    },
    {
      "cell_type": "code",
      "source": [
        "train.head()"
      ],
      "metadata": {
        "colab": {
          "base_uri": "https://localhost:8080/",
          "height": 0
        },
        "id": "LiVaQozejYmu",
        "outputId": "1bb16d44-984e-47d9-a776-672f8270d0ec"
      },
      "execution_count": 41,
      "outputs": [
        {
          "output_type": "execute_result",
          "data": {
            "text/plain": [
              "   baseline value  accelerations  fetal_movement  uterine_contractions  \\\n",
              "0             133              3               0                     4   \n",
              "1             130              1               1                    12   \n",
              "2             141              0               8                     0   \n",
              "3             144              0               2                     2   \n",
              "4             106              1               0                    11   \n",
              "\n",
              "   light_decelerations severe_decelerations  prolongued_decelerations  \\\n",
              "0                    4                    0                         0   \n",
              "1                   10                    0                         1   \n",
              "2                    0                    0                         0   \n",
              "3                    0                    0                         0   \n",
              "4                    0                    0                         0   \n",
              "\n",
              "   abnormal_short_term_variability  mean_value_of_short_term_variability  \\\n",
              "0                               30                                   1.5   \n",
              "1                               62                                   2.2   \n",
              "2                               75                                   0.3   \n",
              "3                               84                                   0.3   \n",
              "4                               63                                   0.6   \n",
              "\n",
              "   percentage_of_time_with_abnormal_long_term_variability  \\\n",
              "0                                                  0        \n",
              "1                                                  0        \n",
              "2                                                 49        \n",
              "3                                                 34        \n",
              "4                                                  0        \n",
              "\n",
              "   mean_value_of_long_term_variability  histogram_width  histogram_min  \\\n",
              "0                                  5.3              102             67   \n",
              "1                                  0.0              161             50   \n",
              "2                                  4.6                9            136   \n",
              "3                                  5.5               38            132   \n",
              "4                                 11.5               30             95   \n",
              "\n",
              "   histogram_max  histogram_number_of_peaks  histogram_number_of_zeroes  \\\n",
              "0            169                          9                           1   \n",
              "1            211                          9                           0   \n",
              "2            145                          1                           0   \n",
              "3            170                          2                           0   \n",
              "4            125                          1                           0   \n",
              "\n",
              "   histogram_mode  histogram_mean  histogram_median  histogram_variance  \\\n",
              "0             147             137               144                  40   \n",
              "1              60              89               113                 250   \n",
              "2             143             141               143                   0   \n",
              "3             144             143               145                   0   \n",
              "4             112             110               112                   1   \n",
              "\n",
              "   histogram_tendency  fetal_health accelerations_cat fetal_movement_cat  \\\n",
              "0                   1             0                 0                  0   \n",
              "1                   0             2                 0                  1   \n",
              "2                   1             1                 0                  1   \n",
              "3                  -1             2                 0                  1   \n",
              "4                   0             0                 0                  0   \n",
              "\n",
              "  uterine_contractions_cat decelerations abnormal_long_term_variability_cat  \\\n",
              "0                        1             4                                  0   \n",
              "1                        1            11                                  0   \n",
              "2                        0             0                                  1   \n",
              "3                        1             0                                  1   \n",
              "4                        1             0                                  0   \n",
              "\n",
              "   fold  \n",
              "0     0  \n",
              "1     2  \n",
              "2     2  \n",
              "3     4  \n",
              "4     0  "
            ],
            "text/html": [
              "\n",
              "  <div id=\"df-458aae0b-1434-4bae-878f-a5c2fdb923c7\">\n",
              "    <div class=\"colab-df-container\">\n",
              "      <div>\n",
              "<style scoped>\n",
              "    .dataframe tbody tr th:only-of-type {\n",
              "        vertical-align: middle;\n",
              "    }\n",
              "\n",
              "    .dataframe tbody tr th {\n",
              "        vertical-align: top;\n",
              "    }\n",
              "\n",
              "    .dataframe thead th {\n",
              "        text-align: right;\n",
              "    }\n",
              "</style>\n",
              "<table border=\"1\" class=\"dataframe\">\n",
              "  <thead>\n",
              "    <tr style=\"text-align: right;\">\n",
              "      <th></th>\n",
              "      <th>baseline value</th>\n",
              "      <th>accelerations</th>\n",
              "      <th>fetal_movement</th>\n",
              "      <th>uterine_contractions</th>\n",
              "      <th>light_decelerations</th>\n",
              "      <th>severe_decelerations</th>\n",
              "      <th>prolongued_decelerations</th>\n",
              "      <th>abnormal_short_term_variability</th>\n",
              "      <th>mean_value_of_short_term_variability</th>\n",
              "      <th>percentage_of_time_with_abnormal_long_term_variability</th>\n",
              "      <th>mean_value_of_long_term_variability</th>\n",
              "      <th>histogram_width</th>\n",
              "      <th>histogram_min</th>\n",
              "      <th>histogram_max</th>\n",
              "      <th>histogram_number_of_peaks</th>\n",
              "      <th>histogram_number_of_zeroes</th>\n",
              "      <th>histogram_mode</th>\n",
              "      <th>histogram_mean</th>\n",
              "      <th>histogram_median</th>\n",
              "      <th>histogram_variance</th>\n",
              "      <th>histogram_tendency</th>\n",
              "      <th>fetal_health</th>\n",
              "      <th>accelerations_cat</th>\n",
              "      <th>fetal_movement_cat</th>\n",
              "      <th>uterine_contractions_cat</th>\n",
              "      <th>decelerations</th>\n",
              "      <th>abnormal_long_term_variability_cat</th>\n",
              "      <th>fold</th>\n",
              "    </tr>\n",
              "  </thead>\n",
              "  <tbody>\n",
              "    <tr>\n",
              "      <th>0</th>\n",
              "      <td>133</td>\n",
              "      <td>3</td>\n",
              "      <td>0</td>\n",
              "      <td>4</td>\n",
              "      <td>4</td>\n",
              "      <td>0</td>\n",
              "      <td>0</td>\n",
              "      <td>30</td>\n",
              "      <td>1.5</td>\n",
              "      <td>0</td>\n",
              "      <td>5.3</td>\n",
              "      <td>102</td>\n",
              "      <td>67</td>\n",
              "      <td>169</td>\n",
              "      <td>9</td>\n",
              "      <td>1</td>\n",
              "      <td>147</td>\n",
              "      <td>137</td>\n",
              "      <td>144</td>\n",
              "      <td>40</td>\n",
              "      <td>1</td>\n",
              "      <td>0</td>\n",
              "      <td>0</td>\n",
              "      <td>0</td>\n",
              "      <td>1</td>\n",
              "      <td>4</td>\n",
              "      <td>0</td>\n",
              "      <td>0</td>\n",
              "    </tr>\n",
              "    <tr>\n",
              "      <th>1</th>\n",
              "      <td>130</td>\n",
              "      <td>1</td>\n",
              "      <td>1</td>\n",
              "      <td>12</td>\n",
              "      <td>10</td>\n",
              "      <td>0</td>\n",
              "      <td>1</td>\n",
              "      <td>62</td>\n",
              "      <td>2.2</td>\n",
              "      <td>0</td>\n",
              "      <td>0.0</td>\n",
              "      <td>161</td>\n",
              "      <td>50</td>\n",
              "      <td>211</td>\n",
              "      <td>9</td>\n",
              "      <td>0</td>\n",
              "      <td>60</td>\n",
              "      <td>89</td>\n",
              "      <td>113</td>\n",
              "      <td>250</td>\n",
              "      <td>0</td>\n",
              "      <td>2</td>\n",
              "      <td>0</td>\n",
              "      <td>1</td>\n",
              "      <td>1</td>\n",
              "      <td>11</td>\n",
              "      <td>0</td>\n",
              "      <td>2</td>\n",
              "    </tr>\n",
              "    <tr>\n",
              "      <th>2</th>\n",
              "      <td>141</td>\n",
              "      <td>0</td>\n",
              "      <td>8</td>\n",
              "      <td>0</td>\n",
              "      <td>0</td>\n",
              "      <td>0</td>\n",
              "      <td>0</td>\n",
              "      <td>75</td>\n",
              "      <td>0.3</td>\n",
              "      <td>49</td>\n",
              "      <td>4.6</td>\n",
              "      <td>9</td>\n",
              "      <td>136</td>\n",
              "      <td>145</td>\n",
              "      <td>1</td>\n",
              "      <td>0</td>\n",
              "      <td>143</td>\n",
              "      <td>141</td>\n",
              "      <td>143</td>\n",
              "      <td>0</td>\n",
              "      <td>1</td>\n",
              "      <td>1</td>\n",
              "      <td>0</td>\n",
              "      <td>1</td>\n",
              "      <td>0</td>\n",
              "      <td>0</td>\n",
              "      <td>1</td>\n",
              "      <td>2</td>\n",
              "    </tr>\n",
              "    <tr>\n",
              "      <th>3</th>\n",
              "      <td>144</td>\n",
              "      <td>0</td>\n",
              "      <td>2</td>\n",
              "      <td>2</td>\n",
              "      <td>0</td>\n",
              "      <td>0</td>\n",
              "      <td>0</td>\n",
              "      <td>84</td>\n",
              "      <td>0.3</td>\n",
              "      <td>34</td>\n",
              "      <td>5.5</td>\n",
              "      <td>38</td>\n",
              "      <td>132</td>\n",
              "      <td>170</td>\n",
              "      <td>2</td>\n",
              "      <td>0</td>\n",
              "      <td>144</td>\n",
              "      <td>143</td>\n",
              "      <td>145</td>\n",
              "      <td>0</td>\n",
              "      <td>-1</td>\n",
              "      <td>2</td>\n",
              "      <td>0</td>\n",
              "      <td>1</td>\n",
              "      <td>1</td>\n",
              "      <td>0</td>\n",
              "      <td>1</td>\n",
              "      <td>4</td>\n",
              "    </tr>\n",
              "    <tr>\n",
              "      <th>4</th>\n",
              "      <td>106</td>\n",
              "      <td>1</td>\n",
              "      <td>0</td>\n",
              "      <td>11</td>\n",
              "      <td>0</td>\n",
              "      <td>0</td>\n",
              "      <td>0</td>\n",
              "      <td>63</td>\n",
              "      <td>0.6</td>\n",
              "      <td>0</td>\n",
              "      <td>11.5</td>\n",
              "      <td>30</td>\n",
              "      <td>95</td>\n",
              "      <td>125</td>\n",
              "      <td>1</td>\n",
              "      <td>0</td>\n",
              "      <td>112</td>\n",
              "      <td>110</td>\n",
              "      <td>112</td>\n",
              "      <td>1</td>\n",
              "      <td>0</td>\n",
              "      <td>0</td>\n",
              "      <td>0</td>\n",
              "      <td>0</td>\n",
              "      <td>1</td>\n",
              "      <td>0</td>\n",
              "      <td>0</td>\n",
              "      <td>0</td>\n",
              "    </tr>\n",
              "  </tbody>\n",
              "</table>\n",
              "</div>\n",
              "      <button class=\"colab-df-convert\" onclick=\"convertToInteractive('df-458aae0b-1434-4bae-878f-a5c2fdb923c7')\"\n",
              "              title=\"Convert this dataframe to an interactive table.\"\n",
              "              style=\"display:none;\">\n",
              "        \n",
              "  <svg xmlns=\"http://www.w3.org/2000/svg\" height=\"24px\"viewBox=\"0 0 24 24\"\n",
              "       width=\"24px\">\n",
              "    <path d=\"M0 0h24v24H0V0z\" fill=\"none\"/>\n",
              "    <path d=\"M18.56 5.44l.94 2.06.94-2.06 2.06-.94-2.06-.94-.94-2.06-.94 2.06-2.06.94zm-11 1L8.5 8.5l.94-2.06 2.06-.94-2.06-.94L8.5 2.5l-.94 2.06-2.06.94zm10 10l.94 2.06.94-2.06 2.06-.94-2.06-.94-.94-2.06-.94 2.06-2.06.94z\"/><path d=\"M17.41 7.96l-1.37-1.37c-.4-.4-.92-.59-1.43-.59-.52 0-1.04.2-1.43.59L10.3 9.45l-7.72 7.72c-.78.78-.78 2.05 0 2.83L4 21.41c.39.39.9.59 1.41.59.51 0 1.02-.2 1.41-.59l7.78-7.78 2.81-2.81c.8-.78.8-2.07 0-2.86zM5.41 20L4 18.59l7.72-7.72 1.47 1.35L5.41 20z\"/>\n",
              "  </svg>\n",
              "      </button>\n",
              "      \n",
              "  <style>\n",
              "    .colab-df-container {\n",
              "      display:flex;\n",
              "      flex-wrap:wrap;\n",
              "      gap: 12px;\n",
              "    }\n",
              "\n",
              "    .colab-df-convert {\n",
              "      background-color: #E8F0FE;\n",
              "      border: none;\n",
              "      border-radius: 50%;\n",
              "      cursor: pointer;\n",
              "      display: none;\n",
              "      fill: #1967D2;\n",
              "      height: 32px;\n",
              "      padding: 0 0 0 0;\n",
              "      width: 32px;\n",
              "    }\n",
              "\n",
              "    .colab-df-convert:hover {\n",
              "      background-color: #E2EBFA;\n",
              "      box-shadow: 0px 1px 2px rgba(60, 64, 67, 0.3), 0px 1px 3px 1px rgba(60, 64, 67, 0.15);\n",
              "      fill: #174EA6;\n",
              "    }\n",
              "\n",
              "    [theme=dark] .colab-df-convert {\n",
              "      background-color: #3B4455;\n",
              "      fill: #D2E3FC;\n",
              "    }\n",
              "\n",
              "    [theme=dark] .colab-df-convert:hover {\n",
              "      background-color: #434B5C;\n",
              "      box-shadow: 0px 1px 3px 1px rgba(0, 0, 0, 0.15);\n",
              "      filter: drop-shadow(0px 1px 2px rgba(0, 0, 0, 0.3));\n",
              "      fill: #FFFFFF;\n",
              "    }\n",
              "  </style>\n",
              "\n",
              "      <script>\n",
              "        const buttonEl =\n",
              "          document.querySelector('#df-458aae0b-1434-4bae-878f-a5c2fdb923c7 button.colab-df-convert');\n",
              "        buttonEl.style.display =\n",
              "          google.colab.kernel.accessAllowed ? 'block' : 'none';\n",
              "\n",
              "        async function convertToInteractive(key) {\n",
              "          const element = document.querySelector('#df-458aae0b-1434-4bae-878f-a5c2fdb923c7');\n",
              "          const dataTable =\n",
              "            await google.colab.kernel.invokeFunction('convertToInteractive',\n",
              "                                                     [key], {});\n",
              "          if (!dataTable) return;\n",
              "\n",
              "          const docLinkHtml = 'Like what you see? Visit the ' +\n",
              "            '<a target=\"_blank\" href=https://colab.research.google.com/notebooks/data_table.ipynb>data table notebook</a>'\n",
              "            + ' to learn more about interactive tables.';\n",
              "          element.innerHTML = '';\n",
              "          dataTable['output_type'] = 'display_data';\n",
              "          await google.colab.output.renderOutput(dataTable, element);\n",
              "          const docLink = document.createElement('div');\n",
              "          docLink.innerHTML = docLinkHtml;\n",
              "          element.appendChild(docLink);\n",
              "        }\n",
              "      </script>\n",
              "    </div>\n",
              "  </div>\n",
              "  "
            ]
          },
          "metadata": {},
          "execution_count": 41
        }
      ]
    },
    {
      "cell_type": "markdown",
      "source": [
        "# Modelling"
      ],
      "metadata": {
        "id": "ejxxic6-fvjY"
      }
    },
    {
      "cell_type": "markdown",
      "source": [
        "### Hyperparameter tuning setup"
      ],
      "metadata": {
        "id": "QXrtLntLYPyn"
      }
    },
    {
      "cell_type": "code",
      "source": [
        "N_ESTIMATORS = 10000\n",
        "EARLY_STOPPING_ROUNDS = 200\n",
        "TREE_METHOD = 'gpu_hist' if GPU else 'hist'\n",
        "OBJECTIVE = 'multi:softmax'\n",
        "NUM_CLASS = 3\n",
        "EVAL_METRIC = 'mlogloss'"
      ],
      "metadata": {
        "id": "6TOh1HK_YTAm"
      },
      "execution_count": 69,
      "outputs": []
    },
    {
      "cell_type": "code",
      "source": [
        "base_params = {\n",
        "    'n_estimators': N_ESTIMATORS,\n",
        "    'early_stopping_rounds': EARLY_STOPPING_ROUNDS,\n",
        "    'tree_method': TREE_METHOD,\n",
        "    'enable_categorical': GPU, #only available for gpu_hist\n",
        "    'objective': OBJECTIVE,\n",
        "    'num_class': NUM_CLASS,\n",
        "    'max_cat_to_onehot': 3,\n",
        "    'eval_metric': EVAL_METRIC,\n",
        "    'random_state': SEED,\n",
        "    'verbosity': 0\n",
        "}"
      ],
      "metadata": {
        "id": "_o1o9R1_YZeR"
      },
      "execution_count": 70,
      "outputs": []
    },
    {
      "cell_type": "code",
      "source": [
        "def objective(trial, base_params, data):\n",
        "    #Defining hyperparameter search space\n",
        "    param_grid = {\n",
        "        'max_depth': trial.suggest_int('max_depth', 3, 15),\n",
        "        \n",
        "        'max_bin': trial.suggest_int('max_bin', 4, 512),\n",
        "        \n",
        "        'learning_rate': trial.suggest_float(\n",
        "            'learning_rate', 0.05, 0.3, step=0.025),\n",
        "        \n",
        "        # 'booster': trial.suggest_categorical('booster', ['gbtree', 'dart']),\n",
        "        \n",
        "        'gamma': trial.suggest_float('gamma', 0.1, 20.0, step=0.1),\n",
        "        \n",
        "        'min_child_weight': trial.suggest_int('min_child_weight', 2, 100),\n",
        "        \n",
        "        'max_delta_step': trial.suggest_float('max_delta_step', 1, 10, step=0.5),\n",
        "        \n",
        "        'subsample': trial.suggest_float('subsample', 0.5, 1.00, step=0.05),\n",
        "        \n",
        "        'colsample_bytree': trial.suggest_float(\n",
        "            'colsample_bytree', 0.5, 1.00, step=0.05),\n",
        "        \n",
        "        'colsample_bylevel': trial.suggest_float(\n",
        "            'colsample_bylevel', 0.5, 1.00, step=0.05),\n",
        "        \n",
        "        'colsample_bynode': trial.suggest_float(\n",
        "            'colsample_bynode', 0.5, 1.00, step=0.05),\n",
        "        \n",
        "        'reg_alpha': trial.suggest_float('reg_alpha', 1e-5, 1e3, log=True),\n",
        "        \n",
        "        'reg_lambda': trial.suggest_float('reg_lambda', 1e-5, 1e3, log=True)\n",
        "    }\n",
        "\n",
        "    # if param_grid['booster'] == 'dart':\n",
        "    #     param_grid['sample_type'] = 'weighted'\n",
        "    #     param_grid['normalize_type'] = trial.suggest_categorical(\n",
        "    #         'normalize_type', ['tree', 'forest'])\n",
        "    #     param_grid['rate_drop'] = trial.suggest_float(\n",
        "    #         'rate_drop', 0.1, 0.3)\n",
        "    #     param_grid['skip_drop'] = trial.suggest_float(\n",
        "    #         'skip_drop', 0.33, 0.67)\n",
        "\n",
        "    model = xgb.XGBClassifier(\n",
        "        **base_params, \n",
        "        **param_grid, \n",
        "        callbacks = [XGBoostPruningCallback(trial, 'validation_0-mlogloss')])\n",
        "    \n",
        "    xtrain, xval, ytrain, yval = data\n",
        "    \n",
        "    model.fit(\n",
        "        xtrain, ytrain,\n",
        "        eval_set=[(xval, yval)],\n",
        "        verbose=False)\n",
        "\n",
        "    predictions = model.predict(xval)\n",
        "    return f1_score(yval, predictions, average='weighted')"
      ],
      "metadata": {
        "id": "FQfi5phWY4a8"
      },
      "execution_count": 71,
      "outputs": []
    },
    {
      "cell_type": "code",
      "source": [
        "def tune_hyperparameters(\n",
        "        base_params,\n",
        "        data, \n",
        "        n_trials=5):\n",
        "    \n",
        "    study = optuna.create_study(\n",
        "        sampler=TPESampler(seed=SEED),\n",
        "        direction='maximize')\n",
        "    \n",
        "    study.optimize(\n",
        "        func=lambda trial: objective(trial, base_params, data),\n",
        "        n_trials=n_trials,\n",
        "        gc_after_trial=True)\n",
        "    \n",
        "    return study.best_params, study.best_value"
      ],
      "metadata": {
        "id": "W28n6Z_7ZJnT"
      },
      "execution_count": 72,
      "outputs": []
    },
    {
      "cell_type": "markdown",
      "source": [
        "### Cross-validation setup"
      ],
      "metadata": {
        "id": "PSWcGjcJf2Mg"
      }
    },
    {
      "cell_type": "code",
      "source": [
        "def evaluate_model(train, test, features, model_params, n_splits=5):\n",
        "    \n",
        "    #out-of-fold predictions\n",
        "    # oof_proba = {} #probability\n",
        "    oof_pred = {} #class\n",
        "\n",
        "    # test_proba = []\n",
        "    test_pred = []\n",
        "    cv_scores = []\n",
        "    \n",
        "    cv_start = time.time()\n",
        "    for fold in range(n_splits):\n",
        "        xtrain = train[train['fold'] != fold].reset_index(drop=True)\n",
        "        ytrain = xtrain[TARGET]\n",
        "\n",
        "        xval = train[train['fold'] == fold].reset_index(drop=True)\n",
        "        yval = xval[TARGET]\n",
        "        val_idx = xval.index.to_list()\n",
        "\n",
        "        fold_start = time.time()\n",
        "\n",
        "        model = xgb.XGBClassifier(**model_params)\n",
        "        \n",
        "        model.fit(\n",
        "            xtrain[features], ytrain,\n",
        "            eval_set=[(xval[features], yval)], \n",
        "            verbose=False)\n",
        "\n",
        "        val_pred = model.predict(xval[features])\n",
        "        oof_pred.update(dict(zip(val_idx, val_pred)))\n",
        "        # val_proba = model.predict_proba(xval[features])[:, 1]\n",
        "        # oof_proba.update(dict(zip(val_idx, val_proba)))        \n",
        "\n",
        "        score = f1_score(yval, val_pred, average='weighted')\n",
        "        cv_scores.append(score)\n",
        "\n",
        "        fold_end = time.time()\n",
        "\n",
        "        print(f'Fold #{fold}: f1_score = {score:.5f} \\\n",
        "        [Time: {fold_end - fold_start:.2f}s]')\n",
        "        \n",
        "        test_pred.append(model.predict(test[features]))\n",
        "        # test_proba.append(model.predict_proba(test[features])[:, 1])\n",
        "        \n",
        "    cv_end = time.time()\n",
        "\n",
        "    print(f'Average f1-score = {np.mean(cv_scores):.5f} \\\n",
        "    with std. dev. = {np.std(cv_scores):.5f}')\n",
        "    print(f'[Total time: {cv_end - cv_start:.2f}s]')\n",
        "\n",
        "    oof_pred = pd.DataFrame.from_dict(oof_pred, orient='index').reset_index()\n",
        "    # oof_proba = pd.DataFrame.from_dict(oof_proba, orient='index').reset_index()\n",
        "    \n",
        "    test_pred = mode(np.column_stack(test_pred), axis=1).mode\n",
        "    # test_proba = np.mean(np.column_stack(test_proba), axis=1)\n",
        "    \n",
        "    return oof_pred, test_pred"
      ],
      "metadata": {
        "id": "1PZxtE-uZmXL"
      },
      "execution_count": 73,
      "outputs": []
    },
    {
      "cell_type": "markdown",
      "source": [
        "### Expmt 1 - Original features"
      ],
      "metadata": {
        "id": "X8QkGky2gLNF"
      }
    },
    {
      "cell_type": "code",
      "source": [
        "xtrain, xval, ytrain, yval = train_test_split(train[original_features], \n",
        "                                              train[TARGET],\n",
        "                                              test_size=0.2,\n",
        "                                              stratify=train[TARGET],\n",
        "                                              shuffle=True,\n",
        "                                              random_state=SEED)"
      ],
      "metadata": {
        "id": "pjaZsRFag6Bv"
      },
      "execution_count": 74,
      "outputs": []
    },
    {
      "cell_type": "code",
      "source": [
        "%%capture\n",
        "best_params1, best_value1 = tune_hyperparameters(\n",
        "    base_params=base_params,\n",
        "    data=(xtrain, xval, ytrain, yval),\n",
        "    n_trials=100)"
      ],
      "metadata": {
        "id": "ET3VgzCehiY3"
      },
      "execution_count": null,
      "outputs": []
    },
    {
      "cell_type": "code",
      "source": [
        "print(f'Best f1_score: {best_value1:.5f}')\n",
        "print('Best params:')\n",
        "for key, value in best_params1.items():\n",
        "    print(f'\\t{key}: {value}')"
      ],
      "metadata": {
        "colab": {
          "base_uri": "https://localhost:8080/"
        },
        "outputId": "7912318d-e44a-4180-c7cd-935863b79079",
        "id": "jxeEdfXViXx1"
      },
      "execution_count": 76,
      "outputs": [
        {
          "output_type": "stream",
          "name": "stdout",
          "text": [
            "Best f1_score: 0.90959\n",
            "Best params:\n",
            "\tmax_depth: 7\n",
            "\tmax_bin: 434\n",
            "\tlearning_rate: 0.1\n",
            "\tgamma: 3.0000000000000004\n",
            "\tmin_child_weight: 7\n",
            "\tmax_delta_step: 7.5\n",
            "\tsubsample: 0.5\n",
            "\tcolsample_bytree: 0.55\n",
            "\tcolsample_bylevel: 0.9\n",
            "\tcolsample_bynode: 0.8\n",
            "\treg_alpha: 2.690877647821245e-05\n",
            "\treg_lambda: 8.027733612068083e-05\n"
          ]
        }
      ]
    },
    {
      "cell_type": "code",
      "source": [
        "model_params1 = dict(base_params, **best_params1)"
      ],
      "metadata": {
        "id": "vWXFvaV2iXx3"
      },
      "execution_count": 77,
      "outputs": []
    },
    {
      "cell_type": "code",
      "source": [
        "oof_pred1, test_pred1 = evaluate_model(train, test, \n",
        "                                       original_features, \n",
        "                                       model_params1)"
      ],
      "metadata": {
        "colab": {
          "base_uri": "https://localhost:8080/"
        },
        "id": "Y_a73b4Hhnhc",
        "outputId": "d5de6b9b-b51d-4ace-a459-98eba2d002d5"
      },
      "execution_count": 78,
      "outputs": [
        {
          "output_type": "stream",
          "name": "stdout",
          "text": [
            "Fold #0: f1_score = 0.90389         [Time: 3.75s]\n",
            "Fold #1: f1_score = 0.94111         [Time: 3.53s]\n",
            "Fold #2: f1_score = 0.92540         [Time: 3.26s]\n",
            "Fold #3: f1_score = 0.93358         [Time: 4.17s]\n",
            "Fold #4: f1_score = 0.93051         [Time: 3.18s]\n",
            "Average f1-score = 0.92690     with std. dev. = 0.01258\n",
            "[Total time: 18.01s]\n"
          ]
        }
      ]
    },
    {
      "cell_type": "code",
      "source": [
        "sub1 = pd.DataFrame({'fetal_health': test_pred1.ravel() + 1}) #resetting the labels \n",
        "sub1.to_csv('sub-03-original-features.csv', index=False)"
      ],
      "metadata": {
        "id": "RFxcbFPWbYKb"
      },
      "execution_count": 79,
      "outputs": []
    },
    {
      "cell_type": "code",
      "source": [
        "!head sub-03-original-features.csv"
      ],
      "metadata": {
        "colab": {
          "base_uri": "https://localhost:8080/"
        },
        "id": "VBQyxSNMbuHk",
        "outputId": "efcdfef9-31b4-4d9e-a073-fb7cd212ac39"
      },
      "execution_count": 80,
      "outputs": [
        {
          "output_type": "stream",
          "name": "stdout",
          "text": [
            "fetal_health\n",
            "1\n",
            "2\n",
            "1\n",
            "1\n",
            "1\n",
            "1\n",
            "1\n",
            "1\n",
            "1\n"
          ]
        }
      ]
    },
    {
      "cell_type": "markdown",
      "source": [
        "### Expmt 2 - Extended features"
      ],
      "metadata": {
        "id": "LuTyXWS0rMJ3"
      }
    },
    {
      "cell_type": "code",
      "source": [
        "xtrain, xval, ytrain, yval = train_test_split(train[extended_features], \n",
        "                                              train[TARGET],\n",
        "                                              test_size=0.2,\n",
        "                                              stratify=train[TARGET],\n",
        "                                              shuffle=True,\n",
        "                                              random_state=SEED)"
      ],
      "metadata": {
        "id": "29OEpZa3rQqu"
      },
      "execution_count": 81,
      "outputs": []
    },
    {
      "cell_type": "code",
      "source": [
        "%%capture\n",
        "best_params2, best_value2 = tune_hyperparameters(\n",
        "    base_params=base_params,\n",
        "    data=(xtrain, xval, ytrain, yval),\n",
        "    n_trials=100)"
      ],
      "metadata": {
        "id": "W0QlXVEorQqv"
      },
      "execution_count": null,
      "outputs": []
    },
    {
      "cell_type": "code",
      "source": [
        "print(f'Best f1_score: {best_value2:.5f}')\n",
        "print('Best params:')\n",
        "for key, value in best_params2.items():\n",
        "    print(f'\\t{key}: {value}')"
      ],
      "metadata": {
        "colab": {
          "base_uri": "https://localhost:8080/"
        },
        "outputId": "ba3f5605-a578-495b-a76c-ac7f9f744a54",
        "id": "oIYkCDu2rQqv"
      },
      "execution_count": 83,
      "outputs": [
        {
          "output_type": "stream",
          "name": "stdout",
          "text": [
            "Best f1_score: 0.90834\n",
            "Best params:\n",
            "\tmax_depth: 7\n",
            "\tmax_bin: 434\n",
            "\tlearning_rate: 0.1\n",
            "\tgamma: 3.0000000000000004\n",
            "\tmin_child_weight: 7\n",
            "\tmax_delta_step: 7.5\n",
            "\tsubsample: 0.5\n",
            "\tcolsample_bytree: 0.55\n",
            "\tcolsample_bylevel: 0.9\n",
            "\tcolsample_bynode: 0.8\n",
            "\treg_alpha: 2.690877647821245e-05\n",
            "\treg_lambda: 8.027733612068083e-05\n"
          ]
        }
      ]
    },
    {
      "cell_type": "code",
      "source": [
        "model_params2 = dict(base_params, **best_params2)"
      ],
      "metadata": {
        "id": "UnSKEJH8rQqw"
      },
      "execution_count": 84,
      "outputs": []
    },
    {
      "cell_type": "code",
      "source": [
        "oof_pred2, test_pred2 = evaluate_model(train, test, \n",
        "                                       extended_features, \n",
        "                                       model_params2)"
      ],
      "metadata": {
        "colab": {
          "base_uri": "https://localhost:8080/"
        },
        "outputId": "2b35dfe3-0b37-4e10-de57-618572b7af79",
        "id": "xGTMj4BHrQqw"
      },
      "execution_count": 85,
      "outputs": [
        {
          "output_type": "stream",
          "name": "stdout",
          "text": [
            "Fold #0: f1_score = 0.90683         [Time: 1.69s]\n",
            "Fold #1: f1_score = 0.94065         [Time: 4.64s]\n",
            "Fold #2: f1_score = 0.93877         [Time: 2.79s]\n",
            "Fold #3: f1_score = 0.93016         [Time: 3.33s]\n",
            "Fold #4: f1_score = 0.92065         [Time: 3.37s]\n",
            "Average f1-score = 0.92741     with std. dev. = 0.01250\n",
            "[Total time: 15.95s]\n"
          ]
        }
      ]
    },
    {
      "cell_type": "code",
      "source": [
        "sub2 = pd.DataFrame({'fetal_health': test_pred2.ravel() + 1}) #resetting the labels \n",
        "sub2.to_csv('sub-03-extended-features.csv', index=False)"
      ],
      "metadata": {
        "id": "CIOa0do-rQqw"
      },
      "execution_count": 86,
      "outputs": []
    },
    {
      "cell_type": "code",
      "source": [
        "!head sub-03-extended-features.csv"
      ],
      "metadata": {
        "colab": {
          "base_uri": "https://localhost:8080/"
        },
        "outputId": "0424c000-f3d6-4d0e-e631-b6f11fb4240f",
        "id": "YEYynWsarQqx"
      },
      "execution_count": 87,
      "outputs": [
        {
          "output_type": "stream",
          "name": "stdout",
          "text": [
            "fetal_health\n",
            "1\n",
            "2\n",
            "1\n",
            "1\n",
            "1\n",
            "1\n",
            "1\n",
            "1\n",
            "1\n"
          ]
        }
      ]
    },
    {
      "cell_type": "markdown",
      "source": [
        "### Expmt 3 - Balanced features"
      ],
      "metadata": {
        "id": "EGsiXQLLyRUn"
      }
    },
    {
      "cell_type": "code",
      "source": [
        "balanced_features = [f for f in extended_features if f not in imbalanced_features]"
      ],
      "metadata": {
        "id": "ZsD7cNspsiLQ"
      },
      "execution_count": 88,
      "outputs": []
    },
    {
      "cell_type": "code",
      "source": [
        "xtrain, xval, ytrain, yval = train_test_split(train[balanced_features], \n",
        "                                              train[TARGET],\n",
        "                                              test_size=0.2,\n",
        "                                              stratify=train[TARGET],\n",
        "                                              shuffle=True,\n",
        "                                              random_state=SEED)"
      ],
      "metadata": {
        "id": "QaTxKisJybGJ"
      },
      "execution_count": 89,
      "outputs": []
    },
    {
      "cell_type": "code",
      "source": [
        "%%capture\n",
        "best_params3, best_value3 = tune_hyperparameters(\n",
        "    base_params=base_params,\n",
        "    data=(xtrain, xval, ytrain, yval),\n",
        "    n_trials=100)"
      ],
      "metadata": {
        "id": "ySElZGIpybGK"
      },
      "execution_count": null,
      "outputs": []
    },
    {
      "cell_type": "code",
      "source": [
        "print(f'Best f1_score: {best_value3:.5f}')\n",
        "print('Best params:')\n",
        "for key, value in best_params3.items():\n",
        "    print(f'\\t{key}: {value}')"
      ],
      "metadata": {
        "colab": {
          "base_uri": "https://localhost:8080/"
        },
        "outputId": "45845481-d9b3-4e37-b3ca-26948f5e2c3d",
        "id": "iu7gDy1RybGK"
      },
      "execution_count": 91,
      "outputs": [
        {
          "output_type": "stream",
          "name": "stdout",
          "text": [
            "Best f1_score: 0.90397\n",
            "Best params:\n",
            "\tmax_depth: 7\n",
            "\tmax_bin: 434\n",
            "\tlearning_rate: 0.1\n",
            "\tgamma: 3.0000000000000004\n",
            "\tmin_child_weight: 7\n",
            "\tmax_delta_step: 7.5\n",
            "\tsubsample: 0.5\n",
            "\tcolsample_bytree: 0.55\n",
            "\tcolsample_bylevel: 0.9\n",
            "\tcolsample_bynode: 0.8\n",
            "\treg_alpha: 2.690877647821245e-05\n",
            "\treg_lambda: 8.027733612068083e-05\n"
          ]
        }
      ]
    },
    {
      "cell_type": "code",
      "source": [
        "model_params3 = dict(base_params, **best_params3)"
      ],
      "metadata": {
        "id": "RtBAvAABybGL"
      },
      "execution_count": 92,
      "outputs": []
    },
    {
      "cell_type": "code",
      "source": [
        "oof_pred3, test_pred3 = evaluate_model(train, test, \n",
        "                                       balanced_features, \n",
        "                                       model_params3)"
      ],
      "metadata": {
        "colab": {
          "base_uri": "https://localhost:8080/"
        },
        "outputId": "3a469a8b-4171-4e97-e59c-05a25afcec69",
        "id": "eyA0xdqfybGL"
      },
      "execution_count": 93,
      "outputs": [
        {
          "output_type": "stream",
          "name": "stdout",
          "text": [
            "Fold #0: f1_score = 0.91487         [Time: 2.82s]\n",
            "Fold #1: f1_score = 0.93763         [Time: 6.37s]\n",
            "Fold #2: f1_score = 0.91755         [Time: 3.48s]\n",
            "Fold #3: f1_score = 0.92390         [Time: 5.40s]\n",
            "Fold #4: f1_score = 0.91564         [Time: 5.11s]\n",
            "Average f1-score = 0.92192     with std. dev. = 0.00847\n",
            "[Total time: 23.30s]\n"
          ]
        }
      ]
    },
    {
      "cell_type": "code",
      "source": [
        "sub3 = pd.DataFrame({'fetal_health': test_pred3.ravel() + 1}) #resetting the labels \n",
        "sub3.to_csv('sub-03-balanced-features.csv', index=False)"
      ],
      "metadata": {
        "id": "s-zBRJ_AybGM"
      },
      "execution_count": 94,
      "outputs": []
    },
    {
      "cell_type": "code",
      "source": [
        "!head sub-03-balanced-features.csv"
      ],
      "metadata": {
        "colab": {
          "base_uri": "https://localhost:8080/"
        },
        "outputId": "a2c1d726-f2c6-468d-bd2e-6a794f2e20a0",
        "id": "u-zoGSsbybGM"
      },
      "execution_count": 95,
      "outputs": [
        {
          "output_type": "stream",
          "name": "stdout",
          "text": [
            "fetal_health\n",
            "1\n",
            "2\n",
            "1\n",
            "1\n",
            "1\n",
            "1\n",
            "1\n",
            "1\n",
            "1\n"
          ]
        }
      ]
    }
  ]
}