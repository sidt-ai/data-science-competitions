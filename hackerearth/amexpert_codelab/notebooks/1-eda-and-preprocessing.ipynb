{
  "nbformat": 4,
  "nbformat_minor": 0,
  "metadata": {
    "colab": {
      "name": "[HE] AmExpert Codelab - Basic EDA & Preprocessing",
      "provenance": []
    },
    "kernelspec": {
      "name": "python3",
      "display_name": "Python 3"
    },
    "language_info": {
      "name": "python"
    }
  },
  "cells": [
    {
      "cell_type": "markdown",
      "source": [
        "# Imports"
      ],
      "metadata": {
        "id": "IsM1xFPN4pH7"
      }
    },
    {
      "cell_type": "code",
      "execution_count": 295,
      "metadata": {
        "id": "ZuMCo0etsG3q"
      },
      "outputs": [],
      "source": [
        "train_url = 'https://raw.githubusercontent.com/sidt-ai/data-science-competitions/main/hackerearth/amexpert_codelab/data/raw/train.csv'\n",
        "test_url = 'https://raw.githubusercontent.com/sidt-ai/data-science-competitions/main/hackerearth/amexpert_codelab/data/raw/test.csv'\n",
        "sub_url = 'https://raw.githubusercontent.com/sidt-ai/data-science-competitions/main/hackerearth/amexpert_codelab/data/raw/sample_submission.csv'"
      ]
    },
    {
      "cell_type": "code",
      "source": [
        "import pandas as pd\n",
        "import numpy as np\n",
        "\n",
        "import matplotlib.pyplot as plt\n",
        "%matplotlib inline\n",
        "import seaborn as sns"
      ],
      "metadata": {
        "id": "xwIB3wo6wE3q"
      },
      "execution_count": 296,
      "outputs": []
    },
    {
      "cell_type": "markdown",
      "source": [
        "# Data overview"
      ],
      "metadata": {
        "id": "KCgJiw5Cw7no"
      }
    },
    {
      "cell_type": "code",
      "source": [
        "train = pd.read_csv(train_url)\n",
        "test = pd.read_csv(test_url)\n",
        "submission = pd.read_csv(sub_url)"
      ],
      "metadata": {
        "id": "xTc_dJyawaHJ"
      },
      "execution_count": 297,
      "outputs": []
    },
    {
      "cell_type": "code",
      "source": [
        "train.head()"
      ],
      "metadata": {
        "colab": {
          "base_uri": "https://localhost:8080/",
          "height": 0
        },
        "id": "PCGOYoVrwoKg",
        "outputId": "fc0ad6b7-ac49-48da-d33f-728483a0ad5e"
      },
      "execution_count": 298,
      "outputs": [
        {
          "output_type": "execute_result",
          "data": {
            "text/html": [
              "<div>\n",
              "<style scoped>\n",
              "    .dataframe tbody tr th:only-of-type {\n",
              "        vertical-align: middle;\n",
              "    }\n",
              "\n",
              "    .dataframe tbody tr th {\n",
              "        vertical-align: top;\n",
              "    }\n",
              "\n",
              "    .dataframe thead th {\n",
              "        text-align: right;\n",
              "    }\n",
              "</style>\n",
              "<table border=\"1\" class=\"dataframe\">\n",
              "  <thead>\n",
              "    <tr style=\"text-align: right;\">\n",
              "      <th></th>\n",
              "      <th>customer_id</th>\n",
              "      <th>name</th>\n",
              "      <th>age</th>\n",
              "      <th>gender</th>\n",
              "      <th>owns_car</th>\n",
              "      <th>owns_house</th>\n",
              "      <th>no_of_children</th>\n",
              "      <th>net_yearly_income</th>\n",
              "      <th>no_of_days_employed</th>\n",
              "      <th>occupation_type</th>\n",
              "      <th>total_family_members</th>\n",
              "      <th>migrant_worker</th>\n",
              "      <th>yearly_debt_payments</th>\n",
              "      <th>credit_limit</th>\n",
              "      <th>credit_limit_used(%)</th>\n",
              "      <th>credit_score</th>\n",
              "      <th>prev_defaults</th>\n",
              "      <th>default_in_last_6months</th>\n",
              "      <th>credit_card_default</th>\n",
              "    </tr>\n",
              "  </thead>\n",
              "  <tbody>\n",
              "    <tr>\n",
              "      <th>0</th>\n",
              "      <td>CST_115179</td>\n",
              "      <td>ita Bose</td>\n",
              "      <td>46</td>\n",
              "      <td>F</td>\n",
              "      <td>N</td>\n",
              "      <td>Y</td>\n",
              "      <td>0.0</td>\n",
              "      <td>107934.04</td>\n",
              "      <td>612.0</td>\n",
              "      <td>Unknown</td>\n",
              "      <td>1.0</td>\n",
              "      <td>1.0</td>\n",
              "      <td>33070.28</td>\n",
              "      <td>18690.93</td>\n",
              "      <td>73</td>\n",
              "      <td>544.0</td>\n",
              "      <td>2</td>\n",
              "      <td>1</td>\n",
              "      <td>1</td>\n",
              "    </tr>\n",
              "    <tr>\n",
              "      <th>1</th>\n",
              "      <td>CST_121920</td>\n",
              "      <td>Alper Jonathan</td>\n",
              "      <td>29</td>\n",
              "      <td>M</td>\n",
              "      <td>N</td>\n",
              "      <td>Y</td>\n",
              "      <td>0.0</td>\n",
              "      <td>109862.62</td>\n",
              "      <td>2771.0</td>\n",
              "      <td>Laborers</td>\n",
              "      <td>2.0</td>\n",
              "      <td>0.0</td>\n",
              "      <td>15329.53</td>\n",
              "      <td>37745.19</td>\n",
              "      <td>52</td>\n",
              "      <td>857.0</td>\n",
              "      <td>0</td>\n",
              "      <td>0</td>\n",
              "      <td>0</td>\n",
              "    </tr>\n",
              "    <tr>\n",
              "      <th>2</th>\n",
              "      <td>CST_109330</td>\n",
              "      <td>Umesh Desai</td>\n",
              "      <td>37</td>\n",
              "      <td>M</td>\n",
              "      <td>N</td>\n",
              "      <td>Y</td>\n",
              "      <td>0.0</td>\n",
              "      <td>230153.17</td>\n",
              "      <td>204.0</td>\n",
              "      <td>Laborers</td>\n",
              "      <td>2.0</td>\n",
              "      <td>0.0</td>\n",
              "      <td>48416.60</td>\n",
              "      <td>41598.36</td>\n",
              "      <td>43</td>\n",
              "      <td>650.0</td>\n",
              "      <td>0</td>\n",
              "      <td>0</td>\n",
              "      <td>0</td>\n",
              "    </tr>\n",
              "    <tr>\n",
              "      <th>3</th>\n",
              "      <td>CST_128288</td>\n",
              "      <td>Rie</td>\n",
              "      <td>39</td>\n",
              "      <td>F</td>\n",
              "      <td>N</td>\n",
              "      <td>Y</td>\n",
              "      <td>0.0</td>\n",
              "      <td>122325.82</td>\n",
              "      <td>11941.0</td>\n",
              "      <td>Core staff</td>\n",
              "      <td>2.0</td>\n",
              "      <td>0.0</td>\n",
              "      <td>22574.36</td>\n",
              "      <td>32627.76</td>\n",
              "      <td>20</td>\n",
              "      <td>754.0</td>\n",
              "      <td>0</td>\n",
              "      <td>0</td>\n",
              "      <td>0</td>\n",
              "    </tr>\n",
              "    <tr>\n",
              "      <th>4</th>\n",
              "      <td>CST_151355</td>\n",
              "      <td>McCool</td>\n",
              "      <td>46</td>\n",
              "      <td>M</td>\n",
              "      <td>Y</td>\n",
              "      <td>Y</td>\n",
              "      <td>0.0</td>\n",
              "      <td>387286.00</td>\n",
              "      <td>1459.0</td>\n",
              "      <td>Core staff</td>\n",
              "      <td>1.0</td>\n",
              "      <td>0.0</td>\n",
              "      <td>38282.95</td>\n",
              "      <td>52950.64</td>\n",
              "      <td>75</td>\n",
              "      <td>927.0</td>\n",
              "      <td>0</td>\n",
              "      <td>0</td>\n",
              "      <td>0</td>\n",
              "    </tr>\n",
              "  </tbody>\n",
              "</table>\n",
              "</div>"
            ],
            "text/plain": [
              "  customer_id            name  ...  default_in_last_6months credit_card_default\n",
              "0  CST_115179        ita Bose  ...                        1                   1\n",
              "1  CST_121920  Alper Jonathan  ...                        0                   0\n",
              "2  CST_109330     Umesh Desai  ...                        0                   0\n",
              "3  CST_128288             Rie  ...                        0                   0\n",
              "4  CST_151355          McCool  ...                        0                   0\n",
              "\n",
              "[5 rows x 19 columns]"
            ]
          },
          "metadata": {},
          "execution_count": 298
        }
      ]
    },
    {
      "cell_type": "code",
      "source": [
        "train.info()"
      ],
      "metadata": {
        "colab": {
          "base_uri": "https://localhost:8080/"
        },
        "id": "zHCz1dW_wpdZ",
        "outputId": "18514482-2f46-41f0-e2c2-fadf1a6712ad"
      },
      "execution_count": 299,
      "outputs": [
        {
          "output_type": "stream",
          "name": "stdout",
          "text": [
            "<class 'pandas.core.frame.DataFrame'>\n",
            "RangeIndex: 45528 entries, 0 to 45527\n",
            "Data columns (total 19 columns):\n",
            " #   Column                   Non-Null Count  Dtype  \n",
            "---  ------                   --------------  -----  \n",
            " 0   customer_id              45528 non-null  object \n",
            " 1   name                     45528 non-null  object \n",
            " 2   age                      45528 non-null  int64  \n",
            " 3   gender                   45528 non-null  object \n",
            " 4   owns_car                 44981 non-null  object \n",
            " 5   owns_house               45528 non-null  object \n",
            " 6   no_of_children           44754 non-null  float64\n",
            " 7   net_yearly_income        45528 non-null  float64\n",
            " 8   no_of_days_employed      45065 non-null  float64\n",
            " 9   occupation_type          45528 non-null  object \n",
            " 10  total_family_members     45445 non-null  float64\n",
            " 11  migrant_worker           45441 non-null  float64\n",
            " 12  yearly_debt_payments     45433 non-null  float64\n",
            " 13  credit_limit             45528 non-null  float64\n",
            " 14  credit_limit_used(%)     45528 non-null  int64  \n",
            " 15  credit_score             45520 non-null  float64\n",
            " 16  prev_defaults            45528 non-null  int64  \n",
            " 17  default_in_last_6months  45528 non-null  int64  \n",
            " 18  credit_card_default      45528 non-null  int64  \n",
            "dtypes: float64(8), int64(5), object(6)\n",
            "memory usage: 6.6+ MB\n"
          ]
        }
      ]
    },
    {
      "cell_type": "code",
      "source": [
        "test.info()"
      ],
      "metadata": {
        "colab": {
          "base_uri": "https://localhost:8080/"
        },
        "id": "-aOgHGgCw5i1",
        "outputId": "0c905790-3ac1-4725-c7ce-86fdc82163d0"
      },
      "execution_count": 300,
      "outputs": [
        {
          "output_type": "stream",
          "name": "stdout",
          "text": [
            "<class 'pandas.core.frame.DataFrame'>\n",
            "RangeIndex: 11383 entries, 0 to 11382\n",
            "Data columns (total 18 columns):\n",
            " #   Column                   Non-Null Count  Dtype  \n",
            "---  ------                   --------------  -----  \n",
            " 0   customer_id              11383 non-null  object \n",
            " 1   name                     11383 non-null  object \n",
            " 2   age                      11383 non-null  int64  \n",
            " 3   gender                   11383 non-null  object \n",
            " 4   owns_car                 11251 non-null  object \n",
            " 5   owns_house               11383 non-null  object \n",
            " 6   no_of_children           11193 non-null  float64\n",
            " 7   net_yearly_income        11383 non-null  float64\n",
            " 8   no_of_days_employed      11278 non-null  float64\n",
            " 9   occupation_type          11383 non-null  object \n",
            " 10  total_family_members     11352 non-null  float64\n",
            " 11  migrant_worker           11357 non-null  float64\n",
            " 12  yearly_debt_payments     11361 non-null  float64\n",
            " 13  credit_limit             11383 non-null  float64\n",
            " 14  credit_limit_used(%)     11383 non-null  int64  \n",
            " 15  credit_score             11380 non-null  float64\n",
            " 16  prev_defaults            11383 non-null  int64  \n",
            " 17  default_in_last_6months  11383 non-null  int64  \n",
            "dtypes: float64(8), int64(4), object(6)\n",
            "memory usage: 1.6+ MB\n"
          ]
        }
      ]
    },
    {
      "cell_type": "markdown",
      "source": [
        "# Categorical features"
      ],
      "metadata": {
        "id": "MSN2gPBwxKDY"
      }
    },
    {
      "cell_type": "code",
      "source": [
        "cat_features = ['gender', 'owns_car', 'owns_house', 'occupation_type', 'migrant_worker', 'default_in_last_6months']"
      ],
      "metadata": {
        "id": "SyYRWayGIrmg"
      },
      "execution_count": 301,
      "outputs": []
    },
    {
      "cell_type": "markdown",
      "source": [
        "### gender"
      ],
      "metadata": {
        "id": "JnO9mNCZxtaZ"
      }
    },
    {
      "cell_type": "code",
      "source": [
        "train.gender.nunique(), test.gender.nunique()"
      ],
      "metadata": {
        "colab": {
          "base_uri": "https://localhost:8080/"
        },
        "id": "Y93ejS_nxo8g",
        "outputId": "62d323cc-1d74-4883-e960-fd13e5044a36"
      },
      "execution_count": 302,
      "outputs": [
        {
          "output_type": "execute_result",
          "data": {
            "text/plain": [
              "(3, 3)"
            ]
          },
          "metadata": {},
          "execution_count": 302
        }
      ]
    },
    {
      "cell_type": "code",
      "source": [
        "train.gender.unique(), test.gender.unique()"
      ],
      "metadata": {
        "colab": {
          "base_uri": "https://localhost:8080/"
        },
        "id": "3TMzYNWzx0Cf",
        "outputId": "35d3432b-6252-4e66-b8d6-8bf9a85de7c0"
      },
      "execution_count": 303,
      "outputs": [
        {
          "output_type": "execute_result",
          "data": {
            "text/plain": [
              "(array(['F', 'M', 'XNA'], dtype=object),\n",
              " array(['F', 'M', 'XNA'], dtype=object))"
            ]
          },
          "metadata": {},
          "execution_count": 303
        }
      ]
    },
    {
      "cell_type": "code",
      "source": [
        "train.gender.value_counts()"
      ],
      "metadata": {
        "colab": {
          "base_uri": "https://localhost:8080/"
        },
        "id": "oFnB0biLx3wY",
        "outputId": "0d6674ad-8100-497f-89ab-ff80890c219b"
      },
      "execution_count": 304,
      "outputs": [
        {
          "output_type": "execute_result",
          "data": {
            "text/plain": [
              "F      29957\n",
              "M      15570\n",
              "XNA        1\n",
              "Name: gender, dtype: int64"
            ]
          },
          "metadata": {},
          "execution_count": 304
        }
      ]
    },
    {
      "cell_type": "code",
      "source": [
        "test.gender.value_counts()"
      ],
      "metadata": {
        "colab": {
          "base_uri": "https://localhost:8080/"
        },
        "id": "XoZSf5YOyEtL",
        "outputId": "4b4dd9e1-f646-47c2-9462-2f7e640cca1a"
      },
      "execution_count": 305,
      "outputs": [
        {
          "output_type": "execute_result",
          "data": {
            "text/plain": [
              "F      7443\n",
              "M      3939\n",
              "XNA       1\n",
              "Name: gender, dtype: int64"
            ]
          },
          "metadata": {},
          "execution_count": 305
        }
      ]
    },
    {
      "cell_type": "code",
      "source": [
        "train['gender'] = train.gender.astype('category').cat.codes\n",
        "test['gender'] = test.gender.astype('category').cat.codes"
      ],
      "metadata": {
        "id": "eqKBA75dyOQj"
      },
      "execution_count": 306,
      "outputs": []
    },
    {
      "cell_type": "markdown",
      "source": [
        "### owns_car"
      ],
      "metadata": {
        "id": "x8VI6GlXybmW"
      }
    },
    {
      "cell_type": "code",
      "source": [
        "train.owns_car.nunique(), test.owns_car.nunique()"
      ],
      "metadata": {
        "colab": {
          "base_uri": "https://localhost:8080/"
        },
        "id": "n4yKAwEWyZ9q",
        "outputId": "a5d89883-bdd4-46a3-d880-371fc363eade"
      },
      "execution_count": 307,
      "outputs": [
        {
          "output_type": "execute_result",
          "data": {
            "text/plain": [
              "(2, 2)"
            ]
          },
          "metadata": {},
          "execution_count": 307
        }
      ]
    },
    {
      "cell_type": "code",
      "source": [
        "train.owns_car.unique(), test.owns_car.unique()"
      ],
      "metadata": {
        "colab": {
          "base_uri": "https://localhost:8080/"
        },
        "id": "Wo6wUtAJykWO",
        "outputId": "72606ac6-bdba-4c09-bcda-ab948f64b6b3"
      },
      "execution_count": 308,
      "outputs": [
        {
          "output_type": "execute_result",
          "data": {
            "text/plain": [
              "(array(['N', 'Y', nan], dtype=object), array(['Y', 'N', nan], dtype=object))"
            ]
          },
          "metadata": {},
          "execution_count": 308
        }
      ]
    },
    {
      "cell_type": "code",
      "source": [
        "train.owns_car.isna().sum(), test.owns_car.isna().sum()"
      ],
      "metadata": {
        "colab": {
          "base_uri": "https://localhost:8080/"
        },
        "id": "-6T73sg2zcGB",
        "outputId": "afeb44b7-e39e-4af1-c218-27a4ff9df81c"
      },
      "execution_count": 309,
      "outputs": [
        {
          "output_type": "execute_result",
          "data": {
            "text/plain": [
              "(547, 132)"
            ]
          },
          "metadata": {},
          "execution_count": 309
        }
      ]
    },
    {
      "cell_type": "markdown",
      "source": [
        "We can consider missing entries as not having a car."
      ],
      "metadata": {
        "id": "6cnQYIHDzX5K"
      }
    },
    {
      "cell_type": "code",
      "source": [
        "train.owns_car.fillna('N', inplace=True)\n",
        "test.owns_car.fillna('N', inplace=True)"
      ],
      "metadata": {
        "id": "qpt_UFevynmD"
      },
      "execution_count": 310,
      "outputs": []
    },
    {
      "cell_type": "code",
      "source": [
        "train.owns_car.value_counts()"
      ],
      "metadata": {
        "colab": {
          "base_uri": "https://localhost:8080/"
        },
        "id": "PocokirfzQFx",
        "outputId": "8038d81e-200d-48e8-a984-737b7c159570"
      },
      "execution_count": 311,
      "outputs": [
        {
          "output_type": "execute_result",
          "data": {
            "text/plain": [
              "N    30290\n",
              "Y    15238\n",
              "Name: owns_car, dtype: int64"
            ]
          },
          "metadata": {},
          "execution_count": 311
        }
      ]
    },
    {
      "cell_type": "code",
      "source": [
        "test.owns_car.value_counts()"
      ],
      "metadata": {
        "colab": {
          "base_uri": "https://localhost:8080/"
        },
        "id": "uWuAN7sOzU_3",
        "outputId": "58b947b8-f414-49a8-8b24-6004b0b249ba"
      },
      "execution_count": 312,
      "outputs": [
        {
          "output_type": "execute_result",
          "data": {
            "text/plain": [
              "N    7504\n",
              "Y    3879\n",
              "Name: owns_car, dtype: int64"
            ]
          },
          "metadata": {},
          "execution_count": 312
        }
      ]
    },
    {
      "cell_type": "code",
      "source": [
        "train['owns_car'] = train.owns_car.astype('category').cat.codes\n",
        "test['owns_car'] = test.owns_car.astype('category').cat.codes"
      ],
      "metadata": {
        "id": "PHaRpJ5xz0xs"
      },
      "execution_count": 313,
      "outputs": []
    },
    {
      "cell_type": "markdown",
      "source": [
        "### owns_house"
      ],
      "metadata": {
        "id": "2wFM4wJcz_M5"
      }
    },
    {
      "cell_type": "code",
      "source": [
        "train.owns_house.nunique(), test.owns_house.nunique()"
      ],
      "metadata": {
        "colab": {
          "base_uri": "https://localhost:8080/"
        },
        "id": "YTecnX-r0FYy",
        "outputId": "4b68c955-555d-41dd-dcc9-18775a7251ea"
      },
      "execution_count": 314,
      "outputs": [
        {
          "output_type": "execute_result",
          "data": {
            "text/plain": [
              "(2, 2)"
            ]
          },
          "metadata": {},
          "execution_count": 314
        }
      ]
    },
    {
      "cell_type": "code",
      "source": [
        "train.owns_house.unique(), test.owns_house.unique()"
      ],
      "metadata": {
        "colab": {
          "base_uri": "https://localhost:8080/"
        },
        "id": "E_lAUB8B0JU9",
        "outputId": "d11dddfc-c7af-4818-e1b5-a48343b00d5a"
      },
      "execution_count": 315,
      "outputs": [
        {
          "output_type": "execute_result",
          "data": {
            "text/plain": [
              "(array(['Y', 'N'], dtype=object), array(['N', 'Y'], dtype=object))"
            ]
          },
          "metadata": {},
          "execution_count": 315
        }
      ]
    },
    {
      "cell_type": "code",
      "source": [
        "train.owns_house.value_counts()"
      ],
      "metadata": {
        "colab": {
          "base_uri": "https://localhost:8080/"
        },
        "id": "yJdzMF9k0Mdx",
        "outputId": "dddb720b-6f9c-4c40-ed8a-a48149d85da7"
      },
      "execution_count": 316,
      "outputs": [
        {
          "output_type": "execute_result",
          "data": {
            "text/plain": [
              "Y    31642\n",
              "N    13886\n",
              "Name: owns_house, dtype: int64"
            ]
          },
          "metadata": {},
          "execution_count": 316
        }
      ]
    },
    {
      "cell_type": "code",
      "source": [
        "test.owns_house.value_counts()"
      ],
      "metadata": {
        "colab": {
          "base_uri": "https://localhost:8080/"
        },
        "id": "TqEF1Q_20SZy",
        "outputId": "dfea8c07-2c5a-4971-a993-dd368f329698"
      },
      "execution_count": 317,
      "outputs": [
        {
          "output_type": "execute_result",
          "data": {
            "text/plain": [
              "Y    7861\n",
              "N    3522\n",
              "Name: owns_house, dtype: int64"
            ]
          },
          "metadata": {},
          "execution_count": 317
        }
      ]
    },
    {
      "cell_type": "code",
      "source": [
        "train['owns_house'] = train.owns_house.astype('category').cat.codes\n",
        "test['owns_house'] = test.owns_house.astype('category').cat.codes"
      ],
      "metadata": {
        "id": "ADsFPX5b0aHf"
      },
      "execution_count": 318,
      "outputs": []
    },
    {
      "cell_type": "markdown",
      "source": [
        "### occupation_type"
      ],
      "metadata": {
        "id": "_nHbP_Pe0peN"
      }
    },
    {
      "cell_type": "code",
      "source": [
        "train.occupation_type.nunique(), test.occupation_type.nunique()"
      ],
      "metadata": {
        "colab": {
          "base_uri": "https://localhost:8080/"
        },
        "id": "OPPl4pLP0k8w",
        "outputId": "d6e5b396-27f6-44cf-ac69-2e8d5e911deb"
      },
      "execution_count": 319,
      "outputs": [
        {
          "output_type": "execute_result",
          "data": {
            "text/plain": [
              "(19, 19)"
            ]
          },
          "metadata": {},
          "execution_count": 319
        }
      ]
    },
    {
      "cell_type": "code",
      "source": [
        "train.occupation_type.unique()"
      ],
      "metadata": {
        "colab": {
          "base_uri": "https://localhost:8080/"
        },
        "id": "BCY8hkuX0zXu",
        "outputId": "1b77e3e3-de34-4697-d7e5-e0d2101e0252"
      },
      "execution_count": 320,
      "outputs": [
        {
          "output_type": "execute_result",
          "data": {
            "text/plain": [
              "array(['Unknown', 'Laborers', 'Core staff', 'Accountants',\n",
              "       'High skill tech staff', 'Sales staff', 'Managers', 'Drivers',\n",
              "       'Medicine staff', 'Cleaning staff', 'HR staff', 'Security staff',\n",
              "       'Cooking staff', 'Waiters/barmen staff', 'Low-skill Laborers',\n",
              "       'Private service staff', 'Secretaries', 'Realty agents',\n",
              "       'IT staff'], dtype=object)"
            ]
          },
          "metadata": {},
          "execution_count": 320
        }
      ]
    },
    {
      "cell_type": "markdown",
      "source": [
        "Checking for unseen values in test set."
      ],
      "metadata": {
        "id": "QFs6SUve09AO"
      }
    },
    {
      "cell_type": "code",
      "source": [
        "set(test.occupation_type.unique()) - set(train.occupation_type.unique())"
      ],
      "metadata": {
        "colab": {
          "base_uri": "https://localhost:8080/"
        },
        "id": "8RtHLav802tH",
        "outputId": "e40d1576-c1c3-46ea-9e27-78641062adae"
      },
      "execution_count": 321,
      "outputs": [
        {
          "output_type": "execute_result",
          "data": {
            "text/plain": [
              "set()"
            ]
          },
          "metadata": {},
          "execution_count": 321
        }
      ]
    },
    {
      "cell_type": "code",
      "source": [
        "train.occupation_type.value_counts()"
      ],
      "metadata": {
        "colab": {
          "base_uri": "https://localhost:8080/"
        },
        "id": "JuUESxu-1VZi",
        "outputId": "0bcc71ba-2422-4dba-925c-55d321ca7a49"
      },
      "execution_count": 322,
      "outputs": [
        {
          "output_type": "execute_result",
          "data": {
            "text/plain": [
              "Unknown                  14299\n",
              "Laborers                  8134\n",
              "Sales staff               4725\n",
              "Core staff                4062\n",
              "Managers                  3168\n",
              "Drivers                   2747\n",
              "High skill tech staff     1682\n",
              "Accountants               1474\n",
              "Medicine staff            1275\n",
              "Security staff            1025\n",
              "Cooking staff              902\n",
              "Cleaning staff             665\n",
              "Private service staff      387\n",
              "Low-skill Laborers         336\n",
              "Waiters/barmen staff       203\n",
              "Secretaries                199\n",
              "Realty agents              101\n",
              "HR staff                    78\n",
              "IT staff                    66\n",
              "Name: occupation_type, dtype: int64"
            ]
          },
          "metadata": {},
          "execution_count": 322
        }
      ]
    },
    {
      "cell_type": "code",
      "source": [
        "test.occupation_type.value_counts()"
      ],
      "metadata": {
        "colab": {
          "base_uri": "https://localhost:8080/"
        },
        "id": "DQoy_GzjDGBi",
        "outputId": "43315cb0-3a94-46c3-b42a-4d54effc3ca3"
      },
      "execution_count": 323,
      "outputs": [
        {
          "output_type": "execute_result",
          "data": {
            "text/plain": [
              "Unknown                  3546\n",
              "Laborers                 2071\n",
              "Sales staff              1176\n",
              "Core staff               1018\n",
              "Managers                  806\n",
              "Drivers                   703\n",
              "High skill tech staff     405\n",
              "Accountants               365\n",
              "Medicine staff            318\n",
              "Security staff            252\n",
              "Cooking staff             208\n",
              "Cleaning staff            164\n",
              "Private service staff     109\n",
              "Low-skill Laborers         61\n",
              "Waiters/barmen staff       47\n",
              "Secretaries                42\n",
              "Realty agents              33\n",
              "HR staff                   31\n",
              "IT staff                   28\n",
              "Name: occupation_type, dtype: int64"
            ]
          },
          "metadata": {},
          "execution_count": 323
        }
      ]
    },
    {
      "cell_type": "markdown",
      "source": [
        "Occupation would be a good indicator of financial condition but a large number of rows have 'Unknown' occupation type which is equivalent to a missing value.  \n",
        "We can inspect the occupation types with respect to approximate wage ranges."
      ],
      "metadata": {
        "id": "CAQhpBPP-oJW"
      }
    },
    {
      "cell_type": "code",
      "source": [
        "train.groupby('occupation_type')['net_yearly_income'].mean()"
      ],
      "metadata": {
        "colab": {
          "base_uri": "https://localhost:8080/"
        },
        "id": "jSZff3-DDkSU",
        "outputId": "e7da849b-cd1f-455f-cf66-bca17429a221"
      },
      "execution_count": 324,
      "outputs": [
        {
          "output_type": "execute_result",
          "data": {
            "text/plain": [
              "occupation_type\n",
              "Accountants              227558.220685\n",
              "Cleaning staff           153311.125910\n",
              "Cooking staff            161399.980067\n",
              "Core staff               201782.150532\n",
              "Drivers                  220685.711882\n",
              "HR staff                 207091.117179\n",
              "High skill tech staff    215390.740898\n",
              "IT staff                 257120.273788\n",
              "Laborers                 209513.962160\n",
              "Low-skill Laborers       156102.234732\n",
              "Managers                 310594.313352\n",
              "Medicine staff           174967.629867\n",
              "Private service staff    201407.135323\n",
              "Realty agents            233897.464950\n",
              "Sales staff              180052.438874\n",
              "Secretaries              188785.666281\n",
              "Security staff           176878.204761\n",
              "Unknown                  179121.539234\n",
              "Waiters/barmen staff     172876.091034\n",
              "Name: net_yearly_income, dtype: float64"
            ]
          },
          "metadata": {},
          "execution_count": 324
        }
      ]
    },
    {
      "cell_type": "code",
      "source": [
        "train.groupby('occupation_type')['net_yearly_income'].median()"
      ],
      "metadata": {
        "colab": {
          "base_uri": "https://localhost:8080/"
        },
        "id": "pZhBopZcEOfc",
        "outputId": "43c13bc7-2ef0-42f5-a50b-734a42b7a817"
      },
      "execution_count": 325,
      "outputs": [
        {
          "output_type": "execute_result",
          "data": {
            "text/plain": [
              "occupation_type\n",
              "Accountants              200804.385\n",
              "Cleaning staff           142812.510\n",
              "Cooking staff            145715.030\n",
              "Core staff               175860.180\n",
              "Drivers                  201726.440\n",
              "HR staff                 174600.950\n",
              "High skill tech staff    194482.880\n",
              "IT staff                 218547.855\n",
              "Laborers                 173820.165\n",
              "Low-skill Laborers       144495.020\n",
              "Managers                 264515.505\n",
              "Medicine staff           156995.880\n",
              "Private service staff    186662.010\n",
              "Realty agents            219751.400\n",
              "Sales staff              160891.200\n",
              "Secretaries              157299.680\n",
              "Security staff           161410.230\n",
              "Unknown                  155722.200\n",
              "Waiters/barmen staff     162132.290\n",
              "Name: net_yearly_income, dtype: float64"
            ]
          },
          "metadata": {},
          "execution_count": 325
        }
      ]
    },
    {
      "cell_type": "code",
      "source": [
        "train.groupby('occupation_type')['net_yearly_income'].max()"
      ],
      "metadata": {
        "colab": {
          "base_uri": "https://localhost:8080/"
        },
        "id": "-tBVYc38F523",
        "outputId": "149ca85c-e0e0-47a9-97a0-4d4589bb95f4"
      },
      "execution_count": 326,
      "outputs": [
        {
          "output_type": "execute_result",
          "data": {
            "text/plain": [
              "occupation_type\n",
              "Accountants              1.741728e+06\n",
              "Cleaning staff           5.699828e+05\n",
              "Cooking staff            5.730429e+05\n",
              "Core staff               9.715007e+05\n",
              "Drivers                  1.094072e+06\n",
              "HR staff                 7.483401e+05\n",
              "High skill tech staff    1.051419e+06\n",
              "IT staff                 7.729470e+05\n",
              "Laborers                 1.407590e+08\n",
              "Low-skill Laborers       3.905110e+05\n",
              "Managers                 4.193102e+06\n",
              "Medicine staff           8.787693e+05\n",
              "Private service staff    7.134551e+05\n",
              "Realty agents            7.641776e+05\n",
              "Sales staff              1.208733e+06\n",
              "Secretaries              2.217661e+06\n",
              "Security staff           7.211469e+05\n",
              "Unknown                  4.433825e+06\n",
              "Waiters/barmen staff     4.405347e+05\n",
              "Name: net_yearly_income, dtype: float64"
            ]
          },
          "metadata": {},
          "execution_count": 326
        }
      ]
    },
    {
      "cell_type": "markdown",
      "source": [
        "The mean and median incomes of the different occupation types do not exactly conform with real-world wage differences. For instance, 'High skill tech staff' (around 190K USD) would not have lesser income than 'Drivers' (around 200K USD). The mean could be higher because of outliers but the median shows the same trend.  \n",
        "Thus, we have to consider removing either *occupation_type* or *net_yearly_income* as they tell contrasting stories."
      ],
      "metadata": {
        "id": "gFsfeBP5FpO7"
      }
    },
    {
      "cell_type": "code",
      "source": [
        "train['occupation_type'] = train.occupation_type.astype('category').cat.codes\n",
        "test['occupation_type'] = test.occupation_type.astype('category').cat.codes"
      ],
      "metadata": {
        "id": "Lj4HqjTGCS1d"
      },
      "execution_count": 327,
      "outputs": []
    },
    {
      "cell_type": "markdown",
      "source": [
        "### migrant_worker"
      ],
      "metadata": {
        "id": "8lDjynpmJaAx"
      }
    },
    {
      "cell_type": "code",
      "source": [
        "train.migrant_worker.nunique(), test.migrant_worker.nunique()"
      ],
      "metadata": {
        "colab": {
          "base_uri": "https://localhost:8080/"
        },
        "id": "ECLnmgqXJfOx",
        "outputId": "4fcb64fd-c508-41f6-8804-c7acba44583b"
      },
      "execution_count": 328,
      "outputs": [
        {
          "output_type": "execute_result",
          "data": {
            "text/plain": [
              "(2, 2)"
            ]
          },
          "metadata": {},
          "execution_count": 328
        }
      ]
    },
    {
      "cell_type": "code",
      "source": [
        "train.migrant_worker.unique(), test.migrant_worker.unique()"
      ],
      "metadata": {
        "colab": {
          "base_uri": "https://localhost:8080/"
        },
        "id": "Mvi0maeFJnn6",
        "outputId": "7c407e59-34ce-4a9b-97bf-c4240e9b84ef"
      },
      "execution_count": 329,
      "outputs": [
        {
          "output_type": "execute_result",
          "data": {
            "text/plain": [
              "(array([ 1.,  0., nan]), array([ 0.,  1., nan]))"
            ]
          },
          "metadata": {},
          "execution_count": 329
        }
      ]
    },
    {
      "cell_type": "markdown",
      "source": [
        "1->yes, 0->no"
      ],
      "metadata": {
        "id": "7MNxbA4jLAFp"
      }
    },
    {
      "cell_type": "code",
      "source": [
        "train.migrant_worker.isna().sum(), test.migrant_worker.isna().sum()"
      ],
      "metadata": {
        "colab": {
          "base_uri": "https://localhost:8080/"
        },
        "id": "WHCCEOgfJ1Rk",
        "outputId": "1baf775c-a619-4b85-d04f-cc2268f16aba"
      },
      "execution_count": 330,
      "outputs": [
        {
          "output_type": "execute_result",
          "data": {
            "text/plain": [
              "(87, 26)"
            ]
          },
          "metadata": {},
          "execution_count": 330
        }
      ]
    },
    {
      "cell_type": "code",
      "source": [
        "train.migrant_worker.value_counts()"
      ],
      "metadata": {
        "colab": {
          "base_uri": "https://localhost:8080/"
        },
        "id": "Es5YDVJcKmgP",
        "outputId": "3b280c85-ab29-467a-8912-5b50fc0c9a54"
      },
      "execution_count": 331,
      "outputs": [
        {
          "output_type": "execute_result",
          "data": {
            "text/plain": [
              "0.0    37302\n",
              "1.0     8139\n",
              "Name: migrant_worker, dtype: int64"
            ]
          },
          "metadata": {},
          "execution_count": 331
        }
      ]
    },
    {
      "cell_type": "markdown",
      "source": [
        "We will consider missing values as not a migrant worker."
      ],
      "metadata": {
        "id": "aYc2UxirJ-26"
      }
    },
    {
      "cell_type": "code",
      "source": [
        "train.migrant_worker.fillna(0, inplace=True)\n",
        "test.migrant_worker.fillna(0, inplace=True)"
      ],
      "metadata": {
        "id": "CaMB_EFXKJc8"
      },
      "execution_count": 332,
      "outputs": []
    },
    {
      "cell_type": "code",
      "source": [
        "train['migrant_worker'] = train.migrant_worker.astype('int8')\n",
        "test['migrant_worker'] = test.migrant_worker.astype('int8')"
      ],
      "metadata": {
        "id": "tztA9S_7KTFf"
      },
      "execution_count": 333,
      "outputs": []
    },
    {
      "cell_type": "markdown",
      "source": [
        "### default_in_last_6months"
      ],
      "metadata": {
        "id": "PcifpNiRKfdX"
      }
    },
    {
      "cell_type": "code",
      "source": [
        "train.default_in_last_6months.nunique(), test.default_in_last_6months.nunique()"
      ],
      "metadata": {
        "colab": {
          "base_uri": "https://localhost:8080/"
        },
        "id": "93G191F1KxaO",
        "outputId": "e784dedd-59ae-40bc-a992-4d2448dabe1b"
      },
      "execution_count": 334,
      "outputs": [
        {
          "output_type": "execute_result",
          "data": {
            "text/plain": [
              "(2, 2)"
            ]
          },
          "metadata": {},
          "execution_count": 334
        }
      ]
    },
    {
      "cell_type": "code",
      "source": [
        "train.default_in_last_6months.unique(), test.default_in_last_6months.unique()"
      ],
      "metadata": {
        "colab": {
          "base_uri": "https://localhost:8080/"
        },
        "id": "jkh0vdxWK4K9",
        "outputId": "6550cd70-db97-4b64-f979-029e617220cd"
      },
      "execution_count": 335,
      "outputs": [
        {
          "output_type": "execute_result",
          "data": {
            "text/plain": [
              "(array([1, 0]), array([0, 1]))"
            ]
          },
          "metadata": {},
          "execution_count": 335
        }
      ]
    },
    {
      "cell_type": "markdown",
      "source": [
        "1->yes, 0->no"
      ],
      "metadata": {
        "id": "pBe4dz8mLET-"
      }
    },
    {
      "cell_type": "code",
      "source": [
        "train.default_in_last_6months.value_counts()"
      ],
      "metadata": {
        "colab": {
          "base_uri": "https://localhost:8080/"
        },
        "id": "_Ii6JpaELGq_",
        "outputId": "a0ad9433-b04d-49ff-d5fc-91235cacd89d"
      },
      "execution_count": 336,
      "outputs": [
        {
          "output_type": "execute_result",
          "data": {
            "text/plain": [
              "0    43227\n",
              "1     2301\n",
              "Name: default_in_last_6months, dtype: int64"
            ]
          },
          "metadata": {},
          "execution_count": 336
        }
      ]
    },
    {
      "cell_type": "code",
      "source": [
        "test.default_in_last_6months.value_counts()"
      ],
      "metadata": {
        "colab": {
          "base_uri": "https://localhost:8080/"
        },
        "id": "T_qUN6uxLL6H",
        "outputId": "efdc9e00-2a6b-433f-e2cc-91b1ab404763"
      },
      "execution_count": 337,
      "outputs": [
        {
          "output_type": "execute_result",
          "data": {
            "text/plain": [
              "0    10829\n",
              "1      554\n",
              "Name: default_in_last_6months, dtype: int64"
            ]
          },
          "metadata": {},
          "execution_count": 337
        }
      ]
    },
    {
      "cell_type": "code",
      "source": [
        "train['default_in_last_6months'] = train.default_in_last_6months.astype('int8')\n",
        "test['default_in_last_6months'] = test.default_in_last_6months.astype('int8')"
      ],
      "metadata": {
        "id": "8TWgUAoaLRS5"
      },
      "execution_count": 338,
      "outputs": []
    },
    {
      "cell_type": "markdown",
      "source": [
        "### Processed categorical features"
      ],
      "metadata": {
        "id": "ePIDqnv4LeWv"
      }
    },
    {
      "cell_type": "code",
      "source": [
        "train[cat_features].head()"
      ],
      "metadata": {
        "colab": {
          "base_uri": "https://localhost:8080/",
          "height": 0
        },
        "id": "8WJqc0zwLlPl",
        "outputId": "bf781ccc-dfb2-4a0c-ec46-d36d2bc6585a"
      },
      "execution_count": 339,
      "outputs": [
        {
          "output_type": "execute_result",
          "data": {
            "text/html": [
              "<div>\n",
              "<style scoped>\n",
              "    .dataframe tbody tr th:only-of-type {\n",
              "        vertical-align: middle;\n",
              "    }\n",
              "\n",
              "    .dataframe tbody tr th {\n",
              "        vertical-align: top;\n",
              "    }\n",
              "\n",
              "    .dataframe thead th {\n",
              "        text-align: right;\n",
              "    }\n",
              "</style>\n",
              "<table border=\"1\" class=\"dataframe\">\n",
              "  <thead>\n",
              "    <tr style=\"text-align: right;\">\n",
              "      <th></th>\n",
              "      <th>gender</th>\n",
              "      <th>owns_car</th>\n",
              "      <th>owns_house</th>\n",
              "      <th>occupation_type</th>\n",
              "      <th>migrant_worker</th>\n",
              "      <th>default_in_last_6months</th>\n",
              "    </tr>\n",
              "  </thead>\n",
              "  <tbody>\n",
              "    <tr>\n",
              "      <th>0</th>\n",
              "      <td>0</td>\n",
              "      <td>0</td>\n",
              "      <td>1</td>\n",
              "      <td>17</td>\n",
              "      <td>1</td>\n",
              "      <td>1</td>\n",
              "    </tr>\n",
              "    <tr>\n",
              "      <th>1</th>\n",
              "      <td>1</td>\n",
              "      <td>0</td>\n",
              "      <td>1</td>\n",
              "      <td>8</td>\n",
              "      <td>0</td>\n",
              "      <td>0</td>\n",
              "    </tr>\n",
              "    <tr>\n",
              "      <th>2</th>\n",
              "      <td>1</td>\n",
              "      <td>0</td>\n",
              "      <td>1</td>\n",
              "      <td>8</td>\n",
              "      <td>0</td>\n",
              "      <td>0</td>\n",
              "    </tr>\n",
              "    <tr>\n",
              "      <th>3</th>\n",
              "      <td>0</td>\n",
              "      <td>0</td>\n",
              "      <td>1</td>\n",
              "      <td>3</td>\n",
              "      <td>0</td>\n",
              "      <td>0</td>\n",
              "    </tr>\n",
              "    <tr>\n",
              "      <th>4</th>\n",
              "      <td>1</td>\n",
              "      <td>1</td>\n",
              "      <td>1</td>\n",
              "      <td>3</td>\n",
              "      <td>0</td>\n",
              "      <td>0</td>\n",
              "    </tr>\n",
              "  </tbody>\n",
              "</table>\n",
              "</div>"
            ],
            "text/plain": [
              "   gender  owns_car  ...  migrant_worker  default_in_last_6months\n",
              "0       0         0  ...               1                        1\n",
              "1       1         0  ...               0                        0\n",
              "2       1         0  ...               0                        0\n",
              "3       0         0  ...               0                        0\n",
              "4       1         1  ...               0                        0\n",
              "\n",
              "[5 rows x 6 columns]"
            ]
          },
          "metadata": {},
          "execution_count": 339
        }
      ]
    },
    {
      "cell_type": "code",
      "source": [
        "train[cat_features].info()"
      ],
      "metadata": {
        "colab": {
          "base_uri": "https://localhost:8080/"
        },
        "id": "zXgrmKSkLssI",
        "outputId": "12fe9218-d68a-44b3-a9ae-7256b3c08be9"
      },
      "execution_count": 340,
      "outputs": [
        {
          "output_type": "stream",
          "name": "stdout",
          "text": [
            "<class 'pandas.core.frame.DataFrame'>\n",
            "RangeIndex: 45528 entries, 0 to 45527\n",
            "Data columns (total 6 columns):\n",
            " #   Column                   Non-Null Count  Dtype\n",
            "---  ------                   --------------  -----\n",
            " 0   gender                   45528 non-null  int8 \n",
            " 1   owns_car                 45528 non-null  int8 \n",
            " 2   owns_house               45528 non-null  int8 \n",
            " 3   occupation_type          45528 non-null  int8 \n",
            " 4   migrant_worker           45528 non-null  int8 \n",
            " 5   default_in_last_6months  45528 non-null  int8 \n",
            "dtypes: int8(6)\n",
            "memory usage: 266.9 KB\n"
          ]
        }
      ]
    },
    {
      "cell_type": "code",
      "source": [
        "train[cat_features + ['credit_card_default']].corr()"
      ],
      "metadata": {
        "colab": {
          "base_uri": "https://localhost:8080/",
          "height": 0
        },
        "id": "8-j1t0IaMsHU",
        "outputId": "2bbcb54f-3988-4a9b-fd61-3d953cdd71fa"
      },
      "execution_count": 341,
      "outputs": [
        {
          "output_type": "execute_result",
          "data": {
            "text/html": [
              "<div>\n",
              "<style scoped>\n",
              "    .dataframe tbody tr th:only-of-type {\n",
              "        vertical-align: middle;\n",
              "    }\n",
              "\n",
              "    .dataframe tbody tr th {\n",
              "        vertical-align: top;\n",
              "    }\n",
              "\n",
              "    .dataframe thead th {\n",
              "        text-align: right;\n",
              "    }\n",
              "</style>\n",
              "<table border=\"1\" class=\"dataframe\">\n",
              "  <thead>\n",
              "    <tr style=\"text-align: right;\">\n",
              "      <th></th>\n",
              "      <th>gender</th>\n",
              "      <th>owns_car</th>\n",
              "      <th>owns_house</th>\n",
              "      <th>occupation_type</th>\n",
              "      <th>migrant_worker</th>\n",
              "      <th>default_in_last_6months</th>\n",
              "      <th>credit_card_default</th>\n",
              "    </tr>\n",
              "  </thead>\n",
              "  <tbody>\n",
              "    <tr>\n",
              "      <th>gender</th>\n",
              "      <td>1.000000</td>\n",
              "      <td>0.342805</td>\n",
              "      <td>-0.041786</td>\n",
              "      <td>-0.129527</td>\n",
              "      <td>0.134868</td>\n",
              "      <td>0.045858</td>\n",
              "      <td>0.057544</td>\n",
              "    </tr>\n",
              "    <tr>\n",
              "      <th>owns_car</th>\n",
              "      <td>0.342805</td>\n",
              "      <td>1.000000</td>\n",
              "      <td>0.005821</td>\n",
              "      <td>-0.116833</td>\n",
              "      <td>0.094016</td>\n",
              "      <td>-0.015965</td>\n",
              "      <td>-0.017104</td>\n",
              "    </tr>\n",
              "    <tr>\n",
              "      <th>owns_house</th>\n",
              "      <td>-0.041786</td>\n",
              "      <td>0.005821</td>\n",
              "      <td>1.000000</td>\n",
              "      <td>0.035635</td>\n",
              "      <td>-0.025227</td>\n",
              "      <td>-0.002221</td>\n",
              "      <td>-0.002693</td>\n",
              "    </tr>\n",
              "    <tr>\n",
              "      <th>occupation_type</th>\n",
              "      <td>-0.129527</td>\n",
              "      <td>-0.116833</td>\n",
              "      <td>0.035635</td>\n",
              "      <td>1.000000</td>\n",
              "      <td>-0.111448</td>\n",
              "      <td>-0.011574</td>\n",
              "      <td>-0.021439</td>\n",
              "    </tr>\n",
              "    <tr>\n",
              "      <th>migrant_worker</th>\n",
              "      <td>0.134868</td>\n",
              "      <td>0.094016</td>\n",
              "      <td>-0.025227</td>\n",
              "      <td>-0.111448</td>\n",
              "      <td>1.000000</td>\n",
              "      <td>0.030003</td>\n",
              "      <td>0.034018</td>\n",
              "    </tr>\n",
              "    <tr>\n",
              "      <th>default_in_last_6months</th>\n",
              "      <td>0.045858</td>\n",
              "      <td>-0.015965</td>\n",
              "      <td>-0.002221</td>\n",
              "      <td>-0.011574</td>\n",
              "      <td>0.030003</td>\n",
              "      <td>1.000000</td>\n",
              "      <td>0.776078</td>\n",
              "    </tr>\n",
              "    <tr>\n",
              "      <th>credit_card_default</th>\n",
              "      <td>0.057544</td>\n",
              "      <td>-0.017104</td>\n",
              "      <td>-0.002693</td>\n",
              "      <td>-0.021439</td>\n",
              "      <td>0.034018</td>\n",
              "      <td>0.776078</td>\n",
              "      <td>1.000000</td>\n",
              "    </tr>\n",
              "  </tbody>\n",
              "</table>\n",
              "</div>"
            ],
            "text/plain": [
              "                           gender  ...  credit_card_default\n",
              "gender                   1.000000  ...             0.057544\n",
              "owns_car                 0.342805  ...            -0.017104\n",
              "owns_house              -0.041786  ...            -0.002693\n",
              "occupation_type         -0.129527  ...            -0.021439\n",
              "migrant_worker           0.134868  ...             0.034018\n",
              "default_in_last_6months  0.045858  ...             0.776078\n",
              "credit_card_default      0.057544  ...             1.000000\n",
              "\n",
              "[7 rows x 7 columns]"
            ]
          },
          "metadata": {},
          "execution_count": 341
        }
      ]
    },
    {
      "cell_type": "markdown",
      "source": [
        "We can see that *default_in_last_6months* is highly indicative of *credit_card_default*"
      ],
      "metadata": {
        "id": "MU4t4s33NB7b"
      }
    },
    {
      "cell_type": "markdown",
      "source": [
        "# Target: credit_card_default"
      ],
      "metadata": {
        "id": "0cGfGlDArkyC"
      }
    },
    {
      "cell_type": "code",
      "source": [
        "train.credit_card_default.value_counts()"
      ],
      "metadata": {
        "colab": {
          "base_uri": "https://localhost:8080/"
        },
        "id": "U4Elz2h8rptK",
        "outputId": "cb509af7-6f6d-4d0f-8782-9b07babac25b"
      },
      "execution_count": 342,
      "outputs": [
        {
          "output_type": "execute_result",
          "data": {
            "text/plain": [
              "0    41831\n",
              "1     3697\n",
              "Name: credit_card_default, dtype: int64"
            ]
          },
          "metadata": {},
          "execution_count": 342
        }
      ]
    },
    {
      "cell_type": "code",
      "source": [
        "train['credit_card_default'] = train.credit_card_default.astype('int8')"
      ],
      "metadata": {
        "id": "zn-1Lbeots7_"
      },
      "execution_count": 343,
      "outputs": []
    },
    {
      "cell_type": "markdown",
      "source": [
        "# Numerical features"
      ],
      "metadata": {
        "id": "iMbne_ZtIjC-"
      }
    },
    {
      "cell_type": "markdown",
      "source": [
        "### Overview"
      ],
      "metadata": {
        "id": "zVWfR-Z9-Heu"
      }
    },
    {
      "cell_type": "code",
      "source": [
        "num_features = [f for f in test.columns if f not in (cat_features + ['customer_id', 'name'])]"
      ],
      "metadata": {
        "id": "Dq0wBlHNI1Vn"
      },
      "execution_count": 344,
      "outputs": []
    },
    {
      "cell_type": "code",
      "source": [
        "train[num_features].describe()"
      ],
      "metadata": {
        "colab": {
          "base_uri": "https://localhost:8080/",
          "height": 0
        },
        "id": "UaP3q63I8gqi",
        "outputId": "075db5cd-2e1c-4f4c-bba6-dbfd7da21985"
      },
      "execution_count": 345,
      "outputs": [
        {
          "output_type": "execute_result",
          "data": {
            "text/html": [
              "<div>\n",
              "<style scoped>\n",
              "    .dataframe tbody tr th:only-of-type {\n",
              "        vertical-align: middle;\n",
              "    }\n",
              "\n",
              "    .dataframe tbody tr th {\n",
              "        vertical-align: top;\n",
              "    }\n",
              "\n",
              "    .dataframe thead th {\n",
              "        text-align: right;\n",
              "    }\n",
              "</style>\n",
              "<table border=\"1\" class=\"dataframe\">\n",
              "  <thead>\n",
              "    <tr style=\"text-align: right;\">\n",
              "      <th></th>\n",
              "      <th>age</th>\n",
              "      <th>no_of_children</th>\n",
              "      <th>net_yearly_income</th>\n",
              "      <th>no_of_days_employed</th>\n",
              "      <th>total_family_members</th>\n",
              "      <th>yearly_debt_payments</th>\n",
              "      <th>credit_limit</th>\n",
              "      <th>credit_limit_used(%)</th>\n",
              "      <th>credit_score</th>\n",
              "      <th>prev_defaults</th>\n",
              "    </tr>\n",
              "  </thead>\n",
              "  <tbody>\n",
              "    <tr>\n",
              "      <th>count</th>\n",
              "      <td>45528.000000</td>\n",
              "      <td>44754.000000</td>\n",
              "      <td>4.552800e+04</td>\n",
              "      <td>45065.000000</td>\n",
              "      <td>45445.000000</td>\n",
              "      <td>45433.000000</td>\n",
              "      <td>4.552800e+04</td>\n",
              "      <td>45528.00000</td>\n",
              "      <td>45520.000000</td>\n",
              "      <td>45528.000000</td>\n",
              "    </tr>\n",
              "    <tr>\n",
              "      <th>mean</th>\n",
              "      <td>38.993411</td>\n",
              "      <td>0.420655</td>\n",
              "      <td>2.006556e+05</td>\n",
              "      <td>67609.289293</td>\n",
              "      <td>2.158081</td>\n",
              "      <td>31796.965311</td>\n",
              "      <td>4.354842e+04</td>\n",
              "      <td>52.23502</td>\n",
              "      <td>782.791257</td>\n",
              "      <td>0.060710</td>\n",
              "    </tr>\n",
              "    <tr>\n",
              "      <th>std</th>\n",
              "      <td>9.543990</td>\n",
              "      <td>0.724097</td>\n",
              "      <td>6.690740e+05</td>\n",
              "      <td>139323.524434</td>\n",
              "      <td>0.911572</td>\n",
              "      <td>17269.727234</td>\n",
              "      <td>1.487847e+05</td>\n",
              "      <td>29.37691</td>\n",
              "      <td>100.619746</td>\n",
              "      <td>0.264629</td>\n",
              "    </tr>\n",
              "    <tr>\n",
              "      <th>min</th>\n",
              "      <td>23.000000</td>\n",
              "      <td>0.000000</td>\n",
              "      <td>2.717061e+04</td>\n",
              "      <td>2.000000</td>\n",
              "      <td>1.000000</td>\n",
              "      <td>2237.470000</td>\n",
              "      <td>4.003140e+03</td>\n",
              "      <td>0.00000</td>\n",
              "      <td>500.000000</td>\n",
              "      <td>0.000000</td>\n",
              "    </tr>\n",
              "    <tr>\n",
              "      <th>25%</th>\n",
              "      <td>31.000000</td>\n",
              "      <td>0.000000</td>\n",
              "      <td>1.263458e+05</td>\n",
              "      <td>936.000000</td>\n",
              "      <td>2.000000</td>\n",
              "      <td>19231.140000</td>\n",
              "      <td>2.397381e+04</td>\n",
              "      <td>27.00000</td>\n",
              "      <td>704.000000</td>\n",
              "      <td>0.000000</td>\n",
              "    </tr>\n",
              "    <tr>\n",
              "      <th>50%</th>\n",
              "      <td>39.000000</td>\n",
              "      <td>0.000000</td>\n",
              "      <td>1.717149e+05</td>\n",
              "      <td>2224.000000</td>\n",
              "      <td>2.000000</td>\n",
              "      <td>29081.650000</td>\n",
              "      <td>3.568804e+04</td>\n",
              "      <td>54.00000</td>\n",
              "      <td>786.000000</td>\n",
              "      <td>0.000000</td>\n",
              "    </tr>\n",
              "    <tr>\n",
              "      <th>75%</th>\n",
              "      <td>47.000000</td>\n",
              "      <td>1.000000</td>\n",
              "      <td>2.406038e+05</td>\n",
              "      <td>5817.000000</td>\n",
              "      <td>3.000000</td>\n",
              "      <td>40561.150000</td>\n",
              "      <td>5.343576e+04</td>\n",
              "      <td>78.00000</td>\n",
              "      <td>867.000000</td>\n",
              "      <td>0.000000</td>\n",
              "    </tr>\n",
              "    <tr>\n",
              "      <th>max</th>\n",
              "      <td>55.000000</td>\n",
              "      <td>9.000000</td>\n",
              "      <td>1.407590e+08</td>\n",
              "      <td>365252.000000</td>\n",
              "      <td>10.000000</td>\n",
              "      <td>328112.860000</td>\n",
              "      <td>3.112997e+07</td>\n",
              "      <td>99.00000</td>\n",
              "      <td>949.000000</td>\n",
              "      <td>2.000000</td>\n",
              "    </tr>\n",
              "  </tbody>\n",
              "</table>\n",
              "</div>"
            ],
            "text/plain": [
              "                age  no_of_children  ...  credit_score  prev_defaults\n",
              "count  45528.000000    44754.000000  ...  45520.000000   45528.000000\n",
              "mean      38.993411        0.420655  ...    782.791257       0.060710\n",
              "std        9.543990        0.724097  ...    100.619746       0.264629\n",
              "min       23.000000        0.000000  ...    500.000000       0.000000\n",
              "25%       31.000000        0.000000  ...    704.000000       0.000000\n",
              "50%       39.000000        0.000000  ...    786.000000       0.000000\n",
              "75%       47.000000        1.000000  ...    867.000000       0.000000\n",
              "max       55.000000        9.000000  ...    949.000000       2.000000\n",
              "\n",
              "[8 rows x 10 columns]"
            ]
          },
          "metadata": {},
          "execution_count": 345
        }
      ]
    },
    {
      "cell_type": "code",
      "source": [
        "train[num_features].isna().sum()"
      ],
      "metadata": {
        "colab": {
          "base_uri": "https://localhost:8080/"
        },
        "id": "vS4gkm_F82RM",
        "outputId": "e3018db5-1688-4436-b4d1-62d8d2fb47bb"
      },
      "execution_count": 346,
      "outputs": [
        {
          "output_type": "execute_result",
          "data": {
            "text/plain": [
              "age                       0\n",
              "no_of_children          774\n",
              "net_yearly_income         0\n",
              "no_of_days_employed     463\n",
              "total_family_members     83\n",
              "yearly_debt_payments     95\n",
              "credit_limit              0\n",
              "credit_limit_used(%)      0\n",
              "credit_score              8\n",
              "prev_defaults             0\n",
              "dtype: int64"
            ]
          },
          "metadata": {},
          "execution_count": 346
        }
      ]
    },
    {
      "cell_type": "code",
      "source": [
        "test[num_features].isna().sum()"
      ],
      "metadata": {
        "colab": {
          "base_uri": "https://localhost:8080/"
        },
        "id": "SqU8Ftv39Gds",
        "outputId": "73811108-2b71-4431-81ed-38c0e19397db"
      },
      "execution_count": 347,
      "outputs": [
        {
          "output_type": "execute_result",
          "data": {
            "text/plain": [
              "age                       0\n",
              "no_of_children          190\n",
              "net_yearly_income         0\n",
              "no_of_days_employed     105\n",
              "total_family_members     31\n",
              "yearly_debt_payments     22\n",
              "credit_limit              0\n",
              "credit_limit_used(%)      0\n",
              "credit_score              3\n",
              "prev_defaults             0\n",
              "dtype: int64"
            ]
          },
          "metadata": {},
          "execution_count": 347
        }
      ]
    },
    {
      "cell_type": "markdown",
      "source": [
        "### age"
      ],
      "metadata": {
        "id": "dW634ut_uKkP"
      }
    },
    {
      "cell_type": "code",
      "source": [
        "train.age.nunique(), test.age.nunique()"
      ],
      "metadata": {
        "colab": {
          "base_uri": "https://localhost:8080/"
        },
        "id": "FU11XaQzuJo9",
        "outputId": "1fa1c1b2-9ded-4120-e154-767669a26516"
      },
      "execution_count": 348,
      "outputs": [
        {
          "output_type": "execute_result",
          "data": {
            "text/plain": [
              "(33, 33)"
            ]
          },
          "metadata": {},
          "execution_count": 348
        }
      ]
    },
    {
      "cell_type": "code",
      "source": [
        "sns.kdeplot(train.age)"
      ],
      "metadata": {
        "colab": {
          "base_uri": "https://localhost:8080/",
          "height": 0
        },
        "id": "AnH3mDOYuZO0",
        "outputId": "837b7eb6-e72c-479d-de4f-acffb3592dde"
      },
      "execution_count": 349,
      "outputs": [
        {
          "output_type": "execute_result",
          "data": {
            "text/plain": [
              "<matplotlib.axes._subplots.AxesSubplot at 0x7f61d9784f10>"
            ]
          },
          "metadata": {},
          "execution_count": 349
        },
        {
          "output_type": "display_data",
          "data": {
            "image/png": "[encoded data removed]",
            "text/plain": [
              "<Figure size 432x288 with 1 Axes>"
            ]
          },
          "metadata": {
            "needs_background": "light"
          }
        }
      ]
    },
    {
      "cell_type": "code",
      "source": [
        "plt.figure(figsize=(15,5))\n",
        "sns.countplot(x='age', data=train)"
      ],
      "metadata": {
        "colab": {
          "base_uri": "https://localhost:8080/",
          "height": 0
        },
        "id": "9hW0JYnWupJZ",
        "outputId": "babfc468-b195-441d-c41d-f68795b7b2eb"
      },
      "execution_count": 350,
      "outputs": [
        {
          "output_type": "execute_result",
          "data": {
            "text/plain": [
              "<matplotlib.axes._subplots.AxesSubplot at 0x7f61d977ef10>"
            ]
          },
          "metadata": {},
          "execution_count": 350
        },
        {
          "output_type": "display_data",
          "data": {
            "image/png": "[encoded data removed]",
            "text/plain": [
              "<Figure size 1080x360 with 1 Axes>"
            ]
          },
          "metadata": {
            "needs_background": "light"
          }
        }
      ]
    },
    {
      "cell_type": "code",
      "source": [
        "plt.figure(figsize=(15,5))\n",
        "sns.countplot(x='age', data=test)"
      ],
      "metadata": {
        "colab": {
          "base_uri": "https://localhost:8080/",
          "height": 0
        },
        "id": "D-xKnkrRu5cF",
        "outputId": "f532aa04-2674-4179-979c-88330099b112"
      },
      "execution_count": 351,
      "outputs": [
        {
          "output_type": "execute_result",
          "data": {
            "text/plain": [
              "<matplotlib.axes._subplots.AxesSubplot at 0x7f61d9777fd0>"
            ]
          },
          "metadata": {},
          "execution_count": 351
        },
        {
          "output_type": "display_data",
          "data": {
            "image/png": "[encoded data removed]",
            "text/plain": [
              "<Figure size 1080x360 with 1 Axes>"
            ]
          },
          "metadata": {
            "needs_background": "light"
          }
        }
      ]
    },
    {
      "cell_type": "markdown",
      "source": [
        "Similar distributions and same values of *age* in train and test."
      ],
      "metadata": {
        "id": "XvhNYi8KvB0y"
      }
    },
    {
      "cell_type": "code",
      "source": [
        "plt.figure(figsize=(15,5))\n",
        "sns.countplot(x='age', data=train, hue='credit_card_default')"
      ],
      "metadata": {
        "colab": {
          "base_uri": "https://localhost:8080/",
          "height": 0
        },
        "id": "Z099fzF9vKRn",
        "outputId": "97a476b2-219e-4658-e52d-c4fa7a4a32ab"
      },
      "execution_count": 352,
      "outputs": [
        {
          "output_type": "execute_result",
          "data": {
            "text/plain": [
              "<matplotlib.axes._subplots.AxesSubplot at 0x7f61d95e1d90>"
            ]
          },
          "metadata": {},
          "execution_count": 352
        },
        {
          "output_type": "display_data",
          "data": {
            "image/png": "[encoded data removed]",
            "text/plain": [
              "<Figure size 1080x360 with 1 Axes>"
            ]
          },
          "metadata": {
            "needs_background": "light"
          }
        }
      ]
    },
    {
      "cell_type": "markdown",
      "source": [
        "Looks like we have a very even distribution of defaulters for all ages. The *age* column will not be very informative."
      ],
      "metadata": {
        "id": "w4QVxvOxvb4G"
      }
    },
    {
      "cell_type": "code",
      "source": [
        "train['age'] = train.age.astype('int8')\n",
        "test['age'] = test.age.astype('int8')"
      ],
      "metadata": {
        "id": "emzWRg4SRgaq"
      },
      "execution_count": 353,
      "outputs": []
    },
    {
      "cell_type": "markdown",
      "source": [
        "### no_of_children"
      ],
      "metadata": {
        "id": "aB7sjcRgvvrn"
      }
    },
    {
      "cell_type": "code",
      "source": [
        "train.no_of_children.value_counts()"
      ],
      "metadata": {
        "colab": {
          "base_uri": "https://localhost:8080/"
        },
        "id": "jugjPZYpv2JI",
        "outputId": "1f221496-4624-4f73-813b-a7bb1271373c"
      },
      "execution_count": 354,
      "outputs": [
        {
          "output_type": "execute_result",
          "data": {
            "text/plain": [
              "0.0    31241\n",
              "1.0     8985\n",
              "2.0     3862\n",
              "3.0      584\n",
              "4.0       60\n",
              "5.0       13\n",
              "6.0        6\n",
              "7.0        1\n",
              "9.0        1\n",
              "8.0        1\n",
              "Name: no_of_children, dtype: int64"
            ]
          },
          "metadata": {},
          "execution_count": 354
        }
      ]
    },
    {
      "cell_type": "code",
      "source": [
        "test.no_of_children.value_counts()"
      ],
      "metadata": {
        "colab": {
          "base_uri": "https://localhost:8080/"
        },
        "id": "LFyAiSXBv8qP",
        "outputId": "f62d6f82-388a-4b47-e522-6abbc2538cb0"
      },
      "execution_count": 355,
      "outputs": [
        {
          "output_type": "execute_result",
          "data": {
            "text/plain": [
              "0.0     7825\n",
              "1.0     2248\n",
              "2.0      957\n",
              "3.0      138\n",
              "4.0       19\n",
              "5.0        4\n",
              "11.0       1\n",
              "7.0        1\n",
              "Name: no_of_children, dtype: int64"
            ]
          },
          "metadata": {},
          "execution_count": 355
        }
      ]
    },
    {
      "cell_type": "code",
      "source": [
        "train.no_of_children.isna().sum(), test.no_of_children.isna().sum()"
      ],
      "metadata": {
        "colab": {
          "base_uri": "https://localhost:8080/"
        },
        "id": "wMmdt8yZwrL8",
        "outputId": "ad9da8cd-d444-49dd-cda6-c95c52387e24"
      },
      "execution_count": 356,
      "outputs": [
        {
          "output_type": "execute_result",
          "data": {
            "text/plain": [
              "(774, 190)"
            ]
          },
          "metadata": {},
          "execution_count": 356
        }
      ]
    },
    {
      "cell_type": "markdown",
      "source": [
        "We will treat the missing values as having no children."
      ],
      "metadata": {
        "id": "MiwZ3mrNw1pi"
      }
    },
    {
      "cell_type": "code",
      "source": [
        "train.no_of_children.fillna(0, inplace=True)\n",
        "test.no_of_children.fillna(0, inplace=True)\n",
        "\n",
        "train['no_of_children'] = train.no_of_children.astype('int8')\n",
        "test['no_of_children'] = test.no_of_children.astype('int8')"
      ],
      "metadata": {
        "id": "157HvOUcxTRy"
      },
      "execution_count": 357,
      "outputs": []
    },
    {
      "cell_type": "markdown",
      "source": [
        "### total_family_members"
      ],
      "metadata": {
        "id": "67Mmci-r93At"
      }
    },
    {
      "cell_type": "code",
      "source": [
        "train.total_family_members.nunique(), test.total_family_members.nunique()"
      ],
      "metadata": {
        "colab": {
          "base_uri": "https://localhost:8080/"
        },
        "id": "kyPV-4RQ-Ene",
        "outputId": "bde3111a-7c7b-4333-8097-c930908d066e"
      },
      "execution_count": 358,
      "outputs": [
        {
          "output_type": "execute_result",
          "data": {
            "text/plain": [
              "(10, 9)"
            ]
          },
          "metadata": {},
          "execution_count": 358
        }
      ]
    },
    {
      "cell_type": "code",
      "source": [
        "train.total_family_members.value_counts()"
      ],
      "metadata": {
        "colab": {
          "base_uri": "https://localhost:8080/"
        },
        "id": "lPSTyXD_-TB2",
        "outputId": "b366d4ba-a60a-4200-f48a-df0578e4fd7f"
      },
      "execution_count": 359,
      "outputs": [
        {
          "output_type": "execute_result",
          "data": {
            "text/plain": [
              "2.0     23455\n",
              "1.0      9913\n",
              "3.0      7812\n",
              "4.0      3623\n",
              "5.0       564\n",
              "6.0        57\n",
              "7.0        12\n",
              "8.0         6\n",
              "10.0        2\n",
              "9.0         1\n",
              "Name: total_family_members, dtype: int64"
            ]
          },
          "metadata": {},
          "execution_count": 359
        }
      ]
    },
    {
      "cell_type": "markdown",
      "source": [
        "Looking at the values, *total_family_members* and *no_of_children* look highly correlated."
      ],
      "metadata": {
        "id": "-2phADY0_PAV"
      }
    },
    {
      "cell_type": "code",
      "source": [
        "train[['no_of_children', 'total_family_members']].corr()"
      ],
      "metadata": {
        "colab": {
          "base_uri": "https://localhost:8080/",
          "height": 0
        },
        "id": "EUtUuNv6_Fop",
        "outputId": "88a914de-469c-46c2-8246-add2bb799ab9"
      },
      "execution_count": 360,
      "outputs": [
        {
          "output_type": "execute_result",
          "data": {
            "text/html": [
              "<div>\n",
              "<style scoped>\n",
              "    .dataframe tbody tr th:only-of-type {\n",
              "        vertical-align: middle;\n",
              "    }\n",
              "\n",
              "    .dataframe tbody tr th {\n",
              "        vertical-align: top;\n",
              "    }\n",
              "\n",
              "    .dataframe thead th {\n",
              "        text-align: right;\n",
              "    }\n",
              "</style>\n",
              "<table border=\"1\" class=\"dataframe\">\n",
              "  <thead>\n",
              "    <tr style=\"text-align: right;\">\n",
              "      <th></th>\n",
              "      <th>no_of_children</th>\n",
              "      <th>total_family_members</th>\n",
              "    </tr>\n",
              "  </thead>\n",
              "  <tbody>\n",
              "    <tr>\n",
              "      <th>no_of_children</th>\n",
              "      <td>1.000000</td>\n",
              "      <td>0.870833</td>\n",
              "    </tr>\n",
              "    <tr>\n",
              "      <th>total_family_members</th>\n",
              "      <td>0.870833</td>\n",
              "      <td>1.000000</td>\n",
              "    </tr>\n",
              "  </tbody>\n",
              "</table>\n",
              "</div>"
            ],
            "text/plain": [
              "                      no_of_children  total_family_members\n",
              "no_of_children              1.000000              0.870833\n",
              "total_family_members        0.870833              1.000000"
            ]
          },
          "metadata": {},
          "execution_count": 360
        }
      ]
    },
    {
      "cell_type": "code",
      "source": [
        "test[['no_of_children', 'total_family_members']].corr()"
      ],
      "metadata": {
        "colab": {
          "base_uri": "https://localhost:8080/",
          "height": 0
        },
        "id": "DNPpQoAkAHqP",
        "outputId": "0a39d6cb-cc4f-44e8-9c34-feffdec7095c"
      },
      "execution_count": 361,
      "outputs": [
        {
          "output_type": "execute_result",
          "data": {
            "text/html": [
              "<div>\n",
              "<style scoped>\n",
              "    .dataframe tbody tr th:only-of-type {\n",
              "        vertical-align: middle;\n",
              "    }\n",
              "\n",
              "    .dataframe tbody tr th {\n",
              "        vertical-align: top;\n",
              "    }\n",
              "\n",
              "    .dataframe thead th {\n",
              "        text-align: right;\n",
              "    }\n",
              "</style>\n",
              "<table border=\"1\" class=\"dataframe\">\n",
              "  <thead>\n",
              "    <tr style=\"text-align: right;\">\n",
              "      <th></th>\n",
              "      <th>no_of_children</th>\n",
              "      <th>total_family_members</th>\n",
              "    </tr>\n",
              "  </thead>\n",
              "  <tbody>\n",
              "    <tr>\n",
              "      <th>no_of_children</th>\n",
              "      <td>1.000000</td>\n",
              "      <td>0.870734</td>\n",
              "    </tr>\n",
              "    <tr>\n",
              "      <th>total_family_members</th>\n",
              "      <td>0.870734</td>\n",
              "      <td>1.000000</td>\n",
              "    </tr>\n",
              "  </tbody>\n",
              "</table>\n",
              "</div>"
            ],
            "text/plain": [
              "                      no_of_children  total_family_members\n",
              "no_of_children              1.000000              0.870734\n",
              "total_family_members        0.870734              1.000000"
            ]
          },
          "metadata": {},
          "execution_count": 361
        }
      ]
    },
    {
      "cell_type": "code",
      "source": [
        "train.total_family_members.isna().sum(), test.total_family_members.isna().sum()"
      ],
      "metadata": {
        "colab": {
          "base_uri": "https://localhost:8080/"
        },
        "id": "UUqXfGYcAY9h",
        "outputId": "b5f3abf1-cb11-4882-8a56-c9e864186d7c"
      },
      "execution_count": 362,
      "outputs": [
        {
          "output_type": "execute_result",
          "data": {
            "text/plain": [
              "(83, 31)"
            ]
          },
          "metadata": {},
          "execution_count": 362
        }
      ]
    },
    {
      "cell_type": "markdown",
      "source": [
        "We will treat missing entries as a single person with no family members."
      ],
      "metadata": {
        "id": "wGptBbBJAg1E"
      }
    },
    {
      "cell_type": "code",
      "source": [
        "train.total_family_members.fillna(0, inplace=True)\n",
        "test.total_family_members.fillna(0, inplace=True)\n",
        "\n",
        "train['total_family_members'] = train.total_family_members.astype('int8')\n",
        "test['total_family_members'] = test.total_family_members.astype('int8')"
      ],
      "metadata": {
        "id": "VaIpiftKAX-c"
      },
      "execution_count": 363,
      "outputs": []
    },
    {
      "cell_type": "markdown",
      "source": [
        "### yearly_debt_payments"
      ],
      "metadata": {
        "id": "3-K6iCwiAR5o"
      }
    },
    {
      "cell_type": "code",
      "source": [
        "sns.kdeplot(train.yearly_debt_payments)"
      ],
      "metadata": {
        "colab": {
          "base_uri": "https://localhost:8080/",
          "height": 0
        },
        "id": "u0rWdDsRBmIg",
        "outputId": "58ba7ce6-fc3a-4619-d9b8-dc2a12e47ba1"
      },
      "execution_count": 364,
      "outputs": [
        {
          "output_type": "execute_result",
          "data": {
            "text/plain": [
              "<matplotlib.axes._subplots.AxesSubplot at 0x7f61d9504250>"
            ]
          },
          "metadata": {},
          "execution_count": 364
        },
        {
          "output_type": "display_data",
          "data": {
            "image/png": "[encoded data removed]",
            "text/plain": [
              "<Figure size 432x288 with 1 Axes>"
            ]
          },
          "metadata": {
            "needs_background": "light"
          }
        }
      ]
    },
    {
      "cell_type": "code",
      "source": [
        "sns.kdeplot(test.yearly_debt_payments)"
      ],
      "metadata": {
        "colab": {
          "base_uri": "https://localhost:8080/",
          "height": 0
        },
        "id": "Y_AnmDSGwInI",
        "outputId": "8be95911-e3c4-462a-ff8a-ae17fb5b61cb"
      },
      "execution_count": 365,
      "outputs": [
        {
          "output_type": "execute_result",
          "data": {
            "text/plain": [
              "<matplotlib.axes._subplots.AxesSubplot at 0x7f61d92c2e10>"
            ]
          },
          "metadata": {},
          "execution_count": 365
        },
        {
          "output_type": "display_data",
          "data": {
            "image/png": "[encoded data removed]",
            "text/plain": [
              "<Figure size 432x288 with 1 Axes>"
            ]
          },
          "metadata": {
            "needs_background": "light"
          }
        }
      ]
    },
    {
      "cell_type": "code",
      "source": [
        "train.yearly_debt_payments.isna().sum(), test.yearly_debt_payments.isna().sum()"
      ],
      "metadata": {
        "colab": {
          "base_uri": "https://localhost:8080/"
        },
        "id": "nSfd4rxnBdOv",
        "outputId": "7c0c8600-31c3-44c6-fe20-2addb3dba892"
      },
      "execution_count": 366,
      "outputs": [
        {
          "output_type": "execute_result",
          "data": {
            "text/plain": [
              "(95, 22)"
            ]
          },
          "metadata": {},
          "execution_count": 366
        }
      ]
    },
    {
      "cell_type": "markdown",
      "source": [
        "Values are missing when no payments were made. In such cases we can fill the missing values with 0."
      ],
      "metadata": {
        "id": "OtExs7rAQf2i"
      }
    },
    {
      "cell_type": "code",
      "source": [
        "train.yearly_debt_payments.fillna(0, inplace=True)\n",
        "test.yearly_debt_payments.fillna(0, inplace=True)"
      ],
      "metadata": {
        "id": "OP1By9N5OMnL"
      },
      "execution_count": 367,
      "outputs": []
    },
    {
      "cell_type": "markdown",
      "source": [
        "### credit_limit, credit_limit_used(%)"
      ],
      "metadata": {
        "id": "gaKPB17oQz1K"
      }
    },
    {
      "cell_type": "code",
      "source": [
        "sns.kdeplot(train.credit_limit)"
      ],
      "metadata": {
        "colab": {
          "base_uri": "https://localhost:8080/",
          "height": 0
        },
        "id": "xsotnTrlQzXp",
        "outputId": "a39400dc-e3ab-4a17-8173-0600d06973b2"
      },
      "execution_count": 368,
      "outputs": [
        {
          "output_type": "execute_result",
          "data": {
            "text/plain": [
              "<matplotlib.axes._subplots.AxesSubplot at 0x7f61d929a450>"
            ]
          },
          "metadata": {},
          "execution_count": 368
        },
        {
          "output_type": "display_data",
          "data": {
            "image/png": "[encoded data removed]",
            "text/plain": [
              "<Figure size 432x288 with 1 Axes>"
            ]
          },
          "metadata": {
            "needs_background": "light"
          }
        }
      ]
    },
    {
      "cell_type": "code",
      "source": [
        "train.loc[train.credit_limit > 1e6]"
      ],
      "metadata": {
        "colab": {
          "base_uri": "https://localhost:8080/",
          "height": 0
        },
        "id": "v8nBNdMw19oh",
        "outputId": "f17e3f97-214f-4a64-d5b0-f6f122c271c6"
      },
      "execution_count": 369,
      "outputs": [
        {
          "output_type": "execute_result",
          "data": {
            "text/html": [
              "<div>\n",
              "<style scoped>\n",
              "    .dataframe tbody tr th:only-of-type {\n",
              "        vertical-align: middle;\n",
              "    }\n",
              "\n",
              "    .dataframe tbody tr th {\n",
              "        vertical-align: top;\n",
              "    }\n",
              "\n",
              "    .dataframe thead th {\n",
              "        text-align: right;\n",
              "    }\n",
              "</style>\n",
              "<table border=\"1\" class=\"dataframe\">\n",
              "  <thead>\n",
              "    <tr style=\"text-align: right;\">\n",
              "      <th></th>\n",
              "      <th>customer_id</th>\n",
              "      <th>name</th>\n",
              "      <th>age</th>\n",
              "      <th>gender</th>\n",
              "      <th>owns_car</th>\n",
              "      <th>owns_house</th>\n",
              "      <th>no_of_children</th>\n",
              "      <th>net_yearly_income</th>\n",
              "      <th>no_of_days_employed</th>\n",
              "      <th>occupation_type</th>\n",
              "      <th>total_family_members</th>\n",
              "      <th>migrant_worker</th>\n",
              "      <th>yearly_debt_payments</th>\n",
              "      <th>credit_limit</th>\n",
              "      <th>credit_limit_used(%)</th>\n",
              "      <th>credit_score</th>\n",
              "      <th>prev_defaults</th>\n",
              "      <th>default_in_last_6months</th>\n",
              "      <th>credit_card_default</th>\n",
              "    </tr>\n",
              "  </thead>\n",
              "  <tbody>\n",
              "    <tr>\n",
              "      <th>21510</th>\n",
              "      <td>CST_123587</td>\n",
              "      <td>Robin Emmott</td>\n",
              "      <td>32</td>\n",
              "      <td>1</td>\n",
              "      <td>1</td>\n",
              "      <td>0</td>\n",
              "      <td>0</td>\n",
              "      <td>4.193102e+06</td>\n",
              "      <td>1094.0</td>\n",
              "      <td>10</td>\n",
              "      <td>2</td>\n",
              "      <td>0</td>\n",
              "      <td>134852.38</td>\n",
              "      <td>1015611.88</td>\n",
              "      <td>7</td>\n",
              "      <td>906.0</td>\n",
              "      <td>0</td>\n",
              "      <td>0</td>\n",
              "      <td>0</td>\n",
              "    </tr>\n",
              "    <tr>\n",
              "      <th>26662</th>\n",
              "      <td>CST_114967</td>\n",
              "      <td>Jonathan Stempel</td>\n",
              "      <td>51</td>\n",
              "      <td>0</td>\n",
              "      <td>0</td>\n",
              "      <td>1</td>\n",
              "      <td>1</td>\n",
              "      <td>1.407590e+08</td>\n",
              "      <td>924.0</td>\n",
              "      <td>8</td>\n",
              "      <td>3</td>\n",
              "      <td>0</td>\n",
              "      <td>32825.60</td>\n",
              "      <td>31129970.49</td>\n",
              "      <td>82</td>\n",
              "      <td>526.0</td>\n",
              "      <td>0</td>\n",
              "      <td>1</td>\n",
              "      <td>1</td>\n",
              "    </tr>\n",
              "  </tbody>\n",
              "</table>\n",
              "</div>"
            ],
            "text/plain": [
              "      customer_id  ... credit_card_default\n",
              "21510  CST_123587  ...                   0\n",
              "26662  CST_114967  ...                   1\n",
              "\n",
              "[2 rows x 19 columns]"
            ]
          },
          "metadata": {},
          "execution_count": 369
        }
      ]
    },
    {
      "cell_type": "code",
      "source": [
        "sns.kdeplot(train.drop([21510, 26662]).credit_limit)"
      ],
      "metadata": {
        "colab": {
          "base_uri": "https://localhost:8080/",
          "height": 0
        },
        "id": "GtD76yRh2_rH",
        "outputId": "13f9f2b5-058a-4491-efa6-810468000d3a"
      },
      "execution_count": 370,
      "outputs": [
        {
          "output_type": "execute_result",
          "data": {
            "text/plain": [
              "<matplotlib.axes._subplots.AxesSubplot at 0x7f61d9209210>"
            ]
          },
          "metadata": {},
          "execution_count": 370
        },
        {
          "output_type": "display_data",
          "data": {
            "image/png": "[encoded data removed]",
            "text/plain": [
              "<Figure size 432x288 with 1 Axes>"
            ]
          },
          "metadata": {
            "needs_background": "light"
          }
        }
      ]
    },
    {
      "cell_type": "code",
      "source": [
        "sns.kdeplot(test.credit_limit)"
      ],
      "metadata": {
        "colab": {
          "base_uri": "https://localhost:8080/",
          "height": 0
        },
        "id": "SonHt0_N2UWP",
        "outputId": "c22416e4-b23b-4f04-8cc3-a120fe996011"
      },
      "execution_count": 371,
      "outputs": [
        {
          "output_type": "execute_result",
          "data": {
            "text/plain": [
              "<matplotlib.axes._subplots.AxesSubplot at 0x7f61d91c9410>"
            ]
          },
          "metadata": {},
          "execution_count": 371
        },
        {
          "output_type": "display_data",
          "data": {
            "image/png": "[encoded data removed]",
            "text/plain": [
              "<Figure size 432x288 with 1 Axes>"
            ]
          },
          "metadata": {
            "needs_background": "light"
          }
        }
      ]
    },
    {
      "cell_type": "code",
      "source": [
        "train.credit_limit.isna().sum(), test.credit_limit.isna().sum()"
      ],
      "metadata": {
        "colab": {
          "base_uri": "https://localhost:8080/"
        },
        "id": "MBKqrvNl3Sep",
        "outputId": "726422a9-01a8-4c9b-80c1-9694df3865c8"
      },
      "execution_count": 372,
      "outputs": [
        {
          "output_type": "execute_result",
          "data": {
            "text/plain": [
              "(0, 0)"
            ]
          },
          "metadata": {},
          "execution_count": 372
        }
      ]
    },
    {
      "cell_type": "code",
      "source": [
        "sns.kdeplot(train['credit_limit_used(%)'])"
      ],
      "metadata": {
        "colab": {
          "base_uri": "https://localhost:8080/",
          "height": 0
        },
        "id": "81a5Fnt72gv-",
        "outputId": "5413df67-d4b0-4bb9-9c05-83736d8d584f"
      },
      "execution_count": 373,
      "outputs": [
        {
          "output_type": "execute_result",
          "data": {
            "text/plain": [
              "<matplotlib.axes._subplots.AxesSubplot at 0x7f61d914e510>"
            ]
          },
          "metadata": {},
          "execution_count": 373
        },
        {
          "output_type": "display_data",
          "data": {
            "image/png": "[encoded data removed]",
            "text/plain": [
              "<Figure size 432x288 with 1 Axes>"
            ]
          },
          "metadata": {
            "needs_background": "light"
          }
        }
      ]
    },
    {
      "cell_type": "code",
      "source": [
        "sns.kdeplot(test['credit_limit_used(%)'])"
      ],
      "metadata": {
        "colab": {
          "base_uri": "https://localhost:8080/",
          "height": 0
        },
        "id": "tQNU-4gR25oU",
        "outputId": "e129d195-050c-45cb-8f37-85bf250d8246"
      },
      "execution_count": 374,
      "outputs": [
        {
          "output_type": "execute_result",
          "data": {
            "text/plain": [
              "<matplotlib.axes._subplots.AxesSubplot at 0x7f61d91b2990>"
            ]
          },
          "metadata": {},
          "execution_count": 374
        },
        {
          "output_type": "display_data",
          "data": {
            "image/png": "[encoded data removed]",
            "text/plain": [
              "<Figure size 432x288 with 1 Axes>"
            ]
          },
          "metadata": {
            "needs_background": "light"
          }
        }
      ]
    },
    {
      "cell_type": "code",
      "source": [
        "train['credit_limit_used(%)'].isna().sum(), test['credit_limit_used(%)'].isna().sum()"
      ],
      "metadata": {
        "colab": {
          "base_uri": "https://localhost:8080/"
        },
        "id": "ljcTaVDO3bwL",
        "outputId": "cf5318ea-9012-4f2c-a449-4f5aca4a99df"
      },
      "execution_count": 375,
      "outputs": [
        {
          "output_type": "execute_result",
          "data": {
            "text/plain": [
              "(0, 0)"
            ]
          },
          "metadata": {},
          "execution_count": 375
        }
      ]
    },
    {
      "cell_type": "markdown",
      "source": [
        "### credit_score"
      ],
      "metadata": {
        "id": "yclW2nmT3gjq"
      }
    },
    {
      "cell_type": "code",
      "source": [
        "train.credit_score.isna().sum(), test.credit_score.isna().sum()"
      ],
      "metadata": {
        "colab": {
          "base_uri": "https://localhost:8080/"
        },
        "id": "94hBrOqV35lV",
        "outputId": "115d3c5a-ce2a-4b9a-ce84-b9105eb93c22"
      },
      "execution_count": 376,
      "outputs": [
        {
          "output_type": "execute_result",
          "data": {
            "text/plain": [
              "(8, 3)"
            ]
          },
          "metadata": {},
          "execution_count": 376
        }
      ]
    },
    {
      "cell_type": "code",
      "source": [
        "sns.kdeplot(train.credit_score)"
      ],
      "metadata": {
        "colab": {
          "base_uri": "https://localhost:8080/",
          "height": 0
        },
        "id": "aIrSUkBT6KTF",
        "outputId": "2ae92ab1-c147-4289-c22e-e81bd78377f9"
      },
      "execution_count": 377,
      "outputs": [
        {
          "output_type": "execute_result",
          "data": {
            "text/plain": [
              "<matplotlib.axes._subplots.AxesSubplot at 0x7f61d9114e50>"
            ]
          },
          "metadata": {},
          "execution_count": 377
        },
        {
          "output_type": "display_data",
          "data": {
            "image/png": "[encoded data removed]",
            "text/plain": [
              "<Figure size 432x288 with 1 Axes>"
            ]
          },
          "metadata": {
            "needs_background": "light"
          }
        }
      ]
    },
    {
      "cell_type": "code",
      "source": [
        "sns.kdeplot(test.credit_score)"
      ],
      "metadata": {
        "colab": {
          "base_uri": "https://localhost:8080/",
          "height": 0
        },
        "id": "92LTGjst6UBb",
        "outputId": "732f5801-798c-4e1d-99ba-0fd06cbb82a6"
      },
      "execution_count": 378,
      "outputs": [
        {
          "output_type": "execute_result",
          "data": {
            "text/plain": [
              "<matplotlib.axes._subplots.AxesSubplot at 0x7f61d905ae90>"
            ]
          },
          "metadata": {},
          "execution_count": 378
        },
        {
          "output_type": "display_data",
          "data": {
            "image/png": "[encoded data removed]",
            "text/plain": [
              "<Figure size 432x288 with 1 Axes>"
            ]
          },
          "metadata": {
            "needs_background": "light"
          }
        }
      ]
    },
    {
      "cell_type": "markdown",
      "source": [
        "Credit score is non-existent if the customer has never taken a loan or used a credit-card before. In such cases, the value will be missing.  \n",
        "We will fill the missing values with the median *credit_score*."
      ],
      "metadata": {
        "id": "fIsqklRw67sg"
      }
    },
    {
      "cell_type": "code",
      "source": [
        "median_credit_score = train.credit_score.median()\n",
        "train.credit_score.fillna(median_credit_score, inplace=True)\n",
        "\n",
        "#filling with same score from train set\n",
        "test.credit_score.fillna(median_credit_score, inplace=True)"
      ],
      "metadata": {
        "id": "7Q_P40UG66Gx"
      },
      "execution_count": 379,
      "outputs": []
    },
    {
      "cell_type": "markdown",
      "source": [
        "### prev_defaults"
      ],
      "metadata": {
        "id": "RlUpDif98WHL"
      }
    },
    {
      "cell_type": "code",
      "source": [
        "train.prev_defaults.isna().sum(), test.prev_defaults.isna().sum()"
      ],
      "metadata": {
        "colab": {
          "base_uri": "https://localhost:8080/"
        },
        "id": "nXdZW3p58dQH",
        "outputId": "d29b59e2-9504-4894-e656-aa12f62ae36e"
      },
      "execution_count": 380,
      "outputs": [
        {
          "output_type": "execute_result",
          "data": {
            "text/plain": [
              "(0, 0)"
            ]
          },
          "metadata": {},
          "execution_count": 380
        }
      ]
    },
    {
      "cell_type": "code",
      "source": [
        "train.prev_defaults.value_counts()"
      ],
      "metadata": {
        "colab": {
          "base_uri": "https://localhost:8080/"
        },
        "id": "UzRxTpvL99Vr",
        "outputId": "99cdcc42-e9de-4cf7-847f-a9d4d69b5e21"
      },
      "execution_count": 381,
      "outputs": [
        {
          "output_type": "execute_result",
          "data": {
            "text/plain": [
              "0    43060\n",
              "1     2172\n",
              "2      296\n",
              "Name: prev_defaults, dtype: int64"
            ]
          },
          "metadata": {},
          "execution_count": 381
        }
      ]
    },
    {
      "cell_type": "code",
      "source": [
        "test.prev_defaults.value_counts()"
      ],
      "metadata": {
        "colab": {
          "base_uri": "https://localhost:8080/"
        },
        "id": "G5LcQevx-CZj",
        "outputId": "d1f1ff49-63e2-4d5d-b5b2-91c7a0d4729e"
      },
      "execution_count": 382,
      "outputs": [
        {
          "output_type": "execute_result",
          "data": {
            "text/plain": [
              "0    10796\n",
              "1      513\n",
              "2       74\n",
              "Name: prev_defaults, dtype: int64"
            ]
          },
          "metadata": {},
          "execution_count": 382
        }
      ]
    },
    {
      "cell_type": "code",
      "source": [
        "train['prev_defaults'] = train.prev_defaults.astype('int8')\n",
        "test['prev_defaults'] = test.prev_defaults.astype('int8')"
      ],
      "metadata": {
        "id": "T9CfqO0E-ITg"
      },
      "execution_count": 383,
      "outputs": []
    },
    {
      "cell_type": "markdown",
      "source": [
        "### net_yearly_income"
      ],
      "metadata": {
        "id": "g1tOwx6Lxlg4"
      }
    },
    {
      "cell_type": "code",
      "source": [
        "plt.figure(figsize=(15,4))\n",
        "sns.kdeplot(train.net_yearly_income)"
      ],
      "metadata": {
        "colab": {
          "base_uri": "https://localhost:8080/",
          "height": 0
        },
        "id": "3SP2PBxOzLHT",
        "outputId": "e1e7d45b-a47e-45d4-cff2-c6227922c511"
      },
      "execution_count": 384,
      "outputs": [
        {
          "output_type": "execute_result",
          "data": {
            "text/plain": [
              "<matplotlib.axes._subplots.AxesSubplot at 0x7f61d8f93d10>"
            ]
          },
          "metadata": {},
          "execution_count": 384
        },
        {
          "output_type": "display_data",
          "data": {
            "image/png": "[encoded data removed]",
            "text/plain": [
              "<Figure size 1080x288 with 1 Axes>"
            ]
          },
          "metadata": {
            "needs_background": "light"
          }
        }
      ]
    },
    {
      "cell_type": "code",
      "source": [
        "train.net_yearly_income.isna().sum(), test.net_yearly_income.isna().sum()"
      ],
      "metadata": {
        "colab": {
          "base_uri": "https://localhost:8080/"
        },
        "id": "L1zP7U_Lx_Me",
        "outputId": "ab691eef-a89c-42b4-9549-d27141ca2c0d"
      },
      "execution_count": 385,
      "outputs": [
        {
          "output_type": "execute_result",
          "data": {
            "text/plain": [
              "(0, 0)"
            ]
          },
          "metadata": {},
          "execution_count": 385
        }
      ]
    },
    {
      "cell_type": "markdown",
      "source": [
        "Percentage of customers with income > 1M USD:"
      ],
      "metadata": {
        "id": "gwzkSLFfAJLj"
      }
    },
    {
      "cell_type": "code",
      "source": [
        "len(train.loc[train.net_yearly_income > 1e6]) / len(train)"
      ],
      "metadata": {
        "colab": {
          "base_uri": "https://localhost:8080/"
        },
        "id": "NXrOxug0yNaL",
        "outputId": "5ed88f39-0e7c-4199-d35a-30b57acba072"
      },
      "execution_count": 386,
      "outputs": [
        {
          "output_type": "execute_result",
          "data": {
            "text/plain": [
              "0.001427692848357055"
            ]
          },
          "metadata": {},
          "execution_count": 386
        }
      ]
    },
    {
      "cell_type": "markdown",
      "source": [
        "Distribution of incomes below 1M USD:"
      ],
      "metadata": {
        "id": "C6ejrJaiBOso"
      }
    },
    {
      "cell_type": "code",
      "source": [
        "plt.figure(figsize=(15,4))\n",
        "sns.kdeplot(train.loc[train.net_yearly_income < 1e6].net_yearly_income)"
      ],
      "metadata": {
        "colab": {
          "base_uri": "https://localhost:8080/",
          "height": 0
        },
        "id": "ttsxHVTWxp13",
        "outputId": "46011808-e6e8-4c4a-f687-bee010aded49"
      },
      "execution_count": 387,
      "outputs": [
        {
          "output_type": "execute_result",
          "data": {
            "text/plain": [
              "<matplotlib.axes._subplots.AxesSubplot at 0x7f61d9d785d0>"
            ]
          },
          "metadata": {},
          "execution_count": 387
        },
        {
          "output_type": "display_data",
          "data": {
            "image/png": "[encoded data removed]",
            "text/plain": [
              "<Figure size 1080x288 with 1 Axes>"
            ]
          },
          "metadata": {
            "needs_background": "light"
          }
        }
      ]
    },
    {
      "cell_type": "markdown",
      "source": [
        "Distribution of incomes below 500K USD:"
      ],
      "metadata": {
        "id": "8v2Al1lZBTp_"
      }
    },
    {
      "cell_type": "code",
      "source": [
        "plt.figure(figsize=(15,4))\n",
        "sns.kdeplot(train.loc[train.net_yearly_income < 0.5e6].net_yearly_income)"
      ],
      "metadata": {
        "colab": {
          "base_uri": "https://localhost:8080/",
          "height": 0
        },
        "id": "-BsKq_d0A2Rl",
        "outputId": "e4cf5308-b103-456e-de5b-7260b1d2e585"
      },
      "execution_count": 388,
      "outputs": [
        {
          "output_type": "execute_result",
          "data": {
            "text/plain": [
              "<matplotlib.axes._subplots.AxesSubplot at 0x7f61d909e590>"
            ]
          },
          "metadata": {},
          "execution_count": 388
        },
        {
          "output_type": "display_data",
          "data": {
            "image/png": "[encoded data removed]",
            "text/plain": [
              "<Figure size 1080x288 with 1 Axes>"
            ]
          },
          "metadata": {
            "needs_background": "light"
          }
        }
      ]
    },
    {
      "cell_type": "markdown",
      "source": [
        "### no_of_days_employed"
      ],
      "metadata": {
        "id": "1aYegSyuG-g2"
      }
    },
    {
      "cell_type": "code",
      "source": [
        "sns.kdeplot(train.no_of_days_employed)"
      ],
      "metadata": {
        "colab": {
          "base_uri": "https://localhost:8080/",
          "height": 0
        },
        "id": "nYKb3fEPHEqR",
        "outputId": "f8240a7c-6b7f-49e2-bf8b-d0b06bb8d1de"
      },
      "execution_count": 389,
      "outputs": [
        {
          "output_type": "execute_result",
          "data": {
            "text/plain": [
              "<matplotlib.axes._subplots.AxesSubplot at 0x7f61d8ee1490>"
            ]
          },
          "metadata": {},
          "execution_count": 389
        },
        {
          "output_type": "display_data",
          "data": {
            "image/png": "[encoded data removed]",
            "text/plain": [
              "<Figure size 432x288 with 1 Axes>"
            ]
          },
          "metadata": {
            "needs_background": "light"
          }
        }
      ]
    },
    {
      "cell_type": "markdown",
      "source": [
        "We have values between 300K to 400K for *no_of_days_employed*.\n",
        "Quite obviously, these are incorrect entries since they are several times that of the average human lifespan.  \n",
        "Even if a person spends their entire adult life working at the same company, the maximum possible employment duration would be around 45 to 50 years. Let us go with the upper limit i.e., 50 years = 18250 days."
      ],
      "metadata": {
        "id": "tUNHZc6NHTdZ"
      }
    },
    {
      "cell_type": "code",
      "source": [
        "len(train.loc[train.no_of_days_employed > 18250]) / len(train)"
      ],
      "metadata": {
        "colab": {
          "base_uri": "https://localhost:8080/"
        },
        "id": "hgn2YnDYHIOu",
        "outputId": "45fb6583-af3e-424e-aba3-80f44345df6c"
      },
      "execution_count": 390,
      "outputs": [
        {
          "output_type": "execute_result",
          "data": {
            "text/plain": [
              "0.1778685643999297"
            ]
          },
          "metadata": {},
          "execution_count": 390
        }
      ]
    },
    {
      "cell_type": "markdown",
      "source": [
        "17% of values are above the human limit chosen by us.  \n",
        "We can check their distribution."
      ],
      "metadata": {
        "id": "1pU5vW7QI6gn"
      }
    },
    {
      "cell_type": "code",
      "source": [
        "train.loc[train.no_of_days_employed > 18250].no_of_days_employed.describe()"
      ],
      "metadata": {
        "colab": {
          "base_uri": "https://localhost:8080/"
        },
        "id": "OOq8c4PFJRpD",
        "outputId": "5beaebbc-7913-42b9-cf2b-aa958a3bb0e4"
      },
      "execution_count": 391,
      "outputs": [
        {
          "output_type": "execute_result",
          "data": {
            "text/plain": [
              "count      8098.000000\n",
              "mean     365245.941097\n",
              "std           3.721151\n",
              "min      365240.000000\n",
              "25%      365243.000000\n",
              "50%      365246.000000\n",
              "75%      365249.000000\n",
              "max      365252.000000\n",
              "Name: no_of_days_employed, dtype: float64"
            ]
          },
          "metadata": {},
          "execution_count": 391
        }
      ]
    },
    {
      "cell_type": "markdown",
      "source": [
        "A minimum of 365240 days -> more than a 1000 years.\n",
        "Standard deviation of 3.7 days which means these are just incorrect entries centered around the same value.\n",
        "We can either remove these 8098 rows or replace these values with a dummy value or remove *no_of_days_employed* from the feature set."
      ],
      "metadata": {
        "id": "DjDIP_sUPj1N"
      }
    },
    {
      "cell_type": "markdown",
      "source": [
        "### Outliers, missing values, incorrect entries"
      ],
      "metadata": {
        "id": "oiy2GmgGQrTS"
      }
    },
    {
      "cell_type": "markdown",
      "source": [
        "Columns with outliers: *yearly_debt_payments*, *credit_limit*, *net_yearly_income*\n",
        "\n",
        "Columns with incorrect entries: *no_of_days_employed*"
      ],
      "metadata": {
        "id": "IbCyRkTGSlON"
      }
    },
    {
      "cell_type": "markdown",
      "source": [
        "#### *yearly_debt_payments*"
      ],
      "metadata": {
        "id": "yP3qDjjZTr_F"
      }
    },
    {
      "cell_type": "code",
      "source": [
        "q1 = train.yearly_debt_payments.quantile(0.25)\n",
        "q3 = train.yearly_debt_payments.quantile(0.75)\n",
        "\n",
        "iqr = q3 - q1"
      ],
      "metadata": {
        "id": "2YkM5EzCPbXD"
      },
      "execution_count": 392,
      "outputs": []
    },
    {
      "cell_type": "code",
      "source": [
        "#rule of thumb for outliers\n",
        "q1 - 1.5 * iqr, q3 + 1.5 * iqr"
      ],
      "metadata": {
        "colab": {
          "base_uri": "https://localhost:8080/"
        },
        "id": "9R1E9UBuVN6Z",
        "outputId": "f5a41669-913c-498d-d3d9-f840ed5e5657"
      },
      "execution_count": 393,
      "outputs": [
        {
          "output_type": "execute_result",
          "data": {
            "text/plain": [
              "(-12917.771249999987, 72607.41874999998)"
            ]
          },
          "metadata": {},
          "execution_count": 393
        }
      ]
    },
    {
      "cell_type": "code",
      "source": [
        "train.loc[train.yearly_debt_payments > q3 + 1.5 * iqr].yearly_debt_payments.describe()"
      ],
      "metadata": {
        "colab": {
          "base_uri": "https://localhost:8080/"
        },
        "id": "Ifam9NC8UZ95",
        "outputId": "a7f0cd57-fbb1-4fcc-fd0c-204f74972524"
      },
      "execution_count": 394,
      "outputs": [
        {
          "output_type": "execute_result",
          "data": {
            "text/plain": [
              "count      1068.000000\n",
              "mean      89368.432631\n",
              "std       23458.641774\n",
              "min       72619.310000\n",
              "25%       76478.212500\n",
              "50%       81862.415000\n",
              "75%       91963.085000\n",
              "max      328112.860000\n",
              "Name: yearly_debt_payments, dtype: float64"
            ]
          },
          "metadata": {},
          "execution_count": 394
        }
      ]
    },
    {
      "cell_type": "code",
      "source": [
        "sns.kdeplot(train.loc[train.yearly_debt_payments > q3 + 1.5 * iqr].yearly_debt_payments)"
      ],
      "metadata": {
        "colab": {
          "base_uri": "https://localhost:8080/",
          "height": 0
        },
        "id": "MNgGY0B6WX2-",
        "outputId": "a4625690-586d-472c-fab1-ec254551c9b7"
      },
      "execution_count": 395,
      "outputs": [
        {
          "output_type": "execute_result",
          "data": {
            "text/plain": [
              "<matplotlib.axes._subplots.AxesSubplot at 0x7f61d8eaa150>"
            ]
          },
          "metadata": {},
          "execution_count": 395
        },
        {
          "output_type": "display_data",
          "data": {
            "image/png": "[encoded data removed]",
            "text/plain": [
              "<Figure size 432x288 with 1 Axes>"
            ]
          },
          "metadata": {
            "needs_background": "light"
          }
        }
      ]
    },
    {
      "cell_type": "code",
      "source": [
        "len(train.loc[train.yearly_debt_payments > 1e5])"
      ],
      "metadata": {
        "colab": {
          "base_uri": "https://localhost:8080/"
        },
        "id": "w8nenGyRUegV",
        "outputId": "2b9ca5dd-df36-425d-d756-aa48249019d1"
      },
      "execution_count": 396,
      "outputs": [
        {
          "output_type": "execute_result",
          "data": {
            "text/plain": [
              "195"
            ]
          },
          "metadata": {},
          "execution_count": 396
        }
      ]
    },
    {
      "cell_type": "markdown",
      "source": [
        "We will remove these 195 rows"
      ],
      "metadata": {
        "id": "07j4tLQbWxv7"
      }
    },
    {
      "cell_type": "code",
      "source": [
        "train_clipped = train.drop(train[train.yearly_debt_payments > 1e5].index)"
      ],
      "metadata": {
        "id": "M053t4h_Vqln"
      },
      "execution_count": 397,
      "outputs": []
    },
    {
      "cell_type": "markdown",
      "source": [
        "#### *credit_limit*"
      ],
      "metadata": {
        "id": "5-XV-_dIXqa7"
      }
    },
    {
      "cell_type": "code",
      "source": [
        "q1 = train_clipped.credit_limit.quantile(0.25)\n",
        "q3 = train_clipped.credit_limit.quantile(0.75)\n",
        "\n",
        "iqr = q3 - q1"
      ],
      "metadata": {
        "id": "OFmLXP8uXfZP"
      },
      "execution_count": 398,
      "outputs": []
    },
    {
      "cell_type": "code",
      "source": [
        "q1 - 1.5 * iqr, q3 + 1.5 *iqr"
      ],
      "metadata": {
        "colab": {
          "base_uri": "https://localhost:8080/"
        },
        "id": "1ms_RXZTX0Zu",
        "outputId": "0e39a723-498e-42ee-b430-ddd0ff2f6a9e"
      },
      "execution_count": 399,
      "outputs": [
        {
          "output_type": "execute_result",
          "data": {
            "text/plain": [
              "(-20053.59, 97227.37)"
            ]
          },
          "metadata": {},
          "execution_count": 399
        }
      ]
    },
    {
      "cell_type": "code",
      "source": [
        "len(train_clipped.loc[train_clipped.credit_limit > q3 + 1.5 * iqr])"
      ],
      "metadata": {
        "colab": {
          "base_uri": "https://localhost:8080/"
        },
        "id": "YHcwet1XX4-K",
        "outputId": "4e12dcd2-9eec-426a-ec86-1d609183f9d3"
      },
      "execution_count": 400,
      "outputs": [
        {
          "output_type": "execute_result",
          "data": {
            "text/plain": [
              "1967"
            ]
          },
          "metadata": {},
          "execution_count": 400
        }
      ]
    },
    {
      "cell_type": "code",
      "source": [
        "sns.kdeplot(train_clipped.loc[train_clipped.credit_limit > q3 + 1.5 * iqr].credit_limit)"
      ],
      "metadata": {
        "colab": {
          "base_uri": "https://localhost:8080/",
          "height": 0
        },
        "id": "5B4vTAdSYB7W",
        "outputId": "c3540255-03cd-4b3e-b3dd-c1fba883bae7"
      },
      "execution_count": 401,
      "outputs": [
        {
          "output_type": "execute_result",
          "data": {
            "text/plain": [
              "<matplotlib.axes._subplots.AxesSubplot at 0x7f61d8dbda10>"
            ]
          },
          "metadata": {},
          "execution_count": 401
        },
        {
          "output_type": "display_data",
          "data": {
            "image/png": "[encoded data removed]",
            "text/plain": [
              "<Figure size 432x288 with 1 Axes>"
            ]
          },
          "metadata": {
            "needs_background": "light"
          }
        }
      ]
    },
    {
      "cell_type": "code",
      "source": [
        "len(train_clipped.loc[train_clipped.credit_limit > 1e5]), len(train_clipped.loc[train_clipped.credit_limit > 1.25e5])"
      ],
      "metadata": {
        "colab": {
          "base_uri": "https://localhost:8080/"
        },
        "id": "4jVVZfhuYIAT",
        "outputId": "2337fb18-93a8-4542-c2f0-97261dc4e097"
      },
      "execution_count": 402,
      "outputs": [
        {
          "output_type": "execute_result",
          "data": {
            "text/plain": [
              "(1792, 783)"
            ]
          },
          "metadata": {},
          "execution_count": 402
        }
      ]
    },
    {
      "cell_type": "code",
      "source": [
        "len(train_clipped.loc[train_clipped.credit_limit > 1.5e5]), len(train_clipped.loc[train_clipped.credit_limit > 1.75e5])"
      ],
      "metadata": {
        "colab": {
          "base_uri": "https://localhost:8080/"
        },
        "id": "iREs-ocSxPcL",
        "outputId": "6f33cebd-00b0-4139-8b17-f2f59e0cf9fc"
      },
      "execution_count": 403,
      "outputs": [
        {
          "output_type": "execute_result",
          "data": {
            "text/plain": [
              "(365, 199)"
            ]
          },
          "metadata": {},
          "execution_count": 403
        }
      ]
    },
    {
      "cell_type": "code",
      "source": [
        "len(train_clipped.loc[train_clipped.credit_limit > 2e5]), len(train_clipped.loc[train_clipped.credit_limit > 2.25e5])"
      ],
      "metadata": {
        "colab": {
          "base_uri": "https://localhost:8080/"
        },
        "id": "takcI6pbxSWo",
        "outputId": "7ed4071f-b36d-40c4-c38e-6f89427c0542"
      },
      "execution_count": 404,
      "outputs": [
        {
          "output_type": "execute_result",
          "data": {
            "text/plain": [
              "(117, 82)"
            ]
          },
          "metadata": {},
          "execution_count": 404
        }
      ]
    },
    {
      "cell_type": "markdown",
      "source": [
        "There is a sharp decline in numbers until 150K USD so we will clip the values greater than that."
      ],
      "metadata": {
        "id": "EFXO1nV1xcq-"
      }
    },
    {
      "cell_type": "code",
      "source": [
        "train_clipped.drop(train_clipped[train_clipped.credit_limit > 1.5e5].index, inplace=True)"
      ],
      "metadata": {
        "id": "6ZLopzadxaQZ"
      },
      "execution_count": 405,
      "outputs": []
    },
    {
      "cell_type": "markdown",
      "source": [
        "#### net_yearly_income"
      ],
      "metadata": {
        "id": "UvSxiz7Vx8Qo"
      }
    },
    {
      "cell_type": "code",
      "source": [
        "q1 = train_clipped.net_yearly_income.quantile(0.25)\n",
        "q3 = train_clipped.net_yearly_income.quantile(0.75)\n",
        "\n",
        "iqr = q3 - q1"
      ],
      "metadata": {
        "id": "A9VVFgINx7LZ"
      },
      "execution_count": 406,
      "outputs": []
    },
    {
      "cell_type": "code",
      "source": [
        "q1 - 1.5 * iqr, q3 + 1.5 *iqr"
      ],
      "metadata": {
        "colab": {
          "base_uri": "https://localhost:8080/"
        },
        "id": "tNBmjJ6PyHcl",
        "outputId": "82cbdcf5-75e1-4943-ab92-dee15fc6edb6"
      },
      "execution_count": 407,
      "outputs": [
        {
          "output_type": "execute_result",
          "data": {
            "text/plain": [
              "(-41636.598749999976, 404627.93124999997)"
            ]
          },
          "metadata": {},
          "execution_count": 407
        }
      ]
    },
    {
      "cell_type": "code",
      "source": [
        "sns.kdeplot(train_clipped.net_yearly_income)"
      ],
      "metadata": {
        "colab": {
          "base_uri": "https://localhost:8080/",
          "height": 0
        },
        "id": "xHda3GpZySI_",
        "outputId": "7b18a11c-7705-4276-80a9-e00a7cdc0370"
      },
      "execution_count": 408,
      "outputs": [
        {
          "output_type": "execute_result",
          "data": {
            "text/plain": [
              "<matplotlib.axes._subplots.AxesSubplot at 0x7f61d8d8a190>"
            ]
          },
          "metadata": {},
          "execution_count": 408
        },
        {
          "output_type": "display_data",
          "data": {
            "image/png": "[encoded data removed]",
            "text/plain": [
              "<Figure size 432x288 with 1 Axes>"
            ]
          },
          "metadata": {
            "needs_background": "light"
          }
        }
      ]
    },
    {
      "cell_type": "code",
      "source": [
        "sns.kdeplot(train_clipped.loc[train_clipped.net_yearly_income > q3 + 1.5 * iqr].net_yearly_income)"
      ],
      "metadata": {
        "colab": {
          "base_uri": "https://localhost:8080/",
          "height": 0
        },
        "id": "4fCyNaysyJ1p",
        "outputId": "23ff79f7-2946-4a21-da64-7eea7fe8d703"
      },
      "execution_count": 409,
      "outputs": [
        {
          "output_type": "execute_result",
          "data": {
            "text/plain": [
              "<matplotlib.axes._subplots.AxesSubplot at 0x7f61d8d60950>"
            ]
          },
          "metadata": {},
          "execution_count": 409
        },
        {
          "output_type": "display_data",
          "data": {
            "image/png": "[encoded data removed]",
            "text/plain": [
              "<Figure size 432x288 with 1 Axes>"
            ]
          },
          "metadata": {
            "needs_background": "light"
          }
        }
      ]
    },
    {
      "cell_type": "code",
      "source": [
        "len(train_clipped.loc[train_clipped.net_yearly_income > q3 + 1.5 * iqr])"
      ],
      "metadata": {
        "colab": {
          "base_uri": "https://localhost:8080/"
        },
        "id": "VvCZYLcFyZNh",
        "outputId": "6533ef05-9b26-487b-a1c1-bbb3cb571c80"
      },
      "execution_count": 410,
      "outputs": [
        {
          "output_type": "execute_result",
          "data": {
            "text/plain": [
              "1537"
            ]
          },
          "metadata": {},
          "execution_count": 410
        }
      ]
    },
    {
      "cell_type": "code",
      "source": [
        "len(train_clipped.loc[train_clipped.net_yearly_income > 4.5e5]), len(train_clipped.loc[train_clipped.net_yearly_income > 5e5])"
      ],
      "metadata": {
        "colab": {
          "base_uri": "https://localhost:8080/"
        },
        "id": "0s4RVCzQyw7w",
        "outputId": "9f1f2920-2f08-46fb-97b2-d125ff19d76c"
      },
      "execution_count": 411,
      "outputs": [
        {
          "output_type": "execute_result",
          "data": {
            "text/plain": [
              "(931, 526)"
            ]
          },
          "metadata": {},
          "execution_count": 411
        }
      ]
    },
    {
      "cell_type": "code",
      "source": [
        "len(train_clipped.loc[train_clipped.net_yearly_income > 6e5]), len(train_clipped.loc[train_clipped.net_yearly_income > 6.5e5])"
      ],
      "metadata": {
        "colab": {
          "base_uri": "https://localhost:8080/"
        },
        "id": "fJ-gO4bVzcMD",
        "outputId": "6d6e06b1-aae6-4a55-ec2e-bfce13f4f585"
      },
      "execution_count": 412,
      "outputs": [
        {
          "output_type": "execute_result",
          "data": {
            "text/plain": [
              "(178, 132)"
            ]
          },
          "metadata": {},
          "execution_count": 412
        }
      ]
    },
    {
      "cell_type": "code",
      "source": [
        "train_clipped.drop(train_clipped[train_clipped.net_yearly_income > 6e5].index, inplace=True)"
      ],
      "metadata": {
        "id": "V2Cs1Og5y4Ll"
      },
      "execution_count": 413,
      "outputs": []
    },
    {
      "cell_type": "markdown",
      "source": [
        "#### no_of_days_employed"
      ],
      "metadata": {
        "id": "YijkobsozqBq"
      }
    },
    {
      "cell_type": "code",
      "source": [
        "sns.kdeplot(train_clipped.no_of_days_employed)"
      ],
      "metadata": {
        "colab": {
          "base_uri": "https://localhost:8080/",
          "height": 0
        },
        "id": "5eBfLyxi0t46",
        "outputId": "60b93c5d-39a3-4b48-f78d-08c36b2e685b"
      },
      "execution_count": 414,
      "outputs": [
        {
          "output_type": "execute_result",
          "data": {
            "text/plain": [
              "<matplotlib.axes._subplots.AxesSubplot at 0x7f61d8ceb310>"
            ]
          },
          "metadata": {},
          "execution_count": 414
        },
        {
          "output_type": "display_data",
          "data": {
            "image/png": "[encoded data removed]",
            "text/plain": [
              "<Figure size 432x288 with 1 Axes>"
            ]
          },
          "metadata": {
            "needs_background": "light"
          }
        }
      ]
    },
    {
      "cell_type": "markdown",
      "source": [
        "We have to remove the group of values centered around 365000.  \n",
        "Other than that, the values are realistic."
      ],
      "metadata": {
        "id": "n_YwIJqb1Cb-"
      }
    },
    {
      "cell_type": "code",
      "source": [
        "train_clipped.drop(train_clipped[train_clipped.no_of_days_employed > 1e5].index, inplace=True)"
      ],
      "metadata": {
        "id": "jE8gvACU09c8"
      },
      "execution_count": 415,
      "outputs": []
    },
    {
      "cell_type": "code",
      "source": [
        "sns.kdeplot(train_clipped.no_of_days_employed)"
      ],
      "metadata": {
        "colab": {
          "base_uri": "https://localhost:8080/",
          "height": 0
        },
        "id": "534JiJ211bWa",
        "outputId": "934277e6-97d1-42e3-935a-ecd1032178e5"
      },
      "execution_count": 416,
      "outputs": [
        {
          "output_type": "execute_result",
          "data": {
            "text/plain": [
              "<matplotlib.axes._subplots.AxesSubplot at 0x7f61d8c68950>"
            ]
          },
          "metadata": {},
          "execution_count": 416
        },
        {
          "output_type": "display_data",
          "data": {
            "image/png": "[encoded data removed]",
            "text/plain": [
              "<Figure size 432x288 with 1 Axes>"
            ]
          },
          "metadata": {
            "needs_background": "light"
          }
        }
      ]
    },
    {
      "cell_type": "code",
      "source": [
        "train_clipped.no_of_days_employed.max()"
      ],
      "metadata": {
        "colab": {
          "base_uri": "https://localhost:8080/"
        },
        "id": "-oraP7NM1c6B",
        "outputId": "8f33cbc4-7838-427b-e03d-5d882ed06b8b"
      },
      "execution_count": 417,
      "outputs": [
        {
          "output_type": "execute_result",
          "data": {
            "text/plain": [
              "17538.0"
            ]
          },
          "metadata": {},
          "execution_count": 417
        }
      ]
    },
    {
      "cell_type": "markdown",
      "source": [
        "The maximum number below 100K was 17538 days, which is around 48 years.  \n",
        "An impressive number but very realistic, as we discussed earlier."
      ],
      "metadata": {
        "id": "gkOEeS5X1mY2"
      }
    },
    {
      "cell_type": "markdown",
      "source": [
        "Missing values:"
      ],
      "metadata": {
        "id": "Ts9hSfoq2lC8"
      }
    },
    {
      "cell_type": "code",
      "source": [
        "train_clipped.no_of_days_employed.isna().sum(), test.no_of_days_employed.isna().sum()"
      ],
      "metadata": {
        "colab": {
          "base_uri": "https://localhost:8080/"
        },
        "id": "2j5a93Zs2kOI",
        "outputId": "d477c9f0-af7e-441d-d445-b186da90da3f"
      },
      "execution_count": 418,
      "outputs": [
        {
          "output_type": "execute_result",
          "data": {
            "text/plain": [
              "(455, 105)"
            ]
          },
          "metadata": {},
          "execution_count": 418
        }
      ]
    },
    {
      "cell_type": "markdown",
      "source": [
        "We will consider missing entries as unemployed i.e., 0 days of employment."
      ],
      "metadata": {
        "id": "1iaDk-r92wUd"
      }
    },
    {
      "cell_type": "code",
      "source": [
        "train_clipped.no_of_days_employed.fillna(0, inplace=True)\n",
        "test.no_of_days_employed.fillna(0, inplace=True)"
      ],
      "metadata": {
        "id": "PM9BRHYe24g9"
      },
      "execution_count": 419,
      "outputs": []
    },
    {
      "cell_type": "markdown",
      "source": [
        "# Processed dataset"
      ],
      "metadata": {
        "id": "tMglK2YI2EJ_"
      }
    },
    {
      "cell_type": "code",
      "source": [
        "train_clipped.info()"
      ],
      "metadata": {
        "colab": {
          "base_uri": "https://localhost:8080/"
        },
        "id": "-wMwqXQd1kqZ",
        "outputId": "23544755-92b9-47b8-a86a-b5aba29b6418"
      },
      "execution_count": 420,
      "outputs": [
        {
          "output_type": "stream",
          "name": "stdout",
          "text": [
            "<class 'pandas.core.frame.DataFrame'>\n",
            "Int64Index: 36743 entries, 0 to 45527\n",
            "Data columns (total 19 columns):\n",
            " #   Column                   Non-Null Count  Dtype  \n",
            "---  ------                   --------------  -----  \n",
            " 0   customer_id              36743 non-null  object \n",
            " 1   name                     36743 non-null  object \n",
            " 2   age                      36743 non-null  int8   \n",
            " 3   gender                   36743 non-null  int8   \n",
            " 4   owns_car                 36743 non-null  int8   \n",
            " 5   owns_house               36743 non-null  int8   \n",
            " 6   no_of_children           36743 non-null  int8   \n",
            " 7   net_yearly_income        36743 non-null  float64\n",
            " 8   no_of_days_employed      36743 non-null  float64\n",
            " 9   occupation_type          36743 non-null  int8   \n",
            " 10  total_family_members     36743 non-null  int8   \n",
            " 11  migrant_worker           36743 non-null  int8   \n",
            " 12  yearly_debt_payments     36743 non-null  float64\n",
            " 13  credit_limit             36743 non-null  float64\n",
            " 14  credit_limit_used(%)     36743 non-null  int64  \n",
            " 15  credit_score             36743 non-null  float64\n",
            " 16  prev_defaults            36743 non-null  int8   \n",
            " 17  default_in_last_6months  36743 non-null  int8   \n",
            " 18  credit_card_default      36743 non-null  int8   \n",
            "dtypes: float64(5), int64(1), int8(11), object(2)\n",
            "memory usage: 2.9+ MB\n"
          ]
        }
      ]
    },
    {
      "cell_type": "code",
      "source": [
        "train_clipped.head()"
      ],
      "metadata": {
        "colab": {
          "base_uri": "https://localhost:8080/",
          "height": 261
        },
        "id": "cU1lb_nc3UyL",
        "outputId": "2b4c82e6-8d9d-4d32-def6-bff3bf0b9caa"
      },
      "execution_count": 421,
      "outputs": [
        {
          "output_type": "execute_result",
          "data": {
            "text/html": [
              "<div>\n",
              "<style scoped>\n",
              "    .dataframe tbody tr th:only-of-type {\n",
              "        vertical-align: middle;\n",
              "    }\n",
              "\n",
              "    .dataframe tbody tr th {\n",
              "        vertical-align: top;\n",
              "    }\n",
              "\n",
              "    .dataframe thead th {\n",
              "        text-align: right;\n",
              "    }\n",
              "</style>\n",
              "<table border=\"1\" class=\"dataframe\">\n",
              "  <thead>\n",
              "    <tr style=\"text-align: right;\">\n",
              "      <th></th>\n",
              "      <th>customer_id</th>\n",
              "      <th>name</th>\n",
              "      <th>age</th>\n",
              "      <th>gender</th>\n",
              "      <th>owns_car</th>\n",
              "      <th>owns_house</th>\n",
              "      <th>no_of_children</th>\n",
              "      <th>net_yearly_income</th>\n",
              "      <th>no_of_days_employed</th>\n",
              "      <th>occupation_type</th>\n",
              "      <th>total_family_members</th>\n",
              "      <th>migrant_worker</th>\n",
              "      <th>yearly_debt_payments</th>\n",
              "      <th>credit_limit</th>\n",
              "      <th>credit_limit_used(%)</th>\n",
              "      <th>credit_score</th>\n",
              "      <th>prev_defaults</th>\n",
              "      <th>default_in_last_6months</th>\n",
              "      <th>credit_card_default</th>\n",
              "    </tr>\n",
              "  </thead>\n",
              "  <tbody>\n",
              "    <tr>\n",
              "      <th>0</th>\n",
              "      <td>CST_115179</td>\n",
              "      <td>ita Bose</td>\n",
              "      <td>46</td>\n",
              "      <td>0</td>\n",
              "      <td>0</td>\n",
              "      <td>1</td>\n",
              "      <td>0</td>\n",
              "      <td>107934.04</td>\n",
              "      <td>612.0</td>\n",
              "      <td>17</td>\n",
              "      <td>1</td>\n",
              "      <td>1</td>\n",
              "      <td>33070.28</td>\n",
              "      <td>18690.93</td>\n",
              "      <td>73</td>\n",
              "      <td>544.0</td>\n",
              "      <td>2</td>\n",
              "      <td>1</td>\n",
              "      <td>1</td>\n",
              "    </tr>\n",
              "    <tr>\n",
              "      <th>1</th>\n",
              "      <td>CST_121920</td>\n",
              "      <td>Alper Jonathan</td>\n",
              "      <td>29</td>\n",
              "      <td>1</td>\n",
              "      <td>0</td>\n",
              "      <td>1</td>\n",
              "      <td>0</td>\n",
              "      <td>109862.62</td>\n",
              "      <td>2771.0</td>\n",
              "      <td>8</td>\n",
              "      <td>2</td>\n",
              "      <td>0</td>\n",
              "      <td>15329.53</td>\n",
              "      <td>37745.19</td>\n",
              "      <td>52</td>\n",
              "      <td>857.0</td>\n",
              "      <td>0</td>\n",
              "      <td>0</td>\n",
              "      <td>0</td>\n",
              "    </tr>\n",
              "    <tr>\n",
              "      <th>2</th>\n",
              "      <td>CST_109330</td>\n",
              "      <td>Umesh Desai</td>\n",
              "      <td>37</td>\n",
              "      <td>1</td>\n",
              "      <td>0</td>\n",
              "      <td>1</td>\n",
              "      <td>0</td>\n",
              "      <td>230153.17</td>\n",
              "      <td>204.0</td>\n",
              "      <td>8</td>\n",
              "      <td>2</td>\n",
              "      <td>0</td>\n",
              "      <td>48416.60</td>\n",
              "      <td>41598.36</td>\n",
              "      <td>43</td>\n",
              "      <td>650.0</td>\n",
              "      <td>0</td>\n",
              "      <td>0</td>\n",
              "      <td>0</td>\n",
              "    </tr>\n",
              "    <tr>\n",
              "      <th>3</th>\n",
              "      <td>CST_128288</td>\n",
              "      <td>Rie</td>\n",
              "      <td>39</td>\n",
              "      <td>0</td>\n",
              "      <td>0</td>\n",
              "      <td>1</td>\n",
              "      <td>0</td>\n",
              "      <td>122325.82</td>\n",
              "      <td>11941.0</td>\n",
              "      <td>3</td>\n",
              "      <td>2</td>\n",
              "      <td>0</td>\n",
              "      <td>22574.36</td>\n",
              "      <td>32627.76</td>\n",
              "      <td>20</td>\n",
              "      <td>754.0</td>\n",
              "      <td>0</td>\n",
              "      <td>0</td>\n",
              "      <td>0</td>\n",
              "    </tr>\n",
              "    <tr>\n",
              "      <th>4</th>\n",
              "      <td>CST_151355</td>\n",
              "      <td>McCool</td>\n",
              "      <td>46</td>\n",
              "      <td>1</td>\n",
              "      <td>1</td>\n",
              "      <td>1</td>\n",
              "      <td>0</td>\n",
              "      <td>387286.00</td>\n",
              "      <td>1459.0</td>\n",
              "      <td>3</td>\n",
              "      <td>1</td>\n",
              "      <td>0</td>\n",
              "      <td>38282.95</td>\n",
              "      <td>52950.64</td>\n",
              "      <td>75</td>\n",
              "      <td>927.0</td>\n",
              "      <td>0</td>\n",
              "      <td>0</td>\n",
              "      <td>0</td>\n",
              "    </tr>\n",
              "  </tbody>\n",
              "</table>\n",
              "</div>"
            ],
            "text/plain": [
              "  customer_id            name  ...  default_in_last_6months  credit_card_default\n",
              "0  CST_115179        ita Bose  ...                        1                    1\n",
              "1  CST_121920  Alper Jonathan  ...                        0                    0\n",
              "2  CST_109330     Umesh Desai  ...                        0                    0\n",
              "3  CST_128288             Rie  ...                        0                    0\n",
              "4  CST_151355          McCool  ...                        0                    0\n",
              "\n",
              "[5 rows x 19 columns]"
            ]
          },
          "metadata": {},
          "execution_count": 421
        }
      ]
    },
    {
      "cell_type": "code",
      "source": [
        "test.info()"
      ],
      "metadata": {
        "colab": {
          "base_uri": "https://localhost:8080/"
        },
        "id": "IdmTM-WI2VAO",
        "outputId": "f15e2b54-736e-42f0-c454-1752ba1c7071"
      },
      "execution_count": 422,
      "outputs": [
        {
          "output_type": "stream",
          "name": "stdout",
          "text": [
            "<class 'pandas.core.frame.DataFrame'>\n",
            "RangeIndex: 11383 entries, 0 to 11382\n",
            "Data columns (total 18 columns):\n",
            " #   Column                   Non-Null Count  Dtype  \n",
            "---  ------                   --------------  -----  \n",
            " 0   customer_id              11383 non-null  object \n",
            " 1   name                     11383 non-null  object \n",
            " 2   age                      11383 non-null  int8   \n",
            " 3   gender                   11383 non-null  int8   \n",
            " 4   owns_car                 11383 non-null  int8   \n",
            " 5   owns_house               11383 non-null  int8   \n",
            " 6   no_of_children           11383 non-null  int8   \n",
            " 7   net_yearly_income        11383 non-null  float64\n",
            " 8   no_of_days_employed      11383 non-null  float64\n",
            " 9   occupation_type          11383 non-null  int8   \n",
            " 10  total_family_members     11383 non-null  int8   \n",
            " 11  migrant_worker           11383 non-null  int8   \n",
            " 12  yearly_debt_payments     11383 non-null  float64\n",
            " 13  credit_limit             11383 non-null  float64\n",
            " 14  credit_limit_used(%)     11383 non-null  int64  \n",
            " 15  credit_score             11383 non-null  float64\n",
            " 16  prev_defaults            11383 non-null  int8   \n",
            " 17  default_in_last_6months  11383 non-null  int8   \n",
            "dtypes: float64(5), int64(1), int8(10), object(2)\n",
            "memory usage: 822.7+ KB\n"
          ]
        }
      ]
    },
    {
      "cell_type": "code",
      "source": [
        "test.head()"
      ],
      "metadata": {
        "colab": {
          "base_uri": "https://localhost:8080/",
          "height": 244
        },
        "id": "8S478rJY3bMP",
        "outputId": "095e7cdd-ab3c-4a65-92d4-b8d71c5c401e"
      },
      "execution_count": 423,
      "outputs": [
        {
          "output_type": "execute_result",
          "data": {
            "text/html": [
              "<div>\n",
              "<style scoped>\n",
              "    .dataframe tbody tr th:only-of-type {\n",
              "        vertical-align: middle;\n",
              "    }\n",
              "\n",
              "    .dataframe tbody tr th {\n",
              "        vertical-align: top;\n",
              "    }\n",
              "\n",
              "    .dataframe thead th {\n",
              "        text-align: right;\n",
              "    }\n",
              "</style>\n",
              "<table border=\"1\" class=\"dataframe\">\n",
              "  <thead>\n",
              "    <tr style=\"text-align: right;\">\n",
              "      <th></th>\n",
              "      <th>customer_id</th>\n",
              "      <th>name</th>\n",
              "      <th>age</th>\n",
              "      <th>gender</th>\n",
              "      <th>owns_car</th>\n",
              "      <th>owns_house</th>\n",
              "      <th>no_of_children</th>\n",
              "      <th>net_yearly_income</th>\n",
              "      <th>no_of_days_employed</th>\n",
              "      <th>occupation_type</th>\n",
              "      <th>total_family_members</th>\n",
              "      <th>migrant_worker</th>\n",
              "      <th>yearly_debt_payments</th>\n",
              "      <th>credit_limit</th>\n",
              "      <th>credit_limit_used(%)</th>\n",
              "      <th>credit_score</th>\n",
              "      <th>prev_defaults</th>\n",
              "      <th>default_in_last_6months</th>\n",
              "    </tr>\n",
              "  </thead>\n",
              "  <tbody>\n",
              "    <tr>\n",
              "      <th>0</th>\n",
              "      <td>CST_142525</td>\n",
              "      <td>Siva</td>\n",
              "      <td>52</td>\n",
              "      <td>0</td>\n",
              "      <td>1</td>\n",
              "      <td>0</td>\n",
              "      <td>0</td>\n",
              "      <td>232640.53</td>\n",
              "      <td>998.0</td>\n",
              "      <td>17</td>\n",
              "      <td>2</td>\n",
              "      <td>0</td>\n",
              "      <td>14406.73</td>\n",
              "      <td>26524.40</td>\n",
              "      <td>4</td>\n",
              "      <td>779.0</td>\n",
              "      <td>0</td>\n",
              "      <td>0</td>\n",
              "    </tr>\n",
              "    <tr>\n",
              "      <th>1</th>\n",
              "      <td>CST_129215</td>\n",
              "      <td>Scott</td>\n",
              "      <td>48</td>\n",
              "      <td>0</td>\n",
              "      <td>0</td>\n",
              "      <td>0</td>\n",
              "      <td>1</td>\n",
              "      <td>284396.79</td>\n",
              "      <td>1338.0</td>\n",
              "      <td>17</td>\n",
              "      <td>3</td>\n",
              "      <td>0</td>\n",
              "      <td>57479.99</td>\n",
              "      <td>68998.72</td>\n",
              "      <td>70</td>\n",
              "      <td>806.0</td>\n",
              "      <td>0</td>\n",
              "      <td>0</td>\n",
              "    </tr>\n",
              "    <tr>\n",
              "      <th>2</th>\n",
              "      <td>CST_138443</td>\n",
              "      <td>Victoria</td>\n",
              "      <td>50</td>\n",
              "      <td>0</td>\n",
              "      <td>0</td>\n",
              "      <td>0</td>\n",
              "      <td>1</td>\n",
              "      <td>149419.28</td>\n",
              "      <td>1210.0</td>\n",
              "      <td>17</td>\n",
              "      <td>3</td>\n",
              "      <td>0</td>\n",
              "      <td>21611.01</td>\n",
              "      <td>25187.80</td>\n",
              "      <td>71</td>\n",
              "      <td>528.0</td>\n",
              "      <td>2</td>\n",
              "      <td>0</td>\n",
              "    </tr>\n",
              "    <tr>\n",
              "      <th>3</th>\n",
              "      <td>CST_123812</td>\n",
              "      <td>John McCrank</td>\n",
              "      <td>30</td>\n",
              "      <td>0</td>\n",
              "      <td>0</td>\n",
              "      <td>0</td>\n",
              "      <td>1</td>\n",
              "      <td>160437.54</td>\n",
              "      <td>503.0</td>\n",
              "      <td>8</td>\n",
              "      <td>2</td>\n",
              "      <td>1</td>\n",
              "      <td>28990.76</td>\n",
              "      <td>29179.39</td>\n",
              "      <td>9</td>\n",
              "      <td>815.0</td>\n",
              "      <td>0</td>\n",
              "      <td>0</td>\n",
              "    </tr>\n",
              "    <tr>\n",
              "      <th>4</th>\n",
              "      <td>CST_144450</td>\n",
              "      <td>Martinne</td>\n",
              "      <td>52</td>\n",
              "      <td>1</td>\n",
              "      <td>0</td>\n",
              "      <td>1</td>\n",
              "      <td>0</td>\n",
              "      <td>233480.37</td>\n",
              "      <td>157.0</td>\n",
              "      <td>8</td>\n",
              "      <td>2</td>\n",
              "      <td>1</td>\n",
              "      <td>54213.72</td>\n",
              "      <td>82331.82</td>\n",
              "      <td>82</td>\n",
              "      <td>613.0</td>\n",
              "      <td>1</td>\n",
              "      <td>1</td>\n",
              "    </tr>\n",
              "  </tbody>\n",
              "</table>\n",
              "</div>"
            ],
            "text/plain": [
              "  customer_id          name  ...  prev_defaults  default_in_last_6months\n",
              "0  CST_142525          Siva  ...              0                        0\n",
              "1  CST_129215         Scott  ...              0                        0\n",
              "2  CST_138443      Victoria  ...              2                        0\n",
              "3  CST_123812  John McCrank  ...              0                        0\n",
              "4  CST_144450      Martinne  ...              1                        1\n",
              "\n",
              "[5 rows x 18 columns]"
            ]
          },
          "metadata": {},
          "execution_count": 423
        }
      ]
    },
    {
      "cell_type": "code",
      "source": [
        "train_clipped.to_csv('processed_train.csv', index=False)\n",
        "test.to_csv('processed_test.csv', index=False)"
      ],
      "metadata": {
        "id": "8Yaz49rp3dou"
      },
      "execution_count": 424,
      "outputs": []
    }
  ]
}