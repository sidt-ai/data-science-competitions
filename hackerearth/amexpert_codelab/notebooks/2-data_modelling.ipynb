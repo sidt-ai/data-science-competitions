{
  "nbformat": 4,
  "nbformat_minor": 0,
  "metadata": {
    "colab": {
      "name": "[HE] AmExpert Codelab - Data Modelling",
      "provenance": []
    },
    "kernelspec": {
      "name": "python3",
      "display_name": "Python 3"
    },
    "language_info": {
      "name": "python"
    },
    "accelerator": "GPU"
  },
  "cells": [
    {
      "cell_type": "markdown",
      "source": [
        "# Imports"
      ],
      "metadata": {
        "id": "QfNZ_djiAG_G"
      }
    },
    {
      "cell_type": "code",
      "execution_count": 2,
      "metadata": {
        "id": "4WupDnm-4jha"
      },
      "outputs": [],
      "source": [
        "train_url = 'https://raw.githubusercontent.com/sidt-ai/data-science-competitions/main/hackerearth/amexpert_codelab/data/processed/processed_train.csv'\n",
        "test_url = 'https://raw.githubusercontent.com/sidt-ai/data-science-competitions/main/hackerearth/amexpert_codelab/data/processed/processed_test.csv'"
      ]
    },
    {
      "cell_type": "code",
      "source": [
        "!pip install --quiet optuna"
      ],
      "metadata": {
        "colab": {
          "base_uri": "https://localhost:8080/"
        },
        "id": "5b8KqnvH_Als",
        "outputId": "7fb499d7-59ae-4b20-f67c-6f95e995454d"
      },
      "execution_count": 3,
      "outputs": [
        {
          "output_type": "stream",
          "name": "stdout",
          "text": [
            "\u001b[K     |████████████████████████████████| 308 kB 4.0 MB/s \n",
            "\u001b[K     |████████████████████████████████| 209 kB 44.5 MB/s \n",
            "\u001b[K     |████████████████████████████████| 80 kB 5.8 MB/s \n",
            "\u001b[K     |████████████████████████████████| 75 kB 4.0 MB/s \n",
            "\u001b[K     |████████████████████████████████| 49 kB 5.2 MB/s \n",
            "\u001b[K     |████████████████████████████████| 112 kB 42.9 MB/s \n",
            "\u001b[K     |████████████████████████████████| 149 kB 42.5 MB/s \n",
            "\u001b[?25h  Building wheel for pyperclip (setup.py) ... \u001b[?25l\u001b[?25hdone\n"
          ]
        }
      ]
    },
    {
      "cell_type": "code",
      "source": [
        "import time\n",
        "import imblearn\n",
        "\n",
        "import pandas as pd\n",
        "import numpy as np\n",
        "\n",
        "import optuna\n",
        "from optuna.integration import XGBoostPruningCallback\n",
        "from xgboost import XGBClassifier\n",
        "\n",
        "from sklearn.feature_selection import mutual_info_classif\n",
        "from sklearn.model_selection import StratifiedKFold\n",
        "from sklearn.model_selection import train_test_split\n",
        "from sklearn.metrics import roc_auc_score\n",
        "from sklearn.metrics import f1_score\n",
        "from scipy.stats import mode\n",
        "\n",
        "SEED = 2311"
      ],
      "metadata": {
        "id": "5UBz4Xrl6AO6"
      },
      "execution_count": 33,
      "outputs": []
    },
    {
      "cell_type": "code",
      "source": [
        "# processed train and test\n",
        "train = pd.read_csv(train_url)\n",
        "test = pd.read_csv(test_url)"
      ],
      "metadata": {
        "id": "62N5kzlg_Pqi"
      },
      "execution_count": 5,
      "outputs": []
    },
    {
      "cell_type": "code",
      "source": [
        "train.shape, test.shape"
      ],
      "metadata": {
        "colab": {
          "base_uri": "https://localhost:8080/"
        },
        "id": "PzktnE9NAATI",
        "outputId": "881e4227-a88f-4948-cebe-d269fa3af887"
      },
      "execution_count": 6,
      "outputs": [
        {
          "output_type": "execute_result",
          "data": {
            "text/plain": [
              "((36743, 19), (11383, 18))"
            ]
          },
          "metadata": {},
          "execution_count": 6
        }
      ]
    },
    {
      "cell_type": "code",
      "source": [
        "features = [f for f in train.columns if f not in ('customer_id', 'name', 'credit_card_default')]"
      ],
      "metadata": {
        "id": "qmhRGN3oBYDb"
      },
      "execution_count": 8,
      "outputs": []
    },
    {
      "cell_type": "code",
      "source": [
        "cat_features = ['gender', 'owns_car', 'owns_house', 'occupation_type', 'migrant_worker', 'default_in_last_6months']"
      ],
      "metadata": {
        "id": "EbaglLk8DGxq"
      },
      "execution_count": 9,
      "outputs": []
    },
    {
      "cell_type": "markdown",
      "source": [
        "# Class imbalance"
      ],
      "metadata": {
        "id": "CGOxikxhAagP"
      }
    },
    {
      "cell_type": "code",
      "source": [
        "train.credit_card_default.value_counts()"
      ],
      "metadata": {
        "colab": {
          "base_uri": "https://localhost:8080/"
        },
        "id": "sgl1qQOMAl8P",
        "outputId": "f2bfa896-eba6-4b39-d5ad-b5f68292dc2d"
      },
      "execution_count": 10,
      "outputs": [
        {
          "output_type": "execute_result",
          "data": {
            "text/plain": [
              "0    33528\n",
              "1     3215\n",
              "Name: credit_card_default, dtype: int64"
            ]
          },
          "metadata": {},
          "execution_count": 10
        }
      ]
    },
    {
      "cell_type": "code",
      "source": [
        "oversample = imblearn.over_sampling.SMOTE()"
      ],
      "metadata": {
        "id": "cCWpD6I7ArSF"
      },
      "execution_count": 11,
      "outputs": []
    },
    {
      "cell_type": "code",
      "source": [
        "train_oversampled, y = oversample.fit_resample(train[features + ['credit_card_default']], train.credit_card_default)"
      ],
      "metadata": {
        "id": "N_rkkeeiA_Fn"
      },
      "execution_count": 12,
      "outputs": []
    },
    {
      "cell_type": "code",
      "source": [
        "train_oversampled.shape, y.shape"
      ],
      "metadata": {
        "colab": {
          "base_uri": "https://localhost:8080/"
        },
        "id": "jw75NAd9DkRv",
        "outputId": "998bd220-476a-496a-cd4e-3342fd898692"
      },
      "execution_count": 13,
      "outputs": [
        {
          "output_type": "execute_result",
          "data": {
            "text/plain": [
              "((67056, 17), (67056,))"
            ]
          },
          "metadata": {},
          "execution_count": 13
        }
      ]
    },
    {
      "cell_type": "markdown",
      "source": [
        "# Folds for cross-validation"
      ],
      "metadata": {
        "id": "bI2z4KO9AKdj"
      }
    },
    {
      "cell_type": "code",
      "source": [
        "N_SPLITS = 5\n",
        "\n",
        "train['fold'] = -1\n",
        "\n",
        "skf = StratifiedKFold(n_splits=N_SPLITS, shuffle=True, random_state=SEED)\n",
        "\n",
        "for fold, (_, id) in enumerate(skf.split(X=train, y=train.credit_card_default)):\n",
        "  train.loc[id, 'fold'] = fold"
      ],
      "metadata": {
        "id": "tJlvin0MADdw"
      },
      "execution_count": 14,
      "outputs": []
    },
    {
      "cell_type": "code",
      "source": [
        "train_oversampled['fold'] = -1\n",
        "\n",
        "skf = StratifiedKFold(n_splits=N_SPLITS, shuffle=True, random_state=SEED)\n",
        "\n",
        "for fold, (_, id) in enumerate(skf.split(X=train_oversampled, y=train_oversampled.credit_card_default)):\n",
        "  train_oversampled.loc[id, 'fold'] = fold"
      ],
      "metadata": {
        "id": "xOvpm8HTFk1l"
      },
      "execution_count": 15,
      "outputs": []
    },
    {
      "cell_type": "markdown",
      "source": [
        "# Model 1 - train; all features"
      ],
      "metadata": {
        "id": "yk4-tvw6I-Tr"
      }
    },
    {
      "cell_type": "code",
      "source": [
        "xtrain, xval, ytrain, yval = train_test_split(train[features], train.credit_card_default, \n",
        "                                              stratify=train.credit_card_default,\n",
        "                                              test_size=0.2,\n",
        "                                              random_state=SEED)"
      ],
      "metadata": {
        "id": "_O87MMzcFyFH"
      },
      "execution_count": 16,
      "outputs": []
    },
    {
      "cell_type": "code",
      "source": [
        "base_params1 = {\n",
        "    'objective': 'binary:logistic',\n",
        "    'booster': 'gbtree',\n",
        "    'tree_method': 'gpu_hist',\n",
        "    'n_estimators': 5000,\n",
        "    'use_label_encoder': False,\n",
        "    'scale_pos_weight': 10.45, #ratio of negative class to positive class = 33528 / 3215\n",
        "    'enable_categorical': True,\n",
        "    'verbosity': 0,\n",
        "    'random_state': SEED\n",
        "}"
      ],
      "metadata": {
        "id": "XBxK9a5YLZS4"
      },
      "execution_count": 49,
      "outputs": []
    },
    {
      "cell_type": "code",
      "source": [
        "def objective(trial, xtrain, ytrain, xval, yval, base_params):\n",
        "        \n",
        "    param_grid = {\n",
        "        'learning_rate': trial.suggest_float('learning_rate', 0.01, 0.3),\n",
        "        'subsample': trial.suggest_float('subsample', 0.5, 1.0),\n",
        "        'reg_lambda': trial.suggest_float('reg_lambda', 1e-8, 1.0, log=True),\n",
        "        'reg_alpha': trial.suggest_float('reg_alpha', 1e-8, 1.0, log=True),\n",
        "        'max_depth': trial.suggest_int('max_depth', 3, 12)\n",
        "    }\n",
        "    \n",
        "    model = XGBClassifier(**base_params, **param_grid)\n",
        "    \n",
        "    model.fit(\n",
        "        xtrain, ytrain,\n",
        "        eval_set=[(xval, yval)],\n",
        "        eval_metric='aucpr',\n",
        "        early_stopping_rounds=100,\n",
        "        callbacks=[\n",
        "            XGBoostPruningCallback(trial, 'validation_0-aucpr')\n",
        "            #need to include index of validation set from eval_set for scikit-learn API\n",
        "        ],\n",
        "        verbose=200\n",
        "    )\n",
        "    \n",
        "    predictions = model.predict_proba(xval)[:, 1]\n",
        "    return roc_auc_score(yval, predictions)"
      ],
      "metadata": {
        "id": "iKi5LmdvLhoK"
      },
      "execution_count": 50,
      "outputs": []
    },
    {
      "cell_type": "code",
      "source": [
        "%%time\n",
        "study1 = optuna.create_study(direction='maximize', study_name='model1')\n",
        "\n",
        "study1.optimize(\n",
        "    lambda trial: objective(trial, xtrain, ytrain, xval, yval, base_params1), \n",
        "    n_trials=50\n",
        ")"
      ],
      "metadata": {
        "id": "VmEbr3p1L2KF"
      },
      "execution_count": null,
      "outputs": []
    },
    {
      "cell_type": "code",
      "source": [
        "print(f'Best value (AUC-PR): {study1.best_value:.5f}')\n",
        "\n",
        "best_params1 = study1.best_params\n",
        "print('Best params:')\n",
        "for key, value in best_params1.items():\n",
        "    print(f'\\t{key}: {value}')"
      ],
      "metadata": {
        "colab": {
          "base_uri": "https://localhost:8080/"
        },
        "id": "CuBLAI3aOI3N",
        "outputId": "660bfefd-ee99-42d5-dc72-ded32d2b24e9"
      },
      "execution_count": 52,
      "outputs": [
        {
          "output_type": "stream",
          "name": "stdout",
          "text": [
            "Best value (AUC): 0.99520\n",
            "Best params:\n",
            "\tlearning_rate: 0.2758303432184364\n",
            "\tsubsample: 0.8508705080169281\n",
            "\treg_lambda: 0.001299324214395094\n",
            "\treg_alpha: 0.00020563736367449882\n",
            "\tmax_depth: 5\n"
          ]
        }
      ]
    },
    {
      "cell_type": "code",
      "source": [
        "def custom_cross_val_predict(train, test, features, model):\n",
        "    test_preds = []\n",
        "    auc_scores = []\n",
        "    f1_scores = []\n",
        "    \n",
        "    cv_start = time.time()\n",
        "    \n",
        "    for fold in range(N_SPLITS):\n",
        "        print('-' * 40)\n",
        "        \n",
        "        xtrain = train[train.fold != fold].reset_index(drop=True)\n",
        "\n",
        "        xval = train[train.fold == fold].reset_index(drop=True)    \n",
        "        \n",
        "        fold_start = time.time()\n",
        "        \n",
        "        model.fit(\n",
        "            xtrain[features], xtrain.credit_card_default,\n",
        "            eval_set=[(xval[features], xval.credit_card_default)],\n",
        "            eval_metric='aucpr',\n",
        "            early_stopping_rounds=100,\n",
        "            verbose=200\n",
        "        )\n",
        "        val_probs = model.predict_proba(xval[features])[:,1] #out-of-fold predictions\n",
        "        val_preds = model.predict(xval[features])\n",
        "        \n",
        "        auc = roc_auc_score(xval.credit_card_default, val_probs)\n",
        "        auc_scores.append(auc)\n",
        "\n",
        "        f1 = f1_score(xval.credit_card_default, val_preds)\n",
        "        f1_scores.append(f1)\n",
        "\n",
        "        \n",
        "        fold_end = time.time()\n",
        "        \n",
        "        print(f'Fold #{fold}: AUC = {auc:.5f}, f1_score = {f1:5f}\\t[Time: {fold_end - fold_start:.2f} secs]')\n",
        "        \n",
        "        test_preds.append(model.predict(test[features]))\n",
        "        \n",
        "    cv_end = time.time()\n",
        "    print(f'Average AUC = {np.mean(auc_scores):.5f} with std. dev. = {np.std(auc_scores):.5f}')\n",
        "    print(f'Average f1_score = {np.mean(f1_scores):.5f} with std. dev. = {np.std(f1_scores):.5f}')\n",
        "    print(f'[Total time: {cv_end - cv_start:.2f} secs]')\n",
        "    \n",
        "    return mode(np.column_stack(test_preds), axis=1).mode"
      ],
      "metadata": {
        "id": "WnmuinKvRE2K"
      },
      "execution_count": 53,
      "outputs": []
    },
    {
      "cell_type": "code",
      "source": [
        "model1 = XGBClassifier(**base_params1, **best_params1)"
      ],
      "metadata": {
        "id": "yBWuSsQNVGBS"
      },
      "execution_count": 54,
      "outputs": []
    },
    {
      "cell_type": "code",
      "source": [
        "test_preds1 = custom_cross_val_predict(train, test, features, model1)"
      ],
      "metadata": {
        "colab": {
          "base_uri": "https://localhost:8080/"
        },
        "id": "n3Whrj_FUaos",
        "outputId": "7c749169-a4d0-4c0c-917d-e1ed1cbd847c"
      },
      "execution_count": 55,
      "outputs": [
        {
          "output_type": "stream",
          "name": "stdout",
          "text": [
            "----------------------------------------\n",
            "[0]\tvalidation_0-aucpr:0.949031\n",
            "Will train until validation_0-aucpr hasn't improved in 100 rounds.\n",
            "Stopping. Best iteration:\n",
            "[27]\tvalidation_0-aucpr:0.954335\n",
            "\n",
            "Fold #0: AUC = 0.99463, f1_score = 0.791980\t[Time: 1.53 secs]\n",
            "----------------------------------------\n",
            "[0]\tvalidation_0-aucpr:0.955755\n",
            "Will train until validation_0-aucpr hasn't improved in 100 rounds.\n",
            "Stopping. Best iteration:\n",
            "[14]\tvalidation_0-aucpr:0.957395\n",
            "\n",
            "Fold #1: AUC = 0.99490, f1_score = 0.792826\t[Time: 1.37 secs]\n",
            "----------------------------------------\n",
            "[0]\tvalidation_0-aucpr:0.945885\n",
            "Will train until validation_0-aucpr hasn't improved in 100 rounds.\n",
            "[200]\tvalidation_0-aucpr:0.949327\n",
            "Stopping. Best iteration:\n",
            "[153]\tvalidation_0-aucpr:0.95153\n",
            "\n",
            "Fold #2: AUC = 0.99417, f1_score = 0.837736\t[Time: 2.91 secs]\n",
            "----------------------------------------\n",
            "[0]\tvalidation_0-aucpr:0.956101\n",
            "Will train until validation_0-aucpr hasn't improved in 100 rounds.\n",
            "Stopping. Best iteration:\n",
            "[7]\tvalidation_0-aucpr:0.960319\n",
            "\n",
            "Fold #3: AUC = 0.99542, f1_score = 0.791615\t[Time: 1.31 secs]\n",
            "----------------------------------------\n",
            "[0]\tvalidation_0-aucpr:0.953723\n",
            "Will train until validation_0-aucpr hasn't improved in 100 rounds.\n",
            "Stopping. Best iteration:\n",
            "[32]\tvalidation_0-aucpr:0.957562\n",
            "\n",
            "Fold #4: AUC = 0.99473, f1_score = 0.798730\t[Time: 1.58 secs]\n",
            "Average AUC = 0.99477 with std. dev. = 0.00041\n",
            "Average f1_score = 0.80258 with std. dev. = 0.01777\n",
            "[Total time: 8.79 secs]\n"
          ]
        }
      ]
    },
    {
      "cell_type": "code",
      "source": [
        "sub1 = pd.DataFrame(columns=['customer_id', 'credit_card_default'])\n",
        "sub1.customer_id = test.customer_id\n",
        "sub1.credit_card_default = test_preds1\n",
        "\n",
        "sub1.to_csv('sub1.csv', index=False)"
      ],
      "metadata": {
        "id": "Hp0T0DD0VRuA"
      },
      "execution_count": 56,
      "outputs": []
    },
    {
      "cell_type": "markdown",
      "source": [
        "# Model 2 - train; important features"
      ],
      "metadata": {
        "id": "87omv2BmWQCm"
      }
    },
    {
      "cell_type": "code",
      "source": [
        "train[features + ['credit_card_default']].corr()['credit_card_default']"
      ],
      "metadata": {
        "colab": {
          "base_uri": "https://localhost:8080/"
        },
        "id": "yJ9UHZlXX88d",
        "outputId": "7c958cc5-d466-4b7e-9d66-7f28da21136f"
      },
      "execution_count": 42,
      "outputs": [
        {
          "output_type": "execute_result",
          "data": {
            "text/plain": [
              "age                        0.000455\n",
              "gender                     0.052901\n",
              "owns_car                  -0.026598\n",
              "owns_house                 0.001690\n",
              "no_of_children             0.012714\n",
              "net_yearly_income         -0.035228\n",
              "no_of_days_employed       -0.077430\n",
              "occupation_type            0.002322\n",
              "total_family_members       0.001516\n",
              "migrant_worker             0.025963\n",
              "yearly_debt_payments      -0.013671\n",
              "credit_limit              -0.024024\n",
              "credit_limit_used(%)       0.336084\n",
              "credit_score              -0.555296\n",
              "prev_defaults              0.771174\n",
              "default_in_last_6months    0.774399\n",
              "credit_card_default        1.000000\n",
              "Name: credit_card_default, dtype: float64"
            ]
          },
          "metadata": {},
          "execution_count": 42
        }
      ]
    },
    {
      "cell_type": "code",
      "source": [
        "mask = [(f in cat_features) for f in features]"
      ],
      "metadata": {
        "id": "UKnF10BBXd5o"
      },
      "execution_count": 43,
      "outputs": []
    },
    {
      "cell_type": "code",
      "source": [
        "%%time\n",
        "mi_scores = mutual_info_classif(train[features], train.credit_card_default,\n",
        "                                discrete_features=mask, random_state=SEED)"
      ],
      "metadata": {
        "colab": {
          "base_uri": "https://localhost:8080/"
        },
        "id": "0nNtBQViWu_m",
        "outputId": "a425a4c7-5201-4256-fb5d-54bd50806a02"
      },
      "execution_count": 44,
      "outputs": [
        {
          "output_type": "stream",
          "name": "stdout",
          "text": [
            "CPU times: user 2.08 s, sys: 3.67 ms, total: 2.08 s\n",
            "Wall time: 2.08 s\n"
          ]
        }
      ]
    },
    {
      "cell_type": "code",
      "source": [
        "dict(zip(features, mi_scores))"
      ],
      "metadata": {
        "colab": {
          "base_uri": "https://localhost:8080/"
        },
        "id": "GOoZAZE0ZWiQ",
        "outputId": "a8e6bb60-2369-4389-cb25-13f4c38ed305"
      },
      "execution_count": 47,
      "outputs": [
        {
          "output_type": "execute_result",
          "data": {
            "text/plain": [
              "{'age': 0.000981779735959698,\n",
              " 'credit_limit': 0.0006799572997060466,\n",
              " 'credit_limit_used(%)': 0.09655786669031174,\n",
              " 'credit_score': 0.23195443172139185,\n",
              " 'default_in_last_6months': 0.15316637548702577,\n",
              " 'gender': 0.0013729419586149911,\n",
              " 'migrant_worker': 0.0003263585295365523,\n",
              " 'net_yearly_income': 0.0011010409644265362,\n",
              " 'no_of_children': 0.0,\n",
              " 'no_of_days_employed': 0.00502548879955933,\n",
              " 'occupation_type': 0.002781599338767377,\n",
              " 'owns_car': 0.0003595133655748539,\n",
              " 'owns_house': 1.4299786092880629e-06,\n",
              " 'prev_defaults': 0.168398737370832,\n",
              " 'total_family_members': 0.0030217512849008976,\n",
              " 'yearly_debt_payments': 0.0}"
            ]
          },
          "metadata": {},
          "execution_count": 47
        }
      ]
    },
    {
      "cell_type": "markdown",
      "source": [
        "From the correlation and mutual-information data, we will choose the important features."
      ],
      "metadata": {
        "id": "Ac-szOwEa8on"
      }
    },
    {
      "cell_type": "code",
      "source": [
        "imp_features = ['credit_limit_used(%)', 'credit_score', 'prev_defaults', 'default_in_last_6months']"
      ],
      "metadata": {
        "id": "wcAlu5ivbEFp"
      },
      "execution_count": 48,
      "outputs": []
    },
    {
      "cell_type": "code",
      "source": [
        "xtrain, xval, ytrain, yval = train_test_split(train[imp_features], train.credit_card_default, \n",
        "                                              stratify=train.credit_card_default,\n",
        "                                              test_size=0.2,\n",
        "                                              random_state=SEED)"
      ],
      "metadata": {
        "id": "j-yQ799bdlSx"
      },
      "execution_count": 57,
      "outputs": []
    },
    {
      "cell_type": "code",
      "source": [
        "%%time\n",
        "study2 = optuna.create_study(direction='maximize', study_name='model2')\n",
        "\n",
        "study2.optimize(\n",
        "    lambda trial: objective(trial, xtrain, ytrain, xval, yval, base_params1), \n",
        "    n_trials=50\n",
        ")"
      ],
      "metadata": {
        "id": "xzN8PYTZbjuY"
      },
      "execution_count": null,
      "outputs": []
    },
    {
      "cell_type": "code",
      "source": [
        "print(f'Best value (AUC-PR): {study2.best_value:.5f}')\n",
        "\n",
        "best_params2 = study2.best_params\n",
        "print('Best params:')\n",
        "for key, value in best_params2.items():\n",
        "    print(f'\\t{key}: {value}')"
      ],
      "metadata": {
        "colab": {
          "base_uri": "https://localhost:8080/"
        },
        "id": "kHpewhWudMzb",
        "outputId": "86a3290a-187b-4c0a-823e-99f35569ffb4"
      },
      "execution_count": 59,
      "outputs": [
        {
          "output_type": "stream",
          "name": "stdout",
          "text": [
            "Best value (AUC-PR): 0.99419\n",
            "Best params:\n",
            "\tlearning_rate: 0.027812315553777913\n",
            "\tsubsample: 0.5095780195212785\n",
            "\treg_lambda: 0.08765516793830402\n",
            "\treg_alpha: 0.005952428807138894\n",
            "\tmax_depth: 4\n"
          ]
        }
      ]
    },
    {
      "cell_type": "code",
      "source": [
        "model2 = XGBClassifier(**base_params1, **best_params2)"
      ],
      "metadata": {
        "id": "gd-YXgzQdXPm"
      },
      "execution_count": 60,
      "outputs": []
    },
    {
      "cell_type": "code",
      "source": [
        "test_preds2 = custom_cross_val_predict(train, test, imp_features, model2)"
      ],
      "metadata": {
        "colab": {
          "base_uri": "https://localhost:8080/"
        },
        "outputId": "3e01442c-25cb-44ad-8f76-fb09dae15641",
        "id": "EXrgQpcQdXPn"
      },
      "execution_count": 61,
      "outputs": [
        {
          "output_type": "stream",
          "name": "stdout",
          "text": [
            "----------------------------------------\n",
            "[0]\tvalidation_0-aucpr:0.944914\n",
            "Will train until validation_0-aucpr hasn't improved in 100 rounds.\n",
            "Stopping. Best iteration:\n",
            "[11]\tvalidation_0-aucpr:0.945262\n",
            "\n",
            "Fold #0: AUC = 0.99346, f1_score = 0.781763\t[Time: 1.19 secs]\n",
            "----------------------------------------\n",
            "[0]\tvalidation_0-aucpr:0.952405\n",
            "Will train until validation_0-aucpr hasn't improved in 100 rounds.\n",
            "Stopping. Best iteration:\n",
            "[4]\tvalidation_0-aucpr:0.955095\n",
            "\n",
            "Fold #1: AUC = 0.99463, f1_score = 0.790898\t[Time: 1.18 secs]\n",
            "----------------------------------------\n",
            "[0]\tvalidation_0-aucpr:0.943593\n",
            "Will train until validation_0-aucpr hasn't improved in 100 rounds.\n",
            "Stopping. Best iteration:\n",
            "[4]\tvalidation_0-aucpr:0.944829\n",
            "\n",
            "Fold #2: AUC = 0.99342, f1_score = 0.793827\t[Time: 1.18 secs]\n",
            "----------------------------------------\n",
            "[0]\tvalidation_0-aucpr:0.947253\n",
            "Will train until validation_0-aucpr hasn't improved in 100 rounds.\n",
            "Stopping. Best iteration:\n",
            "[41]\tvalidation_0-aucpr:0.947304\n",
            "\n",
            "Fold #3: AUC = 0.99372, f1_score = 0.789926\t[Time: 1.54 secs]\n",
            "----------------------------------------\n",
            "[0]\tvalidation_0-aucpr:0.947756\n",
            "Will train until validation_0-aucpr hasn't improved in 100 rounds.\n",
            "[200]\tvalidation_0-aucpr:0.949355\n",
            "[400]\tvalidation_0-aucpr:0.952563\n",
            "Stopping. Best iteration:\n",
            "[442]\tvalidation_0-aucpr:0.953177\n",
            "\n",
            "Fold #4: AUC = 0.99403, f1_score = 0.784795\t[Time: 5.97 secs]\n",
            "Average AUC = 0.99385 with std. dev. = 0.00045\n",
            "Average f1_score = 0.78824 with std. dev. = 0.00436\n",
            "[Total time: 11.13 secs]\n"
          ]
        }
      ]
    },
    {
      "cell_type": "code",
      "source": [
        "sub2 = pd.DataFrame(columns=['customer_id', 'credit_card_default'])\n",
        "sub2.customer_id = test.customer_id\n",
        "sub2.credit_card_default = test_preds2\n",
        "\n",
        "sub2.to_csv('sub2.csv', index=False)"
      ],
      "metadata": {
        "id": "Ww6F6nOad2RG"
      },
      "execution_count": 62,
      "outputs": []
    },
    {
      "cell_type": "markdown",
      "source": [
        "# Model 3 - train_oversampled; all features"
      ],
      "metadata": {
        "id": "6sq2UaTgWYsI"
      }
    },
    {
      "cell_type": "code",
      "source": [
        "xtrain, xval, ytrain, yval = train_test_split(train_oversampled[features], \n",
        "                                              train_oversampled.credit_card_default, \n",
        "                                              stratify=train_oversampled.credit_card_default,\n",
        "                                              test_size=0.2,\n",
        "                                              random_state=SEED)"
      ],
      "metadata": {
        "id": "3opNi27aeUKn"
      },
      "execution_count": 63,
      "outputs": []
    },
    {
      "cell_type": "code",
      "source": [
        "base_params3 = {\n",
        "    'objective': 'binary:logistic',\n",
        "    'booster': 'gbtree',\n",
        "    'tree_method': 'gpu_hist',\n",
        "    'n_estimators': 5000,\n",
        "    'use_label_encoder': False,\n",
        "    # 'scale_pos_weight': 10.45, #ratio of negative class to positive class = 33528 / 3215\n",
        "    'enable_categorical': True,\n",
        "    'verbosity': 0,\n",
        "    'random_state': SEED\n",
        "}"
      ],
      "metadata": {
        "id": "EUXssAW_eqvN"
      },
      "execution_count": 64,
      "outputs": []
    },
    {
      "cell_type": "code",
      "source": [
        "%%time\n",
        "study3 = optuna.create_study(direction='maximize', study_name='model3')\n",
        "\n",
        "study3.optimize(\n",
        "    lambda trial: objective(trial, xtrain, ytrain, xval, yval, base_params3), \n",
        "    n_trials=50\n",
        ")"
      ],
      "metadata": {
        "id": "4MG-HjdSeUKp"
      },
      "execution_count": null,
      "outputs": []
    },
    {
      "cell_type": "code",
      "source": [
        "print(f'Best value (AUC-PR): {study3.best_value:.5f}')\n",
        "\n",
        "best_params3 = study3.best_params\n",
        "print('Best params:')\n",
        "for key, value in best_params3.items():\n",
        "    print(f'\\t{key}: {value}')"
      ],
      "metadata": {
        "colab": {
          "base_uri": "https://localhost:8080/"
        },
        "outputId": "3ccf580a-052f-48e9-a7be-dfe1e391c9ae",
        "id": "U_dQvA9ZeUKq"
      },
      "execution_count": 66,
      "outputs": [
        {
          "output_type": "stream",
          "name": "stdout",
          "text": [
            "Best value (AUC-PR): 0.99936\n",
            "Best params:\n",
            "\tlearning_rate: 0.060348024522222786\n",
            "\tsubsample: 0.9154376034848039\n",
            "\treg_lambda: 0.000267697763636681\n",
            "\treg_alpha: 0.10909969956659828\n",
            "\tmax_depth: 7\n"
          ]
        }
      ]
    },
    {
      "cell_type": "code",
      "source": [
        "model3 = XGBClassifier(**base_params3, **best_params3)"
      ],
      "metadata": {
        "id": "r2gNRPmveUKq"
      },
      "execution_count": 67,
      "outputs": []
    },
    {
      "cell_type": "code",
      "source": [
        "test_preds3 = custom_cross_val_predict(train, test, features, model3)"
      ],
      "metadata": {
        "colab": {
          "base_uri": "https://localhost:8080/"
        },
        "outputId": "4cb91162-b145-43e6-dd1b-c1c3445a4906",
        "id": "EW1TpH-7eUKr"
      },
      "execution_count": 68,
      "outputs": [
        {
          "output_type": "stream",
          "name": "stdout",
          "text": [
            "----------------------------------------\n",
            "[0]\tvalidation_0-aucpr:0.94534\n",
            "Will train until validation_0-aucpr hasn't improved in 100 rounds.\n",
            "Stopping. Best iteration:\n",
            "[65]\tvalidation_0-aucpr:0.953242\n",
            "\n",
            "Fold #0: AUC = 0.99459, f1_score = 0.848858\t[Time: 2.23 secs]\n",
            "----------------------------------------\n",
            "[0]\tvalidation_0-aucpr:0.955275\n",
            "Will train until validation_0-aucpr hasn't improved in 100 rounds.\n",
            "Stopping. Best iteration:\n",
            "[3]\tvalidation_0-aucpr:0.957907\n",
            "\n",
            "Fold #1: AUC = 0.99499, f1_score = 0.867303\t[Time: 1.28 secs]\n",
            "----------------------------------------\n",
            "[0]\tvalidation_0-aucpr:0.947576\n",
            "Will train until validation_0-aucpr hasn't improved in 100 rounds.\n",
            "Stopping. Best iteration:\n",
            "[38]\tvalidation_0-aucpr:0.953467\n",
            "\n",
            "Fold #2: AUC = 0.99451, f1_score = 0.850267\t[Time: 1.69 secs]\n",
            "----------------------------------------\n",
            "[0]\tvalidation_0-aucpr:0.952533\n",
            "Will train until validation_0-aucpr hasn't improved in 100 rounds.\n",
            "[200]\tvalidation_0-aucpr:0.955598\n",
            "Stopping. Best iteration:\n",
            "[106]\tvalidation_0-aucpr:0.957846\n",
            "\n",
            "Fold #3: AUC = 0.99506, f1_score = 0.862576\t[Time: 2.69 secs]\n",
            "----------------------------------------\n",
            "[0]\tvalidation_0-aucpr:0.953462\n",
            "Will train until validation_0-aucpr hasn't improved in 100 rounds.\n",
            "[200]\tvalidation_0-aucpr:0.954073\n",
            "Stopping. Best iteration:\n",
            "[102]\tvalidation_0-aucpr:0.95518\n",
            "\n",
            "Fold #4: AUC = 0.99433, f1_score = 0.867860\t[Time: 2.60 secs]\n",
            "Average AUC = 0.99470 with std. dev. = 0.00028\n",
            "Average f1_score = 0.85937 with std. dev. = 0.00823\n",
            "[Total time: 10.57 secs]\n"
          ]
        }
      ]
    },
    {
      "cell_type": "code",
      "source": [
        "sub3 = pd.DataFrame(columns=['customer_id', 'credit_card_default'])\n",
        "sub3.customer_id = test.customer_id\n",
        "sub3.credit_card_default = test_preds3\n",
        "\n",
        "sub3.to_csv('sub3.csv', index=False)"
      ],
      "metadata": {
        "id": "BDzkNnuOeUKs"
      },
      "execution_count": 69,
      "outputs": []
    },
    {
      "cell_type": "markdown",
      "source": [
        "# Model 4 - train_oversampled; important features"
      ],
      "metadata": {
        "id": "GFlgP7oWWc0t"
      }
    },
    {
      "cell_type": "code",
      "source": [
        "xtrain, xval, ytrain, yval = train_test_split(train_oversampled[imp_features], \n",
        "                                              train_oversampled.credit_card_default, \n",
        "                                              stratify=train_oversampled.credit_card_default,\n",
        "                                              test_size=0.2,\n",
        "                                              random_state=SEED)"
      ],
      "metadata": {
        "id": "JfSCSsX4guia"
      },
      "execution_count": 70,
      "outputs": []
    },
    {
      "cell_type": "code",
      "source": [
        "%%time\n",
        "study4 = optuna.create_study(direction='maximize', study_name='model4')\n",
        "\n",
        "study4.optimize(\n",
        "    lambda trial: objective(trial, xtrain, ytrain, xval, yval, base_params3), \n",
        "    n_trials=50\n",
        ")"
      ],
      "metadata": {
        "id": "DNvrzbuTguic"
      },
      "execution_count": null,
      "outputs": []
    },
    {
      "cell_type": "code",
      "source": [
        "print(f'Best value (AUC-PR): {study4.best_value:.5f}')\n",
        "\n",
        "best_params4 = study4.best_params\n",
        "print('Best params:')\n",
        "for key, value in best_params4.items():\n",
        "    print(f'\\t{key}: {value}')"
      ],
      "metadata": {
        "colab": {
          "base_uri": "https://localhost:8080/"
        },
        "outputId": "1f61e2e9-fd3f-46cd-d76c-6270e7f8be8d",
        "id": "wsbF8tLfguin"
      },
      "execution_count": 72,
      "outputs": [
        {
          "output_type": "stream",
          "name": "stdout",
          "text": [
            "Best value (AUC-PR): 0.99683\n",
            "Best params:\n",
            "\tlearning_rate: 0.161035720350742\n",
            "\tsubsample: 0.7040293077768522\n",
            "\treg_lambda: 0.0003887230399109898\n",
            "\treg_alpha: 6.7065841527997545e-06\n",
            "\tmax_depth: 6\n"
          ]
        }
      ]
    },
    {
      "cell_type": "code",
      "source": [
        "model4 = XGBClassifier(**base_params3, **best_params4)"
      ],
      "metadata": {
        "id": "x-McWKTLguio"
      },
      "execution_count": 73,
      "outputs": []
    },
    {
      "cell_type": "code",
      "source": [
        "test_preds4 = custom_cross_val_predict(train, test, imp_features, model4)"
      ],
      "metadata": {
        "colab": {
          "base_uri": "https://localhost:8080/"
        },
        "outputId": "f406ec57-e518-4a63-a784-0df1678164bd",
        "id": "kar8b3WTguip"
      },
      "execution_count": 74,
      "outputs": [
        {
          "output_type": "stream",
          "name": "stdout",
          "text": [
            "----------------------------------------\n",
            "[0]\tvalidation_0-aucpr:0.944963\n",
            "Will train until validation_0-aucpr hasn't improved in 100 rounds.\n",
            "Stopping. Best iteration:\n",
            "[0]\tvalidation_0-aucpr:0.944963\n",
            "\n",
            "Fold #0: AUC = 0.99340, f1_score = 0.852863\t[Time: 2.11 secs]\n",
            "----------------------------------------\n",
            "[0]\tvalidation_0-aucpr:0.956128\n",
            "Will train until validation_0-aucpr hasn't improved in 100 rounds.\n",
            "Stopping. Best iteration:\n",
            "[2]\tvalidation_0-aucpr:0.957675\n",
            "\n",
            "Fold #1: AUC = 0.99493, f1_score = 0.871930\t[Time: 1.99 secs]\n",
            "----------------------------------------\n",
            "[0]\tvalidation_0-aucpr:0.938803\n",
            "Will train until validation_0-aucpr hasn't improved in 100 rounds.\n",
            "Stopping. Best iteration:\n",
            "[6]\tvalidation_0-aucpr:0.948122\n",
            "\n",
            "Fold #2: AUC = 0.99388, f1_score = 0.847670\t[Time: 2.08 secs]\n",
            "----------------------------------------\n",
            "[0]\tvalidation_0-aucpr:0.948483\n",
            "Will train until validation_0-aucpr hasn't improved in 100 rounds.\n",
            "Stopping. Best iteration:\n",
            "[39]\tvalidation_0-aucpr:0.954932\n",
            "\n",
            "Fold #3: AUC = 0.99471, f1_score = 0.857143\t[Time: 2.79 secs]\n",
            "----------------------------------------\n",
            "[0]\tvalidation_0-aucpr:0.950926\n",
            "Will train until validation_0-aucpr hasn't improved in 100 rounds.\n",
            "Stopping. Best iteration:\n",
            "[39]\tvalidation_0-aucpr:0.952697\n",
            "\n",
            "Fold #4: AUC = 0.99360, f1_score = 0.865979\t[Time: 2.82 secs]\n",
            "Average AUC = 0.99410 with std. dev. = 0.00061\n",
            "Average f1_score = 0.85912 with std. dev. = 0.00878\n",
            "[Total time: 11.87 secs]\n"
          ]
        }
      ]
    },
    {
      "cell_type": "code",
      "source": [
        "sub4 = pd.DataFrame(columns=['customer_id', 'credit_card_default'])\n",
        "sub4.customer_id = test.customer_id\n",
        "sub4.credit_card_default = test_preds4\n",
        "\n",
        "sub4.to_csv('sub4.csv', index=False)"
      ],
      "metadata": {
        "id": "7Ls7OOZ5guix"
      },
      "execution_count": 75,
      "outputs": []
    }
  ]
}