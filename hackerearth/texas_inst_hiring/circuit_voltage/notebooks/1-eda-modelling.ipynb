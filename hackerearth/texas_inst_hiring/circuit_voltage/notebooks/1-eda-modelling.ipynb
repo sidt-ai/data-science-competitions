{
  "nbformat": 4,
  "nbformat_minor": 0,
  "metadata": {
    "colab": {
      "name": "[HE] Texas Inst - Predict the Output Voltage",
      "provenance": []
    },
    "kernelspec": {
      "name": "python3",
      "display_name": "Python 3"
    },
    "language_info": {
      "name": "python"
    }
  },
  "cells": [
    {
      "cell_type": "markdown",
      "source": [
        "# Imports"
      ],
      "metadata": {
        "id": "YY4O3UST8PY1"
      }
    },
    {
      "cell_type": "code",
      "source": [
        "train_url = 'https://raw.githubusercontent.com/sidt-ai/data-science-competitions/main/hackerearth/texas_inst_hiring/circuit_voltage/data/raw/train.csv'\n",
        "test_url = 'https://raw.githubusercontent.com/sidt-ai/data-science-competitions/main/hackerearth/texas_inst_hiring/circuit_voltage/data/raw/test.csv'"
      ],
      "metadata": {
        "id": "Sgf9t-Fi6ZMH"
      },
      "execution_count": 45,
      "outputs": []
    },
    {
      "cell_type": "code",
      "source": [
        "%%capture\n",
        "!python3 -m pip install --quiet --upgrade sklearn"
      ],
      "metadata": {
        "id": "SWjNgAZJ6pCd"
      },
      "execution_count": 46,
      "outputs": []
    },
    {
      "cell_type": "code",
      "source": [
        "import time\n",
        "import gc\n",
        "gc.enable()\n",
        "\n",
        "import warnings\n",
        "warnings.filterwarnings('ignore')\n",
        "\n",
        "import numpy as np\n",
        "import pandas as pd\n",
        "pd.set_option(\"precision\", 4)\n",
        "\n",
        "import matplotlib.pyplot as plt\n",
        "import seaborn as sns\n",
        "%matplotlib inline\n",
        "sns.set(style=\"darkgrid\")\n",
        "\n",
        "from sklearn.model_selection import train_test_split\n",
        "\n",
        "from sklearn.linear_model import LinearRegression\n",
        "\n",
        "from sklearn.neural_network import MLPRegressor\n",
        "from sklearn.ensemble import RandomForestRegressor\n",
        "\n",
        "SEED = 2311"
      ],
      "metadata": {
        "id": "Dgf2F4186txH"
      },
      "execution_count": 66,
      "outputs": []
    },
    {
      "cell_type": "code",
      "source": [
        "train = pd.read_csv(train_url)\n",
        "test = pd.read_csv(test_url)"
      ],
      "metadata": {
        "id": "lJEbRdzg7KBv"
      },
      "execution_count": 48,
      "outputs": []
    },
    {
      "cell_type": "markdown",
      "source": [
        "# Data Summary"
      ],
      "metadata": {
        "id": "fOVhuIM48YMI"
      }
    },
    {
      "cell_type": "code",
      "source": [
        "train.head()"
      ],
      "metadata": {
        "colab": {
          "base_uri": "https://localhost:8080/",
          "height": 0
        },
        "id": "fqjSyvyK7VF6",
        "outputId": "7706d63b-f7ba-4148-836f-c393803f098f"
      },
      "execution_count": 49,
      "outputs": [
        {
          "output_type": "execute_result",
          "data": {
            "text/html": [
              "\n",
              "  <div id=\"df-fdf58ad8-7da0-4201-90b5-bc4929f52cdc\">\n",
              "    <div class=\"colab-df-container\">\n",
              "      <div>\n",
              "<style scoped>\n",
              "    .dataframe tbody tr th:only-of-type {\n",
              "        vertical-align: middle;\n",
              "    }\n",
              "\n",
              "    .dataframe tbody tr th {\n",
              "        vertical-align: top;\n",
              "    }\n",
              "\n",
              "    .dataframe thead th {\n",
              "        text-align: right;\n",
              "    }\n",
              "</style>\n",
              "<table border=\"1\" class=\"dataframe\">\n",
              "  <thead>\n",
              "    <tr style=\"text-align: right;\">\n",
              "      <th></th>\n",
              "      <th>ID</th>\n",
              "      <th>time</th>\n",
              "      <th>V(in)</th>\n",
              "      <th>V(out)</th>\n",
              "      <th>V(n001)</th>\n",
              "      <th>V(n002)</th>\n",
              "      <th>V(n003)</th>\n",
              "      <th>V(n004)</th>\n",
              "      <th>V(n005)</th>\n",
              "      <th>Ix(U1:In+)</th>\n",
              "      <th>Ix(U1:In-)</th>\n",
              "    </tr>\n",
              "  </thead>\n",
              "  <tbody>\n",
              "    <tr>\n",
              "      <th>0</th>\n",
              "      <td>0x0</td>\n",
              "      <td>0.0000e+00</td>\n",
              "      <td>0.0000e+00</td>\n",
              "      <td>1.5900e-18</td>\n",
              "      <td>2.9600e-20</td>\n",
              "      <td>4.0000e-19</td>\n",
              "      <td>9.9500e-19</td>\n",
              "      <td>-5.0800e-16</td>\n",
              "      <td>-3.1100e-19</td>\n",
              "      <td>-4.0000e-28</td>\n",
              "      <td>0.0000e+00</td>\n",
              "    </tr>\n",
              "    <tr>\n",
              "      <th>1</th>\n",
              "      <td>0x1</td>\n",
              "      <td>1.0700e-08</td>\n",
              "      <td>6.7300e-05</td>\n",
              "      <td>-4.8700e-08</td>\n",
              "      <td>1.5900e-05</td>\n",
              "      <td>2.5300e-06</td>\n",
              "      <td>1.1100e-06</td>\n",
              "      <td>2.9100e-07</td>\n",
              "      <td>1.6900e-06</td>\n",
              "      <td>-1.2000e-09</td>\n",
              "      <td>2.4000e-09</td>\n",
              "    </tr>\n",
              "    <tr>\n",
              "      <th>2</th>\n",
              "      <td>0x2</td>\n",
              "      <td>2.1400e-08</td>\n",
              "      <td>1.3500e-04</td>\n",
              "      <td>-2.4400e-08</td>\n",
              "      <td>3.5500e-05</td>\n",
              "      <td>8.0800e-06</td>\n",
              "      <td>3.8200e-06</td>\n",
              "      <td>2.6000e-07</td>\n",
              "      <td>6.8900e-06</td>\n",
              "      <td>-2.1500e-09</td>\n",
              "      <td>4.3000e-09</td>\n",
              "    </tr>\n",
              "    <tr>\n",
              "      <th>3</th>\n",
              "      <td>0x3</td>\n",
              "      <td>3.2100e-08</td>\n",
              "      <td>2.0200e-04</td>\n",
              "      <td>7.2900e-08</td>\n",
              "      <td>5.9100e-05</td>\n",
              "      <td>1.6600e-05</td>\n",
              "      <td>8.1500e-06</td>\n",
              "      <td>-9.2100e-08</td>\n",
              "      <td>1.5600e-05</td>\n",
              "      <td>-2.8500e-09</td>\n",
              "      <td>5.7000e-09</td>\n",
              "    </tr>\n",
              "    <tr>\n",
              "      <th>4</th>\n",
              "      <td>0x4</td>\n",
              "      <td>4.2900e-08</td>\n",
              "      <td>2.6900e-04</td>\n",
              "      <td>2.4300e-07</td>\n",
              "      <td>8.6400e-05</td>\n",
              "      <td>2.8200e-05</td>\n",
              "      <td>1.4100e-05</td>\n",
              "      <td>-7.6600e-07</td>\n",
              "      <td>2.7800e-05</td>\n",
              "      <td>-3.3000e-09</td>\n",
              "      <td>6.6000e-09</td>\n",
              "    </tr>\n",
              "  </tbody>\n",
              "</table>\n",
              "</div>\n",
              "      <button class=\"colab-df-convert\" onclick=\"convertToInteractive('df-fdf58ad8-7da0-4201-90b5-bc4929f52cdc')\"\n",
              "              title=\"Convert this dataframe to an interactive table.\"\n",
              "              style=\"display:none;\">\n",
              "        \n",
              "  <svg xmlns=\"http://www.w3.org/2000/svg\" height=\"24px\"viewBox=\"0 0 24 24\"\n",
              "       width=\"24px\">\n",
              "    <path d=\"M0 0h24v24H0V0z\" fill=\"none\"/>\n",
              "    <path d=\"M18.56 5.44l.94 2.06.94-2.06 2.06-.94-2.06-.94-.94-2.06-.94 2.06-2.06.94zm-11 1L8.5 8.5l.94-2.06 2.06-.94-2.06-.94L8.5 2.5l-.94 2.06-2.06.94zm10 10l.94 2.06.94-2.06 2.06-.94-2.06-.94-.94-2.06-.94 2.06-2.06.94z\"/><path d=\"M17.41 7.96l-1.37-1.37c-.4-.4-.92-.59-1.43-.59-.52 0-1.04.2-1.43.59L10.3 9.45l-7.72 7.72c-.78.78-.78 2.05 0 2.83L4 21.41c.39.39.9.59 1.41.59.51 0 1.02-.2 1.41-.59l7.78-7.78 2.81-2.81c.8-.78.8-2.07 0-2.86zM5.41 20L4 18.59l7.72-7.72 1.47 1.35L5.41 20z\"/>\n",
              "  </svg>\n",
              "      </button>\n",
              "      \n",
              "  <style>\n",
              "    .colab-df-container {\n",
              "      display:flex;\n",
              "      flex-wrap:wrap;\n",
              "      gap: 12px;\n",
              "    }\n",
              "\n",
              "    .colab-df-convert {\n",
              "      background-color: #E8F0FE;\n",
              "      border: none;\n",
              "      border-radius: 50%;\n",
              "      cursor: pointer;\n",
              "      display: none;\n",
              "      fill: #1967D2;\n",
              "      height: 32px;\n",
              "      padding: 0 0 0 0;\n",
              "      width: 32px;\n",
              "    }\n",
              "\n",
              "    .colab-df-convert:hover {\n",
              "      background-color: #E2EBFA;\n",
              "      box-shadow: 0px 1px 2px rgba(60, 64, 67, 0.3), 0px 1px 3px 1px rgba(60, 64, 67, 0.15);\n",
              "      fill: #174EA6;\n",
              "    }\n",
              "\n",
              "    [theme=dark] .colab-df-convert {\n",
              "      background-color: #3B4455;\n",
              "      fill: #D2E3FC;\n",
              "    }\n",
              "\n",
              "    [theme=dark] .colab-df-convert:hover {\n",
              "      background-color: #434B5C;\n",
              "      box-shadow: 0px 1px 3px 1px rgba(0, 0, 0, 0.15);\n",
              "      filter: drop-shadow(0px 1px 2px rgba(0, 0, 0, 0.3));\n",
              "      fill: #FFFFFF;\n",
              "    }\n",
              "  </style>\n",
              "\n",
              "      <script>\n",
              "        const buttonEl =\n",
              "          document.querySelector('#df-fdf58ad8-7da0-4201-90b5-bc4929f52cdc button.colab-df-convert');\n",
              "        buttonEl.style.display =\n",
              "          google.colab.kernel.accessAllowed ? 'block' : 'none';\n",
              "\n",
              "        async function convertToInteractive(key) {\n",
              "          const element = document.querySelector('#df-fdf58ad8-7da0-4201-90b5-bc4929f52cdc');\n",
              "          const dataTable =\n",
              "            await google.colab.kernel.invokeFunction('convertToInteractive',\n",
              "                                                     [key], {});\n",
              "          if (!dataTable) return;\n",
              "\n",
              "          const docLinkHtml = 'Like what you see? Visit the ' +\n",
              "            '<a target=\"_blank\" href=https://colab.research.google.com/notebooks/data_table.ipynb>data table notebook</a>'\n",
              "            + ' to learn more about interactive tables.';\n",
              "          element.innerHTML = '';\n",
              "          dataTable['output_type'] = 'display_data';\n",
              "          await google.colab.output.renderOutput(dataTable, element);\n",
              "          const docLink = document.createElement('div');\n",
              "          docLink.innerHTML = docLinkHtml;\n",
              "          element.appendChild(docLink);\n",
              "        }\n",
              "      </script>\n",
              "    </div>\n",
              "  </div>\n",
              "  "
            ],
            "text/plain": [
              "    ID        time       V(in)  ...     V(n005)  Ix(U1:In+)  Ix(U1:In-)\n",
              "0  0x0  0.0000e+00  0.0000e+00  ... -3.1100e-19 -4.0000e-28  0.0000e+00\n",
              "1  0x1  1.0700e-08  6.7300e-05  ...  1.6900e-06 -1.2000e-09  2.4000e-09\n",
              "2  0x2  2.1400e-08  1.3500e-04  ...  6.8900e-06 -2.1500e-09  4.3000e-09\n",
              "3  0x3  3.2100e-08  2.0200e-04  ...  1.5600e-05 -2.8500e-09  5.7000e-09\n",
              "4  0x4  4.2900e-08  2.6900e-04  ...  2.7800e-05 -3.3000e-09  6.6000e-09\n",
              "\n",
              "[5 rows x 11 columns]"
            ]
          },
          "metadata": {},
          "execution_count": 49
        }
      ]
    },
    {
      "cell_type": "code",
      "source": [
        "test.head()"
      ],
      "metadata": {
        "colab": {
          "base_uri": "https://localhost:8080/",
          "height": 0
        },
        "id": "OQgIOJYQ7Xm9",
        "outputId": "a4903922-336f-4ec6-d5a0-3efffc3d7185"
      },
      "execution_count": 50,
      "outputs": [
        {
          "output_type": "execute_result",
          "data": {
            "text/html": [
              "\n",
              "  <div id=\"df-d792e8d3-e0da-4625-a019-b095d8c9f3f0\">\n",
              "    <div class=\"colab-df-container\">\n",
              "      <div>\n",
              "<style scoped>\n",
              "    .dataframe tbody tr th:only-of-type {\n",
              "        vertical-align: middle;\n",
              "    }\n",
              "\n",
              "    .dataframe tbody tr th {\n",
              "        vertical-align: top;\n",
              "    }\n",
              "\n",
              "    .dataframe thead th {\n",
              "        text-align: right;\n",
              "    }\n",
              "</style>\n",
              "<table border=\"1\" class=\"dataframe\">\n",
              "  <thead>\n",
              "    <tr style=\"text-align: right;\">\n",
              "      <th></th>\n",
              "      <th>ID</th>\n",
              "      <th>time</th>\n",
              "      <th>V(in)</th>\n",
              "      <th>V(n001)</th>\n",
              "      <th>V(n002)</th>\n",
              "      <th>V(n003)</th>\n",
              "      <th>V(n004)</th>\n",
              "      <th>V(n005)</th>\n",
              "      <th>Ix(U1:In+)</th>\n",
              "      <th>Ix(U1:In-)</th>\n",
              "    </tr>\n",
              "  </thead>\n",
              "  <tbody>\n",
              "    <tr>\n",
              "      <th>0</th>\n",
              "      <td>0x15f</td>\n",
              "      <td>0.0244</td>\n",
              "      <td>3.51</td>\n",
              "      <td>-0.0011</td>\n",
              "      <td>-3.51</td>\n",
              "      <td>8.4000e-05</td>\n",
              "      <td>-4.08</td>\n",
              "      <td>-0.0010</td>\n",
              "      <td>1.5200e-11</td>\n",
              "      <td>-1.5500e-11</td>\n",
              "    </tr>\n",
              "    <tr>\n",
              "      <th>1</th>\n",
              "      <td>0x160</td>\n",
              "      <td>0.0245</td>\n",
              "      <td>3.01</td>\n",
              "      <td>-0.0011</td>\n",
              "      <td>-3.01</td>\n",
              "      <td>8.8700e-05</td>\n",
              "      <td>-3.58</td>\n",
              "      <td>-0.0010</td>\n",
              "      <td>1.5600e-11</td>\n",
              "      <td>-1.5800e-11</td>\n",
              "    </tr>\n",
              "    <tr>\n",
              "      <th>2</th>\n",
              "      <td>0x161</td>\n",
              "      <td>0.0246</td>\n",
              "      <td>2.51</td>\n",
              "      <td>-0.0012</td>\n",
              "      <td>-2.51</td>\n",
              "      <td>9.2500e-05</td>\n",
              "      <td>-3.06</td>\n",
              "      <td>-0.0010</td>\n",
              "      <td>1.5900e-11</td>\n",
              "      <td>-1.6200e-11</td>\n",
              "    </tr>\n",
              "    <tr>\n",
              "      <th>3</th>\n",
              "      <td>0x162</td>\n",
              "      <td>0.0247</td>\n",
              "      <td>2.00</td>\n",
              "      <td>-0.0012</td>\n",
              "      <td>-2.00</td>\n",
              "      <td>9.5400e-05</td>\n",
              "      <td>-2.54</td>\n",
              "      <td>-0.0010</td>\n",
              "      <td>1.6300e-11</td>\n",
              "      <td>-1.6600e-11</td>\n",
              "    </tr>\n",
              "    <tr>\n",
              "      <th>4</th>\n",
              "      <td>0x163</td>\n",
              "      <td>0.0248</td>\n",
              "      <td>1.48</td>\n",
              "      <td>-0.0012</td>\n",
              "      <td>-1.48</td>\n",
              "      <td>9.7400e-05</td>\n",
              "      <td>-2.01</td>\n",
              "      <td>-0.0011</td>\n",
              "      <td>1.6700e-11</td>\n",
              "      <td>-1.7000e-11</td>\n",
              "    </tr>\n",
              "  </tbody>\n",
              "</table>\n",
              "</div>\n",
              "      <button class=\"colab-df-convert\" onclick=\"convertToInteractive('df-d792e8d3-e0da-4625-a019-b095d8c9f3f0')\"\n",
              "              title=\"Convert this dataframe to an interactive table.\"\n",
              "              style=\"display:none;\">\n",
              "        \n",
              "  <svg xmlns=\"http://www.w3.org/2000/svg\" height=\"24px\"viewBox=\"0 0 24 24\"\n",
              "       width=\"24px\">\n",
              "    <path d=\"M0 0h24v24H0V0z\" fill=\"none\"/>\n",
              "    <path d=\"M18.56 5.44l.94 2.06.94-2.06 2.06-.94-2.06-.94-.94-2.06-.94 2.06-2.06.94zm-11 1L8.5 8.5l.94-2.06 2.06-.94-2.06-.94L8.5 2.5l-.94 2.06-2.06.94zm10 10l.94 2.06.94-2.06 2.06-.94-2.06-.94-.94-2.06-.94 2.06-2.06.94z\"/><path d=\"M17.41 7.96l-1.37-1.37c-.4-.4-.92-.59-1.43-.59-.52 0-1.04.2-1.43.59L10.3 9.45l-7.72 7.72c-.78.78-.78 2.05 0 2.83L4 21.41c.39.39.9.59 1.41.59.51 0 1.02-.2 1.41-.59l7.78-7.78 2.81-2.81c.8-.78.8-2.07 0-2.86zM5.41 20L4 18.59l7.72-7.72 1.47 1.35L5.41 20z\"/>\n",
              "  </svg>\n",
              "      </button>\n",
              "      \n",
              "  <style>\n",
              "    .colab-df-container {\n",
              "      display:flex;\n",
              "      flex-wrap:wrap;\n",
              "      gap: 12px;\n",
              "    }\n",
              "\n",
              "    .colab-df-convert {\n",
              "      background-color: #E8F0FE;\n",
              "      border: none;\n",
              "      border-radius: 50%;\n",
              "      cursor: pointer;\n",
              "      display: none;\n",
              "      fill: #1967D2;\n",
              "      height: 32px;\n",
              "      padding: 0 0 0 0;\n",
              "      width: 32px;\n",
              "    }\n",
              "\n",
              "    .colab-df-convert:hover {\n",
              "      background-color: #E2EBFA;\n",
              "      box-shadow: 0px 1px 2px rgba(60, 64, 67, 0.3), 0px 1px 3px 1px rgba(60, 64, 67, 0.15);\n",
              "      fill: #174EA6;\n",
              "    }\n",
              "\n",
              "    [theme=dark] .colab-df-convert {\n",
              "      background-color: #3B4455;\n",
              "      fill: #D2E3FC;\n",
              "    }\n",
              "\n",
              "    [theme=dark] .colab-df-convert:hover {\n",
              "      background-color: #434B5C;\n",
              "      box-shadow: 0px 1px 3px 1px rgba(0, 0, 0, 0.15);\n",
              "      filter: drop-shadow(0px 1px 2px rgba(0, 0, 0, 0.3));\n",
              "      fill: #FFFFFF;\n",
              "    }\n",
              "  </style>\n",
              "\n",
              "      <script>\n",
              "        const buttonEl =\n",
              "          document.querySelector('#df-d792e8d3-e0da-4625-a019-b095d8c9f3f0 button.colab-df-convert');\n",
              "        buttonEl.style.display =\n",
              "          google.colab.kernel.accessAllowed ? 'block' : 'none';\n",
              "\n",
              "        async function convertToInteractive(key) {\n",
              "          const element = document.querySelector('#df-d792e8d3-e0da-4625-a019-b095d8c9f3f0');\n",
              "          const dataTable =\n",
              "            await google.colab.kernel.invokeFunction('convertToInteractive',\n",
              "                                                     [key], {});\n",
              "          if (!dataTable) return;\n",
              "\n",
              "          const docLinkHtml = 'Like what you see? Visit the ' +\n",
              "            '<a target=\"_blank\" href=https://colab.research.google.com/notebooks/data_table.ipynb>data table notebook</a>'\n",
              "            + ' to learn more about interactive tables.';\n",
              "          element.innerHTML = '';\n",
              "          dataTable['output_type'] = 'display_data';\n",
              "          await google.colab.output.renderOutput(dataTable, element);\n",
              "          const docLink = document.createElement('div');\n",
              "          docLink.innerHTML = docLinkHtml;\n",
              "          element.appendChild(docLink);\n",
              "        }\n",
              "      </script>\n",
              "    </div>\n",
              "  </div>\n",
              "  "
            ],
            "text/plain": [
              "      ID    time  V(in)  V(n001)  ...  V(n004)  V(n005)  Ix(U1:In+)  Ix(U1:In-)\n",
              "0  0x15f  0.0244   3.51  -0.0011  ...    -4.08  -0.0010  1.5200e-11 -1.5500e-11\n",
              "1  0x160  0.0245   3.01  -0.0011  ...    -3.58  -0.0010  1.5600e-11 -1.5800e-11\n",
              "2  0x161  0.0246   2.51  -0.0012  ...    -3.06  -0.0010  1.5900e-11 -1.6200e-11\n",
              "3  0x162  0.0247   2.00  -0.0012  ...    -2.54  -0.0010  1.6300e-11 -1.6600e-11\n",
              "4  0x163  0.0248   1.48  -0.0012  ...    -2.01  -0.0011  1.6700e-11 -1.7000e-11\n",
              "\n",
              "[5 rows x 10 columns]"
            ]
          },
          "metadata": {},
          "execution_count": 50
        }
      ]
    },
    {
      "cell_type": "code",
      "source": [
        "train.info()"
      ],
      "metadata": {
        "colab": {
          "base_uri": "https://localhost:8080/"
        },
        "id": "0QRLuvt77YiR",
        "outputId": "d6afb24b-2fed-49fe-cc0e-870d677d90a4"
      },
      "execution_count": 51,
      "outputs": [
        {
          "output_type": "stream",
          "name": "stdout",
          "text": [
            "<class 'pandas.core.frame.DataFrame'>\n",
            "RangeIndex: 351 entries, 0 to 350\n",
            "Data columns (total 11 columns):\n",
            " #   Column      Non-Null Count  Dtype  \n",
            "---  ------      --------------  -----  \n",
            " 0   ID          351 non-null    object \n",
            " 1   time        351 non-null    float64\n",
            " 2   V(in)       351 non-null    float64\n",
            " 3   V(out)      351 non-null    float64\n",
            " 4   V(n001)     351 non-null    float64\n",
            " 5   V(n002)     351 non-null    float64\n",
            " 6   V(n003)     351 non-null    float64\n",
            " 7   V(n004)     351 non-null    float64\n",
            " 8   V(n005)     351 non-null    float64\n",
            " 9   Ix(U1:In+)  351 non-null    float64\n",
            " 10  Ix(U1:In-)  351 non-null    float64\n",
            "dtypes: float64(10), object(1)\n",
            "memory usage: 30.3+ KB\n"
          ]
        }
      ]
    },
    {
      "cell_type": "code",
      "source": [
        "test.info()"
      ],
      "metadata": {
        "colab": {
          "base_uri": "https://localhost:8080/"
        },
        "id": "9HxyaBip7Zdr",
        "outputId": "172f55eb-64d1-469b-a509-20cd27c55516"
      },
      "execution_count": 52,
      "outputs": [
        {
          "output_type": "stream",
          "name": "stdout",
          "text": [
            "<class 'pandas.core.frame.DataFrame'>\n",
            "RangeIndex: 88 entries, 0 to 87\n",
            "Data columns (total 10 columns):\n",
            " #   Column      Non-Null Count  Dtype  \n",
            "---  ------      --------------  -----  \n",
            " 0   ID          88 non-null     object \n",
            " 1   time        88 non-null     float64\n",
            " 2   V(in)       88 non-null     float64\n",
            " 3   V(n001)     88 non-null     float64\n",
            " 4   V(n002)     88 non-null     float64\n",
            " 5   V(n003)     88 non-null     float64\n",
            " 6   V(n004)     88 non-null     float64\n",
            " 7   V(n005)     88 non-null     float64\n",
            " 8   Ix(U1:In+)  88 non-null     float64\n",
            " 9   Ix(U1:In-)  88 non-null     float64\n",
            "dtypes: float64(9), object(1)\n",
            "memory usage: 7.0+ KB\n"
          ]
        }
      ]
    },
    {
      "cell_type": "code",
      "source": [
        "features = list(test.columns)\n",
        "features.remove('ID')\n",
        "\n",
        "target = 'V(out)'"
      ],
      "metadata": {
        "id": "iiosKlTn-VnE"
      },
      "execution_count": 53,
      "outputs": []
    },
    {
      "cell_type": "markdown",
      "source": [
        "# 1. Correlation and Feature Selection"
      ],
      "metadata": {
        "id": "3dgyZkDc8TS6"
      }
    },
    {
      "cell_type": "code",
      "source": [
        "train.corr()[target][features]"
      ],
      "metadata": {
        "colab": {
          "base_uri": "https://localhost:8080/"
        },
        "id": "Dj_XG38T-4d8",
        "outputId": "413cc5c1-f55e-4098-ac28-aa99fe995bc3"
      },
      "execution_count": 54,
      "outputs": [
        {
          "output_type": "execute_result",
          "data": {
            "text/plain": [
              "time          0.1636\n",
              "V(in)         0.1952\n",
              "V(n001)      -0.0282\n",
              "V(n002)      -0.5099\n",
              "V(n003)       0.5091\n",
              "V(n004)      -0.3199\n",
              "V(n005)       0.5089\n",
              "Ix(U1:In+)    0.0549\n",
              "Ix(U1:In-)   -0.0544\n",
              "Name: V(out), dtype: float64"
            ]
          },
          "metadata": {},
          "execution_count": 54
        }
      ]
    },
    {
      "cell_type": "code",
      "source": [
        "abs(train.corr()[target][features]).sort_values()"
      ],
      "metadata": {
        "colab": {
          "base_uri": "https://localhost:8080/"
        },
        "id": "lT05Bwwt9dR6",
        "outputId": "fcaade2f-5dad-4abc-886f-edf529528909"
      },
      "execution_count": 55,
      "outputs": [
        {
          "output_type": "execute_result",
          "data": {
            "text/plain": [
              "V(n001)       0.0282\n",
              "Ix(U1:In-)    0.0544\n",
              "Ix(U1:In+)    0.0549\n",
              "time          0.1636\n",
              "V(in)         0.1952\n",
              "V(n004)       0.3199\n",
              "V(n005)       0.5089\n",
              "V(n003)       0.5091\n",
              "V(n002)       0.5099\n",
              "Name: V(out), dtype: float64"
            ]
          },
          "metadata": {},
          "execution_count": 55
        }
      ]
    },
    {
      "cell_type": "code",
      "source": [
        "plt.figure(figsize=(10, 10))\n",
        "sns.heatmap(train.corr(), annot=True)"
      ],
      "metadata": {
        "colab": {
          "base_uri": "https://localhost:8080/",
          "height": 662
        },
        "id": "ki24xDVW7aix",
        "outputId": "8704ed4d-461e-40ee-bbfb-052084943a0c"
      },
      "execution_count": 56,
      "outputs": [
        {
          "output_type": "execute_result",
          "data": {
            "text/plain": [
              "<matplotlib.axes._subplots.AxesSubplot at 0x7fc80045dd10>"
            ]
          },
          "metadata": {},
          "execution_count": 56
        },
        {
          "output_type": "display_data",
          "data": {
            "image/png": "[encoded data removed]",
            "text/plain": [
              "<Figure size 720x720 with 2 Axes>"
            ]
          },
          "metadata": {}
        }
      ]
    },
    {
      "cell_type": "markdown",
      "source": [
        "Ix(U1:In-) and Ix(U1:In+) have perfect negative correlation. Hence, only one of them is needed.  \n",
        "V(in) has almost perfect negative correlation with V(n002) and V(n004). Hence, only V(in) is needed.  \n",
        "V(n003) and V(n005) have perfect positive correlation. Hence, only one of them is needed."
      ],
      "metadata": {
        "id": "5ghqle8c_Ys-"
      }
    },
    {
      "cell_type": "code",
      "source": [
        "features.remove('Ix(U1:In-)')\n",
        "features.remove('V(n002)')\n",
        "features.remove('V(n004)')\n",
        "features.remove('V(n005)')"
      ],
      "metadata": {
        "id": "VyxTRTq_8cbW"
      },
      "execution_count": 57,
      "outputs": []
    },
    {
      "cell_type": "code",
      "source": [
        "features"
      ],
      "metadata": {
        "colab": {
          "base_uri": "https://localhost:8080/"
        },
        "id": "SPsFk-YcAvGN",
        "outputId": "6fa3d854-168a-4321-e0b9-a1ab8744b295"
      },
      "execution_count": 58,
      "outputs": [
        {
          "output_type": "execute_result",
          "data": {
            "text/plain": [
              "['time', 'V(in)', 'V(n001)', 'V(n003)', 'Ix(U1:In+)']"
            ]
          },
          "metadata": {},
          "execution_count": 58
        }
      ]
    },
    {
      "cell_type": "markdown",
      "source": [
        "# 2. Linear modelling"
      ],
      "metadata": {
        "id": "SQo4DrTvA5AW"
      }
    },
    {
      "cell_type": "markdown",
      "source": [
        "### Linear Regression"
      ],
      "metadata": {
        "id": "7g4gYlVXCvXU"
      }
    },
    {
      "cell_type": "code",
      "source": [
        "X = train[features]\n",
        "y = train[target]"
      ],
      "metadata": {
        "id": "aSPpXG0CCODb"
      },
      "execution_count": 59,
      "outputs": []
    },
    {
      "cell_type": "code",
      "source": [
        "xtrain, xval, ytrain, yval = train_test_split(X, y, shuffle=True, test_size=0.33, \n",
        "                                              random_state=SEED)"
      ],
      "metadata": {
        "id": "ESVfQCtRB3ux"
      },
      "execution_count": 60,
      "outputs": []
    },
    {
      "cell_type": "code",
      "source": [
        "model1 = LinearRegression().fit(xtrain, ytrain)"
      ],
      "metadata": {
        "id": "Z884jg01A3Bk"
      },
      "execution_count": 61,
      "outputs": []
    },
    {
      "cell_type": "code",
      "source": [
        "model1.score(xval, yval)"
      ],
      "metadata": {
        "colab": {
          "base_uri": "https://localhost:8080/"
        },
        "id": "fCxds5ZsBzSP",
        "outputId": "6b6e7bfa-ea5c-4722-fcb8-6b9cb7b4de3d"
      },
      "execution_count": 62,
      "outputs": [
        {
          "output_type": "execute_result",
          "data": {
            "text/plain": [
              "0.9996057482469319"
            ]
          },
          "metadata": {},
          "execution_count": 62
        }
      ]
    },
    {
      "cell_type": "code",
      "source": [
        "model1.fit(X, y)\n",
        "preds1 = model1.predict(test[features])"
      ],
      "metadata": {
        "id": "kECDvCy0CJft"
      },
      "execution_count": 63,
      "outputs": []
    },
    {
      "cell_type": "code",
      "source": [
        "sub1 = pd.DataFrame({'ID': test.ID, target: preds1})\n",
        "sub1.to_csv('sub1.csv', index=False)"
      ],
      "metadata": {
        "id": "RxtuDemvCrmQ"
      },
      "execution_count": 64,
      "outputs": []
    },
    {
      "cell_type": "code",
      "source": [
        "!head sub1.csv"
      ],
      "metadata": {
        "colab": {
          "base_uri": "https://localhost:8080/"
        },
        "id": "IpWC1w6NDWo7",
        "outputId": "106fb665-2162-4fdf-94e3-8ab8f5116af8"
      },
      "execution_count": 65,
      "outputs": [
        {
          "output_type": "stream",
          "name": "stdout",
          "text": [
            "ID,V(out)\n",
            "0x15f,3.611356776250913\n",
            "0x160,3.116048407682956\n",
            "0x161,2.6207092657710644\n",
            "0x162,2.1154478548289957\n",
            "0x163,1.60029234447871\n",
            "0x164,1.080567407048921\n",
            "0x165,0.7171506934169035\n",
            "0x166,0.5346785826017152\n",
            "0x167,0.35282146154464844\n"
          ]
        }
      ]
    },
    {
      "cell_type": "markdown",
      "source": [
        "# 3. Non-linear modelling"
      ],
      "metadata": {
        "id": "JrUPf92tDabs"
      }
    },
    {
      "cell_type": "markdown",
      "source": [
        "### Neural Network"
      ],
      "metadata": {
        "id": "aueLazL4EMZR"
      }
    },
    {
      "cell_type": "code",
      "source": [
        "model2 = MLPRegressor(hidden_layer_sizes=(8, 4), activation='relu',\n",
        "                      solver='adam', batch_size=32, random_state=SEED,\n",
        "                      early_stopping=True, validation_fraction=0.33,\n",
        "                      tol=1e-4, n_iter_no_change=20, verbose=True)"
      ],
      "metadata": {
        "id": "BHeNB_s_EObK"
      },
      "execution_count": 69,
      "outputs": []
    },
    {
      "cell_type": "code",
      "source": [
        "model2.fit(X, y)"
      ],
      "metadata": {
        "id": "aJ9C4_usFp7D"
      },
      "execution_count": null,
      "outputs": []
    },
    {
      "cell_type": "code",
      "source": [
        "preds2 = model2.predict(test[features])"
      ],
      "metadata": {
        "id": "jg3uspA3FurR"
      },
      "execution_count": 71,
      "outputs": []
    },
    {
      "cell_type": "code",
      "source": [
        "sub2 = pd.DataFrame({'ID': test.ID, target: preds2})\n",
        "sub2.to_csv('sub2.csv', index=False)"
      ],
      "metadata": {
        "id": "gILxRpp2F7n8"
      },
      "execution_count": 72,
      "outputs": []
    },
    {
      "cell_type": "code",
      "source": [
        "!head sub2.csv"
      ],
      "metadata": {
        "colab": {
          "base_uri": "https://localhost:8080/"
        },
        "id": "9hiN-HIDGExG",
        "outputId": "8fcc97d5-72df-4ae7-a070-cbd70dde5515"
      },
      "execution_count": 73,
      "outputs": [
        {
          "output_type": "stream",
          "name": "stdout",
          "text": [
            "ID,V(out)\n",
            "0x15f,3.4890527722002327\n",
            "0x160,2.982242932986038\n",
            "0x161,2.4754341598120346\n",
            "0x162,1.9584897060226678\n",
            "0x163,1.4354494682615486\n",
            "0x164,0.9391227106209956\n",
            "0x165,0.6250724367471177\n",
            "0x166,0.3791472326506877\n",
            "0x167,0.2297966290166069\n"
          ]
        }
      ]
    },
    {
      "cell_type": "markdown",
      "source": [
        "### Random Forest"
      ],
      "metadata": {
        "id": "867SA0xJGV4Y"
      }
    },
    {
      "cell_type": "code",
      "source": [
        "model3 = RandomForestRegressor(n_estimators=150, n_jobs=-1, random_state=SEED)"
      ],
      "metadata": {
        "id": "-vvK246CGF8u"
      },
      "execution_count": 74,
      "outputs": []
    },
    {
      "cell_type": "code",
      "source": [
        "model3.fit(xtrain, ytrain)"
      ],
      "metadata": {
        "colab": {
          "base_uri": "https://localhost:8080/"
        },
        "id": "TAHOuvTyG1J8",
        "outputId": "7d657da7-2f98-469f-89a8-789c89d71869"
      },
      "execution_count": 75,
      "outputs": [
        {
          "output_type": "execute_result",
          "data": {
            "text/plain": [
              "RandomForestRegressor(n_estimators=150, n_jobs=-1, random_state=2311)"
            ]
          },
          "metadata": {},
          "execution_count": 75
        }
      ]
    },
    {
      "cell_type": "code",
      "source": [
        "model3.score(xval, yval)"
      ],
      "metadata": {
        "colab": {
          "base_uri": "https://localhost:8080/"
        },
        "id": "CIWWugaCG4OT",
        "outputId": "0acbdd64-e174-49d4-c64b-02aecb4a6468"
      },
      "execution_count": 77,
      "outputs": [
        {
          "output_type": "execute_result",
          "data": {
            "text/plain": [
              "0.9994180263795323"
            ]
          },
          "metadata": {},
          "execution_count": 77
        }
      ]
    },
    {
      "cell_type": "code",
      "source": [
        "model3.fit(X, y)\n",
        "preds3 = model3.predict(test[features])"
      ],
      "metadata": {
        "id": "wQXGJd5tG6Jd"
      },
      "execution_count": 78,
      "outputs": []
    },
    {
      "cell_type": "code",
      "source": [
        "sub3 = pd.DataFrame({'ID': test.ID, target: preds3})\n",
        "sub3.to_csv('sub3.csv', index=False)"
      ],
      "metadata": {
        "id": "ub1M5AOZHB8w"
      },
      "execution_count": 79,
      "outputs": []
    },
    {
      "cell_type": "code",
      "source": [
        "!head sub3.csv"
      ],
      "metadata": {
        "colab": {
          "base_uri": "https://localhost:8080/"
        },
        "id": "F_DXsFPDHG_h",
        "outputId": "10cc3910-e8c8-43dd-d02f-9f0dc1c45aae"
      },
      "execution_count": 80,
      "outputs": [
        {
          "output_type": "stream",
          "name": "stdout",
          "text": [
            "ID,V(out)\n",
            "0x15f,3.5377999999999967\n",
            "0x160,2.999799999999994\n",
            "0x161,2.5002666666666666\n",
            "0x162,1.9675333333333314\n",
            "0x163,1.4750799999999997\n",
            "0x164,0.9573133333333325\n",
            "0x165,0.5645466666666664\n",
            "0x166,0.4220866666666663\n",
            "0x167,0.22590666666666637\n"
          ]
        }
      ]
    }
  ]
}