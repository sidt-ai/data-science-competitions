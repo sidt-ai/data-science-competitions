{
  "nbformat": 4,
  "nbformat_minor": 0,
  "metadata": {
    "colab": {
      "name": "[HE] Texas Inst - Predicting the price of iron",
      "provenance": []
    },
    "kernelspec": {
      "name": "python3",
      "display_name": "Python 3"
    },
    "language_info": {
      "name": "python"
    }
  },
  "cells": [
    {
      "cell_type": "markdown",
      "source": [
        "# Imports"
      ],
      "metadata": {
        "id": "QjSDKR7e4gVe"
      }
    },
    {
      "cell_type": "code",
      "source": [
        "train_url = 'https://raw.githubusercontent.com/sidt-ai/data-science-competitions/main/hackerearth/texas_inst_hiring/price_of_iron/data/raw/train.csv'\n",
        "test_url = 'https://raw.githubusercontent.com/sidt-ai/data-science-competitions/main/hackerearth/texas_inst_hiring/price_of_iron/data/raw/test.csv'\n",
        "sub_url = 'https://raw.githubusercontent.com/sidt-ai/data-science-competitions/main/hackerearth/texas_inst_hiring/price_of_iron/data/raw/sample_submission.csv'"
      ],
      "metadata": {
        "id": "3awh-SiDg0hY"
      },
      "execution_count": 13,
      "outputs": []
    },
    {
      "cell_type": "code",
      "source": [
        "%%capture\n",
        "!python3 -m pip install --quiet --upgrade sklearn\n",
        "!python3 -m pip install --quiet --upgrade optuna\n",
        "!python3 -m pip install --quiet --upgrade lightgbm"
      ],
      "metadata": {
        "id": "cdRroLl0hYcx"
      },
      "execution_count": 14,
      "outputs": []
    },
    {
      "cell_type": "code",
      "execution_count": 35,
      "metadata": {
        "id": "UJuf04j3gT8P"
      },
      "outputs": [],
      "source": [
        "import time\n",
        "import gc\n",
        "gc.enable()\n",
        "\n",
        "import warnings\n",
        "warnings.filterwarnings('ignore')\n",
        "\n",
        "import numpy as np\n",
        "import pandas as pd\n",
        "pd.set_option(\"precision\", 4)\n",
        "\n",
        "import matplotlib.pyplot as plt\n",
        "import seaborn as sns\n",
        "%matplotlib inline\n",
        "sns.set(style=\"darkgrid\")\n",
        "\n",
        "from sklearn.metrics import r2_score, mean_squared_error\n",
        "from sklearn.preprocessing import OrdinalEncoder\n",
        "from sklearn.model_selection import KFold\n",
        "from sklearn.model_selection import train_test_split\n",
        "\n",
        "from lightgbm import LGBMRegressor\n",
        "\n",
        "import optuna\n",
        "from optuna.samplers import TPESampler\n",
        "from optuna.integration import LightGBMPruningCallback\n",
        "\n",
        "SEED = 2311"
      ]
    },
    {
      "cell_type": "code",
      "source": [
        "import torch\n",
        "\n",
        "if torch.cuda.is_available():\n",
        "    GPU = True\n",
        "else:\n",
        "    GPU = False"
      ],
      "metadata": {
        "id": "A-eKcogDiHeD"
      },
      "execution_count": 16,
      "outputs": []
    },
    {
      "cell_type": "code",
      "source": [
        "train = pd.read_csv(train_url)\n",
        "test = pd.read_csv(test_url)\n",
        "sub = pd.read_csv(sub_url)"
      ],
      "metadata": {
        "id": "feGo7TS3hFKz"
      },
      "execution_count": 17,
      "outputs": []
    },
    {
      "cell_type": "markdown",
      "source": [
        "# Data Summary"
      ],
      "metadata": {
        "id": "ta76GADq4kFx"
      }
    },
    {
      "cell_type": "code",
      "source": [
        "train.head()"
      ],
      "metadata": {
        "colab": {
          "base_uri": "https://localhost:8080/",
          "height": 250
        },
        "id": "bpt5Y9bvh0cu",
        "outputId": "d8701c41-3e9b-42c9-89e2-80ab8d028699"
      },
      "execution_count": 18,
      "outputs": [
        {
          "output_type": "execute_result",
          "data": {
            "text/html": [
              "\n",
              "  <div id=\"df-2c74314c-0461-43cc-877b-538ff319645a\">\n",
              "    <div class=\"colab-df-container\">\n",
              "      <div>\n",
              "<style scoped>\n",
              "    .dataframe tbody tr th:only-of-type {\n",
              "        vertical-align: middle;\n",
              "    }\n",
              "\n",
              "    .dataframe tbody tr th {\n",
              "        vertical-align: top;\n",
              "    }\n",
              "\n",
              "    .dataframe thead th {\n",
              "        text-align: right;\n",
              "    }\n",
              "</style>\n",
              "<table border=\"1\" class=\"dataframe\">\n",
              "  <thead>\n",
              "    <tr style=\"text-align: right;\">\n",
              "      <th></th>\n",
              "      <th>ID</th>\n",
              "      <th>RI</th>\n",
              "      <th>QA-check</th>\n",
              "      <th>Color-check</th>\n",
              "      <th>Purity-Level</th>\n",
              "      <th>Depth-percentage</th>\n",
              "      <th>Width-of-iron-top-width</th>\n",
              "      <th>Axis-x</th>\n",
              "      <th>Axis-y</th>\n",
              "      <th>Axis-z</th>\n",
              "      <th>Price-in-dollars</th>\n",
              "    </tr>\n",
              "  </thead>\n",
              "  <tbody>\n",
              "    <tr>\n",
              "      <th>0</th>\n",
              "      <td>uid_36947</td>\n",
              "      <td>1.01</td>\n",
              "      <td>Premium</td>\n",
              "      <td>H</td>\n",
              "      <td>VS1</td>\n",
              "      <td>61.9</td>\n",
              "      <td>57.0</td>\n",
              "      <td>6.43</td>\n",
              "      <td>6.39</td>\n",
              "      <td>3.97</td>\n",
              "      <td>4779</td>\n",
              "    </tr>\n",
              "    <tr>\n",
              "      <th>1</th>\n",
              "      <td>uid_36834</td>\n",
              "      <td>0.41</td>\n",
              "      <td>Premium</td>\n",
              "      <td>E</td>\n",
              "      <td>VS1</td>\n",
              "      <td>59.8</td>\n",
              "      <td>61.0</td>\n",
              "      <td>4.85</td>\n",
              "      <td>4.79</td>\n",
              "      <td>2.88</td>\n",
              "      <td>1153</td>\n",
              "    </tr>\n",
              "    <tr>\n",
              "      <th>2</th>\n",
              "      <td>uid_39061</td>\n",
              "      <td>2.18</td>\n",
              "      <td>Premium</td>\n",
              "      <td>H</td>\n",
              "      <td>SI2</td>\n",
              "      <td>62.3</td>\n",
              "      <td>59.0</td>\n",
              "      <td>8.37</td>\n",
              "      <td>8.26</td>\n",
              "      <td>5.18</td>\n",
              "      <td>11579</td>\n",
              "    </tr>\n",
              "    <tr>\n",
              "      <th>3</th>\n",
              "      <td>uid_39213</td>\n",
              "      <td>0.71</td>\n",
              "      <td>Very Good</td>\n",
              "      <td>F</td>\n",
              "      <td>VS2</td>\n",
              "      <td>59.5</td>\n",
              "      <td>58.0</td>\n",
              "      <td>5.82</td>\n",
              "      <td>5.87</td>\n",
              "      <td>NaN</td>\n",
              "      <td>2918</td>\n",
              "    </tr>\n",
              "    <tr>\n",
              "      <th>4</th>\n",
              "      <td>uid_15924</td>\n",
              "      <td>0.70</td>\n",
              "      <td>Ideal</td>\n",
              "      <td>E</td>\n",
              "      <td>SI2</td>\n",
              "      <td>61.0</td>\n",
              "      <td>55.0</td>\n",
              "      <td>5.76</td>\n",
              "      <td>NaN</td>\n",
              "      <td>3.52</td>\n",
              "      <td>2332</td>\n",
              "    </tr>\n",
              "  </tbody>\n",
              "</table>\n",
              "</div>\n",
              "      <button class=\"colab-df-convert\" onclick=\"convertToInteractive('df-2c74314c-0461-43cc-877b-538ff319645a')\"\n",
              "              title=\"Convert this dataframe to an interactive table.\"\n",
              "              style=\"display:none;\">\n",
              "        \n",
              "  <svg xmlns=\"http://www.w3.org/2000/svg\" height=\"24px\"viewBox=\"0 0 24 24\"\n",
              "       width=\"24px\">\n",
              "    <path d=\"M0 0h24v24H0V0z\" fill=\"none\"/>\n",
              "    <path d=\"M18.56 5.44l.94 2.06.94-2.06 2.06-.94-2.06-.94-.94-2.06-.94 2.06-2.06.94zm-11 1L8.5 8.5l.94-2.06 2.06-.94-2.06-.94L8.5 2.5l-.94 2.06-2.06.94zm10 10l.94 2.06.94-2.06 2.06-.94-2.06-.94-.94-2.06-.94 2.06-2.06.94z\"/><path d=\"M17.41 7.96l-1.37-1.37c-.4-.4-.92-.59-1.43-.59-.52 0-1.04.2-1.43.59L10.3 9.45l-7.72 7.72c-.78.78-.78 2.05 0 2.83L4 21.41c.39.39.9.59 1.41.59.51 0 1.02-.2 1.41-.59l7.78-7.78 2.81-2.81c.8-.78.8-2.07 0-2.86zM5.41 20L4 18.59l7.72-7.72 1.47 1.35L5.41 20z\"/>\n",
              "  </svg>\n",
              "      </button>\n",
              "      \n",
              "  <style>\n",
              "    .colab-df-container {\n",
              "      display:flex;\n",
              "      flex-wrap:wrap;\n",
              "      gap: 12px;\n",
              "    }\n",
              "\n",
              "    .colab-df-convert {\n",
              "      background-color: #E8F0FE;\n",
              "      border: none;\n",
              "      border-radius: 50%;\n",
              "      cursor: pointer;\n",
              "      display: none;\n",
              "      fill: #1967D2;\n",
              "      height: 32px;\n",
              "      padding: 0 0 0 0;\n",
              "      width: 32px;\n",
              "    }\n",
              "\n",
              "    .colab-df-convert:hover {\n",
              "      background-color: #E2EBFA;\n",
              "      box-shadow: 0px 1px 2px rgba(60, 64, 67, 0.3), 0px 1px 3px 1px rgba(60, 64, 67, 0.15);\n",
              "      fill: #174EA6;\n",
              "    }\n",
              "\n",
              "    [theme=dark] .colab-df-convert {\n",
              "      background-color: #3B4455;\n",
              "      fill: #D2E3FC;\n",
              "    }\n",
              "\n",
              "    [theme=dark] .colab-df-convert:hover {\n",
              "      background-color: #434B5C;\n",
              "      box-shadow: 0px 1px 3px 1px rgba(0, 0, 0, 0.15);\n",
              "      filter: drop-shadow(0px 1px 2px rgba(0, 0, 0, 0.3));\n",
              "      fill: #FFFFFF;\n",
              "    }\n",
              "  </style>\n",
              "\n",
              "      <script>\n",
              "        const buttonEl =\n",
              "          document.querySelector('#df-2c74314c-0461-43cc-877b-538ff319645a button.colab-df-convert');\n",
              "        buttonEl.style.display =\n",
              "          google.colab.kernel.accessAllowed ? 'block' : 'none';\n",
              "\n",
              "        async function convertToInteractive(key) {\n",
              "          const element = document.querySelector('#df-2c74314c-0461-43cc-877b-538ff319645a');\n",
              "          const dataTable =\n",
              "            await google.colab.kernel.invokeFunction('convertToInteractive',\n",
              "                                                     [key], {});\n",
              "          if (!dataTable) return;\n",
              "\n",
              "          const docLinkHtml = 'Like what you see? Visit the ' +\n",
              "            '<a target=\"_blank\" href=https://colab.research.google.com/notebooks/data_table.ipynb>data table notebook</a>'\n",
              "            + ' to learn more about interactive tables.';\n",
              "          element.innerHTML = '';\n",
              "          dataTable['output_type'] = 'display_data';\n",
              "          await google.colab.output.renderOutput(dataTable, element);\n",
              "          const docLink = document.createElement('div');\n",
              "          docLink.innerHTML = docLinkHtml;\n",
              "          element.appendChild(docLink);\n",
              "        }\n",
              "      </script>\n",
              "    </div>\n",
              "  </div>\n",
              "  "
            ],
            "text/plain": [
              "          ID    RI   QA-check  ... Axis-y Axis-z  Price-in-dollars\n",
              "0  uid_36947  1.01    Premium  ...   6.39   3.97              4779\n",
              "1  uid_36834  0.41    Premium  ...   4.79   2.88              1153\n",
              "2  uid_39061  2.18    Premium  ...   8.26   5.18             11579\n",
              "3  uid_39213  0.71  Very Good  ...   5.87    NaN              2918\n",
              "4  uid_15924  0.70      Ideal  ...    NaN   3.52              2332\n",
              "\n",
              "[5 rows x 11 columns]"
            ]
          },
          "metadata": {},
          "execution_count": 18
        }
      ]
    },
    {
      "cell_type": "code",
      "source": [
        "test.head()"
      ],
      "metadata": {
        "colab": {
          "base_uri": "https://localhost:8080/",
          "height": 206
        },
        "id": "GbEE7gWr4MJo",
        "outputId": "954e385e-23b2-4b6c-f142-339b7f9e2dbb"
      },
      "execution_count": 45,
      "outputs": [
        {
          "output_type": "execute_result",
          "data": {
            "text/html": [
              "\n",
              "  <div id=\"df-86886005-7f50-43be-b226-b0e42f4410c8\">\n",
              "    <div class=\"colab-df-container\">\n",
              "      <div>\n",
              "<style scoped>\n",
              "    .dataframe tbody tr th:only-of-type {\n",
              "        vertical-align: middle;\n",
              "    }\n",
              "\n",
              "    .dataframe tbody tr th {\n",
              "        vertical-align: top;\n",
              "    }\n",
              "\n",
              "    .dataframe thead th {\n",
              "        text-align: right;\n",
              "    }\n",
              "</style>\n",
              "<table border=\"1\" class=\"dataframe\">\n",
              "  <thead>\n",
              "    <tr style=\"text-align: right;\">\n",
              "      <th></th>\n",
              "      <th>ID</th>\n",
              "      <th>RI</th>\n",
              "      <th>QA-check</th>\n",
              "      <th>Color-check</th>\n",
              "      <th>Purity-Level</th>\n",
              "      <th>Depth-percentage</th>\n",
              "      <th>Width-of-iron-top-width</th>\n",
              "      <th>Axis-x</th>\n",
              "      <th>Axis-y</th>\n",
              "      <th>Axis-z</th>\n",
              "    </tr>\n",
              "  </thead>\n",
              "  <tbody>\n",
              "    <tr>\n",
              "      <th>0</th>\n",
              "      <td>uid_38808</td>\n",
              "      <td>0.31</td>\n",
              "      <td>3.0</td>\n",
              "      <td>1.0</td>\n",
              "      <td>2.0</td>\n",
              "      <td>62.3</td>\n",
              "      <td>56.0</td>\n",
              "      <td>4.40</td>\n",
              "      <td>4.37</td>\n",
              "      <td>2.73</td>\n",
              "    </tr>\n",
              "    <tr>\n",
              "      <th>1</th>\n",
              "      <td>uid_36032</td>\n",
              "      <td>0.31</td>\n",
              "      <td>2.0</td>\n",
              "      <td>0.0</td>\n",
              "      <td>3.0</td>\n",
              "      <td>62.8</td>\n",
              "      <td>53.0</td>\n",
              "      <td>4.37</td>\n",
              "      <td>4.35</td>\n",
              "      <td>2.74</td>\n",
              "    </tr>\n",
              "    <tr>\n",
              "      <th>2</th>\n",
              "      <td>uid_28576</td>\n",
              "      <td>0.40</td>\n",
              "      <td>2.0</td>\n",
              "      <td>0.0</td>\n",
              "      <td>7.0</td>\n",
              "      <td>62.8</td>\n",
              "      <td>56.0</td>\n",
              "      <td>4.68</td>\n",
              "      <td>4.72</td>\n",
              "      <td>2.95</td>\n",
              "    </tr>\n",
              "    <tr>\n",
              "      <th>3</th>\n",
              "      <td>uid_51190</td>\n",
              "      <td>1.51</td>\n",
              "      <td>2.0</td>\n",
              "      <td>2.0</td>\n",
              "      <td>2.0</td>\n",
              "      <td>62.5</td>\n",
              "      <td>57.0</td>\n",
              "      <td>7.27</td>\n",
              "      <td>7.32</td>\n",
              "      <td>4.56</td>\n",
              "    </tr>\n",
              "    <tr>\n",
              "      <th>4</th>\n",
              "      <td>uid_10963</td>\n",
              "      <td>0.26</td>\n",
              "      <td>4.0</td>\n",
              "      <td>3.0</td>\n",
              "      <td>4.0</td>\n",
              "      <td>62.4</td>\n",
              "      <td>56.0</td>\n",
              "      <td>4.08</td>\n",
              "      <td>4.10</td>\n",
              "      <td>2.55</td>\n",
              "    </tr>\n",
              "  </tbody>\n",
              "</table>\n",
              "</div>\n",
              "      <button class=\"colab-df-convert\" onclick=\"convertToInteractive('df-86886005-7f50-43be-b226-b0e42f4410c8')\"\n",
              "              title=\"Convert this dataframe to an interactive table.\"\n",
              "              style=\"display:none;\">\n",
              "        \n",
              "  <svg xmlns=\"http://www.w3.org/2000/svg\" height=\"24px\"viewBox=\"0 0 24 24\"\n",
              "       width=\"24px\">\n",
              "    <path d=\"M0 0h24v24H0V0z\" fill=\"none\"/>\n",
              "    <path d=\"M18.56 5.44l.94 2.06.94-2.06 2.06-.94-2.06-.94-.94-2.06-.94 2.06-2.06.94zm-11 1L8.5 8.5l.94-2.06 2.06-.94-2.06-.94L8.5 2.5l-.94 2.06-2.06.94zm10 10l.94 2.06.94-2.06 2.06-.94-2.06-.94-.94-2.06-.94 2.06-2.06.94z\"/><path d=\"M17.41 7.96l-1.37-1.37c-.4-.4-.92-.59-1.43-.59-.52 0-1.04.2-1.43.59L10.3 9.45l-7.72 7.72c-.78.78-.78 2.05 0 2.83L4 21.41c.39.39.9.59 1.41.59.51 0 1.02-.2 1.41-.59l7.78-7.78 2.81-2.81c.8-.78.8-2.07 0-2.86zM5.41 20L4 18.59l7.72-7.72 1.47 1.35L5.41 20z\"/>\n",
              "  </svg>\n",
              "      </button>\n",
              "      \n",
              "  <style>\n",
              "    .colab-df-container {\n",
              "      display:flex;\n",
              "      flex-wrap:wrap;\n",
              "      gap: 12px;\n",
              "    }\n",
              "\n",
              "    .colab-df-convert {\n",
              "      background-color: #E8F0FE;\n",
              "      border: none;\n",
              "      border-radius: 50%;\n",
              "      cursor: pointer;\n",
              "      display: none;\n",
              "      fill: #1967D2;\n",
              "      height: 32px;\n",
              "      padding: 0 0 0 0;\n",
              "      width: 32px;\n",
              "    }\n",
              "\n",
              "    .colab-df-convert:hover {\n",
              "      background-color: #E2EBFA;\n",
              "      box-shadow: 0px 1px 2px rgba(60, 64, 67, 0.3), 0px 1px 3px 1px rgba(60, 64, 67, 0.15);\n",
              "      fill: #174EA6;\n",
              "    }\n",
              "\n",
              "    [theme=dark] .colab-df-convert {\n",
              "      background-color: #3B4455;\n",
              "      fill: #D2E3FC;\n",
              "    }\n",
              "\n",
              "    [theme=dark] .colab-df-convert:hover {\n",
              "      background-color: #434B5C;\n",
              "      box-shadow: 0px 1px 3px 1px rgba(0, 0, 0, 0.15);\n",
              "      filter: drop-shadow(0px 1px 2px rgba(0, 0, 0, 0.3));\n",
              "      fill: #FFFFFF;\n",
              "    }\n",
              "  </style>\n",
              "\n",
              "      <script>\n",
              "        const buttonEl =\n",
              "          document.querySelector('#df-86886005-7f50-43be-b226-b0e42f4410c8 button.colab-df-convert');\n",
              "        buttonEl.style.display =\n",
              "          google.colab.kernel.accessAllowed ? 'block' : 'none';\n",
              "\n",
              "        async function convertToInteractive(key) {\n",
              "          const element = document.querySelector('#df-86886005-7f50-43be-b226-b0e42f4410c8');\n",
              "          const dataTable =\n",
              "            await google.colab.kernel.invokeFunction('convertToInteractive',\n",
              "                                                     [key], {});\n",
              "          if (!dataTable) return;\n",
              "\n",
              "          const docLinkHtml = 'Like what you see? Visit the ' +\n",
              "            '<a target=\"_blank\" href=https://colab.research.google.com/notebooks/data_table.ipynb>data table notebook</a>'\n",
              "            + ' to learn more about interactive tables.';\n",
              "          element.innerHTML = '';\n",
              "          dataTable['output_type'] = 'display_data';\n",
              "          await google.colab.output.renderOutput(dataTable, element);\n",
              "          const docLink = document.createElement('div');\n",
              "          docLink.innerHTML = docLinkHtml;\n",
              "          element.appendChild(docLink);\n",
              "        }\n",
              "      </script>\n",
              "    </div>\n",
              "  </div>\n",
              "  "
            ],
            "text/plain": [
              "          ID    RI  QA-check  ...  Axis-x  Axis-y  Axis-z\n",
              "0  uid_38808  0.31       3.0  ...    4.40    4.37    2.73\n",
              "1  uid_36032  0.31       2.0  ...    4.37    4.35    2.74\n",
              "2  uid_28576  0.40       2.0  ...    4.68    4.72    2.95\n",
              "3  uid_51190  1.51       2.0  ...    7.27    7.32    4.56\n",
              "4  uid_10963  0.26       4.0  ...    4.08    4.10    2.55\n",
              "\n",
              "[5 rows x 10 columns]"
            ]
          },
          "metadata": {},
          "execution_count": 45
        }
      ]
    },
    {
      "cell_type": "code",
      "source": [
        "train.info()"
      ],
      "metadata": {
        "colab": {
          "base_uri": "https://localhost:8080/"
        },
        "id": "VnY8OvNPh19C",
        "outputId": "018fb89f-4c52-4f4f-e223-1a8b03248deb"
      },
      "execution_count": 19,
      "outputs": [
        {
          "output_type": "stream",
          "name": "stdout",
          "text": [
            "<class 'pandas.core.frame.DataFrame'>\n",
            "RangeIndex: 40455 entries, 0 to 40454\n",
            "Data columns (total 11 columns):\n",
            " #   Column                   Non-Null Count  Dtype  \n",
            "---  ------                   --------------  -----  \n",
            " 0   ID                       40455 non-null  object \n",
            " 1   RI                       40455 non-null  float64\n",
            " 2   QA-check                 40455 non-null  object \n",
            " 3   Color-check              40455 non-null  object \n",
            " 4   Purity-Level             36606 non-null  object \n",
            " 5   Depth-percentage         40455 non-null  float64\n",
            " 6   Width-of-iron-top-width  40455 non-null  float64\n",
            " 7   Axis-x                   36614 non-null  float64\n",
            " 8   Axis-y                   36612 non-null  float64\n",
            " 9   Axis-z                   36625 non-null  float64\n",
            " 10  Price-in-dollars         40455 non-null  int64  \n",
            "dtypes: float64(6), int64(1), object(4)\n",
            "memory usage: 3.4+ MB\n"
          ]
        }
      ]
    },
    {
      "cell_type": "code",
      "source": [
        "test.info()"
      ],
      "metadata": {
        "colab": {
          "base_uri": "https://localhost:8080/"
        },
        "id": "3Opv80j-h3G1",
        "outputId": "b0099730-e24b-4ed0-e32d-073804b9cdec"
      },
      "execution_count": 20,
      "outputs": [
        {
          "output_type": "stream",
          "name": "stdout",
          "text": [
            "<class 'pandas.core.frame.DataFrame'>\n",
            "RangeIndex: 13485 entries, 0 to 13484\n",
            "Data columns (total 10 columns):\n",
            " #   Column                   Non-Null Count  Dtype  \n",
            "---  ------                   --------------  -----  \n",
            " 0   ID                       13485 non-null  object \n",
            " 1   RI                       13485 non-null  float64\n",
            " 2   QA-check                 13485 non-null  object \n",
            " 3   Color-check              13485 non-null  object \n",
            " 4   Purity-Level             12209 non-null  object \n",
            " 5   Depth-percentage         13485 non-null  float64\n",
            " 6   Width-of-iron-top-width  13485 non-null  float64\n",
            " 7   Axis-x                   13353 non-null  float64\n",
            " 8   Axis-y                   11612 non-null  float64\n",
            " 9   Axis-z                   13352 non-null  float64\n",
            "dtypes: float64(6), object(4)\n",
            "memory usage: 1.0+ MB\n"
          ]
        }
      ]
    },
    {
      "cell_type": "code",
      "source": [
        "features = list(test.columns)\n",
        "features.remove('ID')\n",
        "\n",
        "cat_features = ['QA-check', 'Color-check', 'Purity-Level']\n",
        "target = 'Price-in-dollars'"
      ],
      "metadata": {
        "id": "rMMwbxzonQr0"
      },
      "execution_count": 21,
      "outputs": []
    },
    {
      "cell_type": "code",
      "source": [
        "ord_encoder = OrdinalEncoder()\n",
        "train[cat_features] = ord_encoder.fit_transform(train[cat_features])\n",
        "test[cat_features] = ord_encoder.transform(test[cat_features])"
      ],
      "metadata": {
        "id": "PXUplTwlpzla"
      },
      "execution_count": 22,
      "outputs": []
    },
    {
      "cell_type": "markdown",
      "source": [
        "# Hyperparameter tuning"
      ],
      "metadata": {
        "id": "ATnUb7uC4qE2"
      }
    },
    {
      "cell_type": "code",
      "source": [
        "base_params = {\n",
        "    'n_estimators': 5000,\n",
        "    'seed': SEED\n",
        "}\n",
        "\n",
        "if GPU:\n",
        "    base_params['device_type'] = 'gpu'"
      ],
      "metadata": {
        "id": "RGlOAXGLh39s"
      },
      "execution_count": 23,
      "outputs": []
    },
    {
      "cell_type": "code",
      "source": [
        "def objective(trial, xtrain, ytrain, xval, yval, base_params):\n",
        "    param_grid = {\n",
        "        'learning_rate': trial.suggest_float('learning_rate', 0.01, 0.3),\n",
        "        'num_leaves': trial.suggest_int('num_leaves', 50, 1000, step=25),\n",
        "        'max_depth': trial.suggest_int('max_depth', 3, 12),\n",
        "        'min_data_in_leaf': trial.suggest_int('min_data_in_leaf', 1000, 10000, step=100),\n",
        "        'min_gain_to_split': trial.suggest_float('min_gain_to_split', 0, 15),\n",
        "        'lambda_l1': trial.suggest_float('lambda_l1', 0, 100, step=5),\n",
        "        'lambda_l2': trial.suggest_float('lambda_l2', 0, 100, step=5),\n",
        "        'bagging_fraction': trial.suggest_float('bagging_fraction', 0.3, 0.95, step=0.1),\n",
        "        'bagging_freq': trial.suggest_categorical('bagging_freq', [1]),\n",
        "        'feature_fraction': trial.suggest_float('feature_fraction', 0.3, 0.95, step=0.1),\n",
        "    }\n",
        "\n",
        "    model = LGBMRegressor(**base_params, **param_grid)\n",
        "       \n",
        "    model.fit(\n",
        "        xtrain, ytrain,\n",
        "        eval_set=[(xval, yval)],\n",
        "        eval_metric='rmse',\n",
        "        early_stopping_rounds=200,\n",
        "        feature_name=features,\n",
        "        categorical_feature=cat_features,\n",
        "        callbacks=[\n",
        "            LightGBMPruningCallback(trial, 'rmse')\n",
        "      ] ,\n",
        "        verbose=250\n",
        "    )\n",
        "        \n",
        "    predictions = model.predict(xval)\n",
        "    return mean_squared_error(yval, predictions, squared=False)\n",
        "    "
      ],
      "metadata": {
        "id": "lkAyYbX8jXJS"
      },
      "execution_count": 28,
      "outputs": []
    },
    {
      "cell_type": "code",
      "source": [
        "study = optuna.create_study(direction='minimize', \n",
        "                            sampler=TPESampler(), \n",
        "                            study_name='TI_Q12')"
      ],
      "metadata": {
        "colab": {
          "base_uri": "https://localhost:8080/"
        },
        "id": "RhIrmDIbnFa0",
        "outputId": "63cd81da-0150-46e7-c284-188715c59998"
      },
      "execution_count": 29,
      "outputs": [
        {
          "output_type": "stream",
          "name": "stderr",
          "text": [
            "\u001b[32m[I 2022-01-30 15:52:51,863]\u001b[0m A new study created in memory with name: TI_Q12\u001b[0m\n"
          ]
        }
      ]
    },
    {
      "cell_type": "code",
      "source": [
        "xtrain, xval, ytrain, yval = train_test_split(train[features], train[target],\n",
        "                                              test_size=0.2, shuffle=True,\n",
        "                                              random_state=SEED)"
      ],
      "metadata": {
        "id": "WBEmNFNjoVgc"
      },
      "execution_count": 30,
      "outputs": []
    },
    {
      "cell_type": "code",
      "source": [
        "study.optimize(\n",
        "    lambda trial: objective(trial, xtrain, ytrain, xval, yval, base_params),\n",
        "    n_trials=50\n",
        ")"
      ],
      "metadata": {
        "id": "rWECm35gom-H"
      },
      "execution_count": null,
      "outputs": []
    },
    {
      "cell_type": "code",
      "source": [
        "print(f'Best score (RMSE): {study.best_value:.5f}')\n",
        "\n",
        "best_params = study.best_params\n",
        "print('Best params:')\n",
        "for key, value in best_params.items():\n",
        "    print(f'\\t{key}: {value}')"
      ],
      "metadata": {
        "colab": {
          "base_uri": "https://localhost:8080/"
        },
        "id": "eZr7YlNqo1sE",
        "outputId": "c0dadb76-0b4a-4668-b36d-7efff647dcd1"
      },
      "execution_count": 32,
      "outputs": [
        {
          "output_type": "stream",
          "name": "stdout",
          "text": [
            "Best score (RMSE): 3133.70864\n",
            "Best params:\n",
            "\tlearning_rate: 0.26581452208624495\n",
            "\tnum_leaves: 775\n",
            "\tmax_depth: 5\n",
            "\tmin_data_in_leaf: 1500\n",
            "\tmin_gain_to_split: 1.8428544441562709\n",
            "\tlambda_l1: 85.0\n",
            "\tlambda_l2: 25.0\n",
            "\tbagging_fraction: 0.6000000000000001\n",
            "\tbagging_freq: 1\n",
            "\tfeature_fraction: 0.8\n"
          ]
        }
      ]
    },
    {
      "cell_type": "markdown",
      "source": [
        "# Cross-validation + Inference"
      ],
      "metadata": {
        "id": "mv9yRpEB42y3"
      }
    },
    {
      "cell_type": "code",
      "source": [
        "N_SPLITS = 5\n",
        "kf = KFold(n_splits=N_SPLITS, shuffle=True, random_state=SEED)"
      ],
      "metadata": {
        "id": "HVuW3uMddDhk"
      },
      "execution_count": 37,
      "outputs": []
    },
    {
      "cell_type": "code",
      "source": [
        "train['fold'] = -1\n",
        "for fold, (_, val_idx) in enumerate(kf.split(X=train, y=train[target])):\n",
        "  train.loc[val_idx, 'fold'] = fold"
      ],
      "metadata": {
        "id": "8ilrMnOoeA3t"
      },
      "execution_count": 38,
      "outputs": []
    },
    {
      "cell_type": "code",
      "source": [
        "def custom_cross_val_predict(train, test, model, features, cat_features):\n",
        "#   oof_preds = {}\n",
        "  test_preds = []\n",
        "  scores = []\n",
        "    \n",
        "  cv_start = time.time()\n",
        "    \n",
        "  for fold in range(N_SPLITS):\n",
        "    print('-' * 40)\n",
        "        \n",
        "    xtrain = train[train.fold != fold].reset_index(drop=True)\n",
        "    ytrain = xtrain[target]\n",
        "\n",
        "    xval = train[train.fold == fold].reset_index(drop=True)\n",
        "    yval = xval[target]\n",
        "    # val_idx = xval.index.tolist()\n",
        "    \n",
        "    fold_start = time.time()\n",
        "        \n",
        "    model.fit(\n",
        "        xtrain[features], ytrain,\n",
        "        eval_set=[(xval[features], yval)],\n",
        "        eval_metric='rmse',\n",
        "        early_stopping_rounds=100,\n",
        "        feature_name=features,\n",
        "        categorical_feature=cat_features,\n",
        "        verbose=250\n",
        "    )\n",
        "    \n",
        "    val_preds = model.predict(xval[features])\n",
        "    # oof_preds.update(dict(zip(val_idx, val_preds)))\n",
        "    r2 = r2_score(yval, val_preds)\n",
        "    scores.append(r2)\n",
        "        \n",
        "    fold_end = time.time()\n",
        "        \n",
        "    print(f'Fold #{fold}: R2_Score = {r2:.5f} \\\n",
        "    [Time: {fold_end - fold_start:.2f}s]')\n",
        "        \n",
        "    test_preds.append(model.predict(test[features]))\n",
        "        \n",
        "    cv_end = time.time()\n",
        "  \n",
        "  print(f'Average R2_Score = {np.mean(scores):.5f} \\\n",
        "  with std. dev. = {np.std(scores):.5f}')\n",
        "  \n",
        "  print(f'[Total time: {cv_end - cv_start:.2f}s]')\n",
        "    \n",
        "#   oof_preds = pd.DataFrame.from_dict(oof_preds, orient='index').reset_index()\n",
        "  test_preds = np.mean(np.column_stack(test_preds), axis=1)\n",
        "    \n",
        "  return test_preds"
      ],
      "metadata": {
        "id": "meRBrnWe1fse"
      },
      "execution_count": 39,
      "outputs": []
    },
    {
      "cell_type": "code",
      "source": [
        "model = LGBMRegressor(**base_params, **best_params)"
      ],
      "metadata": {
        "id": "Wq9TOtdE2IL3"
      },
      "execution_count": 40,
      "outputs": []
    },
    {
      "cell_type": "code",
      "source": [
        "test_preds = custom_cross_val_predict(train, test, model, features, cat_features)"
      ],
      "metadata": {
        "colab": {
          "base_uri": "https://localhost:8080/"
        },
        "id": "ooegWzpp2CmK",
        "outputId": "b9f229d0-f262-42aa-e4e6-0391c24128b7"
      },
      "execution_count": 42,
      "outputs": [
        {
          "output_type": "stream",
          "name": "stdout",
          "text": [
            "----------------------------------------\n",
            "Training until validation scores don't improve for 100 rounds.\n",
            "[250]\tvalid_0's l2: 9.86346e+06\tvalid_0's rmse: 3140.62\n",
            "Early stopping, best iteration is:\n",
            "[235]\tvalid_0's l2: 9.85305e+06\tvalid_0's rmse: 3138.96\n",
            "Fold #0: R2_Score = 0.60206     [Time: 1.80s]\n",
            "----------------------------------------\n",
            "Training until validation scores don't improve for 100 rounds.\n",
            "Early stopping, best iteration is:\n",
            "[149]\tvalid_0's l2: 9.4194e+06\tvalid_0's rmse: 3069.1\n",
            "Fold #1: R2_Score = 0.61177     [Time: 1.42s]\n",
            "----------------------------------------\n",
            "Training until validation scores don't improve for 100 rounds.\n",
            "[250]\tvalid_0's l2: 1.05521e+07\tvalid_0's rmse: 3248.41\n",
            "Early stopping, best iteration is:\n",
            "[276]\tvalid_0's l2: 1.05418e+07\tvalid_0's rmse: 3246.81\n",
            "Fold #2: R2_Score = 0.58275     [Time: 2.01s]\n",
            "----------------------------------------\n",
            "Training until validation scores don't improve for 100 rounds.\n",
            "[250]\tvalid_0's l2: 1.02724e+07\tvalid_0's rmse: 3205.06\n",
            "Early stopping, best iteration is:\n",
            "[207]\tvalid_0's l2: 1.0254e+07\tvalid_0's rmse: 3202.19\n",
            "Fold #3: R2_Score = 0.60481     [Time: 1.50s]\n",
            "----------------------------------------\n",
            "Training until validation scores don't improve for 100 rounds.\n",
            "[250]\tvalid_0's l2: 9.06715e+06\tvalid_0's rmse: 3011.17\n",
            "Early stopping, best iteration is:\n",
            "[160]\tvalid_0's l2: 9.02885e+06\tvalid_0's rmse: 3004.8\n",
            "Fold #4: R2_Score = 0.62049     [Time: 1.44s]\n",
            "Average R2_Score = 0.60438   with std. dev. = 0.01255\n",
            "[Total time: 9.67s]\n"
          ]
        }
      ]
    },
    {
      "cell_type": "code",
      "source": [
        "sub = pd.DataFrame({'ID': test.ID, target: test_preds})\n",
        "sub[target] = test_preds\n",
        "sub.to_csv('sub.csv', index=False)\n",
        "\n",
        "!head sub.csv"
      ],
      "metadata": {
        "colab": {
          "base_uri": "https://localhost:8080/"
        },
        "id": "HT6fJayw2QC4",
        "outputId": "3b6cfd93-8980-4b5a-bf3e-33e0442cf060"
      },
      "execution_count": 44,
      "outputs": [
        {
          "output_type": "stream",
          "name": "stdout",
          "text": [
            "ID,Price-in-dollars\n",
            "uid_38808,581.0077430502481\n",
            "uid_36032,643.7372493098501\n",
            "uid_28576,1634.43699531078\n",
            "uid_51190,11890.049464269956\n",
            "uid_10963,357.6624786222192\n",
            "uid_36990,4245.000683763527\n",
            "uid_29238,2967.5579088399127\n",
            "uid_21955,12428.632171434707\n",
            "uid_36295,4784.5875124810955\n"
          ]
        }
      ]
    }
  ]
}