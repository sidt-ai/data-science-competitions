{
  "nbformat": 4,
  "nbformat_minor": 0,
  "metadata": {
    "colab": {
      "name": "[MH] Analytics Olympiad 2021",
      "provenance": []
    },
    "kernelspec": {
      "name": "python3",
      "display_name": "Python 3"
    },
    "language_info": {
      "name": "python"
    },
    "accelerator": "GPU"
  },
  "cells": [
    {
      "cell_type": "code",
      "metadata": {
        "id": "osmYt-HjZJLY"
      },
      "source": [
        "import time\n",
        "import warnings\n",
        "warnings.filterwarnings('ignore')\n",
        "\n",
        "import numpy as np\n",
        "import pandas as pd\n",
        "\n",
        "from sklearn.model_selection import KFold\n",
        "from sklearn.metrics import mean_squared_error\n",
        "\n",
        "SEED = 2311\n",
        "N_SPLITS = 5"
      ],
      "execution_count": null,
      "outputs": []
    },
    {
      "cell_type": "code",
      "metadata": {
        "id": "vwsXxKHtfHLJ"
      },
      "source": [
        "train = pd.read_csv('https://github.com/sidt-ai/MachineHack-hackathons/blob/main/MH_datasets/Shiv_Nadar_DAC/train.csv?raw=true')\n",
        "test = pd.read_csv('https://github.com/sidt-ai/MachineHack-hackathons/blob/main/MH_datasets/Shiv_Nadar_DAC/test.csv?raw=true')\n",
        "submission = pd.read_csv('https://raw.githubusercontent.com/sidt-ai/MachineHack-hackathons/main/MH_datasets/Shiv_Nadar_DAC/submission.csv')"
      ],
      "execution_count": null,
      "outputs": []
    },
    {
      "cell_type": "code",
      "metadata": {
        "colab": {
          "base_uri": "https://localhost:8080/",
          "height": 179
        },
        "id": "C8UnzFcLfm2V",
        "outputId": "33d96d70-1b25-439d-de5f-20d6f54c9ae6"
      },
      "source": [
        "train.head(3)"
      ],
      "execution_count": null,
      "outputs": [
        {
          "output_type": "execute_result",
          "data": {
            "text/html": [
              "<div>\n",
              "<style scoped>\n",
              "    .dataframe tbody tr th:only-of-type {\n",
              "        vertical-align: middle;\n",
              "    }\n",
              "\n",
              "    .dataframe tbody tr th {\n",
              "        vertical-align: top;\n",
              "    }\n",
              "\n",
              "    .dataframe thead th {\n",
              "        text-align: right;\n",
              "    }\n",
              "</style>\n",
              "<table border=\"1\" class=\"dataframe\">\n",
              "  <thead>\n",
              "    <tr style=\"text-align: right;\">\n",
              "      <th></th>\n",
              "      <th>Item_ID</th>\n",
              "      <th>Item_W</th>\n",
              "      <th>Item_Type</th>\n",
              "      <th>Item_MRP</th>\n",
              "      <th>Outlet_ID</th>\n",
              "      <th>Outlet_Year</th>\n",
              "      <th>Outlet_Size</th>\n",
              "      <th>Outlet_Location_Type</th>\n",
              "      <th>Sales</th>\n",
              "    </tr>\n",
              "  </thead>\n",
              "  <tbody>\n",
              "    <tr>\n",
              "      <th>0</th>\n",
              "      <td>FDU32</td>\n",
              "      <td>21.027499</td>\n",
              "      <td>Baking Goods</td>\n",
              "      <td>197.352319</td>\n",
              "      <td>OUT046</td>\n",
              "      <td>2004</td>\n",
              "      <td>Small</td>\n",
              "      <td>Tier 2</td>\n",
              "      <td>2689.457781</td>\n",
              "    </tr>\n",
              "    <tr>\n",
              "      <th>1</th>\n",
              "      <td>NCT54</td>\n",
              "      <td>21.102371</td>\n",
              "      <td>Meat</td>\n",
              "      <td>148.250214</td>\n",
              "      <td>OUT035</td>\n",
              "      <td>1987</td>\n",
              "      <td>Small</td>\n",
              "      <td>Tier 1</td>\n",
              "      <td>3437.350375</td>\n",
              "    </tr>\n",
              "    <tr>\n",
              "      <th>2</th>\n",
              "      <td>FDW08</td>\n",
              "      <td>20.882263</td>\n",
              "      <td>Hard Drinks</td>\n",
              "      <td>205.465010</td>\n",
              "      <td>OUT035</td>\n",
              "      <td>1999</td>\n",
              "      <td>Small</td>\n",
              "      <td>Tier 3</td>\n",
              "      <td>3129.967268</td>\n",
              "    </tr>\n",
              "  </tbody>\n",
              "</table>\n",
              "</div>"
            ],
            "text/plain": [
              "  Item_ID     Item_W  ... Outlet_Location_Type        Sales\n",
              "0   FDU32  21.027499  ...               Tier 2  2689.457781\n",
              "1   NCT54  21.102371  ...               Tier 1  3437.350375\n",
              "2   FDW08  20.882263  ...               Tier 3  3129.967268\n",
              "\n",
              "[3 rows x 9 columns]"
            ]
          },
          "metadata": {},
          "execution_count": 3
        }
      ]
    },
    {
      "cell_type": "code",
      "metadata": {
        "colab": {
          "base_uri": "https://localhost:8080/",
          "height": 159
        },
        "id": "XiAdCKp6fofd",
        "outputId": "2274ec91-eda4-4c9c-93e1-aaa57515208c"
      },
      "source": [
        "test.head(3)"
      ],
      "execution_count": null,
      "outputs": [
        {
          "output_type": "execute_result",
          "data": {
            "text/html": [
              "<div>\n",
              "<style scoped>\n",
              "    .dataframe tbody tr th:only-of-type {\n",
              "        vertical-align: middle;\n",
              "    }\n",
              "\n",
              "    .dataframe tbody tr th {\n",
              "        vertical-align: top;\n",
              "    }\n",
              "\n",
              "    .dataframe thead th {\n",
              "        text-align: right;\n",
              "    }\n",
              "</style>\n",
              "<table border=\"1\" class=\"dataframe\">\n",
              "  <thead>\n",
              "    <tr style=\"text-align: right;\">\n",
              "      <th></th>\n",
              "      <th>Item_ID</th>\n",
              "      <th>Item_W</th>\n",
              "      <th>Item_Type</th>\n",
              "      <th>Item_MRP</th>\n",
              "      <th>Outlet_ID</th>\n",
              "      <th>Outlet_Year</th>\n",
              "      <th>Outlet_Size</th>\n",
              "      <th>Outlet_Location_Type</th>\n",
              "    </tr>\n",
              "  </thead>\n",
              "  <tbody>\n",
              "    <tr>\n",
              "      <th>0</th>\n",
              "      <td>DRM23</td>\n",
              "      <td>10.156725</td>\n",
              "      <td>Snack Foods</td>\n",
              "      <td>119.319482</td>\n",
              "      <td>OUT013</td>\n",
              "      <td>1999</td>\n",
              "      <td>High</td>\n",
              "      <td>Tier 3</td>\n",
              "    </tr>\n",
              "    <tr>\n",
              "      <th>1</th>\n",
              "      <td>FDG47</td>\n",
              "      <td>10.434425</td>\n",
              "      <td>Household</td>\n",
              "      <td>263.600449</td>\n",
              "      <td>OUT018</td>\n",
              "      <td>1987</td>\n",
              "      <td>High</td>\n",
              "      <td>Tier 3</td>\n",
              "    </tr>\n",
              "    <tr>\n",
              "      <th>2</th>\n",
              "      <td>FDN21</td>\n",
              "      <td>11.953589</td>\n",
              "      <td>Health and Hygiene</td>\n",
              "      <td>246.286990</td>\n",
              "      <td>OUT018</td>\n",
              "      <td>1997</td>\n",
              "      <td>High</td>\n",
              "      <td>Tier 1</td>\n",
              "    </tr>\n",
              "  </tbody>\n",
              "</table>\n",
              "</div>"
            ],
            "text/plain": [
              "  Item_ID     Item_W  ... Outlet_Size  Outlet_Location_Type\n",
              "0   DRM23  10.156725  ...        High                Tier 3\n",
              "1   FDG47  10.434425  ...        High                Tier 3\n",
              "2   FDN21  11.953589  ...        High                Tier 1\n",
              "\n",
              "[3 rows x 8 columns]"
            ]
          },
          "metadata": {},
          "execution_count": 4
        }
      ]
    },
    {
      "cell_type": "code",
      "metadata": {
        "colab": {
          "base_uri": "https://localhost:8080/"
        },
        "id": "524xxnB7fp8t",
        "outputId": "c82005ca-b40b-4d55-c55f-12bbb6d491b7"
      },
      "source": [
        "train.shape, test.shape"
      ],
      "execution_count": null,
      "outputs": [
        {
          "output_type": "execute_result",
          "data": {
            "text/plain": [
              "((87864, 9), (37656, 8))"
            ]
          },
          "metadata": {},
          "execution_count": 5
        }
      ]
    },
    {
      "cell_type": "markdown",
      "metadata": {
        "id": "-rFdLZQF7xEE"
      },
      "source": [
        "# Folds for cross-validation"
      ]
    },
    {
      "cell_type": "code",
      "metadata": {
        "id": "XRe7QwTAhW8c"
      },
      "source": [
        "train['fold'] = -1\n",
        "\n",
        "kf = KFold(n_splits=N_SPLITS, shuffle=True, random_state=SEED)\n",
        "\n",
        "for fold, (train_idx, val_idx) in enumerate(kf.split(X=train)):\n",
        "    train.loc[val_idx, 'fold'] = fold"
      ],
      "execution_count": null,
      "outputs": []
    },
    {
      "cell_type": "code",
      "metadata": {
        "colab": {
          "base_uri": "https://localhost:8080/"
        },
        "id": "guMuEXUJij3R",
        "outputId": "9cd49d7d-6bd2-4d51-e1db-3db55a4c28cf"
      },
      "source": [
        "train.head(3)"
      ],
      "execution_count": null,
      "outputs": [
        {
          "output_type": "execute_result",
          "data": {
            "text/html": [
              "<div>\n",
              "<style scoped>\n",
              "    .dataframe tbody tr th:only-of-type {\n",
              "        vertical-align: middle;\n",
              "    }\n",
              "\n",
              "    .dataframe tbody tr th {\n",
              "        vertical-align: top;\n",
              "    }\n",
              "\n",
              "    .dataframe thead th {\n",
              "        text-align: right;\n",
              "    }\n",
              "</style>\n",
              "<table border=\"1\" class=\"dataframe\">\n",
              "  <thead>\n",
              "    <tr style=\"text-align: right;\">\n",
              "      <th></th>\n",
              "      <th>Item_ID</th>\n",
              "      <th>Item_W</th>\n",
              "      <th>Item_Type</th>\n",
              "      <th>Item_MRP</th>\n",
              "      <th>Outlet_ID</th>\n",
              "      <th>Outlet_Year</th>\n",
              "      <th>Outlet_Size</th>\n",
              "      <th>Outlet_Location_Type</th>\n",
              "      <th>Sales</th>\n",
              "      <th>fold</th>\n",
              "    </tr>\n",
              "  </thead>\n",
              "  <tbody>\n",
              "    <tr>\n",
              "      <th>0</th>\n",
              "      <td>FDU32</td>\n",
              "      <td>21.027499</td>\n",
              "      <td>Baking Goods</td>\n",
              "      <td>197.352319</td>\n",
              "      <td>OUT046</td>\n",
              "      <td>2004</td>\n",
              "      <td>Small</td>\n",
              "      <td>Tier 2</td>\n",
              "      <td>2689.457781</td>\n",
              "      <td>4</td>\n",
              "    </tr>\n",
              "    <tr>\n",
              "      <th>1</th>\n",
              "      <td>NCT54</td>\n",
              "      <td>21.102371</td>\n",
              "      <td>Meat</td>\n",
              "      <td>148.250214</td>\n",
              "      <td>OUT035</td>\n",
              "      <td>1987</td>\n",
              "      <td>Small</td>\n",
              "      <td>Tier 1</td>\n",
              "      <td>3437.350375</td>\n",
              "      <td>1</td>\n",
              "    </tr>\n",
              "    <tr>\n",
              "      <th>2</th>\n",
              "      <td>FDW08</td>\n",
              "      <td>20.882263</td>\n",
              "      <td>Hard Drinks</td>\n",
              "      <td>205.465010</td>\n",
              "      <td>OUT035</td>\n",
              "      <td>1999</td>\n",
              "      <td>Small</td>\n",
              "      <td>Tier 3</td>\n",
              "      <td>3129.967268</td>\n",
              "      <td>1</td>\n",
              "    </tr>\n",
              "  </tbody>\n",
              "</table>\n",
              "</div>"
            ],
            "text/plain": [
              "  Item_ID     Item_W     Item_Type  ...  Outlet_Location_Type        Sales  fold\n",
              "0   FDU32  21.027499  Baking Goods  ...                Tier 2  2689.457781     4\n",
              "1   NCT54  21.102371          Meat  ...                Tier 1  3437.350375     1\n",
              "2   FDW08  20.882263   Hard Drinks  ...                Tier 3  3129.967268     1\n",
              "\n",
              "[3 rows x 10 columns]"
            ]
          },
          "metadata": {},
          "execution_count": 7
        }
      ]
    },
    {
      "cell_type": "markdown",
      "metadata": {
        "id": "ehpZEzAxi_uv"
      },
      "source": [
        "# Data Exploration"
      ]
    },
    {
      "cell_type": "code",
      "metadata": {
        "colab": {
          "base_uri": "https://localhost:8080/"
        },
        "id": "gW6xGgQq-Wt5",
        "outputId": "c0d112e9-6479-42eb-9505-31ce6eb7be9e"
      },
      "source": [
        "train.dtypes"
      ],
      "execution_count": null,
      "outputs": [
        {
          "output_type": "execute_result",
          "data": {
            "text/plain": [
              "Item_ID                  object\n",
              "Item_W                  float64\n",
              "Item_Type                object\n",
              "Item_MRP                float64\n",
              "Outlet_ID                object\n",
              "Outlet_Year               int64\n",
              "Outlet_Size              object\n",
              "Outlet_Location_Type     object\n",
              "Sales                   float64\n",
              "fold                      int64\n",
              "dtype: object"
            ]
          },
          "metadata": {},
          "execution_count": 8
        }
      ]
    },
    {
      "cell_type": "code",
      "metadata": {
        "colab": {
          "base_uri": "https://localhost:8080/"
        },
        "id": "Jimr-OypjR-i",
        "outputId": "1c501129-85c8-4724-823a-02d25d560426"
      },
      "source": [
        "#Item_Type - Item type\n",
        "\n",
        "train.Item_Type.value_counts()"
      ],
      "execution_count": null,
      "outputs": [
        {
          "output_type": "execute_result",
          "data": {
            "text/plain": [
              "Baking Goods             14666\n",
              "Fruits and Vegetables    14328\n",
              "Meat                      8099\n",
              "Snack Foods               7817\n",
              "Household                 6018\n",
              "Soft Drinks               5396\n",
              "Frozen Foods              5129\n",
              "Canned                    4565\n",
              "Dairy                     3807\n",
              "Others                    3688\n",
              "Breads                    3509\n",
              "Hard Drinks               3129\n",
              "Health and Hygiene        2995\n",
              "Starchy Foods             2974\n",
              "Seafood                   1107\n",
              "Breakfast                  637\n",
              "Name: Item_Type, dtype: int64"
            ]
          },
          "metadata": {},
          "execution_count": 9
        }
      ]
    },
    {
      "cell_type": "code",
      "metadata": {
        "colab": {
          "base_uri": "https://localhost:8080/"
        },
        "id": "EXsRQVusji1W",
        "outputId": "6be08c46-8ce3-483d-fc70-eeddc2af1893"
      },
      "source": [
        "test.Item_Type.value_counts()"
      ],
      "execution_count": null,
      "outputs": [
        {
          "output_type": "execute_result",
          "data": {
            "text/plain": [
              "Snack Foods              6862\n",
              "Household                4809\n",
              "Fruits and Vegetables    4447\n",
              "Frozen Foods             4361\n",
              "Dairy                    3489\n",
              "Canned                   3413\n",
              "Health and Hygiene       2273\n",
              "Soft Drinks              2178\n",
              "Baking Goods             1769\n",
              "Meat                     1313\n",
              "Hard Drinks               592\n",
              "Breakfast                 554\n",
              "Others                    545\n",
              "Breads                    457\n",
              "Starchy Foods             427\n",
              "Seafood                   167\n",
              "Name: Item_Type, dtype: int64"
            ]
          },
          "metadata": {},
          "execution_count": 10
        }
      ]
    },
    {
      "cell_type": "code",
      "metadata": {
        "colab": {
          "base_uri": "https://localhost:8080/"
        },
        "id": "HtN1ldj4jr97",
        "outputId": "058cfaaf-18fc-4ebd-fca3-08d691b0ef51"
      },
      "source": [
        "set(train.Item_Type.values) - set(test.Item_Type.values)"
      ],
      "execution_count": null,
      "outputs": [
        {
          "output_type": "execute_result",
          "data": {
            "text/plain": [
              "set()"
            ]
          },
          "metadata": {},
          "execution_count": 11
        }
      ]
    },
    {
      "cell_type": "markdown",
      "metadata": {
        "id": "i8oeE7kGkA0V"
      },
      "source": [
        "No extra item-types in test set."
      ]
    },
    {
      "cell_type": "code",
      "metadata": {
        "colab": {
          "base_uri": "https://localhost:8080/"
        },
        "id": "YmfaTRMQj2or",
        "outputId": "e5d52ff4-6d92-4686-be7c-b147353237e6"
      },
      "source": [
        "#Outlet_ID\n",
        "\n",
        "train.Outlet_ID.nunique(), test.Outlet_ID.nunique()"
      ],
      "execution_count": null,
      "outputs": [
        {
          "output_type": "execute_result",
          "data": {
            "text/plain": [
              "(5, 5)"
            ]
          },
          "metadata": {},
          "execution_count": 12
        }
      ]
    },
    {
      "cell_type": "code",
      "metadata": {
        "colab": {
          "base_uri": "https://localhost:8080/"
        },
        "id": "uNcC0C4nwIgW",
        "outputId": "c474c338-41ad-4a56-88df-aa47fd9b3242"
      },
      "source": [
        "set(train.Outlet_ID.values) - set(test.Outlet_ID.values)"
      ],
      "execution_count": null,
      "outputs": [
        {
          "output_type": "execute_result",
          "data": {
            "text/plain": [
              "set()"
            ]
          },
          "metadata": {},
          "execution_count": 13
        }
      ]
    },
    {
      "cell_type": "markdown",
      "metadata": {
        "id": "F5PDiQHzkkg7"
      },
      "source": [
        "No new outlets in test set."
      ]
    },
    {
      "cell_type": "code",
      "metadata": {
        "colab": {
          "base_uri": "https://localhost:8080/"
        },
        "id": "dAI8LFrGki8t",
        "outputId": "aedcfc2d-929d-4b69-8f2b-54b9be41ebab"
      },
      "source": [
        "#Outlet_Size\n",
        "\n",
        "train.Outlet_Size.value_counts()"
      ],
      "execution_count": null,
      "outputs": [
        {
          "output_type": "execute_result",
          "data": {
            "text/plain": [
              "Small     48614\n",
              "Medium    26683\n",
              "High      12567\n",
              "Name: Outlet_Size, dtype: int64"
            ]
          },
          "metadata": {},
          "execution_count": 14
        }
      ]
    },
    {
      "cell_type": "code",
      "metadata": {
        "colab": {
          "base_uri": "https://localhost:8080/"
        },
        "id": "VsK7Lc9Yk7I6",
        "outputId": "04b2aee7-2368-4a6d-aa40-62d5d4b58ce3"
      },
      "source": [
        "test.Outlet_Size.value_counts()"
      ],
      "execution_count": null,
      "outputs": [
        {
          "output_type": "execute_result",
          "data": {
            "text/plain": [
              "Medium    15236\n",
              "Small     13504\n",
              "High       8916\n",
              "Name: Outlet_Size, dtype: int64"
            ]
          },
          "metadata": {},
          "execution_count": 15
        }
      ]
    },
    {
      "cell_type": "code",
      "metadata": {
        "colab": {
          "base_uri": "https://localhost:8080/"
        },
        "id": "M5fcNEK4k-k7",
        "outputId": "6f39095c-9272-4fda-9500-0023fc53386b"
      },
      "source": [
        "#Outlet_Location_Type\n",
        "\n",
        "train.Outlet_Location_Type.value_counts()"
      ],
      "execution_count": null,
      "outputs": [
        {
          "output_type": "execute_result",
          "data": {
            "text/plain": [
              "Tier 1    33567\n",
              "Tier 3    29044\n",
              "Tier 2    25253\n",
              "Name: Outlet_Location_Type, dtype: int64"
            ]
          },
          "metadata": {},
          "execution_count": 16
        }
      ]
    },
    {
      "cell_type": "code",
      "metadata": {
        "colab": {
          "base_uri": "https://localhost:8080/"
        },
        "id": "4vqrqfVtlkXV",
        "outputId": "de53618d-462a-4d49-b249-7f0d71ddaadc"
      },
      "source": [
        "test.Outlet_Location_Type.value_counts()"
      ],
      "execution_count": null,
      "outputs": [
        {
          "output_type": "execute_result",
          "data": {
            "text/plain": [
              "Tier 3    15732\n",
              "Tier 1    12830\n",
              "Tier 2     9094\n",
              "Name: Outlet_Location_Type, dtype: int64"
            ]
          },
          "metadata": {},
          "execution_count": 17
        }
      ]
    },
    {
      "cell_type": "code",
      "metadata": {
        "colab": {
          "base_uri": "https://localhost:8080/"
        },
        "id": "9kj-OTh9lsqw",
        "outputId": "90a1ba06-478e-45a2-fc5e-05db9ec60ef4"
      },
      "source": [
        "#Outlet_Year\n",
        "\n",
        "train.Outlet_Year.describe()"
      ],
      "execution_count": null,
      "outputs": [
        {
          "output_type": "execute_result",
          "data": {
            "text/plain": [
              "count    87864.00000\n",
              "mean      1999.87063\n",
              "std          6.63429\n",
              "min       1987.00000\n",
              "25%       1997.00000\n",
              "50%       1999.00000\n",
              "75%       2004.00000\n",
              "max       2009.00000\n",
              "Name: Outlet_Year, dtype: float64"
            ]
          },
          "metadata": {},
          "execution_count": 18
        }
      ]
    },
    {
      "cell_type": "code",
      "metadata": {
        "colab": {
          "base_uri": "https://localhost:8080/"
        },
        "id": "nUCi4RjvvghA",
        "outputId": "f3573b97-eab2-41a7-ea61-6f7f9961b6cc"
      },
      "source": [
        "train.Outlet_Year.hist()"
      ],
      "execution_count": null,
      "outputs": [
        {
          "output_type": "execute_result",
          "data": {
            "text/plain": [
              "<matplotlib.axes._subplots.AxesSubplot at 0x7ff190050190>"
            ]
          },
          "metadata": {},
          "execution_count": 19
        },
        {
          "output_type": "display_data",
          "data": {
            "image/png": "[encoded data removed]",
            "text/plain": [
              "<Figure size 432x288 with 1 Axes>"
            ]
          },
          "metadata": {
            "needs_background": "light"
          }
        }
      ]
    },
    {
      "cell_type": "code",
      "metadata": {
        "colab": {
          "base_uri": "https://localhost:8080/"
        },
        "id": "8-XIaLdAmCWO",
        "outputId": "3a4a25a4-ae04-4ba3-9935-3f7cacc5a124"
      },
      "source": [
        "test.Outlet_Year.describe()"
      ],
      "execution_count": null,
      "outputs": [
        {
          "output_type": "execute_result",
          "data": {
            "text/plain": [
              "count    37656.000000\n",
              "mean      2000.032956\n",
              "std          6.882847\n",
              "min       1987.000000\n",
              "25%       1997.000000\n",
              "50%       1999.000000\n",
              "75%       2004.000000\n",
              "max       2009.000000\n",
              "Name: Outlet_Year, dtype: float64"
            ]
          },
          "metadata": {},
          "execution_count": 20
        }
      ]
    },
    {
      "cell_type": "code",
      "metadata": {
        "colab": {
          "base_uri": "https://localhost:8080/"
        },
        "id": "Eud5KDANvypA",
        "outputId": "0a38ebe6-a4ed-4439-cc2a-7f4283f66139"
      },
      "source": [
        "test.Outlet_Year.hist()"
      ],
      "execution_count": null,
      "outputs": [
        {
          "output_type": "execute_result",
          "data": {
            "text/plain": [
              "<matplotlib.axes._subplots.AxesSubplot at 0x7ff18ff39c50>"
            ]
          },
          "metadata": {},
          "execution_count": 21
        },
        {
          "output_type": "display_data",
          "data": {
            "image/png": "[encoded data removed]",
            "text/plain": [
              "<Figure size 432x288 with 1 Axes>"
            ]
          },
          "metadata": {
            "needs_background": "light"
          }
        }
      ]
    },
    {
      "cell_type": "markdown",
      "metadata": {
        "id": "PbjG3kV-vZE_"
      },
      "source": [
        "Almost similar distributions of Outlet Establishment Year for train and test data"
      ]
    },
    {
      "cell_type": "code",
      "metadata": {
        "colab": {
          "base_uri": "https://localhost:8080/"
        },
        "id": "5rIKtxcfmH_G",
        "outputId": "54c7fa34-89bc-4175-f3b5-f6a7d89995f4"
      },
      "source": [
        "#Item_ID\n",
        "\n",
        "train.Item_ID.nunique()"
      ],
      "execution_count": null,
      "outputs": [
        {
          "output_type": "execute_result",
          "data": {
            "text/plain": [
              "895"
            ]
          },
          "metadata": {},
          "execution_count": 22
        }
      ]
    },
    {
      "cell_type": "markdown",
      "metadata": {
        "id": "DC8Q-0iXwi9M"
      },
      "source": [
        "Only 895 unique items. "
      ]
    },
    {
      "cell_type": "code",
      "metadata": {
        "colab": {
          "base_uri": "https://localhost:8080/"
        },
        "id": "abu2-CgXwemQ",
        "outputId": "122807ba-e4a5-412c-b36c-d95ed8ce6b58"
      },
      "source": [
        "train.loc[train.Item_ID == 'FDU32'].head()"
      ],
      "execution_count": null,
      "outputs": [
        {
          "output_type": "execute_result",
          "data": {
            "text/html": [
              "<div>\n",
              "<style scoped>\n",
              "    .dataframe tbody tr th:only-of-type {\n",
              "        vertical-align: middle;\n",
              "    }\n",
              "\n",
              "    .dataframe tbody tr th {\n",
              "        vertical-align: top;\n",
              "    }\n",
              "\n",
              "    .dataframe thead th {\n",
              "        text-align: right;\n",
              "    }\n",
              "</style>\n",
              "<table border=\"1\" class=\"dataframe\">\n",
              "  <thead>\n",
              "    <tr style=\"text-align: right;\">\n",
              "      <th></th>\n",
              "      <th>Item_ID</th>\n",
              "      <th>Item_W</th>\n",
              "      <th>Item_Type</th>\n",
              "      <th>Item_MRP</th>\n",
              "      <th>Outlet_ID</th>\n",
              "      <th>Outlet_Year</th>\n",
              "      <th>Outlet_Size</th>\n",
              "      <th>Outlet_Location_Type</th>\n",
              "      <th>Sales</th>\n",
              "      <th>fold</th>\n",
              "    </tr>\n",
              "  </thead>\n",
              "  <tbody>\n",
              "    <tr>\n",
              "      <th>0</th>\n",
              "      <td>FDU32</td>\n",
              "      <td>21.027499</td>\n",
              "      <td>Baking Goods</td>\n",
              "      <td>197.352319</td>\n",
              "      <td>OUT046</td>\n",
              "      <td>2004</td>\n",
              "      <td>Small</td>\n",
              "      <td>Tier 2</td>\n",
              "      <td>2689.457781</td>\n",
              "      <td>4</td>\n",
              "    </tr>\n",
              "    <tr>\n",
              "      <th>201</th>\n",
              "      <td>FDU32</td>\n",
              "      <td>21.204921</td>\n",
              "      <td>Baking Goods</td>\n",
              "      <td>144.538849</td>\n",
              "      <td>OUT046</td>\n",
              "      <td>1997</td>\n",
              "      <td>Small</td>\n",
              "      <td>Tier 2</td>\n",
              "      <td>774.493535</td>\n",
              "      <td>1</td>\n",
              "    </tr>\n",
              "    <tr>\n",
              "      <th>658</th>\n",
              "      <td>FDU32</td>\n",
              "      <td>21.115653</td>\n",
              "      <td>Baking Goods</td>\n",
              "      <td>116.327204</td>\n",
              "      <td>OUT013</td>\n",
              "      <td>2004</td>\n",
              "      <td>Small</td>\n",
              "      <td>Tier 1</td>\n",
              "      <td>1319.579290</td>\n",
              "      <td>0</td>\n",
              "    </tr>\n",
              "    <tr>\n",
              "      <th>1328</th>\n",
              "      <td>FDU32</td>\n",
              "      <td>19.429515</td>\n",
              "      <td>Hard Drinks</td>\n",
              "      <td>200.721601</td>\n",
              "      <td>OUT035</td>\n",
              "      <td>2004</td>\n",
              "      <td>Small</td>\n",
              "      <td>Tier 1</td>\n",
              "      <td>1395.479908</td>\n",
              "      <td>1</td>\n",
              "    </tr>\n",
              "    <tr>\n",
              "      <th>1480</th>\n",
              "      <td>FDU32</td>\n",
              "      <td>19.632053</td>\n",
              "      <td>Meat</td>\n",
              "      <td>161.730619</td>\n",
              "      <td>OUT046</td>\n",
              "      <td>1999</td>\n",
              "      <td>Small</td>\n",
              "      <td>Tier 1</td>\n",
              "      <td>1110.402053</td>\n",
              "      <td>0</td>\n",
              "    </tr>\n",
              "  </tbody>\n",
              "</table>\n",
              "</div>"
            ],
            "text/plain": [
              "     Item_ID     Item_W     Item_Type  ...  Outlet_Location_Type        Sales  fold\n",
              "0      FDU32  21.027499  Baking Goods  ...                Tier 2  2689.457781     4\n",
              "201    FDU32  21.204921  Baking Goods  ...                Tier 2   774.493535     1\n",
              "658    FDU32  21.115653  Baking Goods  ...                Tier 1  1319.579290     0\n",
              "1328   FDU32  19.429515   Hard Drinks  ...                Tier 1  1395.479908     1\n",
              "1480   FDU32  19.632053          Meat  ...                Tier 1  1110.402053     0\n",
              "\n",
              "[5 rows x 10 columns]"
            ]
          },
          "metadata": {},
          "execution_count": 23
        }
      ]
    },
    {
      "cell_type": "code",
      "metadata": {
        "colab": {
          "base_uri": "https://localhost:8080/"
        },
        "id": "aK4HdK7wyTvd",
        "outputId": "78b65245-a2e8-4b16-fa56-f691d6716490"
      },
      "source": [
        "train.groupby(['Item_ID', 'Outlet_ID']).get_group(('FDU32', 'OUT046')).head()"
      ],
      "execution_count": null,
      "outputs": [
        {
          "output_type": "execute_result",
          "data": {
            "text/html": [
              "<div>\n",
              "<style scoped>\n",
              "    .dataframe tbody tr th:only-of-type {\n",
              "        vertical-align: middle;\n",
              "    }\n",
              "\n",
              "    .dataframe tbody tr th {\n",
              "        vertical-align: top;\n",
              "    }\n",
              "\n",
              "    .dataframe thead th {\n",
              "        text-align: right;\n",
              "    }\n",
              "</style>\n",
              "<table border=\"1\" class=\"dataframe\">\n",
              "  <thead>\n",
              "    <tr style=\"text-align: right;\">\n",
              "      <th></th>\n",
              "      <th>Item_ID</th>\n",
              "      <th>Item_W</th>\n",
              "      <th>Item_Type</th>\n",
              "      <th>Item_MRP</th>\n",
              "      <th>Outlet_ID</th>\n",
              "      <th>Outlet_Year</th>\n",
              "      <th>Outlet_Size</th>\n",
              "      <th>Outlet_Location_Type</th>\n",
              "      <th>Sales</th>\n",
              "      <th>fold</th>\n",
              "    </tr>\n",
              "  </thead>\n",
              "  <tbody>\n",
              "    <tr>\n",
              "      <th>0</th>\n",
              "      <td>FDU32</td>\n",
              "      <td>21.027499</td>\n",
              "      <td>Baking Goods</td>\n",
              "      <td>197.352319</td>\n",
              "      <td>OUT046</td>\n",
              "      <td>2004</td>\n",
              "      <td>Small</td>\n",
              "      <td>Tier 2</td>\n",
              "      <td>2689.457781</td>\n",
              "      <td>4</td>\n",
              "    </tr>\n",
              "    <tr>\n",
              "      <th>201</th>\n",
              "      <td>FDU32</td>\n",
              "      <td>21.204921</td>\n",
              "      <td>Baking Goods</td>\n",
              "      <td>144.538849</td>\n",
              "      <td>OUT046</td>\n",
              "      <td>1997</td>\n",
              "      <td>Small</td>\n",
              "      <td>Tier 2</td>\n",
              "      <td>774.493535</td>\n",
              "      <td>1</td>\n",
              "    </tr>\n",
              "    <tr>\n",
              "      <th>1480</th>\n",
              "      <td>FDU32</td>\n",
              "      <td>19.632053</td>\n",
              "      <td>Meat</td>\n",
              "      <td>161.730619</td>\n",
              "      <td>OUT046</td>\n",
              "      <td>1999</td>\n",
              "      <td>Small</td>\n",
              "      <td>Tier 1</td>\n",
              "      <td>1110.402053</td>\n",
              "      <td>0</td>\n",
              "    </tr>\n",
              "    <tr>\n",
              "      <th>2664</th>\n",
              "      <td>FDU32</td>\n",
              "      <td>21.116959</td>\n",
              "      <td>Fruits and Vegetables</td>\n",
              "      <td>198.656524</td>\n",
              "      <td>OUT046</td>\n",
              "      <td>2009</td>\n",
              "      <td>Small</td>\n",
              "      <td>Tier 3</td>\n",
              "      <td>5513.441968</td>\n",
              "      <td>1</td>\n",
              "    </tr>\n",
              "    <tr>\n",
              "      <th>5065</th>\n",
              "      <td>FDU32</td>\n",
              "      <td>19.418751</td>\n",
              "      <td>Baking Goods</td>\n",
              "      <td>193.897638</td>\n",
              "      <td>OUT046</td>\n",
              "      <td>2004</td>\n",
              "      <td>High</td>\n",
              "      <td>Tier 1</td>\n",
              "      <td>2878.893714</td>\n",
              "      <td>4</td>\n",
              "    </tr>\n",
              "  </tbody>\n",
              "</table>\n",
              "</div>"
            ],
            "text/plain": [
              "     Item_ID     Item_W  ...        Sales  fold\n",
              "0      FDU32  21.027499  ...  2689.457781     4\n",
              "201    FDU32  21.204921  ...   774.493535     1\n",
              "1480   FDU32  19.632053  ...  1110.402053     0\n",
              "2664   FDU32  21.116959  ...  5513.441968     1\n",
              "5065   FDU32  19.418751  ...  2878.893714     4\n",
              "\n",
              "[5 rows x 10 columns]"
            ]
          },
          "metadata": {},
          "execution_count": 24
        }
      ]
    },
    {
      "cell_type": "code",
      "metadata": {
        "colab": {
          "base_uri": "https://localhost:8080/"
        },
        "id": "iXBylIhn187Q",
        "outputId": "72a97a5b-8f38-4917-f1bf-dc9a4d050e87"
      },
      "source": [
        "train.groupby(['Item_ID', 'Outlet_ID']).get_group(('NCT54', 'OUT035')).head()"
      ],
      "execution_count": null,
      "outputs": [
        {
          "output_type": "execute_result",
          "data": {
            "text/html": [
              "<div>\n",
              "<style scoped>\n",
              "    .dataframe tbody tr th:only-of-type {\n",
              "        vertical-align: middle;\n",
              "    }\n",
              "\n",
              "    .dataframe tbody tr th {\n",
              "        vertical-align: top;\n",
              "    }\n",
              "\n",
              "    .dataframe thead th {\n",
              "        text-align: right;\n",
              "    }\n",
              "</style>\n",
              "<table border=\"1\" class=\"dataframe\">\n",
              "  <thead>\n",
              "    <tr style=\"text-align: right;\">\n",
              "      <th></th>\n",
              "      <th>Item_ID</th>\n",
              "      <th>Item_W</th>\n",
              "      <th>Item_Type</th>\n",
              "      <th>Item_MRP</th>\n",
              "      <th>Outlet_ID</th>\n",
              "      <th>Outlet_Year</th>\n",
              "      <th>Outlet_Size</th>\n",
              "      <th>Outlet_Location_Type</th>\n",
              "      <th>Sales</th>\n",
              "      <th>fold</th>\n",
              "    </tr>\n",
              "  </thead>\n",
              "  <tbody>\n",
              "    <tr>\n",
              "      <th>1</th>\n",
              "      <td>NCT54</td>\n",
              "      <td>21.102371</td>\n",
              "      <td>Meat</td>\n",
              "      <td>148.250214</td>\n",
              "      <td>OUT035</td>\n",
              "      <td>1987</td>\n",
              "      <td>Small</td>\n",
              "      <td>Tier 1</td>\n",
              "      <td>3437.350375</td>\n",
              "      <td>1</td>\n",
              "    </tr>\n",
              "    <tr>\n",
              "      <th>1886</th>\n",
              "      <td>NCT54</td>\n",
              "      <td>20.178095</td>\n",
              "      <td>Baking Goods</td>\n",
              "      <td>120.860176</td>\n",
              "      <td>OUT035</td>\n",
              "      <td>1997</td>\n",
              "      <td>Small</td>\n",
              "      <td>Tier 1</td>\n",
              "      <td>228.109961</td>\n",
              "      <td>0</td>\n",
              "    </tr>\n",
              "    <tr>\n",
              "      <th>2794</th>\n",
              "      <td>NCT54</td>\n",
              "      <td>20.922726</td>\n",
              "      <td>Fruits and Vegetables</td>\n",
              "      <td>184.728315</td>\n",
              "      <td>OUT035</td>\n",
              "      <td>1997</td>\n",
              "      <td>Small</td>\n",
              "      <td>Tier 1</td>\n",
              "      <td>2366.254938</td>\n",
              "      <td>3</td>\n",
              "    </tr>\n",
              "    <tr>\n",
              "      <th>6254</th>\n",
              "      <td>NCT54</td>\n",
              "      <td>19.812663</td>\n",
              "      <td>Fruits and Vegetables</td>\n",
              "      <td>190.911728</td>\n",
              "      <td>OUT035</td>\n",
              "      <td>1997</td>\n",
              "      <td>Small</td>\n",
              "      <td>Tier 1</td>\n",
              "      <td>1799.726945</td>\n",
              "      <td>4</td>\n",
              "    </tr>\n",
              "    <tr>\n",
              "      <th>7831</th>\n",
              "      <td>NCT54</td>\n",
              "      <td>20.723483</td>\n",
              "      <td>Breads</td>\n",
              "      <td>48.826464</td>\n",
              "      <td>OUT035</td>\n",
              "      <td>1997</td>\n",
              "      <td>Medium</td>\n",
              "      <td>Tier 3</td>\n",
              "      <td>1471.376822</td>\n",
              "      <td>1</td>\n",
              "    </tr>\n",
              "  </tbody>\n",
              "</table>\n",
              "</div>"
            ],
            "text/plain": [
              "     Item_ID     Item_W  ...        Sales  fold\n",
              "1      NCT54  21.102371  ...  3437.350375     1\n",
              "1886   NCT54  20.178095  ...   228.109961     0\n",
              "2794   NCT54  20.922726  ...  2366.254938     3\n",
              "6254   NCT54  19.812663  ...  1799.726945     4\n",
              "7831   NCT54  20.723483  ...  1471.376822     1\n",
              "\n",
              "[5 rows x 10 columns]"
            ]
          },
          "metadata": {},
          "execution_count": 25
        }
      ]
    },
    {
      "cell_type": "markdown",
      "metadata": {
        "id": "cvyIUpLTxuvq"
      },
      "source": [
        "Different values of features for same (Item_ID, Outlet_ID) pair. Looks like a data-integrity issue."
      ]
    },
    {
      "cell_type": "markdown",
      "metadata": {
        "id": "NgWWejmQ7WTh"
      },
      "source": [
        "# Data Modeling"
      ]
    },
    {
      "cell_type": "code",
      "metadata": {
        "id": "RkT5pG1S7DVz"
      },
      "source": [
        "!pip install --quiet catboost"
      ],
      "execution_count": null,
      "outputs": []
    },
    {
      "cell_type": "code",
      "metadata": {
        "id": "RULcXSTF2uVq"
      },
      "source": [
        "features = ['Item_ID', 'Item_W', 'Item_Type', 'Item_MRP', 'Outlet_ID', 'Outlet_Year', 'Outlet_Size', 'Outlet_Location_Type']\n",
        "cat_features = ['Item_ID', 'Item_Type', 'Outlet_ID', 'Outlet_Year', 'Outlet_Size', 'Outlet_Location_Type']"
      ],
      "execution_count": null,
      "outputs": []
    },
    {
      "cell_type": "code",
      "metadata": {
        "id": "OIaq0nLh8MED"
      },
      "source": [
        "from catboost import CatBoostRegressor\n",
        "\n",
        "model = CatBoostRegressor(\n",
        "    iterations=1000,\n",
        "    learning_rate=0.03,\n",
        "    loss_function='RMSE',\n",
        "    task_type='GPU',\n",
        "    random_seed=SEED\n",
        ")"
      ],
      "execution_count": null,
      "outputs": []
    },
    {
      "cell_type": "code",
      "metadata": {
        "id": "r9kkUUCz_r0l"
      },
      "source": [
        "def custom_cross_val_predict(train, test, features, cat_features, model):\n",
        "    oof_preds = {}\n",
        "    test_preds = []\n",
        "    scores = []\n",
        "    \n",
        "    cv_start = time.time()\n",
        "    \n",
        "    for fold in range(N_SPLITS):\n",
        "        print('-' * 40)\n",
        "        \n",
        "        xtrain = train[train.fold != fold].reset_index(drop=True)\n",
        "\n",
        "        xval = train[train.fold == fold].reset_index(drop=True)    \n",
        "        val_idx = xval.index.tolist()\n",
        "        \n",
        "        fold_start = time.time()\n",
        "        \n",
        "        model.fit(\n",
        "            xtrain[features], xtrain.Sales,\n",
        "            cat_features=cat_features,\n",
        "            eval_set=[(xval[features], xval.Sales)],\n",
        "            early_stopping_rounds=100,\n",
        "            verbose=100,\n",
        "            plot=True\n",
        "        )\n",
        "        val_preds = model.predict(xval[features]) #out-of-fold predictions      \n",
        "        oof_preds.update(dict(zip(val_idx, val_preds)))\n",
        "        rmse = mean_squared_error(xval.Sales, val_preds, squared=False)\n",
        "        scores.append(rmse)\n",
        "        \n",
        "        fold_end = time.time()\n",
        "        \n",
        "        print(f'Fold #{fold}: RMSE = {rmse:.5f}\\t[Time: {fold_end - fold_start:.2f} secs]')\n",
        "        \n",
        "        test_preds.append(model.predict(test[features])) #test predictions\n",
        "        \n",
        "    cv_end = time.time()\n",
        "    print(f'Average RMSE = {np.mean(scores):.5f} with std. dev. = {np.std(scores):.5f}')\n",
        "    print(f'[Total time: {cv_end - cv_start:.2f} secs]')\n",
        "    \n",
        "    oof_preds = pd.DataFrame.from_dict(oof_preds, orient='index').reset_index()\n",
        "    test_preds = np.mean(np.column_stack(test_preds), axis=1)\n",
        "    \n",
        "    return oof_preds, test_preds"
      ],
      "execution_count": null,
      "outputs": []
    },
    {
      "cell_type": "code",
      "metadata": {
        "id": "rKPT-04PAH8r"
      },
      "source": [
        "submission1 = submission.copy()\n",
        "oof_preds, submission1.Sales = custom_cross_val_predict(train, test, \n",
        "                                                       features, cat_features, \n",
        "                                                       model)"
      ],
      "execution_count": null,
      "outputs": []
    },
    {
      "cell_type": "code",
      "metadata": {
        "id": "1ZuSKlgpCVTl"
      },
      "source": [
        "submission1.to_csv('submission1.csv', index=False)\n",
        "\n",
        "!head submission1.csv"
      ],
      "execution_count": null,
      "outputs": []
    },
    {
      "cell_type": "markdown",
      "metadata": {
        "id": "WGu5XOW6HXQh"
      },
      "source": [
        "# Submission 2"
      ]
    },
    {
      "cell_type": "code",
      "metadata": {
        "id": "EEBNvWvXGBhT"
      },
      "source": [
        "fold = 3\n",
        "xtrain = train[train.fold != fold].reset_index(drop=True)\n",
        "xval = train[train.fold == fold].reset_index(drop=True)\n",
        "        \n",
        "fold_start = time.time()\n",
        "\n",
        "model2 = CatBoostRegressor(\n",
        "    iterations=1000,\n",
        "    learning_rate=0.03,\n",
        "    loss_function='RMSE',\n",
        "    task_type='GPU',\n",
        "    random_seed=SEED\n",
        ")\n",
        "\n",
        "model2.fit(\n",
        "  xtrain[features], xtrain.Sales,\n",
        "  cat_features=cat_features,\n",
        "  eval_set=[(xval[features], xval.Sales)],\n",
        "  early_stopping_rounds=100,\n",
        "  verbose=100,\n",
        "  plot=True\n",
        ")\n",
        "\n",
        "val_preds2 = model2.predict(xval[features]) #out-of-fold predictions      \n",
        "rmse = mean_squared_error(xval.Sales, val_preds2, squared=False)\n",
        "        \n",
        "fold_end = time.time()\n",
        "        \n",
        "print(f'RMSE = {rmse:.5f}\\t[Time: {fold_end - fold_start:.2f} secs]')"
      ],
      "execution_count": null,
      "outputs": []
    },
    {
      "cell_type": "code",
      "metadata": {
        "id": "cTvAfOL7H-y6"
      },
      "source": [
        "submission2 = submission.copy()\n",
        "submission2.Sales = model2.predict(test[features]) #test predictions\n",
        "\n",
        "submission2.to_csv('submission2.csv', index=False)\n",
        "\n",
        "!head submission2.csv"
      ],
      "execution_count": null,
      "outputs": []
    }
  ]
}