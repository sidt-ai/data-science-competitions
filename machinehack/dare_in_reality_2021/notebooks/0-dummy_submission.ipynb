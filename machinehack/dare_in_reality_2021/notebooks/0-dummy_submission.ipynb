{
  "nbformat": 4,
  "nbformat_minor": 0,
  "metadata": {
    "colab": {
      "name": "[MH] DiR2021-DummySubmission",
      "provenance": []
    },
    "kernelspec": {
      "name": "python3",
      "display_name": "Python 3"
    },
    "language_info": {
      "name": "python"
    }
  },
  "cells": [
    {
      "cell_type": "code",
      "metadata": {
        "id": "ftnrY7XqSooD"
      },
      "source": [
        "train_url = 'https://github.com/sidt-ai/MH-hackathons/blob/main/dare_in_reality_2021/data/raw/train.csv?raw=true'\n",
        "test_url = 'https://raw.githubusercontent.com/sidt-ai/MH-hackathons/main/dare_in_reality_2021/data/raw/test.csv'\n",
        "# train_weather_url = 'https://raw.githubusercontent.com/sidt-ai/MH-hackathons/main/dare_in_reality_2021/data/raw/train_weather.csv'\n",
        "# test_weather_url = 'https://raw.githubusercontent.com/sidt-ai/MH-hackathons/main/dare_in_reality_2021/data/raw/test_weather.csv'"
      ],
      "execution_count": 1,
      "outputs": []
    },
    {
      "cell_type": "code",
      "metadata": {
        "id": "dxu_Vs8QVI1x"
      },
      "source": [
        "import pandas as pd\n",
        "import numpy as np\n",
        "import re"
      ],
      "execution_count": 2,
      "outputs": []
    },
    {
      "cell_type": "code",
      "metadata": {
        "id": "5fTKSdY5VMsA"
      },
      "source": [
        "train = pd.read_csv(train_url, skipinitialspace=True)\n",
        "test = pd.read_csv(test_url, skipinitialspace=True)\n",
        "# train_weather = pd.read_csv(train_weather_url, skipinitialspace=True)\n",
        "# test_weather = pd.read_csv(test_weather_url, skipinitialspace=True)"
      ],
      "execution_count": 3,
      "outputs": []
    },
    {
      "cell_type": "code",
      "metadata": {
        "colab": {
          "base_uri": "https://localhost:8080/",
          "height": 313
        },
        "id": "hurPo9oPFGH_",
        "outputId": "2550bec7-fa64-4fc4-d8b3-bbe5162db273"
      },
      "source": [
        "test.head()"
      ],
      "execution_count": 6,
      "outputs": [
        {
          "output_type": "execute_result",
          "data": {
            "text/html": [
              "<div>\n",
              "<style scoped>\n",
              "    .dataframe tbody tr th:only-of-type {\n",
              "        vertical-align: middle;\n",
              "    }\n",
              "\n",
              "    .dataframe tbody tr th {\n",
              "        vertical-align: top;\n",
              "    }\n",
              "\n",
              "    .dataframe thead th {\n",
              "        text-align: right;\n",
              "    }\n",
              "</style>\n",
              "<table border=\"1\" class=\"dataframe\">\n",
              "  <thead>\n",
              "    <tr style=\"text-align: right;\">\n",
              "      <th></th>\n",
              "      <th>NUMBER</th>\n",
              "      <th>DRIVER_NUMBER</th>\n",
              "      <th>LAP_NUMBER</th>\n",
              "      <th>LAP_TIME</th>\n",
              "      <th>LAP_IMPROVEMENT</th>\n",
              "      <th>CROSSING_FINISH_LINE_IN_PIT</th>\n",
              "      <th>S1</th>\n",
              "      <th>S1_IMPROVEMENT</th>\n",
              "      <th>S2</th>\n",
              "      <th>S2_IMPROVEMENT</th>\n",
              "      <th>S3</th>\n",
              "      <th>S3_IMPROVEMENT</th>\n",
              "      <th>KPH</th>\n",
              "      <th>ELAPSED</th>\n",
              "      <th>HOUR</th>\n",
              "      <th>S1_LARGE</th>\n",
              "      <th>S2_LARGE</th>\n",
              "      <th>S3_LARGE</th>\n",
              "      <th>DRIVER_NAME</th>\n",
              "      <th>PIT_TIME</th>\n",
              "      <th>GROUP</th>\n",
              "      <th>TEAM</th>\n",
              "      <th>POWER</th>\n",
              "      <th>LOCATION</th>\n",
              "      <th>EVENT</th>\n",
              "    </tr>\n",
              "  </thead>\n",
              "  <tbody>\n",
              "    <tr>\n",
              "      <th>0</th>\n",
              "      <td>10</td>\n",
              "      <td>1</td>\n",
              "      <td>1</td>\n",
              "      <td>NaN</td>\n",
              "      <td>0</td>\n",
              "      <td>NaN</td>\n",
              "      <td>01:10.2</td>\n",
              "      <td>0</td>\n",
              "      <td>35.433</td>\n",
              "      <td>0</td>\n",
              "      <td>30.693</td>\n",
              "      <td>0</td>\n",
              "      <td>59.5</td>\n",
              "      <td>02:16.4</td>\n",
              "      <td>02:16.4</td>\n",
              "      <td>01:10.2</td>\n",
              "      <td>00:35.4</td>\n",
              "      <td>00:30.7</td>\n",
              "      <td>SB</td>\n",
              "      <td>00:47.0</td>\n",
              "      <td>1.0</td>\n",
              "      <td>JR</td>\n",
              "      <td>NaN</td>\n",
              "      <td>Location 7</td>\n",
              "      <td>Qualifying Group 1</td>\n",
              "    </tr>\n",
              "    <tr>\n",
              "      <th>1</th>\n",
              "      <td>10</td>\n",
              "      <td>1</td>\n",
              "      <td>2</td>\n",
              "      <td>NaN</td>\n",
              "      <td>0</td>\n",
              "      <td>NaN</td>\n",
              "      <td>27.667</td>\n",
              "      <td>0</td>\n",
              "      <td>33.68</td>\n",
              "      <td>0</td>\n",
              "      <td>37.767</td>\n",
              "      <td>0</td>\n",
              "      <td>81.8</td>\n",
              "      <td>03:55.5</td>\n",
              "      <td>03:55.5</td>\n",
              "      <td>00:27.7</td>\n",
              "      <td>00:33.7</td>\n",
              "      <td>00:37.8</td>\n",
              "      <td>SB</td>\n",
              "      <td>NaN</td>\n",
              "      <td>1.0</td>\n",
              "      <td>JR</td>\n",
              "      <td>250.0</td>\n",
              "      <td>Location 7</td>\n",
              "      <td>Qualifying Group 1</td>\n",
              "    </tr>\n",
              "    <tr>\n",
              "      <th>2</th>\n",
              "      <td>10</td>\n",
              "      <td>1</td>\n",
              "      <td>3</td>\n",
              "      <td>NaN</td>\n",
              "      <td>2</td>\n",
              "      <td>NaN</td>\n",
              "      <td>24.688</td>\n",
              "      <td>2</td>\n",
              "      <td>29.309</td>\n",
              "      <td>2</td>\n",
              "      <td>27.111</td>\n",
              "      <td>2</td>\n",
              "      <td>100.0</td>\n",
              "      <td>05:16.6</td>\n",
              "      <td>05:16.6</td>\n",
              "      <td>00:24.7</td>\n",
              "      <td>00:29.3</td>\n",
              "      <td>00:27.1</td>\n",
              "      <td>SB</td>\n",
              "      <td>NaN</td>\n",
              "      <td>1.0</td>\n",
              "      <td>JR</td>\n",
              "      <td>250.0</td>\n",
              "      <td>Location 7</td>\n",
              "      <td>Qualifying Group 1</td>\n",
              "    </tr>\n",
              "    <tr>\n",
              "      <th>3</th>\n",
              "      <td>13</td>\n",
              "      <td>1</td>\n",
              "      <td>1</td>\n",
              "      <td>NaN</td>\n",
              "      <td>0</td>\n",
              "      <td>NaN</td>\n",
              "      <td>01:09.1</td>\n",
              "      <td>0</td>\n",
              "      <td>35.705</td>\n",
              "      <td>0</td>\n",
              "      <td>30.451</td>\n",
              "      <td>0</td>\n",
              "      <td>59.9</td>\n",
              "      <td>02:15.2</td>\n",
              "      <td>02:15.2</td>\n",
              "      <td>01:09.1</td>\n",
              "      <td>00:35.7</td>\n",
              "      <td>00:30.5</td>\n",
              "      <td>ACO</td>\n",
              "      <td>00:44.7</td>\n",
              "      <td>1.0</td>\n",
              "      <td>DSo</td>\n",
              "      <td>NaN</td>\n",
              "      <td>Location 7</td>\n",
              "      <td>Qualifying Group 1</td>\n",
              "    </tr>\n",
              "    <tr>\n",
              "      <th>4</th>\n",
              "      <td>13</td>\n",
              "      <td>1</td>\n",
              "      <td>2</td>\n",
              "      <td>NaN</td>\n",
              "      <td>0</td>\n",
              "      <td>NaN</td>\n",
              "      <td>28.401</td>\n",
              "      <td>0</td>\n",
              "      <td>33.693</td>\n",
              "      <td>0</td>\n",
              "      <td>35.958</td>\n",
              "      <td>0</td>\n",
              "      <td>82.7</td>\n",
              "      <td>03:53.3</td>\n",
              "      <td>03:53.3</td>\n",
              "      <td>00:28.4</td>\n",
              "      <td>00:33.7</td>\n",
              "      <td>00:36.0</td>\n",
              "      <td>ACO</td>\n",
              "      <td>NaN</td>\n",
              "      <td>1.0</td>\n",
              "      <td>DSo</td>\n",
              "      <td>250.0</td>\n",
              "      <td>Location 7</td>\n",
              "      <td>Qualifying Group 1</td>\n",
              "    </tr>\n",
              "  </tbody>\n",
              "</table>\n",
              "</div>"
            ],
            "text/plain": [
              "   NUMBER  DRIVER_NUMBER  LAP_NUMBER  ...  POWER    LOCATION               EVENT\n",
              "0      10              1           1  ...    NaN  Location 7  Qualifying Group 1\n",
              "1      10              1           2  ...  250.0  Location 7  Qualifying Group 1\n",
              "2      10              1           3  ...  250.0  Location 7  Qualifying Group 1\n",
              "3      13              1           1  ...    NaN  Location 7  Qualifying Group 1\n",
              "4      13              1           2  ...  250.0  Location 7  Qualifying Group 1\n",
              "\n",
              "[5 rows x 25 columns]"
            ]
          },
          "metadata": {},
          "execution_count": 6
        }
      ]
    },
    {
      "cell_type": "code",
      "metadata": {
        "colab": {
          "base_uri": "https://localhost:8080/"
        },
        "id": "oPejKiyjOvkd",
        "outputId": "d0b9dab3-864d-4e05-e914-a0e1f0c64cec"
      },
      "source": [
        "test.info()"
      ],
      "execution_count": 14,
      "outputs": [
        {
          "output_type": "stream",
          "name": "stdout",
          "text": [
            "<class 'pandas.core.frame.DataFrame'>\n",
            "RangeIndex: 420 entries, 0 to 419\n",
            "Data columns (total 25 columns):\n",
            " #   Column                       Non-Null Count  Dtype  \n",
            "---  ------                       --------------  -----  \n",
            " 0   NUMBER                       420 non-null    int64  \n",
            " 1   DRIVER_NUMBER                420 non-null    int64  \n",
            " 2   LAP_NUMBER                   420 non-null    int64  \n",
            " 3   LAP_TIME                     0 non-null      float64\n",
            " 4   LAP_IMPROVEMENT              420 non-null    int64  \n",
            " 5   CROSSING_FINISH_LINE_IN_PIT  16 non-null     object \n",
            " 6   S1                           420 non-null    object \n",
            " 7   S1_IMPROVEMENT               420 non-null    int64  \n",
            " 8   S2                           420 non-null    object \n",
            " 9   S2_IMPROVEMENT               420 non-null    int64  \n",
            " 10  S3                           418 non-null    object \n",
            " 11  S3_IMPROVEMENT               420 non-null    int64  \n",
            " 12  KPH                          418 non-null    float64\n",
            " 13  ELAPSED                      420 non-null    object \n",
            " 14  HOUR                         420 non-null    object \n",
            " 15  S1_LARGE                     420 non-null    object \n",
            " 16  S2_LARGE                     420 non-null    object \n",
            " 17  S3_LARGE                     418 non-null    object \n",
            " 18  DRIVER_NAME                  420 non-null    object \n",
            " 19  PIT_TIME                     155 non-null    object \n",
            " 20  GROUP                        391 non-null    float64\n",
            " 21  TEAM                         420 non-null    object \n",
            " 22  POWER                        309 non-null    float64\n",
            " 23  LOCATION                     420 non-null    object \n",
            " 24  EVENT                        420 non-null    object \n",
            "dtypes: float64(4), int64(7), object(14)\n",
            "memory usage: 82.2+ KB\n"
          ]
        }
      ]
    },
    {
      "cell_type": "code",
      "metadata": {
        "colab": {
          "base_uri": "https://localhost:8080/",
          "height": 167
        },
        "id": "3q2SSAt6SLKu",
        "outputId": "85aa6818-10aa-4ac6-8f9c-54ba45603504"
      },
      "source": [
        "test.loc[test.S3_LARGE.isna()]"
      ],
      "execution_count": 33,
      "outputs": [
        {
          "output_type": "execute_result",
          "data": {
            "text/html": [
              "<div>\n",
              "<style scoped>\n",
              "    .dataframe tbody tr th:only-of-type {\n",
              "        vertical-align: middle;\n",
              "    }\n",
              "\n",
              "    .dataframe tbody tr th {\n",
              "        vertical-align: top;\n",
              "    }\n",
              "\n",
              "    .dataframe thead th {\n",
              "        text-align: right;\n",
              "    }\n",
              "</style>\n",
              "<table border=\"1\" class=\"dataframe\">\n",
              "  <thead>\n",
              "    <tr style=\"text-align: right;\">\n",
              "      <th></th>\n",
              "      <th>NUMBER</th>\n",
              "      <th>DRIVER_NUMBER</th>\n",
              "      <th>LAP_NUMBER</th>\n",
              "      <th>LAP_TIME</th>\n",
              "      <th>LAP_IMPROVEMENT</th>\n",
              "      <th>CROSSING_FINISH_LINE_IN_PIT</th>\n",
              "      <th>S1</th>\n",
              "      <th>S1_IMPROVEMENT</th>\n",
              "      <th>S2</th>\n",
              "      <th>S2_IMPROVEMENT</th>\n",
              "      <th>S3</th>\n",
              "      <th>S3_IMPROVEMENT</th>\n",
              "      <th>KPH</th>\n",
              "      <th>ELAPSED</th>\n",
              "      <th>HOUR</th>\n",
              "      <th>S1_LARGE</th>\n",
              "      <th>S2_LARGE</th>\n",
              "      <th>S3_LARGE</th>\n",
              "      <th>DRIVER_NAME</th>\n",
              "      <th>PIT_TIME</th>\n",
              "      <th>GROUP</th>\n",
              "      <th>TEAM</th>\n",
              "      <th>POWER</th>\n",
              "      <th>LOCATION</th>\n",
              "      <th>EVENT</th>\n",
              "    </tr>\n",
              "  </thead>\n",
              "  <tbody>\n",
              "    <tr>\n",
              "      <th>80</th>\n",
              "      <td>25</td>\n",
              "      <td>1</td>\n",
              "      <td>3</td>\n",
              "      <td>NaN</td>\n",
              "      <td>0</td>\n",
              "      <td>B</td>\n",
              "      <td>01:12.1</td>\n",
              "      <td>0</td>\n",
              "      <td>30.11</td>\n",
              "      <td>2</td>\n",
              "      <td>NaN</td>\n",
              "      <td>0</td>\n",
              "      <td>NaN</td>\n",
              "      <td>05:47.7</td>\n",
              "      <td>0:00</td>\n",
              "      <td>01:12.1</td>\n",
              "      <td>00:30.1</td>\n",
              "      <td>NaN</td>\n",
              "      <td>JVER</td>\n",
              "      <td>NaN</td>\n",
              "      <td>1.0</td>\n",
              "      <td>DS¬â</td>\n",
              "      <td>NaN</td>\n",
              "      <td>Location 6</td>\n",
              "      <td>Qualifying Group 1</td>\n",
              "    </tr>\n",
              "    <tr>\n",
              "      <th>144</th>\n",
              "      <td>99</td>\n",
              "      <td>1</td>\n",
              "      <td>4</td>\n",
              "      <td>NaN</td>\n",
              "      <td>0</td>\n",
              "      <td>B</td>\n",
              "      <td>27.293</td>\n",
              "      <td>0</td>\n",
              "      <td>33.044</td>\n",
              "      <td>0</td>\n",
              "      <td>NaN</td>\n",
              "      <td>0</td>\n",
              "      <td>NaN</td>\n",
              "      <td>04:58.0</td>\n",
              "      <td>0:00</td>\n",
              "      <td>00:27.3</td>\n",
              "      <td>00:33.0</td>\n",
              "      <td>NaN</td>\n",
              "      <td>PWEHRL</td>\n",
              "      <td>NaN</td>\n",
              "      <td>3.0</td>\n",
              "      <td>TAG</td>\n",
              "      <td>NaN</td>\n",
              "      <td>Location 6</td>\n",
              "      <td>Qualifying Group 3</td>\n",
              "    </tr>\n",
              "  </tbody>\n",
              "</table>\n",
              "</div>"
            ],
            "text/plain": [
              "     NUMBER  DRIVER_NUMBER  LAP_NUMBER  ...  POWER    LOCATION               EVENT\n",
              "80       25              1           3  ...    NaN  Location 6  Qualifying Group 1\n",
              "144      99              1           4  ...    NaN  Location 6  Qualifying Group 3\n",
              "\n",
              "[2 rows x 25 columns]"
            ]
          },
          "metadata": {},
          "execution_count": 33
        }
      ]
    },
    {
      "cell_type": "code",
      "metadata": {
        "colab": {
          "base_uri": "https://localhost:8080/"
        },
        "id": "FWJuvv8JVwrC",
        "outputId": "e43223de-16f1-4719-bd62-4cfb79af792f"
      },
      "source": [
        "train.loc[~train.S3_LARGE.isna() &\n",
        "          (train.LOCATION == 'Location 6') &\n",
        "          (train.DRIVER_NAME == 'PWEHRL')]['S3_LARGE']"
      ],
      "execution_count": 41,
      "outputs": [
        {
          "output_type": "execute_result",
          "data": {
            "text/plain": [
              "2708    00:26.0\n",
              "2709    00:21.5\n",
              "2710    00:20.4\n",
              "2711    00:19.9\n",
              "2712    03:54.4\n",
              "         ...   \n",
              "8425    00:19.6\n",
              "8426    00:19.6\n",
              "8427    00:21.1\n",
              "8428    00:19.6\n",
              "8429    00:27.8\n",
              "Name: S3_LARGE, Length: 62, dtype: object"
            ]
          },
          "metadata": {},
          "execution_count": 41
        }
      ]
    },
    {
      "cell_type": "code",
      "metadata": {
        "id": "-_D74WosVUdQ"
      },
      "source": [
        "test.fillna({'PIT_TIME': '00.00.0', 'S3_LARGE': '00:20.0'}, inplace=True)"
      ],
      "execution_count": 45,
      "outputs": []
    },
    {
      "cell_type": "code",
      "metadata": {
        "id": "XLRCJ27ANbux"
      },
      "source": [
        "def to_seconds(t):\n",
        "  s = str(t)\n",
        "  parts = list(map(int, re.split('\\:|\\.', s)))\n",
        "  return parts[0] * 60 + parts[1] + parts[2] / 10"
      ],
      "execution_count": 46,
      "outputs": []
    },
    {
      "cell_type": "code",
      "metadata": {
        "id": "KDfM0uFfRj-W"
      },
      "source": [
        "dummy = pd.DataFrame()\n",
        "dummy['S1'] = test.S1_LARGE.apply(to_seconds)\n",
        "dummy['S2'] = test.S2_LARGE.apply(to_seconds)\n",
        "dummy['S3'] = test.S3_LARGE.apply(to_seconds)\n",
        "dummy['PIT_TIME'] = test.PIT_TIME.apply(to_seconds)"
      ],
      "execution_count": 48,
      "outputs": []
    },
    {
      "cell_type": "code",
      "metadata": {
        "id": "sjJiH9CmF5Bj"
      },
      "source": [
        "dummy_submission = pd.DataFrame()\n",
        "dummy_submission['LAP_TIME'] = dummy.S1 + dummy.S2 + dummy.S3"
      ],
      "execution_count": 53,
      "outputs": []
    },
    {
      "cell_type": "code",
      "metadata": {
        "colab": {
          "base_uri": "https://localhost:8080/",
          "height": 206
        },
        "id": "yONDV65XGaDT",
        "outputId": "dd47774d-5c39-4b26-e959-6f6ca277ef94"
      },
      "source": [
        "dummy_submission.head()"
      ],
      "execution_count": 54,
      "outputs": [
        {
          "output_type": "execute_result",
          "data": {
            "text/html": [
              "<div>\n",
              "<style scoped>\n",
              "    .dataframe tbody tr th:only-of-type {\n",
              "        vertical-align: middle;\n",
              "    }\n",
              "\n",
              "    .dataframe tbody tr th {\n",
              "        vertical-align: top;\n",
              "    }\n",
              "\n",
              "    .dataframe thead th {\n",
              "        text-align: right;\n",
              "    }\n",
              "</style>\n",
              "<table border=\"1\" class=\"dataframe\">\n",
              "  <thead>\n",
              "    <tr style=\"text-align: right;\">\n",
              "      <th></th>\n",
              "      <th>LAP_TIME</th>\n",
              "    </tr>\n",
              "  </thead>\n",
              "  <tbody>\n",
              "    <tr>\n",
              "      <th>0</th>\n",
              "      <td>136.3</td>\n",
              "    </tr>\n",
              "    <tr>\n",
              "      <th>1</th>\n",
              "      <td>99.2</td>\n",
              "    </tr>\n",
              "    <tr>\n",
              "      <th>2</th>\n",
              "      <td>81.1</td>\n",
              "    </tr>\n",
              "    <tr>\n",
              "      <th>3</th>\n",
              "      <td>135.3</td>\n",
              "    </tr>\n",
              "    <tr>\n",
              "      <th>4</th>\n",
              "      <td>98.1</td>\n",
              "    </tr>\n",
              "  </tbody>\n",
              "</table>\n",
              "</div>"
            ],
            "text/plain": [
              "   LAP_TIME\n",
              "0     136.3\n",
              "1      99.2\n",
              "2      81.1\n",
              "3     135.3\n",
              "4      98.1"
            ]
          },
          "metadata": {},
          "execution_count": 54
        }
      ]
    },
    {
      "cell_type": "code",
      "metadata": {
        "id": "Ytk5Sw8HGcTc"
      },
      "source": [
        "dummy_submission.to_csv('dummy_submission.csv', index=False)"
      ],
      "execution_count": 55,
      "outputs": []
    }
  ]
}