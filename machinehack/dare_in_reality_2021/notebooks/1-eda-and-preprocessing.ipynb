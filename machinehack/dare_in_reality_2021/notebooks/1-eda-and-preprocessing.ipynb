{
  "nbformat": 4,
  "nbformat_minor": 0,
  "metadata": {
    "colab": {
      "name": "[MH] DiR2021: EDA + Preprocessing",
      "provenance": []
    },
    "kernelspec": {
      "name": "python3",
      "display_name": "Python 3"
    },
    "language_info": {
      "name": "python"
    }
  },
  "cells": [
    {
      "cell_type": "markdown",
      "metadata": {
        "id": "C11Gm_D9qsFN"
      },
      "source": [
        "# Imports"
      ]
    },
    {
      "cell_type": "code",
      "metadata": {
        "id": "tuQIqAsEdz8F"
      },
      "source": [
        "train_url = 'https://github.com/sidt-ai/MH-hackathons/blob/main/dare_in_reality_2021/data/raw/train.csv?raw=true'\n",
        "test_url = 'https://raw.githubusercontent.com/sidt-ai/MH-hackathons/main/dare_in_reality_2021/data/raw/test.csv'\n",
        "train_weather_url = 'https://raw.githubusercontent.com/sidt-ai/MH-hackathons/main/dare_in_reality_2021/data/raw/train_weather.csv'\n",
        "test_weather_url = 'https://raw.githubusercontent.com/sidt-ai/MH-hackathons/main/dare_in_reality_2021/data/raw/test_weather.csv'"
      ],
      "execution_count": null,
      "outputs": []
    },
    {
      "cell_type": "code",
      "metadata": {
        "id": "79CDeyMxYHjs"
      },
      "source": [
        "import pandas as pd\n",
        "import numpy as np\n",
        "import re\n",
        "\n",
        "import matplotlib.pyplot as plt\n",
        "import seaborn as sns"
      ],
      "execution_count": null,
      "outputs": []
    },
    {
      "cell_type": "code",
      "metadata": {
        "id": "_4dBlm52Ywrd"
      },
      "source": [
        "train = pd.read_csv(train_url, skipinitialspace=True)\n",
        "test = pd.read_csv(test_url, skipinitialspace=True)\n",
        "train_weather = pd.read_csv(train_weather_url, skipinitialspace=True)\n",
        "test_weather = pd.read_csv(test_weather_url, skipinitialspace=True)"
      ],
      "execution_count": null,
      "outputs": []
    },
    {
      "cell_type": "markdown",
      "metadata": {
        "id": "ycPPOYriZLoi"
      },
      "source": [
        "# Data Exploration and Cleaning: train.csv, test.csv"
      ]
    },
    {
      "cell_type": "markdown",
      "metadata": {
        "id": "tPmZlpu7RNo5"
      },
      "source": [
        "### Data Preview"
      ]
    },
    {
      "cell_type": "code",
      "metadata": {
        "colab": {
          "base_uri": "https://localhost:8080/",
          "height": 268
        },
        "id": "YgrMBPK4Ywjg",
        "outputId": "60969d18-ddec-459d-abfe-358f7c48097d"
      },
      "source": [
        "train.head(3)"
      ],
      "execution_count": null,
      "outputs": [
        {
          "output_type": "execute_result",
          "data": {
            "text/html": [
              "<div>\n",
              "<style scoped>\n",
              "    .dataframe tbody tr th:only-of-type {\n",
              "        vertical-align: middle;\n",
              "    }\n",
              "\n",
              "    .dataframe tbody tr th {\n",
              "        vertical-align: top;\n",
              "    }\n",
              "\n",
              "    .dataframe thead th {\n",
              "        text-align: right;\n",
              "    }\n",
              "</style>\n",
              "<table border=\"1\" class=\"dataframe\">\n",
              "  <thead>\n",
              "    <tr style=\"text-align: right;\">\n",
              "      <th></th>\n",
              "      <th>NUMBER</th>\n",
              "      <th>DRIVER_NUMBER</th>\n",
              "      <th>LAP_NUMBER</th>\n",
              "      <th>LAP_TIME</th>\n",
              "      <th>LAP_IMPROVEMENT</th>\n",
              "      <th>CROSSING_FINISH_LINE_IN_PIT</th>\n",
              "      <th>S1</th>\n",
              "      <th>S1_IMPROVEMENT</th>\n",
              "      <th>S2</th>\n",
              "      <th>S2_IMPROVEMENT</th>\n",
              "      <th>S3</th>\n",
              "      <th>S3_IMPROVEMENT</th>\n",
              "      <th>KPH</th>\n",
              "      <th>ELAPSED</th>\n",
              "      <th>HOUR</th>\n",
              "      <th>S1_LARGE</th>\n",
              "      <th>S2_LARGE</th>\n",
              "      <th>S3_LARGE</th>\n",
              "      <th>DRIVER_NAME</th>\n",
              "      <th>PIT_TIME</th>\n",
              "      <th>GROUP</th>\n",
              "      <th>TEAM</th>\n",
              "      <th>POWER</th>\n",
              "      <th>LOCATION</th>\n",
              "      <th>EVENT</th>\n",
              "    </tr>\n",
              "  </thead>\n",
              "  <tbody>\n",
              "    <tr>\n",
              "      <th>0</th>\n",
              "      <td>10</td>\n",
              "      <td>1</td>\n",
              "      <td>1</td>\n",
              "      <td>92</td>\n",
              "      <td>0</td>\n",
              "      <td>NaN</td>\n",
              "      <td>05:43.3</td>\n",
              "      <td>0</td>\n",
              "      <td>35.427</td>\n",
              "      <td>0</td>\n",
              "      <td>43.313</td>\n",
              "      <td>0</td>\n",
              "      <td>28.8</td>\n",
              "      <td>07:02.0</td>\n",
              "      <td>22:02.0</td>\n",
              "      <td>05:43.3</td>\n",
              "      <td>00:35.4</td>\n",
              "      <td>00:43.3</td>\n",
              "      <td>SB</td>\n",
              "      <td>05:14.7</td>\n",
              "      <td>NaN</td>\n",
              "      <td>JR</td>\n",
              "      <td>NaN</td>\n",
              "      <td>Location 2</td>\n",
              "      <td>Free Practice 2</td>\n",
              "    </tr>\n",
              "    <tr>\n",
              "      <th>1</th>\n",
              "      <td>10</td>\n",
              "      <td>1</td>\n",
              "      <td>2</td>\n",
              "      <td>87</td>\n",
              "      <td>2</td>\n",
              "      <td>NaN</td>\n",
              "      <td>25.674</td>\n",
              "      <td>2</td>\n",
              "      <td>33.399</td>\n",
              "      <td>2</td>\n",
              "      <td>41.922</td>\n",
              "      <td>2</td>\n",
              "      <td>120.5</td>\n",
              "      <td>08:43.0</td>\n",
              "      <td>23:43.0</td>\n",
              "      <td>00:25.7</td>\n",
              "      <td>00:33.4</td>\n",
              "      <td>00:41.9</td>\n",
              "      <td>SB</td>\n",
              "      <td>NaN</td>\n",
              "      <td>NaN</td>\n",
              "      <td>JR</td>\n",
              "      <td>NaN</td>\n",
              "      <td>Location 2</td>\n",
              "      <td>Free Practice 2</td>\n",
              "    </tr>\n",
              "    <tr>\n",
              "      <th>2</th>\n",
              "      <td>10</td>\n",
              "      <td>1</td>\n",
              "      <td>3</td>\n",
              "      <td>73</td>\n",
              "      <td>0</td>\n",
              "      <td>B</td>\n",
              "      <td>28.129</td>\n",
              "      <td>0</td>\n",
              "      <td>34.091</td>\n",
              "      <td>0</td>\n",
              "      <td>57.248</td>\n",
              "      <td>0</td>\n",
              "      <td>101.9</td>\n",
              "      <td>10:42.5</td>\n",
              "      <td>25:42.5</td>\n",
              "      <td>00:28.1</td>\n",
              "      <td>00:34.1</td>\n",
              "      <td>00:57.2</td>\n",
              "      <td>SB</td>\n",
              "      <td>NaN</td>\n",
              "      <td>NaN</td>\n",
              "      <td>JR</td>\n",
              "      <td>NaN</td>\n",
              "      <td>Location 2</td>\n",
              "      <td>Free Practice 2</td>\n",
              "    </tr>\n",
              "  </tbody>\n",
              "</table>\n",
              "</div>"
            ],
            "text/plain": [
              "   NUMBER  DRIVER_NUMBER  LAP_NUMBER  ...  POWER    LOCATION            EVENT\n",
              "0      10              1           1  ...    NaN  Location 2  Free Practice 2\n",
              "1      10              1           2  ...    NaN  Location 2  Free Practice 2\n",
              "2      10              1           3  ...    NaN  Location 2  Free Practice 2\n",
              "\n",
              "[3 rows x 25 columns]"
            ]
          },
          "metadata": {},
          "execution_count": 262
        }
      ]
    },
    {
      "cell_type": "code",
      "metadata": {
        "colab": {
          "base_uri": "https://localhost:8080/"
        },
        "id": "VUrpp3U5vPw3",
        "outputId": "5efce3d4-3cc4-47b2-e01f-3617f01698cf"
      },
      "source": [
        "train.info()"
      ],
      "execution_count": null,
      "outputs": [
        {
          "output_type": "stream",
          "name": "stdout",
          "text": [
            "<class 'pandas.core.frame.DataFrame'>\n",
            "RangeIndex: 10276 entries, 0 to 10275\n",
            "Data columns (total 25 columns):\n",
            " #   Column                       Non-Null Count  Dtype  \n",
            "---  ------                       --------------  -----  \n",
            " 0   NUMBER                       10276 non-null  int64  \n",
            " 1   DRIVER_NUMBER                10276 non-null  int64  \n",
            " 2   LAP_NUMBER                   10276 non-null  int64  \n",
            " 3   LAP_TIME                     10276 non-null  int64  \n",
            " 4   LAP_IMPROVEMENT              10276 non-null  int64  \n",
            " 5   CROSSING_FINISH_LINE_IN_PIT  1234 non-null   object \n",
            " 6   S1                           10272 non-null  object \n",
            " 7   S1_IMPROVEMENT               10276 non-null  int64  \n",
            " 8   S2                           10268 non-null  object \n",
            " 9   S2_IMPROVEMENT               10276 non-null  int64  \n",
            " 10  S3                           10242 non-null  object \n",
            " 11  S3_IMPROVEMENT               10276 non-null  int64  \n",
            " 12  KPH                          10246 non-null  float64\n",
            " 13  ELAPSED                      10276 non-null  object \n",
            " 14  HOUR                         10276 non-null  object \n",
            " 15  S1_LARGE                     10272 non-null  object \n",
            " 16  S2_LARGE                     10268 non-null  object \n",
            " 17  S3_LARGE                     10242 non-null  object \n",
            " 18  DRIVER_NAME                  10276 non-null  object \n",
            " 19  PIT_TIME                     1898 non-null   object \n",
            " 20  GROUP                        508 non-null    float64\n",
            " 21  TEAM                         10276 non-null  object \n",
            " 22  POWER                        2903 non-null   float64\n",
            " 23  LOCATION                     10276 non-null  object \n",
            " 24  EVENT                        10276 non-null  object \n",
            "dtypes: float64(3), int64(8), object(14)\n",
            "memory usage: 2.0+ MB\n"
          ]
        }
      ]
    },
    {
      "cell_type": "code",
      "metadata": {
        "colab": {
          "base_uri": "https://localhost:8080/"
        },
        "id": "8FEXy5Z7tktK",
        "outputId": "68165da2-80f1-451d-f4ff-8aa631de1e10"
      },
      "source": [
        "test.info()"
      ],
      "execution_count": null,
      "outputs": [
        {
          "output_type": "stream",
          "name": "stdout",
          "text": [
            "<class 'pandas.core.frame.DataFrame'>\n",
            "RangeIndex: 420 entries, 0 to 419\n",
            "Data columns (total 25 columns):\n",
            " #   Column                       Non-Null Count  Dtype  \n",
            "---  ------                       --------------  -----  \n",
            " 0   NUMBER                       420 non-null    int64  \n",
            " 1   DRIVER_NUMBER                420 non-null    int64  \n",
            " 2   LAP_NUMBER                   420 non-null    int64  \n",
            " 3   LAP_TIME                     0 non-null      float64\n",
            " 4   LAP_IMPROVEMENT              420 non-null    int64  \n",
            " 5   CROSSING_FINISH_LINE_IN_PIT  16 non-null     object \n",
            " 6   S1                           420 non-null    object \n",
            " 7   S1_IMPROVEMENT               420 non-null    int64  \n",
            " 8   S2                           420 non-null    object \n",
            " 9   S2_IMPROVEMENT               420 non-null    int64  \n",
            " 10  S3                           418 non-null    object \n",
            " 11  S3_IMPROVEMENT               420 non-null    int64  \n",
            " 12  KPH                          418 non-null    float64\n",
            " 13  ELAPSED                      420 non-null    object \n",
            " 14  HOUR                         420 non-null    object \n",
            " 15  S1_LARGE                     420 non-null    object \n",
            " 16  S2_LARGE                     420 non-null    object \n",
            " 17  S3_LARGE                     418 non-null    object \n",
            " 18  DRIVER_NAME                  420 non-null    object \n",
            " 19  PIT_TIME                     155 non-null    object \n",
            " 20  GROUP                        391 non-null    float64\n",
            " 21  TEAM                         420 non-null    object \n",
            " 22  POWER                        309 non-null    float64\n",
            " 23  LOCATION                     420 non-null    object \n",
            " 24  EVENT                        420 non-null    object \n",
            "dtypes: float64(4), int64(7), object(14)\n",
            "memory usage: 82.2+ KB\n"
          ]
        }
      ]
    },
    {
      "cell_type": "markdown",
      "metadata": {
        "id": "i57WakekCffF"
      },
      "source": [
        "### Target: LAP_TIME vs. Features: S1, S2, S3, S1_LARGE, S2_LARGE, S3_LARGE, PIT_TIME, CROSSING_FINISH_LINE_IN_PIT"
      ]
    },
    {
      "cell_type": "markdown",
      "metadata": {
        "id": "zhMRBR-UCq7H"
      },
      "source": [
        "In most motorsports, the race track is divided into three sectors of the lap, each of which is roughly one-third of the racetrack. This allows a deeper analysis of the race as the different sectors usually have different characteristics.  \n",
        "S1, S2, S3 are the timings for each sector. Ideally, the lap time should be the sum of three sector timings. If the sectors have some overlap, it should be less than the sum. If the sectors have slight gaps between them, it should be slightly more than the sum. We should investigate that relation.  \n",
        "S1_LARGE, S2_LARGE and S3_LARGE are formatted versions of S1, S2 and S3 respectively, rounded to the nearest hundredth of a second. We do not need to keep both sets of timings in our feature set. Since LAP_TIME is rounded to the nearest second, we will keep the rounded version of sector timings as well. "
      ]
    },
    {
      "cell_type": "markdown",
      "metadata": {
        "id": "qwbsr5sYhqb_"
      },
      "source": [
        "Before comparing time-based features, we will convert them to seconds."
      ]
    },
    {
      "cell_type": "code",
      "metadata": {
        "id": "FhbmopZlhpz1"
      },
      "source": [
        "def to_seconds(x):  #microseconds are dropped\n",
        "  if x != x:\n",
        "    return np.nan\n",
        "  s = str(x).strip()\n",
        "  parts = list(map(float, s.split(':')))\n",
        "  if len(parts) == 2:\n",
        "    return parts[0] * 60 + parts[1]\n",
        "  else:\n",
        "    return parts[0]"
      ],
      "execution_count": null,
      "outputs": []
    },
    {
      "cell_type": "code",
      "metadata": {
        "id": "Dzy_rztWw50c"
      },
      "source": [
        "time_columns = ['S1', 'S2', 'S3', 'S1_LARGE', 'S2_LARGE', 'S3_LARGE', 'PIT_TIME']"
      ],
      "execution_count": null,
      "outputs": []
    },
    {
      "cell_type": "code",
      "metadata": {
        "id": "yf7GvB51klgo"
      },
      "source": [
        "train[time_columns] = train[time_columns].applymap(to_seconds)\n",
        "test[time_columns] = test[time_columns].applymap(to_seconds)"
      ],
      "execution_count": null,
      "outputs": []
    },
    {
      "cell_type": "code",
      "metadata": {
        "colab": {
          "base_uri": "https://localhost:8080/"
        },
        "id": "efySIAzZCSeR",
        "outputId": "edf7c76d-b324-4192-ee7f-9756494c5c88"
      },
      "source": [
        "train[time_columns + ['LAP_TIME']].sample(5)"
      ],
      "execution_count": null,
      "outputs": [
        {
          "output_type": "execute_result",
          "data": {
            "text/html": [
              "<div>\n",
              "<style scoped>\n",
              "    .dataframe tbody tr th:only-of-type {\n",
              "        vertical-align: middle;\n",
              "    }\n",
              "\n",
              "    .dataframe tbody tr th {\n",
              "        vertical-align: top;\n",
              "    }\n",
              "\n",
              "    .dataframe thead th {\n",
              "        text-align: right;\n",
              "    }\n",
              "</style>\n",
              "<table border=\"1\" class=\"dataframe\">\n",
              "  <thead>\n",
              "    <tr style=\"text-align: right;\">\n",
              "      <th></th>\n",
              "      <th>S1</th>\n",
              "      <th>S2</th>\n",
              "      <th>S3</th>\n",
              "      <th>S1_LARGE</th>\n",
              "      <th>S2_LARGE</th>\n",
              "      <th>S3_LARGE</th>\n",
              "      <th>PIT_TIME</th>\n",
              "      <th>LAP_TIME</th>\n",
              "    </tr>\n",
              "  </thead>\n",
              "  <tbody>\n",
              "    <tr>\n",
              "      <th>2530</th>\n",
              "      <td>24.271</td>\n",
              "      <td>27.416</td>\n",
              "      <td>19.673</td>\n",
              "      <td>24.3</td>\n",
              "      <td>27.4</td>\n",
              "      <td>19.7</td>\n",
              "      <td>NaN</td>\n",
              "      <td>123</td>\n",
              "    </tr>\n",
              "    <tr>\n",
              "      <th>367</th>\n",
              "      <td>26.913</td>\n",
              "      <td>34.854</td>\n",
              "      <td>43.974</td>\n",
              "      <td>26.9</td>\n",
              "      <td>34.9</td>\n",
              "      <td>44.0</td>\n",
              "      <td>NaN</td>\n",
              "      <td>70</td>\n",
              "    </tr>\n",
              "    <tr>\n",
              "      <th>7212</th>\n",
              "      <td>72.500</td>\n",
              "      <td>23.535</td>\n",
              "      <td>38.605</td>\n",
              "      <td>72.5</td>\n",
              "      <td>23.5</td>\n",
              "      <td>38.6</td>\n",
              "      <td>49.5</td>\n",
              "      <td>111</td>\n",
              "    </tr>\n",
              "    <tr>\n",
              "      <th>543</th>\n",
              "      <td>25.931</td>\n",
              "      <td>33.629</td>\n",
              "      <td>42.359</td>\n",
              "      <td>25.9</td>\n",
              "      <td>33.6</td>\n",
              "      <td>42.4</td>\n",
              "      <td>NaN</td>\n",
              "      <td>115</td>\n",
              "    </tr>\n",
              "    <tr>\n",
              "      <th>4100</th>\n",
              "      <td>26.531</td>\n",
              "      <td>31.637</td>\n",
              "      <td>34.902</td>\n",
              "      <td>26.5</td>\n",
              "      <td>31.6</td>\n",
              "      <td>34.9</td>\n",
              "      <td>NaN</td>\n",
              "      <td>97</td>\n",
              "    </tr>\n",
              "  </tbody>\n",
              "</table>\n",
              "</div>"
            ],
            "text/plain": [
              "          S1      S2      S3  S1_LARGE  S2_LARGE  S3_LARGE  PIT_TIME  LAP_TIME\n",
              "2530  24.271  27.416  19.673      24.3      27.4      19.7       NaN       123\n",
              "367   26.913  34.854  43.974      26.9      34.9      44.0       NaN        70\n",
              "7212  72.500  23.535  38.605      72.5      23.5      38.6      49.5       111\n",
              "543   25.931  33.629  42.359      25.9      33.6      42.4       NaN       115\n",
              "4100  26.531  31.637  34.902      26.5      31.6      34.9       NaN        97"
            ]
          },
          "metadata": {},
          "execution_count": 268
        }
      ]
    },
    {
      "cell_type": "markdown",
      "metadata": {
        "id": "_hfXOzjCL8rO"
      },
      "source": [
        "Checking for inconsistencies between Sn and Sn_LARGE before discarding one set of values."
      ]
    },
    {
      "cell_type": "code",
      "metadata": {
        "colab": {
          "base_uri": "https://localhost:8080/"
        },
        "id": "o90p-Dv0M2XK",
        "outputId": "df1df03c-bf9d-4ceb-9549-d3d1b571796d"
      },
      "source": [
        "print(train[['S1', 'S1_LARGE']].corr())\n",
        "print(train[['S2', 'S2_LARGE']].corr())\n",
        "print(train[['S3', 'S3_LARGE']].corr())"
      ],
      "execution_count": null,
      "outputs": [
        {
          "output_type": "stream",
          "name": "stdout",
          "text": [
            "           S1  S1_LARGE\n",
            "S1        1.0       1.0\n",
            "S1_LARGE  1.0       1.0\n",
            "                S2  S2_LARGE\n",
            "S2        1.000000  0.999995\n",
            "S2_LARGE  0.999995  1.000000\n",
            "           S3  S3_LARGE\n",
            "S3        1.0       1.0\n",
            "S3_LARGE  1.0       1.0\n"
          ]
        }
      ]
    },
    {
      "cell_type": "code",
      "metadata": {
        "colab": {
          "base_uri": "https://localhost:8080/"
        },
        "id": "aV8Mh00ZOpMU",
        "outputId": "27fb9573-d39a-4be9-d3c3-51f4f3c22236"
      },
      "source": [
        "print(test[['S1', 'S1_LARGE']].corr())\n",
        "print(test[['S2', 'S2_LARGE']].corr())\n",
        "print(test[['S3', 'S3_LARGE']].corr())"
      ],
      "execution_count": null,
      "outputs": [
        {
          "output_type": "stream",
          "name": "stdout",
          "text": [
            "           S1  S1_LARGE\n",
            "S1        1.0       1.0\n",
            "S1_LARGE  1.0       1.0\n",
            "                S2  S2_LARGE\n",
            "S2        1.000000  0.999988\n",
            "S2_LARGE  0.999988  1.000000\n",
            "           S3  S3_LARGE\n",
            "S3        1.0       1.0\n",
            "S3_LARGE  1.0       1.0\n"
          ]
        }
      ]
    },
    {
      "cell_type": "code",
      "metadata": {
        "colab": {
          "base_uri": "https://localhost:8080/"
        },
        "id": "TYwdzHzKNqPE",
        "outputId": "c708f9aa-28e4-4262-de0d-5645fc33a4b8"
      },
      "source": [
        "len(test.loc[abs(test.S2 - test.S2_LARGE) > 0.1])"
      ],
      "execution_count": null,
      "outputs": [
        {
          "output_type": "execute_result",
          "data": {
            "text/plain": [
              "0"
            ]
          },
          "metadata": {},
          "execution_count": 271
        }
      ]
    },
    {
      "cell_type": "markdown",
      "metadata": {
        "id": "XJnp2DFtOLK8"
      },
      "source": [
        "We can safely discard S1, S2 and S3."
      ]
    },
    {
      "cell_type": "code",
      "metadata": {
        "id": "IEP67QZ0OyfR"
      },
      "source": [
        "train.drop(['S1', 'S2', 'S3'], axis=1, inplace=True)\n",
        "test.drop(['S1', 'S2', 'S3'], axis=1, inplace=True)"
      ],
      "execution_count": null,
      "outputs": []
    },
    {
      "cell_type": "markdown",
      "metadata": {
        "id": "pRwygZ8Q9qix"
      },
      "source": [
        "Ideally the lap time should be sum of the three sector timings without the time spent in the pitstop.  \n",
        "But some sector timings recorded have PIT_TIME included in them, while some do not."
      ]
    },
    {
      "cell_type": "code",
      "metadata": {
        "colab": {
          "base_uri": "https://localhost:8080/"
        },
        "id": "aV9cGMT2LrXL",
        "outputId": "90a7774c-557f-477c-cc43-a99257d4a98e"
      },
      "source": [
        "train.loc[[9288, 2891], ['S1_LARGE', 'S2_LARGE', 'S3_LARGE', 'PIT_TIME', 'LAP_TIME']]"
      ],
      "execution_count": null,
      "outputs": [
        {
          "output_type": "execute_result",
          "data": {
            "text/html": [
              "<div>\n",
              "<style scoped>\n",
              "    .dataframe tbody tr th:only-of-type {\n",
              "        vertical-align: middle;\n",
              "    }\n",
              "\n",
              "    .dataframe tbody tr th {\n",
              "        vertical-align: top;\n",
              "    }\n",
              "\n",
              "    .dataframe thead th {\n",
              "        text-align: right;\n",
              "    }\n",
              "</style>\n",
              "<table border=\"1\" class=\"dataframe\">\n",
              "  <thead>\n",
              "    <tr style=\"text-align: right;\">\n",
              "      <th></th>\n",
              "      <th>S1_LARGE</th>\n",
              "      <th>S2_LARGE</th>\n",
              "      <th>S3_LARGE</th>\n",
              "      <th>PIT_TIME</th>\n",
              "      <th>LAP_TIME</th>\n",
              "    </tr>\n",
              "  </thead>\n",
              "  <tbody>\n",
              "    <tr>\n",
              "      <th>9288</th>\n",
              "      <td>25.0</td>\n",
              "      <td>22.3</td>\n",
              "      <td>271.8</td>\n",
              "      <td>NaN</td>\n",
              "      <td>67</td>\n",
              "    </tr>\n",
              "    <tr>\n",
              "      <th>2891</th>\n",
              "      <td>107.2</td>\n",
              "      <td>40.1</td>\n",
              "      <td>48.6</td>\n",
              "      <td>75.7</td>\n",
              "      <td>98</td>\n",
              "    </tr>\n",
              "  </tbody>\n",
              "</table>\n",
              "</div>"
            ],
            "text/plain": [
              "      S1_LARGE  S2_LARGE  S3_LARGE  PIT_TIME  LAP_TIME\n",
              "9288      25.0      22.3     271.8       NaN        67\n",
              "2891     107.2      40.1      48.6      75.7        98"
            ]
          },
          "metadata": {},
          "execution_count": 273
        }
      ]
    },
    {
      "cell_type": "markdown",
      "metadata": {
        "id": "h1TAaE5uL1yf"
      },
      "source": [
        "* Row 9288: PIT_TIME is NaN, but sector 3 timing is very large, just like timings where PIT_TIME was included. If a car took 271 seconds to cover roughly one-third of the track, the lap time cannot be 67 seconds.\n",
        "* Row 2891: Sector 1 timing is 107 secs including a PIT_TIME of 75 seconds, which is quite logical. However, the lap time is still inconsistent with sector timings.  \n",
        "\n",
        "This is sure to misguide any data modeling we do using sector timings, so we need to be careful about how to use them."
      ]
    },
    {
      "cell_type": "markdown",
      "metadata": {
        "id": "tkyZuF4gYsPj"
      },
      "source": [
        "We will create an IDEAL_LAP_TIME column = (sum of 3 sector timings - PIT_TIME) to see how they relate to LAP_TIME."
      ]
    },
    {
      "cell_type": "code",
      "metadata": {
        "id": "4grIBvLR60Jl"
      },
      "source": [
        "#we want to subtract PIT_TIME when needed, so we will fill NaNs with 0 and \n",
        "#create a new column for pitstop taken or not.\n",
        "train['PITSTOP_TAKEN'] = ~train.PIT_TIME.isna()\n",
        "train.fillna({'PIT_TIME': 0.0}, inplace=True)\n",
        "\n",
        "test['PITSTOP_TAKEN'] = ~test.PIT_TIME.isna()\n",
        "test.fillna({'PIT_TIME': 0.0}, inplace=True)"
      ],
      "execution_count": null,
      "outputs": []
    },
    {
      "cell_type": "code",
      "metadata": {
        "id": "85NpyPiNFfya"
      },
      "source": [
        "train['IDEAL_LAP_TIME'] = train.S1_LARGE + train.S2_LARGE + train.S3_LARGE - train.PIT_TIME"
      ],
      "execution_count": null,
      "outputs": []
    },
    {
      "cell_type": "markdown",
      "metadata": {
        "id": "_W04FH79BNjx"
      },
      "source": [
        "We can plot LAP_TIME vs IDEAL_LAP_TIME to see if there is a linear relationship. Also, the figure will reveal outliers that may have been created due to incorrect entries in columns."
      ]
    },
    {
      "cell_type": "code",
      "metadata": {
        "id": "5ZyNuGxxCqHh",
        "colab": {
          "base_uri": "https://localhost:8080/"
        },
        "outputId": "7c935656-a2c0-400a-c870-ef46127f7710"
      },
      "source": [
        "plt.figure(figsize=(10, 8))\n",
        "sns.scatterplot(x=train.LAP_TIME, y=train.IDEAL_LAP_TIME)\n",
        "plt.show()"
      ],
      "execution_count": null,
      "outputs": [
        {
          "output_type": "display_data",
          "data": {
            "image/png": "[encoded data removed]",
            "text/plain": [
              "<Figure size 720x576 with 1 Axes>"
            ]
          },
          "metadata": {
            "needs_background": "light"
          }
        }
      ]
    },
    {
      "cell_type": "markdown",
      "metadata": {
        "id": "8BGNwdHRBqIB"
      },
      "source": [
        "* There is a dense collection of points towards the middle forming a straight line. It looks horizontal because we have some huge outliers which distorted the scale of the y-axis. Ideally, we should have seen a line with slope = 1. \n",
        "* We can also see there are some records with LAP_TIME = 0 visible towards the left of the plot.  \n",
        "\n",
        "Let us check the records which contain the outliers and handle them."
      ]
    },
    {
      "cell_type": "code",
      "metadata": {
        "id": "x4aiqKm4S2H-"
      },
      "source": [
        "time_columns = ['S1_LARGE', 'S2_LARGE', 'S3_LARGE', 'PIT_TIME', 'PITSTOP_TAKEN', 'LAP_TIME', 'CROSSING_FINISH_LINE_IN_PIT']"
      ],
      "execution_count": null,
      "outputs": []
    },
    {
      "cell_type": "code",
      "metadata": {
        "colab": {
          "base_uri": "https://localhost:8080/"
        },
        "id": "-SXIs1h9Azzg",
        "outputId": "6fb11a9d-0d29-4eee-c433-2eff43e0c56a"
      },
      "source": [
        "train.loc[train.IDEAL_LAP_TIME > 500][time_columns].head()"
      ],
      "execution_count": null,
      "outputs": [
        {
          "output_type": "execute_result",
          "data": {
            "text/html": [
              "<div>\n",
              "<style scoped>\n",
              "    .dataframe tbody tr th:only-of-type {\n",
              "        vertical-align: middle;\n",
              "    }\n",
              "\n",
              "    .dataframe tbody tr th {\n",
              "        vertical-align: top;\n",
              "    }\n",
              "\n",
              "    .dataframe thead th {\n",
              "        text-align: right;\n",
              "    }\n",
              "</style>\n",
              "<table border=\"1\" class=\"dataframe\">\n",
              "  <thead>\n",
              "    <tr style=\"text-align: right;\">\n",
              "      <th></th>\n",
              "      <th>S1_LARGE</th>\n",
              "      <th>S2_LARGE</th>\n",
              "      <th>S3_LARGE</th>\n",
              "      <th>PIT_TIME</th>\n",
              "      <th>PITSTOP_TAKEN</th>\n",
              "      <th>LAP_TIME</th>\n",
              "      <th>CROSSING_FINISH_LINE_IN_PIT</th>\n",
              "    </tr>\n",
              "  </thead>\n",
              "  <tbody>\n",
              "    <tr>\n",
              "      <th>1028</th>\n",
              "      <td>48.0</td>\n",
              "      <td>48.5</td>\n",
              "      <td>444.6</td>\n",
              "      <td>0.0</td>\n",
              "      <td>False</td>\n",
              "      <td>178</td>\n",
              "      <td>B</td>\n",
              "    </tr>\n",
              "    <tr>\n",
              "      <th>1046</th>\n",
              "      <td>24.8</td>\n",
              "      <td>24.8</td>\n",
              "      <td>664.3</td>\n",
              "      <td>0.0</td>\n",
              "      <td>False</td>\n",
              "      <td>96</td>\n",
              "      <td>B</td>\n",
              "    </tr>\n",
              "    <tr>\n",
              "      <th>1787</th>\n",
              "      <td>33.2</td>\n",
              "      <td>36.3</td>\n",
              "      <td>455.8</td>\n",
              "      <td>0.0</td>\n",
              "      <td>False</td>\n",
              "      <td>74</td>\n",
              "      <td>B</td>\n",
              "    </tr>\n",
              "    <tr>\n",
              "      <th>1791</th>\n",
              "      <td>26.9</td>\n",
              "      <td>29.4</td>\n",
              "      <td>483.5</td>\n",
              "      <td>0.0</td>\n",
              "      <td>False</td>\n",
              "      <td>93</td>\n",
              "      <td>B</td>\n",
              "    </tr>\n",
              "    <tr>\n",
              "      <th>1930</th>\n",
              "      <td>32.7</td>\n",
              "      <td>31.0</td>\n",
              "      <td>568.2</td>\n",
              "      <td>0.0</td>\n",
              "      <td>False</td>\n",
              "      <td>116</td>\n",
              "      <td>B</td>\n",
              "    </tr>\n",
              "  </tbody>\n",
              "</table>\n",
              "</div>"
            ],
            "text/plain": [
              "      S1_LARGE  S2_LARGE  ...  LAP_TIME  CROSSING_FINISH_LINE_IN_PIT\n",
              "1028      48.0      48.5  ...       178                            B\n",
              "1046      24.8      24.8  ...        96                            B\n",
              "1787      33.2      36.3  ...        74                            B\n",
              "1791      26.9      29.4  ...        93                            B\n",
              "1930      32.7      31.0  ...       116                            B\n",
              "\n",
              "[5 rows x 7 columns]"
            ]
          },
          "metadata": {},
          "execution_count": 278
        }
      ]
    },
    {
      "cell_type": "markdown",
      "metadata": {
        "id": "8gKgMS6dbCtv"
      },
      "source": [
        "There are some huge sector-3 timings here but no pitstops were recorded. Race-cars would need to slow down to a crawl to take so much time to cover a sector without pitstops. But we also see that the CROSSING_FINISH_LINE_IN_PIT value is 'B' in all cases. Sector timing might be big because the car did not complete that sector due to some damage or mechanical failure, but it was still recorded.  \n",
        "We could remove all rows with CROSSING_FINISH_LINE_IN_PIT == 'B' since those lap timings would be invalid. However, we also have a small number of such rows in the test set so we cannot simply ignore them."
      ]
    },
    {
      "cell_type": "code",
      "metadata": {
        "colab": {
          "base_uri": "https://localhost:8080/"
        },
        "id": "ThWDUKTWZYwQ",
        "outputId": "cf9356af-40ba-40df-d0ef-728ba2ea8c4b"
      },
      "source": [
        "train[time_columns].describe()"
      ],
      "execution_count": null,
      "outputs": [
        {
          "output_type": "execute_result",
          "data": {
            "text/html": [
              "<div>\n",
              "<style scoped>\n",
              "    .dataframe tbody tr th:only-of-type {\n",
              "        vertical-align: middle;\n",
              "    }\n",
              "\n",
              "    .dataframe tbody tr th {\n",
              "        vertical-align: top;\n",
              "    }\n",
              "\n",
              "    .dataframe thead th {\n",
              "        text-align: right;\n",
              "    }\n",
              "</style>\n",
              "<table border=\"1\" class=\"dataframe\">\n",
              "  <thead>\n",
              "    <tr style=\"text-align: right;\">\n",
              "      <th></th>\n",
              "      <th>S1_LARGE</th>\n",
              "      <th>S2_LARGE</th>\n",
              "      <th>S3_LARGE</th>\n",
              "      <th>PIT_TIME</th>\n",
              "      <th>LAP_TIME</th>\n",
              "    </tr>\n",
              "  </thead>\n",
              "  <tbody>\n",
              "    <tr>\n",
              "      <th>count</th>\n",
              "      <td>10272.000000</td>\n",
              "      <td>10268.000000</td>\n",
              "      <td>10242.000000</td>\n",
              "      <td>10276.000000</td>\n",
              "      <td>10276.000000</td>\n",
              "    </tr>\n",
              "    <tr>\n",
              "      <th>mean</th>\n",
              "      <td>51.723851</td>\n",
              "      <td>31.368806</td>\n",
              "      <td>44.602802</td>\n",
              "      <td>37.210880</td>\n",
              "      <td>92.670884</td>\n",
              "    </tr>\n",
              "    <tr>\n",
              "      <th>std</th>\n",
              "      <td>93.588470</td>\n",
              "      <td>8.745657</td>\n",
              "      <td>86.454768</td>\n",
              "      <td>127.247166</td>\n",
              "      <td>26.206425</td>\n",
              "    </tr>\n",
              "    <tr>\n",
              "      <th>min</th>\n",
              "      <td>21.400000</td>\n",
              "      <td>17.500000</td>\n",
              "      <td>18.800000</td>\n",
              "      <td>0.000000</td>\n",
              "      <td>0.000000</td>\n",
              "    </tr>\n",
              "    <tr>\n",
              "      <th>25%</th>\n",
              "      <td>24.900000</td>\n",
              "      <td>24.000000</td>\n",
              "      <td>26.700000</td>\n",
              "      <td>0.000000</td>\n",
              "      <td>75.000000</td>\n",
              "    </tr>\n",
              "    <tr>\n",
              "      <th>50%</th>\n",
              "      <td>27.900000</td>\n",
              "      <td>31.600000</td>\n",
              "      <td>29.900000</td>\n",
              "      <td>0.000000</td>\n",
              "      <td>89.000000</td>\n",
              "    </tr>\n",
              "    <tr>\n",
              "      <th>75%</th>\n",
              "      <td>33.400000</td>\n",
              "      <td>36.000000</td>\n",
              "      <td>35.000000</td>\n",
              "      <td>0.000000</td>\n",
              "      <td>103.000000</td>\n",
              "    </tr>\n",
              "    <tr>\n",
              "      <th>max</th>\n",
              "      <td>2377.900000</td>\n",
              "      <td>128.800000</td>\n",
              "      <td>1741.100000</td>\n",
              "      <td>2350.200000</td>\n",
              "      <td>199.000000</td>\n",
              "    </tr>\n",
              "  </tbody>\n",
              "</table>\n",
              "</div>"
            ],
            "text/plain": [
              "           S1_LARGE      S2_LARGE      S3_LARGE      PIT_TIME      LAP_TIME\n",
              "count  10272.000000  10268.000000  10242.000000  10276.000000  10276.000000\n",
              "mean      51.723851     31.368806     44.602802     37.210880     92.670884\n",
              "std       93.588470      8.745657     86.454768    127.247166     26.206425\n",
              "min       21.400000     17.500000     18.800000      0.000000      0.000000\n",
              "25%       24.900000     24.000000     26.700000      0.000000     75.000000\n",
              "50%       27.900000     31.600000     29.900000      0.000000     89.000000\n",
              "75%       33.400000     36.000000     35.000000      0.000000    103.000000\n",
              "max     2377.900000    128.800000   1741.100000   2350.200000    199.000000"
            ]
          },
          "metadata": {},
          "execution_count": 279
        }
      ]
    },
    {
      "cell_type": "markdown",
      "metadata": {
        "id": "MZMN5B7QbLFe"
      },
      "source": [
        "* S2_LARGE looks mostly consistent with a very small standard deviation. Even the max value is only 128 seconds which can be explained by a short pit time.  \n",
        "* S1_LARGE has a very high max value of 2377 seconds but we can see the max value for pit time which is 2350 seconds and is probably in the same record. We will confirm it later.\n",
        "* S3_LARGE was the most inconsistent column as we saw ealier, and the 1000+ seconds records actually have no PIT_TIME associated with them.\n",
        "* The minimum LAP_TIME is 0, as we also saw in the IDEAL_LAP_TIME graph, which is not possible and we need to correct or remove those records."
      ]
    },
    {
      "cell_type": "markdown",
      "metadata": {
        "id": "_doUVSoASgGP"
      },
      "source": [
        "Using the minimum values of sector timings, the best possible lap across all locations is 21.4 + 17.5 + 18.8 = 57.7"
      ]
    },
    {
      "cell_type": "code",
      "metadata": {
        "colab": {
          "base_uri": "https://localhost:8080/"
        },
        "id": "RyjHaPfvkUMO",
        "outputId": "e8b46b1e-78f3-44b0-f3ea-d32e873debe7"
      },
      "source": [
        "len(train.loc[train.LAP_TIME == 0]), len(train.loc[train.LAP_TIME < 57.7])"
      ],
      "execution_count": null,
      "outputs": [
        {
          "output_type": "execute_result",
          "data": {
            "text/plain": [
              "(140, 205)"
            ]
          },
          "metadata": {},
          "execution_count": 280
        }
      ]
    },
    {
      "cell_type": "code",
      "metadata": {
        "colab": {
          "base_uri": "https://localhost:8080/"
        },
        "id": "PxvEfXZLTeJ-",
        "outputId": "7f872b61-3389-4399-90f0-e201b0ceb3c3"
      },
      "source": [
        "train.loc[train.LAP_TIME < 57.7].sample(5)"
      ],
      "execution_count": null,
      "outputs": [
        {
          "output_type": "execute_result",
          "data": {
            "text/html": [
              "<div>\n",
              "<style scoped>\n",
              "    .dataframe tbody tr th:only-of-type {\n",
              "        vertical-align: middle;\n",
              "    }\n",
              "\n",
              "    .dataframe tbody tr th {\n",
              "        vertical-align: top;\n",
              "    }\n",
              "\n",
              "    .dataframe thead th {\n",
              "        text-align: right;\n",
              "    }\n",
              "</style>\n",
              "<table border=\"1\" class=\"dataframe\">\n",
              "  <thead>\n",
              "    <tr style=\"text-align: right;\">\n",
              "      <th></th>\n",
              "      <th>NUMBER</th>\n",
              "      <th>DRIVER_NUMBER</th>\n",
              "      <th>LAP_NUMBER</th>\n",
              "      <th>LAP_TIME</th>\n",
              "      <th>LAP_IMPROVEMENT</th>\n",
              "      <th>CROSSING_FINISH_LINE_IN_PIT</th>\n",
              "      <th>S1_IMPROVEMENT</th>\n",
              "      <th>S2_IMPROVEMENT</th>\n",
              "      <th>S3_IMPROVEMENT</th>\n",
              "      <th>KPH</th>\n",
              "      <th>ELAPSED</th>\n",
              "      <th>HOUR</th>\n",
              "      <th>S1_LARGE</th>\n",
              "      <th>S2_LARGE</th>\n",
              "      <th>S3_LARGE</th>\n",
              "      <th>DRIVER_NAME</th>\n",
              "      <th>PIT_TIME</th>\n",
              "      <th>GROUP</th>\n",
              "      <th>TEAM</th>\n",
              "      <th>POWER</th>\n",
              "      <th>LOCATION</th>\n",
              "      <th>EVENT</th>\n",
              "      <th>PITSTOP_TAKEN</th>\n",
              "      <th>IDEAL_LAP_TIME</th>\n",
              "    </tr>\n",
              "  </thead>\n",
              "  <tbody>\n",
              "    <tr>\n",
              "      <th>10192</th>\n",
              "      <td>71</td>\n",
              "      <td>1</td>\n",
              "      <td>14</td>\n",
              "      <td>24</td>\n",
              "      <td>0</td>\n",
              "      <td>NaN</td>\n",
              "      <td>0</td>\n",
              "      <td>0</td>\n",
              "      <td>0</td>\n",
              "      <td>96.8</td>\n",
              "      <td>18:39.6</td>\n",
              "      <td>18:39.6</td>\n",
              "      <td>28.5</td>\n",
              "      <td>28.8</td>\n",
              "      <td>30.3</td>\n",
              "      <td>NN</td>\n",
              "      <td>0.0</td>\n",
              "      <td>NaN</td>\n",
              "      <td>ROK</td>\n",
              "      <td>NaN</td>\n",
              "      <td>Location 8</td>\n",
              "      <td>Free Practice 1</td>\n",
              "      <td>False</td>\n",
              "      <td>87.6</td>\n",
              "    </tr>\n",
              "    <tr>\n",
              "      <th>9614</th>\n",
              "      <td>29</td>\n",
              "      <td>1</td>\n",
              "      <td>8</td>\n",
              "      <td>0</td>\n",
              "      <td>0</td>\n",
              "      <td>NaN</td>\n",
              "      <td>0</td>\n",
              "      <td>0</td>\n",
              "      <td>0</td>\n",
              "      <td>123.2</td>\n",
              "      <td>15:06.2</td>\n",
              "      <td>45:06.2</td>\n",
              "      <td>23.0</td>\n",
              "      <td>21.8</td>\n",
              "      <td>24.0</td>\n",
              "      <td>AS</td>\n",
              "      <td>0.0</td>\n",
              "      <td>NaN</td>\n",
              "      <td>MAHINDRAd</td>\n",
              "      <td>NaN</td>\n",
              "      <td>Location 8</td>\n",
              "      <td>Free Practice 2</td>\n",
              "      <td>False</td>\n",
              "      <td>68.8</td>\n",
              "    </tr>\n",
              "    <tr>\n",
              "      <th>10220</th>\n",
              "      <td>88</td>\n",
              "      <td>1</td>\n",
              "      <td>2</td>\n",
              "      <td>13</td>\n",
              "      <td>0</td>\n",
              "      <td>B</td>\n",
              "      <td>0</td>\n",
              "      <td>0</td>\n",
              "      <td>0</td>\n",
              "      <td>110.1</td>\n",
              "      <td>02:39.9</td>\n",
              "      <td>02:39.9</td>\n",
              "      <td>24.0</td>\n",
              "      <td>22.9</td>\n",
              "      <td>30.1</td>\n",
              "      <td>TB</td>\n",
              "      <td>0.0</td>\n",
              "      <td>NaN</td>\n",
              "      <td>NIOO</td>\n",
              "      <td>NaN</td>\n",
              "      <td>Location 8</td>\n",
              "      <td>Free Practice 1</td>\n",
              "      <td>False</td>\n",
              "      <td>77.0</td>\n",
              "    </tr>\n",
              "    <tr>\n",
              "      <th>1622</th>\n",
              "      <td>99</td>\n",
              "      <td>1</td>\n",
              "      <td>18</td>\n",
              "      <td>50</td>\n",
              "      <td>0</td>\n",
              "      <td>NaN</td>\n",
              "      <td>0</td>\n",
              "      <td>0</td>\n",
              "      <td>0</td>\n",
              "      <td>41.2</td>\n",
              "      <td>40:56.2</td>\n",
              "      <td>40:56.2</td>\n",
              "      <td>223.7</td>\n",
              "      <td>36.7</td>\n",
              "      <td>34.3</td>\n",
              "      <td>PWEHRL</td>\n",
              "      <td>192.9</td>\n",
              "      <td>NaN</td>\n",
              "      <td>TAG</td>\n",
              "      <td>NaN</td>\n",
              "      <td>Location 3</td>\n",
              "      <td>Free Practice 3</td>\n",
              "      <td>True</td>\n",
              "      <td>101.8</td>\n",
              "    </tr>\n",
              "    <tr>\n",
              "      <th>9103</th>\n",
              "      <td>29</td>\n",
              "      <td>1</td>\n",
              "      <td>24</td>\n",
              "      <td>0</td>\n",
              "      <td>0</td>\n",
              "      <td>NaN</td>\n",
              "      <td>0</td>\n",
              "      <td>0</td>\n",
              "      <td>0</td>\n",
              "      <td>105.0</td>\n",
              "      <td>43:07.5</td>\n",
              "      <td>43:07.5</td>\n",
              "      <td>25.1</td>\n",
              "      <td>25.3</td>\n",
              "      <td>30.3</td>\n",
              "      <td>AS</td>\n",
              "      <td>0.0</td>\n",
              "      <td>NaN</td>\n",
              "      <td>MAHINDRAd</td>\n",
              "      <td>250.0</td>\n",
              "      <td>Location 8</td>\n",
              "      <td>Free Practice 1</td>\n",
              "      <td>False</td>\n",
              "      <td>80.7</td>\n",
              "    </tr>\n",
              "  </tbody>\n",
              "</table>\n",
              "</div>"
            ],
            "text/plain": [
              "       NUMBER  DRIVER_NUMBER  ...  PITSTOP_TAKEN  IDEAL_LAP_TIME\n",
              "10192      71              1  ...          False            87.6\n",
              "9614       29              1  ...          False            68.8\n",
              "10220      88              1  ...          False            77.0\n",
              "1622       99              1  ...           True           101.8\n",
              "9103       29              1  ...          False            80.7\n",
              "\n",
              "[5 rows x 24 columns]"
            ]
          },
          "metadata": {},
          "execution_count": 281
        }
      ]
    },
    {
      "cell_type": "markdown",
      "metadata": {
        "id": "OIMqcqEfUGRH"
      },
      "source": [
        "These lap timings also look incorrect, we will remove them too."
      ]
    },
    {
      "cell_type": "code",
      "metadata": {
        "id": "sDZrR9fEULEc"
      },
      "source": [
        "train.drop(train[train.LAP_TIME < 57.7].index, inplace=True)"
      ],
      "execution_count": null,
      "outputs": []
    },
    {
      "cell_type": "code",
      "metadata": {
        "colab": {
          "base_uri": "https://localhost:8080/"
        },
        "id": "xZcei2omUcRD",
        "outputId": "0196fc90-33b2-4e4d-c7a5-56955cf64333"
      },
      "source": [
        "train[time_columns].describe()"
      ],
      "execution_count": null,
      "outputs": [
        {
          "output_type": "execute_result",
          "data": {
            "text/html": [
              "<div>\n",
              "<style scoped>\n",
              "    .dataframe tbody tr th:only-of-type {\n",
              "        vertical-align: middle;\n",
              "    }\n",
              "\n",
              "    .dataframe tbody tr th {\n",
              "        vertical-align: top;\n",
              "    }\n",
              "\n",
              "    .dataframe thead th {\n",
              "        text-align: right;\n",
              "    }\n",
              "</style>\n",
              "<table border=\"1\" class=\"dataframe\">\n",
              "  <thead>\n",
              "    <tr style=\"text-align: right;\">\n",
              "      <th></th>\n",
              "      <th>S1_LARGE</th>\n",
              "      <th>S2_LARGE</th>\n",
              "      <th>S3_LARGE</th>\n",
              "      <th>PIT_TIME</th>\n",
              "      <th>LAP_TIME</th>\n",
              "    </tr>\n",
              "  </thead>\n",
              "  <tbody>\n",
              "    <tr>\n",
              "      <th>count</th>\n",
              "      <td>10067.000000</td>\n",
              "      <td>10063.000000</td>\n",
              "      <td>10037.000000</td>\n",
              "      <td>10071.000000</td>\n",
              "      <td>10071.000000</td>\n",
              "    </tr>\n",
              "    <tr>\n",
              "      <th>mean</th>\n",
              "      <td>51.939625</td>\n",
              "      <td>31.454069</td>\n",
              "      <td>44.667062</td>\n",
              "      <td>37.292672</td>\n",
              "      <td>94.361434</td>\n",
              "    </tr>\n",
              "    <tr>\n",
              "      <th>std</th>\n",
              "      <td>94.090456</td>\n",
              "      <td>8.753330</td>\n",
              "      <td>86.756760</td>\n",
              "      <td>127.753715</td>\n",
              "      <td>23.498037</td>\n",
              "    </tr>\n",
              "    <tr>\n",
              "      <th>min</th>\n",
              "      <td>21.400000</td>\n",
              "      <td>17.500000</td>\n",
              "      <td>18.800000</td>\n",
              "      <td>0.000000</td>\n",
              "      <td>60.000000</td>\n",
              "    </tr>\n",
              "    <tr>\n",
              "      <th>25%</th>\n",
              "      <td>24.900000</td>\n",
              "      <td>24.300000</td>\n",
              "      <td>26.900000</td>\n",
              "      <td>0.000000</td>\n",
              "      <td>76.000000</td>\n",
              "    </tr>\n",
              "    <tr>\n",
              "      <th>50%</th>\n",
              "      <td>27.900000</td>\n",
              "      <td>31.800000</td>\n",
              "      <td>30.000000</td>\n",
              "      <td>0.000000</td>\n",
              "      <td>90.000000</td>\n",
              "    </tr>\n",
              "    <tr>\n",
              "      <th>75%</th>\n",
              "      <td>33.400000</td>\n",
              "      <td>36.100000</td>\n",
              "      <td>35.100000</td>\n",
              "      <td>0.000000</td>\n",
              "      <td>104.000000</td>\n",
              "    </tr>\n",
              "    <tr>\n",
              "      <th>max</th>\n",
              "      <td>2377.900000</td>\n",
              "      <td>128.800000</td>\n",
              "      <td>1741.100000</td>\n",
              "      <td>2350.200000</td>\n",
              "      <td>199.000000</td>\n",
              "    </tr>\n",
              "  </tbody>\n",
              "</table>\n",
              "</div>"
            ],
            "text/plain": [
              "           S1_LARGE      S2_LARGE      S3_LARGE      PIT_TIME      LAP_TIME\n",
              "count  10067.000000  10063.000000  10037.000000  10071.000000  10071.000000\n",
              "mean      51.939625     31.454069     44.667062     37.292672     94.361434\n",
              "std       94.090456      8.753330     86.756760    127.753715     23.498037\n",
              "min       21.400000     17.500000     18.800000      0.000000     60.000000\n",
              "25%       24.900000     24.300000     26.900000      0.000000     76.000000\n",
              "50%       27.900000     31.800000     30.000000      0.000000     90.000000\n",
              "75%       33.400000     36.100000     35.100000      0.000000    104.000000\n",
              "max     2377.900000    128.800000   1741.100000   2350.200000    199.000000"
            ]
          },
          "metadata": {},
          "execution_count": 283
        }
      ]
    },
    {
      "cell_type": "markdown",
      "metadata": {
        "id": "rTgBaAJAUpMm"
      },
      "source": [
        "Now the minimum lap time is a reasonable 60 seconds, which would still be very fast, but possible.  \n",
        "With LAP_TIME fixed, we will now fix the sector timings."
      ]
    },
    {
      "cell_type": "markdown",
      "metadata": {
        "id": "4u9Gs_ZFgJa1"
      },
      "source": [
        "First, dealing with missing values:  \n",
        "Test set has 2 rows with missing S3 values. S1 and S2 are never missing. We will drop rows with S1 or S2 missing, and handle missing S3 differently."
      ]
    },
    {
      "cell_type": "code",
      "metadata": {
        "id": "p-pVEZVCgIaT"
      },
      "source": [
        "train.drop(train[train.S1_LARGE.isna()].index, inplace=True)\n",
        "train.drop(train[train.S2_LARGE.isna()].index, inplace=True)"
      ],
      "execution_count": null,
      "outputs": []
    },
    {
      "cell_type": "code",
      "metadata": {
        "colab": {
          "base_uri": "https://localhost:8080/"
        },
        "id": "qxT_kELufD24",
        "outputId": "448b3336-b65c-4313-a297-207b3628993f"
      },
      "source": [
        "train.shape[0]"
      ],
      "execution_count": null,
      "outputs": [
        {
          "output_type": "execute_result",
          "data": {
            "text/plain": [
              "10063"
            ]
          },
          "metadata": {},
          "execution_count": 285
        }
      ]
    },
    {
      "cell_type": "markdown",
      "metadata": {
        "id": "tunagiXAWc1M"
      },
      "source": [
        "Let's confirm if missing S3_LARGE is also connected to CROSSING_FINISH_LINE_IN_PIT"
      ]
    },
    {
      "cell_type": "code",
      "metadata": {
        "colab": {
          "base_uri": "https://localhost:8080/"
        },
        "id": "UT1z1qrTV8n4",
        "outputId": "6d4959d3-55e6-48de-fb3c-6b6e7223a5b9"
      },
      "source": [
        "len(train.loc[train.S3_LARGE.isna() & train.CROSSING_FINISH_LINE_IN_PIT.isna()])"
      ],
      "execution_count": null,
      "outputs": [
        {
          "output_type": "execute_result",
          "data": {
            "text/plain": [
              "0"
            ]
          },
          "metadata": {},
          "execution_count": 286
        }
      ]
    },
    {
      "cell_type": "markdown",
      "metadata": {
        "id": "JvNGm38fW7K1"
      },
      "source": [
        "S3_LARGE is missing only if CROSSING_FINISH_LINE_IN_PIT is not!"
      ]
    },
    {
      "cell_type": "code",
      "metadata": {
        "colab": {
          "base_uri": "https://localhost:8080/"
        },
        "id": "zD1e085sXNKW",
        "outputId": "082afaa2-b4a2-4ae8-9bfa-5055dc84c644"
      },
      "source": [
        "train.loc[train.S3_LARGE.isna()]['CROSSING_FINISH_LINE_IN_PIT'].unique()"
      ],
      "execution_count": null,
      "outputs": [
        {
          "output_type": "execute_result",
          "data": {
            "text/plain": [
              "array(['B'], dtype=object)"
            ]
          },
          "metadata": {},
          "execution_count": 287
        }
      ]
    },
    {
      "cell_type": "markdown",
      "metadata": {
        "id": "lWWuBtRHXkPh"
      },
      "source": [
        "CROSSING_FINISH_LINE_IN_PIT == 'B' definitely signifies missing S3 values. Thus, we can extrapolate that the unrealistically large S3 values with CROSSING_FINISH_LINE_IN_PIT == 'B' are also equivalent to missing values which were erroneously recorded."
      ]
    },
    {
      "cell_type": "code",
      "metadata": {
        "colab": {
          "base_uri": "https://localhost:8080/"
        },
        "id": "o303gd_IYjke",
        "outputId": "9747b607-1c8e-4f6d-a7d4-f617e565fe63"
      },
      "source": [
        "train.loc[~train.CROSSING_FINISH_LINE_IN_PIT.isna()][time_columns].describe()"
      ],
      "execution_count": null,
      "outputs": [
        {
          "output_type": "execute_result",
          "data": {
            "text/html": [
              "<div>\n",
              "<style scoped>\n",
              "    .dataframe tbody tr th:only-of-type {\n",
              "        vertical-align: middle;\n",
              "    }\n",
              "\n",
              "    .dataframe tbody tr th {\n",
              "        vertical-align: top;\n",
              "    }\n",
              "\n",
              "    .dataframe thead th {\n",
              "        text-align: right;\n",
              "    }\n",
              "</style>\n",
              "<table border=\"1\" class=\"dataframe\">\n",
              "  <thead>\n",
              "    <tr style=\"text-align: right;\">\n",
              "      <th></th>\n",
              "      <th>S1_LARGE</th>\n",
              "      <th>S2_LARGE</th>\n",
              "      <th>S3_LARGE</th>\n",
              "      <th>PIT_TIME</th>\n",
              "      <th>LAP_TIME</th>\n",
              "    </tr>\n",
              "  </thead>\n",
              "  <tbody>\n",
              "    <tr>\n",
              "      <th>count</th>\n",
              "      <td>1196.000000</td>\n",
              "      <td>1196.000000</td>\n",
              "      <td>1168.000000</td>\n",
              "      <td>1196.000000</td>\n",
              "      <td>1196.000000</td>\n",
              "    </tr>\n",
              "    <tr>\n",
              "      <th>mean</th>\n",
              "      <td>31.501923</td>\n",
              "      <td>33.121739</td>\n",
              "      <td>150.398716</td>\n",
              "      <td>4.230769</td>\n",
              "      <td>93.237458</td>\n",
              "    </tr>\n",
              "    <tr>\n",
              "      <th>std</th>\n",
              "      <td>27.576431</td>\n",
              "      <td>12.462808</td>\n",
              "      <td>227.078760</td>\n",
              "      <td>34.370985</td>\n",
              "      <td>22.755689</td>\n",
              "    </tr>\n",
              "    <tr>\n",
              "      <th>min</th>\n",
              "      <td>22.100000</td>\n",
              "      <td>17.900000</td>\n",
              "      <td>27.300000</td>\n",
              "      <td>0.000000</td>\n",
              "      <td>63.000000</td>\n",
              "    </tr>\n",
              "    <tr>\n",
              "      <th>25%</th>\n",
              "      <td>24.900000</td>\n",
              "      <td>24.300000</td>\n",
              "      <td>35.400000</td>\n",
              "      <td>0.000000</td>\n",
              "      <td>74.000000</td>\n",
              "    </tr>\n",
              "    <tr>\n",
              "      <th>50%</th>\n",
              "      <td>27.200000</td>\n",
              "      <td>32.400000</td>\n",
              "      <td>51.250000</td>\n",
              "      <td>0.000000</td>\n",
              "      <td>89.000000</td>\n",
              "    </tr>\n",
              "    <tr>\n",
              "      <th>75%</th>\n",
              "      <td>30.700000</td>\n",
              "      <td>35.700000</td>\n",
              "      <td>200.575000</td>\n",
              "      <td>0.000000</td>\n",
              "      <td>102.000000</td>\n",
              "    </tr>\n",
              "    <tr>\n",
              "      <th>max</th>\n",
              "      <td>468.500000</td>\n",
              "      <td>128.800000</td>\n",
              "      <td>1741.100000</td>\n",
              "      <td>450.500000</td>\n",
              "      <td>199.000000</td>\n",
              "    </tr>\n",
              "  </tbody>\n",
              "</table>\n",
              "</div>"
            ],
            "text/plain": [
              "          S1_LARGE     S2_LARGE     S3_LARGE     PIT_TIME     LAP_TIME\n",
              "count  1196.000000  1196.000000  1168.000000  1196.000000  1196.000000\n",
              "mean     31.501923    33.121739   150.398716     4.230769    93.237458\n",
              "std      27.576431    12.462808   227.078760    34.370985    22.755689\n",
              "min      22.100000    17.900000    27.300000     0.000000    63.000000\n",
              "25%      24.900000    24.300000    35.400000     0.000000    74.000000\n",
              "50%      27.200000    32.400000    51.250000     0.000000    89.000000\n",
              "75%      30.700000    35.700000   200.575000     0.000000   102.000000\n",
              "max     468.500000   128.800000  1741.100000   450.500000   199.000000"
            ]
          },
          "metadata": {},
          "execution_count": 288
        }
      ]
    },
    {
      "cell_type": "markdown",
      "metadata": {
        "id": "Yifn_Jd_aB7x"
      },
      "source": [
        "Mean S3_LARGE is around 150 for the subset while it was around 44 for the whole dataset. The upper quartile is 200 instead of 35."
      ]
    },
    {
      "cell_type": "code",
      "metadata": {
        "colab": {
          "base_uri": "https://localhost:8080/"
        },
        "id": "RtVqoxW-ao6k",
        "outputId": "97f63e97-519a-4e64-cc63-09e028963be0"
      },
      "source": [
        "len(train.loc[~train.CROSSING_FINISH_LINE_IN_PIT.isna() & train.PITSTOP_TAKEN])"
      ],
      "execution_count": null,
      "outputs": [
        {
          "output_type": "execute_result",
          "data": {
            "text/plain": [
              "29"
            ]
          },
          "metadata": {},
          "execution_count": 289
        }
      ]
    },
    {
      "cell_type": "markdown",
      "metadata": {
        "id": "LORj0jOkbNeG"
      },
      "source": [
        "Legitimate PIT_TIME recorded only for 29/1196 times when CROSSING_FINISH_LINE_IN_PIT is not missing."
      ]
    },
    {
      "cell_type": "markdown",
      "metadata": {
        "id": "6DonnC4acitC"
      },
      "source": [
        "Setting all high value S3_LARGE to NaN wherever CROSSING_FINISH_LINE_IN_PIT is 'B' and pitstop was not recorded."
      ]
    },
    {
      "cell_type": "code",
      "metadata": {
        "id": "1ynR_79CaXke"
      },
      "source": [
        "train['S3_LARGE'] = train['S3_LARGE'].mask(~train.CROSSING_FINISH_LINE_IN_PIT.isna() &\n",
        "                                           ~train.PITSTOP_TAKEN &\n",
        "                                           (train.S3_LARGE > 50))"
      ],
      "execution_count": null,
      "outputs": []
    },
    {
      "cell_type": "markdown",
      "metadata": {
        "id": "jLUsJhVRhpU-"
      },
      "source": [
        "Dropping rows with sum of sector timings (with PIT_TIME removed) is more than maximum possible value of LAP_TIME"
      ]
    },
    {
      "cell_type": "code",
      "metadata": {
        "id": "dPKgEabfhLUe"
      },
      "source": [
        "train.drop(train[(train.S1_LARGE + train.S2_LARGE + train.S3_LARGE - train.PIT_TIME > 199)].index, inplace=True)"
      ],
      "execution_count": null,
      "outputs": []
    },
    {
      "cell_type": "code",
      "metadata": {
        "colab": {
          "base_uri": "https://localhost:8080/"
        },
        "id": "xFPTOZCshzyZ",
        "outputId": "79962670-2ac9-4f2a-a09c-4bd6f189bfa2"
      },
      "source": [
        "train.shape[0]"
      ],
      "execution_count": null,
      "outputs": [
        {
          "output_type": "execute_result",
          "data": {
            "text/plain": [
              "10054"
            ]
          },
          "metadata": {},
          "execution_count": 292
        }
      ]
    },
    {
      "cell_type": "code",
      "metadata": {
        "colab": {
          "base_uri": "https://localhost:8080/"
        },
        "id": "5IT-wI3Rh26c",
        "outputId": "2b936606-347c-4c3f-be44-00fe97642d4f"
      },
      "source": [
        "train[time_columns].describe()"
      ],
      "execution_count": null,
      "outputs": [
        {
          "output_type": "execute_result",
          "data": {
            "text/html": [
              "<div>\n",
              "<style scoped>\n",
              "    .dataframe tbody tr th:only-of-type {\n",
              "        vertical-align: middle;\n",
              "    }\n",
              "\n",
              "    .dataframe tbody tr th {\n",
              "        vertical-align: top;\n",
              "    }\n",
              "\n",
              "    .dataframe thead th {\n",
              "        text-align: right;\n",
              "    }\n",
              "</style>\n",
              "<table border=\"1\" class=\"dataframe\">\n",
              "  <thead>\n",
              "    <tr style=\"text-align: right;\">\n",
              "      <th></th>\n",
              "      <th>S1_LARGE</th>\n",
              "      <th>S2_LARGE</th>\n",
              "      <th>S3_LARGE</th>\n",
              "      <th>PIT_TIME</th>\n",
              "      <th>LAP_TIME</th>\n",
              "    </tr>\n",
              "  </thead>\n",
              "  <tbody>\n",
              "    <tr>\n",
              "      <th>count</th>\n",
              "      <td>10054.000000</td>\n",
              "      <td>10054.000000</td>\n",
              "      <td>9440.000000</td>\n",
              "      <td>10054.000000</td>\n",
              "      <td>10054.000000</td>\n",
              "    </tr>\n",
              "    <tr>\n",
              "      <th>mean</th>\n",
              "      <td>51.846210</td>\n",
              "      <td>31.427322</td>\n",
              "      <td>31.168326</td>\n",
              "      <td>37.226477</td>\n",
              "      <td>94.366919</td>\n",
              "    </tr>\n",
              "    <tr>\n",
              "      <th>std</th>\n",
              "      <td>93.996049</td>\n",
              "      <td>8.680918</td>\n",
              "      <td>8.105229</td>\n",
              "      <td>127.761336</td>\n",
              "      <td>23.513199</td>\n",
              "    </tr>\n",
              "    <tr>\n",
              "      <th>min</th>\n",
              "      <td>21.400000</td>\n",
              "      <td>17.500000</td>\n",
              "      <td>18.800000</td>\n",
              "      <td>0.000000</td>\n",
              "      <td>60.000000</td>\n",
              "    </tr>\n",
              "    <tr>\n",
              "      <th>25%</th>\n",
              "      <td>24.900000</td>\n",
              "      <td>24.300000</td>\n",
              "      <td>26.500000</td>\n",
              "      <td>0.000000</td>\n",
              "      <td>76.000000</td>\n",
              "    </tr>\n",
              "    <tr>\n",
              "      <th>50%</th>\n",
              "      <td>27.900000</td>\n",
              "      <td>31.800000</td>\n",
              "      <td>29.700000</td>\n",
              "      <td>0.000000</td>\n",
              "      <td>90.000000</td>\n",
              "    </tr>\n",
              "    <tr>\n",
              "      <th>75%</th>\n",
              "      <td>33.400000</td>\n",
              "      <td>36.000000</td>\n",
              "      <td>33.600000</td>\n",
              "      <td>0.000000</td>\n",
              "      <td>104.000000</td>\n",
              "    </tr>\n",
              "    <tr>\n",
              "      <th>max</th>\n",
              "      <td>2377.900000</td>\n",
              "      <td>128.800000</td>\n",
              "      <td>131.200000</td>\n",
              "      <td>2350.200000</td>\n",
              "      <td>199.000000</td>\n",
              "    </tr>\n",
              "  </tbody>\n",
              "</table>\n",
              "</div>"
            ],
            "text/plain": [
              "           S1_LARGE      S2_LARGE     S3_LARGE      PIT_TIME      LAP_TIME\n",
              "count  10054.000000  10054.000000  9440.000000  10054.000000  10054.000000\n",
              "mean      51.846210     31.427322    31.168326     37.226477     94.366919\n",
              "std       93.996049      8.680918     8.105229    127.761336     23.513199\n",
              "min       21.400000     17.500000    18.800000      0.000000     60.000000\n",
              "25%       24.900000     24.300000    26.500000      0.000000     76.000000\n",
              "50%       27.900000     31.800000    29.700000      0.000000     90.000000\n",
              "75%       33.400000     36.000000    33.600000      0.000000    104.000000\n",
              "max     2377.900000    128.800000   131.200000   2350.200000    199.000000"
            ]
          },
          "metadata": {},
          "execution_count": 293
        }
      ]
    },
    {
      "cell_type": "markdown",
      "metadata": {
        "id": "xQ_d0fdoiCxw"
      },
      "source": [
        "Now we have realistic sector timings if we consider the PIT_TIME included with them."
      ]
    },
    {
      "cell_type": "code",
      "metadata": {
        "id": "w6CFWVQangmS"
      },
      "source": [
        "#dropping the calculated columns we created since they do not seem to be useful\n",
        "train.drop(['IDEAL_LAP_TIME'], axis=1, inplace=True)"
      ],
      "execution_count": null,
      "outputs": []
    },
    {
      "cell_type": "markdown",
      "metadata": {
        "id": "KLfV_P_4Z7ZE"
      },
      "source": [
        "### Feature: DRIVER_NUMBER"
      ]
    },
    {
      "cell_type": "code",
      "metadata": {
        "colab": {
          "base_uri": "https://localhost:8080/"
        },
        "id": "iOktlllRvRyW",
        "outputId": "2f752db8-3cab-41db-ef09-bc281f5d21bb"
      },
      "source": [
        "train['DRIVER_NUMBER'].value_counts()"
      ],
      "execution_count": null,
      "outputs": [
        {
          "output_type": "execute_result",
          "data": {
            "text/plain": [
              "1    10054\n",
              "Name: DRIVER_NUMBER, dtype: int64"
            ]
          },
          "metadata": {},
          "execution_count": 295
        }
      ]
    },
    {
      "cell_type": "code",
      "metadata": {
        "colab": {
          "base_uri": "https://localhost:8080/"
        },
        "id": "bQmZ3P5dxSIH",
        "outputId": "0e71c8f9-030e-490b-9d1d-1fbd754b421b"
      },
      "source": [
        "test['DRIVER_NUMBER'].value_counts()"
      ],
      "execution_count": null,
      "outputs": [
        {
          "output_type": "execute_result",
          "data": {
            "text/plain": [
              "1    420\n",
              "Name: DRIVER_NUMBER, dtype: int64"
            ]
          },
          "metadata": {},
          "execution_count": 296
        }
      ]
    },
    {
      "cell_type": "markdown",
      "metadata": {
        "id": "fvLeYSTj07tv"
      },
      "source": [
        "DRIVER_NUMBER has only one unique value across training and test data. It can't give us any useful information. Dropping this column."
      ]
    },
    {
      "cell_type": "code",
      "metadata": {
        "id": "w77jP0l1DZmF"
      },
      "source": [
        "train.drop(['DRIVER_NUMBER'], axis=1, inplace=True)\n",
        "test.drop(['DRIVER_NUMBER'], axis=1, inplace=True)"
      ],
      "execution_count": null,
      "outputs": []
    },
    {
      "cell_type": "markdown",
      "metadata": {
        "id": "n7nPZaC5aYtK"
      },
      "source": [
        "### Feature: DRIVER_NAME"
      ]
    },
    {
      "cell_type": "code",
      "metadata": {
        "colab": {
          "base_uri": "https://localhost:8080/"
        },
        "id": "w8VZs0vjyBSE",
        "outputId": "c54d75f3-e91a-4b24-c3c3-0d16097fb2f7"
      },
      "source": [
        "train['DRIVER_NAME'].unique()"
      ],
      "execution_count": null,
      "outputs": [
        {
          "output_type": "execute_result",
          "data": {
            "text/plain": [
              "array(['SB', 'LGRA', 'ACO', 'NVR', 'MEV', 'OROWL', 'SBU', 'M¬úNT', 'AS',\n",
              "       'RR', 'ALOTTE', 'N', 'RFRI', 'EMORT', 'SVANDOO', 'N¬úL', 'S¬ÇM',\n",
              "       'NN', 'AL', 'PWEHRL', 'JVER', 'J', 'OTUR', 'TB'], dtype=object)"
            ]
          },
          "metadata": {},
          "execution_count": 298
        }
      ]
    },
    {
      "cell_type": "code",
      "metadata": {
        "colab": {
          "base_uri": "https://localhost:8080/"
        },
        "id": "cQJsPoZryMpG",
        "outputId": "2511ae3b-5032-481e-fac6-a59bfa8ebf39"
      },
      "source": [
        "set(train['DRIVER_NAME'].unique()) - set(test['DRIVER_NAME'].unique()) #extra drivers in train set -> 1 "
      ],
      "execution_count": null,
      "outputs": [
        {
          "output_type": "execute_result",
          "data": {
            "text/plain": [
              "{'N¬úL'}"
            ]
          },
          "metadata": {},
          "execution_count": 299
        }
      ]
    },
    {
      "cell_type": "code",
      "metadata": {
        "colab": {
          "base_uri": "https://localhost:8080/"
        },
        "id": "5eGh-CVVydg_",
        "outputId": "6cdea1e2-e8c1-4398-e728-8bee18046c0d"
      },
      "source": [
        "set(test['DRIVER_NAME'].unique()) - set(train['DRIVER_NAME'].unique()) #unseen drivers in test set -> 0"
      ],
      "execution_count": null,
      "outputs": [
        {
          "output_type": "execute_result",
          "data": {
            "text/plain": [
              "set()"
            ]
          },
          "metadata": {},
          "execution_count": 300
        }
      ]
    },
    {
      "cell_type": "markdown",
      "metadata": {
        "id": "R9ZkGG_Ia8K3"
      },
      "source": [
        "We will explore the relationship between DRIVER_NAME and other identifying features next."
      ]
    },
    {
      "cell_type": "markdown",
      "metadata": {
        "id": "4yALfVRcagI9"
      },
      "source": [
        "### Features: NUMBER and TEAM"
      ]
    },
    {
      "cell_type": "code",
      "metadata": {
        "colab": {
          "base_uri": "https://localhost:8080/"
        },
        "id": "EDPIiDaU1IGx",
        "outputId": "594d12d0-16b7-4bbf-b68d-82a6b052280c"
      },
      "source": [
        "train['NUMBER'].nunique()"
      ],
      "execution_count": null,
      "outputs": [
        {
          "output_type": "execute_result",
          "data": {
            "text/plain": [
              "24"
            ]
          },
          "metadata": {},
          "execution_count": 301
        }
      ]
    },
    {
      "cell_type": "code",
      "metadata": {
        "colab": {
          "base_uri": "https://localhost:8080/"
        },
        "id": "qsLIYWmz6JOh",
        "outputId": "5bbe0474-b130-4358-f5a8-5798f1e35f7b"
      },
      "source": [
        "train.groupby('TEAM')['NUMBER'].unique()"
      ],
      "execution_count": null,
      "outputs": [
        {
          "output_type": "execute_result",
          "data": {
            "text/plain": [
              "TEAM\n",
              "AD               [11]\n",
              "AR               [33]\n",
              "BMWE             [27]\n",
              "BMWl             [28]\n",
              "DRAGONR           [6]\n",
              "DRAGONo           [7]\n",
              "DRAGON√É          [6]\n",
              "DSo              [13]\n",
              "DS¬â             [25]\n",
              "EA               [37]\n",
              "EF                [4]\n",
              "JE               [20]\n",
              "JR               [10]\n",
              "MAHINDRAd    [29, 94]\n",
              "ME               [17]\n",
              "Ml                [5]\n",
              "N                [22]\n",
              "NIO               [8]\n",
              "NIOO             [88]\n",
              "Nt               [23]\n",
              "ROK              [71]\n",
              "ROKo             [48]\n",
              "TAG          [36, 99]\n",
              "Name: NUMBER, dtype: object"
            ]
          },
          "metadata": {},
          "execution_count": 302
        }
      ]
    },
    {
      "cell_type": "markdown",
      "metadata": {
        "id": "kgJwsOfUNJJH"
      },
      "source": [
        "* It clearly looks like some of the team names are erroneous (e.g. DRAGONR, DRAGONo and DRAGON√É look like the same team. So do ROK and ROKo). \n",
        "* From a web search on Formula-E rules, we can see that **every season we have a fixed number of teams with two cars each**. We can see from MAHINDRAd and TAG, teams have two associated numbers.\n",
        "* If we fix team names we can see team ROK will have two cars: 48 and 71, team Dragon will have two cars: 6 and 7, and so on. **The associated numbers must be car numbers.**\n",
        "* 24 unique car numbers means we have 12 teams. Looking through Formula-E season history on Wikipedia, only two seasons had 12 teams competing: 2019-20 and 2020-21. We will look through the teams to fix our team names.\n",
        " "
      ]
    },
    {
      "cell_type": "code",
      "metadata": {
        "colab": {
          "base_uri": "https://localhost:8080/"
        },
        "id": "iCCShfMNQANH",
        "outputId": "3542c413-b30a-4345-9a0d-58d46d8355a7"
      },
      "source": [
        "train.groupby('NUMBER')['DRIVER_NAME'].unique()"
      ],
      "execution_count": null,
      "outputs": [
        {
          "output_type": "execute_result",
          "data": {
            "text/plain": [
              "NUMBER\n",
              "4        [RFRI]\n",
              "5     [SVANDOO]\n",
              "6     [N¬úL, J]\n",
              "7        [S¬ÇM]\n",
              "8        [OTUR]\n",
              "10         [SB]\n",
              "11       [LGRA]\n",
              "13        [ACO]\n",
              "17        [NVR]\n",
              "20        [MEV]\n",
              "22      [OROWL]\n",
              "23        [SBU]\n",
              "25       [JVER]\n",
              "27          [J]\n",
              "28      [M¬úNT]\n",
              "29         [AS]\n",
              "33         [RR]\n",
              "36     [ALOTTE]\n",
              "37          [N]\n",
              "48      [EMORT]\n",
              "71         [NN]\n",
              "88         [TB]\n",
              "94         [AL]\n",
              "99     [PWEHRL]\n",
              "Name: DRIVER_NAME, dtype: object"
            ]
          },
          "metadata": {},
          "execution_count": 303
        }
      ]
    },
    {
      "cell_type": "markdown",
      "metadata": {
        "id": "2Nm7rDOsXJBM"
      },
      "source": [
        "From Formula-E history, we can see that driver-switching is common, but the car numbers remain the same throughout the season. In our dataset, we see only one car has multiple drivers associated with it. Comparing the 2019-2020 and the 2020-2021 seasons, it looks like we have the data from 2020-2021 season where the only car with multiple drivers was: Car number 6, Team Dragon/Penske Autosport (DRAGONR, DRAGONo, DRAGON√É), with drivers Nico Muller (N¬úL) and Joel Eriksson (J)."
      ]
    },
    {
      "cell_type": "markdown",
      "metadata": {
        "id": "iTtK6Gm-Yj-s"
      },
      "source": [
        "**All this background information will not leak data to help with our data modeling, but it will help us clean the data and explore it better. Additionally, it is good to know we are probably using actual data from the latest completed season!**"
      ]
    },
    {
      "cell_type": "code",
      "metadata": {
        "colab": {
          "base_uri": "https://localhost:8080/"
        },
        "id": "BBv4251RwZZK",
        "outputId": "a6577b38-ad08-4869-9db8-af44652183bb"
      },
      "source": [
        "train.TEAM.unique() #looks like there are spaces in some of the correct-looking names too"
      ],
      "execution_count": null,
      "outputs": [
        {
          "output_type": "execute_result",
          "data": {
            "text/plain": [
              "array(['JR', 'AD', 'DSo', 'ME', 'JE', 'N ', 'Nt', 'BMWl', 'MAHINDRAd',\n",
              "       'AR', 'TAG ', 'EA', 'EF', 'ROKo', 'Ml', 'DRAGON√É', 'DRAGONo',\n",
              "       'ROK ', 'DS¬â', 'BMWE', 'NIO ', 'NIOO', 'DRAGONR'], dtype=object)"
            ]
          },
          "metadata": {},
          "execution_count": 304
        }
      ]
    },
    {
      "cell_type": "code",
      "metadata": {
        "id": "ZHj4qP8uhaIC"
      },
      "source": [
        "#mapping for team names: 'TEAM'\n",
        "team_mapping = {\n",
        "    'AD': 'AUDI', 'AR': 'AUDI',  #Audi Sport ABT Schaeffler Formula E Team\n",
        "    'BMWE': 'BMW', 'BMWl': 'BMW',  #BMW i Andretti Motorsport\n",
        "    'DRAGONR': 'DRAGON', 'DRAGONo': 'DRAGON', 'DRAGON√É': 'DRAGON',  #Dragon/Penske Autosport\n",
        "    'DSo': 'DS', 'DS¬â': 'DS',  #DS Techeetah\n",
        "    'EA': 'ENVISION', 'EF': 'ENVISION',  #Envision Virgin Racing\n",
        "    'JE': 'JAGUAR', 'JR': 'JAGUAR',  #Jaguar Racing\n",
        "    'MAHINDRAd': 'MAHINDRA',  #Mahindra Racing\n",
        "    'ME': 'MERCEDES', 'Ml': 'MERCEDES',  #Mercedes-EQ Formula E Team\n",
        "    'NIO ': 'NIO', 'NIOO': 'NIO',  #NIO 333 FE Team\n",
        "    'N ': 'NISSAN', 'Nt': 'NISSAN',  #Nissan e.dams\n",
        "    'ROK ': 'ROKIT', 'ROKo': 'ROKIT',  #ROKiT Venturi Racing\n",
        "    'TAG ': 'TAG'  #TAG Heuer Porsche Formula E Team\n",
        "}"
      ],
      "execution_count": null,
      "outputs": []
    },
    {
      "cell_type": "code",
      "metadata": {
        "colab": {
          "base_uri": "https://localhost:8080/"
        },
        "id": "BXgCcskRxEbj",
        "outputId": "1da773cb-309d-49cb-e2c3-7b3ad3198925"
      },
      "source": [
        "train.DRIVER_NAME.unique()"
      ],
      "execution_count": null,
      "outputs": [
        {
          "output_type": "execute_result",
          "data": {
            "text/plain": [
              "array(['SB', 'LGRA', 'ACO', 'NVR', 'MEV', 'OROWL', 'SBU', 'M¬úNT', 'AS',\n",
              "       'RR', 'ALOTTE', 'N', 'RFRI', 'EMORT', 'SVANDOO', 'N¬úL', 'S¬ÇM',\n",
              "       'NN', 'AL', 'PWEHRL', 'JVER', 'J', 'OTUR', 'TB'], dtype=object)"
            ]
          },
          "metadata": {},
          "execution_count": 306
        }
      ]
    },
    {
      "cell_type": "code",
      "metadata": {
        "id": "9lhOu-zcRJJW"
      },
      "source": [
        "#mapping for DRIVER_NAME - not required for modeling, but applying it\n",
        "#to remove problematic characters in names, and better understanding.\n",
        "driver_mapping = {\n",
        "    'RFRI': 'FRIJNS', 'SVANDOO': 'VANDOORNE', 'N¬úL': 'MULLER', 'J': 'ERIKSSON',\n",
        "    'S¬ÇM': 'CAMARA', 'OTUR': 'TURVEY', 'SB': 'BIRD', 'LGRA': 'GRASSI', \n",
        "    'ACO': 'COSTA', 'NVR': 'VRIES', 'MEV': 'EVANS', 'OROWL': 'ROWLAND', \n",
        "    'SBU': 'BUEMI', 'JVER': 'VERGNE', 'M¬úNT': 'GUNTHER', 'AS': 'SIMS', \n",
        "    'RR': 'RAST', 'ALOTTE': 'LOTTERER', 'N': 'CASSIDY', 'EMORT': 'MORTARA', \n",
        "    'NN': 'NATO', 'TB': 'BLOMQVIST', 'AL': 'LYNN', 'PWEHRL': 'WEHRLEIN'\n",
        "}"
      ],
      "execution_count": null,
      "outputs": []
    },
    {
      "cell_type": "markdown",
      "metadata": {
        "id": "fDRD4mE9tGQ3"
      },
      "source": [
        "We will apply these mappings and have another look at the dataset before moving on to other features."
      ]
    },
    {
      "cell_type": "code",
      "metadata": {
        "id": "ZIm62a6opkly"
      },
      "source": [
        "train['DRIVER_NAME'] = train['DRIVER_NAME'].map(driver_mapping).fillna(train['DRIVER_NAME'])\n",
        "test['DRIVER_NAME'] = test['DRIVER_NAME'].map(driver_mapping).fillna(test['DRIVER_NAME'])\n",
        "\n",
        "train['TEAM'] = train['TEAM'].map(team_mapping).fillna(train['TEAM'])\n",
        "test['TEAM'] = test['TEAM'].map(team_mapping).fillna(test['TEAM'])\n",
        "\n",
        "train = train.rename(columns={'NUMBER': 'CAR_NUMBER'})\n",
        "test = test.rename(columns={'NUMBER': 'CAR_NUMBER'})"
      ],
      "execution_count": null,
      "outputs": []
    },
    {
      "cell_type": "code",
      "metadata": {
        "id": "Uoh8aHhExJp3"
      },
      "source": [
        "train[['CAR_NUMBER', 'DRIVER_NAME', 'TEAM']] = train[['CAR_NUMBER', 'DRIVER_NAME', 'TEAM']].apply(lambda x: x.astype('category').cat.codes)\n",
        "test[['CAR_NUMBER', 'DRIVER_NAME', 'TEAM']] = test[['CAR_NUMBER', 'DRIVER_NAME', 'TEAM']].apply(lambda x: x.astype('category').cat.codes)"
      ],
      "execution_count": null,
      "outputs": []
    },
    {
      "cell_type": "code",
      "metadata": {
        "colab": {
          "base_uri": "https://localhost:8080/"
        },
        "id": "EwMUU1ZPuAaz",
        "outputId": "4bc1fa11-3901-4a4c-d568-a1af7812f802"
      },
      "source": [
        "train[['CAR_NUMBER', 'DRIVER_NAME', 'TEAM']].sample(10)"
      ],
      "execution_count": null,
      "outputs": [
        {
          "output_type": "execute_result",
          "data": {
            "text/html": [
              "<div>\n",
              "<style scoped>\n",
              "    .dataframe tbody tr th:only-of-type {\n",
              "        vertical-align: middle;\n",
              "    }\n",
              "\n",
              "    .dataframe tbody tr th {\n",
              "        vertical-align: top;\n",
              "    }\n",
              "\n",
              "    .dataframe thead th {\n",
              "        text-align: right;\n",
              "    }\n",
              "</style>\n",
              "<table border=\"1\" class=\"dataframe\">\n",
              "  <thead>\n",
              "    <tr style=\"text-align: right;\">\n",
              "      <th></th>\n",
              "      <th>CAR_NUMBER</th>\n",
              "      <th>DRIVER_NAME</th>\n",
              "      <th>TEAM</th>\n",
              "    </tr>\n",
              "  </thead>\n",
              "  <tbody>\n",
              "    <tr>\n",
              "      <th>7497</th>\n",
              "      <td>22</td>\n",
              "      <td>12</td>\n",
              "      <td>6</td>\n",
              "    </tr>\n",
              "    <tr>\n",
              "      <th>6867</th>\n",
              "      <td>4</td>\n",
              "      <td>19</td>\n",
              "      <td>8</td>\n",
              "    </tr>\n",
              "    <tr>\n",
              "      <th>3671</th>\n",
              "      <td>9</td>\n",
              "      <td>7</td>\n",
              "      <td>5</td>\n",
              "    </tr>\n",
              "    <tr>\n",
              "      <th>7836</th>\n",
              "      <td>19</td>\n",
              "      <td>13</td>\n",
              "      <td>10</td>\n",
              "    </tr>\n",
              "    <tr>\n",
              "      <th>1918</th>\n",
              "      <td>16</td>\n",
              "      <td>16</td>\n",
              "      <td>0</td>\n",
              "    </tr>\n",
              "    <tr>\n",
              "      <th>6617</th>\n",
              "      <td>6</td>\n",
              "      <td>9</td>\n",
              "      <td>0</td>\n",
              "    </tr>\n",
              "    <tr>\n",
              "      <th>5593</th>\n",
              "      <td>21</td>\n",
              "      <td>1</td>\n",
              "      <td>8</td>\n",
              "    </tr>\n",
              "    <tr>\n",
              "      <th>7454</th>\n",
              "      <td>4</td>\n",
              "      <td>19</td>\n",
              "      <td>8</td>\n",
              "    </tr>\n",
              "    <tr>\n",
              "      <th>8526</th>\n",
              "      <td>10</td>\n",
              "      <td>17</td>\n",
              "      <td>9</td>\n",
              "    </tr>\n",
              "    <tr>\n",
              "      <th>8069</th>\n",
              "      <td>8</td>\n",
              "      <td>22</td>\n",
              "      <td>7</td>\n",
              "    </tr>\n",
              "  </tbody>\n",
              "</table>\n",
              "</div>"
            ],
            "text/plain": [
              "      CAR_NUMBER  DRIVER_NAME  TEAM\n",
              "7497          22           12     6\n",
              "6867           4           19     8\n",
              "3671           9            7     5\n",
              "7836          19           13    10\n",
              "1918          16           16     0\n",
              "6617           6            9     0\n",
              "5593          21            1     8\n",
              "7454           4           19     8\n",
              "8526          10           17     9\n",
              "8069           8           22     7"
            ]
          },
          "metadata": {},
          "execution_count": 310
        }
      ]
    },
    {
      "cell_type": "code",
      "metadata": {
        "colab": {
          "base_uri": "https://localhost:8080/"
        },
        "id": "pdPvhees4ijp",
        "outputId": "c6c22174-a69d-42b3-c7bb-ce0def79d39c"
      },
      "source": [
        "train.duplicated().sum(), test.duplicated().sum() #checking if our mappings created any duplicates"
      ],
      "execution_count": null,
      "outputs": [
        {
          "output_type": "execute_result",
          "data": {
            "text/plain": [
              "(0, 0)"
            ]
          },
          "metadata": {},
          "execution_count": 311
        }
      ]
    },
    {
      "cell_type": "markdown",
      "metadata": {
        "id": "sBgjOptq5Hm3"
      },
      "source": [
        "All good!"
      ]
    },
    {
      "cell_type": "markdown",
      "metadata": {
        "id": "_BCPpu_4b6qU"
      },
      "source": [
        "### Features: EVENT, LOCATION"
      ]
    },
    {
      "cell_type": "code",
      "metadata": {
        "colab": {
          "base_uri": "https://localhost:8080/"
        },
        "id": "QkIDon1gcDv6",
        "outputId": "788c1602-f561-4a89-e62f-651afa001fac"
      },
      "source": [
        "train['EVENT'].value_counts()"
      ],
      "execution_count": null,
      "outputs": [
        {
          "output_type": "execute_result",
          "data": {
            "text/plain": [
              "Free Practice 1       4280\n",
              "Free Practice 2       2904\n",
              "Free Practice 3       2366\n",
              "Qualifying Group 4     134\n",
              "Qualifying Group 3     129\n",
              "Qualifying Group 2     121\n",
              "Qualifying Group 1     120\n",
              "Name: EVENT, dtype: int64"
            ]
          },
          "metadata": {},
          "execution_count": 312
        }
      ]
    },
    {
      "cell_type": "markdown",
      "metadata": {
        "id": "qeNFzTrwjEPc"
      },
      "source": [
        "3 practice sessions: 2 x 45 mins + 1 x 30 mins  \n",
        "4 qualifying groups: 24 drivers divided into 4 groups of 6 based on their championship standings. Top-6 move on to Super Pole shootout. However our dataset is limited up to the 4 Qualifying Groups."
      ]
    },
    {
      "cell_type": "code",
      "metadata": {
        "colab": {
          "base_uri": "https://localhost:8080/"
        },
        "id": "G3feebphcbOE",
        "outputId": "ba787a03-8691-461d-f9f4-aeab88efc1c7"
      },
      "source": [
        "test['EVENT'].value_counts()"
      ],
      "execution_count": null,
      "outputs": [
        {
          "output_type": "execute_result",
          "data": {
            "text/plain": [
              "Qualifying Group 2    113\n",
              "Qualifying Group 3    110\n",
              "Qualifying Group 4     99\n",
              "Qualifying Group 1     98\n",
              "Name: EVENT, dtype: int64"
            ]
          },
          "metadata": {},
          "execution_count": 313
        }
      ]
    },
    {
      "cell_type": "markdown",
      "metadata": {
        "id": "-Lmw0rALciuL"
      },
      "source": [
        "Training set has a large proportion of 'Free Practice' but test set is purely for 'Qualifying Groups'.  \n",
        "After a quick look through the results from random races across recent seasons, the best lap times in Free Practice and Qualifiying Groups tend to be the same. We can corroborate that using a few samples in our data."
      ]
    },
    {
      "cell_type": "code",
      "metadata": {
        "colab": {
          "base_uri": "https://localhost:8080/"
        },
        "id": "qT-ioCdkEXzH",
        "outputId": "0098f3cb-d904-47cb-8476-17ec35dc4fba"
      },
      "source": [
        "train.loc[(train.LOCATION == 'Location 1') & \n",
        "          (train.DRIVER_NAME == 'BIRD') & \n",
        "          (train.LAP_NUMBER == 1)][['EVENT', 'LAP_TIME']]"
      ],
      "execution_count": null,
      "outputs": [
        {
          "output_type": "execute_result",
          "data": {
            "text/html": [
              "<div>\n",
              "<style scoped>\n",
              "    .dataframe tbody tr th:only-of-type {\n",
              "        vertical-align: middle;\n",
              "    }\n",
              "\n",
              "    .dataframe tbody tr th {\n",
              "        vertical-align: top;\n",
              "    }\n",
              "\n",
              "    .dataframe thead th {\n",
              "        text-align: right;\n",
              "    }\n",
              "</style>\n",
              "<table border=\"1\" class=\"dataframe\">\n",
              "  <thead>\n",
              "    <tr style=\"text-align: right;\">\n",
              "      <th></th>\n",
              "      <th>EVENT</th>\n",
              "      <th>LAP_TIME</th>\n",
              "    </tr>\n",
              "  </thead>\n",
              "  <tbody>\n",
              "  </tbody>\n",
              "</table>\n",
              "</div>"
            ],
            "text/plain": [
              "Empty DataFrame\n",
              "Columns: [EVENT, LAP_TIME]\n",
              "Index: []"
            ]
          },
          "metadata": {},
          "execution_count": 314
        }
      ]
    },
    {
      "cell_type": "markdown",
      "metadata": {
        "id": "xyDugPYFLTiR"
      },
      "source": [
        "As we can see, either can be better depending on how the lap unfolded. We can check other samples by changing LOCATION, DRIVER_NAME and LAP_number."
      ]
    },
    {
      "cell_type": "code",
      "metadata": {
        "colab": {
          "base_uri": "https://localhost:8080/"
        },
        "id": "RriipFIDgOo3",
        "outputId": "2dbffd0d-0989-40c4-8c8a-151e876485c6"
      },
      "source": [
        "train['LOCATION'].value_counts()"
      ],
      "execution_count": null,
      "outputs": [
        {
          "output_type": "execute_result",
          "data": {
            "text/plain": [
              "Location 8    1709\n",
              "Location 1    1546\n",
              "Location 3    1421\n",
              "Location 6    1339\n",
              "Location 5    1306\n",
              "Location 2    1065\n",
              "Location 7     901\n",
              "Location 4     767\n",
              "Name: LOCATION, dtype: int64"
            ]
          },
          "metadata": {},
          "execution_count": 315
        }
      ]
    },
    {
      "cell_type": "code",
      "metadata": {
        "colab": {
          "base_uri": "https://localhost:8080/"
        },
        "id": "xCS6y5edghtb",
        "outputId": "75dc767f-dbd6-49f9-b13c-0ed19f7b0518"
      },
      "source": [
        "test['LOCATION'].value_counts()"
      ],
      "execution_count": null,
      "outputs": [
        {
          "output_type": "execute_result",
          "data": {
            "text/plain": [
              "Location 6    155\n",
              "Location 7    153\n",
              "Location 8    112\n",
              "Name: LOCATION, dtype: int64"
            ]
          },
          "metadata": {},
          "execution_count": 316
        }
      ]
    },
    {
      "cell_type": "markdown",
      "metadata": {
        "id": "1AAV8tkngsME"
      },
      "source": [
        "We are predicting only for Locations 6,7 and 8. We also have a significant amount of data for these locations in the training set."
      ]
    },
    {
      "cell_type": "code",
      "metadata": {
        "colab": {
          "base_uri": "https://localhost:8080/"
        },
        "id": "DBuJu9_6hAHv",
        "outputId": "54c773bf-050c-42b6-a8f8-931daa595690"
      },
      "source": [
        "train.groupby('LOCATION')['EVENT'].value_counts()"
      ],
      "execution_count": null,
      "outputs": [
        {
          "output_type": "execute_result",
          "data": {
            "text/plain": [
              "LOCATION    EVENT             \n",
              "Location 1  Free Practice 1       599\n",
              "            Free Practice 3       497\n",
              "            Free Practice 2       329\n",
              "            Qualifying Group 4     35\n",
              "            Qualifying Group 2     30\n",
              "            Qualifying Group 3     29\n",
              "            Qualifying Group 1     27\n",
              "Location 2  Free Practice 1       435\n",
              "            Free Practice 3       429\n",
              "            Free Practice 2       100\n",
              "            Qualifying Group 3     28\n",
              "            Qualifying Group 4     26\n",
              "            Qualifying Group 1     24\n",
              "            Qualifying Group 2     23\n",
              "Location 3  Free Practice 1       492\n",
              "            Free Practice 3       450\n",
              "            Free Practice 2       346\n",
              "            Qualifying Group 3     36\n",
              "            Qualifying Group 1     33\n",
              "            Qualifying Group 4     33\n",
              "            Qualifying Group 2     31\n",
              "Location 4  Free Practice 1       397\n",
              "            Free Practice 2       316\n",
              "            Qualifying Group 4     17\n",
              "            Qualifying Group 2     13\n",
              "            Qualifying Group 1     12\n",
              "            Qualifying Group 3     12\n",
              "Location 5  Free Practice 3       480\n",
              "            Free Practice 1       397\n",
              "            Free Practice 2       334\n",
              "            Qualifying Group 1     24\n",
              "            Qualifying Group 2     24\n",
              "            Qualifying Group 3     24\n",
              "            Qualifying Group 4     23\n",
              "Location 6  Free Practice 3       510\n",
              "            Free Practice 1       431\n",
              "            Free Practice 2       398\n",
              "Location 7  Free Practice 1       555\n",
              "            Free Practice 2       346\n",
              "Location 8  Free Practice 1       974\n",
              "            Free Practice 2       735\n",
              "Name: EVENT, dtype: int64"
            ]
          },
          "metadata": {},
          "execution_count": 317
        }
      ]
    },
    {
      "cell_type": "markdown",
      "metadata": {
        "id": "Xn74GT8HkLBj"
      },
      "source": [
        "* Some locations have 3 practice sessions: Out of 8 locations, 7 had double events, resulting in a total of 15 races. Some locations have only 1 practice (Practice 3) on day 2. Other locations have 2 practices on both days which are again named Practice 1 and 2 instead of Practice 3 and 4.\n",
        "* We have only free practice data for locations 6, 7 and 8 in the training set. As we saw earlier, we can expect free practice and qualifying groups lap times to be about the same depending on the LOCATION."
      ]
    },
    {
      "cell_type": "code",
      "metadata": {
        "colab": {
          "base_uri": "https://localhost:8080/"
        },
        "id": "X6VQ8qECj1bb",
        "outputId": "9f4f3fed-4dc0-4fe2-ab66-520f5488af5a"
      },
      "source": [
        "test.groupby('LOCATION')['EVENT'].value_counts()"
      ],
      "execution_count": null,
      "outputs": [
        {
          "output_type": "execute_result",
          "data": {
            "text/plain": [
              "LOCATION    EVENT             \n",
              "Location 6  Qualifying Group 2    47\n",
              "            Qualifying Group 3    37\n",
              "            Qualifying Group 4    36\n",
              "            Qualifying Group 1    35\n",
              "Location 7  Qualifying Group 3    45\n",
              "            Qualifying Group 1    36\n",
              "            Qualifying Group 2    36\n",
              "            Qualifying Group 4    36\n",
              "Location 8  Qualifying Group 2    30\n",
              "            Qualifying Group 3    28\n",
              "            Qualifying Group 1    27\n",
              "            Qualifying Group 4    27\n",
              "Name: EVENT, dtype: int64"
            ]
          },
          "metadata": {},
          "execution_count": 318
        }
      ]
    },
    {
      "cell_type": "markdown",
      "metadata": {
        "id": "xKZFxGF1kpu6"
      },
      "source": [
        "Modifications to be made:\n",
        "* Mapping the values to better names without spaces  \n",
        "* Adding a new categorical column to distinguish between practice and qualifying. Since every driver/team has similar goals for different parts of the race day, there should not be much difference among the practice sessions or among the qualifying groups."
      ]
    },
    {
      "cell_type": "code",
      "metadata": {
        "id": "IKicTz_Tl2-w"
      },
      "source": [
        "event_mapping = {\n",
        "    'Free Practice 1': 'P1', 'Free Practice 2': 'P2', 'Free Practice 3': 'P3',\n",
        "    'Qualifying Group 1': 'Q1', 'Qualifying Group 2': 'Q2',\n",
        "    'Qualifying Group 3': 'Q3', 'Qualifying Group 4': 'Q4'\n",
        "}\n",
        "#modifying EVENT\n",
        "train['EVENT'] = train['EVENT'].map(event_mapping).fillna(train['EVENT'])\n",
        "test['EVENT'] = test['EVENT'].map(event_mapping).fillna(test['EVENT'])"
      ],
      "execution_count": null,
      "outputs": []
    },
    {
      "cell_type": "code",
      "metadata": {
        "id": "a6qncemynWeD"
      },
      "source": [
        "#adding EVENT_TYPE: P->Free Practice 1/2/3, Q->Qualifying Group 1/2/3/4\n",
        "train['EVENT_TYPE'] = train['EVENT'].apply(lambda row: 'P' if row in ('P1', 'P2', 'P3') else 'Q')\n",
        "test['EVENT_TYPE'] = test['EVENT'].apply(lambda row: 'P' if row in ('P1', 'P2', 'P3') else 'Q')"
      ],
      "execution_count": null,
      "outputs": []
    },
    {
      "cell_type": "code",
      "metadata": {
        "id": "LMAyJ-KXtRt6"
      },
      "source": [
        "location_mapping = dict(zip(['Location ' + str(i) for i in range(1, 9)], #'Location 1'\n",
        "                            ['L' + str(i) for i in range(1, 9)]))        #'L1'\n",
        "\n",
        "#modifying LOCATION\n",
        "train['LOCATION'] = train['LOCATION'].map(location_mapping).fillna(train['LOCATION'])\n",
        "test['LOCATION'] = test['LOCATION'].map(location_mapping).fillna(test['LOCATION'])"
      ],
      "execution_count": null,
      "outputs": []
    },
    {
      "cell_type": "code",
      "metadata": {
        "id": "PInXOowOw57v"
      },
      "source": [
        "train[['LOCATION', 'EVENT', 'EVENT_TYPE']] = train[['LOCATION', 'EVENT', 'EVENT_TYPE']].apply(lambda x: x.astype('category').cat.codes)\n",
        "test[['LOCATION', 'EVENT', 'EVENT_TYPE']] = test[['LOCATION', 'EVENT', 'EVENT_TYPE']].apply(lambda x: x.astype('category').cat.codes)"
      ],
      "execution_count": null,
      "outputs": []
    },
    {
      "cell_type": "code",
      "metadata": {
        "colab": {
          "base_uri": "https://localhost:8080/"
        },
        "id": "Y7ZbwmqctHYR",
        "outputId": "7595f8c9-0a07-4ce0-c02d-02cc5de41a36"
      },
      "source": [
        "train[['LOCATION', 'EVENT', 'EVENT_TYPE']].head()"
      ],
      "execution_count": null,
      "outputs": [
        {
          "output_type": "execute_result",
          "data": {
            "text/html": [
              "<div>\n",
              "<style scoped>\n",
              "    .dataframe tbody tr th:only-of-type {\n",
              "        vertical-align: middle;\n",
              "    }\n",
              "\n",
              "    .dataframe tbody tr th {\n",
              "        vertical-align: top;\n",
              "    }\n",
              "\n",
              "    .dataframe thead th {\n",
              "        text-align: right;\n",
              "    }\n",
              "</style>\n",
              "<table border=\"1\" class=\"dataframe\">\n",
              "  <thead>\n",
              "    <tr style=\"text-align: right;\">\n",
              "      <th></th>\n",
              "      <th>LOCATION</th>\n",
              "      <th>EVENT</th>\n",
              "      <th>EVENT_TYPE</th>\n",
              "    </tr>\n",
              "  </thead>\n",
              "  <tbody>\n",
              "    <tr>\n",
              "      <th>0</th>\n",
              "      <td>1</td>\n",
              "      <td>1</td>\n",
              "      <td>0</td>\n",
              "    </tr>\n",
              "    <tr>\n",
              "      <th>1</th>\n",
              "      <td>1</td>\n",
              "      <td>1</td>\n",
              "      <td>0</td>\n",
              "    </tr>\n",
              "    <tr>\n",
              "      <th>2</th>\n",
              "      <td>1</td>\n",
              "      <td>1</td>\n",
              "      <td>0</td>\n",
              "    </tr>\n",
              "    <tr>\n",
              "      <th>3</th>\n",
              "      <td>1</td>\n",
              "      <td>1</td>\n",
              "      <td>0</td>\n",
              "    </tr>\n",
              "    <tr>\n",
              "      <th>4</th>\n",
              "      <td>1</td>\n",
              "      <td>1</td>\n",
              "      <td>0</td>\n",
              "    </tr>\n",
              "  </tbody>\n",
              "</table>\n",
              "</div>"
            ],
            "text/plain": [
              "   LOCATION  EVENT  EVENT_TYPE\n",
              "0         1      1           0\n",
              "1         1      1           0\n",
              "2         1      1           0\n",
              "3         1      1           0\n",
              "4         1      1           0"
            ]
          },
          "metadata": {},
          "execution_count": 323
        }
      ]
    },
    {
      "cell_type": "markdown",
      "metadata": {
        "id": "tNPa79_hyCRd"
      },
      "source": [
        "### Features: LAP_IMPROVEMENT, S*_IMPROVEMENT, LAP_NUMBER"
      ]
    },
    {
      "cell_type": "markdown",
      "metadata": {
        "id": "GqT_UTf8YnaU"
      },
      "source": [
        "The data description has no proper explanation for the *_IMPROVEMENT features. So we will analyze their values and try to understand their meaning."
      ]
    },
    {
      "cell_type": "code",
      "metadata": {
        "colab": {
          "base_uri": "https://localhost:8080/"
        },
        "id": "2STnSZROVLQ4",
        "outputId": "d38c76f0-b1cf-4e5c-f834-9293f49c6ac3"
      },
      "source": [
        "train[['LAP_IMPROVEMENT', 'S1_IMPROVEMENT', 'S2_IMPROVEMENT', 'S3_IMPROVEMENT']].describe()"
      ],
      "execution_count": null,
      "outputs": [
        {
          "output_type": "execute_result",
          "data": {
            "text/html": [
              "<div>\n",
              "<style scoped>\n",
              "    .dataframe tbody tr th:only-of-type {\n",
              "        vertical-align: middle;\n",
              "    }\n",
              "\n",
              "    .dataframe tbody tr th {\n",
              "        vertical-align: top;\n",
              "    }\n",
              "\n",
              "    .dataframe thead th {\n",
              "        text-align: right;\n",
              "    }\n",
              "</style>\n",
              "<table border=\"1\" class=\"dataframe\">\n",
              "  <thead>\n",
              "    <tr style=\"text-align: right;\">\n",
              "      <th></th>\n",
              "      <th>LAP_IMPROVEMENT</th>\n",
              "      <th>S1_IMPROVEMENT</th>\n",
              "      <th>S2_IMPROVEMENT</th>\n",
              "      <th>S3_IMPROVEMENT</th>\n",
              "    </tr>\n",
              "  </thead>\n",
              "  <tbody>\n",
              "    <tr>\n",
              "      <th>count</th>\n",
              "      <td>10054.000000</td>\n",
              "      <td>10054.000000</td>\n",
              "      <td>10054.000000</td>\n",
              "      <td>10054.000000</td>\n",
              "    </tr>\n",
              "    <tr>\n",
              "      <th>mean</th>\n",
              "      <td>0.153471</td>\n",
              "      <td>0.152775</td>\n",
              "      <td>0.154466</td>\n",
              "      <td>0.155162</td>\n",
              "    </tr>\n",
              "    <tr>\n",
              "      <th>std</th>\n",
              "      <td>0.556577</td>\n",
              "      <td>0.555785</td>\n",
              "      <td>0.558799</td>\n",
              "      <td>0.561005</td>\n",
              "    </tr>\n",
              "    <tr>\n",
              "      <th>min</th>\n",
              "      <td>0.000000</td>\n",
              "      <td>0.000000</td>\n",
              "      <td>0.000000</td>\n",
              "      <td>0.000000</td>\n",
              "    </tr>\n",
              "    <tr>\n",
              "      <th>25%</th>\n",
              "      <td>0.000000</td>\n",
              "      <td>0.000000</td>\n",
              "      <td>0.000000</td>\n",
              "      <td>0.000000</td>\n",
              "    </tr>\n",
              "    <tr>\n",
              "      <th>50%</th>\n",
              "      <td>0.000000</td>\n",
              "      <td>0.000000</td>\n",
              "      <td>0.000000</td>\n",
              "      <td>0.000000</td>\n",
              "    </tr>\n",
              "    <tr>\n",
              "      <th>75%</th>\n",
              "      <td>0.000000</td>\n",
              "      <td>0.000000</td>\n",
              "      <td>0.000000</td>\n",
              "      <td>0.000000</td>\n",
              "    </tr>\n",
              "    <tr>\n",
              "      <th>max</th>\n",
              "      <td>4.000000</td>\n",
              "      <td>4.000000</td>\n",
              "      <td>4.000000</td>\n",
              "      <td>4.000000</td>\n",
              "    </tr>\n",
              "  </tbody>\n",
              "</table>\n",
              "</div>"
            ],
            "text/plain": [
              "       LAP_IMPROVEMENT  S1_IMPROVEMENT  S2_IMPROVEMENT  S3_IMPROVEMENT\n",
              "count     10054.000000    10054.000000    10054.000000    10054.000000\n",
              "mean          0.153471        0.152775        0.154466        0.155162\n",
              "std           0.556577        0.555785        0.558799        0.561005\n",
              "min           0.000000        0.000000        0.000000        0.000000\n",
              "25%           0.000000        0.000000        0.000000        0.000000\n",
              "50%           0.000000        0.000000        0.000000        0.000000\n",
              "75%           0.000000        0.000000        0.000000        0.000000\n",
              "max           4.000000        4.000000        4.000000        4.000000"
            ]
          },
          "metadata": {},
          "execution_count": 324
        }
      ]
    },
    {
      "cell_type": "markdown",
      "metadata": {
        "id": "1AJEiwvrQk0d"
      },
      "source": [
        "More than 75% of the values are 0 for all four columns."
      ]
    },
    {
      "cell_type": "code",
      "metadata": {
        "colab": {
          "base_uri": "https://localhost:8080/"
        },
        "id": "exGgF8v-d6Gz",
        "outputId": "60d1b280-a49b-48bc-929c-a50117cd8750"
      },
      "source": [
        "train['LAP_IMPROVEMENT'].unique(), train['S1_IMPROVEMENT'].unique(), train['S2_IMPROVEMENT'].unique(), train['S3_IMPROVEMENT'].unique()"
      ],
      "execution_count": null,
      "outputs": [
        {
          "output_type": "execute_result",
          "data": {
            "text/plain": [
              "(array([0, 2, 3, 4]),\n",
              " array([0, 2, 3, 4]),\n",
              " array([0, 2, 3, 4]),\n",
              " array([0, 2, 3, 4]))"
            ]
          },
          "metadata": {},
          "execution_count": 325
        }
      ]
    },
    {
      "cell_type": "code",
      "metadata": {
        "colab": {
          "base_uri": "https://localhost:8080/"
        },
        "id": "Y67Ms5NOXyrA",
        "outputId": "7cf9944f-f154-47a3-8062-0d03af21a0e4"
      },
      "source": [
        "test['LAP_IMPROVEMENT'].unique(), test['S1_IMPROVEMENT'].unique(), test['S2_IMPROVEMENT'].unique(), test['S3_IMPROVEMENT'].unique()"
      ],
      "execution_count": null,
      "outputs": [
        {
          "output_type": "execute_result",
          "data": {
            "text/plain": [
              "(array([0, 2, 4, 3]),\n",
              " array([0, 2, 4, 3]),\n",
              " array([0, 2, 4, 3]),\n",
              " array([0, 2, 4, 3]))"
            ]
          },
          "metadata": {},
          "execution_count": 326
        }
      ]
    },
    {
      "cell_type": "markdown",
      "metadata": {
        "id": "A6pKrrk8xduP"
      },
      "source": [
        "We have the four same values for each feature in both datasets. We can assume these must be categorical values.  \n",
        "A web search about motorsport race analysis shows that lap/sector timings are color-coded for special meanings. Some of the possible situations are:  \n",
        "1. Best lap/sector of that session\n",
        "2. A driver's personal best lap/sector for that session\n",
        "3. Most recent timing of the driver (not satisfying 1 and 2 -> slower than their own best)\n",
        "4. First timing after exiting pitstop (not satisfying 1 and 2)  \n",
        "5. Driver entering pitstop in that lap/sector\n",
        "(Pitstops are not allowed in Formula-E races but it is possible in Free Practice and Qualifiying)  \n",
        "6. Driver crashed out and could not move on to next round.\n",
        "\n",
        "Our four categories might be based on some of these special situations."
      ]
    },
    {
      "cell_type": "code",
      "metadata": {
        "colab": {
          "base_uri": "https://localhost:8080/"
        },
        "id": "bYC9302AD-xq",
        "outputId": "1d4a52f8-ae25-44fe-e44d-86cb84910dc1"
      },
      "source": [
        "#checking the pitstop situation\n",
        "train.loc[train.PITSTOP_TAKEN][['LAP_NUMBER', 'LAP_TIME', 'LAP_IMPROVEMENT', \n",
        "                                'S1_LARGE', 'S1_IMPROVEMENT', \n",
        "                                'S2_LARGE', 'S2_IMPROVEMENT', \n",
        "                                'S3_LARGE', 'S3_IMPROVEMENT', 'PIT_TIME',\n",
        "                                'CROSSING_FINISH_LINE_IN_PIT']].sample(n=5)"
      ],
      "execution_count": null,
      "outputs": [
        {
          "output_type": "execute_result",
          "data": {
            "text/html": [
              "<div>\n",
              "<style scoped>\n",
              "    .dataframe tbody tr th:only-of-type {\n",
              "        vertical-align: middle;\n",
              "    }\n",
              "\n",
              "    .dataframe tbody tr th {\n",
              "        vertical-align: top;\n",
              "    }\n",
              "\n",
              "    .dataframe thead th {\n",
              "        text-align: right;\n",
              "    }\n",
              "</style>\n",
              "<table border=\"1\" class=\"dataframe\">\n",
              "  <thead>\n",
              "    <tr style=\"text-align: right;\">\n",
              "      <th></th>\n",
              "      <th>LAP_NUMBER</th>\n",
              "      <th>LAP_TIME</th>\n",
              "      <th>LAP_IMPROVEMENT</th>\n",
              "      <th>S1_LARGE</th>\n",
              "      <th>S1_IMPROVEMENT</th>\n",
              "      <th>S2_LARGE</th>\n",
              "      <th>S2_IMPROVEMENT</th>\n",
              "      <th>S3_LARGE</th>\n",
              "      <th>S3_IMPROVEMENT</th>\n",
              "      <th>PIT_TIME</th>\n",
              "      <th>CROSSING_FINISH_LINE_IN_PIT</th>\n",
              "    </tr>\n",
              "  </thead>\n",
              "  <tbody>\n",
              "    <tr>\n",
              "      <th>6171</th>\n",
              "      <td>1</td>\n",
              "      <td>74</td>\n",
              "      <td>0</td>\n",
              "      <td>60.3</td>\n",
              "      <td>0</td>\n",
              "      <td>37.4</td>\n",
              "      <td>0</td>\n",
              "      <td>29.3</td>\n",
              "      <td>0</td>\n",
              "      <td>25.1</td>\n",
              "      <td>NaN</td>\n",
              "    </tr>\n",
              "    <tr>\n",
              "      <th>8776</th>\n",
              "      <td>1</td>\n",
              "      <td>75</td>\n",
              "      <td>0</td>\n",
              "      <td>98.0</td>\n",
              "      <td>0</td>\n",
              "      <td>25.2</td>\n",
              "      <td>0</td>\n",
              "      <td>26.9</td>\n",
              "      <td>0</td>\n",
              "      <td>62.1</td>\n",
              "      <td>NaN</td>\n",
              "    </tr>\n",
              "    <tr>\n",
              "      <th>4532</th>\n",
              "      <td>1</td>\n",
              "      <td>104</td>\n",
              "      <td>0</td>\n",
              "      <td>62.0</td>\n",
              "      <td>0</td>\n",
              "      <td>47.3</td>\n",
              "      <td>0</td>\n",
              "      <td>30.0</td>\n",
              "      <td>0</td>\n",
              "      <td>16.6</td>\n",
              "      <td>NaN</td>\n",
              "    </tr>\n",
              "    <tr>\n",
              "      <th>1522</th>\n",
              "      <td>11</td>\n",
              "      <td>88</td>\n",
              "      <td>0</td>\n",
              "      <td>435.3</td>\n",
              "      <td>0</td>\n",
              "      <td>36.8</td>\n",
              "      <td>0</td>\n",
              "      <td>31.4</td>\n",
              "      <td>0</td>\n",
              "      <td>402.9</td>\n",
              "      <td>NaN</td>\n",
              "    </tr>\n",
              "    <tr>\n",
              "      <th>9833</th>\n",
              "      <td>16</td>\n",
              "      <td>69</td>\n",
              "      <td>0</td>\n",
              "      <td>133.4</td>\n",
              "      <td>0</td>\n",
              "      <td>24.3</td>\n",
              "      <td>0</td>\n",
              "      <td>25.1</td>\n",
              "      <td>0</td>\n",
              "      <td>114.3</td>\n",
              "      <td>NaN</td>\n",
              "    </tr>\n",
              "  </tbody>\n",
              "</table>\n",
              "</div>"
            ],
            "text/plain": [
              "      LAP_NUMBER  LAP_TIME  ...  PIT_TIME  CROSSING_FINISH_LINE_IN_PIT\n",
              "6171           1        74  ...      25.1                          NaN\n",
              "8776           1        75  ...      62.1                          NaN\n",
              "4532           1       104  ...      16.6                          NaN\n",
              "1522          11        88  ...     402.9                          NaN\n",
              "9833          16        69  ...     114.3                          NaN\n",
              "\n",
              "[5 rows x 11 columns]"
            ]
          },
          "metadata": {},
          "execution_count": 327
        }
      ]
    },
    {
      "cell_type": "code",
      "metadata": {
        "colab": {
          "base_uri": "https://localhost:8080/"
        },
        "id": "9MjvX3-jIGHy",
        "outputId": "8b1333e1-29fc-44c1-e0ed-bb32e19b46be"
      },
      "source": [
        "train.loc[~train.PITSTOP_TAKEN][['LAP_NUMBER', 'LAP_TIME', 'LAP_IMPROVEMENT', \n",
        "                                 'S1_LARGE', 'S1_IMPROVEMENT', \n",
        "                                 'S2_LARGE', 'S2_IMPROVEMENT', \n",
        "                                 'S3_LARGE', 'S3_IMPROVEMENT', 'PIT_TIME',\n",
        "                                 'CROSSING_FINISH_LINE_IN_PIT']].sample(n=5)"
      ],
      "execution_count": null,
      "outputs": [
        {
          "output_type": "execute_result",
          "data": {
            "text/html": [
              "<div>\n",
              "<style scoped>\n",
              "    .dataframe tbody tr th:only-of-type {\n",
              "        vertical-align: middle;\n",
              "    }\n",
              "\n",
              "    .dataframe tbody tr th {\n",
              "        vertical-align: top;\n",
              "    }\n",
              "\n",
              "    .dataframe thead th {\n",
              "        text-align: right;\n",
              "    }\n",
              "</style>\n",
              "<table border=\"1\" class=\"dataframe\">\n",
              "  <thead>\n",
              "    <tr style=\"text-align: right;\">\n",
              "      <th></th>\n",
              "      <th>LAP_NUMBER</th>\n",
              "      <th>LAP_TIME</th>\n",
              "      <th>LAP_IMPROVEMENT</th>\n",
              "      <th>S1_LARGE</th>\n",
              "      <th>S1_IMPROVEMENT</th>\n",
              "      <th>S2_LARGE</th>\n",
              "      <th>S2_IMPROVEMENT</th>\n",
              "      <th>S3_LARGE</th>\n",
              "      <th>S3_IMPROVEMENT</th>\n",
              "      <th>PIT_TIME</th>\n",
              "      <th>CROSSING_FINISH_LINE_IN_PIT</th>\n",
              "    </tr>\n",
              "  </thead>\n",
              "  <tbody>\n",
              "    <tr>\n",
              "      <th>1947</th>\n",
              "      <td>15</td>\n",
              "      <td>90</td>\n",
              "      <td>0</td>\n",
              "      <td>34.8</td>\n",
              "      <td>0</td>\n",
              "      <td>34.5</td>\n",
              "      <td>0</td>\n",
              "      <td>37.4</td>\n",
              "      <td>0</td>\n",
              "      <td>0.0</td>\n",
              "      <td>NaN</td>\n",
              "    </tr>\n",
              "    <tr>\n",
              "      <th>6158</th>\n",
              "      <td>11</td>\n",
              "      <td>88</td>\n",
              "      <td>0</td>\n",
              "      <td>30.6</td>\n",
              "      <td>0</td>\n",
              "      <td>32.1</td>\n",
              "      <td>0</td>\n",
              "      <td>28.2</td>\n",
              "      <td>0</td>\n",
              "      <td>0.0</td>\n",
              "      <td>NaN</td>\n",
              "    </tr>\n",
              "    <tr>\n",
              "      <th>7136</th>\n",
              "      <td>5</td>\n",
              "      <td>89</td>\n",
              "      <td>0</td>\n",
              "      <td>24.5</td>\n",
              "      <td>0</td>\n",
              "      <td>20.2</td>\n",
              "      <td>0</td>\n",
              "      <td>33.7</td>\n",
              "      <td>0</td>\n",
              "      <td>0.0</td>\n",
              "      <td>NaN</td>\n",
              "    </tr>\n",
              "    <tr>\n",
              "      <th>1419</th>\n",
              "      <td>17</td>\n",
              "      <td>101</td>\n",
              "      <td>0</td>\n",
              "      <td>33.9</td>\n",
              "      <td>0</td>\n",
              "      <td>35.9</td>\n",
              "      <td>0</td>\n",
              "      <td>34.0</td>\n",
              "      <td>0</td>\n",
              "      <td>0.0</td>\n",
              "      <td>B</td>\n",
              "    </tr>\n",
              "    <tr>\n",
              "      <th>1705</th>\n",
              "      <td>14</td>\n",
              "      <td>94</td>\n",
              "      <td>0</td>\n",
              "      <td>34.4</td>\n",
              "      <td>0</td>\n",
              "      <td>46.5</td>\n",
              "      <td>0</td>\n",
              "      <td>34.9</td>\n",
              "      <td>0</td>\n",
              "      <td>0.0</td>\n",
              "      <td>NaN</td>\n",
              "    </tr>\n",
              "  </tbody>\n",
              "</table>\n",
              "</div>"
            ],
            "text/plain": [
              "      LAP_NUMBER  LAP_TIME  ...  PIT_TIME  CROSSING_FINISH_LINE_IN_PIT\n",
              "1947          15        90  ...       0.0                          NaN\n",
              "6158          11        88  ...       0.0                          NaN\n",
              "7136           5        89  ...       0.0                          NaN\n",
              "1419          17       101  ...       0.0                            B\n",
              "1705          14        94  ...       0.0                          NaN\n",
              "\n",
              "[5 rows x 11 columns]"
            ]
          },
          "metadata": {},
          "execution_count": 328
        }
      ]
    },
    {
      "cell_type": "code",
      "metadata": {
        "colab": {
          "base_uri": "https://localhost:8080/"
        },
        "id": "lCp1PNWgJjHO",
        "outputId": "cc7b9453-8fe3-4258-9fd7-6d8d6e254f34"
      },
      "source": [
        "train.loc[train.PITSTOP_TAKEN &\n",
        "          train.LAP_IMPROVEMENT != 0][['LAP_NUMBER', 'LAP_TIME', 'LAP_IMPROVEMENT', \n",
        "                                       'S1_LARGE', 'S1_IMPROVEMENT', \n",
        "                                       'S2_LARGE', 'S2_IMPROVEMENT', \n",
        "                                       'S3_LARGE', 'S3_IMPROVEMENT', 'PIT_TIME',\n",
        "                                       'CROSSING_FINISH_LINE_IN_PIT']].head()"
      ],
      "execution_count": null,
      "outputs": [
        {
          "output_type": "execute_result",
          "data": {
            "text/html": [
              "<div>\n",
              "<style scoped>\n",
              "    .dataframe tbody tr th:only-of-type {\n",
              "        vertical-align: middle;\n",
              "    }\n",
              "\n",
              "    .dataframe tbody tr th {\n",
              "        vertical-align: top;\n",
              "    }\n",
              "\n",
              "    .dataframe thead th {\n",
              "        text-align: right;\n",
              "    }\n",
              "</style>\n",
              "<table border=\"1\" class=\"dataframe\">\n",
              "  <thead>\n",
              "    <tr style=\"text-align: right;\">\n",
              "      <th></th>\n",
              "      <th>LAP_NUMBER</th>\n",
              "      <th>LAP_TIME</th>\n",
              "      <th>LAP_IMPROVEMENT</th>\n",
              "      <th>S1_LARGE</th>\n",
              "      <th>S1_IMPROVEMENT</th>\n",
              "      <th>S2_LARGE</th>\n",
              "      <th>S2_IMPROVEMENT</th>\n",
              "      <th>S3_LARGE</th>\n",
              "      <th>S3_IMPROVEMENT</th>\n",
              "      <th>PIT_TIME</th>\n",
              "      <th>CROSSING_FINISH_LINE_IN_PIT</th>\n",
              "    </tr>\n",
              "  </thead>\n",
              "  <tbody>\n",
              "  </tbody>\n",
              "</table>\n",
              "</div>"
            ],
            "text/plain": [
              "Empty DataFrame\n",
              "Columns: [LAP_NUMBER, LAP_TIME, LAP_IMPROVEMENT, S1_LARGE, S1_IMPROVEMENT, S2_LARGE, S2_IMPROVEMENT, S3_LARGE, S3_IMPROVEMENT, PIT_TIME, CROSSING_FINISH_LINE_IN_PIT]\n",
              "Index: []"
            ]
          },
          "metadata": {},
          "execution_count": 329
        }
      ]
    },
    {
      "cell_type": "markdown",
      "metadata": {
        "id": "DqzBuIhIKL6X"
      },
      "source": [
        "LAP_IMPROVEMENT can be 0 irrespective of whether PIT_TIME was NaN or not. But LAP_IMPROVEMENT was never 2,3 or 4 when PIT_TIME was recorded!  \n",
        "Maybe because best timings will not occur in laps with pitstops."
      ]
    },
    {
      "cell_type": "code",
      "metadata": {
        "colab": {
          "base_uri": "https://localhost:8080/"
        },
        "id": "pZz1AiFUKLI5",
        "outputId": "0be4db17-ee12-46b2-d669-fe8848dda6df"
      },
      "source": [
        "train.loc[~train.CROSSING_FINISH_LINE_IN_PIT.isna() &\n",
        "          train.LAP_IMPROVEMENT != 0][['LAP_TIME', 'LAP_IMPROVEMENT', \n",
        "                                       'S1_LARGE', 'S1_IMPROVEMENT', \n",
        "                                       'S2_LARGE', 'S2_IMPROVEMENT', \n",
        "                                       'S3_LARGE', 'S3_IMPROVEMENT', 'PIT_TIME',\n",
        "                                       'CROSSING_FINISH_LINE_IN_PIT']].head()"
      ],
      "execution_count": null,
      "outputs": [
        {
          "output_type": "execute_result",
          "data": {
            "text/html": [
              "<div>\n",
              "<style scoped>\n",
              "    .dataframe tbody tr th:only-of-type {\n",
              "        vertical-align: middle;\n",
              "    }\n",
              "\n",
              "    .dataframe tbody tr th {\n",
              "        vertical-align: top;\n",
              "    }\n",
              "\n",
              "    .dataframe thead th {\n",
              "        text-align: right;\n",
              "    }\n",
              "</style>\n",
              "<table border=\"1\" class=\"dataframe\">\n",
              "  <thead>\n",
              "    <tr style=\"text-align: right;\">\n",
              "      <th></th>\n",
              "      <th>LAP_TIME</th>\n",
              "      <th>LAP_IMPROVEMENT</th>\n",
              "      <th>S1_LARGE</th>\n",
              "      <th>S1_IMPROVEMENT</th>\n",
              "      <th>S2_LARGE</th>\n",
              "      <th>S2_IMPROVEMENT</th>\n",
              "      <th>S3_LARGE</th>\n",
              "      <th>S3_IMPROVEMENT</th>\n",
              "      <th>PIT_TIME</th>\n",
              "      <th>CROSSING_FINISH_LINE_IN_PIT</th>\n",
              "    </tr>\n",
              "  </thead>\n",
              "  <tbody>\n",
              "  </tbody>\n",
              "</table>\n",
              "</div>"
            ],
            "text/plain": [
              "Empty DataFrame\n",
              "Columns: [LAP_TIME, LAP_IMPROVEMENT, S1_LARGE, S1_IMPROVEMENT, S2_LARGE, S2_IMPROVEMENT, S3_LARGE, S3_IMPROVEMENT, PIT_TIME, CROSSING_FINISH_LINE_IN_PIT]\n",
              "Index: []"
            ]
          },
          "metadata": {},
          "execution_count": 330
        }
      ]
    },
    {
      "cell_type": "markdown",
      "metadata": {
        "id": "53OPZYYgOnuO"
      },
      "source": [
        "Again, LAP_IMPROVEMENT is never non-zero when CROSSING_FINISH_LINE_IN_PIT is recorded. Looks like our categories 2, 3 and 4 only occur when pitstops are not involved. And 0 may be a dummy category when none of the special situations occur.  \n",
        "Let us explore the rows with non-zero LAP_IMPROVEMENT for a particular LOCATION and EVENT."
      ]
    },
    {
      "cell_type": "code",
      "metadata": {
        "colab": {
          "base_uri": "https://localhost:8080/"
        },
        "id": "WBr3n5jjPf4q",
        "outputId": "e19dfd66-fe55-4466-9f75-7922d8878a67"
      },
      "source": [
        "train.loc[(train.LOCATION == 'L1') &\n",
        "          (train.EVENT == 'Q2')][['DRIVER_NAME',\n",
        "                                  'LAP_NUMBER', 'LAP_TIME', \n",
        "                                  'LAP_IMPROVEMENT', \n",
        "                                  'S1_LARGE', 'S1_IMPROVEMENT', \n",
        "                                  'S2_LARGE', 'S2_IMPROVEMENT', \n",
        "                                  'S3_LARGE', 'S3_IMPROVEMENT']]"
      ],
      "execution_count": null,
      "outputs": [
        {
          "output_type": "execute_result",
          "data": {
            "text/html": [
              "<div>\n",
              "<style scoped>\n",
              "    .dataframe tbody tr th:only-of-type {\n",
              "        vertical-align: middle;\n",
              "    }\n",
              "\n",
              "    .dataframe tbody tr th {\n",
              "        vertical-align: top;\n",
              "    }\n",
              "\n",
              "    .dataframe thead th {\n",
              "        text-align: right;\n",
              "    }\n",
              "</style>\n",
              "<table border=\"1\" class=\"dataframe\">\n",
              "  <thead>\n",
              "    <tr style=\"text-align: right;\">\n",
              "      <th></th>\n",
              "      <th>DRIVER_NAME</th>\n",
              "      <th>LAP_NUMBER</th>\n",
              "      <th>LAP_TIME</th>\n",
              "      <th>LAP_IMPROVEMENT</th>\n",
              "      <th>S1_LARGE</th>\n",
              "      <th>S1_IMPROVEMENT</th>\n",
              "      <th>S2_LARGE</th>\n",
              "      <th>S2_IMPROVEMENT</th>\n",
              "      <th>S3_LARGE</th>\n",
              "      <th>S3_IMPROVEMENT</th>\n",
              "    </tr>\n",
              "  </thead>\n",
              "  <tbody>\n",
              "  </tbody>\n",
              "</table>\n",
              "</div>"
            ],
            "text/plain": [
              "Empty DataFrame\n",
              "Columns: [DRIVER_NAME, LAP_NUMBER, LAP_TIME, LAP_IMPROVEMENT, S1_LARGE, S1_IMPROVEMENT, S2_LARGE, S2_IMPROVEMENT, S3_LARGE, S3_IMPROVEMENT]\n",
              "Index: []"
            ]
          },
          "metadata": {},
          "execution_count": 331
        }
      ]
    },
    {
      "cell_type": "markdown",
      "metadata": {
        "id": "6deegk_TWh8-"
      },
      "source": [
        "* Consider the driver 'LOTTERER': He has three laps for Qualifying Group 2 at Location 2. His best lap, best sector-1 timing, best sector-2 timing and best sector-3 timing have '2' associated with them in the improvement columns. Coincidentally, they are all in the same row, but logic dictates the best sector timings will translate into best lap timing. Also, it is for his third lap, probably because he hass adjusted better with each lap. Same for the drivers 'ERIKSSON', 'SIMS', 'BIRD'  and 'GUNTHER'.  \n",
        "* **IMPROVEMENT columns with the value 2 are definitely the personal best timings (Situation 2 in our list of assumptions).**  \n",
        "\n",
        "* Looking at rows with *_IMPROVEMENT values equal to 4: the best sector timings for the session always have a value of 4.  \n",
        "\n",
        "* This is enough evidence to say that the *_IMPROVEMENT columns are definitely categorical (most probably ordinal) and we need to treat them so, instead of treating them as integers values. A lap having 2s and 4s in these columns would mean that lap would definitely be a fast one. We will leave it to the model to learn about the value 3 on its own."
      ]
    },
    {
      "cell_type": "code",
      "metadata": {
        "id": "kDoTQTYHmYmG"
      },
      "source": [
        "improvement_columns = ['LAP_IMPROVEMENT', 'S1_IMPROVEMENT', 'S2_IMPROVEMENT', 'S3_IMPROVEMENT']\n",
        "\n",
        "train[improvement_columns] = train[improvement_columns].apply(lambda x: x.astype('category').cat.codes)\n",
        "test[improvement_columns] = test[improvement_columns].apply(lambda x: x.astype('category').cat.codes)"
      ],
      "execution_count": null,
      "outputs": []
    },
    {
      "cell_type": "markdown",
      "metadata": {
        "id": "4DvridEClu4X"
      },
      "source": [
        "Another observation after viewing values for different events: drivers tend to put out the personal bests and session bests in later laps as they get accustomed to the track and the conditions. **This means keeping the LAP_NUMBER in our features is important since more often than not higher LAP_NUMBER would imply better times.**"
      ]
    },
    {
      "cell_type": "markdown",
      "metadata": {
        "id": "Se6zJ4ons3v6"
      },
      "source": [
        "### Features: CROSSING_FINISH_LINE_IN_PIT, GROUP, POWER"
      ]
    },
    {
      "cell_type": "markdown",
      "metadata": {
        "id": "iG3fU4trtOod"
      },
      "source": [
        "We must understand the columns which have a lot of missing values.  \n",
        "We have already handled PIT_TIME by filling it with 0s and recording a True/False column for whether a pitstop was taken or not.  \n",
        "There are some missing values for S1_LARGE, S2_LARGE and S3_LARGE too. We need to see whether those missing values are related to any of these columns.  \n",
        "\n",
        "Let us look at the GROUP column first."
      ]
    },
    {
      "cell_type": "code",
      "metadata": {
        "colab": {
          "base_uri": "https://localhost:8080/"
        },
        "id": "cgMFqwakvG2G",
        "outputId": "d05ba79f-7230-4553-bd75-63ef03d6fe73"
      },
      "source": [
        "train.loc[train.GROUP.isna()].sample(5)"
      ],
      "execution_count": null,
      "outputs": [
        {
          "output_type": "execute_result",
          "data": {
            "text/html": [
              "<div>\n",
              "<style scoped>\n",
              "    .dataframe tbody tr th:only-of-type {\n",
              "        vertical-align: middle;\n",
              "    }\n",
              "\n",
              "    .dataframe tbody tr th {\n",
              "        vertical-align: top;\n",
              "    }\n",
              "\n",
              "    .dataframe thead th {\n",
              "        text-align: right;\n",
              "    }\n",
              "</style>\n",
              "<table border=\"1\" class=\"dataframe\">\n",
              "  <thead>\n",
              "    <tr style=\"text-align: right;\">\n",
              "      <th></th>\n",
              "      <th>CAR_NUMBER</th>\n",
              "      <th>LAP_NUMBER</th>\n",
              "      <th>LAP_TIME</th>\n",
              "      <th>LAP_IMPROVEMENT</th>\n",
              "      <th>CROSSING_FINISH_LINE_IN_PIT</th>\n",
              "      <th>S1_IMPROVEMENT</th>\n",
              "      <th>S2_IMPROVEMENT</th>\n",
              "      <th>S3_IMPROVEMENT</th>\n",
              "      <th>KPH</th>\n",
              "      <th>ELAPSED</th>\n",
              "      <th>HOUR</th>\n",
              "      <th>S1_LARGE</th>\n",
              "      <th>S2_LARGE</th>\n",
              "      <th>S3_LARGE</th>\n",
              "      <th>DRIVER_NAME</th>\n",
              "      <th>PIT_TIME</th>\n",
              "      <th>GROUP</th>\n",
              "      <th>TEAM</th>\n",
              "      <th>POWER</th>\n",
              "      <th>LOCATION</th>\n",
              "      <th>EVENT</th>\n",
              "      <th>PITSTOP_TAKEN</th>\n",
              "      <th>EVENT_TYPE</th>\n",
              "    </tr>\n",
              "  </thead>\n",
              "  <tbody>\n",
              "    <tr>\n",
              "      <th>5871</th>\n",
              "      <td>18</td>\n",
              "      <td>4</td>\n",
              "      <td>93</td>\n",
              "      <td>0</td>\n",
              "      <td>NaN</td>\n",
              "      <td>0</td>\n",
              "      <td>0</td>\n",
              "      <td>0</td>\n",
              "      <td>128.2</td>\n",
              "      <td>07:16.9</td>\n",
              "      <td>22:16.9</td>\n",
              "      <td>32.1</td>\n",
              "      <td>34.0</td>\n",
              "      <td>28.7</td>\n",
              "      <td>4</td>\n",
              "      <td>0.0</td>\n",
              "      <td>NaN</td>\n",
              "      <td>4</td>\n",
              "      <td>NaN</td>\n",
              "      <td>2</td>\n",
              "      <td>1</td>\n",
              "      <td>False</td>\n",
              "      <td>0</td>\n",
              "    </tr>\n",
              "    <tr>\n",
              "      <th>9230</th>\n",
              "      <td>1</td>\n",
              "      <td>8</td>\n",
              "      <td>68</td>\n",
              "      <td>0</td>\n",
              "      <td>NaN</td>\n",
              "      <td>0</td>\n",
              "      <td>0</td>\n",
              "      <td>0</td>\n",
              "      <td>120.0</td>\n",
              "      <td>10:29.2</td>\n",
              "      <td>10:29.2</td>\n",
              "      <td>24.4</td>\n",
              "      <td>21.9</td>\n",
              "      <td>24.3</td>\n",
              "      <td>20</td>\n",
              "      <td>0.0</td>\n",
              "      <td>NaN</td>\n",
              "      <td>7</td>\n",
              "      <td>NaN</td>\n",
              "      <td>7</td>\n",
              "      <td>0</td>\n",
              "      <td>False</td>\n",
              "      <td>0</td>\n",
              "    </tr>\n",
              "    <tr>\n",
              "      <th>2300</th>\n",
              "      <td>8</td>\n",
              "      <td>18</td>\n",
              "      <td>123</td>\n",
              "      <td>1</td>\n",
              "      <td>NaN</td>\n",
              "      <td>1</td>\n",
              "      <td>1</td>\n",
              "      <td>1</td>\n",
              "      <td>120.7</td>\n",
              "      <td>45:18.0</td>\n",
              "      <td>00:18.0</td>\n",
              "      <td>23.2</td>\n",
              "      <td>27.0</td>\n",
              "      <td>19.0</td>\n",
              "      <td>22</td>\n",
              "      <td>0.0</td>\n",
              "      <td>NaN</td>\n",
              "      <td>7</td>\n",
              "      <td>250.0</td>\n",
              "      <td>5</td>\n",
              "      <td>2</td>\n",
              "      <td>False</td>\n",
              "      <td>0</td>\n",
              "    </tr>\n",
              "    <tr>\n",
              "      <th>9500</th>\n",
              "      <td>8</td>\n",
              "      <td>20</td>\n",
              "      <td>68</td>\n",
              "      <td>1</td>\n",
              "      <td>NaN</td>\n",
              "      <td>1</td>\n",
              "      <td>2</td>\n",
              "      <td>1</td>\n",
              "      <td>127.0</td>\n",
              "      <td>27:13.7</td>\n",
              "      <td>57:13.7</td>\n",
              "      <td>22.5</td>\n",
              "      <td>20.9</td>\n",
              "      <td>23.4</td>\n",
              "      <td>22</td>\n",
              "      <td>0.0</td>\n",
              "      <td>NaN</td>\n",
              "      <td>7</td>\n",
              "      <td>250.0</td>\n",
              "      <td>7</td>\n",
              "      <td>1</td>\n",
              "      <td>False</td>\n",
              "      <td>0</td>\n",
              "    </tr>\n",
              "    <tr>\n",
              "      <th>3406</th>\n",
              "      <td>17</td>\n",
              "      <td>12</td>\n",
              "      <td>73</td>\n",
              "      <td>0</td>\n",
              "      <td>NaN</td>\n",
              "      <td>0</td>\n",
              "      <td>0</td>\n",
              "      <td>0</td>\n",
              "      <td>82.9</td>\n",
              "      <td>19:58.4</td>\n",
              "      <td>19:58.4</td>\n",
              "      <td>29.6</td>\n",
              "      <td>35.3</td>\n",
              "      <td>32.9</td>\n",
              "      <td>11</td>\n",
              "      <td>0.0</td>\n",
              "      <td>NaN</td>\n",
              "      <td>11</td>\n",
              "      <td>235.0</td>\n",
              "      <td>6</td>\n",
              "      <td>1</td>\n",
              "      <td>False</td>\n",
              "      <td>0</td>\n",
              "    </tr>\n",
              "  </tbody>\n",
              "</table>\n",
              "</div>"
            ],
            "text/plain": [
              "      CAR_NUMBER  LAP_NUMBER  LAP_TIME  ...  EVENT PITSTOP_TAKEN  EVENT_TYPE\n",
              "5871          18           4        93  ...      1         False           0\n",
              "9230           1           8        68  ...      0         False           0\n",
              "2300           8          18       123  ...      2         False           0\n",
              "9500           8          20        68  ...      1         False           0\n",
              "3406          17          12        73  ...      1         False           0\n",
              "\n",
              "[5 rows x 23 columns]"
            ]
          },
          "metadata": {},
          "execution_count": 333
        }
      ]
    },
    {
      "cell_type": "markdown",
      "metadata": {
        "id": "9pN0emjExbOZ"
      },
      "source": [
        "All the missing values in GROUP have EVENT_TYPE 'P' (Free Practice) associated with them. Looks like it may be the group number of the car in Qualifying Groups. "
      ]
    },
    {
      "cell_type": "code",
      "metadata": {
        "colab": {
          "base_uri": "https://localhost:8080/"
        },
        "id": "1CyZZnK9x4dC",
        "outputId": "f2a365d4-5173-4f23-88ed-9e54ffb02172"
      },
      "source": [
        "train.loc[~train.GROUP.isna() & (train.EVENT_TYPE == 'P')] #empty"
      ],
      "execution_count": null,
      "outputs": [
        {
          "output_type": "execute_result",
          "data": {
            "text/html": [
              "<div>\n",
              "<style scoped>\n",
              "    .dataframe tbody tr th:only-of-type {\n",
              "        vertical-align: middle;\n",
              "    }\n",
              "\n",
              "    .dataframe tbody tr th {\n",
              "        vertical-align: top;\n",
              "    }\n",
              "\n",
              "    .dataframe thead th {\n",
              "        text-align: right;\n",
              "    }\n",
              "</style>\n",
              "<table border=\"1\" class=\"dataframe\">\n",
              "  <thead>\n",
              "    <tr style=\"text-align: right;\">\n",
              "      <th></th>\n",
              "      <th>CAR_NUMBER</th>\n",
              "      <th>LAP_NUMBER</th>\n",
              "      <th>LAP_TIME</th>\n",
              "      <th>LAP_IMPROVEMENT</th>\n",
              "      <th>CROSSING_FINISH_LINE_IN_PIT</th>\n",
              "      <th>S1_IMPROVEMENT</th>\n",
              "      <th>S2_IMPROVEMENT</th>\n",
              "      <th>S3_IMPROVEMENT</th>\n",
              "      <th>KPH</th>\n",
              "      <th>ELAPSED</th>\n",
              "      <th>HOUR</th>\n",
              "      <th>S1_LARGE</th>\n",
              "      <th>S2_LARGE</th>\n",
              "      <th>S3_LARGE</th>\n",
              "      <th>DRIVER_NAME</th>\n",
              "      <th>PIT_TIME</th>\n",
              "      <th>GROUP</th>\n",
              "      <th>TEAM</th>\n",
              "      <th>POWER</th>\n",
              "      <th>LOCATION</th>\n",
              "      <th>EVENT</th>\n",
              "      <th>PITSTOP_TAKEN</th>\n",
              "      <th>EVENT_TYPE</th>\n",
              "    </tr>\n",
              "  </thead>\n",
              "  <tbody>\n",
              "  </tbody>\n",
              "</table>\n",
              "</div>"
            ],
            "text/plain": [
              "Empty DataFrame\n",
              "Columns: [CAR_NUMBER, LAP_NUMBER, LAP_TIME, LAP_IMPROVEMENT, CROSSING_FINISH_LINE_IN_PIT, S1_IMPROVEMENT, S2_IMPROVEMENT, S3_IMPROVEMENT, KPH, ELAPSED, HOUR, S1_LARGE, S2_LARGE, S3_LARGE, DRIVER_NAME, PIT_TIME, GROUP, TEAM, POWER, LOCATION, EVENT, PITSTOP_TAKEN, EVENT_TYPE]\n",
              "Index: []"
            ]
          },
          "metadata": {},
          "execution_count": 334
        }
      ]
    },
    {
      "cell_type": "code",
      "metadata": {
        "colab": {
          "base_uri": "https://localhost:8080/"
        },
        "id": "A5dUdkKHyVtY",
        "outputId": "37f2b957-e0c5-4414-cb0c-65a03bc116ed"
      },
      "source": [
        "train.loc[~train.GROUP.isna()][['GROUP', 'EVENT']].sample(5)"
      ],
      "execution_count": null,
      "outputs": [
        {
          "output_type": "execute_result",
          "data": {
            "text/html": [
              "<div>\n",
              "<style scoped>\n",
              "    .dataframe tbody tr th:only-of-type {\n",
              "        vertical-align: middle;\n",
              "    }\n",
              "\n",
              "    .dataframe tbody tr th {\n",
              "        vertical-align: top;\n",
              "    }\n",
              "\n",
              "    .dataframe thead th {\n",
              "        text-align: right;\n",
              "    }\n",
              "</style>\n",
              "<table border=\"1\" class=\"dataframe\">\n",
              "  <thead>\n",
              "    <tr style=\"text-align: right;\">\n",
              "      <th></th>\n",
              "      <th>GROUP</th>\n",
              "      <th>EVENT</th>\n",
              "    </tr>\n",
              "  </thead>\n",
              "  <tbody>\n",
              "    <tr>\n",
              "      <th>107</th>\n",
              "      <td>1.0</td>\n",
              "      <td>3</td>\n",
              "    </tr>\n",
              "    <tr>\n",
              "      <th>584</th>\n",
              "      <td>3.0</td>\n",
              "      <td>5</td>\n",
              "    </tr>\n",
              "    <tr>\n",
              "      <th>1630</th>\n",
              "      <td>2.0</td>\n",
              "      <td>4</td>\n",
              "    </tr>\n",
              "    <tr>\n",
              "      <th>6578</th>\n",
              "      <td>3.0</td>\n",
              "      <td>5</td>\n",
              "    </tr>\n",
              "    <tr>\n",
              "      <th>2177</th>\n",
              "      <td>2.0</td>\n",
              "      <td>4</td>\n",
              "    </tr>\n",
              "  </tbody>\n",
              "</table>\n",
              "</div>"
            ],
            "text/plain": [
              "      GROUP  EVENT\n",
              "107     1.0      3\n",
              "584     3.0      5\n",
              "1630    2.0      4\n",
              "6578    3.0      5\n",
              "2177    2.0      4"
            ]
          },
          "metadata": {},
          "execution_count": 335
        }
      ]
    },
    {
      "cell_type": "markdown",
      "metadata": {
        "id": "NDXYkkjsyfeh"
      },
      "source": [
        "Our assumption is correct. Since we already have this information in EVENT and EVENT_TYPE columns, we can safely drop GROUP column."
      ]
    },
    {
      "cell_type": "code",
      "metadata": {
        "id": "h1U5d2FXyplh"
      },
      "source": [
        "train.drop(['GROUP'], axis=1, inplace=True)\n",
        "test.drop(['GROUP'], axis=1, inplace=True)"
      ],
      "execution_count": null,
      "outputs": []
    },
    {
      "cell_type": "markdown",
      "metadata": {
        "id": "N9VVVo2My7pY"
      },
      "source": [
        "POWER is a very important factor in Formula-E since cars are required to drive around for 45 mins + 1 lap on a single charge. Unlike other motorsports, they cannot pitstop for recharging. However, in Free Practice and Qualifying, this factor is not important because:  \n",
        "* Free Practice has no restrictions on pitstops.\n",
        "* Qualifying groups have drivers trying to complete a single fastest lap and do not need to last for a particular duration."
      ]
    },
    {
      "cell_type": "code",
      "metadata": {
        "colab": {
          "base_uri": "https://localhost:8080/"
        },
        "id": "m0AHDdNgzCGC",
        "outputId": "38970f6f-3aac-4f94-dae7-cc706302116d"
      },
      "source": [
        "train.loc[~train.POWER.isna()].sample(5)"
      ],
      "execution_count": null,
      "outputs": [
        {
          "output_type": "execute_result",
          "data": {
            "text/html": [
              "<div>\n",
              "<style scoped>\n",
              "    .dataframe tbody tr th:only-of-type {\n",
              "        vertical-align: middle;\n",
              "    }\n",
              "\n",
              "    .dataframe tbody tr th {\n",
              "        vertical-align: top;\n",
              "    }\n",
              "\n",
              "    .dataframe thead th {\n",
              "        text-align: right;\n",
              "    }\n",
              "</style>\n",
              "<table border=\"1\" class=\"dataframe\">\n",
              "  <thead>\n",
              "    <tr style=\"text-align: right;\">\n",
              "      <th></th>\n",
              "      <th>CAR_NUMBER</th>\n",
              "      <th>LAP_NUMBER</th>\n",
              "      <th>LAP_TIME</th>\n",
              "      <th>LAP_IMPROVEMENT</th>\n",
              "      <th>CROSSING_FINISH_LINE_IN_PIT</th>\n",
              "      <th>S1_IMPROVEMENT</th>\n",
              "      <th>S2_IMPROVEMENT</th>\n",
              "      <th>S3_IMPROVEMENT</th>\n",
              "      <th>KPH</th>\n",
              "      <th>ELAPSED</th>\n",
              "      <th>HOUR</th>\n",
              "      <th>S1_LARGE</th>\n",
              "      <th>S2_LARGE</th>\n",
              "      <th>S3_LARGE</th>\n",
              "      <th>DRIVER_NAME</th>\n",
              "      <th>PIT_TIME</th>\n",
              "      <th>TEAM</th>\n",
              "      <th>POWER</th>\n",
              "      <th>LOCATION</th>\n",
              "      <th>EVENT</th>\n",
              "      <th>PITSTOP_TAKEN</th>\n",
              "      <th>EVENT_TYPE</th>\n",
              "    </tr>\n",
              "  </thead>\n",
              "  <tbody>\n",
              "    <tr>\n",
              "      <th>599</th>\n",
              "      <td>9</td>\n",
              "      <td>2</td>\n",
              "      <td>72</td>\n",
              "      <td>1</td>\n",
              "      <td>NaN</td>\n",
              "      <td>1</td>\n",
              "      <td>1</td>\n",
              "      <td>1</td>\n",
              "      <td>121.6</td>\n",
              "      <td>04:00.4</td>\n",
              "      <td>04:00.4</td>\n",
              "      <td>24.1</td>\n",
              "      <td>19.2</td>\n",
              "      <td>30.5</td>\n",
              "      <td>7</td>\n",
              "      <td>0.0</td>\n",
              "      <td>5</td>\n",
              "      <td>250.0</td>\n",
              "      <td>0</td>\n",
              "      <td>3</td>\n",
              "      <td>False</td>\n",
              "      <td>1</td>\n",
              "    </tr>\n",
              "    <tr>\n",
              "      <th>9959</th>\n",
              "      <td>11</td>\n",
              "      <td>17</td>\n",
              "      <td>67</td>\n",
              "      <td>0</td>\n",
              "      <td>NaN</td>\n",
              "      <td>0</td>\n",
              "      <td>0</td>\n",
              "      <td>0</td>\n",
              "      <td>28.1</td>\n",
              "      <td>28:50.0</td>\n",
              "      <td>28:50.0</td>\n",
              "      <td>250.0</td>\n",
              "      <td>26.5</td>\n",
              "      <td>25.4</td>\n",
              "      <td>2</td>\n",
              "      <td>227.5</td>\n",
              "      <td>9</td>\n",
              "      <td>250.0</td>\n",
              "      <td>7</td>\n",
              "      <td>0</td>\n",
              "      <td>True</td>\n",
              "      <td>0</td>\n",
              "    </tr>\n",
              "    <tr>\n",
              "      <th>7904</th>\n",
              "      <td>20</td>\n",
              "      <td>3</td>\n",
              "      <td>102</td>\n",
              "      <td>0</td>\n",
              "      <td>NaN</td>\n",
              "      <td>0</td>\n",
              "      <td>0</td>\n",
              "      <td>0</td>\n",
              "      <td>118.6</td>\n",
              "      <td>05:24.9</td>\n",
              "      <td>20:24.9</td>\n",
              "      <td>23.7</td>\n",
              "      <td>27.2</td>\n",
              "      <td>19.5</td>\n",
              "      <td>15</td>\n",
              "      <td>0.0</td>\n",
              "      <td>10</td>\n",
              "      <td>250.0</td>\n",
              "      <td>5</td>\n",
              "      <td>1</td>\n",
              "      <td>False</td>\n",
              "      <td>0</td>\n",
              "    </tr>\n",
              "    <tr>\n",
              "      <th>9071</th>\n",
              "      <td>14</td>\n",
              "      <td>19</td>\n",
              "      <td>91</td>\n",
              "      <td>0</td>\n",
              "      <td>B</td>\n",
              "      <td>0</td>\n",
              "      <td>0</td>\n",
              "      <td>0</td>\n",
              "      <td>23.8</td>\n",
              "      <td>35:07.9</td>\n",
              "      <td>35:07.9</td>\n",
              "      <td>24.7</td>\n",
              "      <td>23.6</td>\n",
              "      <td>NaN</td>\n",
              "      <td>10</td>\n",
              "      <td>0.0</td>\n",
              "      <td>1</td>\n",
              "      <td>235.0</td>\n",
              "      <td>7</td>\n",
              "      <td>0</td>\n",
              "      <td>False</td>\n",
              "      <td>0</td>\n",
              "    </tr>\n",
              "    <tr>\n",
              "      <th>7234</th>\n",
              "      <td>16</td>\n",
              "      <td>24</td>\n",
              "      <td>86</td>\n",
              "      <td>1</td>\n",
              "      <td>NaN</td>\n",
              "      <td>1</td>\n",
              "      <td>1</td>\n",
              "      <td>1</td>\n",
              "      <td>128.7</td>\n",
              "      <td>43:20.3</td>\n",
              "      <td>58:20.3</td>\n",
              "      <td>22.3</td>\n",
              "      <td>18.3</td>\n",
              "      <td>29.2</td>\n",
              "      <td>16</td>\n",
              "      <td>0.0</td>\n",
              "      <td>0</td>\n",
              "      <td>250.0</td>\n",
              "      <td>0</td>\n",
              "      <td>0</td>\n",
              "      <td>False</td>\n",
              "      <td>0</td>\n",
              "    </tr>\n",
              "  </tbody>\n",
              "</table>\n",
              "</div>"
            ],
            "text/plain": [
              "      CAR_NUMBER  LAP_NUMBER  LAP_TIME  ...  EVENT PITSTOP_TAKEN  EVENT_TYPE\n",
              "599            9           2        72  ...      3         False           1\n",
              "9959          11          17        67  ...      0          True           0\n",
              "7904          20           3       102  ...      1         False           0\n",
              "9071          14          19        91  ...      0         False           0\n",
              "7234          16          24        86  ...      0         False           0\n",
              "\n",
              "[5 rows x 22 columns]"
            ]
          },
          "metadata": {},
          "execution_count": 337
        }
      ]
    },
    {
      "cell_type": "code",
      "metadata": {
        "colab": {
          "base_uri": "https://localhost:8080/"
        },
        "id": "65490ik7zuWb",
        "outputId": "747a278d-a0fc-49df-b18b-aee96b2820c5"
      },
      "source": [
        "train.loc[~train.POWER.isna() & (train.EVENT_TYPE == 'P')].head()"
      ],
      "execution_count": null,
      "outputs": [
        {
          "output_type": "execute_result",
          "data": {
            "text/html": [
              "<div>\n",
              "<style scoped>\n",
              "    .dataframe tbody tr th:only-of-type {\n",
              "        vertical-align: middle;\n",
              "    }\n",
              "\n",
              "    .dataframe tbody tr th {\n",
              "        vertical-align: top;\n",
              "    }\n",
              "\n",
              "    .dataframe thead th {\n",
              "        text-align: right;\n",
              "    }\n",
              "</style>\n",
              "<table border=\"1\" class=\"dataframe\">\n",
              "  <thead>\n",
              "    <tr style=\"text-align: right;\">\n",
              "      <th></th>\n",
              "      <th>CAR_NUMBER</th>\n",
              "      <th>LAP_NUMBER</th>\n",
              "      <th>LAP_TIME</th>\n",
              "      <th>LAP_IMPROVEMENT</th>\n",
              "      <th>CROSSING_FINISH_LINE_IN_PIT</th>\n",
              "      <th>S1_IMPROVEMENT</th>\n",
              "      <th>S2_IMPROVEMENT</th>\n",
              "      <th>S3_IMPROVEMENT</th>\n",
              "      <th>KPH</th>\n",
              "      <th>ELAPSED</th>\n",
              "      <th>HOUR</th>\n",
              "      <th>S1_LARGE</th>\n",
              "      <th>S2_LARGE</th>\n",
              "      <th>S3_LARGE</th>\n",
              "      <th>DRIVER_NAME</th>\n",
              "      <th>PIT_TIME</th>\n",
              "      <th>TEAM</th>\n",
              "      <th>POWER</th>\n",
              "      <th>LOCATION</th>\n",
              "      <th>EVENT</th>\n",
              "      <th>PITSTOP_TAKEN</th>\n",
              "      <th>EVENT_TYPE</th>\n",
              "    </tr>\n",
              "  </thead>\n",
              "  <tbody>\n",
              "  </tbody>\n",
              "</table>\n",
              "</div>"
            ],
            "text/plain": [
              "Empty DataFrame\n",
              "Columns: [CAR_NUMBER, LAP_NUMBER, LAP_TIME, LAP_IMPROVEMENT, CROSSING_FINISH_LINE_IN_PIT, S1_IMPROVEMENT, S2_IMPROVEMENT, S3_IMPROVEMENT, KPH, ELAPSED, HOUR, S1_LARGE, S2_LARGE, S3_LARGE, DRIVER_NAME, PIT_TIME, TEAM, POWER, LOCATION, EVENT, PITSTOP_TAKEN, EVENT_TYPE]\n",
              "Index: []"
            ]
          },
          "metadata": {},
          "execution_count": 338
        }
      ]
    },
    {
      "cell_type": "markdown",
      "metadata": {
        "id": "qSrTDRsY5Qbo"
      },
      "source": [
        "Different POWER values for same LOCATION AND EVENT.  \n",
        "\n",
        "A lot of values are missing, the values available are inconsistent, and the domain knowledge also reduces the importance of this feature. Hence, we will drop this column from our data."
      ]
    },
    {
      "cell_type": "code",
      "metadata": {
        "id": "cYj3wLKi5yLn"
      },
      "source": [
        "train.drop(['POWER'], axis=1, inplace=True)\n",
        "test.drop(['POWER'], axis=1, inplace=True)"
      ],
      "execution_count": null,
      "outputs": []
    },
    {
      "cell_type": "markdown",
      "metadata": {
        "id": "ooWZCyTd_ERo"
      },
      "source": [
        "We have already seen the effect of CROSSING_FINISH_LINE_IN_PIT on sector timings and mitigated those outliers.\n",
        "We will fill in the missing values for CROSSING_FINISH_LINE_IN_PIT and use it as a categorical feature to denote if a lap was driven with intent for completion or not."
      ]
    },
    {
      "cell_type": "code",
      "metadata": {
        "id": "hAQGJRcC_Bp0"
      },
      "source": [
        "train.fillna({'CROSSING_FINISH_LINE_IN_PIT': 'A'}, inplace=True)\n",
        "test.fillna({'CROSSING_FINISH_LINE_IN_PIT': 'A'}, inplace=True)"
      ],
      "execution_count": null,
      "outputs": []
    },
    {
      "cell_type": "code",
      "metadata": {
        "id": "s6OOnPG8A4gR"
      },
      "source": [
        "train['CROSSING_FINISH_LINE_IN_PIT'] = train['CROSSING_FINISH_LINE_IN_PIT'].astype('category').cat.codes\n",
        "test['CROSSING_FINISH_LINE_IN_PIT'] = test['CROSSING_FINISH_LINE_IN_PIT'].astype('category').cat.codes"
      ],
      "execution_count": null,
      "outputs": []
    },
    {
      "cell_type": "markdown",
      "metadata": {
        "id": "Glj9EAycRYv1"
      },
      "source": [
        "### Features: HOUR, ELAPSED"
      ]
    },
    {
      "cell_type": "markdown",
      "metadata": {
        "id": "KavMoz4gR42o"
      },
      "source": [
        "These two features also do not have a satisfactory explanation in the data description so we need to make assumptions and then prove them.  \n",
        "\n",
        "* ELAPSED: from the name we can assume it may be the total time spent by the car on the track  \n",
        "* HOUR: the name gives no information so we will have to look at the values to make guesses"
      ]
    },
    {
      "cell_type": "code",
      "metadata": {
        "colab": {
          "base_uri": "https://localhost:8080/"
        },
        "id": "_pQ8tDSLRdzY",
        "outputId": "8ede5540-21c2-42b2-aeea-99bc6cb5c35c"
      },
      "source": [
        "train[['S1_LARGE', 'S2_LARGE', 'S3_LARGE', 'ELAPSED', 'HOUR']].head()"
      ],
      "execution_count": null,
      "outputs": [
        {
          "output_type": "execute_result",
          "data": {
            "text/html": [
              "<div>\n",
              "<style scoped>\n",
              "    .dataframe tbody tr th:only-of-type {\n",
              "        vertical-align: middle;\n",
              "    }\n",
              "\n",
              "    .dataframe tbody tr th {\n",
              "        vertical-align: top;\n",
              "    }\n",
              "\n",
              "    .dataframe thead th {\n",
              "        text-align: right;\n",
              "    }\n",
              "</style>\n",
              "<table border=\"1\" class=\"dataframe\">\n",
              "  <thead>\n",
              "    <tr style=\"text-align: right;\">\n",
              "      <th></th>\n",
              "      <th>S1_LARGE</th>\n",
              "      <th>S2_LARGE</th>\n",
              "      <th>S3_LARGE</th>\n",
              "      <th>ELAPSED</th>\n",
              "      <th>HOUR</th>\n",
              "    </tr>\n",
              "  </thead>\n",
              "  <tbody>\n",
              "    <tr>\n",
              "      <th>0</th>\n",
              "      <td>343.3</td>\n",
              "      <td>35.4</td>\n",
              "      <td>43.3</td>\n",
              "      <td>07:02.0</td>\n",
              "      <td>22:02.0</td>\n",
              "    </tr>\n",
              "    <tr>\n",
              "      <th>1</th>\n",
              "      <td>25.7</td>\n",
              "      <td>33.4</td>\n",
              "      <td>41.9</td>\n",
              "      <td>08:43.0</td>\n",
              "      <td>23:43.0</td>\n",
              "    </tr>\n",
              "    <tr>\n",
              "      <th>2</th>\n",
              "      <td>28.1</td>\n",
              "      <td>34.1</td>\n",
              "      <td>NaN</td>\n",
              "      <td>10:42.5</td>\n",
              "      <td>25:42.5</td>\n",
              "    </tr>\n",
              "    <tr>\n",
              "      <th>3</th>\n",
              "      <td>65.0</td>\n",
              "      <td>38.4</td>\n",
              "      <td>56.8</td>\n",
              "      <td>02:40.2</td>\n",
              "      <td>17:40.2</td>\n",
              "    </tr>\n",
              "    <tr>\n",
              "      <th>4</th>\n",
              "      <td>28.0</td>\n",
              "      <td>36.7</td>\n",
              "      <td>44.7</td>\n",
              "      <td>04:29.7</td>\n",
              "      <td>19:29.7</td>\n",
              "    </tr>\n",
              "  </tbody>\n",
              "</table>\n",
              "</div>"
            ],
            "text/plain": [
              "   S1_LARGE  S2_LARGE  S3_LARGE  ELAPSED     HOUR\n",
              "0     343.3      35.4      43.3  07:02.0  22:02.0\n",
              "1      25.7      33.4      41.9  08:43.0  23:43.0\n",
              "2      28.1      34.1       NaN  10:42.5  25:42.5\n",
              "3      65.0      38.4      56.8  02:40.2  17:40.2\n",
              "4      28.0      36.7      44.7  04:29.7  19:29.7"
            ]
          },
          "metadata": {},
          "execution_count": 342
        }
      ]
    },
    {
      "cell_type": "markdown",
      "metadata": {
        "id": "Y82ZfgT-Tlr3"
      },
      "source": [
        "After looking at a few samples we can observe:  \n",
        "* ELAPSED and HOUR are always in the range of 5+ minutes (we will confirm it after converting them to seconds for easier selection). This could mean they are related to the total time spent on the track as a very slow lap also finishes in about 2 minutes.\n",
        "* HOUR is always equal to or more than ELAPSED. We can guess that ELAPSED is the time spent on the track and HOUR is the total time since the start of the event. Free Practice does not require all drivers to start together, they can enter the track after the start, spend some time driving and leave before the end. We can confirm that by looking at values for a particular LOCATION and EVENT.  \n",
        "\n",
        "First, converting them to seconds."
      ]
    },
    {
      "cell_type": "code",
      "metadata": {
        "id": "K4tSsGqjS6a3"
      },
      "source": [
        "train[['ELAPSED', 'HOUR']] = train[['ELAPSED', 'HOUR']].applymap(to_seconds)\n",
        "test[['ELAPSED', 'HOUR']] = test[['ELAPSED', 'HOUR']].applymap(to_seconds)"
      ],
      "execution_count": null,
      "outputs": []
    },
    {
      "cell_type": "code",
      "metadata": {
        "colab": {
          "base_uri": "https://localhost:8080/"
        },
        "id": "WfNlpknhcWdB",
        "outputId": "2e251525-f943-43d0-898d-f2e5190866db"
      },
      "source": [
        "train['DIFF'] = train.HOUR - train.ELAPSED\n",
        "train.loc[train.DIFF < 0][['ELAPSED', 'HOUR']]"
      ],
      "execution_count": null,
      "outputs": [
        {
          "output_type": "execute_result",
          "data": {
            "text/html": [
              "<div>\n",
              "<style scoped>\n",
              "    .dataframe tbody tr th:only-of-type {\n",
              "        vertical-align: middle;\n",
              "    }\n",
              "\n",
              "    .dataframe tbody tr th {\n",
              "        vertical-align: top;\n",
              "    }\n",
              "\n",
              "    .dataframe thead th {\n",
              "        text-align: right;\n",
              "    }\n",
              "</style>\n",
              "<table border=\"1\" class=\"dataframe\">\n",
              "  <thead>\n",
              "    <tr style=\"text-align: right;\">\n",
              "      <th></th>\n",
              "      <th>ELAPSED</th>\n",
              "      <th>HOUR</th>\n",
              "    </tr>\n",
              "  </thead>\n",
              "  <tbody>\n",
              "    <tr>\n",
              "      <th>268</th>\n",
              "      <td>1811.6</td>\n",
              "      <td>1811.5</td>\n",
              "    </tr>\n",
              "    <tr>\n",
              "      <th>520</th>\n",
              "      <td>850.9</td>\n",
              "      <td>850.8</td>\n",
              "    </tr>\n",
              "    <tr>\n",
              "      <th>614</th>\n",
              "      <td>1258.7</td>\n",
              "      <td>358.7</td>\n",
              "    </tr>\n",
              "    <tr>\n",
              "      <th>615</th>\n",
              "      <td>1340.5</td>\n",
              "      <td>440.5</td>\n",
              "    </tr>\n",
              "    <tr>\n",
              "      <th>616</th>\n",
              "      <td>1408.9</td>\n",
              "      <td>508.9</td>\n",
              "    </tr>\n",
              "    <tr>\n",
              "      <th>...</th>\n",
              "      <td>...</td>\n",
              "      <td>...</td>\n",
              "    </tr>\n",
              "    <tr>\n",
              "      <th>9768</th>\n",
              "      <td>1803.6</td>\n",
              "      <td>3.6</td>\n",
              "    </tr>\n",
              "    <tr>\n",
              "      <th>9784</th>\n",
              "      <td>1819.8</td>\n",
              "      <td>19.8</td>\n",
              "    </tr>\n",
              "    <tr>\n",
              "      <th>9817</th>\n",
              "      <td>1823.7</td>\n",
              "      <td>23.7</td>\n",
              "    </tr>\n",
              "    <tr>\n",
              "      <th>9834</th>\n",
              "      <td>1816.2</td>\n",
              "      <td>16.2</td>\n",
              "    </tr>\n",
              "    <tr>\n",
              "      <th>9887</th>\n",
              "      <td>276.7</td>\n",
              "      <td>276.6</td>\n",
              "    </tr>\n",
              "  </tbody>\n",
              "</table>\n",
              "<p>501 rows × 2 columns</p>\n",
              "</div>"
            ],
            "text/plain": [
              "      ELAPSED    HOUR\n",
              "268    1811.6  1811.5\n",
              "520     850.9   850.8\n",
              "614    1258.7   358.7\n",
              "615    1340.5   440.5\n",
              "616    1408.9   508.9\n",
              "...       ...     ...\n",
              "9768   1803.6     3.6\n",
              "9784   1819.8    19.8\n",
              "9817   1823.7    23.7\n",
              "9834   1816.2    16.2\n",
              "9887    276.7   276.6\n",
              "\n",
              "[501 rows x 2 columns]"
            ]
          },
          "metadata": {},
          "execution_count": 344
        }
      ]
    },
    {
      "cell_type": "markdown",
      "metadata": {
        "id": "4v0nyCM6Y5qQ"
      },
      "source": [
        "We have 513 out of 10276 rows with ELAPSED > HOUR. Some of these look like an error in conversion or recording since there is a difference of only 0.1 seconds. The remaining rows are so few that we can attribute it to inconsistency in the dataset.  \n",
        "We tried to confirm our assumption about the meanings of the feature names and it is almost 100% correct, but we haven't decided to use these features yet."
      ]
    },
    {
      "cell_type": "markdown",
      "metadata": {
        "id": "fWvZrN7MfpXL"
      },
      "source": [
        "Time spent on the track (ELAPSED) would effect the condition of the car, with respect to tyres, remaining power, etc. The race timer (HOUR) might also be an indicator for the changes in condition of the track itself. **These would be important factors in the final race, but in Free Practice and Qualifying they are almost nullified. For those reasons, we will drop them from our dataset before modeling.**"
      ]
    },
    {
      "cell_type": "code",
      "metadata": {
        "id": "FEQpSrT-YpLt"
      },
      "source": [
        "train.drop(['DIFF', 'ELAPSED', 'HOUR'], axis=1, inplace=True)\n",
        "test.drop(['ELAPSED', 'HOUR'], axis=1, inplace=True)"
      ],
      "execution_count": null,
      "outputs": []
    },
    {
      "cell_type": "markdown",
      "metadata": {
        "id": "ziTUpJNrnnCQ"
      },
      "source": [
        "### Feature: KPH"
      ]
    },
    {
      "cell_type": "code",
      "metadata": {
        "colab": {
          "base_uri": "https://localhost:8080/"
        },
        "id": "3R4c4oVt3tSS",
        "outputId": "997afe61-1d31-4315-c58a-ef73f4855f19"
      },
      "source": [
        "train.loc[train.KPH.isna()][['KPH', 'S1_LARGE', 'S2_LARGE', 'S3_LARGE']].sample(5)"
      ],
      "execution_count": null,
      "outputs": [
        {
          "output_type": "execute_result",
          "data": {
            "text/html": [
              "<div>\n",
              "<style scoped>\n",
              "    .dataframe tbody tr th:only-of-type {\n",
              "        vertical-align: middle;\n",
              "    }\n",
              "\n",
              "    .dataframe tbody tr th {\n",
              "        vertical-align: top;\n",
              "    }\n",
              "\n",
              "    .dataframe thead th {\n",
              "        text-align: right;\n",
              "    }\n",
              "</style>\n",
              "<table border=\"1\" class=\"dataframe\">\n",
              "  <thead>\n",
              "    <tr style=\"text-align: right;\">\n",
              "      <th></th>\n",
              "      <th>KPH</th>\n",
              "      <th>S1_LARGE</th>\n",
              "      <th>S2_LARGE</th>\n",
              "      <th>S3_LARGE</th>\n",
              "    </tr>\n",
              "  </thead>\n",
              "  <tbody>\n",
              "    <tr>\n",
              "      <th>2259</th>\n",
              "      <td>NaN</td>\n",
              "      <td>25.1</td>\n",
              "      <td>29.2</td>\n",
              "      <td>NaN</td>\n",
              "    </tr>\n",
              "    <tr>\n",
              "      <th>8156</th>\n",
              "      <td>NaN</td>\n",
              "      <td>27.3</td>\n",
              "      <td>29.9</td>\n",
              "      <td>NaN</td>\n",
              "    </tr>\n",
              "    <tr>\n",
              "      <th>8376</th>\n",
              "      <td>NaN</td>\n",
              "      <td>31.7</td>\n",
              "      <td>50.8</td>\n",
              "      <td>NaN</td>\n",
              "    </tr>\n",
              "    <tr>\n",
              "      <th>8411</th>\n",
              "      <td>NaN</td>\n",
              "      <td>173.2</td>\n",
              "      <td>31.2</td>\n",
              "      <td>NaN</td>\n",
              "    </tr>\n",
              "    <tr>\n",
              "      <th>8011</th>\n",
              "      <td>NaN</td>\n",
              "      <td>23.5</td>\n",
              "      <td>27.1</td>\n",
              "      <td>NaN</td>\n",
              "    </tr>\n",
              "  </tbody>\n",
              "</table>\n",
              "</div>"
            ],
            "text/plain": [
              "      KPH  S1_LARGE  S2_LARGE  S3_LARGE\n",
              "2259  NaN      25.1      29.2       NaN\n",
              "8156  NaN      27.3      29.9       NaN\n",
              "8376  NaN      31.7      50.8       NaN\n",
              "8411  NaN     173.2      31.2       NaN\n",
              "8011  NaN      23.5      27.1       NaN"
            ]
          },
          "metadata": {},
          "execution_count": 346
        }
      ]
    },
    {
      "cell_type": "markdown",
      "metadata": {
        "id": "lcwMl_k_4EfU"
      },
      "source": [
        "KPH is missing only when S3_LARGE is missing i.e., the lap was not completed. We will fill the missing values with the **median KPH** as a representation of average KPH."
      ]
    },
    {
      "cell_type": "code",
      "metadata": {
        "id": "q_ks-F4s5lub"
      },
      "source": [
        "train['KPH'].fillna(train['KPH'].median(), inplace=True)\n",
        "test['KPH'].fillna(test['KPH'].median(), inplace=True)"
      ],
      "execution_count": null,
      "outputs": []
    },
    {
      "cell_type": "markdown",
      "metadata": {
        "id": "niI6yhSihhBX"
      },
      "source": [
        "# Final preprocessed train.csv, test.csv"
      ]
    },
    {
      "cell_type": "code",
      "metadata": {
        "id": "uM8W2tC80mBo"
      },
      "source": [
        "train['PITSTOP_TAKEN'] = train.PITSTOP_TAKEN.astype('category').cat.codes\n",
        "test['PITSTOP_TAKEN'] = test.PITSTOP_TAKEN.astype('category').cat.codes"
      ],
      "execution_count": null,
      "outputs": []
    },
    {
      "cell_type": "code",
      "metadata": {
        "colab": {
          "base_uri": "https://localhost:8080/"
        },
        "id": "xAD6jDW30Saj",
        "outputId": "f8db31b4-e29f-4b63-b504-7e91f33e03d5"
      },
      "source": [
        "test.dtypes"
      ],
      "execution_count": null,
      "outputs": [
        {
          "output_type": "execute_result",
          "data": {
            "text/plain": [
              "CAR_NUMBER                        int8\n",
              "LAP_NUMBER                       int64\n",
              "LAP_TIME                       float64\n",
              "LAP_IMPROVEMENT                   int8\n",
              "CROSSING_FINISH_LINE_IN_PIT       int8\n",
              "S1_IMPROVEMENT                    int8\n",
              "S2_IMPROVEMENT                    int8\n",
              "S3_IMPROVEMENT                    int8\n",
              "KPH                            float64\n",
              "S1_LARGE                       float64\n",
              "S2_LARGE                       float64\n",
              "S3_LARGE                       float64\n",
              "DRIVER_NAME                       int8\n",
              "PIT_TIME                       float64\n",
              "TEAM                              int8\n",
              "LOCATION                          int8\n",
              "EVENT                             int8\n",
              "PITSTOP_TAKEN                     int8\n",
              "EVENT_TYPE                        int8\n",
              "dtype: object"
            ]
          },
          "metadata": {},
          "execution_count": 349
        }
      ]
    },
    {
      "cell_type": "code",
      "metadata": {
        "id": "JUNkwXICkuIA"
      },
      "source": [
        "test.drop(['LAP_TIME'], axis=1, inplace=True)"
      ],
      "execution_count": null,
      "outputs": []
    },
    {
      "cell_type": "code",
      "metadata": {
        "id": "8qXDf7Uk1nab"
      },
      "source": [
        "train.to_csv('proc_train.csv', index=False)\n",
        "test.to_csv('proc_test.csv', index=False)"
      ],
      "execution_count": null,
      "outputs": []
    },
    {
      "cell_type": "markdown",
      "metadata": {
        "id": "E9zg6UfE7ik_"
      },
      "source": [
        "# Data Exploration: train_weather.csv, test_weather.csv"
      ]
    },
    {
      "cell_type": "markdown",
      "metadata": {
        "id": "7Z3wI49I8rfK"
      },
      "source": [
        "The first question we need to consider is: **do we need the weather data to predict laps which have already occurred?**\n",
        "\n",
        "The **weather conditions are an important factor** in predicting the expected lap time. For instance, humid air causes cars to create less downforce which would affect the efficiency of the car throughtout the lap and we would expect a slower lap time.\n",
        "\n",
        "However, **we already have other data that would be recorded after the lap has finished**, such as KPH over the lap. This creates the possibility that the real-time data i.e., weather data might be rendered less useful.  \n",
        "\n",
        "To handle this we can maintain two datasets to train different models: \n",
        "1. preprocessed version of train/test.csv\n",
        "2. preprocessed version of train/test.csv aggregated with weather data  \n",
        "\n",
        "First we need to check if the weather data will be useful at all."
      ]
    },
    {
      "cell_type": "code",
      "metadata": {
        "colab": {
          "base_uri": "https://localhost:8080/",
          "height": 206
        },
        "id": "jgwi_fYM_bX2",
        "outputId": "3466c84f-c744-4bf1-a8a5-41bd3056eed3"
      },
      "source": [
        "train_weather.sample(5)"
      ],
      "execution_count": null,
      "outputs": [
        {
          "output_type": "execute_result",
          "data": {
            "text/html": [
              "<div>\n",
              "<style scoped>\n",
              "    .dataframe tbody tr th:only-of-type {\n",
              "        vertical-align: middle;\n",
              "    }\n",
              "\n",
              "    .dataframe tbody tr th {\n",
              "        vertical-align: top;\n",
              "    }\n",
              "\n",
              "    .dataframe thead th {\n",
              "        text-align: right;\n",
              "    }\n",
              "</style>\n",
              "<table border=\"1\" class=\"dataframe\">\n",
              "  <thead>\n",
              "    <tr style=\"text-align: right;\">\n",
              "      <th></th>\n",
              "      <th>TIME_UTC_SECONDS</th>\n",
              "      <th>TIME_UTC_STR</th>\n",
              "      <th>AIR_TEMP</th>\n",
              "      <th>TRACK_TEMP</th>\n",
              "      <th>HUMIDITY</th>\n",
              "      <th>PRESSURE</th>\n",
              "      <th>WIND_SPEED</th>\n",
              "      <th>WIND_DIRECTION</th>\n",
              "      <th>RAIN</th>\n",
              "      <th>LOCATION</th>\n",
              "      <th>EVENT</th>\n",
              "    </tr>\n",
              "  </thead>\n",
              "  <tbody>\n",
              "    <tr>\n",
              "      <th>167</th>\n",
              "      <td>1619331219</td>\n",
              "      <td>25/04/21 6:13</td>\n",
              "      <td>12.2778</td>\n",
              "      <td>11.9</td>\n",
              "      <td>92</td>\n",
              "      <td>992.923</td>\n",
              "      <td>0</td>\n",
              "      <td>332</td>\n",
              "      <td>-1</td>\n",
              "      <td>Location 3</td>\n",
              "      <td>Free Practice 3</td>\n",
              "    </tr>\n",
              "    <tr>\n",
              "      <th>577</th>\n",
              "      <td>1624122142</td>\n",
              "      <td>19/06/21 17:02</td>\n",
              "      <td>1,98,333</td>\n",
              "      <td>39,4</td>\n",
              "      <td>72</td>\n",
              "      <td>7,75,619</td>\n",
              "      <td>1,06,093</td>\n",
              "      <td>175</td>\n",
              "      <td>-1</td>\n",
              "      <td>Location 5</td>\n",
              "      <td>Qualifying Group 1</td>\n",
              "    </tr>\n",
              "    <tr>\n",
              "      <th>755</th>\n",
              "      <td>1614338781</td>\n",
              "      <td>26/02/21 11:26</td>\n",
              "      <td>20.9444</td>\n",
              "      <td>34.1</td>\n",
              "      <td>35</td>\n",
              "      <td>937.183</td>\n",
              "      <td>2.12187</td>\n",
              "      <td>306</td>\n",
              "      <td>-1</td>\n",
              "      <td>Location 1</td>\n",
              "      <td>Free Practice 2</td>\n",
              "    </tr>\n",
              "    <tr>\n",
              "      <th>804</th>\n",
              "      <td>1614268743</td>\n",
              "      <td>25/02/21 15:59</td>\n",
              "      <td>17.2778</td>\n",
              "      <td>19</td>\n",
              "      <td>45</td>\n",
              "      <td>937.454</td>\n",
              "      <td>4.24374</td>\n",
              "      <td>285</td>\n",
              "      <td>-1</td>\n",
              "      <td>Location 1</td>\n",
              "      <td>Free Practice 1</td>\n",
              "    </tr>\n",
              "    <tr>\n",
              "      <th>390</th>\n",
              "      <td>1627056402</td>\n",
              "      <td>23/07/21 16:06</td>\n",
              "      <td>20,85</td>\n",
              "      <td>24</td>\n",
              "      <td>65,39</td>\n",
              "      <td>1014,93</td>\n",
              "      <td>21,84</td>\n",
              "      <td>9</td>\n",
              "      <td>0</td>\n",
              "      <td>Location 7</td>\n",
              "      <td>Free Practice 1</td>\n",
              "    </tr>\n",
              "  </tbody>\n",
              "</table>\n",
              "</div>"
            ],
            "text/plain": [
              "     TIME_UTC_SECONDS    TIME_UTC_STR  ...    LOCATION               EVENT\n",
              "167        1619331219   25/04/21 6:13  ...  Location 3     Free Practice 3\n",
              "577        1624122142  19/06/21 17:02  ...  Location 5  Qualifying Group 1\n",
              "755        1614338781  26/02/21 11:26  ...  Location 1     Free Practice 2\n",
              "804        1614268743  25/02/21 15:59  ...  Location 1     Free Practice 1\n",
              "390        1627056402  23/07/21 16:06  ...  Location 7     Free Practice 1\n",
              "\n",
              "[5 rows x 11 columns]"
            ]
          },
          "metadata": {},
          "execution_count": 91
        }
      ]
    },
    {
      "cell_type": "code",
      "metadata": {
        "colab": {
          "base_uri": "https://localhost:8080/",
          "height": 206
        },
        "id": "1Z2Nkn_L_eTD",
        "outputId": "e57fcc6f-9428-420c-c8cd-f2c96278fbb7"
      },
      "source": [
        "test_weather.sample(5)"
      ],
      "execution_count": null,
      "outputs": [
        {
          "output_type": "execute_result",
          "data": {
            "text/html": [
              "<div>\n",
              "<style scoped>\n",
              "    .dataframe tbody tr th:only-of-type {\n",
              "        vertical-align: middle;\n",
              "    }\n",
              "\n",
              "    .dataframe tbody tr th {\n",
              "        vertical-align: top;\n",
              "    }\n",
              "\n",
              "    .dataframe thead th {\n",
              "        text-align: right;\n",
              "    }\n",
              "</style>\n",
              "<table border=\"1\" class=\"dataframe\">\n",
              "  <thead>\n",
              "    <tr style=\"text-align: right;\">\n",
              "      <th></th>\n",
              "      <th>TIME_UTC_SECONDS</th>\n",
              "      <th>TIME_UTC_STR</th>\n",
              "      <th>AIR_TEMP</th>\n",
              "      <th>TRACK_TEMP</th>\n",
              "      <th>HUMIDITY</th>\n",
              "      <th>PRESSURE</th>\n",
              "      <th>WIND_SPEED</th>\n",
              "      <th>WIND_DIRECTION</th>\n",
              "      <th>RAIN</th>\n",
              "      <th>LOCATION</th>\n",
              "      <th>EVENTS</th>\n",
              "    </tr>\n",
              "  </thead>\n",
              "  <tbody>\n",
              "    <tr>\n",
              "      <th>4</th>\n",
              "      <td>1628921063</td>\n",
              "      <td>14/08/21 6:04</td>\n",
              "      <td>20,27</td>\n",
              "      <td>25,1</td>\n",
              "      <td>64,14</td>\n",
              "      <td>1016,5</td>\n",
              "      <td>11,28</td>\n",
              "      <td>204</td>\n",
              "      <td>0</td>\n",
              "      <td>Location 8</td>\n",
              "      <td>Free Practice 2</td>\n",
              "    </tr>\n",
              "    <tr>\n",
              "      <th>39</th>\n",
              "      <td>1628867157</td>\n",
              "      <td>13/08/21 15:05</td>\n",
              "      <td>29,81</td>\n",
              "      <td>37,8</td>\n",
              "      <td>39,26</td>\n",
              "      <td>1014,06</td>\n",
              "      <td>5,63</td>\n",
              "      <td>222</td>\n",
              "      <td>0</td>\n",
              "      <td>Location 8</td>\n",
              "      <td>Free Practice 1</td>\n",
              "    </tr>\n",
              "    <tr>\n",
              "      <th>75</th>\n",
              "      <td>1628869318</td>\n",
              "      <td>13/08/21 15:41</td>\n",
              "      <td>29,47</td>\n",
              "      <td>35,4</td>\n",
              "      <td>39,27</td>\n",
              "      <td>1013,92</td>\n",
              "      <td>12,02</td>\n",
              "      <td>214</td>\n",
              "      <td>0</td>\n",
              "      <td>Location 8</td>\n",
              "      <td>Free Practice 1</td>\n",
              "    </tr>\n",
              "    <tr>\n",
              "      <th>139</th>\n",
              "      <td>1629008049</td>\n",
              "      <td>15/08/21 6:14</td>\n",
              "      <td>20,02</td>\n",
              "      <td>24,6</td>\n",
              "      <td>63,39</td>\n",
              "      <td>1011,22</td>\n",
              "      <td>6,65</td>\n",
              "      <td>51</td>\n",
              "      <td>0</td>\n",
              "      <td>Location 8</td>\n",
              "      <td>Free Practice 1</td>\n",
              "    </tr>\n",
              "    <tr>\n",
              "      <th>7</th>\n",
              "      <td>1628921243</td>\n",
              "      <td>14/08/21 6:07</td>\n",
              "      <td>20,14</td>\n",
              "      <td>25</td>\n",
              "      <td>64,39</td>\n",
              "      <td>1016,49</td>\n",
              "      <td>7,58</td>\n",
              "      <td>207</td>\n",
              "      <td>0</td>\n",
              "      <td>Location 8</td>\n",
              "      <td>Free Practice 2</td>\n",
              "    </tr>\n",
              "  </tbody>\n",
              "</table>\n",
              "</div>"
            ],
            "text/plain": [
              "     TIME_UTC_SECONDS    TIME_UTC_STR  ...    LOCATION           EVENTS\n",
              "4          1628921063   14/08/21 6:04  ...  Location 8  Free Practice 2\n",
              "39         1628867157  13/08/21 15:05  ...  Location 8  Free Practice 1\n",
              "75         1628869318  13/08/21 15:41  ...  Location 8  Free Practice 1\n",
              "139        1629008049   15/08/21 6:14  ...  Location 8  Free Practice 1\n",
              "7          1628921243   14/08/21 6:07  ...  Location 8  Free Practice 2\n",
              "\n",
              "[5 rows x 11 columns]"
            ]
          },
          "metadata": {},
          "execution_count": 92
        }
      ]
    }
  ]
}