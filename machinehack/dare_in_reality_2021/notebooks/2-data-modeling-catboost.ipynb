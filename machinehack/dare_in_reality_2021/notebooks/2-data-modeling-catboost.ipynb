{
  "nbformat": 4,
  "nbformat_minor": 0,
  "metadata": {
    "colab": {
      "name": "[MH] DiR2021: Data Modeling",
      "provenance": []
    },
    "kernelspec": {
      "name": "python3",
      "display_name": "Python 3"
    },
    "language_info": {
      "name": "python"
    },
    "accelerator": "GPU"
  },
  "cells": [
    {
      "cell_type": "markdown",
      "metadata": {
        "id": "N_7DD730Msvn"
      },
      "source": [
        "### Imports"
      ]
    },
    {
      "cell_type": "code",
      "metadata": {
        "id": "MiaNVCxOIIJJ"
      },
      "source": [
        "ptrain_url = 'https://raw.githubusercontent.com/sidt-ai/MH-hackathons/main/dare_in_reality_2021/data/processed/proc_train.csv'\n",
        "ptest_url = 'https://raw.githubusercontent.com/sidt-ai/MH-hackathons/main/dare_in_reality_2021/data/processed/proc_test.csv'\n",
        "submission_url = 'https://raw.githubusercontent.com/sidt-ai/MH-hackathons/main/dare_in_reality_2021/data/raw/submission.csv'"
      ],
      "execution_count": null,
      "outputs": []
    },
    {
      "cell_type": "code",
      "metadata": {
        "colab": {
          "base_uri": "https://localhost:8080/"
        },
        "id": "s7rXqdJiLXxK",
        "outputId": "95e101cf-c3ac-404c-ef46-ed963c2a4345"
      },
      "source": [
        "!pip install --quiet optuna"
      ],
      "execution_count": null,
      "outputs": [
        {
          "output_type": "stream",
          "name": "stdout",
          "text": [
            "\u001b[K     |████████████████████████████████| 308 kB 5.4 MB/s \n",
            "\u001b[K     |████████████████████████████████| 80 kB 6.2 MB/s \n",
            "\u001b[K     |████████████████████████████████| 209 kB 28.4 MB/s \n",
            "\u001b[K     |████████████████████████████████| 75 kB 2.6 MB/s \n",
            "\u001b[K     |████████████████████████████████| 49 kB 4.3 MB/s \n",
            "\u001b[K     |████████████████████████████████| 112 kB 27.9 MB/s \n",
            "\u001b[K     |████████████████████████████████| 149 kB 29.0 MB/s \n",
            "\u001b[?25h  Building wheel for pyperclip (setup.py) ... \u001b[?25l\u001b[?25hdone\n"
          ]
        }
      ]
    },
    {
      "cell_type": "code",
      "metadata": {
        "colab": {
          "base_uri": "https://localhost:8080/"
        },
        "id": "M9e6JwAjV1aI",
        "outputId": "6bdc2bee-d9e4-4270-ad87-c2a4d080b1bf"
      },
      "source": [
        "!pip install --quiet catboost"
      ],
      "execution_count": null,
      "outputs": [
        {
          "output_type": "stream",
          "name": "stdout",
          "text": [
            "\u001b[K     |████████████████████████████████| 76.3 MB 36 kB/s \n",
            "\u001b[?25h"
          ]
        }
      ]
    },
    {
      "cell_type": "code",
      "metadata": {
        "id": "7ix2gevAJR7Q"
      },
      "source": [
        "import time\n",
        "import warnings\n",
        "warnings.filterwarnings('ignore')\n",
        "\n",
        "import pandas as pd\n",
        "import numpy as np\n",
        "\n",
        "from catboost import CatBoostRegressor\n",
        "\n",
        "import optuna\n",
        "from optuna.samplers import TPESampler\n",
        "\n",
        "from sklearn.model_selection import KFold\n",
        "from sklearn.model_selection import train_test_split\n",
        "from sklearn.metrics import mean_squared_log_error\n",
        "\n",
        "N_SPLITS = 5\n",
        "SEED = 2311"
      ],
      "execution_count": null,
      "outputs": []
    },
    {
      "cell_type": "markdown",
      "metadata": {
        "id": "itbxY3OSenlj"
      },
      "source": [
        "# Model 1 - CatBoost, no weather data [Public LB - ]"
      ]
    },
    {
      "cell_type": "code",
      "metadata": {
        "id": "ftMj8kZQLF-x"
      },
      "source": [
        "ptrain = pd.read_csv(ptrain_url)\n",
        "ptest = pd.read_csv(ptest_url)"
      ],
      "execution_count": null,
      "outputs": []
    },
    {
      "cell_type": "markdown",
      "metadata": {
        "id": "nvqv2dGYMmHe"
      },
      "source": [
        "### Creating Folds for Cross-validation"
      ]
    },
    {
      "cell_type": "code",
      "metadata": {
        "id": "A8PZqx6wLptg"
      },
      "source": [
        "ptrain['fold'] = -1\n",
        "\n",
        "kf = KFold(n_splits=N_SPLITS, shuffle=True, random_state=SEED)\n",
        "\n",
        "for fold, (_, val_idx) in enumerate(kf.split(X=ptrain)):\n",
        "  ptrain.loc[val_idx, 'fold'] = fold"
      ],
      "execution_count": null,
      "outputs": []
    },
    {
      "cell_type": "code",
      "metadata": {
        "colab": {
          "base_uri": "https://localhost:8080/"
        },
        "id": "GD6vIwgNrrbs",
        "outputId": "fecd967f-985c-4a29-89ec-4a0407e466c0"
      },
      "source": [
        "ptrain.shape[0], ptest.shape[0]"
      ],
      "execution_count": null,
      "outputs": [
        {
          "output_type": "execute_result",
          "data": {
            "text/plain": [
              "(10054, 420)"
            ]
          },
          "metadata": {},
          "execution_count": 8
        }
      ]
    },
    {
      "cell_type": "code",
      "metadata": {
        "colab": {
          "base_uri": "https://localhost:8080/"
        },
        "id": "4NPaLZEbrUGq",
        "outputId": "69dd0560-a076-4c1f-91a8-52fd151aadc7"
      },
      "source": [
        "ptrain.columns"
      ],
      "execution_count": null,
      "outputs": [
        {
          "output_type": "execute_result",
          "data": {
            "text/plain": [
              "Index(['CAR_NUMBER', 'LAP_NUMBER', 'LAP_TIME', 'LAP_IMPROVEMENT',\n",
              "       'CROSSING_FINISH_LINE_IN_PIT', 'S1_IMPROVEMENT', 'S2_IMPROVEMENT',\n",
              "       'S3_IMPROVEMENT', 'KPH', 'S1_LARGE', 'S2_LARGE', 'S3_LARGE',\n",
              "       'DRIVER_NAME', 'PIT_TIME', 'TEAM', 'LOCATION', 'EVENT', 'PITSTOP_TAKEN',\n",
              "       'EVENT_TYPE', 'fold'],\n",
              "      dtype='object')"
            ]
          },
          "metadata": {},
          "execution_count": 7
        }
      ]
    },
    {
      "cell_type": "code",
      "metadata": {
        "id": "NoMEwVrYL5ya"
      },
      "source": [
        "features = [f for f in ptrain.columns if f not in ('LAP_TIME', 'fold')]\n",
        "cat_features = [f for f in features if f not in ('KPH', 'PIT_TIME', 'S1_LARGE', 'S2_LARGE', 'S3_LARGE')]"
      ],
      "execution_count": null,
      "outputs": []
    },
    {
      "cell_type": "markdown",
      "metadata": {
        "id": "VOMWB_g6N01B"
      },
      "source": [
        "### Hyperparameter tuning using Optuna"
      ]
    },
    {
      "cell_type": "code",
      "metadata": {
        "id": "2ORbsZIrNZPB"
      },
      "source": [
        "xtrain, xval, ytrain, yval = train_test_split(ptrain[features], ptrain.LAP_TIME,\n",
        "                                              test_size=0.2, random_state=SEED)"
      ],
      "execution_count": null,
      "outputs": []
    },
    {
      "cell_type": "code",
      "metadata": {
        "id": "wxmjEDxBOOXr"
      },
      "source": [
        "base_params = {\n",
        "    'iterations': 5000,\n",
        "    'loss_function': 'RMSE',\n",
        "    'eval_metric': 'RMSE',\n",
        "    'score_function': 'L2',\n",
        "    'task_type': 'GPU',\n",
        "    'cat_features': cat_features,\n",
        "    'use_best_model': True,\n",
        "    'random_seed': SEED\n",
        "}"
      ],
      "execution_count": null,
      "outputs": []
    },
    {
      "cell_type": "code",
      "metadata": {
        "id": "nuTR5WarPPki"
      },
      "source": [
        "def objective(trial, xtrain, ytrain, xval, yval, base_params):\n",
        "\n",
        "    param_grid = {\n",
        "        'learning_rate': trial.suggest_float('learning_rate', 0.01, 0.1),\n",
        "        'depth': trial.suggest_int('depth', 3, 10),\n",
        "        'l2_leaf_reg': trial.suggest_uniform('l2_leaf_reg', 0.1, 10),\n",
        "        'bootstrap_type': trial.suggest_categorical('bootstrap_type', \n",
        "                                                    ['Bayesian', 'Poisson', 'No']),\n",
        "        'grow_policy': trial.suggest_categorical('grow_policy', \n",
        "                                                 ['SymmetricTree', 'Lossguide'])\n",
        "    }\n",
        "    \n",
        "    model = CatBoostRegressor(**base_params, **param_grid)\n",
        "    \n",
        "    model.fit(\n",
        "        xtrain, ytrain,\n",
        "        eval_set=(xval, yval),\n",
        "        early_stopping_rounds=100,\n",
        "        verbose_eval=100\n",
        "    )\n",
        "    \n",
        "    predictions = model.predict(xval)\n",
        "    return mean_squared_log_error(yval, predictions, squared=False)"
      ],
      "execution_count": null,
      "outputs": []
    },
    {
      "cell_type": "code",
      "metadata": {
        "id": "KkQ2AkJuQNxG",
        "colab": {
          "base_uri": "https://localhost:8080/"
        },
        "outputId": "e80ad5c7-b62d-4120-b60f-e586d9d40828"
      },
      "source": [
        "%%time\n",
        "study = optuna.create_study(sampler=TPESampler(seed=SEED), \n",
        "                            direction='minimize', \n",
        "                            study_name='dir2021_catboost')\n",
        "\n",
        "study.optimize(\n",
        "    lambda trial: objective(trial, xtrain, ytrain, xval, yval, base_params), \n",
        "    n_trials=50\n",
        ")"
      ],
      "execution_count": null,
      "outputs": [
        {
          "output_type": "stream",
          "name": "stderr",
          "text": [
            "\u001b[32m[I 2021-11-22 12:47:01,579]\u001b[0m A new study created in memory with name: dir2021_catboost\u001b[0m\n"
          ]
        },
        {
          "output_type": "stream",
          "name": "stdout",
          "text": [
            "0:\tlearn: 23.3019442\ttest: 23.9740440\tbest: 23.9740440 (0)\ttotal: 43.7ms\tremaining: 3m 38s\n",
            "100:\tlearn: 21.9519980\ttest: 23.2765798\tbest: 23.2260595 (64)\ttotal: 3.25s\tremaining: 2m 37s\n",
            "bestTest = 23.22605947\n",
            "bestIteration = 64\n",
            "Shrink model to first 65 iterations.\n"
          ]
        },
        {
          "output_type": "stream",
          "name": "stderr",
          "text": [
            "\u001b[32m[I 2021-11-22 12:47:09,288]\u001b[0m Trial 0 finished with value: 0.21793188570186026 and parameters: {'learning_rate': 0.03894082102082652, 'depth': 9, 'l2_leaf_reg': 2.2658391209721263, 'bootstrap_type': 'No', 'grow_policy': 'Lossguide'}. Best is trial 0 with value: 0.21793188570186026.\u001b[0m\n"
          ]
        },
        {
          "output_type": "stream",
          "name": "stdout",
          "text": [
            "0:\tlearn: 23.2346375\ttest: 23.9138535\tbest: 23.9138535 (0)\ttotal: 69.8ms\tremaining: 5m 48s\n",
            "100:\tlearn: 21.4161533\ttest: 23.2762073\tbest: 23.2197133 (30)\ttotal: 5.55s\tremaining: 4m 29s\n",
            "bestTest = 23.21971327\n",
            "bestIteration = 30\n",
            "Shrink model to first 31 iterations.\n"
          ]
        },
        {
          "output_type": "stream",
          "name": "stderr",
          "text": [
            "\u001b[32m[I 2021-11-22 12:47:18,544]\u001b[0m Trial 1 finished with value: 0.2177702984992022 and parameters: {'learning_rate': 0.07699736160829906, 'depth': 7, 'l2_leaf_reg': 0.6319937645727293, 'bootstrap_type': 'No', 'grow_policy': 'SymmetricTree'}. Best is trial 1 with value: 0.2177702984992022.\u001b[0m\n"
          ]
        },
        {
          "output_type": "stream",
          "name": "stdout",
          "text": [
            "0:\tlearn: 23.3391562\ttest: 24.0057567\tbest: 24.0057567 (0)\ttotal: 65.7ms\tremaining: 5m 28s\n",
            "100:\tlearn: 22.0957074\ttest: 23.2206234\tbest: 23.2191846 (97)\ttotal: 6.19s\tremaining: 5m\n",
            "200:\tlearn: 21.7300916\ttest: 23.2514550\tbest: 23.2184604 (119)\ttotal: 12.7s\tremaining: 5m 2s\n",
            "bestTest = 23.21846043\n",
            "bestIteration = 119\n",
            "Shrink model to first 120 iterations.\n"
          ]
        },
        {
          "output_type": "stream",
          "name": "stderr",
          "text": [
            "\u001b[32m[I 2021-11-22 12:47:34,306]\u001b[0m Trial 2 finished with value: 0.21781781376612536 and parameters: {'learning_rate': 0.020661640053029007, 'depth': 8, 'l2_leaf_reg': 3.612911913186504, 'bootstrap_type': 'No', 'grow_policy': 'SymmetricTree'}. Best is trial 1 with value: 0.2177702984992022.\u001b[0m\n"
          ]
        },
        {
          "output_type": "stream",
          "name": "stdout",
          "text": [
            "0:\tlearn: 23.3472242\ttest: 24.0132037\tbest: 24.0132037 (0)\ttotal: 37.4ms\tremaining: 3m 7s\n",
            "100:\tlearn: 22.2565804\ttest: 23.2382933\tbest: 23.2381475 (99)\ttotal: 3.28s\tremaining: 2m 39s\n",
            "200:\tlearn: 22.0100036\ttest: 23.2378386\tbest: 23.2239050 (147)\ttotal: 6.61s\tremaining: 2m 37s\n",
            "bestTest = 23.22390501\n",
            "bestIteration = 147\n",
            "Shrink model to first 148 iterations.\n"
          ]
        },
        {
          "output_type": "stream",
          "name": "stderr",
          "text": [
            "\u001b[32m[I 2021-11-22 12:47:44,120]\u001b[0m Trial 3 finished with value: 0.21786635778316205 and parameters: {'learning_rate': 0.016226283586212614, 'depth': 9, 'l2_leaf_reg': 1.2127855867893356, 'bootstrap_type': 'Poisson', 'grow_policy': 'Lossguide'}. Best is trial 1 with value: 0.2177702984992022.\u001b[0m\n"
          ]
        },
        {
          "output_type": "stream",
          "name": "stdout",
          "text": [
            "0:\tlearn: 23.2998352\ttest: 23.9695854\tbest: 23.9695854 (0)\ttotal: 33.2ms\tremaining: 2m 45s\n",
            "100:\tlearn: 22.0316169\ttest: 23.2508080\tbest: 23.2268208 (56)\ttotal: 2.91s\tremaining: 2m 21s\n",
            "bestTest = 23.22682084\n",
            "bestIteration = 56\n",
            "Shrink model to first 57 iterations.\n"
          ]
        },
        {
          "output_type": "stream",
          "name": "stderr",
          "text": [
            "\u001b[32m[I 2021-11-22 12:47:50,272]\u001b[0m Trial 4 finished with value: 0.21796099712264555 and parameters: {'learning_rate': 0.04295002146409108, 'depth': 6, 'l2_leaf_reg': 9.9980076017466, 'bootstrap_type': 'Poisson', 'grow_policy': 'Lossguide'}. Best is trial 1 with value: 0.2177702984992022.\u001b[0m\n"
          ]
        },
        {
          "output_type": "stream",
          "name": "stdout",
          "text": [
            "0:\tlearn: 23.2037931\ttest: 23.8950184\tbest: 23.8950184 (0)\ttotal: 82.6ms\tremaining: 6m 52s\n",
            "100:\tlearn: 19.4371958\ttest: 23.4575857\tbest: 23.2337737 (18)\ttotal: 7.95s\tremaining: 6m 25s\n",
            "bestTest = 23.23377374\n",
            "bestIteration = 18\n",
            "Shrink model to first 19 iterations.\n"
          ]
        },
        {
          "output_type": "stream",
          "name": "stderr",
          "text": [
            "\u001b[32m[I 2021-11-22 12:48:01,074]\u001b[0m Trial 5 finished with value: 0.2180466505420513 and parameters: {'learning_rate': 0.09867261986874484, 'depth': 10, 'l2_leaf_reg': 8.584574407018797, 'bootstrap_type': 'Bayesian', 'grow_policy': 'SymmetricTree'}. Best is trial 1 with value: 0.2177702984992022.\u001b[0m\n"
          ]
        },
        {
          "output_type": "stream",
          "name": "stdout",
          "text": [
            "0:\tlearn: 23.3382519\ttest: 24.0049566\tbest: 24.0049566 (0)\ttotal: 41.5ms\tremaining: 3m 27s\n",
            "100:\tlearn: 22.3028371\ttest: 23.2128231\tbest: 23.2128231 (100)\ttotal: 4.14s\tremaining: 3m 20s\n",
            "200:\tlearn: 22.1257652\ttest: 23.2200599\tbest: 23.2065751 (125)\ttotal: 8.63s\tremaining: 3m 25s\n",
            "bestTest = 23.20657508\n",
            "bestIteration = 125\n",
            "Shrink model to first 126 iterations.\n"
          ]
        },
        {
          "output_type": "stream",
          "name": "stderr",
          "text": [
            "\u001b[32m[I 2021-11-22 12:48:12,703]\u001b[0m Trial 6 finished with value: 0.21767092383840167 and parameters: {'learning_rate': 0.02093662866307587, 'depth': 6, 'l2_leaf_reg': 4.363469594884588, 'bootstrap_type': 'No', 'grow_policy': 'SymmetricTree'}. Best is trial 6 with value: 0.21767092383840167.\u001b[0m\n"
          ]
        },
        {
          "output_type": "stream",
          "name": "stdout",
          "text": [
            "0:\tlearn: 23.2171741\ttest: 23.8911981\tbest: 23.8911981 (0)\ttotal: 14.1ms\tremaining: 1m 10s\n",
            "100:\tlearn: 22.2133137\ttest: 23.2543299\tbest: 23.2108468 (26)\ttotal: 1.23s\tremaining: 59.5s\n",
            "bestTest = 23.21084684\n",
            "bestIteration = 26\n",
            "Shrink model to first 27 iterations.\n"
          ]
        },
        {
          "output_type": "stream",
          "name": "stderr",
          "text": [
            "\u001b[32m[I 2021-11-22 12:48:15,793]\u001b[0m Trial 7 finished with value: 0.21777720327173797 and parameters: {'learning_rate': 0.09240529928476354, 'depth': 3, 'l2_leaf_reg': 7.809753030348231, 'bootstrap_type': 'No', 'grow_policy': 'Lossguide'}. Best is trial 6 with value: 0.21767092383840167.\u001b[0m\n"
          ]
        },
        {
          "output_type": "stream",
          "name": "stdout",
          "text": [
            "0:\tlearn: 23.2311616\ttest: 23.9043461\tbest: 23.9043461 (0)\ttotal: 21.8ms\tremaining: 1m 49s\n",
            "100:\tlearn: 22.0660298\ttest: 23.2499231\tbest: 23.2119609 (30)\ttotal: 1.84s\tremaining: 1m 29s\n",
            "bestTest = 23.21196086\n",
            "bestIteration = 30\n",
            "Shrink model to first 31 iterations.\n"
          ]
        },
        {
          "output_type": "stream",
          "name": "stderr",
          "text": [
            "\u001b[32m[I 2021-11-22 12:48:19,702]\u001b[0m Trial 8 finished with value: 0.2178525409243414 and parameters: {'learning_rate': 0.08452193895201393, 'depth': 4, 'l2_leaf_reg': 7.135166719428352, 'bootstrap_type': 'Poisson', 'grow_policy': 'Lossguide'}. Best is trial 6 with value: 0.21767092383840167.\u001b[0m\n"
          ]
        },
        {
          "output_type": "stream",
          "name": "stdout",
          "text": [
            "0:\tlearn: 23.3478459\ttest: 24.0118175\tbest: 24.0118175 (0)\ttotal: 37.4ms\tremaining: 3m 6s\n",
            "100:\tlearn: 22.4078438\ttest: 23.2283301\tbest: 23.2283301 (100)\ttotal: 3.5s\tremaining: 2m 49s\n",
            "200:\tlearn: 22.2916563\ttest: 23.2168126\tbest: 23.2147898 (156)\ttotal: 7.08s\tremaining: 2m 49s\n",
            "bestTest = 23.21478983\n",
            "bestIteration = 156\n",
            "Shrink model to first 157 iterations.\n"
          ]
        },
        {
          "output_type": "stream",
          "name": "stderr",
          "text": [
            "\u001b[32m[I 2021-11-22 12:48:30,323]\u001b[0m Trial 9 finished with value: 0.21777778023672945 and parameters: {'learning_rate': 0.016787558082004, 'depth': 5, 'l2_leaf_reg': 2.0441229515753725, 'bootstrap_type': 'Bayesian', 'grow_policy': 'SymmetricTree'}. Best is trial 6 with value: 0.21767092383840167.\u001b[0m\n"
          ]
        },
        {
          "output_type": "stream",
          "name": "stdout",
          "text": [
            "0:\tlearn: 23.2593679\ttest: 23.9397540\tbest: 23.9397540 (0)\ttotal: 44.6ms\tremaining: 3m 42s\n",
            "100:\tlearn: 21.9749088\ttest: 23.2404758\tbest: 23.2149840 (37)\ttotal: 4.19s\tremaining: 3m 23s\n",
            "bestTest = 23.21498395\n",
            "bestIteration = 37\n",
            "Shrink model to first 38 iterations.\n"
          ]
        },
        {
          "output_type": "stream",
          "name": "stderr",
          "text": [
            "\u001b[32m[I 2021-11-22 12:48:37,579]\u001b[0m Trial 10 finished with value: 0.2178007104402648 and parameters: {'learning_rate': 0.06494604920974353, 'depth': 6, 'l2_leaf_reg': 5.310049384553956, 'bootstrap_type': 'No', 'grow_policy': 'SymmetricTree'}. Best is trial 6 with value: 0.21767092383840167.\u001b[0m\n"
          ]
        },
        {
          "output_type": "stream",
          "name": "stdout",
          "text": [
            "0:\tlearn: 23.2453774\ttest: 23.9242768\tbest: 23.9242768 (0)\ttotal: 52.3ms\tremaining: 4m 21s\n",
            "100:\tlearn: 21.4679137\ttest: 23.2768375\tbest: 23.2154552 (32)\ttotal: 4.92s\tremaining: 3m 58s\n",
            "bestTest = 23.21545519\n",
            "bestIteration = 32\n",
            "Shrink model to first 33 iterations.\n"
          ]
        },
        {
          "output_type": "stream",
          "name": "stderr",
          "text": [
            "\u001b[32m[I 2021-11-22 12:48:45,490]\u001b[0m Trial 11 finished with value: 0.2177647906712828 and parameters: {'learning_rate': 0.07083218658442009, 'depth': 7, 'l2_leaf_reg': 0.3322915986919206, 'bootstrap_type': 'No', 'grow_policy': 'SymmetricTree'}. Best is trial 6 with value: 0.21767092383840167.\u001b[0m\n"
          ]
        },
        {
          "output_type": "stream",
          "name": "stdout",
          "text": [
            "0:\tlearn: 23.2656827\ttest: 23.9432836\tbest: 23.9432836 (0)\ttotal: 50ms\tremaining: 4m 9s\n",
            "100:\tlearn: 21.8293890\ttest: 23.2565644\tbest: 23.2102711 (42)\ttotal: 5s\tremaining: 4m 2s\n",
            "bestTest = 23.21027107\n",
            "bestIteration = 42\n",
            "Shrink model to first 43 iterations.\n"
          ]
        },
        {
          "output_type": "stream",
          "name": "stderr",
          "text": [
            "\u001b[32m[I 2021-11-22 12:48:54,009]\u001b[0m Trial 12 finished with value: 0.21766951173431645 and parameters: {'learning_rate': 0.05941640059813206, 'depth': 7, 'l2_leaf_reg': 4.711128721088422, 'bootstrap_type': 'No', 'grow_policy': 'SymmetricTree'}. Best is trial 12 with value: 0.21766951173431645.\u001b[0m\n"
          ]
        },
        {
          "output_type": "stream",
          "name": "stdout",
          "text": [
            "0:\tlearn: 23.2796691\ttest: 23.9561151\tbest: 23.9561151 (0)\ttotal: 34.7ms\tremaining: 2m 53s\n",
            "100:\tlearn: 22.1798966\ttest: 23.2298888\tbest: 23.2084539 (51)\ttotal: 3.56s\tremaining: 2m 52s\n",
            "bestTest = 23.20845395\n",
            "bestIteration = 51\n",
            "Shrink model to first 52 iterations.\n"
          ]
        },
        {
          "output_type": "stream",
          "name": "stderr",
          "text": [
            "\u001b[32m[I 2021-11-22 12:49:01,121]\u001b[0m Trial 13 finished with value: 0.21766704303394105 and parameters: {'learning_rate': 0.053741943479585975, 'depth': 5, 'l2_leaf_reg': 5.28886310743216, 'bootstrap_type': 'No', 'grow_policy': 'SymmetricTree'}. Best is trial 13 with value: 0.21766704303394105.\u001b[0m\n"
          ]
        },
        {
          "output_type": "stream",
          "name": "stdout",
          "text": [
            "0:\tlearn: 23.2862400\ttest: 23.9561164\tbest: 23.9561164 (0)\ttotal: 29.7ms\tremaining: 2m 28s\n",
            "100:\tlearn: 22.3087323\ttest: 23.2146225\tbest: 23.2101345 (44)\ttotal: 2.96s\tremaining: 2m 23s\n",
            "bestTest = 23.21013449\n",
            "bestIteration = 44\n",
            "Shrink model to first 45 iterations.\n"
          ]
        },
        {
          "output_type": "stream",
          "name": "stderr",
          "text": [
            "\u001b[32m[I 2021-11-22 12:49:06,951]\u001b[0m Trial 14 finished with value: 0.21771759724876039 and parameters: {'learning_rate': 0.052052694909992654, 'depth': 4, 'l2_leaf_reg': 5.878921481768221, 'bootstrap_type': 'Bayesian', 'grow_policy': 'SymmetricTree'}. Best is trial 13 with value: 0.21766704303394105.\u001b[0m\n"
          ]
        },
        {
          "output_type": "stream",
          "name": "stdout",
          "text": [
            "0:\tlearn: 23.2726917\ttest: 23.9458536\tbest: 23.9458536 (0)\ttotal: 44.3ms\tremaining: 3m 41s\n",
            "100:\tlearn: 22.1499319\ttest: 23.2349228\tbest: 23.2094784 (45)\ttotal: 3.6s\tremaining: 2m 54s\n",
            "bestTest = 23.20947836\n",
            "bestIteration = 45\n",
            "Shrink model to first 46 iterations.\n"
          ]
        },
        {
          "output_type": "stream",
          "name": "stderr",
          "text": [
            "\u001b[32m[I 2021-11-22 12:49:13,623]\u001b[0m Trial 15 finished with value: 0.21771873581637347 and parameters: {'learning_rate': 0.05787127244979044, 'depth': 5, 'l2_leaf_reg': 3.6152844078676454, 'bootstrap_type': 'No', 'grow_policy': 'SymmetricTree'}. Best is trial 13 with value: 0.21766704303394105.\u001b[0m\n"
          ]
        },
        {
          "output_type": "stream",
          "name": "stdout",
          "text": [
            "0:\tlearn: 23.3132851\ttest: 23.9856514\tbest: 23.9856514 (0)\ttotal: 59ms\tremaining: 4m 54s\n",
            "100:\tlearn: 21.9146347\ttest: 23.2470677\tbest: 23.2276638 (76)\ttotal: 5.63s\tremaining: 4m 33s\n",
            "bestTest = 23.22766381\n",
            "bestIteration = 76\n",
            "Shrink model to first 77 iterations.\n"
          ]
        },
        {
          "output_type": "stream",
          "name": "stderr",
          "text": [
            "\u001b[32m[I 2021-11-22 12:49:25,018]\u001b[0m Trial 16 finished with value: 0.2179007184546818 and parameters: {'learning_rate': 0.03430823422831404, 'depth': 8, 'l2_leaf_reg': 6.266459440227877, 'bootstrap_type': 'No', 'grow_policy': 'SymmetricTree'}. Best is trial 13 with value: 0.21766704303394105.\u001b[0m\n"
          ]
        },
        {
          "output_type": "stream",
          "name": "stdout",
          "text": [
            "0:\tlearn: 23.2793914\ttest: 23.9529948\tbest: 23.9529948 (0)\ttotal: 32.1ms\tremaining: 2m 40s\n",
            "100:\tlearn: 22.1717796\ttest: 23.2317498\tbest: 23.2011907 (45)\ttotal: 3.49s\tremaining: 2m 49s\n",
            "bestTest = 23.20119073\n",
            "bestIteration = 45\n",
            "Shrink model to first 46 iterations.\n"
          ]
        },
        {
          "output_type": "stream",
          "name": "stderr",
          "text": [
            "\u001b[32m[I 2021-11-22 12:49:31,569]\u001b[0m Trial 17 finished with value: 0.21765785882067173 and parameters: {'learning_rate': 0.05367848838257187, 'depth': 5, 'l2_leaf_reg': 4.300859520499788, 'bootstrap_type': 'No', 'grow_policy': 'SymmetricTree'}. Best is trial 17 with value: 0.21765785882067173.\u001b[0m\n"
          ]
        },
        {
          "output_type": "stream",
          "name": "stdout",
          "text": [
            "0:\tlearn: 23.2897877\ttest: 23.9584009\tbest: 23.9584009 (0)\ttotal: 19.4ms\tremaining: 1m 37s\n",
            "100:\tlearn: 22.3811114\ttest: 23.2186599\tbest: 23.2098774 (45)\ttotal: 2.08s\tremaining: 1m 40s\n",
            "bestTest = 23.2098774\n",
            "bestIteration = 45\n",
            "Shrink model to first 46 iterations.\n"
          ]
        },
        {
          "output_type": "stream",
          "name": "stderr",
          "text": [
            "\u001b[32m[I 2021-11-22 12:49:36,105]\u001b[0m Trial 18 finished with value: 0.21775521957314148 and parameters: {'learning_rate': 0.049655485040834044, 'depth': 3, 'l2_leaf_reg': 2.9194923524746628, 'bootstrap_type': 'Bayesian', 'grow_policy': 'SymmetricTree'}. Best is trial 17 with value: 0.21765785882067173.\u001b[0m\n"
          ]
        },
        {
          "output_type": "stream",
          "name": "stdout",
          "text": [
            "0:\tlearn: 23.3223882\ttest: 23.9893194\tbest: 23.9893194 (0)\ttotal: 35.7ms\tremaining: 2m 58s\n",
            "100:\tlearn: 22.3130581\ttest: 23.2293925\tbest: 23.2254774 (74)\ttotal: 3.55s\tremaining: 2m 52s\n",
            "bestTest = 23.22547738\n",
            "bestIteration = 74\n",
            "Shrink model to first 75 iterations.\n"
          ]
        },
        {
          "output_type": "stream",
          "name": "stderr",
          "text": [
            "\u001b[32m[I 2021-11-22 12:49:43,861]\u001b[0m Trial 19 finished with value: 0.21790821866471724 and parameters: {'learning_rate': 0.03078187760731355, 'depth': 5, 'l2_leaf_reg': 6.665520046706236, 'bootstrap_type': 'Poisson', 'grow_policy': 'SymmetricTree'}. Best is trial 17 with value: 0.21765785882067173.\u001b[0m\n"
          ]
        },
        {
          "output_type": "stream",
          "name": "stdout",
          "text": [
            "0:\tlearn: 23.2921232\ttest: 23.9648886\tbest: 23.9648886 (0)\ttotal: 26.5ms\tremaining: 2m 12s\n",
            "100:\tlearn: 22.2888158\ttest: 23.2236467\tbest: 23.2065376 (51)\ttotal: 2.82s\tremaining: 2m 16s\n",
            "bestTest = 23.20653758\n",
            "bestIteration = 51\n",
            "Shrink model to first 52 iterations.\n"
          ]
        },
        {
          "output_type": "stream",
          "name": "stderr",
          "text": [
            "\u001b[32m[I 2021-11-22 12:49:49,698]\u001b[0m Trial 20 finished with value: 0.21773028882900616 and parameters: {'learning_rate': 0.047412297909271615, 'depth': 4, 'l2_leaf_reg': 5.3143425469434815, 'bootstrap_type': 'No', 'grow_policy': 'SymmetricTree'}. Best is trial 17 with value: 0.21765785882067173.\u001b[0m\n"
          ]
        },
        {
          "output_type": "stream",
          "name": "stdout",
          "text": [
            "0:\tlearn: 23.2689931\ttest: 23.9438444\tbest: 23.9438444 (0)\ttotal: 31.8ms\tremaining: 2m 38s\n",
            "100:\tlearn: 22.1389814\ttest: 23.2306956\tbest: 23.2107424 (48)\ttotal: 3.54s\tremaining: 2m 51s\n",
            "bestTest = 23.2107424\n",
            "bestIteration = 48\n",
            "Shrink model to first 49 iterations.\n"
          ]
        },
        {
          "output_type": "stream",
          "name": "stderr",
          "text": [
            "\u001b[32m[I 2021-11-22 12:49:56,732]\u001b[0m Trial 21 finished with value: 0.21769136470243694 and parameters: {'learning_rate': 0.059536661489935264, 'depth': 5, 'l2_leaf_reg': 4.501778974893421, 'bootstrap_type': 'No', 'grow_policy': 'SymmetricTree'}. Best is trial 17 with value: 0.21765785882067173.\u001b[0m\n"
          ]
        },
        {
          "output_type": "stream",
          "name": "stdout",
          "text": [
            "0:\tlearn: 23.2526397\ttest: 23.9331711\tbest: 23.9331711 (0)\ttotal: 54.9ms\tremaining: 4m 34s\n",
            "100:\tlearn: 21.7254601\ttest: 23.2934133\tbest: 23.2121416 (35)\ttotal: 5.12s\tremaining: 4m 8s\n",
            "bestTest = 23.21214161\n",
            "bestIteration = 35\n",
            "Shrink model to first 36 iterations.\n"
          ]
        },
        {
          "output_type": "stream",
          "name": "stderr",
          "text": [
            "\u001b[32m[I 2021-11-22 12:50:05,301]\u001b[0m Trial 22 finished with value: 0.21773358097663748 and parameters: {'learning_rate': 0.0663504516845238, 'depth': 7, 'l2_leaf_reg': 3.879667684761717, 'bootstrap_type': 'No', 'grow_policy': 'SymmetricTree'}. Best is trial 17 with value: 0.21765785882067173.\u001b[0m\n"
          ]
        },
        {
          "output_type": "stream",
          "name": "stdout",
          "text": [
            "0:\tlearn: 23.2368527\ttest: 23.9166748\tbest: 23.9166748 (0)\ttotal: 43.5ms\tremaining: 3m 37s\n",
            "100:\tlearn: 21.9009006\ttest: 23.2867238\tbest: 23.2090793 (28)\ttotal: 4.2s\tremaining: 3m 23s\n",
            "bestTest = 23.20907931\n",
            "bestIteration = 28\n",
            "Shrink model to first 29 iterations.\n"
          ]
        },
        {
          "output_type": "stream",
          "name": "stderr",
          "text": [
            "\u001b[32m[I 2021-11-22 12:50:12,289]\u001b[0m Trial 23 finished with value: 0.21774033364545095 and parameters: {'learning_rate': 0.07617403703020481, 'depth': 6, 'l2_leaf_reg': 4.9165213889806845, 'bootstrap_type': 'No', 'grow_policy': 'SymmetricTree'}. Best is trial 17 with value: 0.21765785882067173.\u001b[0m\n"
          ]
        },
        {
          "output_type": "stream",
          "name": "stdout",
          "text": [
            "0:\tlearn: 23.2652726\ttest: 23.9440806\tbest: 23.9440806 (0)\ttotal: 54.7ms\tremaining: 4m 33s\n",
            "100:\tlearn: 21.4287425\ttest: 23.2821483\tbest: 23.2258199 (44)\ttotal: 5.53s\tremaining: 4m 28s\n",
            "bestTest = 23.22581994\n",
            "bestIteration = 44\n",
            "Shrink model to first 45 iterations.\n"
          ]
        },
        {
          "output_type": "stream",
          "name": "stderr",
          "text": [
            "\u001b[32m[I 2021-11-22 12:50:21,824]\u001b[0m Trial 24 finished with value: 0.21783555145037387 and parameters: {'learning_rate': 0.059674332311839315, 'depth': 8, 'l2_leaf_reg': 2.765747619148833, 'bootstrap_type': 'No', 'grow_policy': 'SymmetricTree'}. Best is trial 17 with value: 0.21765785882067173.\u001b[0m\n"
          ]
        },
        {
          "output_type": "stream",
          "name": "stdout",
          "text": [
            "0:\tlearn: 23.2975259\ttest: 23.9695322\tbest: 23.9695322 (0)\ttotal: 31.1ms\tremaining: 2m 35s\n",
            "100:\tlearn: 22.3011786\ttest: 23.2205056\tbest: 23.2050563 (56)\ttotal: 2.78s\tremaining: 2m 14s\n",
            "bestTest = 23.20505633\n",
            "bestIteration = 56\n",
            "Shrink model to first 57 iterations.\n"
          ]
        },
        {
          "output_type": "stream",
          "name": "stderr",
          "text": [
            "\u001b[32m[I 2021-11-22 12:50:27,694]\u001b[0m Trial 25 finished with value: 0.2176914121109813 and parameters: {'learning_rate': 0.04442914776076404, 'depth': 4, 'l2_leaf_reg': 5.795819113862544, 'bootstrap_type': 'No', 'grow_policy': 'SymmetricTree'}. Best is trial 17 with value: 0.21765785882067173.\u001b[0m\n"
          ]
        },
        {
          "output_type": "stream",
          "name": "stdout",
          "text": [
            "0:\tlearn: 23.2808935\ttest: 23.9532919\tbest: 23.9532919 (0)\ttotal: 24.8ms\tremaining: 2m 3s\n",
            "100:\tlearn: 22.0569719\ttest: 23.2838515\tbest: 23.2287797 (52)\ttotal: 2.57s\tremaining: 2m 4s\n",
            "bestTest = 23.22877969\n",
            "bestIteration = 52\n",
            "Shrink model to first 53 iterations.\n"
          ]
        },
        {
          "output_type": "stream",
          "name": "stderr",
          "text": [
            "\u001b[32m[I 2021-11-22 12:50:33,128]\u001b[0m Trial 26 finished with value: 0.21800249332349705 and parameters: {'learning_rate': 0.05369730562116362, 'depth': 5, 'l2_leaf_reg': 7.386942307392442, 'bootstrap_type': 'No', 'grow_policy': 'Lossguide'}. Best is trial 17 with value: 0.21765785882067173.\u001b[0m\n"
          ]
        },
        {
          "output_type": "stream",
          "name": "stdout",
          "text": [
            "0:\tlearn: 23.3189375\ttest: 23.9889178\tbest: 23.9889178 (0)\ttotal: 44.9ms\tremaining: 3m 44s\n",
            "100:\tlearn: 22.0918568\ttest: 23.2138607\tbest: 23.2049947 (82)\ttotal: 4.76s\tremaining: 3m 50s\n",
            "bestTest = 23.20499473\n",
            "bestIteration = 82\n",
            "Shrink model to first 83 iterations.\n"
          ]
        },
        {
          "output_type": "stream",
          "name": "stderr",
          "text": [
            "\u001b[32m[I 2021-11-22 12:50:43,416]\u001b[0m Trial 27 finished with value: 0.21770240654658726 and parameters: {'learning_rate': 0.030868619586531743, 'depth': 7, 'l2_leaf_reg': 4.590460334022424, 'bootstrap_type': 'No', 'grow_policy': 'SymmetricTree'}. Best is trial 17 with value: 0.21765785882067173.\u001b[0m\n"
          ]
        },
        {
          "output_type": "stream",
          "name": "stdout",
          "text": [
            "0:\tlearn: 23.2555149\ttest: 23.9299232\tbest: 23.9299232 (0)\ttotal: 41.4ms\tremaining: 3m 26s\n",
            "100:\tlearn: 21.9229128\ttest: 23.2621631\tbest: 23.2196624 (31)\ttotal: 4.35s\tremaining: 3m 31s\n",
            "bestTest = 23.21966241\n",
            "bestIteration = 31\n",
            "Shrink model to first 32 iterations.\n"
          ]
        },
        {
          "output_type": "stream",
          "name": "stderr",
          "text": [
            "\u001b[32m[I 2021-11-22 12:50:50,955]\u001b[0m Trial 28 finished with value: 0.2177793485637782 and parameters: {'learning_rate': 0.06800817837157139, 'depth': 6, 'l2_leaf_reg': 3.0437516624168035, 'bootstrap_type': 'Bayesian', 'grow_policy': 'SymmetricTree'}. Best is trial 17 with value: 0.21765785882067173.\u001b[0m\n"
          ]
        },
        {
          "output_type": "stream",
          "name": "stdout",
          "text": [
            "0:\tlearn: 23.3036622\ttest: 23.9743720\tbest: 23.9743720 (0)\ttotal: 30.3ms\tremaining: 2m 31s\n",
            "100:\tlearn: 21.9056716\ttest: 23.2607375\tbest: 23.2282070 (52)\ttotal: 3.13s\tremaining: 2m 31s\n",
            "bestTest = 23.22820704\n",
            "bestIteration = 52\n",
            "Shrink model to first 53 iterations.\n"
          ]
        },
        {
          "output_type": "stream",
          "name": "stderr",
          "text": [
            "\u001b[32m[I 2021-11-22 12:50:57,144]\u001b[0m Trial 29 finished with value: 0.2179328976719683 and parameters: {'learning_rate': 0.03986640808508659, 'depth': 9, 'l2_leaf_reg': 1.68867846885753, 'bootstrap_type': 'Poisson', 'grow_policy': 'Lossguide'}. Best is trial 17 with value: 0.21765785882067173.\u001b[0m\n"
          ]
        },
        {
          "output_type": "stream",
          "name": "stdout",
          "text": [
            "0:\tlearn: 23.2675410\ttest: 23.9386985\tbest: 23.9386985 (0)\ttotal: 20.5ms\tremaining: 1m 42s\n",
            "100:\tlearn: 22.3208856\ttest: 23.2303745\tbest: 23.2035187 (36)\ttotal: 2.08s\tremaining: 1m 41s\n",
            "bestTest = 23.20351874\n",
            "bestIteration = 36\n",
            "Shrink model to first 37 iterations.\n"
          ]
        },
        {
          "output_type": "stream",
          "name": "stderr",
          "text": [
            "\u001b[32m[I 2021-11-22 12:51:01,489]\u001b[0m Trial 30 finished with value: 0.21764491858964385 and parameters: {'learning_rate': 0.06197208812117224, 'depth': 3, 'l2_leaf_reg': 3.9458703752193056, 'bootstrap_type': 'No', 'grow_policy': 'SymmetricTree'}. Best is trial 30 with value: 0.21764491858964385.\u001b[0m\n"
          ]
        },
        {
          "output_type": "stream",
          "name": "stdout",
          "text": [
            "0:\tlearn: 23.2661396\ttest: 23.9373976\tbest: 23.9373976 (0)\ttotal: 20.2ms\tremaining: 1m 41s\n",
            "100:\tlearn: 22.3156044\ttest: 23.2274979\tbest: 23.2035978 (36)\ttotal: 2.08s\tremaining: 1m 41s\n",
            "bestTest = 23.20359777\n",
            "bestIteration = 36\n",
            "Shrink model to first 37 iterations.\n"
          ]
        },
        {
          "output_type": "stream",
          "name": "stderr",
          "text": [
            "\u001b[32m[I 2021-11-22 12:51:05,871]\u001b[0m Trial 31 finished with value: 0.21765534638064624 and parameters: {'learning_rate': 0.06280724746684102, 'depth': 3, 'l2_leaf_reg': 4.1305909789806226, 'bootstrap_type': 'No', 'grow_policy': 'SymmetricTree'}. Best is trial 30 with value: 0.21764491858964385.\u001b[0m\n"
          ]
        },
        {
          "output_type": "stream",
          "name": "stdout",
          "text": [
            "0:\tlearn: 23.2464484\ttest: 23.9194685\tbest: 23.9194685 (0)\ttotal: 19.7ms\tremaining: 1m 38s\n",
            "100:\tlearn: 22.2969494\ttest: 23.2315290\tbest: 23.2061291 (31)\ttotal: 2.04s\tremaining: 1m 39s\n",
            "bestTest = 23.20612911\n",
            "bestIteration = 31\n",
            "Shrink model to first 32 iterations.\n"
          ]
        },
        {
          "output_type": "stream",
          "name": "stderr",
          "text": [
            "\u001b[32m[I 2021-11-22 12:51:10,063]\u001b[0m Trial 32 finished with value: 0.21767915615020414 and parameters: {'learning_rate': 0.07421144570926687, 'depth': 3, 'l2_leaf_reg': 3.929030967148743, 'bootstrap_type': 'No', 'grow_policy': 'SymmetricTree'}. Best is trial 30 with value: 0.21764491858964385.\u001b[0m\n"
          ]
        },
        {
          "output_type": "stream",
          "name": "stdout",
          "text": [
            "0:\tlearn: 23.2660568\ttest: 23.9375262\tbest: 23.9375262 (0)\ttotal: 20.2ms\tremaining: 1m 40s\n",
            "100:\tlearn: 22.3194999\ttest: 23.2306461\tbest: 23.2035737 (36)\ttotal: 2.07s\tremaining: 1m 40s\n",
            "bestTest = 23.20357366\n",
            "bestIteration = 36\n",
            "Shrink model to first 37 iterations.\n"
          ]
        },
        {
          "output_type": "stream",
          "name": "stderr",
          "text": [
            "\u001b[32m[I 2021-11-22 12:51:14,349]\u001b[0m Trial 33 finished with value: 0.2176517194294895 and parameters: {'learning_rate': 0.06247896053774924, 'depth': 3, 'l2_leaf_reg': 3.2235472159616316, 'bootstrap_type': 'No', 'grow_policy': 'SymmetricTree'}. Best is trial 30 with value: 0.21764491858964385.\u001b[0m\n"
          ]
        },
        {
          "output_type": "stream",
          "name": "stdout",
          "text": [
            "0:\tlearn: 23.2321437\ttest: 23.9071543\tbest: 23.9071543 (0)\ttotal: 19.6ms\tremaining: 1m 38s\n",
            "100:\tlearn: 22.2862071\ttest: 23.2365546\tbest: 23.2027472 (27)\ttotal: 2.11s\tremaining: 1m 42s\n",
            "bestTest = 23.20274723\n",
            "bestIteration = 27\n",
            "Shrink model to first 28 iterations.\n"
          ]
        },
        {
          "output_type": "stream",
          "name": "stderr",
          "text": [
            "\u001b[32m[I 2021-11-22 12:51:18,507]\u001b[0m Trial 34 finished with value: 0.21764783762914097 and parameters: {'learning_rate': 0.08250786016491857, 'depth': 3, 'l2_leaf_reg': 2.3101846195753, 'bootstrap_type': 'No', 'grow_policy': 'SymmetricTree'}. Best is trial 30 with value: 0.21764491858964385.\u001b[0m\n"
          ]
        },
        {
          "output_type": "stream",
          "name": "stdout",
          "text": [
            "0:\tlearn: 23.2304819\ttest: 23.9055423\tbest: 23.9055423 (0)\ttotal: 17.6ms\tremaining: 1m 27s\n",
            "100:\tlearn: 22.2881527\ttest: 23.2410348\tbest: 23.2060019 (26)\ttotal: 2.14s\tremaining: 1m 43s\n",
            "bestTest = 23.20600188\n",
            "bestIteration = 26\n",
            "Shrink model to first 27 iterations.\n"
          ]
        },
        {
          "output_type": "stream",
          "name": "stderr",
          "text": [
            "\u001b[32m[I 2021-11-22 12:51:22,673]\u001b[0m Trial 35 finished with value: 0.21767608895738305 and parameters: {'learning_rate': 0.08334234780256894, 'depth': 3, 'l2_leaf_reg': 1.2027791364085685, 'bootstrap_type': 'No', 'grow_policy': 'SymmetricTree'}. Best is trial 30 with value: 0.21764491858964385.\u001b[0m\n"
          ]
        },
        {
          "output_type": "stream",
          "name": "stdout",
          "text": [
            "0:\tlearn: 23.2324554\ttest: 23.9062534\tbest: 23.9062534 (0)\ttotal: 11.2ms\tremaining: 55.8s\n",
            "100:\tlearn: 22.2333482\ttest: 23.2488791\tbest: 23.2110879 (29)\ttotal: 1.16s\tremaining: 56.3s\n",
            "bestTest = 23.21108786\n",
            "bestIteration = 29\n",
            "Shrink model to first 30 iterations.\n"
          ]
        },
        {
          "output_type": "stream",
          "name": "stderr",
          "text": [
            "\u001b[32m[I 2021-11-22 12:51:25,646]\u001b[0m Trial 36 finished with value: 0.21773324987366097 and parameters: {'learning_rate': 0.08193762091125148, 'depth': 3, 'l2_leaf_reg': 2.4642685053407063, 'bootstrap_type': 'No', 'grow_policy': 'Lossguide'}. Best is trial 30 with value: 0.21764491858964385.\u001b[0m\n"
          ]
        },
        {
          "output_type": "stream",
          "name": "stdout",
          "text": [
            "0:\tlearn: 23.2186320\ttest: 23.8960875\tbest: 23.8960875 (0)\ttotal: 27ms\tremaining: 2m 14s\n",
            "100:\tlearn: 22.1978756\ttest: 23.2495582\tbest: 23.2180575 (30)\ttotal: 2.85s\tremaining: 2m 18s\n",
            "bestTest = 23.21805752\n",
            "bestIteration = 30\n",
            "Shrink model to first 31 iterations.\n"
          ]
        },
        {
          "output_type": "stream",
          "name": "stderr",
          "text": [
            "\u001b[32m[I 2021-11-22 12:51:30,882]\u001b[0m Trial 37 finished with value: 0.21786268792758845 and parameters: {'learning_rate': 0.0905684558113482, 'depth': 4, 'l2_leaf_reg': 3.3184567459241845, 'bootstrap_type': 'Poisson', 'grow_policy': 'SymmetricTree'}. Best is trial 30 with value: 0.21764491858964385.\u001b[0m\n"
          ]
        },
        {
          "output_type": "stream",
          "name": "stdout",
          "text": [
            "0:\tlearn: 23.2480689\ttest: 23.9215058\tbest: 23.9215058 (0)\ttotal: 23.3ms\tremaining: 1m 56s\n",
            "100:\tlearn: 22.3149212\ttest: 23.2317685\tbest: 23.2055090 (31)\ttotal: 2.08s\tremaining: 1m 41s\n",
            "bestTest = 23.20550902\n",
            "bestIteration = 31\n",
            "Shrink model to first 32 iterations.\n"
          ]
        },
        {
          "output_type": "stream",
          "name": "stderr",
          "text": [
            "\u001b[32m[I 2021-11-22 12:51:35,144]\u001b[0m Trial 38 finished with value: 0.21766408159821232 and parameters: {'learning_rate': 0.07307135931289838, 'depth': 3, 'l2_leaf_reg': 1.319788645768217, 'bootstrap_type': 'No', 'grow_policy': 'SymmetricTree'}. Best is trial 30 with value: 0.21764491858964385.\u001b[0m\n"
          ]
        },
        {
          "output_type": "stream",
          "name": "stdout",
          "text": [
            "0:\tlearn: 23.2361611\ttest: 23.9111358\tbest: 23.9111358 (0)\ttotal: 16.8ms\tremaining: 1m 23s\n",
            "100:\tlearn: 22.0319766\ttest: 23.3044943\tbest: 23.2240081 (30)\ttotal: 1.75s\tremaining: 1m 24s\n",
            "bestTest = 23.22400805\n",
            "bestIteration = 30\n",
            "Shrink model to first 31 iterations.\n"
          ]
        },
        {
          "output_type": "stream",
          "name": "stderr",
          "text": [
            "\u001b[32m[I 2021-11-22 12:51:39,386]\u001b[0m Trial 39 finished with value: 0.21791480893235882 and parameters: {'learning_rate': 0.07962185229319035, 'depth': 4, 'l2_leaf_reg': 2.197230743389443, 'bootstrap_type': 'No', 'grow_policy': 'Lossguide'}. Best is trial 30 with value: 0.21764491858964385.\u001b[0m\n"
          ]
        },
        {
          "output_type": "stream",
          "name": "stdout",
          "text": [
            "0:\tlearn: 23.2229262\ttest: 23.8969810\tbest: 23.8969810 (0)\ttotal: 22.2ms\tremaining: 1m 50s\n",
            "100:\tlearn: 22.3151224\ttest: 23.2359901\tbest: 23.2118149 (25)\ttotal: 2.36s\tremaining: 1m 54s\n",
            "bestTest = 23.21181491\n",
            "bestIteration = 25\n",
            "Shrink model to first 26 iterations.\n"
          ]
        },
        {
          "output_type": "stream",
          "name": "stderr",
          "text": [
            "\u001b[32m[I 2021-11-22 12:51:44,223]\u001b[0m Trial 40 finished with value: 0.2178047549058908 and parameters: {'learning_rate': 0.0889262541248371, 'depth': 3, 'l2_leaf_reg': 3.329472593217115, 'bootstrap_type': 'Bayesian', 'grow_policy': 'SymmetricTree'}. Best is trial 30 with value: 0.21764491858964385.\u001b[0m\n"
          ]
        },
        {
          "output_type": "stream",
          "name": "stdout",
          "text": [
            "0:\tlearn: 23.2624587\ttest: 23.9340399\tbest: 23.9340399 (0)\ttotal: 21.2ms\tremaining: 1m 45s\n",
            "100:\tlearn: 22.3141112\ttest: 23.2283382\tbest: 23.2045661 (34)\ttotal: 2.31s\tremaining: 1m 52s\n",
            "bestTest = 23.20456614\n",
            "bestIteration = 34\n",
            "Shrink model to first 35 iterations.\n"
          ]
        },
        {
          "output_type": "stream",
          "name": "stderr",
          "text": [
            "\u001b[32m[I 2021-11-22 12:51:49,026]\u001b[0m Trial 41 finished with value: 0.2176723776898654 and parameters: {'learning_rate': 0.06493352334410707, 'depth': 3, 'l2_leaf_reg': 4.108903964327818, 'bootstrap_type': 'No', 'grow_policy': 'SymmetricTree'}. Best is trial 30 with value: 0.21764491858964385.\u001b[0m\n"
          ]
        },
        {
          "output_type": "stream",
          "name": "stdout",
          "text": [
            "0:\tlearn: 23.2640795\ttest: 23.9369458\tbest: 23.9369458 (0)\ttotal: 26.1ms\tremaining: 2m 10s\n",
            "100:\tlearn: 22.2437708\ttest: 23.2388202\tbest: 23.2045487 (37)\ttotal: 2.99s\tremaining: 2m 25s\n",
            "bestTest = 23.20454873\n",
            "bestIteration = 37\n",
            "Shrink model to first 38 iterations.\n"
          ]
        },
        {
          "output_type": "stream",
          "name": "stderr",
          "text": [
            "\u001b[32m[I 2021-11-22 12:51:54,641]\u001b[0m Trial 42 finished with value: 0.21769693347276237 and parameters: {'learning_rate': 0.06298364941186428, 'depth': 4, 'l2_leaf_reg': 2.4131927009967957, 'bootstrap_type': 'No', 'grow_policy': 'SymmetricTree'}. Best is trial 30 with value: 0.21764491858964385.\u001b[0m\n"
          ]
        },
        {
          "output_type": "stream",
          "name": "stdout",
          "text": [
            "0:\tlearn: 23.2077632\ttest: 23.8845146\tbest: 23.8845146 (0)\ttotal: 21.4ms\tremaining: 1m 46s\n",
            "100:\tlearn: 22.2618428\ttest: 23.2401575\tbest: 23.2016596 (23)\ttotal: 2.2s\tremaining: 1m 46s\n",
            "bestTest = 23.20165956\n",
            "bestIteration = 23\n",
            "Shrink model to first 24 iterations.\n"
          ]
        },
        {
          "output_type": "stream",
          "name": "stderr",
          "text": [
            "\u001b[32m[I 2021-11-22 12:51:58,796]\u001b[0m Trial 43 finished with value: 0.21763347031045138 and parameters: {'learning_rate': 0.09654703295900584, 'depth': 3, 'l2_leaf_reg': 3.392212884308976, 'bootstrap_type': 'No', 'grow_policy': 'SymmetricTree'}. Best is trial 43 with value: 0.21763347031045138.\u001b[0m\n"
          ]
        },
        {
          "output_type": "stream",
          "name": "stdout",
          "text": [
            "0:\tlearn: 23.2069020\ttest: 23.8842258\tbest: 23.8842258 (0)\ttotal: 20.8ms\tremaining: 1m 43s\n",
            "100:\tlearn: 22.2663312\ttest: 23.2339343\tbest: 23.2053845 (23)\ttotal: 2.15s\tremaining: 1m 44s\n",
            "bestTest = 23.20538447\n",
            "bestIteration = 23\n",
            "Shrink model to first 24 iterations.\n"
          ]
        },
        {
          "output_type": "stream",
          "name": "stderr",
          "text": [
            "\u001b[32m[I 2021-11-22 12:52:02,958]\u001b[0m Trial 44 finished with value: 0.21765941594175342 and parameters: {'learning_rate': 0.09738154406330808, 'depth': 3, 'l2_leaf_reg': 1.7140005925186625, 'bootstrap_type': 'No', 'grow_policy': 'SymmetricTree'}. Best is trial 43 with value: 0.21763347031045138.\u001b[0m\n"
          ]
        },
        {
          "output_type": "stream",
          "name": "stdout",
          "text": [
            "0:\tlearn: 23.2088199\ttest: 23.8854853\tbest: 23.8854853 (0)\ttotal: 19.7ms\tremaining: 1m 38s\n",
            "100:\tlearn: 22.2677411\ttest: 23.2396895\tbest: 23.2044603 (23)\ttotal: 2.07s\tremaining: 1m 40s\n",
            "bestTest = 23.20446033\n",
            "bestIteration = 23\n",
            "Shrink model to first 24 iterations.\n"
          ]
        },
        {
          "output_type": "stream",
          "name": "stderr",
          "text": [
            "\u001b[32m[I 2021-11-22 12:52:07,021]\u001b[0m Trial 45 finished with value: 0.2176626503668315 and parameters: {'learning_rate': 0.09593405409825753, 'depth': 3, 'l2_leaf_reg': 3.493426317363899, 'bootstrap_type': 'No', 'grow_policy': 'SymmetricTree'}. Best is trial 43 with value: 0.21763347031045138.\u001b[0m\n"
          ]
        },
        {
          "output_type": "stream",
          "name": "stdout",
          "text": [
            "0:\tlearn: 23.2219786\ttest: 23.9416091\tbest: 23.9416091 (0)\ttotal: 78.6ms\tremaining: 6m 33s\n",
            "100:\tlearn: 18.7850745\ttest: 23.3491527\tbest: 23.2634751 (30)\ttotal: 7.89s\tremaining: 6m 22s\n",
            "bestTest = 23.26347505\n",
            "bestIteration = 30\n",
            "Shrink model to first 31 iterations.\n"
          ]
        },
        {
          "output_type": "stream",
          "name": "stderr",
          "text": [
            "\u001b[32m[I 2021-11-22 12:52:18,902]\u001b[0m Trial 46 finished with value: 0.2182344097168072 and parameters: {'learning_rate': 0.06932032649450769, 'depth': 10, 'l2_leaf_reg': 0.9943348161099679, 'bootstrap_type': 'Poisson', 'grow_policy': 'SymmetricTree'}. Best is trial 43 with value: 0.21763347031045138.\u001b[0m\n"
          ]
        },
        {
          "output_type": "stream",
          "name": "stdout",
          "text": [
            "0:\tlearn: 23.2150079\ttest: 23.8919695\tbest: 23.8919695 (0)\ttotal: 16.7ms\tremaining: 1m 23s\n",
            "100:\tlearn: 21.9959871\ttest: 23.3121053\tbest: 23.2258280 (26)\ttotal: 1.67s\tremaining: 1m 20s\n",
            "bestTest = 23.22582797\n",
            "bestIteration = 26\n",
            "Shrink model to first 27 iterations.\n"
          ]
        },
        {
          "output_type": "stream",
          "name": "stderr",
          "text": [
            "\u001b[32m[I 2021-11-22 12:52:22,463]\u001b[0m Trial 47 finished with value: 0.2179827407967738 and parameters: {'learning_rate': 0.09297510789235373, 'depth': 4, 'l2_leaf_reg': 9.125185784433878, 'bootstrap_type': 'No', 'grow_policy': 'Lossguide'}. Best is trial 43 with value: 0.21763347031045138.\u001b[0m\n"
          ]
        },
        {
          "output_type": "stream",
          "name": "stdout",
          "text": [
            "0:\tlearn: 23.2245082\ttest: 23.9020877\tbest: 23.9020877 (0)\ttotal: 26.4ms\tremaining: 2m 12s\n",
            "100:\tlearn: 22.1937878\ttest: 23.2517891\tbest: 23.2091597 (28)\ttotal: 2.71s\tremaining: 2m 11s\n",
            "bestTest = 23.20915966\n",
            "bestIteration = 28\n",
            "Shrink model to first 29 iterations.\n"
          ]
        },
        {
          "output_type": "stream",
          "name": "stderr",
          "text": [
            "\u001b[32m[I 2021-11-22 12:52:27,418]\u001b[0m Trial 48 finished with value: 0.21776376801234051 and parameters: {'learning_rate': 0.08545500178407597, 'depth': 4, 'l2_leaf_reg': 2.555316431667239, 'bootstrap_type': 'No', 'grow_policy': 'SymmetricTree'}. Best is trial 43 with value: 0.21763347031045138.\u001b[0m\n"
          ]
        },
        {
          "output_type": "stream",
          "name": "stdout",
          "text": [
            "0:\tlearn: 23.2031715\ttest: 23.8808709\tbest: 23.8808709 (0)\ttotal: 20.1ms\tremaining: 1m 40s\n",
            "100:\tlearn: 22.2660869\ttest: 23.2437399\tbest: 23.2040116 (22)\ttotal: 2.14s\tremaining: 1m 43s\n",
            "bestTest = 23.20401164\n",
            "bestIteration = 22\n",
            "Shrink model to first 23 iterations.\n"
          ]
        },
        {
          "output_type": "stream",
          "name": "stderr",
          "text": [
            "\u001b[32m[I 2021-11-22 12:52:31,637]\u001b[0m Trial 49 finished with value: 0.21764731152847647 and parameters: {'learning_rate': 0.09964303073248612, 'depth': 3, 'l2_leaf_reg': 1.920333567788793, 'bootstrap_type': 'No', 'grow_policy': 'SymmetricTree'}. Best is trial 43 with value: 0.21763347031045138.\u001b[0m\n"
          ]
        },
        {
          "output_type": "stream",
          "name": "stdout",
          "text": [
            "CPU times: user 4min 53s, sys: 2min 38s, total: 7min 31s\n",
            "Wall time: 5min 30s\n"
          ]
        }
      ]
    },
    {
      "cell_type": "code",
      "metadata": {
        "colab": {
          "base_uri": "https://localhost:8080/"
        },
        "id": "_XnvHfVZQjH-",
        "outputId": "fe3c3677-667d-4468-fe3f-93044c308c1f"
      },
      "source": [
        "best_params = study.best_params\n",
        "print('Best params:')\n",
        "for key, value in best_params.items():\n",
        "    print(f'\\t{key}: {value}')"
      ],
      "execution_count": null,
      "outputs": [
        {
          "output_type": "stream",
          "name": "stdout",
          "text": [
            "Best params:\n",
            "\tlearning_rate: 0.09654703295900584\n",
            "\tdepth: 3\n",
            "\tl2_leaf_reg: 3.392212884308976\n",
            "\tbootstrap_type: No\n",
            "\tgrow_policy: SymmetricTree\n"
          ]
        }
      ]
    },
    {
      "cell_type": "code",
      "metadata": {
        "id": "BFjHnqlja19U"
      },
      "source": [
        "del xtrain, xval, ytrain, yval"
      ],
      "execution_count": null,
      "outputs": []
    },
    {
      "cell_type": "code",
      "metadata": {
        "id": "ArxUQap5a6sp"
      },
      "source": [
        "def custom_cross_val_predict(train, test, features):\n",
        "    oof_preds = {}\n",
        "    test_preds = []\n",
        "    scores = []\n",
        "    \n",
        "    cv_start = time.time()\n",
        "    \n",
        "    for fold in range(N_SPLITS):\n",
        "        print('-' * 40)\n",
        "        \n",
        "        xtrain = train[train.fold != fold].reset_index(drop=True)\n",
        "        ytrain = xtrain.LAP_TIME\n",
        "\n",
        "        xval = train[train.fold == fold].reset_index(drop=True)\n",
        "        yval = xval.LAP_TIME    \n",
        "        val_idx = xval.index.values.tolist()\n",
        "        \n",
        "        fold_start = time.time()\n",
        "        \n",
        "        model = CatBoostRegressor(**base_params, **best_params)\n",
        "\n",
        "        model.fit(\n",
        "            xtrain[features], ytrain,\n",
        "            eval_set=(xval[features], yval),\n",
        "            early_stopping_rounds=100,\n",
        "            verbose_eval=100\n",
        "        )\n",
        "        val_preds = model.predict(xval[features])\n",
        "        oof_preds.update(dict(zip(val_idx, val_preds)))\n",
        "        auc = mean_squared_log_error(xval.LAP_TIME, val_preds, squared=False)\n",
        "        scores.append(auc)\n",
        "        \n",
        "        fold_end = time.time()\n",
        "        \n",
        "        print(f'Fold #{fold}: AUC = {auc:.5f}\\t[Time: {fold_end - fold_start:.2f} secs]')\n",
        "        \n",
        "        test_preds.append(model.predict(test[features]))\n",
        "\n",
        "        del xtrain, ytrain, xval, yval\n",
        "        \n",
        "    cv_end = time.time()\n",
        "    print(f'\\nAverage RMSLE = {np.mean(scores):.5f} with std. dev. = {np.std(scores):.5f}')\n",
        "    print(f'[Total time: {cv_end - cv_start:.2f} secs]\\n')\n",
        "    \n",
        "    oof_preds = pd.DataFrame.from_dict(oof_preds, orient='index').reset_index()\n",
        "    test_preds = np.mean(np.column_stack(test_preds), axis=1)\n",
        "    \n",
        "    return oof_preds, test_preds"
      ],
      "execution_count": null,
      "outputs": []
    },
    {
      "cell_type": "code",
      "metadata": {
        "colab": {
          "base_uri": "https://localhost:8080/"
        },
        "id": "UO0uBg2CcEgT",
        "outputId": "bd41e50f-a5e6-447e-f834-10f111dd224b"
      },
      "source": [
        "oof_preds, test_preds = custom_cross_val_predict(ptrain, ptest, features)"
      ],
      "execution_count": null,
      "outputs": [
        {
          "output_type": "stream",
          "name": "stdout",
          "text": [
            "----------------------------------------\n",
            "0:\tlearn: 23.2077632\ttest: 23.8845146\tbest: 23.8845146 (0)\ttotal: 17.8ms\tremaining: 1m 29s\n",
            "100:\tlearn: 22.2769045\ttest: 23.2190266\tbest: 23.2029883 (23)\ttotal: 2.05s\tremaining: 1m 39s\n",
            "bestTest = 23.20298833\n",
            "bestIteration = 23\n",
            "Shrink model to first 24 iterations.\n",
            "Fold #0: AUC = 0.21771\t[Time: 4.09 secs]\n",
            "----------------------------------------\n",
            "0:\tlearn: 23.2253661\ttest: 23.8331287\tbest: 23.8331287 (0)\ttotal: 18.9ms\tremaining: 1m 34s\n",
            "100:\tlearn: 22.3635292\ttest: 23.1037619\tbest: 23.0869556 (33)\ttotal: 2.01s\tremaining: 1m 37s\n",
            "bestTest = 23.08695565\n",
            "bestIteration = 33\n",
            "Shrink model to first 34 iterations.\n",
            "Fold #1: AUC = 0.21466\t[Time: 4.18 secs]\n",
            "----------------------------------------\n",
            "0:\tlearn: 23.3788007\ttest: 23.2006723\tbest: 23.2006723 (0)\ttotal: 19.1ms\tremaining: 1m 35s\n",
            "100:\tlearn: 22.4799958\ttest: 22.5208975\tbest: 22.5187563 (98)\ttotal: 2.09s\tremaining: 1m 41s\n",
            "bestTest = 22.51875634\n",
            "bestIteration = 98\n",
            "Shrink model to first 99 iterations.\n",
            "Fold #2: AUC = 0.21077\t[Time: 5.56 secs]\n",
            "----------------------------------------\n",
            "0:\tlearn: 23.2255856\ttest: 23.8244423\tbest: 23.8244423 (0)\ttotal: 20ms\tremaining: 1m 39s\n",
            "100:\tlearn: 22.3531749\ttest: 23.0727532\tbest: 23.0667744 (74)\ttotal: 2.08s\tremaining: 1m 40s\n",
            "200:\tlearn: 22.2232437\ttest: 23.0739506\tbest: 23.0662382 (118)\ttotal: 4.27s\tremaining: 1m 41s\n",
            "bestTest = 23.06623815\n",
            "bestIteration = 118\n",
            "Shrink model to first 119 iterations.\n",
            "Fold #3: AUC = 0.21426\t[Time: 6.12 secs]\n",
            "----------------------------------------\n",
            "0:\tlearn: 23.6778662\ttest: 21.9808891\tbest: 21.9808891 (0)\ttotal: 19.8ms\tremaining: 1m 39s\n",
            "100:\tlearn: 22.7825333\ttest: 21.1866601\tbest: 21.1703761 (43)\ttotal: 2.05s\tremaining: 1m 39s\n",
            "bestTest = 21.17037614\n",
            "bestIteration = 43\n",
            "Shrink model to first 44 iterations.\n",
            "Fold #4: AUC = 0.20482\t[Time: 4.43 secs]\n",
            "\n",
            "Average RMSLE = 0.21244 with std. dev. = 0.00440\n",
            "[Total time: 24.50 secs]\n",
            "\n"
          ]
        }
      ]
    },
    {
      "cell_type": "code",
      "metadata": {
        "id": "1LMB0jyzcnim"
      },
      "source": [
        "submission = pd.read_csv(submission_url)\n",
        "submission.LAP_TIME = test_preds\n",
        "submission.to_csv('sub2_catboost_newproc_noweather.csv', index=False)"
      ],
      "execution_count": null,
      "outputs": []
    },
    {
      "cell_type": "code",
      "metadata": {
        "colab": {
          "base_uri": "https://localhost:8080/"
        },
        "id": "O79j1kPvdYcr",
        "outputId": "3e4b2707-4fea-4caa-8869-b72494461156"
      },
      "source": [
        "!head sub2_catboost_newproc_noweather.csv"
      ],
      "execution_count": null,
      "outputs": [
        {
          "output_type": "stream",
          "name": "stdout",
          "text": [
            "LAP_TIME\n",
            "98.14868657813058\n",
            "97.68700761440559\n",
            "97.06044196338917\n",
            "97.80922575878795\n",
            "97.54292190513225\n",
            "96.89852526722242\n",
            "97.9170745583775\n",
            "97.74799216990941\n",
            "95.94249607191304\n"
          ]
        }
      ]
    },
    {
      "cell_type": "markdown",
      "metadata": {
        "id": "UsLJ5lnqe4Tf"
      },
      "source": [
        "# Model 2"
      ]
    }
  ]
}