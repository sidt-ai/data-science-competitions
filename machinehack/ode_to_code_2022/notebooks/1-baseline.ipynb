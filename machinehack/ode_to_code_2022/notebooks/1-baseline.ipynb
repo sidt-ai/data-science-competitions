{
  "nbformat": 4,
  "nbformat_minor": 0,
  "metadata": {
    "colab": {
      "name": "[MH] Ode To Code - Baseline",
      "provenance": []
    },
    "kernelspec": {
      "name": "python3",
      "display_name": "Python 3"
    },
    "language_info": {
      "name": "python"
    },
    "accelerator": "GPU"
  },
  "cells": [
    {
      "cell_type": "markdown",
      "source": [
        "# Imports and Data overview"
      ],
      "metadata": {
        "id": "PfLgvS07rE0V"
      }
    },
    {
      "cell_type": "code",
      "execution_count": 1,
      "metadata": {
        "id": "oltFtknQkXQF"
      },
      "outputs": [],
      "source": [
        "train_url = 'https://raw.githubusercontent.com/sidt-ai/data-science-competitions/main/machinehack/ode_to_code_2022/data/raw/train.csv'\n",
        "test_url = 'https://raw.githubusercontent.com/sidt-ai/data-science-competitions/main/machinehack/ode_to_code_2022/data/raw/test.csv'\n",
        "sub_url = 'https://raw.githubusercontent.com/sidt-ai/data-science-competitions/main/machinehack/ode_to_code_2022/data/raw/sample_submission.csv'"
      ]
    },
    {
      "cell_type": "code",
      "source": [
        "!pip install --upgrade --quiet optuna"
      ],
      "metadata": {
        "id": "-rZnibVBZ40Q"
      },
      "execution_count": 2,
      "outputs": []
    },
    {
      "cell_type": "code",
      "source": [
        "!pip install --quiet xgboost==1.5"
      ],
      "metadata": {
        "id": "Nw7s1qbcWtbJ"
      },
      "execution_count": 3,
      "outputs": []
    },
    {
      "cell_type": "code",
      "source": [
        "import time \n",
        "\n",
        "import numpy as np\n",
        "from scipy.stats import mode\n",
        "import pandas as pd\n",
        "pd.set_option(\"precision\", 4)\n",
        "\n",
        "from sklearn.preprocessing import LabelEncoder\n",
        "from sklearn.feature_selection import chi2, f_classif, mutual_info_classif \n",
        "from sklearn.metrics import roc_auc_score, accuracy_score\n",
        "from sklearn.model_selection import train_test_split, StratifiedKFold\n",
        "\n",
        "import optuna\n",
        "from optuna.samplers import TPESampler\n",
        "from optuna.integration import XGBoostPruningCallback\n",
        "from xgboost import XGBClassifier\n",
        "\n",
        "SEED = 2311"
      ],
      "metadata": {
        "id": "A8LSCdLAmrRg"
      },
      "execution_count": 4,
      "outputs": []
    },
    {
      "cell_type": "code",
      "source": [
        "train = pd.read_csv(train_url)\n",
        "test = pd.read_csv(test_url)"
      ],
      "metadata": {
        "id": "dbeS8vXVnubD"
      },
      "execution_count": 5,
      "outputs": []
    },
    {
      "cell_type": "code",
      "source": [
        "train.head()"
      ],
      "metadata": {
        "colab": {
          "base_uri": "https://localhost:8080/",
          "height": 268
        },
        "id": "Dt4U6uWkn1u5",
        "outputId": "d35d407a-010f-4b04-bb30-3efa2a0fa5d1"
      },
      "execution_count": 6,
      "outputs": [
        {
          "output_type": "execute_result",
          "data": {
            "text/html": [
              "\n",
              "  <div id=\"df-d61b034e-3ea1-43d7-9652-9ca88c218f67\">\n",
              "    <div class=\"colab-df-container\">\n",
              "      <div>\n",
              "<style scoped>\n",
              "    .dataframe tbody tr th:only-of-type {\n",
              "        vertical-align: middle;\n",
              "    }\n",
              "\n",
              "    .dataframe tbody tr th {\n",
              "        vertical-align: top;\n",
              "    }\n",
              "\n",
              "    .dataframe thead th {\n",
              "        text-align: right;\n",
              "    }\n",
              "</style>\n",
              "<table border=\"1\" class=\"dataframe\">\n",
              "  <thead>\n",
              "    <tr style=\"text-align: right;\">\n",
              "      <th></th>\n",
              "      <th>edible-poisonous</th>\n",
              "      <th>cap-diameter</th>\n",
              "      <th>cap-shape</th>\n",
              "      <th>cap-color</th>\n",
              "      <th>does-bruise-or-bleed</th>\n",
              "      <th>gill-attachment</th>\n",
              "      <th>gill-color</th>\n",
              "      <th>stem-height</th>\n",
              "      <th>stem-width</th>\n",
              "      <th>stem-color</th>\n",
              "      <th>has-ring</th>\n",
              "      <th>ring-type</th>\n",
              "      <th>habitat</th>\n",
              "      <th>season</th>\n",
              "    </tr>\n",
              "  </thead>\n",
              "  <tbody>\n",
              "    <tr>\n",
              "      <th>0</th>\n",
              "      <td>p</td>\n",
              "      <td>5.75</td>\n",
              "      <td>x</td>\n",
              "      <td>n</td>\n",
              "      <td>t</td>\n",
              "      <td>s</td>\n",
              "      <td>w</td>\n",
              "      <td>6.13</td>\n",
              "      <td>14.93</td>\n",
              "      <td>w</td>\n",
              "      <td>f</td>\n",
              "      <td>f</td>\n",
              "      <td>d</td>\n",
              "      <td>a</td>\n",
              "    </tr>\n",
              "    <tr>\n",
              "      <th>1</th>\n",
              "      <td>p</td>\n",
              "      <td>2.27</td>\n",
              "      <td>o</td>\n",
              "      <td>g</td>\n",
              "      <td>f</td>\n",
              "      <td>f</td>\n",
              "      <td>f</td>\n",
              "      <td>0.00</td>\n",
              "      <td>0.00</td>\n",
              "      <td>f</td>\n",
              "      <td>f</td>\n",
              "      <td>f</td>\n",
              "      <td>d</td>\n",
              "      <td>s</td>\n",
              "    </tr>\n",
              "    <tr>\n",
              "      <th>2</th>\n",
              "      <td>p</td>\n",
              "      <td>5.59</td>\n",
              "      <td>c</td>\n",
              "      <td>y</td>\n",
              "      <td>t</td>\n",
              "      <td>x</td>\n",
              "      <td>p</td>\n",
              "      <td>5.47</td>\n",
              "      <td>11.27</td>\n",
              "      <td>w</td>\n",
              "      <td>f</td>\n",
              "      <td>f</td>\n",
              "      <td>d</td>\n",
              "      <td>a</td>\n",
              "    </tr>\n",
              "    <tr>\n",
              "      <th>3</th>\n",
              "      <td>p</td>\n",
              "      <td>0.74</td>\n",
              "      <td>x</td>\n",
              "      <td>p</td>\n",
              "      <td>f</td>\n",
              "      <td>a</td>\n",
              "      <td>n</td>\n",
              "      <td>4.33</td>\n",
              "      <td>0.98</td>\n",
              "      <td>k</td>\n",
              "      <td>f</td>\n",
              "      <td>f</td>\n",
              "      <td>d</td>\n",
              "      <td>a</td>\n",
              "    </tr>\n",
              "    <tr>\n",
              "      <th>4</th>\n",
              "      <td>p</td>\n",
              "      <td>9.60</td>\n",
              "      <td>x</td>\n",
              "      <td>n</td>\n",
              "      <td>f</td>\n",
              "      <td>a</td>\n",
              "      <td>w</td>\n",
              "      <td>10.84</td>\n",
              "      <td>28.52</td>\n",
              "      <td>w</td>\n",
              "      <td>f</td>\n",
              "      <td>f</td>\n",
              "      <td>d</td>\n",
              "      <td>u</td>\n",
              "    </tr>\n",
              "  </tbody>\n",
              "</table>\n",
              "</div>\n",
              "      <button class=\"colab-df-convert\" onclick=\"convertToInteractive('df-d61b034e-3ea1-43d7-9652-9ca88c218f67')\"\n",
              "              title=\"Convert this dataframe to an interactive table.\"\n",
              "              style=\"display:none;\">\n",
              "        \n",
              "  <svg xmlns=\"http://www.w3.org/2000/svg\" height=\"24px\"viewBox=\"0 0 24 24\"\n",
              "       width=\"24px\">\n",
              "    <path d=\"M0 0h24v24H0V0z\" fill=\"none\"/>\n",
              "    <path d=\"M18.56 5.44l.94 2.06.94-2.06 2.06-.94-2.06-.94-.94-2.06-.94 2.06-2.06.94zm-11 1L8.5 8.5l.94-2.06 2.06-.94-2.06-.94L8.5 2.5l-.94 2.06-2.06.94zm10 10l.94 2.06.94-2.06 2.06-.94-2.06-.94-.94-2.06-.94 2.06-2.06.94z\"/><path d=\"M17.41 7.96l-1.37-1.37c-.4-.4-.92-.59-1.43-.59-.52 0-1.04.2-1.43.59L10.3 9.45l-7.72 7.72c-.78.78-.78 2.05 0 2.83L4 21.41c.39.39.9.59 1.41.59.51 0 1.02-.2 1.41-.59l7.78-7.78 2.81-2.81c.8-.78.8-2.07 0-2.86zM5.41 20L4 18.59l7.72-7.72 1.47 1.35L5.41 20z\"/>\n",
              "  </svg>\n",
              "      </button>\n",
              "      \n",
              "  <style>\n",
              "    .colab-df-container {\n",
              "      display:flex;\n",
              "      flex-wrap:wrap;\n",
              "      gap: 12px;\n",
              "    }\n",
              "\n",
              "    .colab-df-convert {\n",
              "      background-color: #E8F0FE;\n",
              "      border: none;\n",
              "      border-radius: 50%;\n",
              "      cursor: pointer;\n",
              "      display: none;\n",
              "      fill: #1967D2;\n",
              "      height: 32px;\n",
              "      padding: 0 0 0 0;\n",
              "      width: 32px;\n",
              "    }\n",
              "\n",
              "    .colab-df-convert:hover {\n",
              "      background-color: #E2EBFA;\n",
              "      box-shadow: 0px 1px 2px rgba(60, 64, 67, 0.3), 0px 1px 3px 1px rgba(60, 64, 67, 0.15);\n",
              "      fill: #174EA6;\n",
              "    }\n",
              "\n",
              "    [theme=dark] .colab-df-convert {\n",
              "      background-color: #3B4455;\n",
              "      fill: #D2E3FC;\n",
              "    }\n",
              "\n",
              "    [theme=dark] .colab-df-convert:hover {\n",
              "      background-color: #434B5C;\n",
              "      box-shadow: 0px 1px 3px 1px rgba(0, 0, 0, 0.15);\n",
              "      filter: drop-shadow(0px 1px 2px rgba(0, 0, 0, 0.3));\n",
              "      fill: #FFFFFF;\n",
              "    }\n",
              "  </style>\n",
              "\n",
              "      <script>\n",
              "        const buttonEl =\n",
              "          document.querySelector('#df-d61b034e-3ea1-43d7-9652-9ca88c218f67 button.colab-df-convert');\n",
              "        buttonEl.style.display =\n",
              "          google.colab.kernel.accessAllowed ? 'block' : 'none';\n",
              "\n",
              "        async function convertToInteractive(key) {\n",
              "          const element = document.querySelector('#df-d61b034e-3ea1-43d7-9652-9ca88c218f67');\n",
              "          const dataTable =\n",
              "            await google.colab.kernel.invokeFunction('convertToInteractive',\n",
              "                                                     [key], {});\n",
              "          if (!dataTable) return;\n",
              "\n",
              "          const docLinkHtml = 'Like what you see? Visit the ' +\n",
              "            '<a target=\"_blank\" href=https://colab.research.google.com/notebooks/data_table.ipynb>data table notebook</a>'\n",
              "            + ' to learn more about interactive tables.';\n",
              "          element.innerHTML = '';\n",
              "          dataTable['output_type'] = 'display_data';\n",
              "          await google.colab.output.renderOutput(dataTable, element);\n",
              "          const docLink = document.createElement('div');\n",
              "          docLink.innerHTML = docLinkHtml;\n",
              "          element.appendChild(docLink);\n",
              "        }\n",
              "      </script>\n",
              "    </div>\n",
              "  </div>\n",
              "  "
            ],
            "text/plain": [
              "  edible-poisonous  cap-diameter cap-shape  ... ring-type habitat season\n",
              "0                p          5.75         x  ...         f       d      a\n",
              "1                p          2.27         o  ...         f       d      s\n",
              "2                p          5.59         c  ...         f       d      a\n",
              "3                p          0.74         x  ...         f       d      a\n",
              "4                p          9.60         x  ...         f       d      u\n",
              "\n",
              "[5 rows x 14 columns]"
            ]
          },
          "metadata": {},
          "execution_count": 6
        }
      ]
    },
    {
      "cell_type": "code",
      "source": [
        "train.info()"
      ],
      "metadata": {
        "colab": {
          "base_uri": "https://localhost:8080/"
        },
        "id": "iTzYRFHzn26T",
        "outputId": "32fc4c33-bed1-4dd8-8297-0f5be8f87a76"
      },
      "execution_count": 7,
      "outputs": [
        {
          "output_type": "stream",
          "name": "stdout",
          "text": [
            "<class 'pandas.core.frame.DataFrame'>\n",
            "RangeIndex: 42748 entries, 0 to 42747\n",
            "Data columns (total 14 columns):\n",
            " #   Column                Non-Null Count  Dtype  \n",
            "---  ------                --------------  -----  \n",
            " 0   edible-poisonous      42748 non-null  object \n",
            " 1   cap-diameter          42748 non-null  float64\n",
            " 2   cap-shape             42748 non-null  object \n",
            " 3   cap-color             42748 non-null  object \n",
            " 4   does-bruise-or-bleed  42748 non-null  object \n",
            " 5   gill-attachment       35808 non-null  object \n",
            " 6   gill-color            42748 non-null  object \n",
            " 7   stem-height           42748 non-null  float64\n",
            " 8   stem-width            42748 non-null  float64\n",
            " 9   stem-color            42748 non-null  object \n",
            " 10  has-ring              42748 non-null  object \n",
            " 11  ring-type             41029 non-null  object \n",
            " 12  habitat               42748 non-null  object \n",
            " 13  season                42748 non-null  object \n",
            "dtypes: float64(3), object(11)\n",
            "memory usage: 4.6+ MB\n"
          ]
        }
      ]
    },
    {
      "cell_type": "code",
      "source": [
        "test.info()"
      ],
      "metadata": {
        "colab": {
          "base_uri": "https://localhost:8080/"
        },
        "id": "aY5GIAuNn6eA",
        "outputId": "74d93a43-1073-4e96-e33e-2cc588e847f6"
      },
      "execution_count": 8,
      "outputs": [
        {
          "output_type": "stream",
          "name": "stdout",
          "text": [
            "<class 'pandas.core.frame.DataFrame'>\n",
            "RangeIndex: 18321 entries, 0 to 18320\n",
            "Data columns (total 14 columns):\n",
            " #   Column                Non-Null Count  Dtype  \n",
            "---  ------                --------------  -----  \n",
            " 0   edible-poisonous      18321 non-null  object \n",
            " 1   cap-diameter          18321 non-null  float64\n",
            " 2   cap-shape             18321 non-null  object \n",
            " 3   cap-color             18321 non-null  object \n",
            " 4   does-bruise-or-bleed  18321 non-null  object \n",
            " 5   gill-attachment       15377 non-null  object \n",
            " 6   gill-color            18321 non-null  object \n",
            " 7   stem-height           18321 non-null  float64\n",
            " 8   stem-width            18321 non-null  float64\n",
            " 9   stem-color            18321 non-null  object \n",
            " 10  has-ring              18321 non-null  object \n",
            " 11  ring-type             17569 non-null  object \n",
            " 12  habitat               18321 non-null  object \n",
            " 13  season                0 non-null      float64\n",
            "dtypes: float64(4), object(10)\n",
            "memory usage: 2.0+ MB\n"
          ]
        }
      ]
    },
    {
      "cell_type": "code",
      "source": [
        "test.drop(['season'], axis=1, inplace=True)"
      ],
      "metadata": {
        "id": "02hVilFXrfoo"
      },
      "execution_count": 9,
      "outputs": []
    },
    {
      "cell_type": "markdown",
      "source": [
        "# Missing values"
      ],
      "metadata": {
        "id": "fRqXtLBsrL-g"
      }
    },
    {
      "cell_type": "code",
      "source": [
        "train.isna().sum()"
      ],
      "metadata": {
        "colab": {
          "base_uri": "https://localhost:8080/"
        },
        "id": "zpWR-dgepq-K",
        "outputId": "e29a23d7-c990-4dd8-81f7-433d07079218"
      },
      "execution_count": 10,
      "outputs": [
        {
          "output_type": "execute_result",
          "data": {
            "text/plain": [
              "edible-poisonous           0\n",
              "cap-diameter               0\n",
              "cap-shape                  0\n",
              "cap-color                  0\n",
              "does-bruise-or-bleed       0\n",
              "gill-attachment         6940\n",
              "gill-color                 0\n",
              "stem-height                0\n",
              "stem-width                 0\n",
              "stem-color                 0\n",
              "has-ring                   0\n",
              "ring-type               1719\n",
              "habitat                    0\n",
              "season                     0\n",
              "dtype: int64"
            ]
          },
          "metadata": {},
          "execution_count": 10
        }
      ]
    },
    {
      "cell_type": "code",
      "source": [
        "test.isna().sum()"
      ],
      "metadata": {
        "colab": {
          "base_uri": "https://localhost:8080/"
        },
        "id": "ek7JD61IrVoL",
        "outputId": "6120ff17-63c7-4b4d-f809-23f57d2a4d30"
      },
      "execution_count": 11,
      "outputs": [
        {
          "output_type": "execute_result",
          "data": {
            "text/plain": [
              "edible-poisonous           0\n",
              "cap-diameter               0\n",
              "cap-shape                  0\n",
              "cap-color                  0\n",
              "does-bruise-or-bleed       0\n",
              "gill-attachment         2944\n",
              "gill-color                 0\n",
              "stem-height                0\n",
              "stem-width                 0\n",
              "stem-color                 0\n",
              "has-ring                   0\n",
              "ring-type                752\n",
              "habitat                    0\n",
              "dtype: int64"
            ]
          },
          "metadata": {},
          "execution_count": 11
        }
      ]
    },
    {
      "cell_type": "code",
      "source": [
        "train['gill-attachment'].unique(), test['gill-attachment'].unique()"
      ],
      "metadata": {
        "colab": {
          "base_uri": "https://localhost:8080/"
        },
        "id": "EA6UtYkvsN5s",
        "outputId": "71b89ffa-2ada-42a0-f2c7-b55ddc1ac2f9"
      },
      "execution_count": 12,
      "outputs": [
        {
          "output_type": "execute_result",
          "data": {
            "text/plain": [
              "(array(['s', 'f', 'x', 'a', 'e', nan, 'd', 'p'], dtype=object),\n",
              " array(['x', 'a', nan, 'd', 'e', 'p', 's', 'f'], dtype=object))"
            ]
          },
          "metadata": {},
          "execution_count": 12
        }
      ]
    },
    {
      "cell_type": "code",
      "source": [
        "train['ring-type'].unique(), test['ring-type'].unique()"
      ],
      "metadata": {
        "colab": {
          "base_uri": "https://localhost:8080/"
        },
        "id": "l_Hf776TVZt9",
        "outputId": "53896dae-b029-48f5-b447-85fdaae2e9ef"
      },
      "execution_count": 13,
      "outputs": [
        {
          "output_type": "execute_result",
          "data": {
            "text/plain": [
              "(array(['f', 'p', nan, 'l', 'z', 'g', 'm', 'e', 'r'], dtype=object),\n",
              " array([nan, 'l', 'f', 'm', 'e', 'z', 'r', 'p', 'g'], dtype=object))"
            ]
          },
          "metadata": {},
          "execution_count": 13
        }
      ]
    },
    {
      "cell_type": "markdown",
      "source": [
        "According to the data description, 'f' corresponds to 'none' for both these features with missing values.  \n",
        "\n",
        "Thus, we will fill missing values with 'f'."
      ],
      "metadata": {
        "id": "9j0IMK9WVKuA"
      }
    },
    {
      "cell_type": "code",
      "source": [
        "train.fillna('f', axis=1, inplace=True)\n",
        "test.fillna('f', axis=1, inplace=True)"
      ],
      "metadata": {
        "id": "f2m9ZMtHVITZ"
      },
      "execution_count": 14,
      "outputs": []
    },
    {
      "cell_type": "markdown",
      "source": [
        "# EDA and Feature Engineering"
      ],
      "metadata": {
        "id": "5MTOxqSaV4dk"
      }
    },
    {
      "cell_type": "code",
      "source": [
        "train['season'].value_counts()"
      ],
      "metadata": {
        "colab": {
          "base_uri": "https://localhost:8080/"
        },
        "id": "XNKqeJveXimp",
        "outputId": "166537c4-c8bd-4299-e28c-073d105f2f31"
      },
      "execution_count": 15,
      "outputs": [
        {
          "output_type": "execute_result",
          "data": {
            "text/plain": [
              "a    21103\n",
              "u    16055\n",
              "w     3698\n",
              "s     1892\n",
              "Name: season, dtype: int64"
            ]
          },
          "metadata": {},
          "execution_count": 15
        }
      ]
    },
    {
      "cell_type": "code",
      "source": [
        "features = [f for f in train.columns if f not in ('season', 'fold')]\n",
        "num_features = ['cap-diameter', 'stem-height', 'stem-width']\n",
        "cat_features = [f for f in features if f not in num_features]\n",
        "cat_mask = [f in cat_features for f in features]"
      ],
      "metadata": {
        "id": "FTIu9GcCV20x"
      },
      "execution_count": 16,
      "outputs": []
    },
    {
      "cell_type": "code",
      "source": [
        "train[cat_features].describe()"
      ],
      "metadata": {
        "colab": {
          "base_uri": "https://localhost:8080/",
          "height": 219
        },
        "id": "PZHUlGiSWt16",
        "outputId": "77a88588-7cd5-4bf6-c812-8f24c24a5cf7"
      },
      "execution_count": 17,
      "outputs": [
        {
          "output_type": "execute_result",
          "data": {
            "text/html": [
              "\n",
              "  <div id=\"df-c5475998-e5e0-4ef9-bde8-d1121f1e6241\">\n",
              "    <div class=\"colab-df-container\">\n",
              "      <div>\n",
              "<style scoped>\n",
              "    .dataframe tbody tr th:only-of-type {\n",
              "        vertical-align: middle;\n",
              "    }\n",
              "\n",
              "    .dataframe tbody tr th {\n",
              "        vertical-align: top;\n",
              "    }\n",
              "\n",
              "    .dataframe thead th {\n",
              "        text-align: right;\n",
              "    }\n",
              "</style>\n",
              "<table border=\"1\" class=\"dataframe\">\n",
              "  <thead>\n",
              "    <tr style=\"text-align: right;\">\n",
              "      <th></th>\n",
              "      <th>edible-poisonous</th>\n",
              "      <th>cap-shape</th>\n",
              "      <th>cap-color</th>\n",
              "      <th>does-bruise-or-bleed</th>\n",
              "      <th>gill-attachment</th>\n",
              "      <th>gill-color</th>\n",
              "      <th>stem-color</th>\n",
              "      <th>has-ring</th>\n",
              "      <th>ring-type</th>\n",
              "      <th>habitat</th>\n",
              "    </tr>\n",
              "  </thead>\n",
              "  <tbody>\n",
              "    <tr>\n",
              "      <th>count</th>\n",
              "      <td>42748</td>\n",
              "      <td>42748</td>\n",
              "      <td>42748</td>\n",
              "      <td>42748</td>\n",
              "      <td>42748</td>\n",
              "      <td>42748</td>\n",
              "      <td>42748</td>\n",
              "      <td>42748</td>\n",
              "      <td>42748</td>\n",
              "      <td>42748</td>\n",
              "    </tr>\n",
              "    <tr>\n",
              "      <th>unique</th>\n",
              "      <td>2</td>\n",
              "      <td>7</td>\n",
              "      <td>12</td>\n",
              "      <td>2</td>\n",
              "      <td>7</td>\n",
              "      <td>12</td>\n",
              "      <td>13</td>\n",
              "      <td>2</td>\n",
              "      <td>8</td>\n",
              "      <td>8</td>\n",
              "    </tr>\n",
              "    <tr>\n",
              "      <th>top</th>\n",
              "      <td>p</td>\n",
              "      <td>x</td>\n",
              "      <td>n</td>\n",
              "      <td>f</td>\n",
              "      <td>f</td>\n",
              "      <td>w</td>\n",
              "      <td>w</td>\n",
              "      <td>f</td>\n",
              "      <td>f</td>\n",
              "      <td>d</td>\n",
              "    </tr>\n",
              "    <tr>\n",
              "      <th>freq</th>\n",
              "      <td>23707</td>\n",
              "      <td>18884</td>\n",
              "      <td>16940</td>\n",
              "      <td>35335</td>\n",
              "      <td>9373</td>\n",
              "      <td>12930</td>\n",
              "      <td>16014</td>\n",
              "      <td>32138</td>\n",
              "      <td>35583</td>\n",
              "      <td>30934</td>\n",
              "    </tr>\n",
              "  </tbody>\n",
              "</table>\n",
              "</div>\n",
              "      <button class=\"colab-df-convert\" onclick=\"convertToInteractive('df-c5475998-e5e0-4ef9-bde8-d1121f1e6241')\"\n",
              "              title=\"Convert this dataframe to an interactive table.\"\n",
              "              style=\"display:none;\">\n",
              "        \n",
              "  <svg xmlns=\"http://www.w3.org/2000/svg\" height=\"24px\"viewBox=\"0 0 24 24\"\n",
              "       width=\"24px\">\n",
              "    <path d=\"M0 0h24v24H0V0z\" fill=\"none\"/>\n",
              "    <path d=\"M18.56 5.44l.94 2.06.94-2.06 2.06-.94-2.06-.94-.94-2.06-.94 2.06-2.06.94zm-11 1L8.5 8.5l.94-2.06 2.06-.94-2.06-.94L8.5 2.5l-.94 2.06-2.06.94zm10 10l.94 2.06.94-2.06 2.06-.94-2.06-.94-.94-2.06-.94 2.06-2.06.94z\"/><path d=\"M17.41 7.96l-1.37-1.37c-.4-.4-.92-.59-1.43-.59-.52 0-1.04.2-1.43.59L10.3 9.45l-7.72 7.72c-.78.78-.78 2.05 0 2.83L4 21.41c.39.39.9.59 1.41.59.51 0 1.02-.2 1.41-.59l7.78-7.78 2.81-2.81c.8-.78.8-2.07 0-2.86zM5.41 20L4 18.59l7.72-7.72 1.47 1.35L5.41 20z\"/>\n",
              "  </svg>\n",
              "      </button>\n",
              "      \n",
              "  <style>\n",
              "    .colab-df-container {\n",
              "      display:flex;\n",
              "      flex-wrap:wrap;\n",
              "      gap: 12px;\n",
              "    }\n",
              "\n",
              "    .colab-df-convert {\n",
              "      background-color: #E8F0FE;\n",
              "      border: none;\n",
              "      border-radius: 50%;\n",
              "      cursor: pointer;\n",
              "      display: none;\n",
              "      fill: #1967D2;\n",
              "      height: 32px;\n",
              "      padding: 0 0 0 0;\n",
              "      width: 32px;\n",
              "    }\n",
              "\n",
              "    .colab-df-convert:hover {\n",
              "      background-color: #E2EBFA;\n",
              "      box-shadow: 0px 1px 2px rgba(60, 64, 67, 0.3), 0px 1px 3px 1px rgba(60, 64, 67, 0.15);\n",
              "      fill: #174EA6;\n",
              "    }\n",
              "\n",
              "    [theme=dark] .colab-df-convert {\n",
              "      background-color: #3B4455;\n",
              "      fill: #D2E3FC;\n",
              "    }\n",
              "\n",
              "    [theme=dark] .colab-df-convert:hover {\n",
              "      background-color: #434B5C;\n",
              "      box-shadow: 0px 1px 3px 1px rgba(0, 0, 0, 0.15);\n",
              "      filter: drop-shadow(0px 1px 2px rgba(0, 0, 0, 0.3));\n",
              "      fill: #FFFFFF;\n",
              "    }\n",
              "  </style>\n",
              "\n",
              "      <script>\n",
              "        const buttonEl =\n",
              "          document.querySelector('#df-c5475998-e5e0-4ef9-bde8-d1121f1e6241 button.colab-df-convert');\n",
              "        buttonEl.style.display =\n",
              "          google.colab.kernel.accessAllowed ? 'block' : 'none';\n",
              "\n",
              "        async function convertToInteractive(key) {\n",
              "          const element = document.querySelector('#df-c5475998-e5e0-4ef9-bde8-d1121f1e6241');\n",
              "          const dataTable =\n",
              "            await google.colab.kernel.invokeFunction('convertToInteractive',\n",
              "                                                     [key], {});\n",
              "          if (!dataTable) return;\n",
              "\n",
              "          const docLinkHtml = 'Like what you see? Visit the ' +\n",
              "            '<a target=\"_blank\" href=https://colab.research.google.com/notebooks/data_table.ipynb>data table notebook</a>'\n",
              "            + ' to learn more about interactive tables.';\n",
              "          element.innerHTML = '';\n",
              "          dataTable['output_type'] = 'display_data';\n",
              "          await google.colab.output.renderOutput(dataTable, element);\n",
              "          const docLink = document.createElement('div');\n",
              "          docLink.innerHTML = docLinkHtml;\n",
              "          element.appendChild(docLink);\n",
              "        }\n",
              "      </script>\n",
              "    </div>\n",
              "  </div>\n",
              "  "
            ],
            "text/plain": [
              "       edible-poisonous cap-shape cap-color  ... has-ring ring-type habitat\n",
              "count             42748     42748     42748  ...    42748     42748   42748\n",
              "unique                2         7        12  ...        2         8       8\n",
              "top                   p         x         n  ...        f         f       d\n",
              "freq              23707     18884     16940  ...    32138     35583   30934\n",
              "\n",
              "[4 rows x 10 columns]"
            ]
          },
          "metadata": {},
          "execution_count": 17
        }
      ]
    },
    {
      "cell_type": "code",
      "source": [
        "train[num_features].describe()"
      ],
      "metadata": {
        "colab": {
          "base_uri": "https://localhost:8080/",
          "height": 300
        },
        "id": "pVL3gd4DW1mo",
        "outputId": "13e517e6-dfca-4570-b595-781d844e0081"
      },
      "execution_count": 18,
      "outputs": [
        {
          "output_type": "execute_result",
          "data": {
            "text/html": [
              "\n",
              "  <div id=\"df-fdfe7199-8c36-419e-b9fb-298dee4cfe45\">\n",
              "    <div class=\"colab-df-container\">\n",
              "      <div>\n",
              "<style scoped>\n",
              "    .dataframe tbody tr th:only-of-type {\n",
              "        vertical-align: middle;\n",
              "    }\n",
              "\n",
              "    .dataframe tbody tr th {\n",
              "        vertical-align: top;\n",
              "    }\n",
              "\n",
              "    .dataframe thead th {\n",
              "        text-align: right;\n",
              "    }\n",
              "</style>\n",
              "<table border=\"1\" class=\"dataframe\">\n",
              "  <thead>\n",
              "    <tr style=\"text-align: right;\">\n",
              "      <th></th>\n",
              "      <th>cap-diameter</th>\n",
              "      <th>stem-height</th>\n",
              "      <th>stem-width</th>\n",
              "    </tr>\n",
              "  </thead>\n",
              "  <tbody>\n",
              "    <tr>\n",
              "      <th>count</th>\n",
              "      <td>42748.0000</td>\n",
              "      <td>42748.0000</td>\n",
              "      <td>42748.0000</td>\n",
              "    </tr>\n",
              "    <tr>\n",
              "      <th>mean</th>\n",
              "      <td>6.7120</td>\n",
              "      <td>6.5804</td>\n",
              "      <td>12.1340</td>\n",
              "    </tr>\n",
              "    <tr>\n",
              "      <th>std</th>\n",
              "      <td>5.2038</td>\n",
              "      <td>3.3684</td>\n",
              "      <td>10.0589</td>\n",
              "    </tr>\n",
              "    <tr>\n",
              "      <th>min</th>\n",
              "      <td>0.3800</td>\n",
              "      <td>0.0000</td>\n",
              "      <td>0.0000</td>\n",
              "    </tr>\n",
              "    <tr>\n",
              "      <th>25%</th>\n",
              "      <td>3.4800</td>\n",
              "      <td>4.6400</td>\n",
              "      <td>5.1900</td>\n",
              "    </tr>\n",
              "    <tr>\n",
              "      <th>50%</th>\n",
              "      <td>5.8400</td>\n",
              "      <td>5.9500</td>\n",
              "      <td>10.1400</td>\n",
              "    </tr>\n",
              "    <tr>\n",
              "      <th>75%</th>\n",
              "      <td>8.5400</td>\n",
              "      <td>7.7400</td>\n",
              "      <td>16.5300</td>\n",
              "    </tr>\n",
              "    <tr>\n",
              "      <th>max</th>\n",
              "      <td>62.3400</td>\n",
              "      <td>33.9200</td>\n",
              "      <td>103.9100</td>\n",
              "    </tr>\n",
              "  </tbody>\n",
              "</table>\n",
              "</div>\n",
              "      <button class=\"colab-df-convert\" onclick=\"convertToInteractive('df-fdfe7199-8c36-419e-b9fb-298dee4cfe45')\"\n",
              "              title=\"Convert this dataframe to an interactive table.\"\n",
              "              style=\"display:none;\">\n",
              "        \n",
              "  <svg xmlns=\"http://www.w3.org/2000/svg\" height=\"24px\"viewBox=\"0 0 24 24\"\n",
              "       width=\"24px\">\n",
              "    <path d=\"M0 0h24v24H0V0z\" fill=\"none\"/>\n",
              "    <path d=\"M18.56 5.44l.94 2.06.94-2.06 2.06-.94-2.06-.94-.94-2.06-.94 2.06-2.06.94zm-11 1L8.5 8.5l.94-2.06 2.06-.94-2.06-.94L8.5 2.5l-.94 2.06-2.06.94zm10 10l.94 2.06.94-2.06 2.06-.94-2.06-.94-.94-2.06-.94 2.06-2.06.94z\"/><path d=\"M17.41 7.96l-1.37-1.37c-.4-.4-.92-.59-1.43-.59-.52 0-1.04.2-1.43.59L10.3 9.45l-7.72 7.72c-.78.78-.78 2.05 0 2.83L4 21.41c.39.39.9.59 1.41.59.51 0 1.02-.2 1.41-.59l7.78-7.78 2.81-2.81c.8-.78.8-2.07 0-2.86zM5.41 20L4 18.59l7.72-7.72 1.47 1.35L5.41 20z\"/>\n",
              "  </svg>\n",
              "      </button>\n",
              "      \n",
              "  <style>\n",
              "    .colab-df-container {\n",
              "      display:flex;\n",
              "      flex-wrap:wrap;\n",
              "      gap: 12px;\n",
              "    }\n",
              "\n",
              "    .colab-df-convert {\n",
              "      background-color: #E8F0FE;\n",
              "      border: none;\n",
              "      border-radius: 50%;\n",
              "      cursor: pointer;\n",
              "      display: none;\n",
              "      fill: #1967D2;\n",
              "      height: 32px;\n",
              "      padding: 0 0 0 0;\n",
              "      width: 32px;\n",
              "    }\n",
              "\n",
              "    .colab-df-convert:hover {\n",
              "      background-color: #E2EBFA;\n",
              "      box-shadow: 0px 1px 2px rgba(60, 64, 67, 0.3), 0px 1px 3px 1px rgba(60, 64, 67, 0.15);\n",
              "      fill: #174EA6;\n",
              "    }\n",
              "\n",
              "    [theme=dark] .colab-df-convert {\n",
              "      background-color: #3B4455;\n",
              "      fill: #D2E3FC;\n",
              "    }\n",
              "\n",
              "    [theme=dark] .colab-df-convert:hover {\n",
              "      background-color: #434B5C;\n",
              "      box-shadow: 0px 1px 3px 1px rgba(0, 0, 0, 0.15);\n",
              "      filter: drop-shadow(0px 1px 2px rgba(0, 0, 0, 0.3));\n",
              "      fill: #FFFFFF;\n",
              "    }\n",
              "  </style>\n",
              "\n",
              "      <script>\n",
              "        const buttonEl =\n",
              "          document.querySelector('#df-fdfe7199-8c36-419e-b9fb-298dee4cfe45 button.colab-df-convert');\n",
              "        buttonEl.style.display =\n",
              "          google.colab.kernel.accessAllowed ? 'block' : 'none';\n",
              "\n",
              "        async function convertToInteractive(key) {\n",
              "          const element = document.querySelector('#df-fdfe7199-8c36-419e-b9fb-298dee4cfe45');\n",
              "          const dataTable =\n",
              "            await google.colab.kernel.invokeFunction('convertToInteractive',\n",
              "                                                     [key], {});\n",
              "          if (!dataTable) return;\n",
              "\n",
              "          const docLinkHtml = 'Like what you see? Visit the ' +\n",
              "            '<a target=\"_blank\" href=https://colab.research.google.com/notebooks/data_table.ipynb>data table notebook</a>'\n",
              "            + ' to learn more about interactive tables.';\n",
              "          element.innerHTML = '';\n",
              "          dataTable['output_type'] = 'display_data';\n",
              "          await google.colab.output.renderOutput(dataTable, element);\n",
              "          const docLink = document.createElement('div');\n",
              "          docLink.innerHTML = docLinkHtml;\n",
              "          element.appendChild(docLink);\n",
              "        }\n",
              "      </script>\n",
              "    </div>\n",
              "  </div>\n",
              "  "
            ],
            "text/plain": [
              "       cap-diameter  stem-height  stem-width\n",
              "count    42748.0000   42748.0000  42748.0000\n",
              "mean         6.7120       6.5804     12.1340\n",
              "std          5.2038       3.3684     10.0589\n",
              "min          0.3800       0.0000      0.0000\n",
              "25%          3.4800       4.6400      5.1900\n",
              "50%          5.8400       5.9500     10.1400\n",
              "75%          8.5400       7.7400     16.5300\n",
              "max         62.3400      33.9200    103.9100"
            ]
          },
          "metadata": {},
          "execution_count": 18
        }
      ]
    },
    {
      "cell_type": "code",
      "source": [
        "train[cat_features] = train[cat_features].astype('category')\n",
        "test[cat_features] = test[cat_features].astype('category')"
      ],
      "metadata": {
        "id": "uL1kqd7dSx1I"
      },
      "execution_count": 19,
      "outputs": []
    },
    {
      "cell_type": "code",
      "source": [
        "target_labels = LabelEncoder()\n",
        "train['season'] = target_labels.fit_transform(train['season'])"
      ],
      "metadata": {
        "id": "Vt0HgxNveBqc"
      },
      "execution_count": 20,
      "outputs": []
    },
    {
      "cell_type": "markdown",
      "source": [
        "# Hyperparameter tuning"
      ],
      "metadata": {
        "id": "NiQHk_OrjM5K"
      }
    },
    {
      "cell_type": "code",
      "source": [
        "base_params = {\n",
        "    'objective': 'multi:softmax',\n",
        "    'booster': 'gbtree',\n",
        "    'use_label_encoder': False,\n",
        "    'tree_method': 'gpu_hist',\n",
        "    'predictor': 'gpu_predictor',\n",
        "    'enable_categorical': True,\n",
        "    'n_estimators': 5000,\n",
        "    'eval_metric': 'mlogloss',\n",
        "    'random_state': SEED,\n",
        "    'verbosity': 0\n",
        "}"
      ],
      "metadata": {
        "id": "dPCbM2ZYjIuq"
      },
      "execution_count": 21,
      "outputs": []
    },
    {
      "cell_type": "code",
      "source": [
        "def objective(trial, xtrain, ytrain, xval, yval, base_params):\n",
        "  param_grid = {\n",
        "    'learning_rate': trial.suggest_float('learning_rate', 0.01, 0.3),\n",
        "    'subsample': trial.suggest_float('subsample', 0.5, 1.0),\n",
        "    'reg_lambda': trial.suggest_loguniform('reg_lambda', 1e-8, 1.0),\n",
        "    'reg_alpha': trial.suggest_loguniform('reg_alpha', 1e-8, 1.0),\n",
        "    'max_depth': trial.suggest_int('max_depth', 3, 12)\n",
        "  }\n",
        "\n",
        "  model = XGBClassifier(**base_params, **param_grid)\n",
        "    \n",
        "  model.fit(\n",
        "    xtrain, ytrain,\n",
        "    eval_set=[(xval, yval)],\n",
        "    early_stopping_rounds=100,\n",
        "    callbacks=[\n",
        "      XGBoostPruningCallback(trial, 'validation_0-mlogloss')\n",
        "    ],\n",
        "    verbose=100\n",
        "  )\n",
        "    \n",
        "  val_predictions = model.predict(xval)\n",
        "    \n",
        "  return accuracy_score(yval, val_predictions)"
      ],
      "metadata": {
        "id": "Fuxi28oOXPUA"
      },
      "execution_count": 22,
      "outputs": []
    },
    {
      "cell_type": "code",
      "source": [
        "xtrain, xval, ytrain, yval = train_test_split(train[features], train['season'],\n",
        "                                              test_size=0.2,\n",
        "                                              stratify=train['season'],\n",
        "                                              shuffle=True,\n",
        "                                              random_state=SEED)"
      ],
      "metadata": {
        "id": "pjcvCtNUk-ab"
      },
      "execution_count": 23,
      "outputs": []
    },
    {
      "cell_type": "code",
      "source": [
        "study = optuna.create_study(direction='minimize', \n",
        "                            sampler=TPESampler(), \n",
        "                            study_name='MH_ode_to_code')"
      ],
      "metadata": {
        "colab": {
          "base_uri": "https://localhost:8080/"
        },
        "id": "czjrBtqPlWxx",
        "outputId": "56ca4036-18d1-4e54-eca2-6e0157425a3b"
      },
      "execution_count": 24,
      "outputs": [
        {
          "output_type": "stream",
          "name": "stderr",
          "text": [
            "\u001b[32m[I 2022-01-16 10:44:05,260]\u001b[0m A new study created in memory with name: MH_ode_to_code\u001b[0m\n"
          ]
        }
      ]
    },
    {
      "cell_type": "code",
      "source": [
        "%%time\n",
        "study.optimize(\n",
        "    lambda trial: objective(trial, xtrain, ytrain, xval, yval, base_params),\n",
        "    n_trials=50\n",
        ")"
      ],
      "metadata": {
        "colab": {
          "base_uri": "https://localhost:8080/"
        },
        "id": "8SVeW9Dim0A4",
        "outputId": "a9ed3bc3-8ba5-45eb-e1d8-8d3f11b85485"
      },
      "execution_count": 25,
      "outputs": [
        {
          "output_type": "stream",
          "name": "stdout",
          "text": [
            "[0]\tvalidation_0-mlogloss:1.33675\n",
            "[100]\tvalidation_0-mlogloss:0.86464\n",
            "[200]\tvalidation_0-mlogloss:0.81330\n",
            "[300]\tvalidation_0-mlogloss:0.79058\n",
            "[400]\tvalidation_0-mlogloss:0.77745\n",
            "[500]\tvalidation_0-mlogloss:0.77128\n",
            "[600]\tvalidation_0-mlogloss:0.76786\n",
            "[700]\tvalidation_0-mlogloss:0.76606\n",
            "[800]\tvalidation_0-mlogloss:0.76556\n",
            "[900]\tvalidation_0-mlogloss:0.76487\n",
            "[1000]\tvalidation_0-mlogloss:0.76464\n",
            "[1100]\tvalidation_0-mlogloss:0.76543\n",
            "[1106]\tvalidation_0-mlogloss:0.76547\n"
          ]
        },
        {
          "output_type": "stream",
          "name": "stderr",
          "text": [
            "\u001b[32m[I 2022-01-16 10:44:10,306]\u001b[0m Trial 0 finished with value: 0.5214035087719299 and parameters: {'learning_rate': 0.11437703735509057, 'subsample': 0.6677718916854287, 'reg_lambda': 2.72715881041597e-05, 'reg_alpha': 2.891775740328728e-06, 'max_depth': 3}. Best is trial 0 with value: 0.5214035087719299.\u001b[0m\n"
          ]
        },
        {
          "output_type": "stream",
          "name": "stdout",
          "text": [
            "[0]\tvalidation_0-mlogloss:1.27501\n",
            "[100]\tvalidation_0-mlogloss:0.77262\n",
            "[183]\tvalidation_0-mlogloss:0.79619\n"
          ]
        },
        {
          "output_type": "stream",
          "name": "stderr",
          "text": [
            "\u001b[32m[I 2022-01-16 10:44:13,435]\u001b[0m Trial 1 finished with value: 0.5132163742690058 and parameters: {'learning_rate': 0.20901162959275282, 'subsample': 0.649101046910588, 'reg_lambda': 1.3454201242261047e-07, 'reg_alpha': 0.00033639349391350226, 'max_depth': 7}. Best is trial 1 with value: 0.5132163742690058.\u001b[0m\n"
          ]
        },
        {
          "output_type": "stream",
          "name": "stdout",
          "text": [
            "[0]\tvalidation_0-mlogloss:1.37665\n",
            "[100]\tvalidation_0-mlogloss:0.99473\n",
            "[200]\tvalidation_0-mlogloss:0.91006\n",
            "[300]\tvalidation_0-mlogloss:0.87165\n",
            "[400]\tvalidation_0-mlogloss:0.84685\n",
            "[500]\tvalidation_0-mlogloss:0.82944\n",
            "[600]\tvalidation_0-mlogloss:0.81581\n",
            "[700]\tvalidation_0-mlogloss:0.80493\n",
            "[800]\tvalidation_0-mlogloss:0.79640\n",
            "[900]\tvalidation_0-mlogloss:0.78974\n",
            "[1000]\tvalidation_0-mlogloss:0.78412\n",
            "[1100]\tvalidation_0-mlogloss:0.77957\n",
            "[1200]\tvalidation_0-mlogloss:0.77570\n",
            "[1300]\tvalidation_0-mlogloss:0.77280\n",
            "[1400]\tvalidation_0-mlogloss:0.77047\n",
            "[1500]\tvalidation_0-mlogloss:0.76853\n",
            "[1600]\tvalidation_0-mlogloss:0.76709\n",
            "[1700]\tvalidation_0-mlogloss:0.76561\n",
            "[1800]\tvalidation_0-mlogloss:0.76441\n",
            "[1900]\tvalidation_0-mlogloss:0.76350\n",
            "[2000]\tvalidation_0-mlogloss:0.76289\n",
            "[2100]\tvalidation_0-mlogloss:0.76245\n",
            "[2200]\tvalidation_0-mlogloss:0.76212\n",
            "[2300]\tvalidation_0-mlogloss:0.76150\n",
            "[2400]\tvalidation_0-mlogloss:0.76142\n",
            "[2500]\tvalidation_0-mlogloss:0.76116\n",
            "[2585]\tvalidation_0-mlogloss:0.76120\n"
          ]
        },
        {
          "output_type": "stream",
          "name": "stderr",
          "text": [
            "\u001b[32m[I 2022-01-16 10:44:26,867]\u001b[0m Trial 2 finished with value: 0.5221052631578947 and parameters: {'learning_rate': 0.020346933910704273, 'subsample': 0.5548052754702514, 'reg_lambda': 0.09330878990288788, 'reg_alpha': 4.51821252031945e-08, 'max_depth': 4}. Best is trial 1 with value: 0.5132163742690058.\u001b[0m\n"
          ]
        },
        {
          "output_type": "stream",
          "name": "stdout",
          "text": [
            "[0]\tvalidation_0-mlogloss:1.28050\n",
            "[100]\tvalidation_0-mlogloss:0.76720\n",
            "[200]\tvalidation_0-mlogloss:0.76284\n",
            "[262]\tvalidation_0-mlogloss:0.76940\n"
          ]
        },
        {
          "output_type": "stream",
          "name": "stderr",
          "text": [
            "\u001b[32m[I 2022-01-16 10:44:28,820]\u001b[0m Trial 3 finished with value: 0.5218713450292398 and parameters: {'learning_rate': 0.22674287907352655, 'subsample': 0.8871915266122464, 'reg_lambda': 1.4963588358232864e-07, 'reg_alpha': 0.0008466790752709683, 'max_depth': 5}. Best is trial 1 with value: 0.5132163742690058.\u001b[0m\n"
          ]
        },
        {
          "output_type": "stream",
          "name": "stdout",
          "text": [
            "[0]\tvalidation_0-mlogloss:1.25401\n",
            "[100]\tvalidation_0-mlogloss:0.76927\n",
            "[171]\tvalidation_0-mlogloss:0.79309\n"
          ]
        },
        {
          "output_type": "stream",
          "name": "stderr",
          "text": [
            "\u001b[32m[I 2022-01-16 10:44:31,679]\u001b[0m Trial 4 finished with value: 0.5149707602339181 and parameters: {'learning_rate': 0.25491903645315, 'subsample': 0.903277082264751, 'reg_lambda': 4.8178480600398536e-08, 'reg_alpha': 1.4515753587714553e-08, 'max_depth': 7}. Best is trial 1 with value: 0.5132163742690058.\u001b[0m\n"
          ]
        },
        {
          "output_type": "stream",
          "name": "stdout",
          "text": [
            "[0]\tvalidation_0-mlogloss:1.35188\n"
          ]
        },
        {
          "output_type": "stream",
          "name": "stderr",
          "text": [
            "\u001b[32m[I 2022-01-16 10:44:31,747]\u001b[0m Trial 5 pruned. Trial was pruned at iteration 0.\u001b[0m\n"
          ]
        },
        {
          "output_type": "stream",
          "name": "stdout",
          "text": [
            "[0]\tvalidation_0-mlogloss:1.25683\n",
            "[100]\tvalidation_0-mlogloss:0.77680\n",
            "[153]\tvalidation_0-mlogloss:0.80331\n"
          ]
        },
        {
          "output_type": "stream",
          "name": "stderr",
          "text": [
            "\u001b[32m[I 2022-01-16 10:44:35,111]\u001b[0m Trial 6 finished with value: 0.5134502923976608 and parameters: {'learning_rate': 0.23813109140059327, 'subsample': 0.8587397498403289, 'reg_lambda': 0.08512901966737677, 'reg_alpha': 1.6498278474800564e-07, 'max_depth': 8}. Best is trial 1 with value: 0.5132163742690058.\u001b[0m\n"
          ]
        },
        {
          "output_type": "stream",
          "name": "stdout",
          "text": [
            "[0]\tvalidation_0-mlogloss:1.26502\n"
          ]
        },
        {
          "output_type": "stream",
          "name": "stderr",
          "text": [
            "\u001b[32m[I 2022-01-16 10:44:38,395]\u001b[0m Trial 7 pruned. Trial was pruned at iteration 61.\u001b[0m\n",
            "\u001b[32m[I 2022-01-16 10:44:38,541]\u001b[0m Trial 8 pruned. Trial was pruned at iteration 0.\u001b[0m\n",
            "\u001b[32m[I 2022-01-16 10:44:38,600]\u001b[0m Trial 9 pruned. Trial was pruned at iteration 0.\u001b[0m\n"
          ]
        },
        {
          "output_type": "stream",
          "name": "stdout",
          "text": [
            "[0]\tvalidation_0-mlogloss:1.22564\n"
          ]
        },
        {
          "output_type": "stream",
          "name": "stderr",
          "text": [
            "\u001b[32m[I 2022-01-16 10:44:40,509]\u001b[0m Trial 10 pruned. Trial was pruned at iteration 57.\u001b[0m\n",
            "\u001b[32m[I 2022-01-16 10:44:40,607]\u001b[0m Trial 11 pruned. Trial was pruned at iteration 0.\u001b[0m\n"
          ]
        },
        {
          "output_type": "stream",
          "name": "stdout",
          "text": [
            "[0]\tvalidation_0-mlogloss:1.24787\n",
            "[100]\tvalidation_0-mlogloss:0.77831\n",
            "[153]\tvalidation_0-mlogloss:0.80401\n"
          ]
        },
        {
          "output_type": "stream",
          "name": "stderr",
          "text": [
            "\u001b[32m[I 2022-01-16 10:44:44,154]\u001b[0m Trial 12 finished with value: 0.5182456140350877 and parameters: {'learning_rate': 0.2555026074679013, 'subsample': 0.8545623117968921, 'reg_lambda': 0.9601293582145107, 'reg_alpha': 0.0015856764769632138, 'max_depth': 8}. Best is trial 1 with value: 0.5132163742690058.\u001b[0m\n"
          ]
        },
        {
          "output_type": "stream",
          "name": "stdout",
          "text": [
            "[0]\tvalidation_0-mlogloss:1.21635\n"
          ]
        },
        {
          "output_type": "stream",
          "name": "stderr",
          "text": [
            "\u001b[32m[I 2022-01-16 10:44:45,948]\u001b[0m Trial 13 pruned. Trial was pruned at iteration 47.\u001b[0m\n",
            "\u001b[32m[I 2022-01-16 10:44:46,023]\u001b[0m Trial 14 pruned. Trial was pruned at iteration 0.\u001b[0m\n"
          ]
        },
        {
          "output_type": "stream",
          "name": "stdout",
          "text": [
            "[0]\tvalidation_0-mlogloss:1.25998\n",
            "[100]\tvalidation_0-mlogloss:0.77303\n",
            "[165]\tvalidation_0-mlogloss:0.79505\n"
          ]
        },
        {
          "output_type": "stream",
          "name": "stderr",
          "text": [
            "\u001b[32m[I 2022-01-16 10:44:49,521]\u001b[0m Trial 15 finished with value: 0.5177777777777778 and parameters: {'learning_rate': 0.22887544778614738, 'subsample': 0.987183707025461, 'reg_lambda': 0.0030962455195377332, 'reg_alpha': 0.00038182740997929357, 'max_depth': 8}. Best is trial 1 with value: 0.5132163742690058.\u001b[0m\n"
          ]
        },
        {
          "output_type": "stream",
          "name": "stdout",
          "text": [
            "[0]\tvalidation_0-mlogloss:1.28769\n"
          ]
        },
        {
          "output_type": "stream",
          "name": "stderr",
          "text": [
            "\u001b[32m[I 2022-01-16 10:44:49,597]\u001b[0m Trial 16 pruned. Trial was pruned at iteration 0.\u001b[0m\n"
          ]
        },
        {
          "output_type": "stream",
          "name": "stdout",
          "text": [
            "[0]\tvalidation_0-mlogloss:1.31583\n"
          ]
        },
        {
          "output_type": "stream",
          "name": "stderr",
          "text": [
            "\u001b[32m[I 2022-01-16 10:44:49,701]\u001b[0m Trial 17 pruned. Trial was pruned at iteration 0.\u001b[0m\n"
          ]
        },
        {
          "output_type": "stream",
          "name": "stdout",
          "text": [
            "[0]\tvalidation_0-mlogloss:1.26058\n"
          ]
        },
        {
          "output_type": "stream",
          "name": "stderr",
          "text": [
            "\u001b[32m[I 2022-01-16 10:44:49,897]\u001b[0m Trial 18 pruned. Trial was pruned at iteration 12.\u001b[0m\n"
          ]
        },
        {
          "output_type": "stream",
          "name": "stdout",
          "text": [
            "[0]\tvalidation_0-mlogloss:1.25545\n"
          ]
        },
        {
          "output_type": "stream",
          "name": "stderr",
          "text": [
            "\u001b[32m[I 2022-01-16 10:44:51,659]\u001b[0m Trial 19 pruned. Trial was pruned at iteration 48.\u001b[0m\n",
            "\u001b[32m[I 2022-01-16 10:44:51,736]\u001b[0m Trial 20 pruned. Trial was pruned at iteration 0.\u001b[0m\n"
          ]
        },
        {
          "output_type": "stream",
          "name": "stdout",
          "text": [
            "[0]\tvalidation_0-mlogloss:1.25187\n",
            "[100]\tvalidation_0-mlogloss:0.77060\n",
            "[172]\tvalidation_0-mlogloss:0.79498\n"
          ]
        },
        {
          "output_type": "stream",
          "name": "stderr",
          "text": [
            "\u001b[32m[I 2022-01-16 10:44:54,631]\u001b[0m Trial 21 finished with value: 0.515906432748538 and parameters: {'learning_rate': 0.2593861664160838, 'subsample': 0.9336852058654719, 'reg_lambda': 1.7367666435416482e-08, 'reg_alpha': 6.619480033859005e-08, 'max_depth': 7}. Best is trial 1 with value: 0.5132163742690058.\u001b[0m\n"
          ]
        },
        {
          "output_type": "stream",
          "name": "stdout",
          "text": [
            "[0]\tvalidation_0-mlogloss:1.25215\n",
            "[100]\tvalidation_0-mlogloss:0.78470\n",
            "[155]\tvalidation_0-mlogloss:0.81457\n"
          ]
        },
        {
          "output_type": "stream",
          "name": "stderr",
          "text": [
            "\u001b[32m[I 2022-01-16 10:44:58,523]\u001b[0m Trial 22 finished with value: 0.5203508771929825 and parameters: {'learning_rate': 0.2458575207227933, 'subsample': 0.8293594093968368, 'reg_lambda': 9.184415447420651e-08, 'reg_alpha': 1.265055850101846e-08, 'max_depth': 8}. Best is trial 1 with value: 0.5132163742690058.\u001b[0m\n",
            "\u001b[32m[I 2022-01-16 10:44:58,593]\u001b[0m Trial 23 pruned. Trial was pruned at iteration 0.\u001b[0m\n"
          ]
        },
        {
          "output_type": "stream",
          "name": "stdout",
          "text": [
            "[0]\tvalidation_0-mlogloss:1.27933\n"
          ]
        },
        {
          "output_type": "stream",
          "name": "stderr",
          "text": [
            "\u001b[32m[I 2022-01-16 10:44:58,671]\u001b[0m Trial 24 pruned. Trial was pruned at iteration 0.\u001b[0m\n"
          ]
        },
        {
          "output_type": "stream",
          "name": "stdout",
          "text": [
            "[0]\tvalidation_0-mlogloss:1.27662\n"
          ]
        },
        {
          "output_type": "stream",
          "name": "stderr",
          "text": [
            "\u001b[32m[I 2022-01-16 10:44:58,747]\u001b[0m Trial 25 pruned. Trial was pruned at iteration 0.\u001b[0m\n"
          ]
        },
        {
          "output_type": "stream",
          "name": "stdout",
          "text": [
            "[0]\tvalidation_0-mlogloss:1.23792\n",
            "[100]\tvalidation_0-mlogloss:0.78943\n",
            "[147]\tvalidation_0-mlogloss:0.81665\n"
          ]
        },
        {
          "output_type": "stream",
          "name": "stderr",
          "text": [
            "\u001b[32m[I 2022-01-16 10:45:02,372]\u001b[0m Trial 26 finished with value: 0.5133333333333333 and parameters: {'learning_rate': 0.27533743887856654, 'subsample': 0.8622192622959457, 'reg_lambda': 4.0086956943776287e-07, 'reg_alpha': 4.355154007079121e-06, 'max_depth': 8}. Best is trial 1 with value: 0.5132163742690058.\u001b[0m\n"
          ]
        },
        {
          "output_type": "stream",
          "name": "stdout",
          "text": [
            "[0]\tvalidation_0-mlogloss:1.22461\n"
          ]
        },
        {
          "output_type": "stream",
          "name": "stderr",
          "text": [
            "\u001b[32m[I 2022-01-16 10:45:04,057]\u001b[0m Trial 27 pruned. Trial was pruned at iteration 38.\u001b[0m\n"
          ]
        },
        {
          "output_type": "stream",
          "name": "stdout",
          "text": [
            "[0]\tvalidation_0-mlogloss:1.28544\n"
          ]
        },
        {
          "output_type": "stream",
          "name": "stderr",
          "text": [
            "\u001b[32m[I 2022-01-16 10:45:04,151]\u001b[0m Trial 28 pruned. Trial was pruned at iteration 0.\u001b[0m\n",
            "\u001b[32m[I 2022-01-16 10:45:04,244]\u001b[0m Trial 29 pruned. Trial was pruned at iteration 0.\u001b[0m\n",
            "\u001b[32m[I 2022-01-16 10:45:04,314]\u001b[0m Trial 30 pruned. Trial was pruned at iteration 0.\u001b[0m\n"
          ]
        },
        {
          "output_type": "stream",
          "name": "stdout",
          "text": [
            "[0]\tvalidation_0-mlogloss:1.24296\n"
          ]
        },
        {
          "output_type": "stream",
          "name": "stderr",
          "text": [
            "\u001b[32m[I 2022-01-16 10:45:05,663]\u001b[0m Trial 31 pruned. Trial was pruned at iteration 60.\u001b[0m\n"
          ]
        },
        {
          "output_type": "stream",
          "name": "stdout",
          "text": [
            "[0]\tvalidation_0-mlogloss:1.27582\n"
          ]
        },
        {
          "output_type": "stream",
          "name": "stderr",
          "text": [
            "\u001b[32m[I 2022-01-16 10:45:05,746]\u001b[0m Trial 32 pruned. Trial was pruned at iteration 0.\u001b[0m\n"
          ]
        },
        {
          "output_type": "stream",
          "name": "stdout",
          "text": [
            "[0]\tvalidation_0-mlogloss:1.28644\n"
          ]
        },
        {
          "output_type": "stream",
          "name": "stderr",
          "text": [
            "\u001b[32m[I 2022-01-16 10:45:05,819]\u001b[0m Trial 33 pruned. Trial was pruned at iteration 0.\u001b[0m\n"
          ]
        },
        {
          "output_type": "stream",
          "name": "stdout",
          "text": [
            "[0]\tvalidation_0-mlogloss:1.25255\n"
          ]
        },
        {
          "output_type": "stream",
          "name": "stderr",
          "text": [
            "\u001b[32m[I 2022-01-16 10:45:05,928]\u001b[0m Trial 34 pruned. Trial was pruned at iteration 3.\u001b[0m\n"
          ]
        },
        {
          "output_type": "stream",
          "name": "stdout",
          "text": [
            "[0]\tvalidation_0-mlogloss:1.22209\n"
          ]
        },
        {
          "output_type": "stream",
          "name": "stderr",
          "text": [
            "\u001b[32m[I 2022-01-16 10:45:07,031]\u001b[0m Trial 35 pruned. Trial was pruned at iteration 43.\u001b[0m\n",
            "\u001b[32m[I 2022-01-16 10:45:07,112]\u001b[0m Trial 36 pruned. Trial was pruned at iteration 0.\u001b[0m\n"
          ]
        },
        {
          "output_type": "stream",
          "name": "stdout",
          "text": [
            "[0]\tvalidation_0-mlogloss:1.37143\n"
          ]
        },
        {
          "output_type": "stream",
          "name": "stderr",
          "text": [
            "\u001b[32m[I 2022-01-16 10:45:07,196]\u001b[0m Trial 37 pruned. Trial was pruned at iteration 0.\u001b[0m\n"
          ]
        },
        {
          "output_type": "stream",
          "name": "stdout",
          "text": [
            "[0]\tvalidation_0-mlogloss:1.25611\n"
          ]
        },
        {
          "output_type": "stream",
          "name": "stderr",
          "text": [
            "\u001b[32m[I 2022-01-16 10:45:09,093]\u001b[0m Trial 38 pruned. Trial was pruned at iteration 33.\u001b[0m\n",
            "\u001b[32m[I 2022-01-16 10:45:09,165]\u001b[0m Trial 39 pruned. Trial was pruned at iteration 0.\u001b[0m\n"
          ]
        },
        {
          "output_type": "stream",
          "name": "stdout",
          "text": [
            "[0]\tvalidation_0-mlogloss:1.22970\n"
          ]
        },
        {
          "output_type": "stream",
          "name": "stderr",
          "text": [
            "\u001b[32m[I 2022-01-16 10:45:10,286]\u001b[0m Trial 40 pruned. Trial was pruned at iteration 33.\u001b[0m\n"
          ]
        },
        {
          "output_type": "stream",
          "name": "stdout",
          "text": [
            "[0]\tvalidation_0-mlogloss:1.25642\n"
          ]
        },
        {
          "output_type": "stream",
          "name": "stderr",
          "text": [
            "\u001b[32m[I 2022-01-16 10:45:10,404]\u001b[0m Trial 41 pruned. Trial was pruned at iteration 2.\u001b[0m\n"
          ]
        },
        {
          "output_type": "stream",
          "name": "stdout",
          "text": [
            "[0]\tvalidation_0-mlogloss:1.24849\n"
          ]
        },
        {
          "output_type": "stream",
          "name": "stderr",
          "text": [
            "\u001b[32m[I 2022-01-16 10:45:10,827]\u001b[0m Trial 42 pruned. Trial was pruned at iteration 19.\u001b[0m\n"
          ]
        },
        {
          "output_type": "stream",
          "name": "stdout",
          "text": [
            "[0]\tvalidation_0-mlogloss:1.26127\n"
          ]
        },
        {
          "output_type": "stream",
          "name": "stderr",
          "text": [
            "\u001b[32m[I 2022-01-16 10:45:10,909]\u001b[0m Trial 43 pruned. Trial was pruned at iteration 0.\u001b[0m\n"
          ]
        },
        {
          "output_type": "stream",
          "name": "stdout",
          "text": [
            "[0]\tvalidation_0-mlogloss:1.25710\n"
          ]
        },
        {
          "output_type": "stream",
          "name": "stderr",
          "text": [
            "\u001b[32m[I 2022-01-16 10:45:11,004]\u001b[0m Trial 44 pruned. Trial was pruned at iteration 0.\u001b[0m\n"
          ]
        },
        {
          "output_type": "stream",
          "name": "stdout",
          "text": [
            "[0]\tvalidation_0-mlogloss:1.33828\n"
          ]
        },
        {
          "output_type": "stream",
          "name": "stderr",
          "text": [
            "\u001b[32m[I 2022-01-16 10:45:11,093]\u001b[0m Trial 45 pruned. Trial was pruned at iteration 0.\u001b[0m\n",
            "\u001b[32m[I 2022-01-16 10:45:11,183]\u001b[0m Trial 46 pruned. Trial was pruned at iteration 0.\u001b[0m\n"
          ]
        },
        {
          "output_type": "stream",
          "name": "stdout",
          "text": [
            "[0]\tvalidation_0-mlogloss:1.29261\n"
          ]
        },
        {
          "output_type": "stream",
          "name": "stderr",
          "text": [
            "\u001b[32m[I 2022-01-16 10:45:11,255]\u001b[0m Trial 47 pruned. Trial was pruned at iteration 0.\u001b[0m\n"
          ]
        },
        {
          "output_type": "stream",
          "name": "stdout",
          "text": [
            "[0]\tvalidation_0-mlogloss:1.23048\n"
          ]
        },
        {
          "output_type": "stream",
          "name": "stderr",
          "text": [
            "\u001b[32m[I 2022-01-16 10:45:12,071]\u001b[0m Trial 48 pruned. Trial was pruned at iteration 46.\u001b[0m\n"
          ]
        },
        {
          "output_type": "stream",
          "name": "stdout",
          "text": [
            "[0]\tvalidation_0-mlogloss:1.27269\n"
          ]
        },
        {
          "output_type": "stream",
          "name": "stderr",
          "text": [
            "\u001b[32m[I 2022-01-16 10:45:12,148]\u001b[0m Trial 49 pruned. Trial was pruned at iteration 0.\u001b[0m\n"
          ]
        },
        {
          "output_type": "stream",
          "name": "stdout",
          "text": [
            "CPU times: user 1min 7s, sys: 1.35 s, total: 1min 8s\n",
            "Wall time: 1min 6s\n"
          ]
        }
      ]
    },
    {
      "cell_type": "code",
      "source": [
        "print(f'Best value (Accuracy): {study.best_value:.5f}')\n",
        "\n",
        "best_params = study.best_params\n",
        "print('Best params:')\n",
        "for key, value in best_params.items():\n",
        "    print(f'\\t{key}: {value}')"
      ],
      "metadata": {
        "colab": {
          "base_uri": "https://localhost:8080/"
        },
        "id": "4rcI1l5annFg",
        "outputId": "30465f6d-7024-40fc-b001-d9b336e510ae"
      },
      "execution_count": 26,
      "outputs": [
        {
          "output_type": "stream",
          "name": "stdout",
          "text": [
            "Best value (Accuracy): 0.51322\n",
            "Best params:\n",
            "\tlearning_rate: 0.20901162959275282\n",
            "\tsubsample: 0.649101046910588\n",
            "\treg_lambda: 1.3454201242261047e-07\n",
            "\treg_alpha: 0.00033639349391350226\n",
            "\tmax_depth: 7\n"
          ]
        }
      ]
    },
    {
      "cell_type": "markdown",
      "source": [
        "# Cross-validation + Inference"
      ],
      "metadata": {
        "id": "6LiT7QnaxuqM"
      }
    },
    {
      "cell_type": "code",
      "source": [
        "N_SPLITS = 5\n",
        "train['fold'] = -1\n",
        "\n",
        "skf = StratifiedKFold(n_splits=N_SPLITS, shuffle=True, random_state=SEED)\n",
        "\n",
        "for fold, (_, val_idx) in enumerate(skf.split(X=train, y=train['season'])):\n",
        "  train.loc[val_idx, 'fold'] = fold"
      ],
      "metadata": {
        "id": "W2hCuIOPx4pu"
      },
      "execution_count": 27,
      "outputs": []
    },
    {
      "cell_type": "code",
      "source": [
        "def custom_cross_val_predict(train, test, features, model):\n",
        "  oof_preds = {}\n",
        "  test_preds = []\n",
        "  scores = []\n",
        "    \n",
        "  cv_start = time.time()\n",
        "    \n",
        "  for fold in range(N_SPLITS):\n",
        "    print('-' * 40)\n",
        "        \n",
        "    xtrain = train[train.fold != fold].reset_index(drop=True)\n",
        "    ytrain = xtrain.season\n",
        "\n",
        "    xval = train[train.fold == fold].reset_index(drop=True)\n",
        "    yval = xval.season\n",
        "    val_idx = xval.index.tolist()\n",
        "    \n",
        "    fold_start = time.time()\n",
        "        \n",
        "    model.fit(\n",
        "      xtrain[features], ytrain,\n",
        "      eval_set=[(xval[features], yval)],\n",
        "      early_stopping_rounds=100,\n",
        "      verbose=100\n",
        "    )\n",
        "    \n",
        "    val_preds = model.predict(xval[features])\n",
        "    oof_preds.update(dict(zip(val_idx, val_preds)))\n",
        "    acc = accuracy_score(yval, val_preds)\n",
        "    scores.append(acc)\n",
        "        \n",
        "    fold_end = time.time()\n",
        "        \n",
        "    print(f'Fold #{fold}: Accuracy = {acc:.5f} \\\n",
        "    [Time: {fold_end - fold_start:.2f}s]')\n",
        "        \n",
        "    test_preds.append(model.predict(test[features]))\n",
        "        \n",
        "    cv_end = time.time()\n",
        "  \n",
        "  print(f'Average accuracy = {np.mean(scores):.5f} \\\n",
        "  with std. dev. = {np.std(scores):.5f}')\n",
        "  \n",
        "  print(f'[Total time: {cv_end - cv_start:.2f}s]')\n",
        "    \n",
        "  oof_preds = pd.DataFrame.from_dict(oof_preds, orient='index').reset_index()\n",
        "  test_preds = mode(np.column_stack(test_preds), axis=1).mode\n",
        "    \n",
        "  return oof_preds, test_preds"
      ],
      "metadata": {
        "id": "WqMw_ej3xXMZ"
      },
      "execution_count": 38,
      "outputs": []
    },
    {
      "cell_type": "code",
      "source": [
        "model = XGBClassifier(**base_params, **best_params)"
      ],
      "metadata": {
        "id": "-Xce3YGcAlbe"
      },
      "execution_count": 39,
      "outputs": []
    },
    {
      "cell_type": "code",
      "source": [
        "oof_preds, test_preds = custom_cross_val_predict(train, test, features, model)"
      ],
      "metadata": {
        "colab": {
          "base_uri": "https://localhost:8080/"
        },
        "id": "akW_mB6YAy9-",
        "outputId": "8245c459-bf38-466d-9c04-44d4ce8961e5"
      },
      "execution_count": 40,
      "outputs": [
        {
          "output_type": "stream",
          "name": "stdout",
          "text": [
            "----------------------------------------\n",
            "[0]\tvalidation_0-mlogloss:1.27623\n",
            "[100]\tvalidation_0-mlogloss:0.77336\n",
            "[173]\tvalidation_0-mlogloss:0.79483\n",
            "Fold #0: Accuracy = 0.51719     [Time: 3.07s]\n",
            "----------------------------------------\n",
            "[0]\tvalidation_0-mlogloss:1.27657\n",
            "[100]\tvalidation_0-mlogloss:0.77231\n",
            "[174]\tvalidation_0-mlogloss:0.79569\n",
            "Fold #1: Accuracy = 0.51240     [Time: 2.94s]\n",
            "----------------------------------------\n",
            "[0]\tvalidation_0-mlogloss:1.27611\n",
            "[100]\tvalidation_0-mlogloss:0.77073\n",
            "[181]\tvalidation_0-mlogloss:0.79287\n",
            "Fold #2: Accuracy = 0.51357     [Time: 3.05s]\n",
            "----------------------------------------\n",
            "[0]\tvalidation_0-mlogloss:1.27627\n",
            "[100]\tvalidation_0-mlogloss:0.77229\n",
            "[169]\tvalidation_0-mlogloss:0.79290\n",
            "Fold #3: Accuracy = 0.51796     [Time: 2.85s]\n",
            "----------------------------------------\n",
            "[0]\tvalidation_0-mlogloss:1.27483\n",
            "[100]\tvalidation_0-mlogloss:0.77258\n",
            "[174]\tvalidation_0-mlogloss:0.79662\n",
            "Fold #4: Accuracy = 0.51374     [Time: 2.93s]\n",
            "Average accuracy = 0.51497   with std. dev. = 0.00219\n",
            "[Total time: 15.02s]\n"
          ]
        }
      ]
    },
    {
      "cell_type": "code",
      "source": [
        "sub1 = pd.read_csv(sub_url)\n",
        "sub1['season'] = target_labels.inverse_transform(test_preds.ravel())\n",
        "sub1.to_csv('sub1.csv', index=False)\n",
        "\n",
        "!head sub1.csv"
      ],
      "metadata": {
        "colab": {
          "base_uri": "https://localhost:8080/"
        },
        "id": "pOIvrLWLfWJa",
        "outputId": "9a2a53e0-65e0-4d3d-edf4-84c4469c5d1e"
      },
      "execution_count": 43,
      "outputs": [
        {
          "output_type": "stream",
          "name": "stdout",
          "text": [
            "season\n",
            "s\n",
            "u\n",
            "u\n",
            "u\n",
            "u\n",
            "u\n",
            "a\n",
            "u\n",
            "a\n"
          ]
        }
      ]
    }
  ]
}