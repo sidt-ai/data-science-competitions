{
  "nbformat": 4,
  "nbformat_minor": 0,
  "metadata": {
    "colab": {
      "name": "[MH] Ode To Code - Modelling",
      "provenance": []
    },
    "kernelspec": {
      "name": "python3",
      "display_name": "Python 3"
    },
    "language_info": {
      "name": "python"
    },
    "accelerator": "GPU"
  },
  "cells": [
    {
      "cell_type": "markdown",
      "source": [
        "# Imports"
      ],
      "metadata": {
        "id": "NSBri8v5mGJ_"
      }
    },
    {
      "cell_type": "code",
      "execution_count": 38,
      "metadata": {
        "id": "8VQjR6m5fkVp"
      },
      "outputs": [],
      "source": [
        "train_full_url = 'https://raw.githubusercontent.com/sidt-ai/data-science-competitions/main/machinehack/ode_to_code_2022/data/processed/train_full.csv'\n",
        "train_reduced_url = 'https://raw.githubusercontent.com/sidt-ai/data-science-competitions/main/machinehack/ode_to_code_2022/data/processed/train_reduced.csv'\n",
        "test_url = 'https://raw.githubusercontent.com/sidt-ai/data-science-competitions/main/machinehack/ode_to_code_2022/data/processed/test.csv'\n",
        "sub_url = 'https://raw.githubusercontent.com/sidt-ai/data-science-competitions/main/machinehack/ode_to_code_2022/data/raw/sample_submission.csv'"
      ]
    },
    {
      "cell_type": "code",
      "source": [
        "%%capture\n",
        "!python3 -m pip install --quiet --upgrade optuna\n",
        "!python3 -m pip install --quiet --upgrade xgboost==1.5\n",
        "!python3 -m pip install --quiet --upgrade catboost\n",
        "!python3 -m pip install --quiet --upgrade lightgbm"
      ],
      "metadata": {
        "id": "3HqArAl-jNIb"
      },
      "execution_count": 39,
      "outputs": []
    },
    {
      "cell_type": "code",
      "source": [
        "%%capture\n",
        "!python3 -m pip install --quiet --upgrade sklearn"
      ],
      "metadata": {
        "id": "z7G8zqXilKHh"
      },
      "execution_count": 40,
      "outputs": []
    },
    {
      "cell_type": "code",
      "source": [
        "import time\n",
        "import gc\n",
        "gc.enable()\n",
        "\n",
        "import warnings\n",
        "warnings.filterwarnings('ignore')\n",
        "\n",
        "import numpy as np\n",
        "import pandas as pd\n",
        "pd.set_option(\"precision\", 4)\n",
        "\n",
        "import matplotlib.pyplot as plt\n",
        "import seaborn as sns\n",
        "%matplotlib inline\n",
        "sns.set(style=\"darkgrid\")\n",
        "\n",
        "from scipy.stats import mode\n",
        "from sklearn.metrics import roc_auc_score, accuracy_score\n",
        "from sklearn.model_selection import train_test_split\n",
        "\n",
        "import xgboost as xgb\n",
        "import lightgbm as lgb\n",
        "from catboost import CatBoostClassifier\n",
        "\n",
        "import optuna\n",
        "from optuna.samplers import TPESampler\n",
        "\n",
        "SEED = 2311"
      ],
      "metadata": {
        "id": "mhmRHNVMhjkE"
      },
      "execution_count": 41,
      "outputs": []
    },
    {
      "cell_type": "code",
      "source": [
        "import torch\n",
        "\n",
        "if torch.cuda.is_available():\n",
        "    GPU = True\n",
        "else:\n",
        "    GPU = False"
      ],
      "metadata": {
        "id": "EjxWlHRVrH0t"
      },
      "execution_count": 42,
      "outputs": []
    },
    {
      "cell_type": "code",
      "source": [
        "train_full = pd.read_csv(train_full_url)\n",
        "train_reduced = pd.read_csv(train_reduced_url)\n",
        "test = pd.read_csv(test_url)\n",
        "sub = pd.read_csv(sub_url)"
      ],
      "metadata": {
        "id": "LonNT-wyrzyt"
      },
      "execution_count": 43,
      "outputs": []
    },
    {
      "cell_type": "code",
      "source": [
        "target = ['season']\n",
        "features = [f for f in train_full.columns if f not in ('season', 'fold')]\n",
        "num_features = ['cap-diameter', 'stem-height', 'stem-width']\n",
        "cat_features = [f for f in features if f not in num_features]"
      ],
      "metadata": {
        "id": "jEEYAHRjrqrR"
      },
      "execution_count": 44,
      "outputs": []
    },
    {
      "cell_type": "code",
      "source": [
        "target_mapping = {0: 'a', 1: 's', 2: 'u', 3: 'w'}"
      ],
      "metadata": {
        "id": "CVCr-ZBXim5_"
      },
      "execution_count": 45,
      "outputs": []
    },
    {
      "cell_type": "markdown",
      "source": [
        "# CatBoost"
      ],
      "metadata": {
        "id": "fiIiSoTWmKWG"
      }
    },
    {
      "cell_type": "markdown",
      "source": [
        "### Model 6 - train_full"
      ],
      "metadata": {
        "id": "4TIp7PRbu8pK"
      }
    },
    {
      "cell_type": "code",
      "source": [
        "cb_base = {\n",
        "    'loss_function': 'MultiClass',\n",
        "    'custom_metric': 'F1',\n",
        "    'eval_metric': 'Accuracy',\n",
        "    'iterations': 5000,\n",
        "    'random_seed': SEED,\n",
        "    'use_best_model': True,\n",
        "    'classes_count': 4,\n",
        "    'task_type': 'CPU',\n",
        "    'cat_features': cat_features\n",
        "}\n",
        "\n",
        "if GPU:\n",
        "  cb_base['task_type'] = 'GPU'"
      ],
      "metadata": {
        "id": "X2UYW0s3l6K5"
      },
      "execution_count": 20,
      "outputs": []
    },
    {
      "cell_type": "code",
      "source": [
        "def cb_objective(trial, xtrain, ytrain, xval, yval, cb_base):\n",
        "  \n",
        "  cb_grid = {\n",
        "    'learning_rate' :trial.suggest_loguniform('learning_rate', 0.01, 0.3),\n",
        "    'depth': trial.suggest_int('depth', 1, 15),\n",
        "    'l2_leaf_reg' :trial.suggest_loguniform('l2_leaf_reg', 1e-8, 20),\n",
        "    'random_strength' : trial.suggest_loguniform('random_strength', 1, 50),\n",
        "    'grow_policy':trial.suggest_categorical(\n",
        "        'grow_policy', ['Lossguide','SymmetricTree']\n",
        "    ),\n",
        "    'max_bin': trial.suggest_int(\"max_bin\", 20, 500),\n",
        "    'min_data_in_leaf':trial.suggest_int('min_data_in_leaf', 1, 100),\n",
        "    'bootstrap_type': trial.suggest_categorical(\n",
        "        'bootstrap_type', ['Bayesian', 'Bernoulli']\n",
        "    )\n",
        "  }\n",
        "              \n",
        "  if cb_grid['grow_policy'] == 'Lossguide':\n",
        "    cb_grid['max_leaves']:trial.suggest_int('max_leaves', 1, 100)\n",
        "    \n",
        "  if cb_grid[\"bootstrap_type\"] == \"Bayesian\":\n",
        "    cb_grid[\"bagging_temperature\"] = trial.suggest_float(\"bagging_temperature\", 0, 10)\n",
        "  elif cb_grid[\"bootstrap_type\"] == \"Bernoulli\":\n",
        "    cb_grid[\"subsample\"] = trial.suggest_float(\"subsample\", 0.1, 1)\n",
        "\n",
        "  model = CatBoostClassifier(**cb_base, **cb_grid)\n",
        "\n",
        "  model.fit(\n",
        "      xtrain, ytrain,\n",
        "      eval_set=[(xval, yval)],\n",
        "      verbose=100,\n",
        "      early_stopping_rounds=100\n",
        "  )\n",
        "\n",
        "  val_predictions = model.predict(xval)\n",
        "  return accuracy_score(yval, val_predictions)  "
      ],
      "metadata": {
        "id": "ErvKGK_noO6l"
      },
      "execution_count": 16,
      "outputs": []
    },
    {
      "cell_type": "code",
      "source": [
        "cbfull_study = optuna.create_study(direction='maximize', \n",
        "                            sampler=TPESampler(), \n",
        "                            study_name='MH_O2C_M6')"
      ],
      "metadata": {
        "colab": {
          "base_uri": "https://localhost:8080/"
        },
        "id": "ysCPzmltvREJ",
        "outputId": "359cde94-a4ed-422b-fbd3-9cb5322d8874"
      },
      "execution_count": 17,
      "outputs": [
        {
          "output_type": "stream",
          "name": "stderr",
          "text": [
            "\u001b[32m[I 2022-01-24 11:10:14,303]\u001b[0m A new study created in memory with name: MH_O2C_M6\u001b[0m\n"
          ]
        }
      ]
    },
    {
      "cell_type": "code",
      "source": [
        "xtrain, xval, ytrain, yval = train_test_split(train_full[features], \n",
        "                                              train_full[target],\n",
        "                                              test_size=0.2, shuffle=True,\n",
        "                                              stratify=train_full[target],\n",
        "                                              random_state=SEED)"
      ],
      "metadata": {
        "id": "I43woFEauHZc"
      },
      "execution_count": 18,
      "outputs": []
    },
    {
      "cell_type": "code",
      "source": [
        "# %%capture\n",
        "cbfull_study.optimize(\n",
        "    lambda trial: cb_objective(trial, xtrain, ytrain, xval, yval, cb_base),\n",
        "    n_trials=50\n",
        ")"
      ],
      "metadata": {
        "id": "pg99oECqvtMl"
      },
      "execution_count": null,
      "outputs": []
    },
    {
      "cell_type": "code",
      "source": [
        "print(f'Best value (Accuracy): {cbfull_study.best_value:.5f}')\n",
        "\n",
        "cbfull_best = cbfull_study.best_params\n",
        "print('Best params:')\n",
        "for key, value in cbfull_best.items():\n",
        "    print(f'\\t{key}: {value}')"
      ],
      "metadata": {
        "colab": {
          "base_uri": "https://localhost:8080/"
        },
        "id": "Ptu-qPVUv3DL",
        "outputId": "259aba00-06e4-4cda-84a1-4c58f08a9a12"
      },
      "execution_count": 22,
      "outputs": [
        {
          "output_type": "stream",
          "name": "stdout",
          "text": [
            "Best value (Accuracy): 0.53216\n",
            "Best params:\n",
            "\tlearning_rate: 0.24912820430081778\n",
            "\tdepth: 14\n",
            "\tl2_leaf_reg: 0.002167945616348965\n",
            "\trandom_strength: 16.825720017427575\n",
            "\tgrow_policy: Lossguide\n",
            "\tmax_bin: 190\n",
            "\tmin_data_in_leaf: 27\n",
            "\tbootstrap_type: Bernoulli\n",
            "\tsubsample: 0.26524979251881575\n"
          ]
        }
      ]
    },
    {
      "cell_type": "code",
      "source": [
        "N_SPLITS = 5\n",
        "\n",
        "def custom_cross_val_predict(train, test, features, model):\n",
        "  oof_preds = {}\n",
        "  test_preds = []\n",
        "  scores = []\n",
        "    \n",
        "  cv_start = time.time()\n",
        "    \n",
        "  for fold in range(N_SPLITS):\n",
        "    print('-' * 40)\n",
        "        \n",
        "    xtrain = train[train.fold != fold].reset_index(drop=True)\n",
        "    ytrain = xtrain.season\n",
        "\n",
        "    xval = train[train.fold == fold].reset_index(drop=True)\n",
        "    yval = xval.season\n",
        "    val_idx = xval.index.tolist()\n",
        "    \n",
        "    fold_start = time.time()\n",
        "        \n",
        "    model.fit(\n",
        "      xtrain[features], ytrain,\n",
        "      eval_set=[(xval[features], yval)],\n",
        "      early_stopping_rounds=100,\n",
        "      verbose=100\n",
        "    )\n",
        "    \n",
        "    val_preds = model.predict(xval[features])\n",
        "    oof_preds.update(dict(zip(val_idx, val_preds)))\n",
        "    acc = accuracy_score(yval, val_preds)\n",
        "    scores.append(acc)\n",
        "        \n",
        "    fold_end = time.time()\n",
        "        \n",
        "    print(f'Fold #{fold}: Accuracy = {acc:.5f} \\\n",
        "    [Time: {fold_end - fold_start:.2f}s]')\n",
        "        \n",
        "    test_preds.append(model.predict(test[features]))\n",
        "        \n",
        "    cv_end = time.time()\n",
        "  \n",
        "  print(f'Average accuracy = {np.mean(scores):.5f} \\\n",
        "  with std. dev. = {np.std(scores):.5f}')\n",
        "  \n",
        "  print(f'[Total time: {cv_end - cv_start:.2f}s]')\n",
        "    \n",
        "  oof_preds = pd.DataFrame.from_dict(oof_preds, orient='index').reset_index()\n",
        "  test_preds = mode(np.column_stack(test_preds), axis=1).mode\n",
        "    \n",
        "  return oof_preds, test_preds"
      ],
      "metadata": {
        "id": "dIvWcv_bwDvU"
      },
      "execution_count": 26,
      "outputs": []
    },
    {
      "cell_type": "code",
      "source": [
        "model6 = CatBoostClassifier(**cb_base, **cbfull_best)"
      ],
      "metadata": {
        "id": "Cd9lEx-3wZGY"
      },
      "execution_count": 27,
      "outputs": []
    },
    {
      "cell_type": "code",
      "source": [
        "oof_preds6, test_preds6 = custom_cross_val_predict(train_full, test, features, model6)"
      ],
      "metadata": {
        "colab": {
          "base_uri": "https://localhost:8080/"
        },
        "id": "V0J0KmWFwj7p",
        "outputId": "0bf7a7b7-faff-45e5-f05e-3ca680deb899"
      },
      "execution_count": 29,
      "outputs": [
        {
          "output_type": "stream",
          "name": "stdout",
          "text": [
            "----------------------------------------\n"
          ]
        },
        {
          "output_type": "stream",
          "name": "stderr",
          "text": [
            "Custom logger is already specified. Specify more than one logger at same time is not thread safe."
          ]
        },
        {
          "output_type": "stream",
          "name": "stdout",
          "text": [
            "0:\tlearn: 0.5121645\ttest: 0.5182456\tbest: 0.5182456 (0)\ttotal: 38ms\tremaining: 3m 10s\n",
            "100:\tlearn: 0.5917013\ttest: 0.5155556\tbest: 0.5219883 (10)\ttotal: 3.68s\tremaining: 2m 58s\n",
            "bestTest = 0.5219883041\n",
            "bestIteration = 10\n",
            "Shrink model to first 11 iterations.\n",
            "Fold #0: Accuracy = 0.52199     [Time: 6.08s]\n",
            "----------------------------------------\n",
            "0:\tlearn: 0.5129540\ttest: 0.5112281\tbest: 0.5112281 (0)\ttotal: 37.2ms\tremaining: 3m 5s\n",
            "100:\tlearn: 0.5941576\ttest: 0.5098246\tbest: 0.5184795 (9)\ttotal: 3.52s\tremaining: 2m 50s\n",
            "bestTest = 0.5184795322\n",
            "bestIteration = 9\n",
            "Shrink model to first 10 iterations.\n",
            "Fold #1: Accuracy = 0.51848     [Time: 5.80s]\n",
            "----------------------------------------\n",
            "0:\tlearn: 0.5149132\ttest: 0.5066667\tbest: 0.5066667 (0)\ttotal: 35.1ms\tremaining: 2m 55s\n",
            "100:\tlearn: 0.5999766\ttest: 0.5134503\tbest: 0.5170760 (3)\ttotal: 3.33s\tremaining: 2m 41s\n",
            "bestTest = 0.5170760234\n",
            "bestIteration = 3\n",
            "Shrink model to first 4 iterations.\n",
            "Fold #2: Accuracy = 0.51708     [Time: 5.21s]\n",
            "----------------------------------------\n",
            "0:\tlearn: 0.5102196\ttest: 0.5140952\tbest: 0.5140952 (0)\ttotal: 32.8ms\tremaining: 2m 44s\n",
            "100:\tlearn: 0.5944911\ttest: 0.5201778\tbest: 0.5268452 (16)\ttotal: 3.24s\tremaining: 2m 37s\n",
            "bestTest = 0.5268452451\n",
            "bestIteration = 16\n",
            "Shrink model to first 17 iterations.\n",
            "Fold #3: Accuracy = 0.52685     [Time: 5.37s]\n",
            "----------------------------------------\n",
            "0:\tlearn: 0.5134653\ttest: 0.5081296\tbest: 0.5081296 (0)\ttotal: 37ms\tremaining: 3m 4s\n",
            "100:\tlearn: 0.5969765\ttest: 0.5146801\tbest: 0.5249737 (25)\ttotal: 3.2s\tremaining: 2m 35s\n",
            "bestTest = 0.5249736811\n",
            "bestIteration = 25\n",
            "Shrink model to first 26 iterations.\n",
            "Fold #4: Accuracy = 0.52497     [Time: 5.62s]\n",
            "Average accuracy = 0.52187   with std. dev. = 0.00371\n",
            "[Total time: 28.77s]\n"
          ]
        }
      ]
    },
    {
      "cell_type": "code",
      "source": [
        "sub6 = pd.read_csv(sub_url)\n",
        "sub6['season'] = test_preds6.ravel()\n",
        "sub6['season'] = sub6['season'].map(target_mapping)\n",
        "sub6.to_csv('sub6.csv', index=False)\n",
        "\n",
        "!head sub6.csv"
      ],
      "metadata": {
        "colab": {
          "base_uri": "https://localhost:8080/"
        },
        "id": "aU00xVsMxFqP",
        "outputId": "406bbc65-c750-4d99-d7dd-6cc7a56394fd"
      },
      "execution_count": 30,
      "outputs": [
        {
          "output_type": "stream",
          "name": "stdout",
          "text": [
            "season\n",
            "a\n",
            "a\n",
            "u\n",
            "a\n",
            "a\n",
            "u\n",
            "a\n",
            "u\n",
            "u\n"
          ]
        }
      ]
    },
    {
      "cell_type": "markdown",
      "source": [
        "### Model 7 - train_reduced"
      ],
      "metadata": {
        "id": "xjPIFKdrysqv"
      }
    },
    {
      "cell_type": "code",
      "source": [
        "cbred_study = optuna.create_study(direction='maximize', \n",
        "                            sampler=TPESampler(), \n",
        "                            study_name='MH_O2C_M7')"
      ],
      "metadata": {
        "colab": {
          "base_uri": "https://localhost:8080/"
        },
        "outputId": "7f784753-e016-4b2c-963b-a6b708386629",
        "id": "6qKELol7y76u"
      },
      "execution_count": 31,
      "outputs": [
        {
          "output_type": "stream",
          "name": "stderr",
          "text": [
            "\u001b[32m[I 2022-01-24 11:32:41,379]\u001b[0m A new study created in memory with name: MH_O2C_M7\u001b[0m\n"
          ]
        }
      ]
    },
    {
      "cell_type": "code",
      "source": [
        "xtrain, xval, ytrain, yval = train_test_split(train_reduced[features], \n",
        "                                              train_reduced[target],\n",
        "                                              test_size=0.2, shuffle=True,\n",
        "                                              stratify=train_reduced[target],\n",
        "                                              random_state=SEED)"
      ],
      "metadata": {
        "id": "HAlaWWTly76w"
      },
      "execution_count": 32,
      "outputs": []
    },
    {
      "cell_type": "code",
      "source": [
        "%%capture\n",
        "cbred_study.optimize(\n",
        "    lambda trial: cb_objective(trial, xtrain, ytrain, xval, yval, cb_base),\n",
        "    n_trials=50\n",
        ")"
      ],
      "metadata": {
        "colab": {
          "base_uri": "https://localhost:8080/"
        },
        "id": "_U4UvFoOzE3M",
        "outputId": "d0e47715-f950-4a4e-88a9-50e5d8e188be"
      },
      "execution_count": 33,
      "outputs": [
        {
          "output_type": "stream",
          "name": "stdout",
          "text": [
            "0:\tlearn: 0.5257045\ttest: 0.5226445\tbest: 0.5226445 (0)\ttotal: 32.9ms\tremaining: 2m 44s\n",
            "100:\tlearn: 0.5782786\ttest: 0.5184214\tbest: 0.5273045 (4)\ttotal: 3.12s\tremaining: 2m 31s\n",
            "bestTest = 0.5273044998\n",
            "bestIteration = 4\n",
            "Shrink model to first 5 iterations.\n"
          ]
        },
        {
          "output_type": "stream",
          "name": "stderr",
          "text": [
            "\u001b[32m[I 2022-01-24 11:32:46,280]\u001b[0m Trial 0 finished with value: 0.527304499781564 and parameters: {'learning_rate': 0.08812288225265932, 'depth': 7, 'l2_leaf_reg': 4.878422636480148, 'random_strength': 1.1973944020005238, 'grow_policy': 'Lossguide', 'max_bin': 417, 'min_data_in_leaf': 20, 'bootstrap_type': 'Bernoulli', 'subsample': 0.9589565921664691}. Best is trial 0 with value: 0.527304499781564.\u001b[0m\n"
          ]
        },
        {
          "output_type": "stream",
          "name": "stdout",
          "text": [
            "0:\tlearn: 0.4995995\ttest: 0.5006553\tbest: 0.5006553 (0)\ttotal: 32.5ms\tremaining: 2m 42s\n",
            "100:\tlearn: 0.4879487\ttest: 0.4687637\tbest: 0.5026940 (1)\ttotal: 3.08s\tremaining: 2m 29s\n",
            "bestTest = 0.502694044\n",
            "bestIteration = 1\n",
            "Shrink model to first 2 iterations.\n"
          ]
        },
        {
          "output_type": "stream",
          "name": "stderr",
          "text": [
            "\u001b[32m[I 2022-01-24 11:32:50,913]\u001b[0m Trial 1 finished with value: 0.5026940439784476 and parameters: {'learning_rate': 0.021492988592547762, 'depth': 8, 'l2_leaf_reg': 5.93540064674474e-08, 'random_strength': 21.608259468348287, 'grow_policy': 'SymmetricTree', 'max_bin': 352, 'min_data_in_leaf': 62, 'bootstrap_type': 'Bernoulli', 'subsample': 0.6880655280284255}. Best is trial 0 with value: 0.527304499781564.\u001b[0m\n"
          ]
        },
        {
          "output_type": "stream",
          "name": "stdout",
          "text": [
            "0:\tlearn: 0.5172577\ttest: 0.5137615\tbest: 0.5137615 (0)\ttotal: 50.6ms\tremaining: 4m 13s\n",
            "100:\tlearn: 0.5374281\ttest: 0.5300714\tbest: 0.5306539 (91)\ttotal: 3.32s\tremaining: 2m 40s\n",
            "bestTest = 0.5306538518\n",
            "bestIteration = 91\n",
            "Shrink model to first 92 iterations.\n"
          ]
        },
        {
          "output_type": "stream",
          "name": "stderr",
          "text": [
            "\u001b[32m[I 2022-01-24 11:32:59,394]\u001b[0m Trial 2 finished with value: 0.5306538517547692 and parameters: {'learning_rate': 0.017790467751238267, 'depth': 9, 'l2_leaf_reg': 0.00012942529414730364, 'random_strength': 4.16911550532915, 'grow_policy': 'Lossguide', 'max_bin': 207, 'min_data_in_leaf': 9, 'bootstrap_type': 'Bayesian', 'bagging_temperature': 2.4866867318965147}. Best is trial 2 with value: 0.5306538517547692.\u001b[0m\n"
          ]
        },
        {
          "output_type": "stream",
          "name": "stdout",
          "text": [
            "0:\tlearn: 0.5324037\ttest: 0.5076453\tbest: 0.5076453 (0)\ttotal: 565ms\tremaining: 47m 2s\n",
            "100:\tlearn: 0.6390446\ttest: 0.5270133\tbest: 0.5273045 (97)\ttotal: 52.3s\tremaining: 42m 16s\n",
            "200:\tlearn: 0.6897255\ttest: 0.5251201\tbest: 0.5277414 (102)\ttotal: 1m 45s\tremaining: 41m 48s\n",
            "bestTest = 0.5277413718\n",
            "bestIteration = 102\n",
            "Shrink model to first 103 iterations.\n"
          ]
        },
        {
          "output_type": "stream",
          "name": "stderr",
          "text": [
            "\u001b[32m[I 2022-01-24 11:34:47,367]\u001b[0m Trial 3 finished with value: 0.527741371778069 and parameters: {'learning_rate': 0.02765356700314087, 'depth': 14, 'l2_leaf_reg': 0.5690298099390146, 'random_strength': 4.762251963935812, 'grow_policy': 'SymmetricTree', 'max_bin': 303, 'min_data_in_leaf': 17, 'bootstrap_type': 'Bayesian', 'bagging_temperature': 6.4591184120453535}. Best is trial 2 with value: 0.5306538517547692.\u001b[0m\n"
          ]
        },
        {
          "output_type": "stream",
          "name": "stdout",
          "text": [
            "0:\tlearn: 0.5124518\ttest: 0.5035678\tbest: 0.5035678 (0)\ttotal: 157ms\tremaining: 13m 7s\n",
            "100:\tlearn: 0.6285954\ttest: 0.5207514\tbest: 0.5302170 (15)\ttotal: 11.3s\tremaining: 9m 8s\n",
            "bestTest = 0.5302169798\n",
            "bestIteration = 15\n",
            "Shrink model to first 16 iterations.\n"
          ]
        },
        {
          "output_type": "stream",
          "name": "stderr",
          "text": [
            "\u001b[32m[I 2022-01-24 11:35:01,770]\u001b[0m Trial 4 finished with value: 0.5302169797582642 and parameters: {'learning_rate': 0.07825375129874494, 'depth': 12, 'l2_leaf_reg': 1.494316362058287, 'random_strength': 13.860467136808941, 'grow_policy': 'SymmetricTree', 'max_bin': 101, 'min_data_in_leaf': 42, 'bootstrap_type': 'Bernoulli', 'subsample': 0.9142265421614426}. Best is trial 2 with value: 0.5306538517547692.\u001b[0m\n"
          ]
        },
        {
          "output_type": "stream",
          "name": "stdout",
          "text": [
            "0:\tlearn: 0.4989441\ttest: 0.4981797\tbest: 0.4981797 (0)\ttotal: 21.3ms\tremaining: 1m 46s\n",
            "100:\tlearn: 0.5078643\ttest: 0.5069171\tbest: 0.5069171 (99)\ttotal: 1.71s\tremaining: 1m 23s\n",
            "200:\tlearn: 0.5117964\ttest: 0.5085190\tbest: 0.5098296 (147)\ttotal: 3.59s\tremaining: 1m 25s\n",
            "300:\tlearn: 0.5156557\ttest: 0.5163827\tbest: 0.5163827 (300)\ttotal: 5.55s\tremaining: 1m 26s\n",
            "400:\tlearn: 0.5225734\ttest: 0.5195864\tbest: 0.5195864 (389)\ttotal: 7.52s\tremaining: 1m 26s\n",
            "500:\tlearn: 0.5276342\ttest: 0.5223533\tbest: 0.5232270 (488)\ttotal: 9.44s\tremaining: 1m 24s\n",
            "600:\tlearn: 0.5285444\ttest: 0.5252658\tbest: 0.5252658 (600)\ttotal: 11.4s\tremaining: 1m 23s\n",
            "700:\tlearn: 0.5306197\ttest: 0.5233727\tbest: 0.5265764 (613)\ttotal: 13.3s\tremaining: 1m 21s\n",
            "bestTest = 0.5265763798\n",
            "bestIteration = 613\n",
            "Shrink model to first 614 iterations.\n"
          ]
        },
        {
          "output_type": "stream",
          "name": "stderr",
          "text": [
            "\u001b[32m[I 2022-01-24 11:35:17,517]\u001b[0m Trial 5 finished with value: 0.5265763797873889 and parameters: {'learning_rate': 0.01352266713583375, 'depth': 4, 'l2_leaf_reg': 1.31150565138125, 'random_strength': 4.084736251011413, 'grow_policy': 'SymmetricTree', 'max_bin': 342, 'min_data_in_leaf': 34, 'bootstrap_type': 'Bayesian', 'bagging_temperature': 5.181025073545367}. Best is trial 2 with value: 0.5306538517547692.\u001b[0m\n"
          ]
        },
        {
          "output_type": "stream",
          "name": "stdout",
          "text": [
            "0:\tlearn: 0.5213355\ttest: 0.5144896\tbest: 0.5144896 (0)\ttotal: 34.7ms\tremaining: 2m 53s\n",
            "100:\tlearn: 0.5827569\ttest: 0.5169652\tbest: 0.5290520 (8)\ttotal: 3.45s\tremaining: 2m 47s\n",
            "bestTest = 0.5290519878\n",
            "bestIteration = 8\n",
            "Shrink model to first 9 iterations.\n"
          ]
        },
        {
          "output_type": "stream",
          "name": "stderr",
          "text": [
            "\u001b[32m[I 2022-01-24 11:35:23,057]\u001b[0m Trial 6 finished with value: 0.5290519877675841 and parameters: {'learning_rate': 0.08910609331336135, 'depth': 9, 'l2_leaf_reg': 0.00039730191399664467, 'random_strength': 6.451771133933103, 'grow_policy': 'Lossguide', 'max_bin': 163, 'min_data_in_leaf': 19, 'bootstrap_type': 'Bernoulli', 'subsample': 0.3985825994867739}. Best is trial 2 with value: 0.5306538517547692.\u001b[0m\n"
          ]
        },
        {
          "output_type": "stream",
          "name": "stdout",
          "text": [
            "0:\tlearn: 0.5053521\ttest: 0.5127421\tbest: 0.5127421 (0)\ttotal: 26.7ms\tremaining: 2m 13s\n",
            "100:\tlearn: 0.5336780\ttest: 0.5255570\tbest: 0.5275957 (95)\ttotal: 2.7s\tremaining: 2m 10s\n",
            "200:\tlearn: 0.5490060\ttest: 0.5325470\tbest: 0.5334207 (174)\ttotal: 5.34s\tremaining: 2m 7s\n",
            "300:\tlearn: 0.5609117\ttest: 0.5345857\tbest: 0.5351682 (282)\ttotal: 7.75s\tremaining: 2m\n",
            "400:\tlearn: 0.5727081\ttest: 0.5289064\tbest: 0.5353138 (302)\ttotal: 10.2s\tremaining: 1m 57s\n",
            "bestTest = 0.5353138197\n",
            "bestIteration = 302\n",
            "Shrink model to first 303 iterations.\n"
          ]
        },
        {
          "output_type": "stream",
          "name": "stderr",
          "text": [
            "\u001b[32m[I 2022-01-24 11:35:35,090]\u001b[0m Trial 7 finished with value: 0.5353138197174895 and parameters: {'learning_rate': 0.022447723699739505, 'depth': 7, 'l2_leaf_reg': 0.4338081509171408, 'random_strength': 5.333799711008685, 'grow_policy': 'SymmetricTree', 'max_bin': 380, 'min_data_in_leaf': 27, 'bootstrap_type': 'Bernoulli', 'subsample': 0.3280804353234385}. Best is trial 7 with value: 0.5353138197174895.\u001b[0m\n"
          ]
        },
        {
          "output_type": "stream",
          "name": "stdout",
          "text": [
            "0:\tlearn: 0.4973786\ttest: 0.4920635\tbest: 0.4920635 (0)\ttotal: 17.6ms\tremaining: 1m 27s\n",
            "100:\tlearn: 0.4951212\ttest: 0.4951216\tbest: 0.4951216 (1)\ttotal: 1.4s\tremaining: 1m 7s\n",
            "bestTest = 0.495121596\n",
            "bestIteration = 1\n",
            "Shrink model to first 2 iterations.\n"
          ]
        },
        {
          "output_type": "stream",
          "name": "stderr",
          "text": [
            "\u001b[32m[I 2022-01-24 11:35:38,054]\u001b[0m Trial 8 finished with value: 0.4951215960390272 and parameters: {'learning_rate': 0.016446897316627875, 'depth': 2, 'l2_leaf_reg': 0.13412804718266522, 'random_strength': 48.74788265973993, 'grow_policy': 'SymmetricTree', 'max_bin': 351, 'min_data_in_leaf': 32, 'bootstrap_type': 'Bayesian', 'bagging_temperature': 9.304923260431396}. Best is trial 7 with value: 0.5353138197174895.\u001b[0m\n"
          ]
        },
        {
          "output_type": "stream",
          "name": "stdout",
          "text": [
            "0:\tlearn: 0.5242482\ttest: 0.5246833\tbest: 0.5246833 (0)\ttotal: 36ms\tremaining: 3m\n",
            "100:\tlearn: 0.5856696\ttest: 0.5198777\tbest: 0.5278870 (22)\ttotal: 3.36s\tremaining: 2m 42s\n",
            "bestTest = 0.5278869958\n",
            "bestIteration = 22\n",
            "Shrink model to first 23 iterations.\n"
          ]
        },
        {
          "output_type": "stream",
          "name": "stderr",
          "text": [
            "\u001b[32m[I 2022-01-24 11:35:43,755]\u001b[0m Trial 9 finished with value: 0.527886995776904 and parameters: {'learning_rate': 0.06660615315126502, 'depth': 14, 'l2_leaf_reg': 0.0014574436573633334, 'random_strength': 17.17172805125745, 'grow_policy': 'Lossguide', 'max_bin': 361, 'min_data_in_leaf': 31, 'bootstrap_type': 'Bayesian', 'bagging_temperature': 0.3988189248032681}. Best is trial 7 with value: 0.5353138197174895.\u001b[0m\n"
          ]
        },
        {
          "output_type": "stream",
          "name": "stdout",
          "text": [
            "0:\tlearn: 0.5016384\ttest: 0.5053153\tbest: 0.5053153 (0)\ttotal: 22.6ms\tremaining: 1m 52s\n",
            "100:\tlearn: 0.4483725\ttest: 0.4307558\tbest: 0.5053153 (0)\ttotal: 1.9s\tremaining: 1m 32s\n",
            "bestTest = 0.505315276\n",
            "bestIteration = 0\n",
            "Shrink model to first 1 iterations.\n"
          ]
        },
        {
          "output_type": "stream",
          "name": "stderr",
          "text": [
            "\u001b[32m[I 2022-01-24 11:35:47,244]\u001b[0m Trial 10 finished with value: 0.5053152759574778 and parameters: {'learning_rate': 0.18946910792456162, 'depth': 5, 'l2_leaf_reg': 1.0368219089107423e-06, 'random_strength': 1.0378150534179076, 'grow_policy': 'SymmetricTree', 'max_bin': 474, 'min_data_in_leaf': 99, 'bootstrap_type': 'Bernoulli', 'subsample': 0.13041912254171076}. Best is trial 7 with value: 0.5353138197174895.\u001b[0m\n"
          ]
        },
        {
          "output_type": "stream",
          "name": "stdout",
          "text": [
            "0:\tlearn: 0.5191874\ttest: 0.5162371\tbest: 0.5162371 (0)\ttotal: 33.1ms\tremaining: 2m 45s\n",
            "100:\tlearn: 0.5630962\ttest: 0.5258483\tbest: 0.5289064 (15)\ttotal: 3.3s\tremaining: 2m 40s\n",
            "bestTest = 0.5289063638\n",
            "bestIteration = 15\n",
            "Shrink model to first 16 iterations.\n"
          ]
        },
        {
          "output_type": "stream",
          "name": "stderr",
          "text": [
            "\u001b[32m[I 2022-01-24 11:35:52,627]\u001b[0m Trial 11 finished with value: 0.5289063637687491 and parameters: {'learning_rate': 0.035923791714130064, 'depth': 10, 'l2_leaf_reg': 0.0004467668024204027, 'random_strength': 2.4455727679125894, 'grow_policy': 'Lossguide', 'max_bin': 204, 'min_data_in_leaf': 3, 'bootstrap_type': 'Bayesian', 'bagging_temperature': 0.4187482894471519}. Best is trial 7 with value: 0.5353138197174895.\u001b[0m\n"
          ]
        },
        {
          "output_type": "stream",
          "name": "stdout",
          "text": [
            "0:\tlearn: 0.5123789\ttest: 0.5066259\tbest: 0.5066259 (0)\ttotal: 30.1ms\tremaining: 2m 30s\n",
            "100:\tlearn: 0.4573655\ttest: 0.4629387\tbest: 0.5128877 (1)\ttotal: 3.18s\tremaining: 2m 34s\n",
            "bestTest = 0.5128877239\n",
            "bestIteration = 1\n",
            "Shrink model to first 2 iterations.\n"
          ]
        },
        {
          "output_type": "stream",
          "name": "stderr",
          "text": [
            "\u001b[32m[I 2022-01-24 11:35:57,938]\u001b[0m Trial 12 finished with value: 0.5128877238968982 and parameters: {'learning_rate': 0.012284231296161253, 'depth': 6, 'l2_leaf_reg': 9.288499705071016e-06, 'random_strength': 2.485122573280161, 'grow_policy': 'Lossguide', 'max_bin': 234, 'min_data_in_leaf': 64, 'bootstrap_type': 'Bayesian', 'bagging_temperature': 2.7577018383430145}. Best is trial 7 with value: 0.5353138197174895.\u001b[0m\n"
          ]
        },
        {
          "output_type": "stream",
          "name": "stdout",
          "text": [
            "0:\tlearn: 0.5255953\ttest: 0.5207514\tbest: 0.5207514 (0)\ttotal: 36.5ms\tremaining: 3m 2s\n",
            "100:\tlearn: 0.5494794\ttest: 0.5257026\tbest: 0.5291976 (76)\ttotal: 3.55s\tremaining: 2m 52s\n",
            "bestTest = 0.5291976118\n",
            "bestIteration = 76\n",
            "Shrink model to first 77 iterations.\n"
          ]
        },
        {
          "output_type": "stream",
          "name": "stderr",
          "text": [
            "\u001b[32m[I 2022-01-24 11:36:06,122]\u001b[0m Trial 13 finished with value: 0.5291976117664191 and parameters: {'learning_rate': 0.038059005780190856, 'depth': 11, 'l2_leaf_reg': 0.017172899102913242, 'random_strength': 9.940128093503485, 'grow_policy': 'Lossguide', 'max_bin': 31, 'min_data_in_leaf': 1, 'bootstrap_type': 'Bernoulli', 'subsample': 0.3024823154563996}. Best is trial 7 with value: 0.5353138197174895.\u001b[0m\n"
          ]
        },
        {
          "output_type": "stream",
          "name": "stdout",
          "text": [
            "0:\tlearn: 0.4966140\ttest: 0.4996359\tbest: 0.4996359 (0)\ttotal: 14.3ms\tremaining: 1m 11s\n",
            "100:\tlearn: 0.3888808\ttest: 0.3882336\tbest: 0.5040047 (8)\ttotal: 1.29s\tremaining: 1m 2s\n",
            "bestTest = 0.50400466\n",
            "bestIteration = 8\n",
            "Shrink model to first 9 iterations.\n"
          ]
        },
        {
          "output_type": "stream",
          "name": "stderr",
          "text": [
            "\u001b[32m[I 2022-01-24 11:36:09,264]\u001b[0m Trial 14 finished with value: 0.5040046599679627 and parameters: {'learning_rate': 0.010927145759135788, 'depth': 1, 'l2_leaf_reg': 1.220852343110643e-05, 'random_strength': 2.6646147007592504, 'grow_policy': 'Lossguide', 'max_bin': 281, 'min_data_in_leaf': 52, 'bootstrap_type': 'Bayesian', 'bagging_temperature': 3.1856790301713414}. Best is trial 7 with value: 0.5353138197174895.\u001b[0m\n"
          ]
        },
        {
          "output_type": "stream",
          "name": "stdout",
          "text": [
            "0:\tlearn: 0.4974878\ttest: 0.4983253\tbest: 0.4983253 (0)\ttotal: 22.8ms\tremaining: 1m 53s\n",
            "100:\tlearn: 0.5149275\ttest: 0.5144896\tbest: 0.5144896 (98)\ttotal: 1.71s\tremaining: 1m 22s\n",
            "200:\tlearn: 0.5236656\ttest: 0.5206058\tbest: 0.5222077 (189)\ttotal: 3.39s\tremaining: 1m 20s\n",
            "300:\tlearn: 0.5289449\ttest: 0.5291976\tbest: 0.5291976 (297)\ttotal: 5.03s\tremaining: 1m 18s\n",
            "400:\tlearn: 0.5313843\ttest: 0.5294889\tbest: 0.5322557 (354)\ttotal: 6.64s\tremaining: 1m 16s\n",
            "bestTest = 0.5322557157\n",
            "bestIteration = 354\n",
            "Shrink model to first 355 iterations.\n"
          ]
        },
        {
          "output_type": "stream",
          "name": "stderr",
          "text": [
            "\u001b[32m[I 2022-01-24 11:36:18,462]\u001b[0m Trial 15 finished with value: 0.5322557157419543 and parameters: {'learning_rate': 0.022689302672977505, 'depth': 4, 'l2_leaf_reg': 0.01080350396579002, 'random_strength': 9.049099202890122, 'grow_policy': 'SymmetricTree', 'max_bin': 147, 'min_data_in_leaf': 88, 'bootstrap_type': 'Bernoulli', 'subsample': 0.5946994110282516}. Best is trial 7 with value: 0.5353138197174895.\u001b[0m\n"
          ]
        },
        {
          "output_type": "stream",
          "name": "stdout",
          "text": [
            "0:\tlearn: 0.4974878\ttest: 0.4983253\tbest: 0.4983253 (0)\ttotal: 16.6ms\tremaining: 1m 23s\n",
            "100:\tlearn: 0.5123789\ttest: 0.5146352\tbest: 0.5147808 (99)\ttotal: 1.46s\tremaining: 1m 10s\n",
            "200:\tlearn: 0.5218088\ttest: 0.5232270\tbest: 0.5232270 (200)\ttotal: 2.93s\tremaining: 1m 10s\n",
            "300:\tlearn: 0.5274885\ttest: 0.5303626\tbest: 0.5307995 (292)\ttotal: 4.52s\tremaining: 1m 10s\n",
            "400:\tlearn: 0.5318576\ttest: 0.5284695\tbest: 0.5318188 (307)\ttotal: 6.13s\tremaining: 1m 10s\n",
            "bestTest = 0.5318188437\n",
            "bestIteration = 307\n",
            "Shrink model to first 308 iterations.\n"
          ]
        },
        {
          "output_type": "stream",
          "name": "stderr",
          "text": [
            "\u001b[32m[I 2022-01-24 11:36:26,385]\u001b[0m Trial 16 finished with value: 0.5318188437454493 and parameters: {'learning_rate': 0.04506708514530725, 'depth': 3, 'l2_leaf_reg': 0.014317124474181644, 'random_strength': 28.54524092092356, 'grow_policy': 'SymmetricTree', 'max_bin': 130, 'min_data_in_leaf': 96, 'bootstrap_type': 'Bernoulli', 'subsample': 0.5413307119935304}. Best is trial 7 with value: 0.5353138197174895.\u001b[0m\n"
          ]
        },
        {
          "output_type": "stream",
          "name": "stdout",
          "text": [
            "0:\tlearn: 0.4970145\ttest: 0.4926460\tbest: 0.4926460 (0)\ttotal: 21.7ms\tremaining: 1m 48s\n",
            "100:\tlearn: 0.5244666\ttest: 0.5206058\tbest: 0.5214795 (99)\ttotal: 1.97s\tremaining: 1m 35s\n",
            "200:\tlearn: 0.5329134\ttest: 0.5258483\tbest: 0.5262851 (188)\ttotal: 3.8s\tremaining: 1m 30s\n",
            "300:\tlearn: 0.5388844\ttest: 0.5315276\tbest: 0.5321101 (261)\ttotal: 5.67s\tremaining: 1m 28s\n",
            "400:\tlearn: 0.5452195\ttest: 0.5289064\tbest: 0.5322557 (304)\ttotal: 7.45s\tremaining: 1m 25s\n",
            "bestTest = 0.5322557157\n",
            "bestIteration = 304\n",
            "Shrink model to first 305 iterations.\n"
          ]
        },
        {
          "output_type": "stream",
          "name": "stderr",
          "text": [
            "\u001b[32m[I 2022-01-24 11:36:35,621]\u001b[0m Trial 17 finished with value: 0.5322557157419543 and parameters: {'learning_rate': 0.02495997405342345, 'depth': 5, 'l2_leaf_reg': 0.048343349610441524, 'random_strength': 9.181024855537858, 'grow_policy': 'SymmetricTree', 'max_bin': 484, 'min_data_in_leaf': 79, 'bootstrap_type': 'Bernoulli', 'subsample': 0.616158647593879}. Best is trial 7 with value: 0.5353138197174895.\u001b[0m\n"
          ]
        },
        {
          "output_type": "stream",
          "name": "stdout",
          "text": [
            "0:\tlearn: 0.5018932\ttest: 0.5096840\tbest: 0.5096840 (0)\ttotal: 22.6ms\tremaining: 1m 53s\n",
            "100:\tlearn: 0.5679021\ttest: 0.5274501\tbest: 0.5332751 (48)\ttotal: 2.1s\tremaining: 1m 42s\n",
            "bestTest = 0.5332750837\n",
            "bestIteration = 48\n",
            "Shrink model to first 49 iterations.\n"
          ]
        },
        {
          "output_type": "stream",
          "name": "stderr",
          "text": [
            "\u001b[32m[I 2022-01-24 11:36:40,373]\u001b[0m Trial 18 finished with value: 0.5332750837337993 and parameters: {'learning_rate': 0.1398543451738029, 'depth': 6, 'l2_leaf_reg': 0.11558660619100873, 'random_strength': 6.8722289269215455, 'grow_policy': 'SymmetricTree', 'max_bin': 494, 'min_data_in_leaf': 77, 'bootstrap_type': 'Bernoulli', 'subsample': 0.36076642599971587}. Best is trial 7 with value: 0.5353138197174895.\u001b[0m\n"
          ]
        },
        {
          "output_type": "stream",
          "name": "stdout",
          "text": [
            "0:\tlearn: 0.5145635\ttest: 0.5141983\tbest: 0.5141983 (0)\ttotal: 29.7ms\tremaining: 2m 28s\n",
            "100:\tlearn: 0.5900386\ttest: 0.5229358\tbest: 0.5294889 (47)\ttotal: 2.65s\tremaining: 2m 8s\n",
            "bestTest = 0.5294888598\n",
            "bestIteration = 47\n",
            "Shrink model to first 48 iterations.\n"
          ]
        },
        {
          "output_type": "stream",
          "name": "stderr",
          "text": [
            "\u001b[32m[I 2022-01-24 11:36:45,830]\u001b[0m Trial 19 finished with value: 0.5294888597640891 and parameters: {'learning_rate': 0.1729595077453726, 'depth': 7, 'l2_leaf_reg': 6.8034849234849295, 'random_strength': 1.6645331025250802, 'grow_policy': 'SymmetricTree', 'max_bin': 424, 'min_data_in_leaf': 74, 'bootstrap_type': 'Bernoulli', 'subsample': 0.2833412196340315}. Best is trial 7 with value: 0.5353138197174895.\u001b[0m\n"
          ]
        },
        {
          "output_type": "stream",
          "name": "stdout",
          "text": [
            "0:\tlearn: 0.5231195\ttest: 0.5208970\tbest: 0.5208970 (0)\ttotal: 159ms\tremaining: 13m 14s\n",
            "100:\tlearn: 0.7646181\ttest: 0.5216252\tbest: 0.5309451 (49)\ttotal: 13.8s\tremaining: 11m 11s\n",
            "bestTest = 0.5309450998\n",
            "bestIteration = 49\n",
            "Shrink model to first 50 iterations.\n"
          ]
        },
        {
          "output_type": "stream",
          "name": "stderr",
          "text": [
            "\u001b[32m[I 2022-01-24 11:37:09,355]\u001b[0m Trial 20 finished with value: 0.5309450997524392 and parameters: {'learning_rate': 0.1574808344838329, 'depth': 12, 'l2_leaf_reg': 0.1890926723118405, 'random_strength': 6.780822521183747, 'grow_policy': 'SymmetricTree', 'max_bin': 426, 'min_data_in_leaf': 54, 'bootstrap_type': 'Bernoulli', 'subsample': 0.15189320518570085}. Best is trial 7 with value: 0.5353138197174895.\u001b[0m\n"
          ]
        },
        {
          "output_type": "stream",
          "name": "stdout",
          "text": [
            "0:\tlearn: 0.5021117\ttest: 0.5083734\tbest: 0.5083734 (0)\ttotal: 23.2ms\tremaining: 1m 55s\n",
            "100:\tlearn: 0.5948081\ttest: 0.5326926\tbest: 0.5356051 (48)\ttotal: 2.18s\tremaining: 1m 45s\n",
            "bestTest = 0.5356050677\n",
            "bestIteration = 48\n",
            "Shrink model to first 49 iterations.\n"
          ]
        },
        {
          "output_type": "stream",
          "name": "stderr",
          "text": [
            "\u001b[32m[I 2022-01-24 11:37:14,666]\u001b[0m Trial 21 finished with value: 0.5356050677151595 and parameters: {'learning_rate': 0.2552671330837537, 'depth': 6, 'l2_leaf_reg': 0.054810555057392095, 'random_strength': 10.09919302416234, 'grow_policy': 'SymmetricTree', 'max_bin': 489, 'min_data_in_leaf': 81, 'bootstrap_type': 'Bernoulli', 'subsample': 0.43471679557856724}. Best is trial 21 with value: 0.5356050677151595.\u001b[0m\n"
          ]
        },
        {
          "output_type": "stream",
          "name": "stdout",
          "text": [
            "0:\tlearn: 0.5032404\ttest: 0.5080821\tbest: 0.5080821 (0)\ttotal: 27.9ms\tremaining: 2m 19s\n",
            "100:\tlearn: 0.6298697\ttest: 0.5289064\tbest: 0.5347313 (84)\ttotal: 2.6s\tremaining: 2m 6s\n",
            "bestTest = 0.5347313237\n",
            "bestIteration = 84\n",
            "Shrink model to first 85 iterations.\n"
          ]
        },
        {
          "output_type": "stream",
          "name": "stderr",
          "text": [
            "\u001b[32m[I 2022-01-24 11:37:21,359]\u001b[0m Trial 22 finished with value: 0.5347313237221494 and parameters: {'learning_rate': 0.27328526312197343, 'depth': 7, 'l2_leaf_reg': 0.003593450061434848, 'random_strength': 11.412063336807874, 'grow_policy': 'SymmetricTree', 'max_bin': 493, 'min_data_in_leaf': 79, 'bootstrap_type': 'Bernoulli', 'subsample': 0.42550238107789856}. Best is trial 21 with value: 0.5356050677151595.\u001b[0m\n"
          ]
        },
        {
          "output_type": "stream",
          "name": "stdout",
          "text": [
            "0:\tlearn: 0.5033496\ttest: 0.5079365\tbest: 0.5079365 (0)\ttotal: 32.4ms\tremaining: 2m 42s\n",
            "100:\tlearn: 0.6759994\ttest: 0.5133246\tbest: 0.5287607 (36)\ttotal: 2.99s\tremaining: 2m 25s\n",
            "bestTest = 0.5287607398\n",
            "bestIteration = 36\n",
            "Shrink model to first 37 iterations.\n"
          ]
        },
        {
          "output_type": "stream",
          "name": "stderr",
          "text": [
            "\u001b[32m[I 2022-01-24 11:37:27,169]\u001b[0m Trial 23 finished with value: 0.5287607397699141 and parameters: {'learning_rate': 0.2914085656927068, 'depth': 8, 'l2_leaf_reg': 0.0024433373762216964, 'random_strength': 15.334198266489231, 'grow_policy': 'SymmetricTree', 'max_bin': 450, 'min_data_in_leaf': 87, 'bootstrap_type': 'Bernoulli', 'subsample': 0.45481624589022657}. Best is trial 21 with value: 0.5356050677151595.\u001b[0m\n"
          ]
        },
        {
          "output_type": "stream",
          "name": "stdout",
          "text": [
            "0:\tlearn: 0.4998180\ttest: 0.5013834\tbest: 0.5013834 (0)\ttotal: 27ms\tremaining: 2m 15s\n",
            "100:\tlearn: 0.6324911\ttest: 0.5207514\tbest: 0.5337120 (59)\ttotal: 2.47s\tremaining: 1m 59s\n",
            "bestTest = 0.5337119557\n",
            "bestIteration = 59\n",
            "Shrink model to first 60 iterations.\n"
          ]
        },
        {
          "output_type": "stream",
          "name": "stderr",
          "text": [
            "\u001b[32m[I 2022-01-24 11:37:32,835]\u001b[0m Trial 24 finished with value: 0.5337119557303044 and parameters: {'learning_rate': 0.29869056230795016, 'depth': 7, 'l2_leaf_reg': 0.0035682639491368996, 'random_strength': 12.020330173000826, 'grow_policy': 'SymmetricTree', 'max_bin': 393, 'min_data_in_leaf': 68, 'bootstrap_type': 'Bernoulli', 'subsample': 0.46698932053168}. Best is trial 21 with value: 0.5356050677151595.\u001b[0m\n"
          ]
        },
        {
          "output_type": "stream",
          "name": "stdout",
          "text": [
            "0:\tlearn: 0.4959222\ttest: 0.4980341\tbest: 0.4980341 (0)\ttotal: 23ms\tremaining: 1m 54s\n",
            "100:\tlearn: 0.5504988\ttest: 0.5306539\tbest: 0.5337120 (95)\ttotal: 1.79s\tremaining: 1m 27s\n",
            "bestTest = 0.5337119557\n",
            "bestIteration = 95\n",
            "Shrink model to first 96 iterations.\n"
          ]
        },
        {
          "output_type": "stream",
          "name": "stderr",
          "text": [
            "\u001b[32m[I 2022-01-24 11:37:38,042]\u001b[0m Trial 25 finished with value: 0.5337119557303044 and parameters: {'learning_rate': 0.21743544578378143, 'depth': 5, 'l2_leaf_reg': 17.518549416950417, 'random_strength': 27.936883677128886, 'grow_policy': 'SymmetricTree', 'max_bin': 458, 'min_data_in_leaf': 43, 'bootstrap_type': 'Bernoulli', 'subsample': 0.26020808008364793}. Best is trial 21 with value: 0.5356050677151595.\u001b[0m\n"
          ]
        },
        {
          "output_type": "stream",
          "name": "stdout",
          "text": [
            "0:\tlearn: 0.5050608\ttest: 0.5088103\tbest: 0.5088103 (0)\ttotal: 25ms\tremaining: 2m 4s\n",
            "100:\tlearn: 0.5716158\ttest: 0.5242464\tbest: 0.5309451 (61)\ttotal: 2.25s\tremaining: 1m 49s\n",
            "bestTest = 0.5309450998\n",
            "bestIteration = 61\n",
            "Shrink model to first 62 iterations.\n"
          ]
        },
        {
          "output_type": "stream",
          "name": "stderr",
          "text": [
            "\u001b[32m[I 2022-01-24 11:37:43,298]\u001b[0m Trial 26 finished with value: 0.5309450997524392 and parameters: {'learning_rate': 0.12108027145956454, 'depth': 6, 'l2_leaf_reg': 0.37422760426937685, 'random_strength': 4.7741692405815614, 'grow_policy': 'SymmetricTree', 'max_bin': 302, 'min_data_in_leaf': 87, 'bootstrap_type': 'Bernoulli', 'subsample': 0.7530862179340339}. Best is trial 21 with value: 0.5356050677151595.\u001b[0m\n"
          ]
        },
        {
          "output_type": "stream",
          "name": "stdout",
          "text": [
            "0:\tlearn: 0.5155101\ttest: 0.5074996\tbest: 0.5074996 (0)\ttotal: 41ms\tremaining: 3m 25s\n",
            "100:\tlearn: 0.7158305\ttest: 0.5224989\tbest: 0.5316732 (35)\ttotal: 4.33s\tremaining: 3m 30s\n",
            "bestTest = 0.5316732197\n",
            "bestIteration = 35\n",
            "Shrink model to first 36 iterations.\n"
          ]
        },
        {
          "output_type": "stream",
          "name": "stderr",
          "text": [
            "\u001b[32m[I 2022-01-24 11:37:50,783]\u001b[0m Trial 27 finished with value: 0.5316732197466142 and parameters: {'learning_rate': 0.23422182808672914, 'depth': 9, 'l2_leaf_reg': 6.270909627188312e-05, 'random_strength': 3.278173912522604, 'grow_policy': 'SymmetricTree', 'max_bin': 394, 'min_data_in_leaf': 59, 'bootstrap_type': 'Bernoulli', 'subsample': 0.4705302853410738}. Best is trial 21 with value: 0.5356050677151595.\u001b[0m\n"
          ]
        },
        {
          "output_type": "stream",
          "name": "stdout",
          "text": [
            "0:\tlearn: 0.4957402\ttest: 0.4923547\tbest: 0.4923547 (0)\ttotal: 18.1ms\tremaining: 1m 30s\n",
            "100:\tlearn: 0.5140173\ttest: 0.5141983\tbest: 0.5152177 (99)\ttotal: 1.49s\tremaining: 1m 12s\n",
            "200:\tlearn: 0.5246851\ttest: 0.5259939\tbest: 0.5262851 (192)\ttotal: 2.98s\tremaining: 1m 11s\n",
            "bestTest = 0.5262851318\n",
            "bestIteration = 192\n",
            "Shrink model to first 193 iterations.\n"
          ]
        },
        {
          "output_type": "stream",
          "name": "stderr",
          "text": [
            "\u001b[32m[I 2022-01-24 11:37:56,792]\u001b[0m Trial 28 finished with value: 0.5262851317897189 and parameters: {'learning_rate': 0.05833842231500529, 'depth': 3, 'l2_leaf_reg': 0.04450485320024485, 'random_strength': 20.62840156245633, 'grow_policy': 'SymmetricTree', 'max_bin': 495, 'min_data_in_leaf': 70, 'bootstrap_type': 'Bernoulli', 'subsample': 0.21545930011519993}. Best is trial 21 with value: 0.5356050677151595.\u001b[0m\n"
          ]
        },
        {
          "output_type": "stream",
          "name": "stdout",
          "text": [
            "0:\tlearn: 0.5009466\ttest: 0.5070628\tbest: 0.5070628 (0)\ttotal: 26ms\tremaining: 2m 10s\n",
            "100:\tlearn: 0.5611665\ttest: 0.5283239\tbest: 0.5341488 (61)\ttotal: 2.28s\tremaining: 1m 50s\n",
            "bestTest = 0.5341488277\n",
            "bestIteration = 61\n",
            "Shrink model to first 62 iterations.\n"
          ]
        },
        {
          "output_type": "stream",
          "name": "stderr",
          "text": [
            "\u001b[32m[I 2022-01-24 11:38:02,280]\u001b[0m Trial 29 finished with value: 0.5341488277268094 and parameters: {'learning_rate': 0.10593954901229448, 'depth': 7, 'l2_leaf_reg': 4.100562840057367, 'random_strength': 11.198429811769271, 'grow_policy': 'SymmetricTree', 'max_bin': 442, 'min_data_in_leaf': 45, 'bootstrap_type': 'Bernoulli', 'subsample': 0.3737272264042268}. Best is trial 21 with value: 0.5356050677151595.\u001b[0m\n"
          ]
        },
        {
          "output_type": "stream",
          "name": "stdout",
          "text": [
            "0:\tlearn: 0.5097939\ttest: 0.5146352\tbest: 0.5146352 (0)\ttotal: 26.6ms\tremaining: 2m 13s\n",
            "100:\tlearn: 0.6371878\ttest: 0.5252658\tbest: 0.5345857 (49)\ttotal: 2.71s\tremaining: 2m 11s\n",
            "bestTest = 0.5345856997\n",
            "bestIteration = 49\n",
            "Shrink model to first 50 iterations.\n"
          ]
        },
        {
          "output_type": "stream",
          "name": "stderr",
          "text": [
            "\u001b[32m[I 2022-01-24 11:38:08,466]\u001b[0m Trial 30 finished with value: 0.5345856997233144 and parameters: {'learning_rate': 0.24834023787956414, 'depth': 7, 'l2_leaf_reg': 0.0037936909301745604, 'random_strength': 1.7272877909271827, 'grow_policy': 'SymmetricTree', 'max_bin': 397, 'min_data_in_leaf': 26, 'bootstrap_type': 'Bernoulli', 'subsample': 0.5259552876866479}. Best is trial 21 with value: 0.5356050677151595.\u001b[0m\n"
          ]
        },
        {
          "output_type": "stream",
          "name": "stdout",
          "text": [
            "0:\tlearn: 0.5109590\ttest: 0.5144896\tbest: 0.5144896 (0)\ttotal: 27.7ms\tremaining: 2m 18s\n",
            "100:\tlearn: 0.6309983\ttest: 0.5265764\tbest: 0.5316732 (22)\ttotal: 2.78s\tremaining: 2m 14s\n",
            "bestTest = 0.5316732197\n",
            "bestIteration = 22\n",
            "Shrink model to first 23 iterations.\n"
          ]
        },
        {
          "output_type": "stream",
          "name": "stderr",
          "text": [
            "\u001b[32m[I 2022-01-24 11:38:13,584]\u001b[0m Trial 31 finished with value: 0.5316732197466142 and parameters: {'learning_rate': 0.2325312584281317, 'depth': 7, 'l2_leaf_reg': 0.004612795795983709, 'random_strength': 1.6294527606377385, 'grow_policy': 'SymmetricTree', 'max_bin': 395, 'min_data_in_leaf': 23, 'bootstrap_type': 'Bernoulli', 'subsample': 0.5280838651011994}. Best is trial 21 with value: 0.5356050677151595.\u001b[0m\n"
          ]
        },
        {
          "output_type": "stream",
          "name": "stdout",
          "text": [
            "0:\tlearn: 0.5127066\ttest: 0.5105577\tbest: 0.5105577 (0)\ttotal: 31.4ms\tremaining: 2m 36s\n",
            "100:\tlearn: 0.6730867\ttest: 0.5134702\tbest: 0.5268676 (30)\ttotal: 3.32s\tremaining: 2m 41s\n",
            "bestTest = 0.5268676278\n",
            "bestIteration = 30\n",
            "Shrink model to first 31 iterations.\n"
          ]
        },
        {
          "output_type": "stream",
          "name": "stderr",
          "text": [
            "\u001b[32m[I 2022-01-24 11:38:19,523]\u001b[0m Trial 32 finished with value: 0.526867627785059 and parameters: {'learning_rate': 0.2595354217282329, 'depth': 8, 'l2_leaf_reg': 0.06286669155019783, 'random_strength': 1.8723507464316105, 'grow_policy': 'SymmetricTree', 'max_bin': 403, 'min_data_in_leaf': 25, 'bootstrap_type': 'Bernoulli', 'subsample': 0.40540006305912873}. Best is trial 21 with value: 0.5356050677151595.\u001b[0m\n"
          ]
        },
        {
          "output_type": "stream",
          "name": "stdout",
          "text": [
            "0:\tlearn: 0.5114687\ttest: 0.5054609\tbest: 0.5054609 (0)\ttotal: 57.9ms\tremaining: 4m 49s\n",
            "100:\tlearn: 0.7209641\ttest: 0.5185671\tbest: 0.5267220 (52)\ttotal: 6s\tremaining: 4m 51s\n",
            "bestTest = 0.5267220038\n",
            "bestIteration = 52\n",
            "Shrink model to first 53 iterations.\n"
          ]
        },
        {
          "output_type": "stream",
          "name": "stderr",
          "text": [
            "\u001b[32m[I 2022-01-24 11:38:30,378]\u001b[0m Trial 33 finished with value: 0.526722003786224 and parameters: {'learning_rate': 0.18820807568950476, 'depth': 10, 'l2_leaf_reg': 0.0011024865466696197, 'random_strength': 5.246408091125953, 'grow_policy': 'SymmetricTree', 'max_bin': 462, 'min_data_in_leaf': 14, 'bootstrap_type': 'Bernoulli', 'subsample': 0.3311562903328033}. Best is trial 21 with value: 0.5356050677151595.\u001b[0m\n"
          ]
        },
        {
          "output_type": "stream",
          "name": "stdout",
          "text": [
            "0:\tlearn: 0.5077186\ttest: 0.5060434\tbest: 0.5060434 (0)\ttotal: 40.9ms\tremaining: 3m 24s\n",
            "100:\tlearn: 0.6356222\ttest: 0.5242464\tbest: 0.5291976 (73)\ttotal: 3.33s\tremaining: 2m 41s\n",
            "bestTest = 0.5291976118\n",
            "bestIteration = 73\n",
            "Shrink model to first 74 iterations.\n"
          ]
        },
        {
          "output_type": "stream",
          "name": "stderr",
          "text": [
            "\u001b[32m[I 2022-01-24 11:38:37,627]\u001b[0m Trial 34 finished with value: 0.5291976117664191 and parameters: {'learning_rate': 0.13553056163285393, 'depth': 8, 'l2_leaf_reg': 8.803059348462647e-05, 'random_strength': 1.2643078022466683, 'grow_policy': 'SymmetricTree', 'max_bin': 316, 'min_data_in_leaf': 37, 'bootstrap_type': 'Bernoulli', 'subsample': 0.4956649300502566}. Best is trial 21 with value: 0.5356050677151595.\u001b[0m\n"
          ]
        },
        {
          "output_type": "stream",
          "name": "stdout",
          "text": [
            "0:\tlearn: 0.5005825\ttest: 0.5016747\tbest: 0.5016747 (0)\ttotal: 23.3ms\tremaining: 1m 56s\n",
            "100:\tlearn: 0.4734945\ttest: 0.4543469\tbest: 0.5051697 (1)\ttotal: 2.3s\tremaining: 1m 51s\n",
            "bestTest = 0.505169652\n",
            "bestIteration = 1\n",
            "Shrink model to first 2 iterations.\n"
          ]
        },
        {
          "output_type": "stream",
          "name": "stderr",
          "text": [
            "\u001b[32m[I 2022-01-24 11:38:41,536]\u001b[0m Trial 35 finished with value: 0.5051696519586428 and parameters: {'learning_rate': 0.1001181427994192, 'depth': 6, 'l2_leaf_reg': 3.218865703591031e-08, 'random_strength': 8.191060265029257, 'grow_policy': 'SymmetricTree', 'max_bin': 375, 'min_data_in_leaf': 12, 'bootstrap_type': 'Bernoulli', 'subsample': 0.6146656347307706}. Best is trial 21 with value: 0.5356050677151595.\u001b[0m\n"
          ]
        },
        {
          "output_type": "stream",
          "name": "stdout",
          "text": [
            "0:\tlearn: 0.4959222\ttest: 0.4980341\tbest: 0.4980341 (0)\ttotal: 17.5ms\tremaining: 1m 27s\n",
            "100:\tlearn: 0.5189689\ttest: 0.5217708\tbest: 0.5226445 (98)\ttotal: 1.7s\tremaining: 1m 22s\n",
            "200:\tlearn: 0.5285808\ttest: 0.5270133\tbest: 0.5275957 (195)\ttotal: 3.39s\tremaining: 1m 20s\n",
            "300:\tlearn: 0.5323673\ttest: 0.5261395\tbest: 0.5291976 (240)\ttotal: 5.07s\tremaining: 1m 19s\n",
            "bestTest = 0.5291976118\n",
            "bestIteration = 240\n",
            "Shrink model to first 241 iterations.\n"
          ]
        },
        {
          "output_type": "stream",
          "name": "stderr",
          "text": [
            "\u001b[32m[I 2022-01-24 11:38:48,954]\u001b[0m Trial 36 finished with value: 0.5291976117664191 and parameters: {'learning_rate': 0.03013015857505776, 'depth': 4, 'l2_leaf_reg': 0.010427556243395846, 'random_strength': 3.604624927836923, 'grow_policy': 'SymmetricTree', 'max_bin': 429, 'min_data_in_leaf': 27, 'bootstrap_type': 'Bernoulli', 'subsample': 0.22320362619223405}. Best is trial 21 with value: 0.5356050677151595.\u001b[0m\n"
          ]
        },
        {
          "output_type": "stream",
          "name": "stdout",
          "text": [
            "0:\tlearn: 0.5149275\ttest: 0.5140527\tbest: 0.5140527 (0)\ttotal: 76.7ms\tremaining: 6m 23s\n",
            "100:\tlearn: 0.7053084\ttest: 0.5224989\tbest: 0.5293432 (30)\ttotal: 6.07s\tremaining: 4m 54s\n",
            "bestTest = 0.5293432358\n",
            "bestIteration = 30\n",
            "Shrink model to first 31 iterations.\n"
          ]
        },
        {
          "output_type": "stream",
          "name": "stderr",
          "text": [
            "\u001b[32m[I 2022-01-24 11:38:58,674]\u001b[0m Trial 37 finished with value: 0.5293432357652541 and parameters: {'learning_rate': 0.2082246886837564, 'depth': 10, 'l2_leaf_reg': 0.7631180822545398, 'random_strength': 5.766599047612122, 'grow_policy': 'SymmetricTree', 'max_bin': 496, 'min_data_in_leaf': 82, 'bootstrap_type': 'Bernoulli', 'subsample': 0.4300804716381039}. Best is trial 21 with value: 0.5356050677151595.\u001b[0m\n"
          ]
        },
        {
          "output_type": "stream",
          "name": "stdout",
          "text": [
            "0:\tlearn: 0.5021845\ttest: 0.4999272\tbest: 0.4999272 (0)\ttotal: 57.9ms\tremaining: 4m 49s\n",
            "100:\tlearn: 0.5501711\ttest: 0.5275957\tbest: 0.5290520 (98)\ttotal: 4.47s\tremaining: 3m 36s\n",
            "200:\tlearn: 0.5736183\ttest: 0.5261395\tbest: 0.5315276 (112)\ttotal: 8.38s\tremaining: 3m 20s\n",
            "bestTest = 0.5315275957\n",
            "bestIteration = 112\n",
            "Shrink model to first 113 iterations.\n"
          ]
        },
        {
          "output_type": "stream",
          "name": "stderr",
          "text": [
            "\u001b[32m[I 2022-01-24 11:39:09,262]\u001b[0m Trial 38 finished with value: 0.5315275957477792 and parameters: {'learning_rate': 0.019885924145930503, 'depth': 9, 'l2_leaf_reg': 0.00028665740960335357, 'random_strength': 13.492878606720732, 'grow_policy': 'SymmetricTree', 'max_bin': 323, 'min_data_in_leaf': 93, 'bootstrap_type': 'Bernoulli', 'subsample': 0.7466135230415105}. Best is trial 21 with value: 0.5356050677151595.\u001b[0m\n"
          ]
        },
        {
          "output_type": "stream",
          "name": "stdout",
          "text": [
            "0:\tlearn: 0.5120149\ttest: 0.5080821\tbest: 0.5080821 (0)\ttotal: 1.01s\tremaining: 1h 23m 49s\n",
            "100:\tlearn: 0.7538411\ttest: 0.5192952\tbest: 0.5270133 (44)\ttotal: 1m 7s\tremaining: 54m 50s\n",
            "bestTest = 0.5270132518\n",
            "bestIteration = 44\n",
            "Shrink model to first 45 iterations.\n"
          ]
        },
        {
          "output_type": "stream",
          "name": "stderr",
          "text": [
            "\u001b[32m[I 2022-01-24 11:41:03,709]\u001b[0m Trial 39 finished with value: 0.527013251783894 and parameters: {'learning_rate': 0.14785710902337265, 'depth': 15, 'l2_leaf_reg': 2.128455496441995, 'random_strength': 19.50302934252043, 'grow_policy': 'SymmetricTree', 'max_bin': 247, 'min_data_in_leaf': 37, 'bootstrap_type': 'Bernoulli', 'subsample': 0.5554109109917007}. Best is trial 21 with value: 0.5356050677151595.\u001b[0m\n"
          ]
        },
        {
          "output_type": "stream",
          "name": "stdout",
          "text": [
            "0:\tlearn: 0.5037137\ttest: 0.4981797\tbest: 0.4981797 (0)\ttotal: 36.9ms\tremaining: 3m 4s\n",
            "100:\tlearn: 0.5455472\ttest: 0.5261395\tbest: 0.5325470 (52)\ttotal: 3.46s\tremaining: 2m 47s\n",
            "bestTest = 0.5325469637\n",
            "bestIteration = 52\n",
            "Shrink model to first 53 iterations.\n"
          ]
        },
        {
          "output_type": "stream",
          "name": "stderr",
          "text": [
            "\u001b[32m[I 2022-01-24 11:41:11,231]\u001b[0m Trial 40 finished with value: 0.5325469637396243 and parameters: {'learning_rate': 0.07863143304197628, 'depth': 7, 'l2_leaf_reg': 0.33806104373292417, 'random_strength': 24.625945195143565, 'grow_policy': 'Lossguide', 'max_bin': 363, 'min_data_in_leaf': 47, 'bootstrap_type': 'Bayesian', 'bagging_temperature': 9.429485872836302}. Best is trial 21 with value: 0.5356050677151595.\u001b[0m\n"
          ]
        },
        {
          "output_type": "stream",
          "name": "stdout",
          "text": [
            "0:\tlearn: 0.5009102\ttest: 0.5072084\tbest: 0.5072084 (0)\ttotal: 33.3ms\tremaining: 2m 46s\n",
            "100:\tlearn: 0.5739824\ttest: 0.5313820\tbest: 0.5328382 (78)\ttotal: 3.01s\tremaining: 2m 26s\n",
            "bestTest = 0.5328382117\n",
            "bestIteration = 78\n",
            "Shrink model to first 79 iterations.\n"
          ]
        },
        {
          "output_type": "stream",
          "name": "stderr",
          "text": [
            "\u001b[32m[I 2022-01-24 11:41:18,890]\u001b[0m Trial 41 finished with value: 0.5328382117372943 and parameters: {'learning_rate': 0.1113573296831858, 'depth': 8, 'l2_leaf_reg': 4.796258519448442, 'random_strength': 12.396779095052738, 'grow_policy': 'SymmetricTree', 'max_bin': 441, 'min_data_in_leaf': 46, 'bootstrap_type': 'Bernoulli', 'subsample': 0.36237020482215615}. Best is trial 21 with value: 0.5356050677151595.\u001b[0m\n"
          ]
        },
        {
          "output_type": "stream",
          "name": "stdout",
          "text": [
            "0:\tlearn: 0.5039321\ttest: 0.5072084\tbest: 0.5072084 (0)\ttotal: 26.9ms\tremaining: 2m 14s\n",
            "100:\tlearn: 0.6075876\ttest: 0.5275957\tbest: 0.5348769 (42)\ttotal: 2.56s\tremaining: 2m 4s\n",
            "bestTest = 0.5348769477\n",
            "bestIteration = 42\n",
            "Shrink model to first 43 iterations.\n"
          ]
        },
        {
          "output_type": "stream",
          "name": "stderr",
          "text": [
            "\u001b[32m[I 2022-01-24 11:41:24,271]\u001b[0m Trial 42 finished with value: 0.5348769477209844 and parameters: {'learning_rate': 0.2787551689516658, 'depth': 7, 'l2_leaf_reg': 3.024727867797896, 'random_strength': 10.082664832239157, 'grow_policy': 'SymmetricTree', 'max_bin': 457, 'min_data_in_leaf': 20, 'bootstrap_type': 'Bernoulli', 'subsample': 0.40853116679236867}. Best is trial 21 with value: 0.5356050677151595.\u001b[0m\n"
          ]
        },
        {
          "output_type": "stream",
          "name": "stdout",
          "text": [
            "0:\tlearn: 0.4991626\ttest: 0.4984709\tbest: 0.4984709 (0)\ttotal: 20.5ms\tremaining: 1m 42s\n",
            "100:\tlearn: 0.5701231\ttest: 0.5287607\tbest: 0.5335663 (65)\ttotal: 1.85s\tremaining: 1m 29s\n",
            "bestTest = 0.5335663317\n",
            "bestIteration = 65\n",
            "Shrink model to first 66 iterations.\n"
          ]
        },
        {
          "output_type": "stream",
          "name": "stderr",
          "text": [
            "\u001b[32m[I 2022-01-24 11:41:28,979]\u001b[0m Trial 43 finished with value: 0.5335663317314694 and parameters: {'learning_rate': 0.2626581175031052, 'depth': 5, 'l2_leaf_reg': 1.222599250536415, 'random_strength': 16.350537604144513, 'grow_policy': 'SymmetricTree', 'max_bin': 469, 'min_data_in_leaf': 18, 'bootstrap_type': 'Bernoulli', 'subsample': 0.5043339737422793}. Best is trial 21 with value: 0.5356050677151595.\u001b[0m\n"
          ]
        },
        {
          "output_type": "stream",
          "name": "stdout",
          "text": [
            "0:\tlearn: 0.5077186\ttest: 0.5083734\tbest: 0.5083734 (0)\ttotal: 23.5ms\tremaining: 1m 57s\n",
            "100:\tlearn: 0.5660453\ttest: 0.5335663\tbest: 0.5361876 (73)\ttotal: 1.95s\tremaining: 1m 34s\n",
            "bestTest = 0.5361875637\n",
            "bestIteration = 73\n",
            "Shrink model to first 74 iterations.\n"
          ]
        },
        {
          "output_type": "stream",
          "name": "stderr",
          "text": [
            "\u001b[32m[I 2022-01-24 11:41:34,148]\u001b[0m Trial 44 finished with value: 0.5361875637104995 and parameters: {'learning_rate': 0.1803377351877313, 'depth': 6, 'l2_leaf_reg': 0.031200658458898883, 'random_strength': 40.97750471969664, 'grow_policy': 'SymmetricTree', 'max_bin': 410, 'min_data_in_leaf': 9, 'bootstrap_type': 'Bernoulli', 'subsample': 0.4219167825317003}. Best is trial 44 with value: 0.5361875637104995.\u001b[0m\n"
          ]
        },
        {
          "output_type": "stream",
          "name": "stdout",
          "text": [
            "0:\tlearn: 0.5021117\ttest: 0.5083734\tbest: 0.5083734 (0)\ttotal: 22.8ms\tremaining: 1m 53s\n",
            "100:\tlearn: 0.5216267\ttest: 0.5147808\tbest: 0.5166739 (96)\ttotal: 2.26s\tremaining: 1m 49s\n",
            "200:\tlearn: 0.5330591\ttest: 0.5239551\tbest: 0.5252658 (194)\ttotal: 4.42s\tremaining: 1m 45s\n",
            "300:\tlearn: 0.5399039\ttest: 0.5315276\tbest: 0.5316732 (299)\ttotal: 6.53s\tremaining: 1m 41s\n",
            "bestTest = 0.5316732197\n",
            "bestIteration = 299\n",
            "Shrink model to first 300 iterations.\n"
          ]
        },
        {
          "output_type": "stream",
          "name": "stderr",
          "text": [
            "\u001b[32m[I 2022-01-24 11:41:44,411]\u001b[0m Trial 45 finished with value: 0.5316732197466142 and parameters: {'learning_rate': 0.015248353200626336, 'depth': 6, 'l2_leaf_reg': 0.03337123275975999, 'random_strength': 8.096325522629582, 'grow_policy': 'SymmetricTree', 'max_bin': 467, 'min_data_in_leaf': 11, 'bootstrap_type': 'Bernoulli', 'subsample': 0.40930520277259447}. Best is trial 44 with value: 0.5361875637104995.\u001b[0m\n"
          ]
        },
        {
          "output_type": "stream",
          "name": "stdout",
          "text": [
            "0:\tlearn: 0.4967232\ttest: 0.5051697\tbest: 0.5051697 (0)\ttotal: 43.5ms\tremaining: 3m 37s\n",
            "100:\tlearn: 0.5464938\ttest: 0.5239551\tbest: 0.5254114 (84)\ttotal: 2.03s\tremaining: 1m 38s\n",
            "200:\tlearn: 0.5636423\ttest: 0.5264308\tbest: 0.5296345 (166)\ttotal: 4.12s\tremaining: 1m 38s\n",
            "bestTest = 0.5296344838\n",
            "bestIteration = 166\n",
            "Shrink model to first 167 iterations.\n"
          ]
        },
        {
          "output_type": "stream",
          "name": "stderr",
          "text": [
            "\u001b[32m[I 2022-01-24 11:41:51,526]\u001b[0m Trial 46 finished with value: 0.5296344837629241 and parameters: {'learning_rate': 0.18232721385483797, 'depth': 4, 'l2_leaf_reg': 0.15687009537554722, 'random_strength': 3.924939671047744, 'grow_policy': 'Lossguide', 'max_bin': 415, 'min_data_in_leaf': 15, 'bootstrap_type': 'Bayesian', 'bagging_temperature': 7.6310580915466275}. Best is trial 44 with value: 0.5361875637104995.\u001b[0m\n"
          ]
        },
        {
          "output_type": "stream",
          "name": "stdout",
          "text": [
            "0:\tlearn: 0.4987257\ttest: 0.5053153\tbest: 0.5053153 (0)\ttotal: 22.3ms\tremaining: 1m 51s\n",
            "100:\tlearn: 0.5865798\ttest: 0.5290520\tbest: 0.5382263 (62)\ttotal: 2.02s\tremaining: 1m 37s\n",
            "bestTest = 0.5382262997\n",
            "bestIteration = 62\n",
            "Shrink model to first 63 iterations.\n"
          ]
        },
        {
          "output_type": "stream",
          "name": "stderr",
          "text": [
            "\u001b[32m[I 2022-01-24 11:41:57,147]\u001b[0m Trial 47 finished with value: 0.5382262996941896 and parameters: {'learning_rate': 0.29547218456097296, 'depth': 6, 'l2_leaf_reg': 0.40202111748653485, 'random_strength': 33.967005476522594, 'grow_policy': 'SymmetricTree', 'max_bin': 377, 'min_data_in_leaf': 9, 'bootstrap_type': 'Bernoulli', 'subsample': 0.34041860031304016}. Best is trial 47 with value: 0.5382262996941896.\u001b[0m\n"
          ]
        },
        {
          "output_type": "stream",
          "name": "stdout",
          "text": [
            "0:\tlearn: 0.5010923\ttest: 0.4967235\tbest: 0.4967235 (0)\ttotal: 22.8ms\tremaining: 1m 54s\n",
            "100:\tlearn: 0.5550135\ttest: 0.5249745\tbest: 0.5270133 (97)\ttotal: 2.19s\tremaining: 1m 46s\n",
            "200:\tlearn: 0.5723804\ttest: 0.5206058\tbest: 0.5297801 (166)\ttotal: 4.33s\tremaining: 1m 43s\n",
            "300:\tlearn: 0.5905847\ttest: 0.5289064\tbest: 0.5319645 (266)\ttotal: 6.46s\tremaining: 1m 40s\n",
            "bestTest = 0.5319644677\n",
            "bestIteration = 266\n",
            "Shrink model to first 267 iterations.\n"
          ]
        },
        {
          "output_type": "stream",
          "name": "stderr",
          "text": [
            "\u001b[32m[I 2022-01-24 11:42:07,095]\u001b[0m Trial 48 finished with value: 0.5319644677442843 and parameters: {'learning_rate': 0.2991190718703116, 'depth': 5, 'l2_leaf_reg': 15.825376973648453, 'random_strength': 35.50502561620387, 'grow_policy': 'SymmetricTree', 'max_bin': 370, 'min_data_in_leaf': 7, 'bootstrap_type': 'Bayesian', 'bagging_temperature': 4.716095222953456}. Best is trial 47 with value: 0.5382262996941896.\u001b[0m\n"
          ]
        },
        {
          "output_type": "stream",
          "name": "stdout",
          "text": [
            "0:\tlearn: 0.5045147\ttest: 0.5077909\tbest: 0.5077909 (0)\ttotal: 18.1ms\tremaining: 1m 30s\n",
            "100:\tlearn: 0.5412874\ttest: 0.5213339\tbest: 0.5258483 (82)\ttotal: 1.66s\tremaining: 1m 20s\n",
            "200:\tlearn: 0.5533023\ttest: 0.5232270\tbest: 0.5286151 (148)\ttotal: 3.35s\tremaining: 1m 19s\n",
            "bestTest = 0.5286151158\n",
            "bestIteration = 148\n",
            "Shrink model to first 149 iterations.\n"
          ]
        },
        {
          "output_type": "stream",
          "name": "stderr",
          "text": [
            "\u001b[32m[I 2022-01-24 11:42:13,102]\u001b[0m Trial 49 finished with value: 0.5287607397699141 and parameters: {'learning_rate': 0.20457815367220397, 'depth': 3, 'l2_leaf_reg': 0.6537692485900841, 'random_strength': 48.45267534859222, 'grow_policy': 'Lossguide', 'max_bin': 344, 'min_data_in_leaf': 6, 'bootstrap_type': 'Bernoulli', 'subsample': 0.31034858192126935}. Best is trial 47 with value: 0.5382262996941896.\u001b[0m\n"
          ]
        }
      ]
    },
    {
      "cell_type": "code",
      "source": [
        "print(f'Best value (Accuracy): {cbred_study.best_value:.5f}')\n",
        "\n",
        "cbred_best = cbred_study.best_params\n",
        "print('Best params:')\n",
        "for key, value in cbred_best.items():\n",
        "    print(f'\\t{key}: {value}')"
      ],
      "metadata": {
        "colab": {
          "base_uri": "https://localhost:8080/"
        },
        "id": "uEZlV2_mzVS1",
        "outputId": "59ff1402-3aa2-4e06-eba9-b6ae92561528"
      },
      "execution_count": 34,
      "outputs": [
        {
          "output_type": "stream",
          "name": "stdout",
          "text": [
            "Best value (Accuracy): 0.53823\n",
            "Best params:\n",
            "\tlearning_rate: 0.29547218456097296\n",
            "\tdepth: 6\n",
            "\tl2_leaf_reg: 0.40202111748653485\n",
            "\trandom_strength: 33.967005476522594\n",
            "\tgrow_policy: SymmetricTree\n",
            "\tmax_bin: 377\n",
            "\tmin_data_in_leaf: 9\n",
            "\tbootstrap_type: Bernoulli\n",
            "\tsubsample: 0.34041860031304016\n"
          ]
        }
      ]
    },
    {
      "cell_type": "code",
      "source": [
        "model7 = CatBoostClassifier(**cb_base, **cbred_best)"
      ],
      "metadata": {
        "id": "o8SglzcLzdsx"
      },
      "execution_count": 35,
      "outputs": []
    },
    {
      "cell_type": "code",
      "source": [
        "oof_preds7, test_preds7 = custom_cross_val_predict(train_reduced, test, features, model7)"
      ],
      "metadata": {
        "colab": {
          "base_uri": "https://localhost:8080/"
        },
        "id": "tsRVm9razdsz",
        "outputId": "7967e879-d1a1-467e-b894-c86f9cf0d749"
      },
      "execution_count": 36,
      "outputs": [
        {
          "output_type": "stream",
          "name": "stdout",
          "text": [
            "----------------------------------------\n",
            "0:\tlearn: 0.5018204\ttest: 0.5022572\tbest: 0.5022572 (0)\ttotal: 23.1ms\tremaining: 1m 55s\n",
            "100:\tlearn: 0.5916406\ttest: 0.5366244\tbest: 0.5376438 (92)\ttotal: 2.15s\tremaining: 1m 44s\n",
            "200:\tlearn: 0.6387170\ttest: 0.5356051\tbest: 0.5405563 (164)\ttotal: 4.37s\tremaining: 1m 44s\n",
            "bestTest = 0.5405562837\n",
            "bestIteration = 164\n",
            "Shrink model to first 165 iterations.\n",
            "Fold #0: Accuracy = 0.54056     [Time: 7.52s]\n",
            "----------------------------------------\n",
            "0:\tlearn: 0.5017840\ttest: 0.5006553\tbest: 0.5006553 (0)\ttotal: 22.8ms\tremaining: 1m 53s\n",
            "100:\tlearn: 0.5884366\ttest: 0.5248289\tbest: 0.5283239 (63)\ttotal: 2.03s\tremaining: 1m 38s\n",
            "200:\tlearn: 0.6359863\ttest: 0.5257026\tbest: 0.5302170 (186)\ttotal: 4.21s\tremaining: 1m 40s\n",
            "300:\tlearn: 0.6707930\ttest: 0.5296345\tbest: 0.5321101 (280)\ttotal: 6.6s\tremaining: 1m 43s\n",
            "bestTest = 0.5321100917\n",
            "bestIteration = 280\n",
            "Shrink model to first 281 iterations.\n",
            "Fold #1: Accuracy = 0.53211     [Time: 9.99s]\n",
            "----------------------------------------\n",
            "0:\tlearn: 0.5120513\ttest: 0.5012378\tbest: 0.5012378 (0)\ttotal: 23.5ms\tremaining: 1m 57s\n",
            "100:\tlearn: 0.5911309\ttest: 0.5270133\tbest: 0.5294889 (65)\ttotal: 2.03s\tremaining: 1m 38s\n",
            "bestTest = 0.5294888598\n",
            "bestIteration = 65\n",
            "Shrink model to first 66 iterations.\n",
            "Fold #2: Accuracy = 0.52949     [Time: 5.06s]\n",
            "----------------------------------------\n",
            "0:\tlearn: 0.5096297\ttest: 0.5144189\tbest: 0.5144189 (0)\ttotal: 22.6ms\tremaining: 1m 52s\n",
            "100:\tlearn: 0.5940947\ttest: 0.5125255\tbest: 0.5247597 (47)\ttotal: 2.08s\tremaining: 1m 40s\n",
            "bestTest = 0.5247596854\n",
            "bestIteration = 47\n",
            "Shrink model to first 48 iterations.\n",
            "Fold #3: Accuracy = 0.52476     [Time: 4.73s]\n",
            "----------------------------------------\n",
            "0:\tlearn: 0.5099938\ttest: 0.5090300\tbest: 0.5090300 (0)\ttotal: 22.4ms\tremaining: 1m 51s\n",
            "100:\tlearn: 0.5940583\ttest: 0.5260705\tbest: 0.5281095 (82)\ttotal: 2.08s\tremaining: 1m 40s\n",
            "200:\tlearn: 0.6416063\ttest: 0.5234489\tbest: 0.5320419 (115)\ttotal: 4.59s\tremaining: 1m 49s\n",
            "bestTest = 0.5320419458\n",
            "bestIteration = 115\n",
            "Shrink model to first 116 iterations.\n",
            "Fold #4: Accuracy = 0.53204     [Time: 7.17s]\n",
            "Average accuracy = 0.53179   with std. dev. = 0.00513\n",
            "[Total time: 35.24s]\n"
          ]
        }
      ]
    },
    {
      "cell_type": "code",
      "source": [
        "sub7 = pd.read_csv(sub_url)\n",
        "sub7['season'] = test_preds7.ravel()\n",
        "sub7['season'] = sub7['season'].map(target_mapping)\n",
        "sub7.to_csv('sub7.csv', index=False)\n",
        "\n",
        "!head sub7.csv"
      ],
      "metadata": {
        "colab": {
          "base_uri": "https://localhost:8080/"
        },
        "id": "78_2tERszdsz",
        "outputId": "6e00d187-b9a3-4dae-ff56-94f337415f65"
      },
      "execution_count": 37,
      "outputs": [
        {
          "output_type": "stream",
          "name": "stdout",
          "text": [
            "season\n",
            "a\n",
            "a\n",
            "u\n",
            "a\n",
            "a\n",
            "u\n",
            "a\n",
            "u\n",
            "u\n"
          ]
        }
      ]
    }
  ]
}